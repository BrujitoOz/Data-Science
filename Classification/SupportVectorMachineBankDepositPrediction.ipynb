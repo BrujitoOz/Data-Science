{
 "cells": [
  {
   "cell_type": "markdown",
   "metadata": {},
   "source": [
    "# Máquinas de Soporte Vectorial con Validación Cruzada"
   ]
  },
  {
   "cell_type": "code",
   "execution_count": 65,
   "metadata": {},
   "outputs": [],
   "source": [
    "import pandas as pd\n",
    "import matplotlib.pyplot as plt\n",
    "import seaborn as sns\n",
    "import numpy as np\n",
    "import scipy.stats as ss\n",
    "from sklearn.model_selection import train_test_split, cross_val_score, GridSearchCV\n",
    "from sklearn.svm import SVC\n",
    "from sklearn.metrics import confusion_matrix, ConfusionMatrixDisplay, roc_curve, auc, classification_report\n",
    "from sklearn.preprocessing import StandardScaler, LabelEncoder"
   ]
  },
  {
   "cell_type": "code",
   "execution_count": 11,
   "metadata": {},
   "outputs": [
    {
     "data": {
      "text/html": [
       "<div>\n",
       "<style scoped>\n",
       "    .dataframe tbody tr th:only-of-type {\n",
       "        vertical-align: middle;\n",
       "    }\n",
       "\n",
       "    .dataframe tbody tr th {\n",
       "        vertical-align: top;\n",
       "    }\n",
       "\n",
       "    .dataframe thead th {\n",
       "        text-align: right;\n",
       "    }\n",
       "</style>\n",
       "<table border=\"1\" class=\"dataframe\">\n",
       "  <thead>\n",
       "    <tr style=\"text-align: right;\">\n",
       "      <th></th>\n",
       "      <th>idcliente</th>\n",
       "      <th>duration</th>\n",
       "      <th>previous</th>\n",
       "      <th>housing</th>\n",
       "      <th>campaign</th>\n",
       "      <th>loan</th>\n",
       "      <th>default</th>\n",
       "      <th>target</th>\n",
       "      <th>muestra</th>\n",
       "    </tr>\n",
       "  </thead>\n",
       "  <tbody>\n",
       "    <tr>\n",
       "      <th>0</th>\n",
       "      <td>1</td>\n",
       "      <td>261</td>\n",
       "      <td>0</td>\n",
       "      <td>1</td>\n",
       "      <td>1</td>\n",
       "      <td>0</td>\n",
       "      <td>0</td>\n",
       "      <td>0</td>\n",
       "      <td>1</td>\n",
       "    </tr>\n",
       "    <tr>\n",
       "      <th>1</th>\n",
       "      <td>2</td>\n",
       "      <td>50</td>\n",
       "      <td>0</td>\n",
       "      <td>1</td>\n",
       "      <td>1</td>\n",
       "      <td>0</td>\n",
       "      <td>0</td>\n",
       "      <td>0</td>\n",
       "      <td>1</td>\n",
       "    </tr>\n",
       "    <tr>\n",
       "      <th>2</th>\n",
       "      <td>3</td>\n",
       "      <td>1492</td>\n",
       "      <td>0</td>\n",
       "      <td>1</td>\n",
       "      <td>1</td>\n",
       "      <td>0</td>\n",
       "      <td>0</td>\n",
       "      <td>0</td>\n",
       "      <td>1</td>\n",
       "    </tr>\n",
       "    <tr>\n",
       "      <th>3</th>\n",
       "      <td>4</td>\n",
       "      <td>104</td>\n",
       "      <td>0</td>\n",
       "      <td>1</td>\n",
       "      <td>1</td>\n",
       "      <td>0</td>\n",
       "      <td>0</td>\n",
       "      <td>0</td>\n",
       "      <td>1</td>\n",
       "    </tr>\n",
       "    <tr>\n",
       "      <th>4</th>\n",
       "      <td>5</td>\n",
       "      <td>13</td>\n",
       "      <td>0</td>\n",
       "      <td>1</td>\n",
       "      <td>1</td>\n",
       "      <td>0</td>\n",
       "      <td>0</td>\n",
       "      <td>0</td>\n",
       "      <td>1</td>\n",
       "    </tr>\n",
       "  </tbody>\n",
       "</table>\n",
       "</div>"
      ],
      "text/plain": [
       "   idcliente  duration  previous  housing  campaign  loan  default  target  \\\n",
       "0          1       261         0        1         1     0        0       0   \n",
       "1          2        50         0        1         1     0        0       0   \n",
       "2          3      1492         0        1         1     0        0       0   \n",
       "3          4       104         0        1         1     0        0       0   \n",
       "4          5        13         0        1         1     0        0       0   \n",
       "\n",
       "   muestra  \n",
       "0        1  \n",
       "1        1  \n",
       "2        1  \n",
       "3        1  \n",
       "4        1  "
      ]
     },
     "execution_count": 11,
     "metadata": {},
     "output_type": "execute_result"
    }
   ],
   "source": [
    "data = pd.read_csv('../Datasets/bank_deposit.csv')\n",
    "data.head(5)"
   ]
  },
  {
   "cell_type": "code",
   "execution_count": 12,
   "metadata": {},
   "outputs": [
    {
     "data": {
      "text/plain": [
       "idcliente    int64\n",
       "duration     int64\n",
       "previous     int64\n",
       "housing      int64\n",
       "campaign     int64\n",
       "loan         int64\n",
       "default      int64\n",
       "target       int64\n",
       "muestra      int64\n",
       "dtype: object"
      ]
     },
     "execution_count": 12,
     "metadata": {},
     "output_type": "execute_result"
    }
   ],
   "source": [
    "data.dtypes"
   ]
  },
  {
   "cell_type": "code",
   "execution_count": 13,
   "metadata": {},
   "outputs": [],
   "source": [
    "data['housing'] = data['housing'].astype(object)\n",
    "data['loan'] = data['loan'].astype(object)\n",
    "data['default'] = data['default'].astype(object)"
   ]
  },
  {
   "cell_type": "markdown",
   "metadata": {},
   "source": [
    "El area de riesgo filtra los usuarios con ['default'] debido a que no pagan -> El problema de la cartera pesada/morosa"
   ]
  },
  {
   "cell_type": "code",
   "execution_count": 14,
   "metadata": {
    "scrolled": true
   },
   "outputs": [
    {
     "data": {
      "text/plain": [
       "idcliente     int64\n",
       "duration      int64\n",
       "previous      int64\n",
       "housing      object\n",
       "campaign      int64\n",
       "loan         object\n",
       "default      object\n",
       "target        int64\n",
       "muestra       int64\n",
       "dtype: object"
      ]
     },
     "execution_count": 14,
     "metadata": {},
     "output_type": "execute_result"
    }
   ],
   "source": [
    "data.dtypes"
   ]
  },
  {
   "cell_type": "code",
   "execution_count": 15,
   "metadata": {
    "scrolled": true
   },
   "outputs": [],
   "source": [
    "data['c_housing'] = LabelEncoder().fit_transform(data.housing.values)\n",
    "data['c_loan'] = LabelEncoder().fit_transform(data.loan.values)\n",
    "data['c_default'] = LabelEncoder().fit_transform(data.default.values)"
   ]
  },
  {
   "cell_type": "code",
   "execution_count": 16,
   "metadata": {},
   "outputs": [
    {
     "data": {
      "text/html": [
       "<div>\n",
       "<style scoped>\n",
       "    .dataframe tbody tr th:only-of-type {\n",
       "        vertical-align: middle;\n",
       "    }\n",
       "\n",
       "    .dataframe tbody tr th {\n",
       "        vertical-align: top;\n",
       "    }\n",
       "\n",
       "    .dataframe thead th {\n",
       "        text-align: right;\n",
       "    }\n",
       "</style>\n",
       "<table border=\"1\" class=\"dataframe\">\n",
       "  <thead>\n",
       "    <tr style=\"text-align: right;\">\n",
       "      <th></th>\n",
       "      <th>idcliente</th>\n",
       "      <th>duration</th>\n",
       "      <th>previous</th>\n",
       "      <th>housing</th>\n",
       "      <th>campaign</th>\n",
       "      <th>loan</th>\n",
       "      <th>default</th>\n",
       "      <th>target</th>\n",
       "      <th>muestra</th>\n",
       "      <th>c_housing</th>\n",
       "      <th>c_loan</th>\n",
       "      <th>c_default</th>\n",
       "    </tr>\n",
       "  </thead>\n",
       "  <tbody>\n",
       "    <tr>\n",
       "      <th>0</th>\n",
       "      <td>1</td>\n",
       "      <td>261</td>\n",
       "      <td>0</td>\n",
       "      <td>1</td>\n",
       "      <td>1</td>\n",
       "      <td>0</td>\n",
       "      <td>0</td>\n",
       "      <td>0</td>\n",
       "      <td>1</td>\n",
       "      <td>1</td>\n",
       "      <td>0</td>\n",
       "      <td>0</td>\n",
       "    </tr>\n",
       "    <tr>\n",
       "      <th>1</th>\n",
       "      <td>2</td>\n",
       "      <td>50</td>\n",
       "      <td>0</td>\n",
       "      <td>1</td>\n",
       "      <td>1</td>\n",
       "      <td>0</td>\n",
       "      <td>0</td>\n",
       "      <td>0</td>\n",
       "      <td>1</td>\n",
       "      <td>1</td>\n",
       "      <td>0</td>\n",
       "      <td>0</td>\n",
       "    </tr>\n",
       "    <tr>\n",
       "      <th>2</th>\n",
       "      <td>3</td>\n",
       "      <td>1492</td>\n",
       "      <td>0</td>\n",
       "      <td>1</td>\n",
       "      <td>1</td>\n",
       "      <td>0</td>\n",
       "      <td>0</td>\n",
       "      <td>0</td>\n",
       "      <td>1</td>\n",
       "      <td>1</td>\n",
       "      <td>0</td>\n",
       "      <td>0</td>\n",
       "    </tr>\n",
       "    <tr>\n",
       "      <th>3</th>\n",
       "      <td>4</td>\n",
       "      <td>104</td>\n",
       "      <td>0</td>\n",
       "      <td>1</td>\n",
       "      <td>1</td>\n",
       "      <td>0</td>\n",
       "      <td>0</td>\n",
       "      <td>0</td>\n",
       "      <td>1</td>\n",
       "      <td>1</td>\n",
       "      <td>0</td>\n",
       "      <td>0</td>\n",
       "    </tr>\n",
       "    <tr>\n",
       "      <th>4</th>\n",
       "      <td>5</td>\n",
       "      <td>13</td>\n",
       "      <td>0</td>\n",
       "      <td>1</td>\n",
       "      <td>1</td>\n",
       "      <td>0</td>\n",
       "      <td>0</td>\n",
       "      <td>0</td>\n",
       "      <td>1</td>\n",
       "      <td>1</td>\n",
       "      <td>0</td>\n",
       "      <td>0</td>\n",
       "    </tr>\n",
       "  </tbody>\n",
       "</table>\n",
       "</div>"
      ],
      "text/plain": [
       "   idcliente  duration  previous housing  campaign loan default  target  \\\n",
       "0          1       261         0       1         1    0       0       0   \n",
       "1          2        50         0       1         1    0       0       0   \n",
       "2          3      1492         0       1         1    0       0       0   \n",
       "3          4       104         0       1         1    0       0       0   \n",
       "4          5        13         0       1         1    0       0       0   \n",
       "\n",
       "   muestra  c_housing  c_loan  c_default  \n",
       "0        1          1       0          0  \n",
       "1        1          1       0          0  \n",
       "2        1          1       0          0  \n",
       "3        1          1       0          0  \n",
       "4        1          1       0          0  "
      ]
     },
     "execution_count": 16,
     "metadata": {},
     "output_type": "execute_result"
    }
   ],
   "source": [
    "data.head(5)"
   ]
  },
  {
   "cell_type": "markdown",
   "metadata": {},
   "source": [
    "Prueba de normalidad\n",
    "* Ho: la variable se aproxima a una distribución normal\n",
    "* Ha: la variable no se aproxima a una distribución normal"
   ]
  },
  {
   "cell_type": "code",
   "execution_count": 61,
   "metadata": {},
   "outputs": [
    {
     "name": "stdout",
     "output_type": "stream",
     "text": [
      "Prueba de normalidad para la variable duration:\n",
      "Estadístico de prueba: 0.81\n",
      "P-valor: 0.00\n",
      "La hipótesis nula (Ho) se rechaza.\n",
      "La variable no se aproxima a una distribución normal.\n",
      "\n",
      "Prueba de normalidad para la variable previous:\n",
      "Estadístico de prueba: 0.41\n",
      "P-valor: 0.00\n",
      "La hipótesis nula (Ho) se rechaza.\n",
      "La variable no se aproxima a una distribución normal.\n",
      "\n",
      "Prueba de normalidad para la variable campaign:\n",
      "Estadístico de prueba: 0.56\n",
      "P-valor: 0.00\n",
      "La hipótesis nula (Ho) se rechaza.\n",
      "La variable no se aproxima a una distribución normal.\n",
      "\n"
     ]
    },
    {
     "name": "stderr",
     "output_type": "stream",
     "text": [
      "c:\\Users\\User\\AppData\\Local\\Programs\\Python\\Python311\\Lib\\site-packages\\scipy\\stats\\_morestats.py:1816: UserWarning: p-value may not be accurate for N > 5000.\n",
      "  warnings.warn(\"p-value may not be accurate for N > 5000.\")\n"
     ]
    }
   ],
   "source": [
    "variables = ['duration', 'previous', 'campaign']\n",
    "alpha = 0.05\n",
    "for var in variables:\n",
    "    stat, p_value = ss.shapiro(data[var])\n",
    "    \n",
    "    print(f'Prueba de normalidad para la variable {var}:')\n",
    "    print(f'Estadístico de prueba: {stat:.2f}')\n",
    "    print(f'P-valor: {p_value:.2f}')\n",
    "    \n",
    "    if p_value < alpha:\n",
    "        print('La hipótesis nula (Ho) se rechaza.')\n",
    "        print('La variable no se aproxima a una distribución normal.')\n",
    "    else:\n",
    "        print('La hipótesis nula (Ho) no se rechaza.')\n",
    "        print('La variable se aproxima a una distribución normal.')\n",
    "    print()"
   ]
  },
  {
   "cell_type": "markdown",
   "metadata": {},
   "source": [
    "Prueba de Correlación\n",
    "* Ho: no existe correlación entre las variables\n",
    "* Ha: existe correlación entre las variables"
   ]
  },
  {
   "cell_type": "code",
   "execution_count": 62,
   "metadata": {},
   "outputs": [
    {
     "data": {
      "text/plain": [
       "<Axes: >"
      ]
     },
     "execution_count": 62,
     "metadata": {},
     "output_type": "execute_result"
    },
    {
     "data": {
      "image/png": "[encoded data removed]",
      "text/plain": [
       "<Figure size 640x480 with 2 Axes>"
      ]
     },
     "metadata": {},
     "output_type": "display_data"
    }
   ],
   "source": [
    "sns.heatmap(data.loc[:,['duration','previous','campaign']].corr())"
   ]
  },
  {
   "cell_type": "code",
   "execution_count": 64,
   "metadata": {},
   "outputs": [
    {
     "data": {
      "text/html": [
       "<div>\n",
       "<style scoped>\n",
       "    .dataframe tbody tr th:only-of-type {\n",
       "        vertical-align: middle;\n",
       "    }\n",
       "\n",
       "    .dataframe tbody tr th {\n",
       "        vertical-align: top;\n",
       "    }\n",
       "\n",
       "    .dataframe thead th {\n",
       "        text-align: right;\n",
       "    }\n",
       "</style>\n",
       "<table border=\"1\" class=\"dataframe\">\n",
       "  <thead>\n",
       "    <tr style=\"text-align: right;\">\n",
       "      <th></th>\n",
       "      <th>duration</th>\n",
       "      <th>previous</th>\n",
       "      <th>campaign</th>\n",
       "    </tr>\n",
       "  </thead>\n",
       "  <tbody>\n",
       "    <tr>\n",
       "      <th>duration</th>\n",
       "      <td>1.000000</td>\n",
       "      <td>0.007392</td>\n",
       "      <td>-0.045111</td>\n",
       "    </tr>\n",
       "    <tr>\n",
       "      <th>previous</th>\n",
       "      <td>0.007392</td>\n",
       "      <td>1.000000</td>\n",
       "      <td>-0.133380</td>\n",
       "    </tr>\n",
       "    <tr>\n",
       "      <th>campaign</th>\n",
       "      <td>-0.045111</td>\n",
       "      <td>-0.133380</td>\n",
       "      <td>1.000000</td>\n",
       "    </tr>\n",
       "  </tbody>\n",
       "</table>\n",
       "</div>"
      ],
      "text/plain": [
       "          duration  previous  campaign\n",
       "duration  1.000000  0.007392 -0.045111\n",
       "previous  0.007392  1.000000 -0.133380\n",
       "campaign -0.045111 -0.133380  1.000000"
      ]
     },
     "execution_count": 64,
     "metadata": {},
     "output_type": "execute_result"
    }
   ],
   "source": [
    "data.loc[:,['duration','previous','campaign']].corr(method = \"spearman\")"
   ]
  },
  {
   "cell_type": "code",
   "execution_count": 63,
   "metadata": {},
   "outputs": [
    {
     "name": "stdout",
     "output_type": "stream",
     "text": [
      "Correlación entre duration y previous:\n",
      "Coeficiente de correlación de spearmanr: 0.01\n",
      "P-valor: 0.45\n",
      "La hipótesis nula (Ho) no se rechaza.\n",
      "No existe correlación entre las variables.\n",
      "\n",
      "Correlación entre duration y campaign:\n",
      "Coeficiente de correlación de spearmanr: -0.05\n",
      "P-valor: 0.00\n",
      "La hipótesis nula (Ho) se rechaza.\n",
      "Existe correlación entre las variables.\n",
      "\n",
      "Correlación entre previous y campaign:\n",
      "Coeficiente de correlación de spearmanr: -0.13\n",
      "P-valor: 0.00\n",
      "La hipótesis nula (Ho) se rechaza.\n",
      "Existe correlación entre las variables.\n",
      "\n"
     ]
    }
   ],
   "source": [
    "variables = ['duration', 'previous', 'campaign']\n",
    "alpha = 0.05\n",
    "method = \"spearmanr\"\n",
    "for i in range(len(variables)):\n",
    "    for j in range(i+1, len(variables)):\n",
    "        var1 = variables[i]\n",
    "        var2 = variables[j]\n",
    "        # para data no distribuida normalmente\n",
    "        if method == \"spearmanr\": \n",
    "            correlation, p_value = ss.spearmanr(data[var1], data[var2])\n",
    "            \n",
    "        # para data no distribuida normalmente - preferido sobre spearman\n",
    "        elif method == \"kendall\":\n",
    "            correlation, p_value = ss.kendalltau(data[var1], data[var2])\n",
    "            \n",
    "        # para data distribuida normalmente\n",
    "        elif method == \"pearsonr\":\n",
    "            correlation, p_value = ss.pearsonr(data[var1], data[var2])\n",
    "\n",
    "        \n",
    "        print(f'Correlación entre {var1} y {var2}:')\n",
    "        print(f'Coeficiente de correlación de {method}: {correlation:.2f}')\n",
    "        print(f'P-valor: {p_value:.2f}')\n",
    "        \n",
    "        if p_value < alpha:\n",
    "            print('La hipótesis nula (Ho) se rechaza.')\n",
    "            print('Existe correlación entre las variables.')\n",
    "        else:\n",
    "            print('La hipótesis nula (Ho) no se rechaza.')\n",
    "            print('No existe correlación entre las variables.')\n",
    "        print()"
   ]
  },
  {
   "cell_type": "code",
   "execution_count": 29,
   "metadata": {
    "scrolled": false
   },
   "outputs": [
    {
     "data": {
      "text/plain": [
       "target\n",
       "0    5289\n",
       "1    5289\n",
       "Name: count, dtype: int64"
      ]
     },
     "execution_count": 29,
     "metadata": {},
     "output_type": "execute_result"
    }
   ],
   "source": [
    "data.target.value_counts()"
   ]
  },
  {
   "cell_type": "code",
   "execution_count": 30,
   "metadata": {
    "scrolled": true
   },
   "outputs": [
    {
     "data": {
      "text/plain": [
       "target\n",
       "0    50.0\n",
       "1    50.0\n",
       "Name: proportion, dtype: float64"
      ]
     },
     "execution_count": 30,
     "metadata": {},
     "output_type": "execute_result"
    }
   ],
   "source": [
    "100*data['target'].value_counts(normalize=True)"
   ]
  },
  {
   "cell_type": "code",
   "execution_count": 31,
   "metadata": {
    "scrolled": true
   },
   "outputs": [
    {
     "data": {
      "image/png": "[encoded data removed]",
      "text/plain": [
       "<Figure size 640x480 with 1 Axes>"
      ]
     },
     "metadata": {},
     "output_type": "display_data"
    }
   ],
   "source": [
    "sns.countplot(data = data, x = 'target')\n",
    "plt.xlabel('target', fontsize = 15)\n",
    "plt.title('¿Cuántos usuarios han aceptado la campaña de depósito a plazo?', fontsize = 15)\n",
    "plt.show()"
   ]
  },
  {
   "cell_type": "code",
   "execution_count": 32,
   "metadata": {
    "scrolled": false
   },
   "outputs": [
    {
     "data": {
      "image/png": "[encoded data removed]",
      "text/plain": [
       "<Figure size 640x480 with 1 Axes>"
      ]
     },
     "metadata": {},
     "output_type": "display_data"
    }
   ],
   "source": [
    "sns.boxplot(x='target',y='duration',data=data)"
   ]
  },
  {
   "cell_type": "code",
   "execution_count": 33,
   "metadata": {
    "scrolled": true
   },
   "outputs": [
    {
     "data": {
      "image/png": "[encoded data removed]",
      "text/plain": [
       "<Figure size 640x480 with 1 Axes>"
      ]
     },
     "metadata": {},
     "output_type": "display_data"
    }
   ],
   "source": [
    "sns.boxplot(x='target',y='previous',data=data)"
   ]
  },
  {
   "cell_type": "code",
   "execution_count": 34,
   "metadata": {
    "scrolled": false
   },
   "outputs": [
    {
     "data": {
      "image/png": "[encoded data removed]",
      "text/plain": [
       "<Figure size 640x480 with 1 Axes>"
      ]
     },
     "metadata": {},
     "output_type": "display_data"
    }
   ],
   "source": [
    "sns.boxplot(x='target',y='campaign',data=data)"
   ]
  },
  {
   "cell_type": "code",
   "execution_count": 35,
   "metadata": {
    "scrolled": true
   },
   "outputs": [
    {
     "name": "stdout",
     "output_type": "stream",
     "text": [
      "housing     0     1\n",
      "target             \n",
      "0        2176  3113\n",
      "1        3354  1935\n"
     ]
    },
    {
     "data": {
      "image/png": "[encoded data removed]",
      "text/plain": [
       "<Figure size 400x400 with 1 Axes>"
      ]
     },
     "metadata": {},
     "output_type": "display_data"
    }
   ],
   "source": [
    "print(pd.crosstab(data[\"target\"],data[\"housing\"]))\n",
    "t = pd.crosstab(data[\"target\"],data[\"housing\"])\n",
    "t.div(t.sum(1).astype(float),axis=0).plot(kind=\"bar\",stacked=True,figsize=(4,4))\n",
    "plt.xlabel(\"target\")\n",
    "plt.ylabel(\"Percentage\")\n",
    "plt.show()"
   ]
  },
  {
   "cell_type": "code",
   "execution_count": 36,
   "metadata": {
    "scrolled": true
   },
   "outputs": [
    {
     "name": "stdout",
     "output_type": "stream",
     "text": [
      "loan       0    1\n",
      "target           \n",
      "0       4359  930\n",
      "1       4805  484\n"
     ]
    },
    {
     "data": {
      "image/png": "[encoded data removed]",
      "text/plain": [
       "<Figure size 400x400 with 1 Axes>"
      ]
     },
     "metadata": {},
     "output_type": "display_data"
    }
   ],
   "source": [
    "print(pd.crosstab(data[\"target\"],data[\"loan\"]))\n",
    "t = pd.crosstab(data[\"target\"],data[\"loan\"])\n",
    "t.div(t.sum(1).astype(float),axis=0).plot(kind=\"bar\",stacked=True,figsize=(4,4))\n",
    "plt.xlabel(\"target\")\n",
    "plt.ylabel(\"Percentage\")\n",
    "plt.show()"
   ]
  },
  {
   "cell_type": "code",
   "execution_count": 37,
   "metadata": {
    "scrolled": true
   },
   "outputs": [
    {
     "name": "stdout",
     "output_type": "stream",
     "text": [
      "default     0   1\n",
      "target           \n",
      "0        5202  87\n",
      "1        5237  52\n"
     ]
    },
    {
     "data": {
      "image/png": "[encoded data removed]",
      "text/plain": [
       "<Figure size 400x400 with 1 Axes>"
      ]
     },
     "metadata": {},
     "output_type": "display_data"
    }
   ],
   "source": [
    "print(pd.crosstab(data[\"target\"],data[\"default\"]))\n",
    "t = pd.crosstab(data[\"target\"],data[\"default\"])\n",
    "t.div(t.sum(1).astype(float),axis=0).plot(kind=\"bar\",stacked=True,figsize=(4,4))\n",
    "plt.xlabel(\"target\")\n",
    "plt.ylabel(\"Percentage\")\n",
    "plt.show()"
   ]
  },
  {
   "cell_type": "markdown",
   "metadata": {},
   "source": [
    "Prueba Chi-Cuadrado\n",
    "* Ho: no existe dependencia entre las variables\n",
    "* Ha: existe dependencia entre las variables"
   ]
  },
  {
   "cell_type": "code",
   "execution_count": 38,
   "metadata": {},
   "outputs": [
    {
     "name": "stdout",
     "output_type": "stream",
     "text": [
      "Prueba Chi-Cuadrado entre target y housing:\n",
      "Estadístico Chi-Cuadrado: 524.94\n",
      "P-valor: 0.00\n",
      "La hipótesis nula (Ho) se rechaza.\n",
      "Existe dependencia entre las variables.\n",
      "\n",
      "Prueba Chi-Cuadrado entre target y loan:\n",
      "Estadístico Chi-Cuadrado: 161.65\n",
      "P-valor: 0.00\n",
      "La hipótesis nula (Ho) se rechaza.\n",
      "Existe dependencia entre las variables.\n",
      "\n",
      "Prueba Chi-Cuadrado entre target y default:\n",
      "Estadístico Chi-Cuadrado: 8.43\n",
      "P-valor: 0.00\n",
      "La hipótesis nula (Ho) se rechaza.\n",
      "Existe dependencia entre las variables.\n",
      "\n",
      "Prueba Chi-Cuadrado entre housing y loan:\n",
      "Estadístico Chi-Cuadrado: 98.74\n",
      "P-valor: 0.00\n",
      "La hipótesis nula (Ho) se rechaza.\n",
      "Existe dependencia entre las variables.\n",
      "\n",
      "Prueba Chi-Cuadrado entre housing y default:\n",
      "Estadístico Chi-Cuadrado: 1.95\n",
      "P-valor: 0.16\n",
      "La hipótesis nula (Ho) no se rechaza.\n",
      "No existe dependencia entre las variables.\n",
      "\n",
      "Prueba Chi-Cuadrado entre loan y default:\n",
      "Estadístico Chi-Cuadrado: 39.09\n",
      "P-valor: 0.00\n",
      "La hipótesis nula (Ho) se rechaza.\n",
      "Existe dependencia entre las variables.\n",
      "\n"
     ]
    }
   ],
   "source": [
    "variables = ['target', 'housing', 'loan', 'default']\n",
    "alpha = 0.05\n",
    "for i in range(len(variables)):\n",
    "    for j in range(i+1, len(variables)):\n",
    "        var1 = variables[i]\n",
    "        var2 = variables[j]\n",
    "        \n",
    "        contingency_table = pd.crosstab(data[var1], data[var2])\n",
    "        chi2, p_value, dof, expected = ss.chi2_contingency(contingency_table)\n",
    "        \n",
    "        print(f'Prueba Chi-Cuadrado entre {var1} y {var2}:')\n",
    "        print(f'Estadístico Chi-Cuadrado: {chi2:.2f}')\n",
    "        print(f'P-valor: {p_value:.2f}')\n",
    "        \n",
    "        if p_value < alpha:\n",
    "            print('La hipótesis nula (Ho) se rechaza.')\n",
    "            print('Existe dependencia entre las variables.')\n",
    "        else:\n",
    "            print('La hipótesis nula (Ho) no se rechaza.')\n",
    "            print('No existe dependencia entre las variables.')\n",
    "        print()"
   ]
  },
  {
   "cell_type": "code",
   "execution_count": 39,
   "metadata": {},
   "outputs": [],
   "source": [
    "X = data[['c_housing','c_loan','c_default','duration','previous','campaign']]\n",
    "y = data['target']"
   ]
  },
  {
   "cell_type": "code",
   "execution_count": 40,
   "metadata": {},
   "outputs": [
    {
     "data": {
      "text/plain": [
       "array([[   1,    0,    0,  261,    0,    1],\n",
       "       [   1,    0,    0,   50,    0,    1],\n",
       "       [   1,    0,    0, 1492,    0,    1],\n",
       "       [   1,    0,    0,  104,    0,    1],\n",
       "       [   1,    0,    0,   13,    0,    1]], dtype=int64)"
      ]
     },
     "execution_count": 40,
     "metadata": {},
     "output_type": "execute_result"
    }
   ],
   "source": [
    "X = X.to_numpy()\n",
    "X[0:5]"
   ]
  },
  {
   "cell_type": "code",
   "execution_count": 41,
   "metadata": {},
   "outputs": [
    {
     "data": {
      "text/plain": [
       "array([0, 0, 0, 0, 0], dtype=int64)"
      ]
     },
     "execution_count": 41,
     "metadata": {},
     "output_type": "execute_result"
    }
   ],
   "source": [
    "y = y.to_numpy()\n",
    "y[0:5]"
   ]
  },
  {
   "cell_type": "code",
   "execution_count": 42,
   "metadata": {},
   "outputs": [],
   "source": [
    "X_train, X_test, y_train, y_test = train_test_split(X, y, test_size = 0.20, random_state = 0)"
   ]
  },
  {
   "cell_type": "code",
   "execution_count": 43,
   "metadata": {},
   "outputs": [],
   "source": [
    "transformer = StandardScaler()\n",
    "X_train = transformer.fit_transform(X_train)\n",
    "X_test = transformer.transform(X_test)"
   ]
  },
  {
   "cell_type": "code",
   "execution_count": 44,
   "metadata": {},
   "outputs": [
    {
     "data": {
      "text/plain": [
       "array([0.76845836, 0.79149439, 0.78073286, 0.79787234, 0.78250591])"
      ]
     },
     "execution_count": 44,
     "metadata": {},
     "output_type": "execute_result"
    }
   ],
   "source": [
    "cv_scores = cross_val_score(SVC(kernel='linear',probability=True),X_train,y_train,cv=5)\n",
    "cv_scores"
   ]
  },
  {
   "cell_type": "code",
   "execution_count": 45,
   "metadata": {},
   "outputs": [
    {
     "name": "stdout",
     "output_type": "stream",
     "text": [
      "cv_scores mean:0.7842127715429547\n",
      "cv_scores std:0.010028264797122786\n"
     ]
    }
   ],
   "source": [
    "print(\"cv_scores mean:{}\".format(np.mean(cv_scores)))\n",
    "print(\"cv_scores std:{}\".format(np.std(cv_scores)))"
   ]
  },
  {
   "cell_type": "markdown",
   "metadata": {},
   "source": [
    "Tuning\n",
    "* C: Controla la penalización por errores de clasificación\n",
    "* gamma: Controla la influencia de un solo ejemplo de entrenamiento\n",
    "* kernel: Define el tipo de función kernel a utilizar en el algoritmo SVM"
   ]
  },
  {
   "cell_type": "code",
   "execution_count": 47,
   "metadata": {
    "scrolled": true
   },
   "outputs": [
    {
     "name": "stdout",
     "output_type": "stream",
     "text": [
      "Fitting 5 folds for each of 64 candidates, totalling 320 fits\n"
     ]
    },
    {
     "data": {
      "text/html": [
       "<style>#sk-container-id-1 {color: black;background-color: white;}#sk-container-id-1 pre{padding: 0;}#sk-container-id-1 div.sk-toggleable {background-color: white;}#sk-container-id-1 label.sk-toggleable__label {cursor: pointer;display: block;width: 100%;margin-bottom: 0;padding: 0.3em;box-sizing: border-box;text-align: center;}#sk-container-id-1 label.sk-toggleable__label-arrow:before {content: \"▸\";float: left;margin-right: 0.25em;color: #696969;}#sk-container-id-1 label.sk-toggleable__label-arrow:hover:before {color: black;}#sk-container-id-1 div.sk-estimator:hover label.sk-toggleable__label-arrow:before {color: black;}#sk-container-id-1 div.sk-toggleable__content {max-height: 0;max-width: 0;overflow: hidden;text-align: left;background-color: #f0f8ff;}#sk-container-id-1 div.sk-toggleable__content pre {margin: 0.2em;color: black;border-radius: 0.25em;background-color: #f0f8ff;}#sk-container-id-1 input.sk-toggleable__control:checked~div.sk-toggleable__content {max-height: 200px;max-width: 100%;overflow: auto;}#sk-container-id-1 input.sk-toggleable__control:checked~label.sk-toggleable__label-arrow:before {content: \"▾\";}#sk-container-id-1 div.sk-estimator input.sk-toggleable__control:checked~label.sk-toggleable__label {background-color: #d4ebff;}#sk-container-id-1 div.sk-label input.sk-toggleable__control:checked~label.sk-toggleable__label {background-color: #d4ebff;}#sk-container-id-1 input.sk-hidden--visually {border: 0;clip: rect(1px 1px 1px 1px);clip: rect(1px, 1px, 1px, 1px);height: 1px;margin: -1px;overflow: hidden;padding: 0;position: absolute;width: 1px;}#sk-container-id-1 div.sk-estimator {font-family: monospace;background-color: #f0f8ff;border: 1px dotted black;border-radius: 0.25em;box-sizing: border-box;margin-bottom: 0.5em;}#sk-container-id-1 div.sk-estimator:hover {background-color: #d4ebff;}#sk-container-id-1 div.sk-parallel-item::after {content: \"\";width: 100%;border-bottom: 1px solid gray;flex-grow: 1;}#sk-container-id-1 div.sk-label:hover label.sk-toggleable__label {background-color: #d4ebff;}#sk-container-id-1 div.sk-serial::before {content: \"\";position: absolute;border-left: 1px solid gray;box-sizing: border-box;top: 0;bottom: 0;left: 50%;z-index: 0;}#sk-container-id-1 div.sk-serial {display: flex;flex-direction: column;align-items: center;background-color: white;padding-right: 0.2em;padding-left: 0.2em;position: relative;}#sk-container-id-1 div.sk-item {position: relative;z-index: 1;}#sk-container-id-1 div.sk-parallel {display: flex;align-items: stretch;justify-content: center;background-color: white;position: relative;}#sk-container-id-1 div.sk-item::before, #sk-container-id-1 div.sk-parallel-item::before {content: \"\";position: absolute;border-left: 1px solid gray;box-sizing: border-box;top: 0;bottom: 0;left: 50%;z-index: -1;}#sk-container-id-1 div.sk-parallel-item {display: flex;flex-direction: column;z-index: 1;position: relative;background-color: white;}#sk-container-id-1 div.sk-parallel-item:first-child::after {align-self: flex-end;width: 50%;}#sk-container-id-1 div.sk-parallel-item:last-child::after {align-self: flex-start;width: 50%;}#sk-container-id-1 div.sk-parallel-item:only-child::after {width: 0;}#sk-container-id-1 div.sk-dashed-wrapped {border: 1px dashed gray;margin: 0 0.4em 0.5em 0.4em;box-sizing: border-box;padding-bottom: 0.4em;background-color: white;}#sk-container-id-1 div.sk-label label {font-family: monospace;font-weight: bold;display: inline-block;line-height: 1.2em;}#sk-container-id-1 div.sk-label-container {text-align: center;}#sk-container-id-1 div.sk-container {/* jupyter's `normalize.less` sets `[hidden] { display: none; }` but bootstrap.min.css set `[hidden] { display: none !important; }` so we also need the `!important` here to be able to override the default hidden behavior on the sphinx rendered scikit-learn.org. See: https://github.com/scikit-learn/scikit-learn/issues/21755 */display: inline-block !important;position: relative;}#sk-container-id-1 div.sk-text-repr-fallback {display: none;}</style><div id=\"sk-container-id-1\" class=\"sk-top-container\"><div class=\"sk-text-repr-fallback\"><pre>GridSearchCV(cv=5, estimator=SVC(), n_jobs=-1,\n",
       "             param_grid={&#x27;C&#x27;: [0.1, 1, 10, 100], &#x27;gamma&#x27;: [1, 0.1, 0.01, 0.001],\n",
       "                         &#x27;kernel&#x27;: [&#x27;linear&#x27;, &#x27;poly&#x27;, &#x27;rbf&#x27;, &#x27;sigmoid&#x27;]},\n",
       "             verbose=2)</pre><b>In a Jupyter environment, please rerun this cell to show the HTML representation or trust the notebook. <br />On GitHub, the HTML representation is unable to render, please try loading this page with nbviewer.org.</b></div><div class=\"sk-container\" hidden><div class=\"sk-item sk-dashed-wrapped\"><div class=\"sk-label-container\"><div class=\"sk-label sk-toggleable\"><input class=\"sk-toggleable__control sk-hidden--visually\" id=\"sk-estimator-id-1\" type=\"checkbox\" ><label for=\"sk-estimator-id-1\" class=\"sk-toggleable__label sk-toggleable__label-arrow\">GridSearchCV</label><div class=\"sk-toggleable__content\"><pre>GridSearchCV(cv=5, estimator=SVC(), n_jobs=-1,\n",
       "             param_grid={&#x27;C&#x27;: [0.1, 1, 10, 100], &#x27;gamma&#x27;: [1, 0.1, 0.01, 0.001],\n",
       "                         &#x27;kernel&#x27;: [&#x27;linear&#x27;, &#x27;poly&#x27;, &#x27;rbf&#x27;, &#x27;sigmoid&#x27;]},\n",
       "             verbose=2)</pre></div></div></div><div class=\"sk-parallel\"><div class=\"sk-parallel-item\"><div class=\"sk-item\"><div class=\"sk-label-container\"><div class=\"sk-label sk-toggleable\"><input class=\"sk-toggleable__control sk-hidden--visually\" id=\"sk-estimator-id-2\" type=\"checkbox\" ><label for=\"sk-estimator-id-2\" class=\"sk-toggleable__label sk-toggleable__label-arrow\">estimator: SVC</label><div class=\"sk-toggleable__content\"><pre>SVC()</pre></div></div></div><div class=\"sk-serial\"><div class=\"sk-item\"><div class=\"sk-estimator sk-toggleable\"><input class=\"sk-toggleable__control sk-hidden--visually\" id=\"sk-estimator-id-3\" type=\"checkbox\" ><label for=\"sk-estimator-id-3\" class=\"sk-toggleable__label sk-toggleable__label-arrow\">SVC</label><div class=\"sk-toggleable__content\"><pre>SVC()</pre></div></div></div></div></div></div></div></div></div></div>"
      ],
      "text/plain": [
       "GridSearchCV(cv=5, estimator=SVC(), n_jobs=-1,\n",
       "             param_grid={'C': [0.1, 1, 10, 100], 'gamma': [1, 0.1, 0.01, 0.001],\n",
       "                         'kernel': ['linear', 'poly', 'rbf', 'sigmoid']},\n",
       "             verbose=2)"
      ]
     },
     "execution_count": 47,
     "metadata": {},
     "output_type": "execute_result"
    }
   ],
   "source": [
    "param_grid = {'C': [0.1,1,10,100], 'gamma': [1,0.1,0.01,0.001],'kernel': ['linear', 'poly', 'rbf', 'sigmoid']}\n",
    "grid = GridSearchCV(SVC(),param_grid,refit=True,verbose=2,cv=5, n_jobs=-1)\n",
    "grid.fit(X_train,y_train)"
   ]
  },
  {
   "cell_type": "code",
   "execution_count": 48,
   "metadata": {
    "scrolled": true
   },
   "outputs": [
    {
     "data": {
      "text/plain": [
       "{'C': 100, 'gamma': 0.1, 'kernel': 'rbf'}"
      ]
     },
     "execution_count": 48,
     "metadata": {},
     "output_type": "execute_result"
    }
   ],
   "source": [
    "grid.best_params_"
   ]
  },
  {
   "cell_type": "code",
   "execution_count": 49,
   "metadata": {},
   "outputs": [],
   "source": [
    "classifier = SVC(kernel='rbf',C = 100,gamma = 0.1,probability=True).fit(X_train, y_train)\n",
    "y_pred = classifier.predict(X_test)"
   ]
  },
  {
   "cell_type": "code",
   "execution_count": 50,
   "metadata": {},
   "outputs": [
    {
     "name": "stdout",
     "output_type": "stream",
     "text": [
      "Confusion matrix, without normalization\n",
      "[[812 217]\n",
      " [199 888]]\n",
      "Normalized confusion matrix\n",
      "[[0.78911565 0.21088435]\n",
      " [0.18307268 0.81692732]]\n"
     ]
    },
    {
     "data": {
      "image/png": "[encoded data removed]",
      "text/plain": [
       "<Figure size 640x480 with 2 Axes>"
      ]
     },
     "metadata": {},
     "output_type": "display_data"
    },
    {
     "data": {
      "image/png": "[encoded data removed]",
      "text/plain": [
       "<Figure size 640x480 with 2 Axes>"
      ]
     },
     "metadata": {},
     "output_type": "display_data"
    }
   ],
   "source": [
    "titles_options = [(\"Confusion matrix, without normalization\", None),\n",
    "                  (\"Normalized confusion matrix\", 'true')]\n",
    "cm = confusion_matrix(y_test, y_pred)\n",
    "for title, normalize in titles_options:\n",
    "    disp = ConfusionMatrixDisplay(confusion_matrix=cm, display_labels=classifier.classes_)\n",
    "    if normalize:\n",
    "        cm_normalized = cm.astype('float') / cm.sum(axis=1)[:, np.newaxis]\n",
    "        disp = ConfusionMatrixDisplay(confusion_matrix=cm_normalized, display_labels=classifier.classes_)\n",
    "        disp = disp.plot(cmap=plt.cm.Blues, values_format='.2f', xticks_rotation='vertical')\n",
    "    else:\n",
    "        disp = disp.plot(cmap=plt.cm.Blues, values_format='d', xticks_rotation='vertical')\n",
    "\n",
    "    disp.ax_.set_title(title)\n",
    "\n",
    "    print(title)\n",
    "    print(cm if not normalize else cm_normalized)\n",
    "\n",
    "plt.show()\n"
   ]
  },
  {
   "cell_type": "code",
   "execution_count": 51,
   "metadata": {},
   "outputs": [
    {
     "data": {
      "text/plain": [
       "array([[0.12674701, 0.87325299],\n",
       "       [0.17056516, 0.82943484],\n",
       "       [0.70337483, 0.29662517],\n",
       "       [0.19957811, 0.80042189],\n",
       "       [0.15798841, 0.84201159]])"
      ]
     },
     "execution_count": 51,
     "metadata": {},
     "output_type": "execute_result"
    }
   ],
   "source": [
    "y_pred_prob = classifier.predict_proba(X_test)\n",
    "y_pred_prob[0:5]"
   ]
  },
  {
   "cell_type": "code",
   "execution_count": 52,
   "metadata": {},
   "outputs": [
    {
     "data": {
      "text/plain": [
       "0.8624650543618683"
      ]
     },
     "execution_count": 52,
     "metadata": {},
     "output_type": "execute_result"
    }
   ],
   "source": [
    "false_positive_rate, true_positive_rate, thresholds = roc_curve(y_test, y_pred_prob[:,1])\n",
    "roc_auc = auc(false_positive_rate, true_positive_rate)\n",
    "roc_auc"
   ]
  },
  {
   "cell_type": "code",
   "execution_count": 53,
   "metadata": {},
   "outputs": [
    {
     "data": {
      "image/png": "[encoded data removed]",
      "text/plain": [
       "<Figure size 640x480 with 1 Axes>"
      ]
     },
     "metadata": {},
     "output_type": "display_data"
    }
   ],
   "source": [
    "plt.title('Receiver Operating Characteristic')\n",
    "plt.plot(false_positive_rate,true_positive_rate, color='red',label = 'AUC = %0.2f' % roc_auc)\n",
    "plt.legend(loc = 'lower right')\n",
    "plt.plot([0, 1], [0, 1],linestyle='--')\n",
    "plt.axis('tight')\n",
    "plt.ylabel('True Positive Rate')\n",
    "plt.xlabel('False Positive Rate')\n",
    "plt.show()"
   ]
  },
  {
   "cell_type": "code",
   "execution_count": 54,
   "metadata": {},
   "outputs": [
    {
     "name": "stdout",
     "output_type": "stream",
     "text": [
      "              precision    recall  f1-score   support\n",
      "\n",
      "           0       0.80      0.79      0.80      1029\n",
      "           1       0.80      0.82      0.81      1087\n",
      "\n",
      "    accuracy                           0.80      2116\n",
      "   macro avg       0.80      0.80      0.80      2116\n",
      "weighted avg       0.80      0.80      0.80      2116\n",
      "\n"
     ]
    }
   ],
   "source": [
    "print(classification_report(y_test, y_pred))"
   ]
  },
  {
   "cell_type": "code",
   "execution_count": 55,
   "metadata": {},
   "outputs": [
    {
     "data": {
      "text/html": [
       "<div>\n",
       "<style scoped>\n",
       "    .dataframe tbody tr th:only-of-type {\n",
       "        vertical-align: middle;\n",
       "    }\n",
       "\n",
       "    .dataframe tbody tr th {\n",
       "        vertical-align: top;\n",
       "    }\n",
       "\n",
       "    .dataframe thead th {\n",
       "        text-align: right;\n",
       "    }\n",
       "</style>\n",
       "<table border=\"1\" class=\"dataframe\">\n",
       "  <thead>\n",
       "    <tr style=\"text-align: right;\">\n",
       "      <th></th>\n",
       "      <th>c_housing</th>\n",
       "      <th>c_loan</th>\n",
       "      <th>c_default</th>\n",
       "      <th>duration</th>\n",
       "      <th>previous</th>\n",
       "      <th>campaign</th>\n",
       "      <th>Target</th>\n",
       "      <th>Target_Pred</th>\n",
       "      <th>Target_Pred_Prob_0</th>\n",
       "      <th>Target_Pred_Prob_1</th>\n",
       "    </tr>\n",
       "  </thead>\n",
       "  <tbody>\n",
       "    <tr>\n",
       "      <th>0</th>\n",
       "      <td>-0.949512</td>\n",
       "      <td>-0.393381</td>\n",
       "      <td>-0.117893</td>\n",
       "      <td>-0.332574</td>\n",
       "      <td>0.062612</td>\n",
       "      <td>-0.564943</td>\n",
       "      <td>1</td>\n",
       "      <td>1</td>\n",
       "      <td>0.126747</td>\n",
       "      <td>0.873253</td>\n",
       "    </tr>\n",
       "    <tr>\n",
       "      <th>1</th>\n",
       "      <td>-0.949512</td>\n",
       "      <td>-0.393381</td>\n",
       "      <td>-0.117893</td>\n",
       "      <td>0.624597</td>\n",
       "      <td>-0.365356</td>\n",
       "      <td>-0.564943</td>\n",
       "      <td>1</td>\n",
       "      <td>1</td>\n",
       "      <td>0.170565</td>\n",
       "      <td>0.829435</td>\n",
       "    </tr>\n",
       "    <tr>\n",
       "      <th>2</th>\n",
       "      <td>-0.949512</td>\n",
       "      <td>-0.393381</td>\n",
       "      <td>-0.117893</td>\n",
       "      <td>-0.656407</td>\n",
       "      <td>-0.365356</td>\n",
       "      <td>-0.191987</td>\n",
       "      <td>0</td>\n",
       "      <td>0</td>\n",
       "      <td>0.703375</td>\n",
       "      <td>0.296625</td>\n",
       "    </tr>\n",
       "    <tr>\n",
       "      <th>3</th>\n",
       "      <td>-0.949512</td>\n",
       "      <td>-0.393381</td>\n",
       "      <td>-0.117893</td>\n",
       "      <td>1.541647</td>\n",
       "      <td>-0.365356</td>\n",
       "      <td>-0.564943</td>\n",
       "      <td>1</td>\n",
       "      <td>1</td>\n",
       "      <td>0.199578</td>\n",
       "      <td>0.800422</td>\n",
       "    </tr>\n",
       "    <tr>\n",
       "      <th>4</th>\n",
       "      <td>1.053173</td>\n",
       "      <td>-0.393381</td>\n",
       "      <td>-0.117893</td>\n",
       "      <td>0.071501</td>\n",
       "      <td>0.918548</td>\n",
       "      <td>-0.564943</td>\n",
       "      <td>1</td>\n",
       "      <td>1</td>\n",
       "      <td>0.157988</td>\n",
       "      <td>0.842012</td>\n",
       "    </tr>\n",
       "    <tr>\n",
       "      <th>5</th>\n",
       "      <td>1.053173</td>\n",
       "      <td>-0.393381</td>\n",
       "      <td>-0.117893</td>\n",
       "      <td>-1.014630</td>\n",
       "      <td>-0.365356</td>\n",
       "      <td>-0.564943</td>\n",
       "      <td>0</td>\n",
       "      <td>0</td>\n",
       "      <td>0.820163</td>\n",
       "      <td>0.179837</td>\n",
       "    </tr>\n",
       "    <tr>\n",
       "      <th>6</th>\n",
       "      <td>1.053173</td>\n",
       "      <td>-0.393381</td>\n",
       "      <td>-0.117893</td>\n",
       "      <td>1.607560</td>\n",
       "      <td>0.918548</td>\n",
       "      <td>-0.564943</td>\n",
       "      <td>1</td>\n",
       "      <td>1</td>\n",
       "      <td>0.117133</td>\n",
       "      <td>0.882867</td>\n",
       "    </tr>\n",
       "    <tr>\n",
       "      <th>7</th>\n",
       "      <td>-0.949512</td>\n",
       "      <td>-0.393381</td>\n",
       "      <td>-0.117893</td>\n",
       "      <td>-0.905730</td>\n",
       "      <td>-0.365356</td>\n",
       "      <td>-0.191987</td>\n",
       "      <td>0</td>\n",
       "      <td>0</td>\n",
       "      <td>0.925453</td>\n",
       "      <td>0.074547</td>\n",
       "    </tr>\n",
       "    <tr>\n",
       "      <th>8</th>\n",
       "      <td>-0.949512</td>\n",
       "      <td>-0.393381</td>\n",
       "      <td>-0.117893</td>\n",
       "      <td>0.590208</td>\n",
       "      <td>-0.365356</td>\n",
       "      <td>-0.191987</td>\n",
       "      <td>0</td>\n",
       "      <td>1</td>\n",
       "      <td>0.189008</td>\n",
       "      <td>0.810992</td>\n",
       "    </tr>\n",
       "    <tr>\n",
       "      <th>9</th>\n",
       "      <td>-0.949512</td>\n",
       "      <td>-0.393381</td>\n",
       "      <td>-0.117893</td>\n",
       "      <td>-0.478729</td>\n",
       "      <td>-0.365356</td>\n",
       "      <td>-0.564943</td>\n",
       "      <td>1</td>\n",
       "      <td>1</td>\n",
       "      <td>0.339602</td>\n",
       "      <td>0.660398</td>\n",
       "    </tr>\n",
       "  </tbody>\n",
       "</table>\n",
       "</div>"
      ],
      "text/plain": [
       "   c_housing    c_loan  c_default  duration  previous  campaign  Target  \\\n",
       "0  -0.949512 -0.393381  -0.117893 -0.332574  0.062612 -0.564943       1   \n",
       "1  -0.949512 -0.393381  -0.117893  0.624597 -0.365356 -0.564943       1   \n",
       "2  -0.949512 -0.393381  -0.117893 -0.656407 -0.365356 -0.191987       0   \n",
       "3  -0.949512 -0.393381  -0.117893  1.541647 -0.365356 -0.564943       1   \n",
       "4   1.053173 -0.393381  -0.117893  0.071501  0.918548 -0.564943       1   \n",
       "5   1.053173 -0.393381  -0.117893 -1.014630 -0.365356 -0.564943       0   \n",
       "6   1.053173 -0.393381  -0.117893  1.607560  0.918548 -0.564943       1   \n",
       "7  -0.949512 -0.393381  -0.117893 -0.905730 -0.365356 -0.191987       0   \n",
       "8  -0.949512 -0.393381  -0.117893  0.590208 -0.365356 -0.191987       0   \n",
       "9  -0.949512 -0.393381  -0.117893 -0.478729 -0.365356 -0.564943       1   \n",
       "\n",
       "   Target_Pred  Target_Pred_Prob_0  Target_Pred_Prob_1  \n",
       "0            1            0.126747            0.873253  \n",
       "1            1            0.170565            0.829435  \n",
       "2            0            0.703375            0.296625  \n",
       "3            1            0.199578            0.800422  \n",
       "4            1            0.157988            0.842012  \n",
       "5            0            0.820163            0.179837  \n",
       "6            1            0.117133            0.882867  \n",
       "7            0            0.925453            0.074547  \n",
       "8            1            0.189008            0.810992  \n",
       "9            1            0.339602            0.660398  "
      ]
     },
     "execution_count": 55,
     "metadata": {},
     "output_type": "execute_result"
    }
   ],
   "source": [
    "dataf_combined = pd.concat([pd.DataFrame(X_test),pd.DataFrame(y_test),pd.DataFrame(y_pred),pd.DataFrame(y_pred_prob)],axis=1)\n",
    "dataf_combined.columns = ['c_housing','c_loan','c_default','duration','previous','campaign','Target','Target_Pred','Target_Pred_Prob_0','Target_Pred_Prob_1']\n",
    "dataf_combined.head(10)"
   ]
  },
  {
   "cell_type": "code",
   "execution_count": 56,
   "metadata": {},
   "outputs": [
    {
     "data": {
      "text/html": [
       "<div>\n",
       "<style scoped>\n",
       "    .dataframe tbody tr th:only-of-type {\n",
       "        vertical-align: middle;\n",
       "    }\n",
       "\n",
       "    .dataframe tbody tr th {\n",
       "        vertical-align: top;\n",
       "    }\n",
       "\n",
       "    .dataframe thead th {\n",
       "        text-align: right;\n",
       "    }\n",
       "</style>\n",
       "<table border=\"1\" class=\"dataframe\">\n",
       "  <thead>\n",
       "    <tr style=\"text-align: right;\">\n",
       "      <th></th>\n",
       "      <th>c_housing</th>\n",
       "      <th>c_loan</th>\n",
       "      <th>c_default</th>\n",
       "      <th>duration</th>\n",
       "      <th>previous</th>\n",
       "      <th>campaign</th>\n",
       "      <th>Target</th>\n",
       "      <th>Target_Pred</th>\n",
       "      <th>Target_Pred_Prob_0</th>\n",
       "      <th>Target_Pred_Prob_1</th>\n",
       "    </tr>\n",
       "  </thead>\n",
       "  <tbody>\n",
       "    <tr>\n",
       "      <th>0</th>\n",
       "      <td>0.0</td>\n",
       "      <td>0.0</td>\n",
       "      <td>0.0</td>\n",
       "      <td>263.0</td>\n",
       "      <td>1.0</td>\n",
       "      <td>1.0</td>\n",
       "      <td>1</td>\n",
       "      <td>1</td>\n",
       "      <td>0.126747</td>\n",
       "      <td>0.873253</td>\n",
       "    </tr>\n",
       "    <tr>\n",
       "      <th>1</th>\n",
       "      <td>0.0</td>\n",
       "      <td>0.0</td>\n",
       "      <td>0.0</td>\n",
       "      <td>597.0</td>\n",
       "      <td>0.0</td>\n",
       "      <td>1.0</td>\n",
       "      <td>1</td>\n",
       "      <td>1</td>\n",
       "      <td>0.170565</td>\n",
       "      <td>0.829435</td>\n",
       "    </tr>\n",
       "    <tr>\n",
       "      <th>2</th>\n",
       "      <td>0.0</td>\n",
       "      <td>0.0</td>\n",
       "      <td>0.0</td>\n",
       "      <td>150.0</td>\n",
       "      <td>0.0</td>\n",
       "      <td>2.0</td>\n",
       "      <td>0</td>\n",
       "      <td>0</td>\n",
       "      <td>0.703375</td>\n",
       "      <td>0.296625</td>\n",
       "    </tr>\n",
       "    <tr>\n",
       "      <th>3</th>\n",
       "      <td>0.0</td>\n",
       "      <td>0.0</td>\n",
       "      <td>0.0</td>\n",
       "      <td>917.0</td>\n",
       "      <td>0.0</td>\n",
       "      <td>1.0</td>\n",
       "      <td>1</td>\n",
       "      <td>1</td>\n",
       "      <td>0.199578</td>\n",
       "      <td>0.800422</td>\n",
       "    </tr>\n",
       "    <tr>\n",
       "      <th>4</th>\n",
       "      <td>1.0</td>\n",
       "      <td>0.0</td>\n",
       "      <td>0.0</td>\n",
       "      <td>404.0</td>\n",
       "      <td>3.0</td>\n",
       "      <td>1.0</td>\n",
       "      <td>1</td>\n",
       "      <td>1</td>\n",
       "      <td>0.157988</td>\n",
       "      <td>0.842012</td>\n",
       "    </tr>\n",
       "    <tr>\n",
       "      <th>5</th>\n",
       "      <td>1.0</td>\n",
       "      <td>0.0</td>\n",
       "      <td>0.0</td>\n",
       "      <td>25.0</td>\n",
       "      <td>0.0</td>\n",
       "      <td>1.0</td>\n",
       "      <td>0</td>\n",
       "      <td>0</td>\n",
       "      <td>0.820163</td>\n",
       "      <td>0.179837</td>\n",
       "    </tr>\n",
       "    <tr>\n",
       "      <th>6</th>\n",
       "      <td>1.0</td>\n",
       "      <td>0.0</td>\n",
       "      <td>0.0</td>\n",
       "      <td>940.0</td>\n",
       "      <td>3.0</td>\n",
       "      <td>1.0</td>\n",
       "      <td>1</td>\n",
       "      <td>1</td>\n",
       "      <td>0.117133</td>\n",
       "      <td>0.882867</td>\n",
       "    </tr>\n",
       "    <tr>\n",
       "      <th>7</th>\n",
       "      <td>0.0</td>\n",
       "      <td>0.0</td>\n",
       "      <td>0.0</td>\n",
       "      <td>63.0</td>\n",
       "      <td>0.0</td>\n",
       "      <td>2.0</td>\n",
       "      <td>0</td>\n",
       "      <td>0</td>\n",
       "      <td>0.925453</td>\n",
       "      <td>0.074547</td>\n",
       "    </tr>\n",
       "    <tr>\n",
       "      <th>8</th>\n",
       "      <td>0.0</td>\n",
       "      <td>0.0</td>\n",
       "      <td>0.0</td>\n",
       "      <td>585.0</td>\n",
       "      <td>0.0</td>\n",
       "      <td>2.0</td>\n",
       "      <td>0</td>\n",
       "      <td>1</td>\n",
       "      <td>0.189008</td>\n",
       "      <td>0.810992</td>\n",
       "    </tr>\n",
       "    <tr>\n",
       "      <th>9</th>\n",
       "      <td>0.0</td>\n",
       "      <td>0.0</td>\n",
       "      <td>0.0</td>\n",
       "      <td>212.0</td>\n",
       "      <td>0.0</td>\n",
       "      <td>1.0</td>\n",
       "      <td>1</td>\n",
       "      <td>1</td>\n",
       "      <td>0.339602</td>\n",
       "      <td>0.660398</td>\n",
       "    </tr>\n",
       "  </tbody>\n",
       "</table>\n",
       "</div>"
      ],
      "text/plain": [
       "   c_housing  c_loan  c_default  duration  previous  campaign  Target  \\\n",
       "0        0.0     0.0        0.0     263.0       1.0       1.0       1   \n",
       "1        0.0     0.0        0.0     597.0       0.0       1.0       1   \n",
       "2        0.0     0.0        0.0     150.0       0.0       2.0       0   \n",
       "3        0.0     0.0        0.0     917.0       0.0       1.0       1   \n",
       "4        1.0     0.0        0.0     404.0       3.0       1.0       1   \n",
       "5        1.0     0.0        0.0      25.0       0.0       1.0       0   \n",
       "6        1.0     0.0        0.0     940.0       3.0       1.0       1   \n",
       "7        0.0     0.0        0.0      63.0       0.0       2.0       0   \n",
       "8        0.0     0.0        0.0     585.0       0.0       2.0       0   \n",
       "9        0.0     0.0        0.0     212.0       0.0       1.0       1   \n",
       "\n",
       "   Target_Pred  Target_Pred_Prob_0  Target_Pred_Prob_1  \n",
       "0            1            0.126747            0.873253  \n",
       "1            1            0.170565            0.829435  \n",
       "2            0            0.703375            0.296625  \n",
       "3            1            0.199578            0.800422  \n",
       "4            1            0.157988            0.842012  \n",
       "5            0            0.820163            0.179837  \n",
       "6            1            0.117133            0.882867  \n",
       "7            0            0.925453            0.074547  \n",
       "8            1            0.189008            0.810992  \n",
       "9            1            0.339602            0.660398  "
      ]
     },
     "execution_count": 56,
     "metadata": {},
     "output_type": "execute_result"
    }
   ],
   "source": [
    "df_original_features = pd.DataFrame(X_test, columns=['c_housing','c_loan','c_default','duration','previous','campaign'])\n",
    "df_original = pd.DataFrame(transformer.inverse_transform(df_original_features), columns=['c_housing','c_loan','c_default','duration','previous','campaign'])\n",
    "\n",
    "df_original[['Target','Target_Pred','Target_Pred_Prob_0','Target_Pred_Prob_1']] = dataf_combined[['Target','Target_Pred','Target_Pred_Prob_0','Target_Pred_Prob_1']]\n",
    "df_original.head(10)"
   ]
  },
  {
   "cell_type": "code",
   "execution_count": 57,
   "metadata": {},
   "outputs": [
    {
     "data": {
      "text/html": [
       "<div>\n",
       "<style scoped>\n",
       "    .dataframe tbody tr th:only-of-type {\n",
       "        vertical-align: middle;\n",
       "    }\n",
       "\n",
       "    .dataframe tbody tr th {\n",
       "        vertical-align: top;\n",
       "    }\n",
       "\n",
       "    .dataframe thead th {\n",
       "        text-align: right;\n",
       "    }\n",
       "</style>\n",
       "<table border=\"1\" class=\"dataframe\">\n",
       "  <thead>\n",
       "    <tr style=\"text-align: right;\">\n",
       "      <th></th>\n",
       "      <th>c_housing</th>\n",
       "      <th>c_loan</th>\n",
       "      <th>c_default</th>\n",
       "      <th>duration</th>\n",
       "      <th>previous</th>\n",
       "      <th>campaign</th>\n",
       "      <th>Target</th>\n",
       "      <th>Target_Pred</th>\n",
       "      <th>Target_Pred_Prob_0</th>\n",
       "      <th>Target_Pred_Prob_1</th>\n",
       "      <th>Score</th>\n",
       "    </tr>\n",
       "  </thead>\n",
       "  <tbody>\n",
       "    <tr>\n",
       "      <th>0</th>\n",
       "      <td>0.0</td>\n",
       "      <td>0.0</td>\n",
       "      <td>0.0</td>\n",
       "      <td>263.0</td>\n",
       "      <td>1.0</td>\n",
       "      <td>1.0</td>\n",
       "      <td>1</td>\n",
       "      <td>1</td>\n",
       "      <td>0.126747</td>\n",
       "      <td>0.873253</td>\n",
       "      <td>MA</td>\n",
       "    </tr>\n",
       "    <tr>\n",
       "      <th>1</th>\n",
       "      <td>0.0</td>\n",
       "      <td>0.0</td>\n",
       "      <td>0.0</td>\n",
       "      <td>597.0</td>\n",
       "      <td>0.0</td>\n",
       "      <td>1.0</td>\n",
       "      <td>1</td>\n",
       "      <td>1</td>\n",
       "      <td>0.170565</td>\n",
       "      <td>0.829435</td>\n",
       "      <td>MA</td>\n",
       "    </tr>\n",
       "    <tr>\n",
       "      <th>2</th>\n",
       "      <td>0.0</td>\n",
       "      <td>0.0</td>\n",
       "      <td>0.0</td>\n",
       "      <td>150.0</td>\n",
       "      <td>0.0</td>\n",
       "      <td>2.0</td>\n",
       "      <td>0</td>\n",
       "      <td>0</td>\n",
       "      <td>0.703375</td>\n",
       "      <td>0.296625</td>\n",
       "      <td>B</td>\n",
       "    </tr>\n",
       "    <tr>\n",
       "      <th>3</th>\n",
       "      <td>0.0</td>\n",
       "      <td>0.0</td>\n",
       "      <td>0.0</td>\n",
       "      <td>917.0</td>\n",
       "      <td>0.0</td>\n",
       "      <td>1.0</td>\n",
       "      <td>1</td>\n",
       "      <td>1</td>\n",
       "      <td>0.199578</td>\n",
       "      <td>0.800422</td>\n",
       "      <td>MA</td>\n",
       "    </tr>\n",
       "    <tr>\n",
       "      <th>4</th>\n",
       "      <td>1.0</td>\n",
       "      <td>0.0</td>\n",
       "      <td>0.0</td>\n",
       "      <td>404.0</td>\n",
       "      <td>3.0</td>\n",
       "      <td>1.0</td>\n",
       "      <td>1</td>\n",
       "      <td>1</td>\n",
       "      <td>0.157988</td>\n",
       "      <td>0.842012</td>\n",
       "      <td>MA</td>\n",
       "    </tr>\n",
       "    <tr>\n",
       "      <th>...</th>\n",
       "      <td>...</td>\n",
       "      <td>...</td>\n",
       "      <td>...</td>\n",
       "      <td>...</td>\n",
       "      <td>...</td>\n",
       "      <td>...</td>\n",
       "      <td>...</td>\n",
       "      <td>...</td>\n",
       "      <td>...</td>\n",
       "      <td>...</td>\n",
       "      <td>...</td>\n",
       "    </tr>\n",
       "    <tr>\n",
       "      <th>2111</th>\n",
       "      <td>1.0</td>\n",
       "      <td>0.0</td>\n",
       "      <td>0.0</td>\n",
       "      <td>144.0</td>\n",
       "      <td>0.0</td>\n",
       "      <td>5.0</td>\n",
       "      <td>0</td>\n",
       "      <td>0</td>\n",
       "      <td>0.862270</td>\n",
       "      <td>0.137730</td>\n",
       "      <td>MB</td>\n",
       "    </tr>\n",
       "    <tr>\n",
       "      <th>2112</th>\n",
       "      <td>1.0</td>\n",
       "      <td>0.0</td>\n",
       "      <td>0.0</td>\n",
       "      <td>56.0</td>\n",
       "      <td>0.0</td>\n",
       "      <td>3.0</td>\n",
       "      <td>0</td>\n",
       "      <td>0</td>\n",
       "      <td>0.858295</td>\n",
       "      <td>0.141705</td>\n",
       "      <td>MB</td>\n",
       "    </tr>\n",
       "    <tr>\n",
       "      <th>2113</th>\n",
       "      <td>0.0</td>\n",
       "      <td>0.0</td>\n",
       "      <td>0.0</td>\n",
       "      <td>327.0</td>\n",
       "      <td>0.0</td>\n",
       "      <td>1.0</td>\n",
       "      <td>1</td>\n",
       "      <td>1</td>\n",
       "      <td>0.188985</td>\n",
       "      <td>0.811015</td>\n",
       "      <td>MA</td>\n",
       "    </tr>\n",
       "    <tr>\n",
       "      <th>2114</th>\n",
       "      <td>1.0</td>\n",
       "      <td>0.0</td>\n",
       "      <td>0.0</td>\n",
       "      <td>821.0</td>\n",
       "      <td>0.0</td>\n",
       "      <td>2.0</td>\n",
       "      <td>1</td>\n",
       "      <td>1</td>\n",
       "      <td>0.143442</td>\n",
       "      <td>0.856558</td>\n",
       "      <td>MA</td>\n",
       "    </tr>\n",
       "    <tr>\n",
       "      <th>2115</th>\n",
       "      <td>0.0</td>\n",
       "      <td>0.0</td>\n",
       "      <td>0.0</td>\n",
       "      <td>421.0</td>\n",
       "      <td>1.0</td>\n",
       "      <td>2.0</td>\n",
       "      <td>0</td>\n",
       "      <td>1</td>\n",
       "      <td>0.116650</td>\n",
       "      <td>0.883350</td>\n",
       "      <td>MA</td>\n",
       "    </tr>\n",
       "  </tbody>\n",
       "</table>\n",
       "<p>2116 rows × 11 columns</p>\n",
       "</div>"
      ],
      "text/plain": [
       "      c_housing  c_loan  c_default  duration  previous  campaign  Target  \\\n",
       "0           0.0     0.0        0.0     263.0       1.0       1.0       1   \n",
       "1           0.0     0.0        0.0     597.0       0.0       1.0       1   \n",
       "2           0.0     0.0        0.0     150.0       0.0       2.0       0   \n",
       "3           0.0     0.0        0.0     917.0       0.0       1.0       1   \n",
       "4           1.0     0.0        0.0     404.0       3.0       1.0       1   \n",
       "...         ...     ...        ...       ...       ...       ...     ...   \n",
       "2111        1.0     0.0        0.0     144.0       0.0       5.0       0   \n",
       "2112        1.0     0.0        0.0      56.0       0.0       3.0       0   \n",
       "2113        0.0     0.0        0.0     327.0       0.0       1.0       1   \n",
       "2114        1.0     0.0        0.0     821.0       0.0       2.0       1   \n",
       "2115        0.0     0.0        0.0     421.0       1.0       2.0       0   \n",
       "\n",
       "      Target_Pred  Target_Pred_Prob_0  Target_Pred_Prob_1 Score  \n",
       "0               1            0.126747            0.873253    MA  \n",
       "1               1            0.170565            0.829435    MA  \n",
       "2               0            0.703375            0.296625     B  \n",
       "3               1            0.199578            0.800422    MA  \n",
       "4               1            0.157988            0.842012    MA  \n",
       "...           ...                 ...                 ...   ...  \n",
       "2111            0            0.862270            0.137730    MB  \n",
       "2112            0            0.858295            0.141705    MB  \n",
       "2113            1            0.188985            0.811015    MA  \n",
       "2114            1            0.143442            0.856558    MA  \n",
       "2115            1            0.116650            0.883350    MA  \n",
       "\n",
       "[2116 rows x 11 columns]"
      ]
     },
     "execution_count": 57,
     "metadata": {},
     "output_type": "execute_result"
    }
   ],
   "source": [
    "def asignar_categoria(valor):\n",
    "    if valor <= 0.2:\n",
    "        return 'MB'  # Muy bajo\n",
    "    elif valor <= 0.4:\n",
    "        return 'B'   # Bajo\n",
    "    elif valor <= 0.6:\n",
    "        return 'M'   # Medio\n",
    "    elif valor <= 0.8:\n",
    "        return 'A'   # Alto\n",
    "    else:\n",
    "        return 'MA'  # Muy alto\n",
    "\n",
    "df_original['Score'] = df_original['Target_Pred_Prob_1'].apply(asignar_categoria)\n",
    "df_original"
   ]
  }
 ],
 "metadata": {
  "kernelspec": {
   "display_name": "Python 3",
   "language": "python",
   "name": "python3"
  },
  "language_info": {
   "codemirror_mode": {
    "name": "ipython",
    "version": 3
   },
   "file_extension": ".py",
   "mimetype": "text/x-python",
   "name": "python",
   "nbconvert_exporter": "python",
   "pygments_lexer": "ipython3",
   "version": "3.11.4"
  }
 },
 "nbformat": 4,
 "nbformat_minor": 4
}
