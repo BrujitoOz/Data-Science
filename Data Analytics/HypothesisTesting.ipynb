{
 "cells": [
  {
   "cell_type": "code",
   "execution_count": 2,
   "metadata": {},
   "outputs": [],
   "source": [
    "import scipy.stats as ss"
   ]
  },
  {
   "cell_type": "markdown",
   "metadata": {},
   "source": [
    "## Binomial Distribution"
   ]
  },
  {
   "cell_type": "markdown",
   "metadata": {},
   "source": [
    "If you roll a dice 16 times, what's the probability that a five comes up 3 times?\n",
    "\n",
    "x=3, n=16, p=1/6"
   ]
  },
  {
   "cell_type": "code",
   "execution_count": 4,
   "metadata": {},
   "outputs": [
    {
     "data": {
      "text/plain": [
       "0.24231376033713137"
      ]
     },
     "execution_count": 4,
     "metadata": {},
     "output_type": "execute_result"
    }
   ],
   "source": [
    "ss.binom.pmf(3,16,1/6)"
   ]
  },
  {
   "cell_type": "markdown",
   "metadata": {},
   "source": [
    "## Poisson Distribution"
   ]
  },
  {
   "cell_type": "markdown",
   "metadata": {},
   "source": [
    "A warehouse typically receives 8 deliveries between 4 and 5pm on friday."
   ]
  },
  {
   "cell_type": "markdown",
   "metadata": {},
   "source": [
    "What is the probability that only 4 deliveries will arrive between 4 and 5pm this friday?\n",
    "\n",
    "x=4 lambda=8"
   ]
  },
  {
   "cell_type": "code",
   "execution_count": 5,
   "metadata": {},
   "outputs": [
    {
     "data": {
      "text/plain": [
       "0.057252288495362"
      ]
     },
     "execution_count": 5,
     "metadata": {},
     "output_type": "execute_result"
    }
   ],
   "source": [
    "ss.poisson.pmf(4, 8)"
   ]
  },
  {
   "cell_type": "markdown",
   "metadata": {},
   "source": [
    "What is the probabilty than fewer than 3 will arrive between 4 and 5pm this friday?\n",
    "\n",
    "x<3 lambda=8"
   ]
  },
  {
   "cell_type": "code",
   "execution_count": 10,
   "metadata": {},
   "outputs": [
    {
     "data": {
      "text/plain": [
       "0.013753967744002971"
      ]
     },
     "execution_count": 10,
     "metadata": {},
     "output_type": "execute_result"
    }
   ],
   "source": [
    "ss.poisson.cdf(2, 8)"
   ]
  },
  {
   "cell_type": "markdown",
   "metadata": {},
   "source": [
    "What is the probability that no deliveries arrive between 4:00 and 4:05 this friday?\n",
    "\n",
    "x=0 lambda_1hour=8"
   ]
  },
  {
   "cell_type": "code",
   "execution_count": 12,
   "metadata": {},
   "outputs": [
    {
     "data": {
      "text/plain": [
       "0.513417119032592"
      ]
     },
     "execution_count": 12,
     "metadata": {},
     "output_type": "execute_result"
    }
   ],
   "source": [
    "ss.poisson.pmf(0, 8/12)"
   ]
  },
  {
   "cell_type": "markdown",
   "metadata": {},
   "source": [
    "## Hypothesis Testing"
   ]
  },
  {
   "cell_type": "markdown",
   "metadata": {},
   "source": [
    "A company is looking to improve their website performance.\n",
    "\n",
    "Currently pages have a mean load time of 3.125 seconds, with a standard deviation of 0.700 seconds.\n",
    "\n",
    "They hire a consulting firm to improve load times.\n",
    "\n",
    "Management wants a 99% confidence level\n",
    "\n",
    "A sample run of 40 of the new pages has a mean load time of 2.875 seconds.\n",
    "\n",
    "Are the results statistically faster than before?\n",
    "\n",
    "HO = u >= 3.125 \n",
    "\n",
    "HA = u < 3.125"
   ]
  },
  {
   "cell_type": "code",
   "execution_count": 25,
   "metadata": {},
   "outputs": [
    {
     "name": "stdout",
     "output_type": "stream",
     "text": [
      "No se puede rechazar la hipótesis nula. No hay suficiente evidencia para afirmar que los resultados son más rápidos que antes.\n"
     ]
    }
   ],
   "source": [
    "u = 3.125  # Media poblacional anterior\n",
    "o = 0.700  # Desviación estándar poblacional\n",
    "n = 40     # Tamaño de la muestra\n",
    "x = 2.875  # Media de la muestra\n",
    "alpha = 0.01\n",
    "\n",
    "z = (x - u) / (o / (n**0.5))\n",
    "\n",
    "p_value = ss.norm.cdf(z)\n",
    "\n",
    "if p_value < alpha:\n",
    "    print(\"Rechazar la hipótesis nula. Los resultados son estadísticamente más rápidos que antes.\")\n",
    "else:\n",
    "    print(\"No se puede rechazar la hipótesis nula. No hay suficiente evidencia para afirmar que los resultados son más rápidos que antes.\")\n"
   ]
  },
  {
   "cell_type": "markdown",
   "metadata": {},
   "source": [
    "A video game company surveys 400 of their customers and finds that 58% of the sample are teenagers.\n",
    "\n",
    "Is it fair to say that most of the company's customers are teenagers?\n",
    "\n",
    "H0 = P <=0.50\n",
    "\n",
    "HA = P > 0.50"
   ]
  },
  {
   "cell_type": "code",
   "execution_count": 17,
   "metadata": {},
   "outputs": [
    {
     "name": "stdout",
     "output_type": "stream",
     "text": [
      "Estadístico de prueba z: 3.1999999999999984\n",
      "Valor p (p-value): 0.0006871379379158604\n",
      "Rechazar la hipótesis nula. Es justo decir que la mayoría de los clientes de la compañía son adolescentes.\n"
     ]
    }
   ],
   "source": [
    "n = 400      # Tamaño de la muestra\n",
    "p = 0.58     # Proporción muestral\n",
    "p_null = 0.50  # Hipótesis nula: proporción poblacional esperada\n",
    "\n",
    "z = (p - p_null) / ((p_null * (1 - p_null))**0.5 / n**0.5)\n",
    "p_value = 1 - ss.norm.cdf(z)\n",
    "\n",
    "print(\"Estadístico de prueba z:\", z)\n",
    "print(\"Valor p (p-value):\", p_value)\n",
    "\n",
    "alpha = 0.05\n",
    "if p_value < alpha:\n",
    "    print(\"Rechazar la hipótesis nula. Es justo decir que la mayoría de los clientes de la compañía son adolescentes.\")\n",
    "else:\n",
    "    print(\"No se puede rechazar la hipótesis nula. No hay suficiente evidencia para afirmar que la mayoría de los clientes de la compañía son adolescentes.\")\n"
   ]
  },
  {
   "cell_type": "markdown",
   "metadata": {},
   "source": [
    "## Student T"
   ]
  },
  {
   "cell_type": "markdown",
   "metadata": {},
   "source": [
    "Daily production over the same 10 days is as follows:\n",
    "\n",
    "Plant a = [1184,1203,1219,1238,1243,1204,1269,1256,1156,1248]\n",
    "Plant b = [1136,1178,1212,1193,1226,1154,1230,1222,1161,1148]\n",
    "\n",
    "average a = 1222\n",
    "average b = 1186\n",
    "\n",
    "on average looks like plant b makes 36 cars more than plant a\n",
    "\n",
    "Is 36 more cars enough to say that the plants are different\n",
    "\n",
    "HO = Xa <= Xb\n",
    "\n",
    "HA = Xa > Xb"
   ]
  },
  {
   "cell_type": "code",
   "execution_count": 21,
   "metadata": {},
   "outputs": [
    {
     "name": "stdout",
     "output_type": "stream",
     "text": [
      "Estadístico de prueba t: 2.2795770510504845\n",
      "Valor p (p-value): 0.03504505626727664\n",
      "Rechazar la hipótesis nula. Hay evidencia suficiente para decir que las plantas son diferentes.\n"
     ]
    }
   ],
   "source": [
    "a = [1184, 1203, 1219, 1238, 1243, 1204, 1269, 1256, 1156, 1248]\n",
    "b = [1136, 1178, 1212, 1193, 1226, 1154, 1230, 1222, 1161, 1148]\n",
    "\n",
    "t_statistic, p_value = ss.ttest_ind(a, b)\n",
    "\n",
    "print(\"Estadístico de prueba t:\", t_statistic)\n",
    "print(\"Valor p (p-value):\", p_value)\n",
    "\n",
    "alpha = 0.05\n",
    "if p_value < alpha:\n",
    "    print(\"Rechazar la hipótesis nula. Hay evidencia suficiente para decir que las plantas son diferentes.\")\n",
    "else:\n",
    "    print(\"No se puede rechazar la hipótesis nula. No hay suficiente evidencia para afirmar que las plantas son diferentes.\")\n"
   ]
  },
  {
   "cell_type": "markdown",
   "metadata": {},
   "source": [
    "## Anova"
   ]
  },
  {
   "cell_type": "markdown",
   "metadata": {},
   "source": [
    "In an effort to receive faster payment of invoices, a company introduces two discount plans.\n",
    "\n",
    "One set of customers is given a 2% discount if they pay their invoice early.\n",
    "\n",
    "Another set if offered a 1% dfiscount.\n",
    "\n",
    "A third set is not offered any incentive.\n",
    "\n",
    "The results are as follows:\n",
    "\n",
    "2_disc = [11, 16,9,14,10]\n",
    "1_disc = [21,15,23,10,16]\n",
    "no_disc = [14,11,18,16,21]\n",
    "\n",
    "HO = ua = ub = uc \n",
    "\n",
    "HA = ua != ub != uc"
   ]
  },
  {
   "cell_type": "code",
   "execution_count": 27,
   "metadata": {},
   "outputs": [
    {
     "name": "stdout",
     "output_type": "stream",
     "text": [
      "Estadístico F: 2.121212121212121\n",
      "Valor p (p-value): 0.1626231531192689\n",
      "No se puede rechazar la hipótesis nula. No hay suficiente evidencia para afirmar diferencias significativas entre los grupos.\n"
     ]
    }
   ],
   "source": [
    "discount_2 = [11, 16, 9, 14, 10]\n",
    "discount_1 = [21, 15, 23, 10, 16]\n",
    "no_discount = [14, 11, 18, 16, 21]\n",
    "\n",
    "f_statistic, p_value = ss.f_oneway(discount_2, discount_1, no_discount)\n",
    "\n",
    "print(\"Estadístico F:\", f_statistic)\n",
    "print(\"Valor p (p-value):\", p_value)\n",
    "\n",
    "alpha = 0.05\n",
    "if p_value < alpha:\n",
    "    print(\"Rechazar la hipótesis nula. Hay diferencias significativas entre los grupos.\")\n",
    "else:\n",
    "    print(\"No se puede rechazar la hipótesis nula. No hay suficiente evidencia para afirmar diferencias significativas entre los grupos.\")\n"
   ]
  },
  {
   "cell_type": "markdown",
   "metadata": {},
   "source": [
    "## Chi-square "
   ]
  },
  {
   "cell_type": "markdown",
   "metadata": {},
   "source": [
    "A company runs six identical servers to support its IT infrastructure.\n",
    "\n",
    "Logically, the failure rate should be the same across all servers.\n",
    "\n",
    "Based on the following data, ca we assume that the server fail at the same rate?\n",
    "\n",
    "server = ['A', 'B', 'C', 'D', 'E', 'F']\n",
    "observed = [46,36,52,26,42,38]\n",
    "expected = [40,40,40,40,40,40]\n",
    "\n",
    "H0 = No hay diferencia significativa en las tasas de falla entre los servidores.\n",
    "\n",
    "HA = Hay diferencias significativas en las tasas de falla entre al menos dos de los servidores.\n"
   ]
  },
  {
   "cell_type": "code",
   "execution_count": 28,
   "metadata": {},
   "outputs": [
    {
     "name": "stdout",
     "output_type": "stream",
     "text": [
      "Estadístico de chi-cuadrado: 10.0\n",
      "Valor p (p-value): 0.07523524614651217\n",
      "No se puede rechazar la hipótesis nula. No hay suficiente evidencia para afirmar diferencias significativas en las tasas de falla entre los servidores.\n"
     ]
    }
   ],
   "source": [
    "observed = [46, 36, 52, 26, 42, 38]\n",
    "expected = [40, 40, 40, 40, 40, 40]\n",
    "\n",
    "chi2_statistic, p_value = ss.chisquare(observed, expected)\n",
    "\n",
    "print(\"Estadístico de chi-cuadrado:\", chi2_statistic)\n",
    "print(\"Valor p (p-value):\", p_value)\n",
    "\n",
    "alpha = 0.05\n",
    "if p_value < alpha:\n",
    "    print(\"Rechazar la hipótesis nula. Hay diferencias significativas en las tasas de falla entre los servidores.\")\n",
    "else:\n",
    "    print(\"No se puede rechazar la hipótesis nula. No hay suficiente evidencia para afirmar diferencias significativas en las tasas de falla entre los servidores.\")\n"
   ]
  }
 ],
 "metadata": {
  "kernelspec": {
   "display_name": "Python 3",
   "language": "python",
   "name": "python3"
  },
  "language_info": {
   "codemirror_mode": {
    "name": "ipython",
    "version": 3
   },
   "file_extension": ".py",
   "mimetype": "text/x-python",
   "name": "python",
   "nbconvert_exporter": "python",
   "pygments_lexer": "ipython3",
   "version": "3.11.4"
  }
 },
 "nbformat": 4,
 "nbformat_minor": 2
}
