{
  "cells": [
    {
      "attachments": {},
      "cell_type": "markdown",
      "metadata": {
        "id": "VGG9TRafuhW0"
      },
      "source": [
        "# Import libraries"
      ]
    },
    {
      "cell_type": "code",
      "execution_count": 1,
      "metadata": {
        "id": "uKFbubflilh_"
      },
      "outputs": [],
      "source": [
        "from fim import *\n",
        "import matplotlib.pyplot as plt\n",
        "import numpy as np\n",
        "import pandas as pd\n",
        "import random\n",
        "from paretoset import paretoset\n",
        "import plotly.express as px\n",
        "import plotly.graph_objects as go\n",
        "pd.set_option('display.max_colwidth',None)"
      ]
    },
    {
      "attachments": {},
      "cell_type": "markdown",
      "metadata": {
        "id": "0CPj6nnSuj2V"
      },
      "source": [
        "# Load dataset"
      ]
    },
    {
      "cell_type": "code",
      "execution_count": 2,
      "metadata": {
        "colab": {
          "base_uri": "https://localhost:8080/",
          "height": 206
        },
        "id": "KrcTQvsyinMP",
        "outputId": "fbee1892-2a35-4a6e-bc95-6d15c64420c2"
      },
      "outputs": [
        {
          "data": {
            "text/html": [
              "<div>\n",
              "<style scoped>\n",
              "    .dataframe tbody tr th:only-of-type {\n",
              "        vertical-align: middle;\n",
              "    }\n",
              "\n",
              "    .dataframe tbody tr th {\n",
              "        vertical-align: top;\n",
              "    }\n",
              "\n",
              "    .dataframe thead th {\n",
              "        text-align: right;\n",
              "    }\n",
              "</style>\n",
              "<table border=\"1\" class=\"dataframe\">\n",
              "  <thead>\n",
              "    <tr style=\"text-align: right;\">\n",
              "      <th></th>\n",
              "      <th>DEPARTAMENTO</th>\n",
              "      <th>PROVINICA</th>\n",
              "      <th>DISTRITO</th>\n",
              "      <th>CULTIVO</th>\n",
              "      <th>CAMPANA</th>\n",
              "      <th>AGO</th>\n",
              "      <th>SEP</th>\n",
              "      <th>OCT</th>\n",
              "      <th>NOV</th>\n",
              "      <th>DIC</th>\n",
              "      <th>ENE</th>\n",
              "      <th>FEB</th>\n",
              "      <th>MAR</th>\n",
              "      <th>ABR</th>\n",
              "      <th>MAY</th>\n",
              "      <th>JUN</th>\n",
              "      <th>JUL</th>\n",
              "    </tr>\n",
              "  </thead>\n",
              "  <tbody>\n",
              "    <tr>\n",
              "      <th>0</th>\n",
              "      <td>ANCASH</td>\n",
              "      <td>AIJA</td>\n",
              "      <td>SUCCHA</td>\n",
              "      <td>Papa nativa</td>\n",
              "      <td>2020-2021</td>\n",
              "      <td>0</td>\n",
              "      <td>0</td>\n",
              "      <td>1</td>\n",
              "      <td>0</td>\n",
              "      <td>0</td>\n",
              "      <td>0</td>\n",
              "      <td>0</td>\n",
              "      <td>0</td>\n",
              "      <td>0</td>\n",
              "      <td>0</td>\n",
              "      <td>0</td>\n",
              "      <td>0</td>\n",
              "    </tr>\n",
              "    <tr>\n",
              "      <th>1</th>\n",
              "      <td>ANCASH</td>\n",
              "      <td>ANTONIO RAYMONDI</td>\n",
              "      <td>LLAMELLIN</td>\n",
              "      <td>Olluco</td>\n",
              "      <td>2020-2021</td>\n",
              "      <td>0</td>\n",
              "      <td>0</td>\n",
              "      <td>1</td>\n",
              "      <td>0</td>\n",
              "      <td>0</td>\n",
              "      <td>0</td>\n",
              "      <td>0</td>\n",
              "      <td>0</td>\n",
              "      <td>0</td>\n",
              "      <td>0</td>\n",
              "      <td>0</td>\n",
              "      <td>0</td>\n",
              "    </tr>\n",
              "    <tr>\n",
              "      <th>2</th>\n",
              "      <td>ANCASH</td>\n",
              "      <td>ANTONIO RAYMONDI</td>\n",
              "      <td>LLAMELLIN</td>\n",
              "      <td>Quinua</td>\n",
              "      <td>2020-2021</td>\n",
              "      <td>0</td>\n",
              "      <td>0</td>\n",
              "      <td>1</td>\n",
              "      <td>0</td>\n",
              "      <td>0</td>\n",
              "      <td>0</td>\n",
              "      <td>0</td>\n",
              "      <td>0</td>\n",
              "      <td>0</td>\n",
              "      <td>0</td>\n",
              "      <td>0</td>\n",
              "      <td>0</td>\n",
              "    </tr>\n",
              "    <tr>\n",
              "      <th>3</th>\n",
              "      <td>ANCASH</td>\n",
              "      <td>ANTONIO RAYMONDI</td>\n",
              "      <td>ACZO</td>\n",
              "      <td>Quinua</td>\n",
              "      <td>2020-2021</td>\n",
              "      <td>0</td>\n",
              "      <td>0</td>\n",
              "      <td>1</td>\n",
              "      <td>0</td>\n",
              "      <td>0</td>\n",
              "      <td>0</td>\n",
              "      <td>0</td>\n",
              "      <td>0</td>\n",
              "      <td>0</td>\n",
              "      <td>0</td>\n",
              "      <td>0</td>\n",
              "      <td>0</td>\n",
              "    </tr>\n",
              "    <tr>\n",
              "      <th>4</th>\n",
              "      <td>ANCASH</td>\n",
              "      <td>ANTONIO RAYMONDI</td>\n",
              "      <td>CHINGAS</td>\n",
              "      <td>Olluco</td>\n",
              "      <td>2020-2021</td>\n",
              "      <td>0</td>\n",
              "      <td>0</td>\n",
              "      <td>1</td>\n",
              "      <td>0</td>\n",
              "      <td>0</td>\n",
              "      <td>0</td>\n",
              "      <td>0</td>\n",
              "      <td>0</td>\n",
              "      <td>0</td>\n",
              "      <td>0</td>\n",
              "      <td>0</td>\n",
              "      <td>0</td>\n",
              "    </tr>\n",
              "  </tbody>\n",
              "</table>\n",
              "</div>"
            ],
            "text/plain": [
              "  DEPARTAMENTO         PROVINICA   DISTRITO      CULTIVO    CAMPANA  AGO  SEP  \\\n",
              "0       ANCASH              AIJA     SUCCHA  Papa nativa  2020-2021    0    0   \n",
              "1       ANCASH  ANTONIO RAYMONDI  LLAMELLIN       Olluco  2020-2021    0    0   \n",
              "2       ANCASH  ANTONIO RAYMONDI  LLAMELLIN       Quinua  2020-2021    0    0   \n",
              "3       ANCASH  ANTONIO RAYMONDI       ACZO       Quinua  2020-2021    0    0   \n",
              "4       ANCASH  ANTONIO RAYMONDI    CHINGAS       Olluco  2020-2021    0    0   \n",
              "\n",
              "   OCT  NOV  DIC  ENE  FEB  MAR  ABR  MAY  JUN  JUL  \n",
              "0    1    0    0    0    0    0    0    0    0    0  \n",
              "1    1    0    0    0    0    0    0    0    0    0  \n",
              "2    1    0    0    0    0    0    0    0    0    0  \n",
              "3    1    0    0    0    0    0    0    0    0    0  \n",
              "4    1    0    0    0    0    0    0    0    0    0  "
            ]
          },
          "execution_count": 2,
          "metadata": {},
          "output_type": "execute_result"
        }
      ],
      "source": [
        "df_siembra = pd.read_excel(\"https://www.datosabiertos.gob.pe/node/6920/download\")\n",
        "df_siembra.head()"
      ]
    },
    {
      "cell_type": "code",
      "execution_count": 3,
      "metadata": {
        "colab": {
          "base_uri": "https://localhost:8080/"
        },
        "id": "P60YX7Q-ioL3",
        "outputId": "2062c281-1840-4a35-dd33-9ab61827519b"
      },
      "outputs": [
        {
          "data": {
            "text/plain": [
              "(12181, 17)"
            ]
          },
          "execution_count": 3,
          "metadata": {},
          "output_type": "execute_result"
        }
      ],
      "source": [
        "df_siembra.shape"
      ]
    },
    {
      "attachments": {},
      "cell_type": "markdown",
      "metadata": {
        "id": "wgDrKsvNunRB"
      },
      "source": [
        "# Pre-processing the data"
      ]
    },
    {
      "cell_type": "code",
      "execution_count": 4,
      "metadata": {
        "colab": {
          "base_uri": "https://localhost:8080/",
          "height": 423
        },
        "id": "6xZiuLtQipN_",
        "outputId": "0a59ac5b-cf19-485a-c005-b976118591b9"
      },
      "outputs": [
        {
          "data": {
            "text/html": [
              "<div>\n",
              "<style scoped>\n",
              "    .dataframe tbody tr th:only-of-type {\n",
              "        vertical-align: middle;\n",
              "    }\n",
              "\n",
              "    .dataframe tbody tr th {\n",
              "        vertical-align: top;\n",
              "    }\n",
              "\n",
              "    .dataframe thead th {\n",
              "        text-align: right;\n",
              "    }\n",
              "</style>\n",
              "<table border=\"1\" class=\"dataframe\">\n",
              "  <thead>\n",
              "    <tr style=\"text-align: right;\">\n",
              "      <th></th>\n",
              "      <th>DEPARTAMENTO</th>\n",
              "      <th>PROVINCIA</th>\n",
              "      <th>DISTRITO</th>\n",
              "      <th>CULTIVO</th>\n",
              "      <th>CAMPANA</th>\n",
              "      <th>AGO</th>\n",
              "      <th>SEP</th>\n",
              "      <th>OCT</th>\n",
              "      <th>NOV</th>\n",
              "      <th>DIC</th>\n",
              "      <th>ENE</th>\n",
              "      <th>FEB</th>\n",
              "      <th>MAR</th>\n",
              "      <th>ABR</th>\n",
              "      <th>MAY</th>\n",
              "      <th>JUN</th>\n",
              "      <th>JUL</th>\n",
              "    </tr>\n",
              "  </thead>\n",
              "  <tbody>\n",
              "    <tr>\n",
              "      <th>0</th>\n",
              "      <td>ANCASH</td>\n",
              "      <td>AIJA</td>\n",
              "      <td>SUCCHA</td>\n",
              "      <td>Papa nativa</td>\n",
              "      <td>2020-2021</td>\n",
              "      <td>0</td>\n",
              "      <td>0</td>\n",
              "      <td>1</td>\n",
              "      <td>0</td>\n",
              "      <td>0</td>\n",
              "      <td>0</td>\n",
              "      <td>0</td>\n",
              "      <td>0</td>\n",
              "      <td>0</td>\n",
              "      <td>0</td>\n",
              "      <td>0</td>\n",
              "      <td>0</td>\n",
              "    </tr>\n",
              "    <tr>\n",
              "      <th>1</th>\n",
              "      <td>ANCASH</td>\n",
              "      <td>ANTONIO RAYMONDI</td>\n",
              "      <td>LLAMELLIN</td>\n",
              "      <td>Olluco</td>\n",
              "      <td>2020-2021</td>\n",
              "      <td>0</td>\n",
              "      <td>0</td>\n",
              "      <td>1</td>\n",
              "      <td>0</td>\n",
              "      <td>0</td>\n",
              "      <td>0</td>\n",
              "      <td>0</td>\n",
              "      <td>0</td>\n",
              "      <td>0</td>\n",
              "      <td>0</td>\n",
              "      <td>0</td>\n",
              "      <td>0</td>\n",
              "    </tr>\n",
              "    <tr>\n",
              "      <th>2</th>\n",
              "      <td>ANCASH</td>\n",
              "      <td>ANTONIO RAYMONDI</td>\n",
              "      <td>LLAMELLIN</td>\n",
              "      <td>Quinua</td>\n",
              "      <td>2020-2021</td>\n",
              "      <td>0</td>\n",
              "      <td>0</td>\n",
              "      <td>1</td>\n",
              "      <td>0</td>\n",
              "      <td>0</td>\n",
              "      <td>0</td>\n",
              "      <td>0</td>\n",
              "      <td>0</td>\n",
              "      <td>0</td>\n",
              "      <td>0</td>\n",
              "      <td>0</td>\n",
              "      <td>0</td>\n",
              "    </tr>\n",
              "    <tr>\n",
              "      <th>3</th>\n",
              "      <td>ANCASH</td>\n",
              "      <td>ANTONIO RAYMONDI</td>\n",
              "      <td>ACZO</td>\n",
              "      <td>Quinua</td>\n",
              "      <td>2020-2021</td>\n",
              "      <td>0</td>\n",
              "      <td>0</td>\n",
              "      <td>1</td>\n",
              "      <td>0</td>\n",
              "      <td>0</td>\n",
              "      <td>0</td>\n",
              "      <td>0</td>\n",
              "      <td>0</td>\n",
              "      <td>0</td>\n",
              "      <td>0</td>\n",
              "      <td>0</td>\n",
              "      <td>0</td>\n",
              "    </tr>\n",
              "    <tr>\n",
              "      <th>4</th>\n",
              "      <td>ANCASH</td>\n",
              "      <td>ANTONIO RAYMONDI</td>\n",
              "      <td>CHINGAS</td>\n",
              "      <td>Olluco</td>\n",
              "      <td>2020-2021</td>\n",
              "      <td>0</td>\n",
              "      <td>0</td>\n",
              "      <td>1</td>\n",
              "      <td>0</td>\n",
              "      <td>0</td>\n",
              "      <td>0</td>\n",
              "      <td>0</td>\n",
              "      <td>0</td>\n",
              "      <td>0</td>\n",
              "      <td>0</td>\n",
              "      <td>0</td>\n",
              "      <td>0</td>\n",
              "    </tr>\n",
              "    <tr>\n",
              "      <th>...</th>\n",
              "      <td>...</td>\n",
              "      <td>...</td>\n",
              "      <td>...</td>\n",
              "      <td>...</td>\n",
              "      <td>...</td>\n",
              "      <td>...</td>\n",
              "      <td>...</td>\n",
              "      <td>...</td>\n",
              "      <td>...</td>\n",
              "      <td>...</td>\n",
              "      <td>...</td>\n",
              "      <td>...</td>\n",
              "      <td>...</td>\n",
              "      <td>...</td>\n",
              "      <td>...</td>\n",
              "      <td>...</td>\n",
              "      <td>...</td>\n",
              "    </tr>\n",
              "    <tr>\n",
              "      <th>12176</th>\n",
              "      <td>ANCASH</td>\n",
              "      <td>RECUAY</td>\n",
              "      <td>TAPACOCHA</td>\n",
              "      <td>Cebada grano</td>\n",
              "      <td>2020-2021</td>\n",
              "      <td>0</td>\n",
              "      <td>0</td>\n",
              "      <td>0</td>\n",
              "      <td>0</td>\n",
              "      <td>0</td>\n",
              "      <td>4</td>\n",
              "      <td>5</td>\n",
              "      <td>0</td>\n",
              "      <td>0</td>\n",
              "      <td>0</td>\n",
              "      <td>0</td>\n",
              "      <td>0</td>\n",
              "    </tr>\n",
              "    <tr>\n",
              "      <th>12177</th>\n",
              "      <td>ANCASH</td>\n",
              "      <td>RECUAY</td>\n",
              "      <td>TAPACOCHA</td>\n",
              "      <td>Haba grano seco</td>\n",
              "      <td>2020-2021</td>\n",
              "      <td>0</td>\n",
              "      <td>0</td>\n",
              "      <td>0</td>\n",
              "      <td>0</td>\n",
              "      <td>0</td>\n",
              "      <td>3</td>\n",
              "      <td>4</td>\n",
              "      <td>0</td>\n",
              "      <td>0</td>\n",
              "      <td>0</td>\n",
              "      <td>0</td>\n",
              "      <td>0</td>\n",
              "    </tr>\n",
              "    <tr>\n",
              "      <th>12178</th>\n",
              "      <td>ANCASH</td>\n",
              "      <td>RECUAY</td>\n",
              "      <td>TAPACOCHA</td>\n",
              "      <td>Trigo</td>\n",
              "      <td>2020-2021</td>\n",
              "      <td>0</td>\n",
              "      <td>0</td>\n",
              "      <td>0</td>\n",
              "      <td>0</td>\n",
              "      <td>0</td>\n",
              "      <td>3</td>\n",
              "      <td>5</td>\n",
              "      <td>0</td>\n",
              "      <td>0</td>\n",
              "      <td>0</td>\n",
              "      <td>0</td>\n",
              "      <td>0</td>\n",
              "    </tr>\n",
              "    <tr>\n",
              "      <th>12179</th>\n",
              "      <td>ANCASH</td>\n",
              "      <td>SANTA</td>\n",
              "      <td>MACATE</td>\n",
              "      <td>Haba grano seco</td>\n",
              "      <td>2020-2021</td>\n",
              "      <td>0</td>\n",
              "      <td>0</td>\n",
              "      <td>0</td>\n",
              "      <td>0</td>\n",
              "      <td>0</td>\n",
              "      <td>3</td>\n",
              "      <td>2</td>\n",
              "      <td>0</td>\n",
              "      <td>0</td>\n",
              "      <td>0</td>\n",
              "      <td>0</td>\n",
              "      <td>0</td>\n",
              "    </tr>\n",
              "    <tr>\n",
              "      <th>12180</th>\n",
              "      <td>ANCASH</td>\n",
              "      <td>YUNGAY</td>\n",
              "      <td>MATACOTO</td>\n",
              "      <td>Arveja grano seco</td>\n",
              "      <td>2020-2021</td>\n",
              "      <td>0</td>\n",
              "      <td>0</td>\n",
              "      <td>0</td>\n",
              "      <td>0</td>\n",
              "      <td>0</td>\n",
              "      <td>3</td>\n",
              "      <td>3</td>\n",
              "      <td>0</td>\n",
              "      <td>0</td>\n",
              "      <td>0</td>\n",
              "      <td>0</td>\n",
              "      <td>0</td>\n",
              "    </tr>\n",
              "  </tbody>\n",
              "</table>\n",
              "<p>12181 rows × 17 columns</p>\n",
              "</div>"
            ],
            "text/plain": [
              "      DEPARTAMENTO         PROVINCIA   DISTRITO            CULTIVO    CAMPANA  \\\n",
              "0           ANCASH              AIJA     SUCCHA        Papa nativa  2020-2021   \n",
              "1           ANCASH  ANTONIO RAYMONDI  LLAMELLIN             Olluco  2020-2021   \n",
              "2           ANCASH  ANTONIO RAYMONDI  LLAMELLIN             Quinua  2020-2021   \n",
              "3           ANCASH  ANTONIO RAYMONDI       ACZO             Quinua  2020-2021   \n",
              "4           ANCASH  ANTONIO RAYMONDI    CHINGAS             Olluco  2020-2021   \n",
              "...            ...               ...        ...                ...        ...   \n",
              "12176       ANCASH            RECUAY  TAPACOCHA       Cebada grano  2020-2021   \n",
              "12177       ANCASH            RECUAY  TAPACOCHA    Haba grano seco  2020-2021   \n",
              "12178       ANCASH            RECUAY  TAPACOCHA              Trigo  2020-2021   \n",
              "12179       ANCASH             SANTA     MACATE    Haba grano seco  2020-2021   \n",
              "12180       ANCASH            YUNGAY   MATACOTO  Arveja grano seco  2020-2021   \n",
              "\n",
              "       AGO  SEP  OCT  NOV  DIC  ENE  FEB  MAR  ABR  MAY  JUN  JUL  \n",
              "0        0    0    1    0    0    0    0    0    0    0    0    0  \n",
              "1        0    0    1    0    0    0    0    0    0    0    0    0  \n",
              "2        0    0    1    0    0    0    0    0    0    0    0    0  \n",
              "3        0    0    1    0    0    0    0    0    0    0    0    0  \n",
              "4        0    0    1    0    0    0    0    0    0    0    0    0  \n",
              "...    ...  ...  ...  ...  ...  ...  ...  ...  ...  ...  ...  ...  \n",
              "12176    0    0    0    0    0    4    5    0    0    0    0    0  \n",
              "12177    0    0    0    0    0    3    4    0    0    0    0    0  \n",
              "12178    0    0    0    0    0    3    5    0    0    0    0    0  \n",
              "12179    0    0    0    0    0    3    2    0    0    0    0    0  \n",
              "12180    0    0    0    0    0    3    3    0    0    0    0    0  \n",
              "\n",
              "[12181 rows x 17 columns]"
            ]
          },
          "execution_count": 4,
          "metadata": {},
          "output_type": "execute_result"
        }
      ],
      "source": [
        "df_siembra.rename(columns={'PROVINICA':'PROVINCIA'}, inplace=True)\n",
        "df_siembra"
      ]
    },
    {
      "cell_type": "code",
      "execution_count": 5,
      "metadata": {
        "colab": {
          "base_uri": "https://localhost:8080/"
        },
        "id": "efBMW4TPiv3n",
        "outputId": "fef6671f-bb8c-4647-92b6-d9be28337720"
      },
      "outputs": [
        {
          "name": "stdout",
          "output_type": "stream",
          "text": [
            "Existen 26 cultivos\n"
          ]
        },
        {
          "data": {
            "text/plain": [
              "array(['Papa nativa', 'Olluco', 'Quinua', 'Papa color',\n",
              "       'Frijol grano seco', 'Arveja grano seco', 'Arveja grano verde',\n",
              "       'Zapallo', 'Cebada grano', 'Tomate', 'Papa blanca',\n",
              "       'Maiz amarillo duro', 'Cebolla cabeza roja', 'Aji', 'Trigo',\n",
              "       'Haba grano seco', 'Yuca', 'Zanahoria', 'Maiz choclo',\n",
              "       'Maiz amilaceo', 'Ajo', 'Camote', 'Arroz cascara', 'Algodon',\n",
              "       'Paprika', 'Cebolla cabeza blanca o amarilla'], dtype=object)"
            ]
          },
          "execution_count": 5,
          "metadata": {},
          "output_type": "execute_result"
        }
      ],
      "source": [
        "print('Existen {} cultivos'.format(len(df_siembra['CULTIVO'].unique())))\n",
        "df_siembra['CULTIVO'].unique()"
      ]
    },
    {
      "cell_type": "code",
      "execution_count": 6,
      "metadata": {
        "colab": {
          "base_uri": "https://localhost:8080/",
          "height": 423
        },
        "id": "Lo8CiCASiwlP",
        "outputId": "814e113b-a65d-40bd-dee1-d980580e3625"
      },
      "outputs": [
        {
          "data": {
            "text/html": [
              "<div>\n",
              "<style scoped>\n",
              "    .dataframe tbody tr th:only-of-type {\n",
              "        vertical-align: middle;\n",
              "    }\n",
              "\n",
              "    .dataframe tbody tr th {\n",
              "        vertical-align: top;\n",
              "    }\n",
              "\n",
              "    .dataframe thead th {\n",
              "        text-align: right;\n",
              "    }\n",
              "</style>\n",
              "<table border=\"1\" class=\"dataframe\">\n",
              "  <thead>\n",
              "    <tr style=\"text-align: right;\">\n",
              "      <th></th>\n",
              "      <th>DEPARTAMENTO</th>\n",
              "      <th>PROVINCIA</th>\n",
              "      <th>DISTRITO</th>\n",
              "      <th>CULTIVO</th>\n",
              "      <th>CAMPANA</th>\n",
              "      <th>AGO</th>\n",
              "      <th>SEP</th>\n",
              "      <th>OCT</th>\n",
              "      <th>NOV</th>\n",
              "      <th>DIC</th>\n",
              "      <th>ENE</th>\n",
              "      <th>FEB</th>\n",
              "      <th>MAR</th>\n",
              "      <th>ABR</th>\n",
              "      <th>MAY</th>\n",
              "      <th>JUN</th>\n",
              "      <th>JUL</th>\n",
              "      <th>UBICACION</th>\n",
              "    </tr>\n",
              "  </thead>\n",
              "  <tbody>\n",
              "    <tr>\n",
              "      <th>0</th>\n",
              "      <td>ANCASH</td>\n",
              "      <td>AIJA</td>\n",
              "      <td>SUCCHA</td>\n",
              "      <td>Papa nativa</td>\n",
              "      <td>2020-2021</td>\n",
              "      <td>0</td>\n",
              "      <td>0</td>\n",
              "      <td>1</td>\n",
              "      <td>0</td>\n",
              "      <td>0</td>\n",
              "      <td>0</td>\n",
              "      <td>0</td>\n",
              "      <td>0</td>\n",
              "      <td>0</td>\n",
              "      <td>0</td>\n",
              "      <td>0</td>\n",
              "      <td>0</td>\n",
              "      <td>ANCASH-AIJA-SUCCHA</td>\n",
              "    </tr>\n",
              "    <tr>\n",
              "      <th>1</th>\n",
              "      <td>ANCASH</td>\n",
              "      <td>ANTONIO RAYMONDI</td>\n",
              "      <td>LLAMELLIN</td>\n",
              "      <td>Olluco</td>\n",
              "      <td>2020-2021</td>\n",
              "      <td>0</td>\n",
              "      <td>0</td>\n",
              "      <td>1</td>\n",
              "      <td>0</td>\n",
              "      <td>0</td>\n",
              "      <td>0</td>\n",
              "      <td>0</td>\n",
              "      <td>0</td>\n",
              "      <td>0</td>\n",
              "      <td>0</td>\n",
              "      <td>0</td>\n",
              "      <td>0</td>\n",
              "      <td>ANCASH-ANTONIO RAYMONDI-LLAMELLIN</td>\n",
              "    </tr>\n",
              "    <tr>\n",
              "      <th>2</th>\n",
              "      <td>ANCASH</td>\n",
              "      <td>ANTONIO RAYMONDI</td>\n",
              "      <td>LLAMELLIN</td>\n",
              "      <td>Quinua</td>\n",
              "      <td>2020-2021</td>\n",
              "      <td>0</td>\n",
              "      <td>0</td>\n",
              "      <td>1</td>\n",
              "      <td>0</td>\n",
              "      <td>0</td>\n",
              "      <td>0</td>\n",
              "      <td>0</td>\n",
              "      <td>0</td>\n",
              "      <td>0</td>\n",
              "      <td>0</td>\n",
              "      <td>0</td>\n",
              "      <td>0</td>\n",
              "      <td>ANCASH-ANTONIO RAYMONDI-LLAMELLIN</td>\n",
              "    </tr>\n",
              "    <tr>\n",
              "      <th>3</th>\n",
              "      <td>ANCASH</td>\n",
              "      <td>ANTONIO RAYMONDI</td>\n",
              "      <td>ACZO</td>\n",
              "      <td>Quinua</td>\n",
              "      <td>2020-2021</td>\n",
              "      <td>0</td>\n",
              "      <td>0</td>\n",
              "      <td>1</td>\n",
              "      <td>0</td>\n",
              "      <td>0</td>\n",
              "      <td>0</td>\n",
              "      <td>0</td>\n",
              "      <td>0</td>\n",
              "      <td>0</td>\n",
              "      <td>0</td>\n",
              "      <td>0</td>\n",
              "      <td>0</td>\n",
              "      <td>ANCASH-ANTONIO RAYMONDI-ACZO</td>\n",
              "    </tr>\n",
              "    <tr>\n",
              "      <th>4</th>\n",
              "      <td>ANCASH</td>\n",
              "      <td>ANTONIO RAYMONDI</td>\n",
              "      <td>CHINGAS</td>\n",
              "      <td>Olluco</td>\n",
              "      <td>2020-2021</td>\n",
              "      <td>0</td>\n",
              "      <td>0</td>\n",
              "      <td>1</td>\n",
              "      <td>0</td>\n",
              "      <td>0</td>\n",
              "      <td>0</td>\n",
              "      <td>0</td>\n",
              "      <td>0</td>\n",
              "      <td>0</td>\n",
              "      <td>0</td>\n",
              "      <td>0</td>\n",
              "      <td>0</td>\n",
              "      <td>ANCASH-ANTONIO RAYMONDI-CHINGAS</td>\n",
              "    </tr>\n",
              "    <tr>\n",
              "      <th>...</th>\n",
              "      <td>...</td>\n",
              "      <td>...</td>\n",
              "      <td>...</td>\n",
              "      <td>...</td>\n",
              "      <td>...</td>\n",
              "      <td>...</td>\n",
              "      <td>...</td>\n",
              "      <td>...</td>\n",
              "      <td>...</td>\n",
              "      <td>...</td>\n",
              "      <td>...</td>\n",
              "      <td>...</td>\n",
              "      <td>...</td>\n",
              "      <td>...</td>\n",
              "      <td>...</td>\n",
              "      <td>...</td>\n",
              "      <td>...</td>\n",
              "      <td>...</td>\n",
              "    </tr>\n",
              "    <tr>\n",
              "      <th>12176</th>\n",
              "      <td>ANCASH</td>\n",
              "      <td>RECUAY</td>\n",
              "      <td>TAPACOCHA</td>\n",
              "      <td>Cebada grano</td>\n",
              "      <td>2020-2021</td>\n",
              "      <td>0</td>\n",
              "      <td>0</td>\n",
              "      <td>0</td>\n",
              "      <td>0</td>\n",
              "      <td>0</td>\n",
              "      <td>4</td>\n",
              "      <td>5</td>\n",
              "      <td>0</td>\n",
              "      <td>0</td>\n",
              "      <td>0</td>\n",
              "      <td>0</td>\n",
              "      <td>0</td>\n",
              "      <td>ANCASH-RECUAY-TAPACOCHA</td>\n",
              "    </tr>\n",
              "    <tr>\n",
              "      <th>12177</th>\n",
              "      <td>ANCASH</td>\n",
              "      <td>RECUAY</td>\n",
              "      <td>TAPACOCHA</td>\n",
              "      <td>Haba grano seco</td>\n",
              "      <td>2020-2021</td>\n",
              "      <td>0</td>\n",
              "      <td>0</td>\n",
              "      <td>0</td>\n",
              "      <td>0</td>\n",
              "      <td>0</td>\n",
              "      <td>3</td>\n",
              "      <td>4</td>\n",
              "      <td>0</td>\n",
              "      <td>0</td>\n",
              "      <td>0</td>\n",
              "      <td>0</td>\n",
              "      <td>0</td>\n",
              "      <td>ANCASH-RECUAY-TAPACOCHA</td>\n",
              "    </tr>\n",
              "    <tr>\n",
              "      <th>12178</th>\n",
              "      <td>ANCASH</td>\n",
              "      <td>RECUAY</td>\n",
              "      <td>TAPACOCHA</td>\n",
              "      <td>Trigo</td>\n",
              "      <td>2020-2021</td>\n",
              "      <td>0</td>\n",
              "      <td>0</td>\n",
              "      <td>0</td>\n",
              "      <td>0</td>\n",
              "      <td>0</td>\n",
              "      <td>3</td>\n",
              "      <td>5</td>\n",
              "      <td>0</td>\n",
              "      <td>0</td>\n",
              "      <td>0</td>\n",
              "      <td>0</td>\n",
              "      <td>0</td>\n",
              "      <td>ANCASH-RECUAY-TAPACOCHA</td>\n",
              "    </tr>\n",
              "    <tr>\n",
              "      <th>12179</th>\n",
              "      <td>ANCASH</td>\n",
              "      <td>SANTA</td>\n",
              "      <td>MACATE</td>\n",
              "      <td>Haba grano seco</td>\n",
              "      <td>2020-2021</td>\n",
              "      <td>0</td>\n",
              "      <td>0</td>\n",
              "      <td>0</td>\n",
              "      <td>0</td>\n",
              "      <td>0</td>\n",
              "      <td>3</td>\n",
              "      <td>2</td>\n",
              "      <td>0</td>\n",
              "      <td>0</td>\n",
              "      <td>0</td>\n",
              "      <td>0</td>\n",
              "      <td>0</td>\n",
              "      <td>ANCASH-SANTA-MACATE</td>\n",
              "    </tr>\n",
              "    <tr>\n",
              "      <th>12180</th>\n",
              "      <td>ANCASH</td>\n",
              "      <td>YUNGAY</td>\n",
              "      <td>MATACOTO</td>\n",
              "      <td>Arveja grano seco</td>\n",
              "      <td>2020-2021</td>\n",
              "      <td>0</td>\n",
              "      <td>0</td>\n",
              "      <td>0</td>\n",
              "      <td>0</td>\n",
              "      <td>0</td>\n",
              "      <td>3</td>\n",
              "      <td>3</td>\n",
              "      <td>0</td>\n",
              "      <td>0</td>\n",
              "      <td>0</td>\n",
              "      <td>0</td>\n",
              "      <td>0</td>\n",
              "      <td>ANCASH-YUNGAY-MATACOTO</td>\n",
              "    </tr>\n",
              "  </tbody>\n",
              "</table>\n",
              "<p>12181 rows × 18 columns</p>\n",
              "</div>"
            ],
            "text/plain": [
              "      DEPARTAMENTO         PROVINCIA   DISTRITO            CULTIVO    CAMPANA  \\\n",
              "0           ANCASH              AIJA     SUCCHA        Papa nativa  2020-2021   \n",
              "1           ANCASH  ANTONIO RAYMONDI  LLAMELLIN             Olluco  2020-2021   \n",
              "2           ANCASH  ANTONIO RAYMONDI  LLAMELLIN             Quinua  2020-2021   \n",
              "3           ANCASH  ANTONIO RAYMONDI       ACZO             Quinua  2020-2021   \n",
              "4           ANCASH  ANTONIO RAYMONDI    CHINGAS             Olluco  2020-2021   \n",
              "...            ...               ...        ...                ...        ...   \n",
              "12176       ANCASH            RECUAY  TAPACOCHA       Cebada grano  2020-2021   \n",
              "12177       ANCASH            RECUAY  TAPACOCHA    Haba grano seco  2020-2021   \n",
              "12178       ANCASH            RECUAY  TAPACOCHA              Trigo  2020-2021   \n",
              "12179       ANCASH             SANTA     MACATE    Haba grano seco  2020-2021   \n",
              "12180       ANCASH            YUNGAY   MATACOTO  Arveja grano seco  2020-2021   \n",
              "\n",
              "       AGO  SEP  OCT  NOV  DIC  ENE  FEB  MAR  ABR  MAY  JUN  JUL  \\\n",
              "0        0    0    1    0    0    0    0    0    0    0    0    0   \n",
              "1        0    0    1    0    0    0    0    0    0    0    0    0   \n",
              "2        0    0    1    0    0    0    0    0    0    0    0    0   \n",
              "3        0    0    1    0    0    0    0    0    0    0    0    0   \n",
              "4        0    0    1    0    0    0    0    0    0    0    0    0   \n",
              "...    ...  ...  ...  ...  ...  ...  ...  ...  ...  ...  ...  ...   \n",
              "12176    0    0    0    0    0    4    5    0    0    0    0    0   \n",
              "12177    0    0    0    0    0    3    4    0    0    0    0    0   \n",
              "12178    0    0    0    0    0    3    5    0    0    0    0    0   \n",
              "12179    0    0    0    0    0    3    2    0    0    0    0    0   \n",
              "12180    0    0    0    0    0    3    3    0    0    0    0    0   \n",
              "\n",
              "                               UBICACION  \n",
              "0                     ANCASH-AIJA-SUCCHA  \n",
              "1      ANCASH-ANTONIO RAYMONDI-LLAMELLIN  \n",
              "2      ANCASH-ANTONIO RAYMONDI-LLAMELLIN  \n",
              "3           ANCASH-ANTONIO RAYMONDI-ACZO  \n",
              "4        ANCASH-ANTONIO RAYMONDI-CHINGAS  \n",
              "...                                  ...  \n",
              "12176            ANCASH-RECUAY-TAPACOCHA  \n",
              "12177            ANCASH-RECUAY-TAPACOCHA  \n",
              "12178            ANCASH-RECUAY-TAPACOCHA  \n",
              "12179                ANCASH-SANTA-MACATE  \n",
              "12180             ANCASH-YUNGAY-MATACOTO  \n",
              "\n",
              "[12181 rows x 18 columns]"
            ]
          },
          "execution_count": 6,
          "metadata": {},
          "output_type": "execute_result"
        }
      ],
      "source": [
        "df_siembra['UBICACION'] = df_siembra['DEPARTAMENTO'] + '-' + df_siembra['PROVINCIA'] + '-' + df_siembra['DISTRITO']\n",
        "df_siembra"
      ]
    },
    {
      "attachments": {},
      "cell_type": "markdown",
      "metadata": {
        "id": "ohlyDCrfurMs"
      },
      "source": [
        "# Transactional data"
      ]
    },
    {
      "cell_type": "code",
      "execution_count": 7,
      "metadata": {
        "colab": {
          "base_uri": "https://localhost:8080/"
        },
        "id": "NBXdprmvi1O3",
        "outputId": "8442008f-2f9f-4ea6-8fbb-f02cc3474d99"
      },
      "outputs": [
        {
          "name": "stdout",
          "output_type": "stream",
          "text": [
            "1503\n"
          ]
        }
      ],
      "source": [
        "def to_transactional(df, column_trans, column_items):\n",
        "  transactions = []\n",
        "  for v in df[column_trans].unique():\n",
        "    transactions.append(list(df[df[column_trans] == v][column_items].values))\n",
        "  return transactions\n",
        "\n",
        "trans = to_transactional(df_siembra, 'UBICACION', 'CULTIVO')\n",
        "print(len(trans))"
      ]
    },
    {
      "attachments": {},
      "cell_type": "markdown",
      "metadata": {
        "id": "CMoN_9z6u20k"
      },
      "source": [
        "## Attributes"
      ]
    },
    {
      "cell_type": "code",
      "execution_count": 8,
      "metadata": {
        "colab": {
          "base_uri": "https://localhost:8080/"
        },
        "id": "3Dg-AeGvsAjV",
        "outputId": "9f1ec3e3-fe6b-4efc-887d-b37cab1f55db"
      },
      "outputs": [
        {
          "name": "stdout",
          "output_type": "stream",
          "text": [
            "{'Papa nativa': 2, 'Olluco': 20, 'Quinua': 7, 'Papa color': 15, 'Frijol grano seco': 3, 'Arveja grano seco': 9, 'Arveja grano verde': 14, 'Zapallo': 20, 'Cebada grano': 15, 'Tomate': 17, 'Papa blanca': 7, 'Maiz amarillo duro': 13, 'Cebolla cabeza roja': 7, 'Aji': 17, 'Trigo': 6, 'Haba grano seco': 16, 'Yuca': 6, 'Zanahoria': 4, 'Maiz choclo': 11, 'Maiz amilaceo': 18, 'Ajo': 17, 'Camote': 20, 'Arroz cascara': 15, 'Algodon': 17, 'Paprika': 6, 'Cebolla cabeza blanca o amarilla': 14}\n",
            "{'Papa nativa': 27, 'Olluco': 16, 'Quinua': 29, 'Papa color': 26, 'Frijol grano seco': 49, 'Arveja grano seco': 19, 'Arveja grano verde': 40, 'Zapallo': 15, 'Cebada grano': 26, 'Tomate': 45, 'Papa blanca': 40, 'Maiz amarillo duro': 17, 'Cebolla cabeza roja': 37, 'Aji': 49, 'Trigo': 26, 'Haba grano seco': 17, 'Yuca': 49, 'Zanahoria': 18, 'Maiz choclo': 28, 'Maiz amilaceo': 28, 'Ajo': 34, 'Camote': 31, 'Arroz cascara': 27, 'Algodon': 33, 'Paprika': 8, 'Cebolla cabeza blanca o amarilla': 8}\n"
          ]
        }
      ],
      "source": [
        "price = {cultivo:random.randint(1,20) for cultivo in df_siembra['CULTIVO'].tolist()}\n",
        "water = {cultivo:random.randint(5,50) for cultivo in df_siembra['CULTIVO'].tolist()}\n",
        "\n",
        "print(price)\n",
        "print(water)"
      ]
    },
    {
      "attachments": {},
      "cell_type": "markdown",
      "metadata": {
        "id": "DABHuZcDu4M8"
      },
      "source": [
        "## Extract itemsets"
      ]
    },
    {
      "cell_type": "code",
      "execution_count": 9,
      "metadata": {
        "colab": {
          "base_uri": "https://localhost:8080/",
          "height": 423
        },
        "id": "r2aO2Dcai4GH",
        "outputId": "30bbbe4e-f43a-4256-a22e-1dee4a9bca4a"
      },
      "outputs": [
        {
          "data": {
            "text/html": [
              "<div>\n",
              "<style scoped>\n",
              "    .dataframe tbody tr th:only-of-type {\n",
              "        vertical-align: middle;\n",
              "    }\n",
              "\n",
              "    .dataframe tbody tr th {\n",
              "        vertical-align: top;\n",
              "    }\n",
              "\n",
              "    .dataframe thead th {\n",
              "        text-align: right;\n",
              "    }\n",
              "</style>\n",
              "<table border=\"1\" class=\"dataframe\">\n",
              "  <thead>\n",
              "    <tr style=\"text-align: right;\">\n",
              "      <th></th>\n",
              "      <th>Itemset</th>\n",
              "      <th>Freq</th>\n",
              "      <th>Freq(%)</th>\n",
              "      <th>Size</th>\n",
              "    </tr>\n",
              "  </thead>\n",
              "  <tbody>\n",
              "    <tr>\n",
              "      <th>0</th>\n",
              "      <td>['Maiz amilaceo']</td>\n",
              "      <td>926</td>\n",
              "      <td>61.610113</td>\n",
              "      <td>1</td>\n",
              "    </tr>\n",
              "    <tr>\n",
              "      <th>1</th>\n",
              "      <td>['Cebada grano', 'Maiz amilaceo']</td>\n",
              "      <td>701</td>\n",
              "      <td>46.640053</td>\n",
              "      <td>2</td>\n",
              "    </tr>\n",
              "    <tr>\n",
              "      <th>2</th>\n",
              "      <td>['Cebada grano']</td>\n",
              "      <td>802</td>\n",
              "      <td>53.359947</td>\n",
              "      <td>1</td>\n",
              "    </tr>\n",
              "    <tr>\n",
              "      <th>3</th>\n",
              "      <td>['Maiz amilaceo', 'Papa blanca']</td>\n",
              "      <td>702</td>\n",
              "      <td>46.706587</td>\n",
              "      <td>2</td>\n",
              "    </tr>\n",
              "    <tr>\n",
              "      <th>4</th>\n",
              "      <td>['Cebada grano', 'Maiz amilaceo', 'Papa blanca']</td>\n",
              "      <td>597</td>\n",
              "      <td>39.720559</td>\n",
              "      <td>3</td>\n",
              "    </tr>\n",
              "    <tr>\n",
              "      <th>...</th>\n",
              "      <td>...</td>\n",
              "      <td>...</td>\n",
              "      <td>...</td>\n",
              "      <td>...</td>\n",
              "    </tr>\n",
              "    <tr>\n",
              "      <th>143933</th>\n",
              "      <td>['Aji', 'Paprika', 'Tomate', 'Zapallo']</td>\n",
              "      <td>17</td>\n",
              "      <td>1.131071</td>\n",
              "      <td>4</td>\n",
              "    </tr>\n",
              "    <tr>\n",
              "      <th>143934</th>\n",
              "      <td>['Aji', 'Cebolla cabeza roja', 'Paprika', 'Tomate']</td>\n",
              "      <td>17</td>\n",
              "      <td>1.131071</td>\n",
              "      <td>4</td>\n",
              "    </tr>\n",
              "    <tr>\n",
              "      <th>143935</th>\n",
              "      <td>['Aji', 'Paprika', 'Tomate']</td>\n",
              "      <td>19</td>\n",
              "      <td>1.264138</td>\n",
              "      <td>3</td>\n",
              "    </tr>\n",
              "    <tr>\n",
              "      <th>143936</th>\n",
              "      <td>['Aji', 'Paprika']</td>\n",
              "      <td>22</td>\n",
              "      <td>1.463739</td>\n",
              "      <td>2</td>\n",
              "    </tr>\n",
              "    <tr>\n",
              "      <th>143937</th>\n",
              "      <td>['Paprika']</td>\n",
              "      <td>41</td>\n",
              "      <td>2.727878</td>\n",
              "      <td>1</td>\n",
              "    </tr>\n",
              "  </tbody>\n",
              "</table>\n",
              "<p>143938 rows × 4 columns</p>\n",
              "</div>"
            ],
            "text/plain": [
              "                                                    Itemset  Freq    Freq(%)  \\\n",
              "0                                         ['Maiz amilaceo']   926  61.610113   \n",
              "1                         ['Cebada grano', 'Maiz amilaceo']   701  46.640053   \n",
              "2                                          ['Cebada grano']   802  53.359947   \n",
              "3                          ['Maiz amilaceo', 'Papa blanca']   702  46.706587   \n",
              "4          ['Cebada grano', 'Maiz amilaceo', 'Papa blanca']   597  39.720559   \n",
              "...                                                     ...   ...        ...   \n",
              "143933              ['Aji', 'Paprika', 'Tomate', 'Zapallo']    17   1.131071   \n",
              "143934  ['Aji', 'Cebolla cabeza roja', 'Paprika', 'Tomate']    17   1.131071   \n",
              "143935                         ['Aji', 'Paprika', 'Tomate']    19   1.264138   \n",
              "143936                                   ['Aji', 'Paprika']    22   1.463739   \n",
              "143937                                          ['Paprika']    41   2.727878   \n",
              "\n",
              "        Size  \n",
              "0          1  \n",
              "1          2  \n",
              "2          1  \n",
              "3          2  \n",
              "4          3  \n",
              "...      ...  \n",
              "143933     4  \n",
              "143934     4  \n",
              "143935     3  \n",
              "143936     2  \n",
              "143937     1  \n",
              "\n",
              "[143938 rows x 4 columns]"
            ]
          },
          "execution_count": 9,
          "metadata": {},
          "output_type": "execute_result"
        }
      ],
      "source": [
        "#función para extraer todos los itemsets frecuentes y retornarlos como dataframe\n",
        "def all_itemsets(trans_, supp_=1):\n",
        "  #calcular todos los itemsets frecuentes en trans_ con soporte mínimo supp_\n",
        "  #reportando su frecuencia absoluta (a) y relativa (S)\n",
        "  r = fpgrowth(trans_, supp=supp_, report='aS')\n",
        "  #convertir el resultado en dataframe\n",
        "  df_items = pd.DataFrame(r)\n",
        "  #nombrar columnas\n",
        "  df_items.columns = ['Itemset', 'Freq', 'Freq(%)']\n",
        "  df_items['Size'] = [len(x) for x in df_items['Itemset'].values]\n",
        "  df_items['Itemset'] = [str(sorted(x)) for x in df_items['Itemset'].values]\n",
        "  return df_items\n",
        "\n",
        "all_itemsets(trans, 1)"
      ]
    },
    {
      "attachments": {},
      "cell_type": "markdown",
      "metadata": {
        "id": "S1GMyAFmu7QD"
      },
      "source": [
        "## Emerging itemsets"
      ]
    },
    {
      "cell_type": "code",
      "execution_count": 10,
      "metadata": {
        "colab": {
          "base_uri": "https://localhost:8080/",
          "height": 485
        },
        "id": "1meXu0PUjEuf",
        "outputId": "8460f9dc-614e-4555-cc18-ea6d2f817548"
      },
      "outputs": [
        {
          "name": "stdout",
          "output_type": "stream",
          "text": [
            "52\n"
          ]
        },
        {
          "data": {
            "text/html": [
              "<div>\n",
              "<style scoped>\n",
              "    .dataframe tbody tr th:only-of-type {\n",
              "        vertical-align: middle;\n",
              "    }\n",
              "\n",
              "    .dataframe tbody tr th {\n",
              "        vertical-align: top;\n",
              "    }\n",
              "\n",
              "    .dataframe thead th {\n",
              "        text-align: right;\n",
              "    }\n",
              "</style>\n",
              "<table border=\"1\" class=\"dataframe\">\n",
              "  <thead>\n",
              "    <tr style=\"text-align: right;\">\n",
              "      <th></th>\n",
              "      <th>DEPARTAMENTO</th>\n",
              "      <th>PROVINCIA</th>\n",
              "      <th>DISTRITO</th>\n",
              "      <th>CULTIVO</th>\n",
              "      <th>CAMPANA</th>\n",
              "      <th>AGO</th>\n",
              "      <th>SEP</th>\n",
              "      <th>OCT</th>\n",
              "      <th>NOV</th>\n",
              "      <th>DIC</th>\n",
              "      <th>ENE</th>\n",
              "      <th>FEB</th>\n",
              "      <th>MAR</th>\n",
              "      <th>ABR</th>\n",
              "      <th>MAY</th>\n",
              "      <th>JUN</th>\n",
              "      <th>JUL</th>\n",
              "      <th>UBICACION</th>\n",
              "    </tr>\n",
              "  </thead>\n",
              "  <tbody>\n",
              "    <tr>\n",
              "      <th>30</th>\n",
              "      <td>JUNIN</td>\n",
              "      <td>HUANCAYO</td>\n",
              "      <td>PILCOMAYO</td>\n",
              "      <td>Cebolla cabeza roja</td>\n",
              "      <td>2020-2021</td>\n",
              "      <td>0</td>\n",
              "      <td>0</td>\n",
              "      <td>1</td>\n",
              "      <td>0</td>\n",
              "      <td>0</td>\n",
              "      <td>0</td>\n",
              "      <td>0</td>\n",
              "      <td>0</td>\n",
              "      <td>0</td>\n",
              "      <td>0</td>\n",
              "      <td>0</td>\n",
              "      <td>0</td>\n",
              "      <td>JUNIN-HUANCAYO-PILCOMAYO</td>\n",
              "    </tr>\n",
              "    <tr>\n",
              "      <th>31</th>\n",
              "      <td>JUNIN</td>\n",
              "      <td>CHANCHAMAYO</td>\n",
              "      <td>CHANCHAMAYO</td>\n",
              "      <td>Aji</td>\n",
              "      <td>2020-2021</td>\n",
              "      <td>0</td>\n",
              "      <td>0</td>\n",
              "      <td>1</td>\n",
              "      <td>0</td>\n",
              "      <td>0</td>\n",
              "      <td>0</td>\n",
              "      <td>0</td>\n",
              "      <td>0</td>\n",
              "      <td>0</td>\n",
              "      <td>0</td>\n",
              "      <td>0</td>\n",
              "      <td>0</td>\n",
              "      <td>JUNIN-CHANCHAMAYO-CHANCHAMAYO</td>\n",
              "    </tr>\n",
              "    <tr>\n",
              "      <th>32</th>\n",
              "      <td>JUNIN</td>\n",
              "      <td>TARMA</td>\n",
              "      <td>ACOBAMBA</td>\n",
              "      <td>Quinua</td>\n",
              "      <td>2020-2021</td>\n",
              "      <td>0</td>\n",
              "      <td>0</td>\n",
              "      <td>1</td>\n",
              "      <td>0</td>\n",
              "      <td>0</td>\n",
              "      <td>0</td>\n",
              "      <td>0</td>\n",
              "      <td>0</td>\n",
              "      <td>0</td>\n",
              "      <td>0</td>\n",
              "      <td>0</td>\n",
              "      <td>0</td>\n",
              "      <td>JUNIN-TARMA-ACOBAMBA</td>\n",
              "    </tr>\n",
              "    <tr>\n",
              "      <th>33</th>\n",
              "      <td>JUNIN</td>\n",
              "      <td>YAULI</td>\n",
              "      <td>LA OROYA</td>\n",
              "      <td>Olluco</td>\n",
              "      <td>2020-2021</td>\n",
              "      <td>0</td>\n",
              "      <td>0</td>\n",
              "      <td>1</td>\n",
              "      <td>0</td>\n",
              "      <td>0</td>\n",
              "      <td>0</td>\n",
              "      <td>0</td>\n",
              "      <td>0</td>\n",
              "      <td>0</td>\n",
              "      <td>0</td>\n",
              "      <td>0</td>\n",
              "      <td>0</td>\n",
              "      <td>JUNIN-YAULI-LA OROYA</td>\n",
              "    </tr>\n",
              "    <tr>\n",
              "      <th>34</th>\n",
              "      <td>JUNIN</td>\n",
              "      <td>YAULI</td>\n",
              "      <td>CHACAPALPA</td>\n",
              "      <td>Arveja grano seco</td>\n",
              "      <td>2020-2021</td>\n",
              "      <td>0</td>\n",
              "      <td>0</td>\n",
              "      <td>1</td>\n",
              "      <td>0</td>\n",
              "      <td>0</td>\n",
              "      <td>0</td>\n",
              "      <td>0</td>\n",
              "      <td>0</td>\n",
              "      <td>0</td>\n",
              "      <td>0</td>\n",
              "      <td>0</td>\n",
              "      <td>0</td>\n",
              "      <td>JUNIN-YAULI-CHACAPALPA</td>\n",
              "    </tr>\n",
              "    <tr>\n",
              "      <th>...</th>\n",
              "      <td>...</td>\n",
              "      <td>...</td>\n",
              "      <td>...</td>\n",
              "      <td>...</td>\n",
              "      <td>...</td>\n",
              "      <td>...</td>\n",
              "      <td>...</td>\n",
              "      <td>...</td>\n",
              "      <td>...</td>\n",
              "      <td>...</td>\n",
              "      <td>...</td>\n",
              "      <td>...</td>\n",
              "      <td>...</td>\n",
              "      <td>...</td>\n",
              "      <td>...</td>\n",
              "      <td>...</td>\n",
              "      <td>...</td>\n",
              "      <td>...</td>\n",
              "    </tr>\n",
              "    <tr>\n",
              "      <th>11113</th>\n",
              "      <td>JUNIN</td>\n",
              "      <td>CONCEPCION</td>\n",
              "      <td>MARISCAL CASTILLA</td>\n",
              "      <td>Maiz choclo</td>\n",
              "      <td>2020-2021</td>\n",
              "      <td>0</td>\n",
              "      <td>0</td>\n",
              "      <td>0</td>\n",
              "      <td>0</td>\n",
              "      <td>0</td>\n",
              "      <td>0</td>\n",
              "      <td>5</td>\n",
              "      <td>15</td>\n",
              "      <td>10</td>\n",
              "      <td>0</td>\n",
              "      <td>0</td>\n",
              "      <td>0</td>\n",
              "      <td>JUNIN-CONCEPCION-MARISCAL CASTILLA</td>\n",
              "    </tr>\n",
              "    <tr>\n",
              "      <th>11335</th>\n",
              "      <td>JUNIN</td>\n",
              "      <td>HUANCAYO</td>\n",
              "      <td>EL TAMBO</td>\n",
              "      <td>Cebolla cabeza roja</td>\n",
              "      <td>2020-2021</td>\n",
              "      <td>0</td>\n",
              "      <td>0</td>\n",
              "      <td>0</td>\n",
              "      <td>0</td>\n",
              "      <td>2</td>\n",
              "      <td>2</td>\n",
              "      <td>1</td>\n",
              "      <td>0</td>\n",
              "      <td>0</td>\n",
              "      <td>0</td>\n",
              "      <td>0</td>\n",
              "      <td>0</td>\n",
              "      <td>JUNIN-HUANCAYO-EL TAMBO</td>\n",
              "    </tr>\n",
              "    <tr>\n",
              "      <th>11336</th>\n",
              "      <td>JUNIN</td>\n",
              "      <td>CHUPACA</td>\n",
              "      <td>AHUAC</td>\n",
              "      <td>Cebolla cabeza roja</td>\n",
              "      <td>2020-2021</td>\n",
              "      <td>0</td>\n",
              "      <td>0</td>\n",
              "      <td>0</td>\n",
              "      <td>0</td>\n",
              "      <td>2</td>\n",
              "      <td>3</td>\n",
              "      <td>1</td>\n",
              "      <td>0</td>\n",
              "      <td>0</td>\n",
              "      <td>0</td>\n",
              "      <td>0</td>\n",
              "      <td>0</td>\n",
              "      <td>JUNIN-CHUPACA-AHUAC</td>\n",
              "    </tr>\n",
              "    <tr>\n",
              "      <th>11916</th>\n",
              "      <td>JUNIN</td>\n",
              "      <td>HUANCAYO</td>\n",
              "      <td>CHUPURO</td>\n",
              "      <td>Cebolla cabeza roja</td>\n",
              "      <td>2020-2021</td>\n",
              "      <td>0</td>\n",
              "      <td>0</td>\n",
              "      <td>0</td>\n",
              "      <td>0</td>\n",
              "      <td>0</td>\n",
              "      <td>0</td>\n",
              "      <td>1</td>\n",
              "      <td>0</td>\n",
              "      <td>0</td>\n",
              "      <td>0</td>\n",
              "      <td>0</td>\n",
              "      <td>0</td>\n",
              "      <td>JUNIN-HUANCAYO-CHUPURO</td>\n",
              "    </tr>\n",
              "    <tr>\n",
              "      <th>11917</th>\n",
              "      <td>JUNIN</td>\n",
              "      <td>CHUPACA</td>\n",
              "      <td>HUAMANCACA CHICO</td>\n",
              "      <td>Ajo</td>\n",
              "      <td>2020-2021</td>\n",
              "      <td>0</td>\n",
              "      <td>0</td>\n",
              "      <td>0</td>\n",
              "      <td>0</td>\n",
              "      <td>0</td>\n",
              "      <td>6</td>\n",
              "      <td>4</td>\n",
              "      <td>0</td>\n",
              "      <td>0</td>\n",
              "      <td>0</td>\n",
              "      <td>0</td>\n",
              "      <td>0</td>\n",
              "      <td>JUNIN-CHUPACA-HUAMANCACA CHICO</td>\n",
              "    </tr>\n",
              "  </tbody>\n",
              "</table>\n",
              "<p>500 rows × 18 columns</p>\n",
              "</div>"
            ],
            "text/plain": [
              "      DEPARTAMENTO    PROVINCIA           DISTRITO              CULTIVO  \\\n",
              "30           JUNIN     HUANCAYO          PILCOMAYO  Cebolla cabeza roja   \n",
              "31           JUNIN  CHANCHAMAYO        CHANCHAMAYO                  Aji   \n",
              "32           JUNIN        TARMA           ACOBAMBA               Quinua   \n",
              "33           JUNIN        YAULI           LA OROYA               Olluco   \n",
              "34           JUNIN        YAULI         CHACAPALPA    Arveja grano seco   \n",
              "...            ...          ...                ...                  ...   \n",
              "11113        JUNIN   CONCEPCION  MARISCAL CASTILLA          Maiz choclo   \n",
              "11335        JUNIN     HUANCAYO           EL TAMBO  Cebolla cabeza roja   \n",
              "11336        JUNIN      CHUPACA              AHUAC  Cebolla cabeza roja   \n",
              "11916        JUNIN     HUANCAYO            CHUPURO  Cebolla cabeza roja   \n",
              "11917        JUNIN      CHUPACA   HUAMANCACA CHICO                  Ajo   \n",
              "\n",
              "         CAMPANA  AGO  SEP  OCT  NOV  DIC  ENE  FEB  MAR  ABR  MAY  JUN  JUL  \\\n",
              "30     2020-2021    0    0    1    0    0    0    0    0    0    0    0    0   \n",
              "31     2020-2021    0    0    1    0    0    0    0    0    0    0    0    0   \n",
              "32     2020-2021    0    0    1    0    0    0    0    0    0    0    0    0   \n",
              "33     2020-2021    0    0    1    0    0    0    0    0    0    0    0    0   \n",
              "34     2020-2021    0    0    1    0    0    0    0    0    0    0    0    0   \n",
              "...          ...  ...  ...  ...  ...  ...  ...  ...  ...  ...  ...  ...  ...   \n",
              "11113  2020-2021    0    0    0    0    0    0    5   15   10    0    0    0   \n",
              "11335  2020-2021    0    0    0    0    2    2    1    0    0    0    0    0   \n",
              "11336  2020-2021    0    0    0    0    2    3    1    0    0    0    0    0   \n",
              "11916  2020-2021    0    0    0    0    0    0    1    0    0    0    0    0   \n",
              "11917  2020-2021    0    0    0    0    0    6    4    0    0    0    0    0   \n",
              "\n",
              "                                UBICACION  \n",
              "30               JUNIN-HUANCAYO-PILCOMAYO  \n",
              "31          JUNIN-CHANCHAMAYO-CHANCHAMAYO  \n",
              "32                   JUNIN-TARMA-ACOBAMBA  \n",
              "33                   JUNIN-YAULI-LA OROYA  \n",
              "34                 JUNIN-YAULI-CHACAPALPA  \n",
              "...                                   ...  \n",
              "11113  JUNIN-CONCEPCION-MARISCAL CASTILLA  \n",
              "11335             JUNIN-HUANCAYO-EL TAMBO  \n",
              "11336                 JUNIN-CHUPACA-AHUAC  \n",
              "11916              JUNIN-HUANCAYO-CHUPURO  \n",
              "11917      JUNIN-CHUPACA-HUAMANCACA CHICO  \n",
              "\n",
              "[500 rows x 18 columns]"
            ]
          },
          "execution_count": 10,
          "metadata": {},
          "output_type": "execute_result"
        }
      ],
      "source": [
        "df_siembra_junin = df_siembra[df_siembra['DEPARTAMENTO'] == 'JUNIN']\n",
        "trans_junin = to_transactional(df_siembra_junin, 'UBICACION', 'CULTIVO')\n",
        "print(len(trans_junin))\n",
        "df_siembra_junin"
      ]
    },
    {
      "cell_type": "code",
      "execution_count": 11,
      "metadata": {
        "colab": {
          "base_uri": "https://localhost:8080/",
          "height": 441
        },
        "id": "IabZnsFYjMMO",
        "outputId": "3feb352c-4500-41de-b1b2-0425361ae55c"
      },
      "outputs": [
        {
          "name": "stdout",
          "output_type": "stream",
          "text": [
            "1451\n"
          ]
        },
        {
          "data": {
            "text/html": [
              "<div>\n",
              "<style scoped>\n",
              "    .dataframe tbody tr th:only-of-type {\n",
              "        vertical-align: middle;\n",
              "    }\n",
              "\n",
              "    .dataframe tbody tr th {\n",
              "        vertical-align: top;\n",
              "    }\n",
              "\n",
              "    .dataframe thead th {\n",
              "        text-align: right;\n",
              "    }\n",
              "</style>\n",
              "<table border=\"1\" class=\"dataframe\">\n",
              "  <thead>\n",
              "    <tr style=\"text-align: right;\">\n",
              "      <th></th>\n",
              "      <th>DEPARTAMENTO</th>\n",
              "      <th>PROVINCIA</th>\n",
              "      <th>DISTRITO</th>\n",
              "      <th>CULTIVO</th>\n",
              "      <th>CAMPANA</th>\n",
              "      <th>AGO</th>\n",
              "      <th>SEP</th>\n",
              "      <th>OCT</th>\n",
              "      <th>NOV</th>\n",
              "      <th>DIC</th>\n",
              "      <th>ENE</th>\n",
              "      <th>FEB</th>\n",
              "      <th>MAR</th>\n",
              "      <th>ABR</th>\n",
              "      <th>MAY</th>\n",
              "      <th>JUN</th>\n",
              "      <th>JUL</th>\n",
              "      <th>UBICACION</th>\n",
              "    </tr>\n",
              "  </thead>\n",
              "  <tbody>\n",
              "    <tr>\n",
              "      <th>0</th>\n",
              "      <td>ANCASH</td>\n",
              "      <td>AIJA</td>\n",
              "      <td>SUCCHA</td>\n",
              "      <td>Papa nativa</td>\n",
              "      <td>2020-2021</td>\n",
              "      <td>0</td>\n",
              "      <td>0</td>\n",
              "      <td>1</td>\n",
              "      <td>0</td>\n",
              "      <td>0</td>\n",
              "      <td>0</td>\n",
              "      <td>0</td>\n",
              "      <td>0</td>\n",
              "      <td>0</td>\n",
              "      <td>0</td>\n",
              "      <td>0</td>\n",
              "      <td>0</td>\n",
              "      <td>ANCASH-AIJA-SUCCHA</td>\n",
              "    </tr>\n",
              "    <tr>\n",
              "      <th>1</th>\n",
              "      <td>ANCASH</td>\n",
              "      <td>ANTONIO RAYMONDI</td>\n",
              "      <td>LLAMELLIN</td>\n",
              "      <td>Olluco</td>\n",
              "      <td>2020-2021</td>\n",
              "      <td>0</td>\n",
              "      <td>0</td>\n",
              "      <td>1</td>\n",
              "      <td>0</td>\n",
              "      <td>0</td>\n",
              "      <td>0</td>\n",
              "      <td>0</td>\n",
              "      <td>0</td>\n",
              "      <td>0</td>\n",
              "      <td>0</td>\n",
              "      <td>0</td>\n",
              "      <td>0</td>\n",
              "      <td>ANCASH-ANTONIO RAYMONDI-LLAMELLIN</td>\n",
              "    </tr>\n",
              "    <tr>\n",
              "      <th>2</th>\n",
              "      <td>ANCASH</td>\n",
              "      <td>ANTONIO RAYMONDI</td>\n",
              "      <td>LLAMELLIN</td>\n",
              "      <td>Quinua</td>\n",
              "      <td>2020-2021</td>\n",
              "      <td>0</td>\n",
              "      <td>0</td>\n",
              "      <td>1</td>\n",
              "      <td>0</td>\n",
              "      <td>0</td>\n",
              "      <td>0</td>\n",
              "      <td>0</td>\n",
              "      <td>0</td>\n",
              "      <td>0</td>\n",
              "      <td>0</td>\n",
              "      <td>0</td>\n",
              "      <td>0</td>\n",
              "      <td>ANCASH-ANTONIO RAYMONDI-LLAMELLIN</td>\n",
              "    </tr>\n",
              "    <tr>\n",
              "      <th>3</th>\n",
              "      <td>ANCASH</td>\n",
              "      <td>ANTONIO RAYMONDI</td>\n",
              "      <td>ACZO</td>\n",
              "      <td>Quinua</td>\n",
              "      <td>2020-2021</td>\n",
              "      <td>0</td>\n",
              "      <td>0</td>\n",
              "      <td>1</td>\n",
              "      <td>0</td>\n",
              "      <td>0</td>\n",
              "      <td>0</td>\n",
              "      <td>0</td>\n",
              "      <td>0</td>\n",
              "      <td>0</td>\n",
              "      <td>0</td>\n",
              "      <td>0</td>\n",
              "      <td>0</td>\n",
              "      <td>ANCASH-ANTONIO RAYMONDI-ACZO</td>\n",
              "    </tr>\n",
              "    <tr>\n",
              "      <th>4</th>\n",
              "      <td>ANCASH</td>\n",
              "      <td>ANTONIO RAYMONDI</td>\n",
              "      <td>CHINGAS</td>\n",
              "      <td>Olluco</td>\n",
              "      <td>2020-2021</td>\n",
              "      <td>0</td>\n",
              "      <td>0</td>\n",
              "      <td>1</td>\n",
              "      <td>0</td>\n",
              "      <td>0</td>\n",
              "      <td>0</td>\n",
              "      <td>0</td>\n",
              "      <td>0</td>\n",
              "      <td>0</td>\n",
              "      <td>0</td>\n",
              "      <td>0</td>\n",
              "      <td>0</td>\n",
              "      <td>ANCASH-ANTONIO RAYMONDI-CHINGAS</td>\n",
              "    </tr>\n",
              "    <tr>\n",
              "      <th>...</th>\n",
              "      <td>...</td>\n",
              "      <td>...</td>\n",
              "      <td>...</td>\n",
              "      <td>...</td>\n",
              "      <td>...</td>\n",
              "      <td>...</td>\n",
              "      <td>...</td>\n",
              "      <td>...</td>\n",
              "      <td>...</td>\n",
              "      <td>...</td>\n",
              "      <td>...</td>\n",
              "      <td>...</td>\n",
              "      <td>...</td>\n",
              "      <td>...</td>\n",
              "      <td>...</td>\n",
              "      <td>...</td>\n",
              "      <td>...</td>\n",
              "      <td>...</td>\n",
              "    </tr>\n",
              "    <tr>\n",
              "      <th>12176</th>\n",
              "      <td>ANCASH</td>\n",
              "      <td>RECUAY</td>\n",
              "      <td>TAPACOCHA</td>\n",
              "      <td>Cebada grano</td>\n",
              "      <td>2020-2021</td>\n",
              "      <td>0</td>\n",
              "      <td>0</td>\n",
              "      <td>0</td>\n",
              "      <td>0</td>\n",
              "      <td>0</td>\n",
              "      <td>4</td>\n",
              "      <td>5</td>\n",
              "      <td>0</td>\n",
              "      <td>0</td>\n",
              "      <td>0</td>\n",
              "      <td>0</td>\n",
              "      <td>0</td>\n",
              "      <td>ANCASH-RECUAY-TAPACOCHA</td>\n",
              "    </tr>\n",
              "    <tr>\n",
              "      <th>12177</th>\n",
              "      <td>ANCASH</td>\n",
              "      <td>RECUAY</td>\n",
              "      <td>TAPACOCHA</td>\n",
              "      <td>Haba grano seco</td>\n",
              "      <td>2020-2021</td>\n",
              "      <td>0</td>\n",
              "      <td>0</td>\n",
              "      <td>0</td>\n",
              "      <td>0</td>\n",
              "      <td>0</td>\n",
              "      <td>3</td>\n",
              "      <td>4</td>\n",
              "      <td>0</td>\n",
              "      <td>0</td>\n",
              "      <td>0</td>\n",
              "      <td>0</td>\n",
              "      <td>0</td>\n",
              "      <td>ANCASH-RECUAY-TAPACOCHA</td>\n",
              "    </tr>\n",
              "    <tr>\n",
              "      <th>12178</th>\n",
              "      <td>ANCASH</td>\n",
              "      <td>RECUAY</td>\n",
              "      <td>TAPACOCHA</td>\n",
              "      <td>Trigo</td>\n",
              "      <td>2020-2021</td>\n",
              "      <td>0</td>\n",
              "      <td>0</td>\n",
              "      <td>0</td>\n",
              "      <td>0</td>\n",
              "      <td>0</td>\n",
              "      <td>3</td>\n",
              "      <td>5</td>\n",
              "      <td>0</td>\n",
              "      <td>0</td>\n",
              "      <td>0</td>\n",
              "      <td>0</td>\n",
              "      <td>0</td>\n",
              "      <td>ANCASH-RECUAY-TAPACOCHA</td>\n",
              "    </tr>\n",
              "    <tr>\n",
              "      <th>12179</th>\n",
              "      <td>ANCASH</td>\n",
              "      <td>SANTA</td>\n",
              "      <td>MACATE</td>\n",
              "      <td>Haba grano seco</td>\n",
              "      <td>2020-2021</td>\n",
              "      <td>0</td>\n",
              "      <td>0</td>\n",
              "      <td>0</td>\n",
              "      <td>0</td>\n",
              "      <td>0</td>\n",
              "      <td>3</td>\n",
              "      <td>2</td>\n",
              "      <td>0</td>\n",
              "      <td>0</td>\n",
              "      <td>0</td>\n",
              "      <td>0</td>\n",
              "      <td>0</td>\n",
              "      <td>ANCASH-SANTA-MACATE</td>\n",
              "    </tr>\n",
              "    <tr>\n",
              "      <th>12180</th>\n",
              "      <td>ANCASH</td>\n",
              "      <td>YUNGAY</td>\n",
              "      <td>MATACOTO</td>\n",
              "      <td>Arveja grano seco</td>\n",
              "      <td>2020-2021</td>\n",
              "      <td>0</td>\n",
              "      <td>0</td>\n",
              "      <td>0</td>\n",
              "      <td>0</td>\n",
              "      <td>0</td>\n",
              "      <td>3</td>\n",
              "      <td>3</td>\n",
              "      <td>0</td>\n",
              "      <td>0</td>\n",
              "      <td>0</td>\n",
              "      <td>0</td>\n",
              "      <td>0</td>\n",
              "      <td>ANCASH-YUNGAY-MATACOTO</td>\n",
              "    </tr>\n",
              "  </tbody>\n",
              "</table>\n",
              "<p>11681 rows × 18 columns</p>\n",
              "</div>"
            ],
            "text/plain": [
              "      DEPARTAMENTO         PROVINCIA   DISTRITO            CULTIVO    CAMPANA  \\\n",
              "0           ANCASH              AIJA     SUCCHA        Papa nativa  2020-2021   \n",
              "1           ANCASH  ANTONIO RAYMONDI  LLAMELLIN             Olluco  2020-2021   \n",
              "2           ANCASH  ANTONIO RAYMONDI  LLAMELLIN             Quinua  2020-2021   \n",
              "3           ANCASH  ANTONIO RAYMONDI       ACZO             Quinua  2020-2021   \n",
              "4           ANCASH  ANTONIO RAYMONDI    CHINGAS             Olluco  2020-2021   \n",
              "...            ...               ...        ...                ...        ...   \n",
              "12176       ANCASH            RECUAY  TAPACOCHA       Cebada grano  2020-2021   \n",
              "12177       ANCASH            RECUAY  TAPACOCHA    Haba grano seco  2020-2021   \n",
              "12178       ANCASH            RECUAY  TAPACOCHA              Trigo  2020-2021   \n",
              "12179       ANCASH             SANTA     MACATE    Haba grano seco  2020-2021   \n",
              "12180       ANCASH            YUNGAY   MATACOTO  Arveja grano seco  2020-2021   \n",
              "\n",
              "       AGO  SEP  OCT  NOV  DIC  ENE  FEB  MAR  ABR  MAY  JUN  JUL  \\\n",
              "0        0    0    1    0    0    0    0    0    0    0    0    0   \n",
              "1        0    0    1    0    0    0    0    0    0    0    0    0   \n",
              "2        0    0    1    0    0    0    0    0    0    0    0    0   \n",
              "3        0    0    1    0    0    0    0    0    0    0    0    0   \n",
              "4        0    0    1    0    0    0    0    0    0    0    0    0   \n",
              "...    ...  ...  ...  ...  ...  ...  ...  ...  ...  ...  ...  ...   \n",
              "12176    0    0    0    0    0    4    5    0    0    0    0    0   \n",
              "12177    0    0    0    0    0    3    4    0    0    0    0    0   \n",
              "12178    0    0    0    0    0    3    5    0    0    0    0    0   \n",
              "12179    0    0    0    0    0    3    2    0    0    0    0    0   \n",
              "12180    0    0    0    0    0    3    3    0    0    0    0    0   \n",
              "\n",
              "                               UBICACION  \n",
              "0                     ANCASH-AIJA-SUCCHA  \n",
              "1      ANCASH-ANTONIO RAYMONDI-LLAMELLIN  \n",
              "2      ANCASH-ANTONIO RAYMONDI-LLAMELLIN  \n",
              "3           ANCASH-ANTONIO RAYMONDI-ACZO  \n",
              "4        ANCASH-ANTONIO RAYMONDI-CHINGAS  \n",
              "...                                  ...  \n",
              "12176            ANCASH-RECUAY-TAPACOCHA  \n",
              "12177            ANCASH-RECUAY-TAPACOCHA  \n",
              "12178            ANCASH-RECUAY-TAPACOCHA  \n",
              "12179                ANCASH-SANTA-MACATE  \n",
              "12180             ANCASH-YUNGAY-MATACOTO  \n",
              "\n",
              "[11681 rows x 18 columns]"
            ]
          },
          "execution_count": 11,
          "metadata": {},
          "output_type": "execute_result"
        }
      ],
      "source": [
        "df_siembra_not_junin = df_siembra[df_siembra['DEPARTAMENTO'] != 'JUNIN']\n",
        "trans_not_junin = to_transactional(df_siembra_not_junin, 'UBICACION', 'CULTIVO')\n",
        "print(len(trans_not_junin))\n",
        "df_siembra_not_junin"
      ]
    },
    {
      "cell_type": "code",
      "execution_count": 12,
      "metadata": {
        "id": "YBi-qbhPuZ88"
      },
      "outputs": [],
      "source": [
        "df_all_itemsets_junin = all_itemsets(trans_junin, -1)\n",
        "df_all_itemsets_not_junin = all_itemsets(trans_not_junin, -1)"
      ]
    },
    {
      "cell_type": "code",
      "execution_count": 13,
      "metadata": {
        "colab": {
          "base_uri": "https://localhost:8080/",
          "height": 423
        },
        "id": "4P0P1SCvegnJ",
        "outputId": "a2b1009c-48fd-4777-cfc4-ca430f607db1"
      },
      "outputs": [
        {
          "data": {
            "text/html": [
              "<div>\n",
              "<style scoped>\n",
              "    .dataframe tbody tr th:only-of-type {\n",
              "        vertical-align: middle;\n",
              "    }\n",
              "\n",
              "    .dataframe tbody tr th {\n",
              "        vertical-align: top;\n",
              "    }\n",
              "\n",
              "    .dataframe thead th {\n",
              "        text-align: right;\n",
              "    }\n",
              "</style>\n",
              "<table border=\"1\" class=\"dataframe\">\n",
              "  <thead>\n",
              "    <tr style=\"text-align: right;\">\n",
              "      <th></th>\n",
              "      <th>Itemset</th>\n",
              "      <th>Freq_j</th>\n",
              "      <th>Freq(%)_j</th>\n",
              "      <th>Size_j</th>\n",
              "      <th>Freq_nj</th>\n",
              "      <th>Freq(%)_nj</th>\n",
              "      <th>Size_nj</th>\n",
              "      <th>GrowthRate_j</th>\n",
              "    </tr>\n",
              "  </thead>\n",
              "  <tbody>\n",
              "    <tr>\n",
              "      <th>NaN</th>\n",
              "      <td>['Aji', 'Ajo', 'Algodon', 'Arroz cascara', 'Camote', 'Cebolla cabeza roja', 'Frijol grano seco', 'Maiz amarillo duro', 'Maiz choclo', 'Papa blanca', 'Paprika', 'Tomate', 'Trigo', 'Yuca', 'Zanahoria', 'Zapallo']</td>\n",
              "      <td>0.0</td>\n",
              "      <td>0.000000</td>\n",
              "      <td>0.0</td>\n",
              "      <td>1</td>\n",
              "      <td>0.068918</td>\n",
              "      <td>16</td>\n",
              "      <td>0.000000</td>\n",
              "    </tr>\n",
              "    <tr>\n",
              "      <th>NaN</th>\n",
              "      <td>['Aji', 'Ajo', 'Algodon', 'Arroz cascara', 'Camote', 'Cebolla cabeza roja', 'Frijol grano seco', 'Maiz amarillo duro', 'Maiz choclo', 'Papa blanca', 'Paprika', 'Tomate', 'Trigo', 'Yuca', 'Zanahoria']</td>\n",
              "      <td>0.0</td>\n",
              "      <td>0.000000</td>\n",
              "      <td>0.0</td>\n",
              "      <td>1</td>\n",
              "      <td>0.068918</td>\n",
              "      <td>15</td>\n",
              "      <td>0.000000</td>\n",
              "    </tr>\n",
              "    <tr>\n",
              "      <th>NaN</th>\n",
              "      <td>['Aji', 'Ajo', 'Algodon', 'Arroz cascara', 'Camote', 'Cebolla cabeza roja', 'Frijol grano seco', 'Maiz amarillo duro', 'Maiz choclo', 'Papa blanca', 'Paprika', 'Tomate', 'Trigo', 'Yuca', 'Zapallo']</td>\n",
              "      <td>0.0</td>\n",
              "      <td>0.000000</td>\n",
              "      <td>0.0</td>\n",
              "      <td>1</td>\n",
              "      <td>0.068918</td>\n",
              "      <td>15</td>\n",
              "      <td>0.000000</td>\n",
              "    </tr>\n",
              "    <tr>\n",
              "      <th>NaN</th>\n",
              "      <td>['Aji', 'Ajo', 'Algodon', 'Arroz cascara', 'Camote', 'Cebolla cabeza roja', 'Frijol grano seco', 'Maiz amarillo duro', 'Maiz choclo', 'Papa blanca', 'Paprika', 'Tomate', 'Trigo', 'Yuca']</td>\n",
              "      <td>0.0</td>\n",
              "      <td>0.000000</td>\n",
              "      <td>0.0</td>\n",
              "      <td>1</td>\n",
              "      <td>0.068918</td>\n",
              "      <td>14</td>\n",
              "      <td>0.000000</td>\n",
              "    </tr>\n",
              "    <tr>\n",
              "      <th>NaN</th>\n",
              "      <td>['Aji', 'Ajo', 'Algodon', 'Arroz cascara', 'Camote', 'Cebolla cabeza roja', 'Frijol grano seco', 'Maiz amarillo duro', 'Maiz choclo', 'Papa blanca', 'Paprika', 'Tomate', 'Trigo', 'Zanahoria', 'Zapallo']</td>\n",
              "      <td>0.0</td>\n",
              "      <td>0.000000</td>\n",
              "      <td>0.0</td>\n",
              "      <td>1</td>\n",
              "      <td>0.068918</td>\n",
              "      <td>15</td>\n",
              "      <td>0.000000</td>\n",
              "    </tr>\n",
              "    <tr>\n",
              "      <th>...</th>\n",
              "      <td>...</td>\n",
              "      <td>...</td>\n",
              "      <td>...</td>\n",
              "      <td>...</td>\n",
              "      <td>...</td>\n",
              "      <td>...</td>\n",
              "      <td>...</td>\n",
              "      <td>...</td>\n",
              "    </tr>\n",
              "    <tr>\n",
              "      <th>34818.0</th>\n",
              "      <td>['Yuca', 'Zapallo']</td>\n",
              "      <td>3.0</td>\n",
              "      <td>5.769231</td>\n",
              "      <td>2.0</td>\n",
              "      <td>151</td>\n",
              "      <td>10.406616</td>\n",
              "      <td>2</td>\n",
              "      <td>0.554381</td>\n",
              "    </tr>\n",
              "    <tr>\n",
              "      <th>34822.0</th>\n",
              "      <td>['Yuca']</td>\n",
              "      <td>6.0</td>\n",
              "      <td>11.538462</td>\n",
              "      <td>1.0</td>\n",
              "      <td>509</td>\n",
              "      <td>35.079256</td>\n",
              "      <td>1</td>\n",
              "      <td>0.328925</td>\n",
              "    </tr>\n",
              "    <tr>\n",
              "      <th>34045.0</th>\n",
              "      <td>['Zanahoria', 'Zapallo']</td>\n",
              "      <td>1.0</td>\n",
              "      <td>1.923077</td>\n",
              "      <td>2.0</td>\n",
              "      <td>88</td>\n",
              "      <td>6.064783</td>\n",
              "      <td>2</td>\n",
              "      <td>0.317089</td>\n",
              "    </tr>\n",
              "    <tr>\n",
              "      <th>4094.0</th>\n",
              "      <td>['Zanahoria']</td>\n",
              "      <td>24.0</td>\n",
              "      <td>46.153846</td>\n",
              "      <td>1.0</td>\n",
              "      <td>167</td>\n",
              "      <td>11.509304</td>\n",
              "      <td>1</td>\n",
              "      <td>4.010134</td>\n",
              "    </tr>\n",
              "    <tr>\n",
              "      <th>34814.0</th>\n",
              "      <td>['Zapallo']</td>\n",
              "      <td>7.0</td>\n",
              "      <td>13.461538</td>\n",
              "      <td>1.0</td>\n",
              "      <td>325</td>\n",
              "      <td>22.398346</td>\n",
              "      <td>1</td>\n",
              "      <td>0.601006</td>\n",
              "    </tr>\n",
              "  </tbody>\n",
              "</table>\n",
              "<p>4107926 rows × 8 columns</p>\n",
              "</div>"
            ],
            "text/plain": [
              "                                                                                                                                                                                                                    Itemset  \\\n",
              "NaN      ['Aji', 'Ajo', 'Algodon', 'Arroz cascara', 'Camote', 'Cebolla cabeza roja', 'Frijol grano seco', 'Maiz amarillo duro', 'Maiz choclo', 'Papa blanca', 'Paprika', 'Tomate', 'Trigo', 'Yuca', 'Zanahoria', 'Zapallo']   \n",
              "NaN                 ['Aji', 'Ajo', 'Algodon', 'Arroz cascara', 'Camote', 'Cebolla cabeza roja', 'Frijol grano seco', 'Maiz amarillo duro', 'Maiz choclo', 'Papa blanca', 'Paprika', 'Tomate', 'Trigo', 'Yuca', 'Zanahoria']   \n",
              "NaN                   ['Aji', 'Ajo', 'Algodon', 'Arroz cascara', 'Camote', 'Cebolla cabeza roja', 'Frijol grano seco', 'Maiz amarillo duro', 'Maiz choclo', 'Papa blanca', 'Paprika', 'Tomate', 'Trigo', 'Yuca', 'Zapallo']   \n",
              "NaN                              ['Aji', 'Ajo', 'Algodon', 'Arroz cascara', 'Camote', 'Cebolla cabeza roja', 'Frijol grano seco', 'Maiz amarillo duro', 'Maiz choclo', 'Papa blanca', 'Paprika', 'Tomate', 'Trigo', 'Yuca']   \n",
              "NaN              ['Aji', 'Ajo', 'Algodon', 'Arroz cascara', 'Camote', 'Cebolla cabeza roja', 'Frijol grano seco', 'Maiz amarillo duro', 'Maiz choclo', 'Papa blanca', 'Paprika', 'Tomate', 'Trigo', 'Zanahoria', 'Zapallo']   \n",
              "...                                                                                                                                                                                                                     ...   \n",
              "34818.0                                                                                                                                                                                                 ['Yuca', 'Zapallo']   \n",
              "34822.0                                                                                                                                                                                                            ['Yuca']   \n",
              "34045.0                                                                                                                                                                                            ['Zanahoria', 'Zapallo']   \n",
              "4094.0                                                                                                                                                                                                        ['Zanahoria']   \n",
              "34814.0                                                                                                                                                                                                         ['Zapallo']   \n",
              "\n",
              "         Freq_j  Freq(%)_j  Size_j  Freq_nj  Freq(%)_nj  Size_nj  GrowthRate_j  \n",
              "NaN         0.0   0.000000     0.0        1    0.068918       16      0.000000  \n",
              "NaN         0.0   0.000000     0.0        1    0.068918       15      0.000000  \n",
              "NaN         0.0   0.000000     0.0        1    0.068918       15      0.000000  \n",
              "NaN         0.0   0.000000     0.0        1    0.068918       14      0.000000  \n",
              "NaN         0.0   0.000000     0.0        1    0.068918       15      0.000000  \n",
              "...         ...        ...     ...      ...         ...      ...           ...  \n",
              "34818.0     3.0   5.769231     2.0      151   10.406616        2      0.554381  \n",
              "34822.0     6.0  11.538462     1.0      509   35.079256        1      0.328925  \n",
              "34045.0     1.0   1.923077     2.0       88    6.064783        2      0.317089  \n",
              "4094.0     24.0  46.153846     1.0      167   11.509304        1      4.010134  \n",
              "34814.0     7.0  13.461538     1.0      325   22.398346        1      0.601006  \n",
              "\n",
              "[4107926 rows x 8 columns]"
            ]
          },
          "execution_count": 13,
          "metadata": {},
          "output_type": "execute_result"
        }
      ],
      "source": [
        "emerging = df_all_itemsets_junin.join(df_all_itemsets_not_junin.set_index('Itemset'),\n",
        "                                      on='Itemset',\n",
        "                                      lsuffix='_j',rsuffix='_nj',\n",
        "                                      how='outer').fillna(0)\n",
        "emerging['GrowthRate_j'] = (emerging['Freq(%)_j'] / emerging['Freq(%)_nj'])\n",
        "emerging"
      ]
    },
    {
      "cell_type": "code",
      "execution_count": 14,
      "metadata": {},
      "outputs": [
        {
          "data": {
            "text/html": [
              "<div>\n",
              "<style scoped>\n",
              "    .dataframe tbody tr th:only-of-type {\n",
              "        vertical-align: middle;\n",
              "    }\n",
              "\n",
              "    .dataframe tbody tr th {\n",
              "        vertical-align: top;\n",
              "    }\n",
              "\n",
              "    .dataframe thead th {\n",
              "        text-align: right;\n",
              "    }\n",
              "</style>\n",
              "<table border=\"1\" class=\"dataframe\">\n",
              "  <thead>\n",
              "    <tr style=\"text-align: right;\">\n",
              "      <th></th>\n",
              "      <th>Itemset</th>\n",
              "      <th>Freq_j</th>\n",
              "      <th>Freq(%)_j</th>\n",
              "      <th>Size_j</th>\n",
              "      <th>Freq_nj</th>\n",
              "      <th>Freq(%)_nj</th>\n",
              "      <th>Size_nj</th>\n",
              "      <th>GrowthRate_j</th>\n",
              "      <th>Itemset_list</th>\n",
              "    </tr>\n",
              "  </thead>\n",
              "  <tbody>\n",
              "    <tr>\n",
              "      <th>NaN</th>\n",
              "      <td>['Aji', 'Ajo', 'Algodon', 'Arroz cascara', 'Camote', 'Cebolla cabeza roja', 'Frijol grano seco', 'Maiz amarillo duro', 'Maiz choclo', 'Papa blanca', 'Paprika', 'Tomate', 'Trigo', 'Yuca', 'Zanahoria', 'Zapallo']</td>\n",
              "      <td>0.0</td>\n",
              "      <td>0.000000</td>\n",
              "      <td>0.0</td>\n",
              "      <td>1</td>\n",
              "      <td>0.068918</td>\n",
              "      <td>16</td>\n",
              "      <td>0.000000</td>\n",
              "      <td>[Aji, Ajo, Algodon, Arroz cascara, Camote, Cebolla cabeza roja, Frijol grano seco, Maiz amarillo duro, Maiz choclo, Papa blanca, Paprika, Tomate, Trigo, Yuca, Zanahoria, Zapallo]</td>\n",
              "    </tr>\n",
              "    <tr>\n",
              "      <th>NaN</th>\n",
              "      <td>['Aji', 'Ajo', 'Algodon', 'Arroz cascara', 'Camote', 'Cebolla cabeza roja', 'Frijol grano seco', 'Maiz amarillo duro', 'Maiz choclo', 'Papa blanca', 'Paprika', 'Tomate', 'Trigo', 'Yuca', 'Zanahoria']</td>\n",
              "      <td>0.0</td>\n",
              "      <td>0.000000</td>\n",
              "      <td>0.0</td>\n",
              "      <td>1</td>\n",
              "      <td>0.068918</td>\n",
              "      <td>15</td>\n",
              "      <td>0.000000</td>\n",
              "      <td>[Aji, Ajo, Algodon, Arroz cascara, Camote, Cebolla cabeza roja, Frijol grano seco, Maiz amarillo duro, Maiz choclo, Papa blanca, Paprika, Tomate, Trigo, Yuca, Zanahoria]</td>\n",
              "    </tr>\n",
              "    <tr>\n",
              "      <th>NaN</th>\n",
              "      <td>['Aji', 'Ajo', 'Algodon', 'Arroz cascara', 'Camote', 'Cebolla cabeza roja', 'Frijol grano seco', 'Maiz amarillo duro', 'Maiz choclo', 'Papa blanca', 'Paprika', 'Tomate', 'Trigo', 'Yuca', 'Zapallo']</td>\n",
              "      <td>0.0</td>\n",
              "      <td>0.000000</td>\n",
              "      <td>0.0</td>\n",
              "      <td>1</td>\n",
              "      <td>0.068918</td>\n",
              "      <td>15</td>\n",
              "      <td>0.000000</td>\n",
              "      <td>[Aji, Ajo, Algodon, Arroz cascara, Camote, Cebolla cabeza roja, Frijol grano seco, Maiz amarillo duro, Maiz choclo, Papa blanca, Paprika, Tomate, Trigo, Yuca, Zapallo]</td>\n",
              "    </tr>\n",
              "    <tr>\n",
              "      <th>NaN</th>\n",
              "      <td>['Aji', 'Ajo', 'Algodon', 'Arroz cascara', 'Camote', 'Cebolla cabeza roja', 'Frijol grano seco', 'Maiz amarillo duro', 'Maiz choclo', 'Papa blanca', 'Paprika', 'Tomate', 'Trigo', 'Yuca']</td>\n",
              "      <td>0.0</td>\n",
              "      <td>0.000000</td>\n",
              "      <td>0.0</td>\n",
              "      <td>1</td>\n",
              "      <td>0.068918</td>\n",
              "      <td>14</td>\n",
              "      <td>0.000000</td>\n",
              "      <td>[Aji, Ajo, Algodon, Arroz cascara, Camote, Cebolla cabeza roja, Frijol grano seco, Maiz amarillo duro, Maiz choclo, Papa blanca, Paprika, Tomate, Trigo, Yuca]</td>\n",
              "    </tr>\n",
              "    <tr>\n",
              "      <th>NaN</th>\n",
              "      <td>['Aji', 'Ajo', 'Algodon', 'Arroz cascara', 'Camote', 'Cebolla cabeza roja', 'Frijol grano seco', 'Maiz amarillo duro', 'Maiz choclo', 'Papa blanca', 'Paprika', 'Tomate', 'Trigo', 'Zanahoria', 'Zapallo']</td>\n",
              "      <td>0.0</td>\n",
              "      <td>0.000000</td>\n",
              "      <td>0.0</td>\n",
              "      <td>1</td>\n",
              "      <td>0.068918</td>\n",
              "      <td>15</td>\n",
              "      <td>0.000000</td>\n",
              "      <td>[Aji, Ajo, Algodon, Arroz cascara, Camote, Cebolla cabeza roja, Frijol grano seco, Maiz amarillo duro, Maiz choclo, Papa blanca, Paprika, Tomate, Trigo, Zanahoria, Zapallo]</td>\n",
              "    </tr>\n",
              "    <tr>\n",
              "      <th>...</th>\n",
              "      <td>...</td>\n",
              "      <td>...</td>\n",
              "      <td>...</td>\n",
              "      <td>...</td>\n",
              "      <td>...</td>\n",
              "      <td>...</td>\n",
              "      <td>...</td>\n",
              "      <td>...</td>\n",
              "      <td>...</td>\n",
              "    </tr>\n",
              "    <tr>\n",
              "      <th>34818.0</th>\n",
              "      <td>['Yuca', 'Zapallo']</td>\n",
              "      <td>3.0</td>\n",
              "      <td>5.769231</td>\n",
              "      <td>2.0</td>\n",
              "      <td>151</td>\n",
              "      <td>10.406616</td>\n",
              "      <td>2</td>\n",
              "      <td>0.554381</td>\n",
              "      <td>[Yuca, Zapallo]</td>\n",
              "    </tr>\n",
              "    <tr>\n",
              "      <th>34822.0</th>\n",
              "      <td>['Yuca']</td>\n",
              "      <td>6.0</td>\n",
              "      <td>11.538462</td>\n",
              "      <td>1.0</td>\n",
              "      <td>509</td>\n",
              "      <td>35.079256</td>\n",
              "      <td>1</td>\n",
              "      <td>0.328925</td>\n",
              "      <td>[Yuca]</td>\n",
              "    </tr>\n",
              "    <tr>\n",
              "      <th>34045.0</th>\n",
              "      <td>['Zanahoria', 'Zapallo']</td>\n",
              "      <td>1.0</td>\n",
              "      <td>1.923077</td>\n",
              "      <td>2.0</td>\n",
              "      <td>88</td>\n",
              "      <td>6.064783</td>\n",
              "      <td>2</td>\n",
              "      <td>0.317089</td>\n",
              "      <td>[Zanahoria, Zapallo]</td>\n",
              "    </tr>\n",
              "    <tr>\n",
              "      <th>4094.0</th>\n",
              "      <td>['Zanahoria']</td>\n",
              "      <td>24.0</td>\n",
              "      <td>46.153846</td>\n",
              "      <td>1.0</td>\n",
              "      <td>167</td>\n",
              "      <td>11.509304</td>\n",
              "      <td>1</td>\n",
              "      <td>4.010134</td>\n",
              "      <td>[Zanahoria]</td>\n",
              "    </tr>\n",
              "    <tr>\n",
              "      <th>34814.0</th>\n",
              "      <td>['Zapallo']</td>\n",
              "      <td>7.0</td>\n",
              "      <td>13.461538</td>\n",
              "      <td>1.0</td>\n",
              "      <td>325</td>\n",
              "      <td>22.398346</td>\n",
              "      <td>1</td>\n",
              "      <td>0.601006</td>\n",
              "      <td>[Zapallo]</td>\n",
              "    </tr>\n",
              "  </tbody>\n",
              "</table>\n",
              "<p>4107926 rows × 9 columns</p>\n",
              "</div>"
            ],
            "text/plain": [
              "                                                                                                                                                                                                                    Itemset  \\\n",
              "NaN      ['Aji', 'Ajo', 'Algodon', 'Arroz cascara', 'Camote', 'Cebolla cabeza roja', 'Frijol grano seco', 'Maiz amarillo duro', 'Maiz choclo', 'Papa blanca', 'Paprika', 'Tomate', 'Trigo', 'Yuca', 'Zanahoria', 'Zapallo']   \n",
              "NaN                 ['Aji', 'Ajo', 'Algodon', 'Arroz cascara', 'Camote', 'Cebolla cabeza roja', 'Frijol grano seco', 'Maiz amarillo duro', 'Maiz choclo', 'Papa blanca', 'Paprika', 'Tomate', 'Trigo', 'Yuca', 'Zanahoria']   \n",
              "NaN                   ['Aji', 'Ajo', 'Algodon', 'Arroz cascara', 'Camote', 'Cebolla cabeza roja', 'Frijol grano seco', 'Maiz amarillo duro', 'Maiz choclo', 'Papa blanca', 'Paprika', 'Tomate', 'Trigo', 'Yuca', 'Zapallo']   \n",
              "NaN                              ['Aji', 'Ajo', 'Algodon', 'Arroz cascara', 'Camote', 'Cebolla cabeza roja', 'Frijol grano seco', 'Maiz amarillo duro', 'Maiz choclo', 'Papa blanca', 'Paprika', 'Tomate', 'Trigo', 'Yuca']   \n",
              "NaN              ['Aji', 'Ajo', 'Algodon', 'Arroz cascara', 'Camote', 'Cebolla cabeza roja', 'Frijol grano seco', 'Maiz amarillo duro', 'Maiz choclo', 'Papa blanca', 'Paprika', 'Tomate', 'Trigo', 'Zanahoria', 'Zapallo']   \n",
              "...                                                                                                                                                                                                                     ...   \n",
              "34818.0                                                                                                                                                                                                 ['Yuca', 'Zapallo']   \n",
              "34822.0                                                                                                                                                                                                            ['Yuca']   \n",
              "34045.0                                                                                                                                                                                            ['Zanahoria', 'Zapallo']   \n",
              "4094.0                                                                                                                                                                                                        ['Zanahoria']   \n",
              "34814.0                                                                                                                                                                                                         ['Zapallo']   \n",
              "\n",
              "         Freq_j  Freq(%)_j  Size_j  Freq_nj  Freq(%)_nj  Size_nj  \\\n",
              "NaN         0.0   0.000000     0.0        1    0.068918       16   \n",
              "NaN         0.0   0.000000     0.0        1    0.068918       15   \n",
              "NaN         0.0   0.000000     0.0        1    0.068918       15   \n",
              "NaN         0.0   0.000000     0.0        1    0.068918       14   \n",
              "NaN         0.0   0.000000     0.0        1    0.068918       15   \n",
              "...         ...        ...     ...      ...         ...      ...   \n",
              "34818.0     3.0   5.769231     2.0      151   10.406616        2   \n",
              "34822.0     6.0  11.538462     1.0      509   35.079256        1   \n",
              "34045.0     1.0   1.923077     2.0       88    6.064783        2   \n",
              "4094.0     24.0  46.153846     1.0      167   11.509304        1   \n",
              "34814.0     7.0  13.461538     1.0      325   22.398346        1   \n",
              "\n",
              "         GrowthRate_j  \\\n",
              "NaN          0.000000   \n",
              "NaN          0.000000   \n",
              "NaN          0.000000   \n",
              "NaN          0.000000   \n",
              "NaN          0.000000   \n",
              "...               ...   \n",
              "34818.0      0.554381   \n",
              "34822.0      0.328925   \n",
              "34045.0      0.317089   \n",
              "4094.0       4.010134   \n",
              "34814.0      0.601006   \n",
              "\n",
              "                                                                                                                                                                               Itemset_list  \n",
              "NaN      [Aji, Ajo, Algodon, Arroz cascara, Camote, Cebolla cabeza roja, Frijol grano seco, Maiz amarillo duro, Maiz choclo, Papa blanca, Paprika, Tomate, Trigo, Yuca, Zanahoria, Zapallo]  \n",
              "NaN               [Aji, Ajo, Algodon, Arroz cascara, Camote, Cebolla cabeza roja, Frijol grano seco, Maiz amarillo duro, Maiz choclo, Papa blanca, Paprika, Tomate, Trigo, Yuca, Zanahoria]  \n",
              "NaN                 [Aji, Ajo, Algodon, Arroz cascara, Camote, Cebolla cabeza roja, Frijol grano seco, Maiz amarillo duro, Maiz choclo, Papa blanca, Paprika, Tomate, Trigo, Yuca, Zapallo]  \n",
              "NaN                          [Aji, Ajo, Algodon, Arroz cascara, Camote, Cebolla cabeza roja, Frijol grano seco, Maiz amarillo duro, Maiz choclo, Papa blanca, Paprika, Tomate, Trigo, Yuca]  \n",
              "NaN            [Aji, Ajo, Algodon, Arroz cascara, Camote, Cebolla cabeza roja, Frijol grano seco, Maiz amarillo duro, Maiz choclo, Papa blanca, Paprika, Tomate, Trigo, Zanahoria, Zapallo]  \n",
              "...                                                                                                                                                                                     ...  \n",
              "34818.0                                                                                                                                                                     [Yuca, Zapallo]  \n",
              "34822.0                                                                                                                                                                              [Yuca]  \n",
              "34045.0                                                                                                                                                                [Zanahoria, Zapallo]  \n",
              "4094.0                                                                                                                                                                          [Zanahoria]  \n",
              "34814.0                                                                                                                                                                           [Zapallo]  \n",
              "\n",
              "[4107926 rows x 9 columns]"
            ]
          },
          "execution_count": 14,
          "metadata": {},
          "output_type": "execute_result"
        }
      ],
      "source": [
        "emerging['Itemset_list'] = [x.replace(\"'\",\"\").replace(\"[\",\"\").replace(\"]\",\"\").split(', ') for x in emerging['Itemset'].tolist()]\n",
        "emerging"
      ]
    },
    {
      "cell_type": "code",
      "execution_count": 15,
      "metadata": {},
      "outputs": [
        {
          "data": {
            "text/html": [
              "<div>\n",
              "<style scoped>\n",
              "    .dataframe tbody tr th:only-of-type {\n",
              "        vertical-align: middle;\n",
              "    }\n",
              "\n",
              "    .dataframe tbody tr th {\n",
              "        vertical-align: top;\n",
              "    }\n",
              "\n",
              "    .dataframe thead th {\n",
              "        text-align: right;\n",
              "    }\n",
              "</style>\n",
              "<table border=\"1\" class=\"dataframe\">\n",
              "  <thead>\n",
              "    <tr style=\"text-align: right;\">\n",
              "      <th></th>\n",
              "      <th>Itemset</th>\n",
              "      <th>Freq_j</th>\n",
              "      <th>Freq(%)_j</th>\n",
              "      <th>Size_j</th>\n",
              "      <th>Freq_nj</th>\n",
              "      <th>Freq(%)_nj</th>\n",
              "      <th>Size_nj</th>\n",
              "      <th>GrowthRate_j</th>\n",
              "      <th>Itemset_list</th>\n",
              "      <th>AvgPrice</th>\n",
              "      <th>AvgWater</th>\n",
              "    </tr>\n",
              "  </thead>\n",
              "  <tbody>\n",
              "    <tr>\n",
              "      <th>NaN</th>\n",
              "      <td>['Aji', 'Ajo', 'Algodon', 'Arroz cascara', 'Camote', 'Cebolla cabeza roja', 'Frijol grano seco', 'Maiz amarillo duro', 'Maiz choclo', 'Papa blanca', 'Paprika', 'Tomate', 'Trigo', 'Yuca', 'Zanahoria', 'Zapallo']</td>\n",
              "      <td>0.0</td>\n",
              "      <td>0.000000</td>\n",
              "      <td>0.0</td>\n",
              "      <td>1</td>\n",
              "      <td>0.068918</td>\n",
              "      <td>16</td>\n",
              "      <td>0.000000</td>\n",
              "      <td>[Aji, Ajo, Algodon, Arroz cascara, Camote, Cebolla cabeza roja, Frijol grano seco, Maiz amarillo duro, Maiz choclo, Papa blanca, Paprika, Tomate, Trigo, Yuca, Zanahoria, Zapallo]</td>\n",
              "      <td>11.625000</td>\n",
              "      <td>31.625000</td>\n",
              "    </tr>\n",
              "    <tr>\n",
              "      <th>NaN</th>\n",
              "      <td>['Aji', 'Ajo', 'Algodon', 'Arroz cascara', 'Camote', 'Cebolla cabeza roja', 'Frijol grano seco', 'Maiz amarillo duro', 'Maiz choclo', 'Papa blanca', 'Paprika', 'Tomate', 'Trigo', 'Yuca', 'Zanahoria']</td>\n",
              "      <td>0.0</td>\n",
              "      <td>0.000000</td>\n",
              "      <td>0.0</td>\n",
              "      <td>1</td>\n",
              "      <td>0.068918</td>\n",
              "      <td>15</td>\n",
              "      <td>0.000000</td>\n",
              "      <td>[Aji, Ajo, Algodon, Arroz cascara, Camote, Cebolla cabeza roja, Frijol grano seco, Maiz amarillo duro, Maiz choclo, Papa blanca, Paprika, Tomate, Trigo, Yuca, Zanahoria]</td>\n",
              "      <td>11.066667</td>\n",
              "      <td>32.733333</td>\n",
              "    </tr>\n",
              "    <tr>\n",
              "      <th>NaN</th>\n",
              "      <td>['Aji', 'Ajo', 'Algodon', 'Arroz cascara', 'Camote', 'Cebolla cabeza roja', 'Frijol grano seco', 'Maiz amarillo duro', 'Maiz choclo', 'Papa blanca', 'Paprika', 'Tomate', 'Trigo', 'Yuca', 'Zapallo']</td>\n",
              "      <td>0.0</td>\n",
              "      <td>0.000000</td>\n",
              "      <td>0.0</td>\n",
              "      <td>1</td>\n",
              "      <td>0.068918</td>\n",
              "      <td>15</td>\n",
              "      <td>0.000000</td>\n",
              "      <td>[Aji, Ajo, Algodon, Arroz cascara, Camote, Cebolla cabeza roja, Frijol grano seco, Maiz amarillo duro, Maiz choclo, Papa blanca, Paprika, Tomate, Trigo, Yuca, Zapallo]</td>\n",
              "      <td>12.133333</td>\n",
              "      <td>32.533333</td>\n",
              "    </tr>\n",
              "    <tr>\n",
              "      <th>NaN</th>\n",
              "      <td>['Aji', 'Ajo', 'Algodon', 'Arroz cascara', 'Camote', 'Cebolla cabeza roja', 'Frijol grano seco', 'Maiz amarillo duro', 'Maiz choclo', 'Papa blanca', 'Paprika', 'Tomate', 'Trigo', 'Yuca']</td>\n",
              "      <td>0.0</td>\n",
              "      <td>0.000000</td>\n",
              "      <td>0.0</td>\n",
              "      <td>1</td>\n",
              "      <td>0.068918</td>\n",
              "      <td>14</td>\n",
              "      <td>0.000000</td>\n",
              "      <td>[Aji, Ajo, Algodon, Arroz cascara, Camote, Cebolla cabeza roja, Frijol grano seco, Maiz amarillo duro, Maiz choclo, Papa blanca, Paprika, Tomate, Trigo, Yuca]</td>\n",
              "      <td>11.571429</td>\n",
              "      <td>33.785714</td>\n",
              "    </tr>\n",
              "    <tr>\n",
              "      <th>NaN</th>\n",
              "      <td>['Aji', 'Ajo', 'Algodon', 'Arroz cascara', 'Camote', 'Cebolla cabeza roja', 'Frijol grano seco', 'Maiz amarillo duro', 'Maiz choclo', 'Papa blanca', 'Paprika', 'Tomate', 'Trigo', 'Zanahoria', 'Zapallo']</td>\n",
              "      <td>0.0</td>\n",
              "      <td>0.000000</td>\n",
              "      <td>0.0</td>\n",
              "      <td>1</td>\n",
              "      <td>0.068918</td>\n",
              "      <td>15</td>\n",
              "      <td>0.000000</td>\n",
              "      <td>[Aji, Ajo, Algodon, Arroz cascara, Camote, Cebolla cabeza roja, Frijol grano seco, Maiz amarillo duro, Maiz choclo, Papa blanca, Paprika, Tomate, Trigo, Zanahoria, Zapallo]</td>\n",
              "      <td>12.000000</td>\n",
              "      <td>30.466667</td>\n",
              "    </tr>\n",
              "    <tr>\n",
              "      <th>...</th>\n",
              "      <td>...</td>\n",
              "      <td>...</td>\n",
              "      <td>...</td>\n",
              "      <td>...</td>\n",
              "      <td>...</td>\n",
              "      <td>...</td>\n",
              "      <td>...</td>\n",
              "      <td>...</td>\n",
              "      <td>...</td>\n",
              "      <td>...</td>\n",
              "      <td>...</td>\n",
              "    </tr>\n",
              "    <tr>\n",
              "      <th>34818.0</th>\n",
              "      <td>['Yuca', 'Zapallo']</td>\n",
              "      <td>3.0</td>\n",
              "      <td>5.769231</td>\n",
              "      <td>2.0</td>\n",
              "      <td>151</td>\n",
              "      <td>10.406616</td>\n",
              "      <td>2</td>\n",
              "      <td>0.554381</td>\n",
              "      <td>[Yuca, Zapallo]</td>\n",
              "      <td>13.000000</td>\n",
              "      <td>32.000000</td>\n",
              "    </tr>\n",
              "    <tr>\n",
              "      <th>34822.0</th>\n",
              "      <td>['Yuca']</td>\n",
              "      <td>6.0</td>\n",
              "      <td>11.538462</td>\n",
              "      <td>1.0</td>\n",
              "      <td>509</td>\n",
              "      <td>35.079256</td>\n",
              "      <td>1</td>\n",
              "      <td>0.328925</td>\n",
              "      <td>[Yuca]</td>\n",
              "      <td>6.000000</td>\n",
              "      <td>49.000000</td>\n",
              "    </tr>\n",
              "    <tr>\n",
              "      <th>34045.0</th>\n",
              "      <td>['Zanahoria', 'Zapallo']</td>\n",
              "      <td>1.0</td>\n",
              "      <td>1.923077</td>\n",
              "      <td>2.0</td>\n",
              "      <td>88</td>\n",
              "      <td>6.064783</td>\n",
              "      <td>2</td>\n",
              "      <td>0.317089</td>\n",
              "      <td>[Zanahoria, Zapallo]</td>\n",
              "      <td>12.000000</td>\n",
              "      <td>16.500000</td>\n",
              "    </tr>\n",
              "    <tr>\n",
              "      <th>4094.0</th>\n",
              "      <td>['Zanahoria']</td>\n",
              "      <td>24.0</td>\n",
              "      <td>46.153846</td>\n",
              "      <td>1.0</td>\n",
              "      <td>167</td>\n",
              "      <td>11.509304</td>\n",
              "      <td>1</td>\n",
              "      <td>4.010134</td>\n",
              "      <td>[Zanahoria]</td>\n",
              "      <td>4.000000</td>\n",
              "      <td>18.000000</td>\n",
              "    </tr>\n",
              "    <tr>\n",
              "      <th>34814.0</th>\n",
              "      <td>['Zapallo']</td>\n",
              "      <td>7.0</td>\n",
              "      <td>13.461538</td>\n",
              "      <td>1.0</td>\n",
              "      <td>325</td>\n",
              "      <td>22.398346</td>\n",
              "      <td>1</td>\n",
              "      <td>0.601006</td>\n",
              "      <td>[Zapallo]</td>\n",
              "      <td>20.000000</td>\n",
              "      <td>15.000000</td>\n",
              "    </tr>\n",
              "  </tbody>\n",
              "</table>\n",
              "<p>4107926 rows × 11 columns</p>\n",
              "</div>"
            ],
            "text/plain": [
              "                                                                                                                                                                                                                    Itemset  \\\n",
              "NaN      ['Aji', 'Ajo', 'Algodon', 'Arroz cascara', 'Camote', 'Cebolla cabeza roja', 'Frijol grano seco', 'Maiz amarillo duro', 'Maiz choclo', 'Papa blanca', 'Paprika', 'Tomate', 'Trigo', 'Yuca', 'Zanahoria', 'Zapallo']   \n",
              "NaN                 ['Aji', 'Ajo', 'Algodon', 'Arroz cascara', 'Camote', 'Cebolla cabeza roja', 'Frijol grano seco', 'Maiz amarillo duro', 'Maiz choclo', 'Papa blanca', 'Paprika', 'Tomate', 'Trigo', 'Yuca', 'Zanahoria']   \n",
              "NaN                   ['Aji', 'Ajo', 'Algodon', 'Arroz cascara', 'Camote', 'Cebolla cabeza roja', 'Frijol grano seco', 'Maiz amarillo duro', 'Maiz choclo', 'Papa blanca', 'Paprika', 'Tomate', 'Trigo', 'Yuca', 'Zapallo']   \n",
              "NaN                              ['Aji', 'Ajo', 'Algodon', 'Arroz cascara', 'Camote', 'Cebolla cabeza roja', 'Frijol grano seco', 'Maiz amarillo duro', 'Maiz choclo', 'Papa blanca', 'Paprika', 'Tomate', 'Trigo', 'Yuca']   \n",
              "NaN              ['Aji', 'Ajo', 'Algodon', 'Arroz cascara', 'Camote', 'Cebolla cabeza roja', 'Frijol grano seco', 'Maiz amarillo duro', 'Maiz choclo', 'Papa blanca', 'Paprika', 'Tomate', 'Trigo', 'Zanahoria', 'Zapallo']   \n",
              "...                                                                                                                                                                                                                     ...   \n",
              "34818.0                                                                                                                                                                                                 ['Yuca', 'Zapallo']   \n",
              "34822.0                                                                                                                                                                                                            ['Yuca']   \n",
              "34045.0                                                                                                                                                                                            ['Zanahoria', 'Zapallo']   \n",
              "4094.0                                                                                                                                                                                                        ['Zanahoria']   \n",
              "34814.0                                                                                                                                                                                                         ['Zapallo']   \n",
              "\n",
              "         Freq_j  Freq(%)_j  Size_j  Freq_nj  Freq(%)_nj  Size_nj  \\\n",
              "NaN         0.0   0.000000     0.0        1    0.068918       16   \n",
              "NaN         0.0   0.000000     0.0        1    0.068918       15   \n",
              "NaN         0.0   0.000000     0.0        1    0.068918       15   \n",
              "NaN         0.0   0.000000     0.0        1    0.068918       14   \n",
              "NaN         0.0   0.000000     0.0        1    0.068918       15   \n",
              "...         ...        ...     ...      ...         ...      ...   \n",
              "34818.0     3.0   5.769231     2.0      151   10.406616        2   \n",
              "34822.0     6.0  11.538462     1.0      509   35.079256        1   \n",
              "34045.0     1.0   1.923077     2.0       88    6.064783        2   \n",
              "4094.0     24.0  46.153846     1.0      167   11.509304        1   \n",
              "34814.0     7.0  13.461538     1.0      325   22.398346        1   \n",
              "\n",
              "         GrowthRate_j  \\\n",
              "NaN          0.000000   \n",
              "NaN          0.000000   \n",
              "NaN          0.000000   \n",
              "NaN          0.000000   \n",
              "NaN          0.000000   \n",
              "...               ...   \n",
              "34818.0      0.554381   \n",
              "34822.0      0.328925   \n",
              "34045.0      0.317089   \n",
              "4094.0       4.010134   \n",
              "34814.0      0.601006   \n",
              "\n",
              "                                                                                                                                                                               Itemset_list  \\\n",
              "NaN      [Aji, Ajo, Algodon, Arroz cascara, Camote, Cebolla cabeza roja, Frijol grano seco, Maiz amarillo duro, Maiz choclo, Papa blanca, Paprika, Tomate, Trigo, Yuca, Zanahoria, Zapallo]   \n",
              "NaN               [Aji, Ajo, Algodon, Arroz cascara, Camote, Cebolla cabeza roja, Frijol grano seco, Maiz amarillo duro, Maiz choclo, Papa blanca, Paprika, Tomate, Trigo, Yuca, Zanahoria]   \n",
              "NaN                 [Aji, Ajo, Algodon, Arroz cascara, Camote, Cebolla cabeza roja, Frijol grano seco, Maiz amarillo duro, Maiz choclo, Papa blanca, Paprika, Tomate, Trigo, Yuca, Zapallo]   \n",
              "NaN                          [Aji, Ajo, Algodon, Arroz cascara, Camote, Cebolla cabeza roja, Frijol grano seco, Maiz amarillo duro, Maiz choclo, Papa blanca, Paprika, Tomate, Trigo, Yuca]   \n",
              "NaN            [Aji, Ajo, Algodon, Arroz cascara, Camote, Cebolla cabeza roja, Frijol grano seco, Maiz amarillo duro, Maiz choclo, Papa blanca, Paprika, Tomate, Trigo, Zanahoria, Zapallo]   \n",
              "...                                                                                                                                                                                     ...   \n",
              "34818.0                                                                                                                                                                     [Yuca, Zapallo]   \n",
              "34822.0                                                                                                                                                                              [Yuca]   \n",
              "34045.0                                                                                                                                                                [Zanahoria, Zapallo]   \n",
              "4094.0                                                                                                                                                                          [Zanahoria]   \n",
              "34814.0                                                                                                                                                                           [Zapallo]   \n",
              "\n",
              "          AvgPrice   AvgWater  \n",
              "NaN      11.625000  31.625000  \n",
              "NaN      11.066667  32.733333  \n",
              "NaN      12.133333  32.533333  \n",
              "NaN      11.571429  33.785714  \n",
              "NaN      12.000000  30.466667  \n",
              "...            ...        ...  \n",
              "34818.0  13.000000  32.000000  \n",
              "34822.0   6.000000  49.000000  \n",
              "34045.0  12.000000  16.500000  \n",
              "4094.0    4.000000  18.000000  \n",
              "34814.0  20.000000  15.000000  \n",
              "\n",
              "[4107926 rows x 11 columns]"
            ]
          },
          "execution_count": 15,
          "metadata": {},
          "output_type": "execute_result"
        }
      ],
      "source": [
        "def average_list(l, f):\n",
        "  return sum([f[v] for v in l]) / len(l)\n",
        "emerging['AvgPrice'] = [average_list(x, price) for x in emerging['Itemset_list'].tolist()]\n",
        "emerging['AvgWater'] = [average_list(x, water) for x in emerging['Itemset_list'].tolist()]\n",
        "emerging"
      ]
    },
    {
      "cell_type": "code",
      "execution_count": 16,
      "metadata": {
        "colab": {
          "base_uri": "https://localhost:8080/",
          "height": 519
        },
        "id": "9v3ljjvDlCNm",
        "outputId": "853320cd-6f1f-4e0f-98d3-3573e1ff5c9d"
      },
      "outputs": [
        {
          "data": {
            "text/html": [
              "<div>\n",
              "<style scoped>\n",
              "    .dataframe tbody tr th:only-of-type {\n",
              "        vertical-align: middle;\n",
              "    }\n",
              "\n",
              "    .dataframe tbody tr th {\n",
              "        vertical-align: top;\n",
              "    }\n",
              "\n",
              "    .dataframe thead th {\n",
              "        text-align: right;\n",
              "    }\n",
              "</style>\n",
              "<table border=\"1\" class=\"dataframe\">\n",
              "  <thead>\n",
              "    <tr style=\"text-align: right;\">\n",
              "      <th></th>\n",
              "      <th>Itemset_list</th>\n",
              "      <th>Freq_j</th>\n",
              "      <th>GrowthRate_j</th>\n",
              "      <th>Size_j</th>\n",
              "      <th>AvgPrice</th>\n",
              "      <th>AvgWater</th>\n",
              "    </tr>\n",
              "  </thead>\n",
              "  <tbody>\n",
              "    <tr>\n",
              "      <th>NaN</th>\n",
              "      <td>[Aji, Ajo, Algodon, Arroz cascara, Camote, Cebolla cabeza roja, Frijol grano seco, Maiz amarillo duro, Maiz choclo, Papa blanca, Paprika, Tomate, Trigo, Yuca, Zanahoria, Zapallo]</td>\n",
              "      <td>0.0</td>\n",
              "      <td>0.000000</td>\n",
              "      <td>0.0</td>\n",
              "      <td>11.625000</td>\n",
              "      <td>31.625000</td>\n",
              "    </tr>\n",
              "    <tr>\n",
              "      <th>NaN</th>\n",
              "      <td>[Aji, Ajo, Algodon, Arroz cascara, Camote, Cebolla cabeza roja, Frijol grano seco, Maiz amarillo duro, Maiz choclo, Papa blanca, Paprika, Tomate, Trigo, Yuca, Zanahoria]</td>\n",
              "      <td>0.0</td>\n",
              "      <td>0.000000</td>\n",
              "      <td>0.0</td>\n",
              "      <td>11.066667</td>\n",
              "      <td>32.733333</td>\n",
              "    </tr>\n",
              "    <tr>\n",
              "      <th>NaN</th>\n",
              "      <td>[Aji, Ajo, Algodon, Arroz cascara, Camote, Cebolla cabeza roja, Frijol grano seco, Maiz amarillo duro, Maiz choclo, Papa blanca, Paprika, Tomate, Trigo, Yuca, Zapallo]</td>\n",
              "      <td>0.0</td>\n",
              "      <td>0.000000</td>\n",
              "      <td>0.0</td>\n",
              "      <td>12.133333</td>\n",
              "      <td>32.533333</td>\n",
              "    </tr>\n",
              "    <tr>\n",
              "      <th>NaN</th>\n",
              "      <td>[Aji, Ajo, Algodon, Arroz cascara, Camote, Cebolla cabeza roja, Frijol grano seco, Maiz amarillo duro, Maiz choclo, Papa blanca, Paprika, Tomate, Trigo, Yuca]</td>\n",
              "      <td>0.0</td>\n",
              "      <td>0.000000</td>\n",
              "      <td>0.0</td>\n",
              "      <td>11.571429</td>\n",
              "      <td>33.785714</td>\n",
              "    </tr>\n",
              "    <tr>\n",
              "      <th>NaN</th>\n",
              "      <td>[Aji, Ajo, Algodon, Arroz cascara, Camote, Cebolla cabeza roja, Frijol grano seco, Maiz amarillo duro, Maiz choclo, Papa blanca, Paprika, Tomate, Trigo, Zanahoria, Zapallo]</td>\n",
              "      <td>0.0</td>\n",
              "      <td>0.000000</td>\n",
              "      <td>0.0</td>\n",
              "      <td>12.000000</td>\n",
              "      <td>30.466667</td>\n",
              "    </tr>\n",
              "    <tr>\n",
              "      <th>...</th>\n",
              "      <td>...</td>\n",
              "      <td>...</td>\n",
              "      <td>...</td>\n",
              "      <td>...</td>\n",
              "      <td>...</td>\n",
              "      <td>...</td>\n",
              "    </tr>\n",
              "    <tr>\n",
              "      <th>34818.0</th>\n",
              "      <td>[Yuca, Zapallo]</td>\n",
              "      <td>3.0</td>\n",
              "      <td>0.554381</td>\n",
              "      <td>2.0</td>\n",
              "      <td>13.000000</td>\n",
              "      <td>32.000000</td>\n",
              "    </tr>\n",
              "    <tr>\n",
              "      <th>34822.0</th>\n",
              "      <td>[Yuca]</td>\n",
              "      <td>6.0</td>\n",
              "      <td>0.328925</td>\n",
              "      <td>1.0</td>\n",
              "      <td>6.000000</td>\n",
              "      <td>49.000000</td>\n",
              "    </tr>\n",
              "    <tr>\n",
              "      <th>34045.0</th>\n",
              "      <td>[Zanahoria, Zapallo]</td>\n",
              "      <td>1.0</td>\n",
              "      <td>0.317089</td>\n",
              "      <td>2.0</td>\n",
              "      <td>12.000000</td>\n",
              "      <td>16.500000</td>\n",
              "    </tr>\n",
              "    <tr>\n",
              "      <th>4094.0</th>\n",
              "      <td>[Zanahoria]</td>\n",
              "      <td>24.0</td>\n",
              "      <td>4.010134</td>\n",
              "      <td>1.0</td>\n",
              "      <td>4.000000</td>\n",
              "      <td>18.000000</td>\n",
              "    </tr>\n",
              "    <tr>\n",
              "      <th>34814.0</th>\n",
              "      <td>[Zapallo]</td>\n",
              "      <td>7.0</td>\n",
              "      <td>0.601006</td>\n",
              "      <td>1.0</td>\n",
              "      <td>20.000000</td>\n",
              "      <td>15.000000</td>\n",
              "    </tr>\n",
              "  </tbody>\n",
              "</table>\n",
              "<p>4107926 rows × 6 columns</p>\n",
              "</div>"
            ],
            "text/plain": [
              "                                                                                                                                                                               Itemset_list  \\\n",
              "NaN      [Aji, Ajo, Algodon, Arroz cascara, Camote, Cebolla cabeza roja, Frijol grano seco, Maiz amarillo duro, Maiz choclo, Papa blanca, Paprika, Tomate, Trigo, Yuca, Zanahoria, Zapallo]   \n",
              "NaN               [Aji, Ajo, Algodon, Arroz cascara, Camote, Cebolla cabeza roja, Frijol grano seco, Maiz amarillo duro, Maiz choclo, Papa blanca, Paprika, Tomate, Trigo, Yuca, Zanahoria]   \n",
              "NaN                 [Aji, Ajo, Algodon, Arroz cascara, Camote, Cebolla cabeza roja, Frijol grano seco, Maiz amarillo duro, Maiz choclo, Papa blanca, Paprika, Tomate, Trigo, Yuca, Zapallo]   \n",
              "NaN                          [Aji, Ajo, Algodon, Arroz cascara, Camote, Cebolla cabeza roja, Frijol grano seco, Maiz amarillo duro, Maiz choclo, Papa blanca, Paprika, Tomate, Trigo, Yuca]   \n",
              "NaN            [Aji, Ajo, Algodon, Arroz cascara, Camote, Cebolla cabeza roja, Frijol grano seco, Maiz amarillo duro, Maiz choclo, Papa blanca, Paprika, Tomate, Trigo, Zanahoria, Zapallo]   \n",
              "...                                                                                                                                                                                     ...   \n",
              "34818.0                                                                                                                                                                     [Yuca, Zapallo]   \n",
              "34822.0                                                                                                                                                                              [Yuca]   \n",
              "34045.0                                                                                                                                                                [Zanahoria, Zapallo]   \n",
              "4094.0                                                                                                                                                                          [Zanahoria]   \n",
              "34814.0                                                                                                                                                                           [Zapallo]   \n",
              "\n",
              "         Freq_j  GrowthRate_j  Size_j   AvgPrice   AvgWater  \n",
              "NaN         0.0      0.000000     0.0  11.625000  31.625000  \n",
              "NaN         0.0      0.000000     0.0  11.066667  32.733333  \n",
              "NaN         0.0      0.000000     0.0  12.133333  32.533333  \n",
              "NaN         0.0      0.000000     0.0  11.571429  33.785714  \n",
              "NaN         0.0      0.000000     0.0  12.000000  30.466667  \n",
              "...         ...           ...     ...        ...        ...  \n",
              "34818.0     3.0      0.554381     2.0  13.000000  32.000000  \n",
              "34822.0     6.0      0.328925     1.0   6.000000  49.000000  \n",
              "34045.0     1.0      0.317089     2.0  12.000000  16.500000  \n",
              "4094.0     24.0      4.010134     1.0   4.000000  18.000000  \n",
              "34814.0     7.0      0.601006     1.0  20.000000  15.000000  \n",
              "\n",
              "[4107926 rows x 6 columns]"
            ]
          },
          "execution_count": 16,
          "metadata": {},
          "output_type": "execute_result"
        }
      ],
      "source": [
        "emerging = emerging[['Itemset_list', 'Freq_j', 'GrowthRate_j', 'Size_j', 'AvgPrice', 'AvgWater']]\n",
        "emerging"
      ]
    },
    {
      "attachments": {},
      "cell_type": "markdown",
      "metadata": {
        "id": "5REsqRQ5u-sN"
      },
      "source": [
        "## Skypatterns"
      ]
    },
    {
      "cell_type": "code",
      "execution_count": 17,
      "metadata": {
        "colab": {
          "base_uri": "https://localhost:8080/",
          "height": 650
        },
        "id": "hco37TBFmyN_",
        "outputId": "83e079ff-dae9-4645-e884-263bd214c82c"
      },
      "outputs": [
        {
          "name": "stdout",
          "output_type": "stream",
          "text": [
            "15\n"
          ]
        },
        {
          "data": {
            "text/html": [
              "<div>\n",
              "<style scoped>\n",
              "    .dataframe tbody tr th:only-of-type {\n",
              "        vertical-align: middle;\n",
              "    }\n",
              "\n",
              "    .dataframe tbody tr th {\n",
              "        vertical-align: top;\n",
              "    }\n",
              "\n",
              "    .dataframe thead th {\n",
              "        text-align: right;\n",
              "    }\n",
              "</style>\n",
              "<table border=\"1\" class=\"dataframe\">\n",
              "  <thead>\n",
              "    <tr style=\"text-align: right;\">\n",
              "      <th></th>\n",
              "      <th>Itemset_list</th>\n",
              "      <th>Freq_j</th>\n",
              "      <th>GrowthRate_j</th>\n",
              "      <th>Size_j</th>\n",
              "      <th>AvgPrice</th>\n",
              "      <th>AvgWater</th>\n",
              "    </tr>\n",
              "  </thead>\n",
              "  <tbody>\n",
              "    <tr>\n",
              "      <th>28143.0</th>\n",
              "      <td>[Ajo, Arveja grano seco, Arveja grano verde, Cebada grano, Cebolla cabeza roja, Haba grano seco, Maiz amilaceo, Maiz choclo, Olluco, Papa blanca, Papa color, Papa nativa, Quinua, Trigo, Zanahoria]</td>\n",
              "      <td>1.0</td>\n",
              "      <td>13.951923</td>\n",
              "      <td>15.0</td>\n",
              "      <td>11.200000</td>\n",
              "      <td>27.400000</td>\n",
              "    </tr>\n",
              "    <tr>\n",
              "      <th>26095.0</th>\n",
              "      <td>[Ajo, Arveja grano seco, Arveja grano verde, Cebada grano, Cebolla cabeza roja, Haba grano seco, Maiz amilaceo, Maiz choclo, Olluco, Papa blanca, Papa color, Quinua, Trigo, Zanahoria]</td>\n",
              "      <td>5.0</td>\n",
              "      <td>69.759615</td>\n",
              "      <td>14.0</td>\n",
              "      <td>11.857143</td>\n",
              "      <td>27.428571</td>\n",
              "    </tr>\n",
              "    <tr>\n",
              "      <th>25071.0</th>\n",
              "      <td>[Ajo, Arveja grano seco, Arveja grano verde, Cebada grano, Cebolla cabeza roja, Haba grano seco, Maiz amilaceo, Maiz choclo, Papa blanca, Papa color, Quinua, Trigo, Zanahoria]</td>\n",
              "      <td>9.0</td>\n",
              "      <td>125.567308</td>\n",
              "      <td>13.0</td>\n",
              "      <td>11.230769</td>\n",
              "      <td>28.307692</td>\n",
              "    </tr>\n",
              "    <tr>\n",
              "      <th>24559.0</th>\n",
              "      <td>[Ajo, Arveja grano seco, Arveja grano verde, Cebada grano, Cebolla cabeza roja, Haba grano seco, Maiz amilaceo, Maiz choclo, Papa blanca, Quinua, Trigo, Zanahoria]</td>\n",
              "      <td>11.0</td>\n",
              "      <td>153.471154</td>\n",
              "      <td>12.0</td>\n",
              "      <td>10.916667</td>\n",
              "      <td>28.500000</td>\n",
              "    </tr>\n",
              "    <tr>\n",
              "      <th>13271.0</th>\n",
              "      <td>[Ajo, Arveja grano seco, Arveja grano verde, Cebada grano, Haba grano seco, Maiz amilaceo, Maiz choclo, Papa blanca, Quinua, Trigo, Zanahoria]</td>\n",
              "      <td>12.0</td>\n",
              "      <td>33.484615</td>\n",
              "      <td>11.0</td>\n",
              "      <td>11.272727</td>\n",
              "      <td>27.727273</td>\n",
              "    </tr>\n",
              "    <tr>\n",
              "      <th>14167.0</th>\n",
              "      <td>[Ajo, Arveja grano seco, Arveja grano verde, Haba grano seco, Maiz amilaceo, Maiz choclo, Papa blanca, Quinua, Trigo, Zanahoria]</td>\n",
              "      <td>13.0</td>\n",
              "      <td>36.275000</td>\n",
              "      <td>10.0</td>\n",
              "      <td>10.900000</td>\n",
              "      <td>27.900000</td>\n",
              "    </tr>\n",
              "    <tr>\n",
              "      <th>4847.0</th>\n",
              "      <td>[Arveja grano seco, Arveja grano verde, Cebada grano, Haba grano seco, Maiz amilaceo, Maiz choclo, Papa blanca, Quinua, Trigo]</td>\n",
              "      <td>15.0</td>\n",
              "      <td>3.805070</td>\n",
              "      <td>9.0</td>\n",
              "      <td>11.444444</td>\n",
              "      <td>28.111111</td>\n",
              "    </tr>\n",
              "    <tr>\n",
              "      <th>395.0</th>\n",
              "      <td>[Arveja grano verde, Cebada grano, Maiz amilaceo, Maiz choclo, Papa blanca, Papa color, Quinua, Trigo]</td>\n",
              "      <td>17.0</td>\n",
              "      <td>4.605489</td>\n",
              "      <td>8.0</td>\n",
              "      <td>11.625000</td>\n",
              "      <td>30.375000</td>\n",
              "    </tr>\n",
              "    <tr>\n",
              "      <th>135.0</th>\n",
              "      <td>[Arveja grano verde, Cebada grano, Maiz amilaceo, Maiz choclo, Papa blanca, Papa color]</td>\n",
              "      <td>22.0</td>\n",
              "      <td>3.720513</td>\n",
              "      <td>6.0</td>\n",
              "      <td>13.333333</td>\n",
              "      <td>31.333333</td>\n",
              "    </tr>\n",
              "    <tr>\n",
              "      <th>379.0</th>\n",
              "      <td>[Arveja grano verde, Cebada grano, Maiz amilaceo, Maiz choclo, Papa blanca, Quinua, Trigo]</td>\n",
              "      <td>20.0</td>\n",
              "      <td>4.359976</td>\n",
              "      <td>7.0</td>\n",
              "      <td>11.142857</td>\n",
              "      <td>31.000000</td>\n",
              "    </tr>\n",
              "    <tr>\n",
              "      <th>143.0</th>\n",
              "      <td>[Arveja grano verde, Maiz amilaceo, Maiz choclo, Papa blanca, Papa color]</td>\n",
              "      <td>26.0</td>\n",
              "      <td>3.818421</td>\n",
              "      <td>5.0</td>\n",
              "      <td>13.000000</td>\n",
              "      <td>32.400000</td>\n",
              "    </tr>\n",
              "    <tr>\n",
              "      <th>247.0</th>\n",
              "      <td>[Arveja grano verde, Maiz amilaceo, Maiz choclo, Papa blanca]</td>\n",
              "      <td>30.0</td>\n",
              "      <td>3.182948</td>\n",
              "      <td>4.0</td>\n",
              "      <td>12.500000</td>\n",
              "      <td>34.000000</td>\n",
              "    </tr>\n",
              "    <tr>\n",
              "      <th>19.0</th>\n",
              "      <td>[Arveja grano verde, Maiz amilaceo, Papa blanca]</td>\n",
              "      <td>32.0</td>\n",
              "      <td>2.337495</td>\n",
              "      <td>3.0</td>\n",
              "      <td>13.000000</td>\n",
              "      <td>36.000000</td>\n",
              "    </tr>\n",
              "    <tr>\n",
              "      <th>1.0</th>\n",
              "      <td>[Cebada grano, Papa blanca]</td>\n",
              "      <td>40.0</td>\n",
              "      <td>1.911222</td>\n",
              "      <td>2.0</td>\n",
              "      <td>11.000000</td>\n",
              "      <td>33.000000</td>\n",
              "    </tr>\n",
              "    <tr>\n",
              "      <th>0.0</th>\n",
              "      <td>[Papa blanca]</td>\n",
              "      <td>46.0</td>\n",
              "      <td>1.765580</td>\n",
              "      <td>1.0</td>\n",
              "      <td>7.000000</td>\n",
              "      <td>40.000000</td>\n",
              "    </tr>\n",
              "  </tbody>\n",
              "</table>\n",
              "</div>"
            ],
            "text/plain": [
              "                                                                                                                                                                                                 Itemset_list  \\\n",
              "28143.0  [Ajo, Arveja grano seco, Arveja grano verde, Cebada grano, Cebolla cabeza roja, Haba grano seco, Maiz amilaceo, Maiz choclo, Olluco, Papa blanca, Papa color, Papa nativa, Quinua, Trigo, Zanahoria]   \n",
              "26095.0               [Ajo, Arveja grano seco, Arveja grano verde, Cebada grano, Cebolla cabeza roja, Haba grano seco, Maiz amilaceo, Maiz choclo, Olluco, Papa blanca, Papa color, Quinua, Trigo, Zanahoria]   \n",
              "25071.0                       [Ajo, Arveja grano seco, Arveja grano verde, Cebada grano, Cebolla cabeza roja, Haba grano seco, Maiz amilaceo, Maiz choclo, Papa blanca, Papa color, Quinua, Trigo, Zanahoria]   \n",
              "24559.0                                   [Ajo, Arveja grano seco, Arveja grano verde, Cebada grano, Cebolla cabeza roja, Haba grano seco, Maiz amilaceo, Maiz choclo, Papa blanca, Quinua, Trigo, Zanahoria]   \n",
              "13271.0                                                        [Ajo, Arveja grano seco, Arveja grano verde, Cebada grano, Haba grano seco, Maiz amilaceo, Maiz choclo, Papa blanca, Quinua, Trigo, Zanahoria]   \n",
              "14167.0                                                                      [Ajo, Arveja grano seco, Arveja grano verde, Haba grano seco, Maiz amilaceo, Maiz choclo, Papa blanca, Quinua, Trigo, Zanahoria]   \n",
              "4847.0                                                                         [Arveja grano seco, Arveja grano verde, Cebada grano, Haba grano seco, Maiz amilaceo, Maiz choclo, Papa blanca, Quinua, Trigo]   \n",
              "395.0                                                                                                  [Arveja grano verde, Cebada grano, Maiz amilaceo, Maiz choclo, Papa blanca, Papa color, Quinua, Trigo]   \n",
              "135.0                                                                                                                 [Arveja grano verde, Cebada grano, Maiz amilaceo, Maiz choclo, Papa blanca, Papa color]   \n",
              "379.0                                                                                                              [Arveja grano verde, Cebada grano, Maiz amilaceo, Maiz choclo, Papa blanca, Quinua, Trigo]   \n",
              "143.0                                                                                                                               [Arveja grano verde, Maiz amilaceo, Maiz choclo, Papa blanca, Papa color]   \n",
              "247.0                                                                                                                                           [Arveja grano verde, Maiz amilaceo, Maiz choclo, Papa blanca]   \n",
              "19.0                                                                                                                                                         [Arveja grano verde, Maiz amilaceo, Papa blanca]   \n",
              "1.0                                                                                                                                                                               [Cebada grano, Papa blanca]   \n",
              "0.0                                                                                                                                                                                             [Papa blanca]   \n",
              "\n",
              "         Freq_j  GrowthRate_j  Size_j   AvgPrice   AvgWater  \n",
              "28143.0     1.0     13.951923    15.0  11.200000  27.400000  \n",
              "26095.0     5.0     69.759615    14.0  11.857143  27.428571  \n",
              "25071.0     9.0    125.567308    13.0  11.230769  28.307692  \n",
              "24559.0    11.0    153.471154    12.0  10.916667  28.500000  \n",
              "13271.0    12.0     33.484615    11.0  11.272727  27.727273  \n",
              "14167.0    13.0     36.275000    10.0  10.900000  27.900000  \n",
              "4847.0     15.0      3.805070     9.0  11.444444  28.111111  \n",
              "395.0      17.0      4.605489     8.0  11.625000  30.375000  \n",
              "135.0      22.0      3.720513     6.0  13.333333  31.333333  \n",
              "379.0      20.0      4.359976     7.0  11.142857  31.000000  \n",
              "143.0      26.0      3.818421     5.0  13.000000  32.400000  \n",
              "247.0      30.0      3.182948     4.0  12.500000  34.000000  \n",
              "19.0       32.0      2.337495     3.0  13.000000  36.000000  \n",
              "1.0        40.0      1.911222     2.0  11.000000  33.000000  \n",
              "0.0        46.0      1.765580     1.0   7.000000  40.000000  "
            ]
          },
          "execution_count": 17,
          "metadata": {},
          "output_type": "execute_result"
        }
      ],
      "source": [
        "#optimizar según freq y size\n",
        "mask = paretoset(emerging[['Freq_j', 'Size_j']], sense=['max', 'max'])\n",
        "sky_itemsets = emerging[mask]\n",
        "print(len(sky_itemsets))\n",
        "sky_itemsets"
      ]
    },
    {
      "cell_type": "code",
      "execution_count": 22,
      "metadata": {
        "colab": {
          "base_uri": "https://localhost:8080/",
          "height": 441
        },
        "id": "sZ5qD4MXlGgh",
        "outputId": "9e51dbb3-4ab5-4a22-9f76-640383910c3c"
      },
      "outputs": [
        {
          "name": "stdout",
          "output_type": "stream",
          "text": [
            "1215\n"
          ]
        },
        {
          "data": {
            "text/html": [
              "<div>\n",
              "<style scoped>\n",
              "    .dataframe tbody tr th:only-of-type {\n",
              "        vertical-align: middle;\n",
              "    }\n",
              "\n",
              "    .dataframe tbody tr th {\n",
              "        vertical-align: top;\n",
              "    }\n",
              "\n",
              "    .dataframe thead th {\n",
              "        text-align: right;\n",
              "    }\n",
              "</style>\n",
              "<table border=\"1\" class=\"dataframe\">\n",
              "  <thead>\n",
              "    <tr style=\"text-align: right;\">\n",
              "      <th></th>\n",
              "      <th>Itemset_list</th>\n",
              "      <th>Freq_j</th>\n",
              "      <th>GrowthRate_j</th>\n",
              "      <th>Size_j</th>\n",
              "      <th>AvgPrice</th>\n",
              "      <th>AvgWater</th>\n",
              "    </tr>\n",
              "  </thead>\n",
              "  <tbody>\n",
              "    <tr>\n",
              "      <th>28143.0</th>\n",
              "      <td>[Ajo, Arveja grano seco, Arveja grano verde, Cebada grano, Cebolla cabeza roja, Haba grano seco, Maiz amilaceo, Maiz choclo, Olluco, Papa blanca, Papa color, Papa nativa, Quinua, Trigo, Zanahoria]</td>\n",
              "      <td>1.0</td>\n",
              "      <td>13.951923</td>\n",
              "      <td>15.0</td>\n",
              "      <td>11.200000</td>\n",
              "      <td>27.400000</td>\n",
              "    </tr>\n",
              "    <tr>\n",
              "      <th>26095.0</th>\n",
              "      <td>[Ajo, Arveja grano seco, Arveja grano verde, Cebada grano, Cebolla cabeza roja, Haba grano seco, Maiz amilaceo, Maiz choclo, Olluco, Papa blanca, Papa color, Quinua, Trigo, Zanahoria]</td>\n",
              "      <td>5.0</td>\n",
              "      <td>69.759615</td>\n",
              "      <td>14.0</td>\n",
              "      <td>11.857143</td>\n",
              "      <td>27.428571</td>\n",
              "    </tr>\n",
              "    <tr>\n",
              "      <th>26111.0</th>\n",
              "      <td>[Ajo, Arveja grano seco, Arveja grano verde, Cebada grano, Cebolla cabeza roja, Haba grano seco, Maiz amilaceo, Maiz choclo, Olluco, Papa blanca, Papa color, Quinua, Trigo]</td>\n",
              "      <td>5.0</td>\n",
              "      <td>17.439904</td>\n",
              "      <td>13.0</td>\n",
              "      <td>12.461538</td>\n",
              "      <td>28.153846</td>\n",
              "    </tr>\n",
              "    <tr>\n",
              "      <th>26097.0</th>\n",
              "      <td>[Ajo, Arveja grano seco, Arveja grano verde, Cebada grano, Cebolla cabeza roja, Haba grano seco, Maiz amilaceo, Maiz choclo, Olluco, Papa blanca, Papa color, Quinua, Zanahoria]</td>\n",
              "      <td>5.0</td>\n",
              "      <td>69.759615</td>\n",
              "      <td>13.0</td>\n",
              "      <td>12.307692</td>\n",
              "      <td>27.538462</td>\n",
              "    </tr>\n",
              "    <tr>\n",
              "      <th>26113.0</th>\n",
              "      <td>[Ajo, Arveja grano seco, Arveja grano verde, Cebada grano, Cebolla cabeza roja, Haba grano seco, Maiz amilaceo, Maiz choclo, Olluco, Papa blanca, Papa color, Quinua]</td>\n",
              "      <td>5.0</td>\n",
              "      <td>17.439904</td>\n",
              "      <td>12.0</td>\n",
              "      <td>13.000000</td>\n",
              "      <td>28.333333</td>\n",
              "    </tr>\n",
              "    <tr>\n",
              "      <th>...</th>\n",
              "      <td>...</td>\n",
              "      <td>...</td>\n",
              "      <td>...</td>\n",
              "      <td>...</td>\n",
              "      <td>...</td>\n",
              "      <td>...</td>\n",
              "    </tr>\n",
              "    <tr>\n",
              "      <th>0.0</th>\n",
              "      <td>[Papa blanca]</td>\n",
              "      <td>46.0</td>\n",
              "      <td>1.765580</td>\n",
              "      <td>1.0</td>\n",
              "      <td>7.000000</td>\n",
              "      <td>40.000000</td>\n",
              "    </tr>\n",
              "    <tr>\n",
              "      <th>14.0</th>\n",
              "      <td>[Papa color]</td>\n",
              "      <td>37.0</td>\n",
              "      <td>1.534090</td>\n",
              "      <td>1.0</td>\n",
              "      <td>15.000000</td>\n",
              "      <td>26.000000</td>\n",
              "    </tr>\n",
              "    <tr>\n",
              "      <th>2555.0</th>\n",
              "      <td>[Quinua, Trigo, Zanahoria]</td>\n",
              "      <td>20.0</td>\n",
              "      <td>9.001241</td>\n",
              "      <td>3.0</td>\n",
              "      <td>5.666667</td>\n",
              "      <td>24.333333</td>\n",
              "    </tr>\n",
              "    <tr>\n",
              "      <th>4094.0</th>\n",
              "      <td>[Zanahoria]</td>\n",
              "      <td>24.0</td>\n",
              "      <td>4.010134</td>\n",
              "      <td>1.0</td>\n",
              "      <td>4.000000</td>\n",
              "      <td>18.000000</td>\n",
              "    </tr>\n",
              "    <tr>\n",
              "      <th>34814.0</th>\n",
              "      <td>[Zapallo]</td>\n",
              "      <td>7.0</td>\n",
              "      <td>0.601006</td>\n",
              "      <td>1.0</td>\n",
              "      <td>20.000000</td>\n",
              "      <td>15.000000</td>\n",
              "    </tr>\n",
              "  </tbody>\n",
              "</table>\n",
              "<p>1215 rows × 6 columns</p>\n",
              "</div>"
            ],
            "text/plain": [
              "                                                                                                                                                                                                 Itemset_list  \\\n",
              "28143.0  [Ajo, Arveja grano seco, Arveja grano verde, Cebada grano, Cebolla cabeza roja, Haba grano seco, Maiz amilaceo, Maiz choclo, Olluco, Papa blanca, Papa color, Papa nativa, Quinua, Trigo, Zanahoria]   \n",
              "26095.0               [Ajo, Arveja grano seco, Arveja grano verde, Cebada grano, Cebolla cabeza roja, Haba grano seco, Maiz amilaceo, Maiz choclo, Olluco, Papa blanca, Papa color, Quinua, Trigo, Zanahoria]   \n",
              "26111.0                          [Ajo, Arveja grano seco, Arveja grano verde, Cebada grano, Cebolla cabeza roja, Haba grano seco, Maiz amilaceo, Maiz choclo, Olluco, Papa blanca, Papa color, Quinua, Trigo]   \n",
              "26097.0                      [Ajo, Arveja grano seco, Arveja grano verde, Cebada grano, Cebolla cabeza roja, Haba grano seco, Maiz amilaceo, Maiz choclo, Olluco, Papa blanca, Papa color, Quinua, Zanahoria]   \n",
              "26113.0                                 [Ajo, Arveja grano seco, Arveja grano verde, Cebada grano, Cebolla cabeza roja, Haba grano seco, Maiz amilaceo, Maiz choclo, Olluco, Papa blanca, Papa color, Quinua]   \n",
              "...                                                                                                                                                                                                       ...   \n",
              "0.0                                                                                                                                                                                             [Papa blanca]   \n",
              "14.0                                                                                                                                                                                             [Papa color]   \n",
              "2555.0                                                                                                                                                                             [Quinua, Trigo, Zanahoria]   \n",
              "4094.0                                                                                                                                                                                            [Zanahoria]   \n",
              "34814.0                                                                                                                                                                                             [Zapallo]   \n",
              "\n",
              "         Freq_j  GrowthRate_j  Size_j   AvgPrice   AvgWater  \n",
              "28143.0     1.0     13.951923    15.0  11.200000  27.400000  \n",
              "26095.0     5.0     69.759615    14.0  11.857143  27.428571  \n",
              "26111.0     5.0     17.439904    13.0  12.461538  28.153846  \n",
              "26097.0     5.0     69.759615    13.0  12.307692  27.538462  \n",
              "26113.0     5.0     17.439904    12.0  13.000000  28.333333  \n",
              "...         ...           ...     ...        ...        ...  \n",
              "0.0        46.0      1.765580     1.0   7.000000  40.000000  \n",
              "14.0       37.0      1.534090     1.0  15.000000  26.000000  \n",
              "2555.0     20.0      9.001241     3.0   5.666667  24.333333  \n",
              "4094.0     24.0      4.010134     1.0   4.000000  18.000000  \n",
              "34814.0     7.0      0.601006     1.0  20.000000  15.000000  \n",
              "\n",
              "[1215 rows x 6 columns]"
            ]
          },
          "execution_count": 22,
          "metadata": {},
          "output_type": "execute_result"
        }
      ],
      "source": [
        "#optimizar según las 5 métricas\n",
        "mask = paretoset(emerging[['Freq_j', 'Size_j', 'GrowthRate_j', 'AvgPrice', 'AvgWater']], sense=['max', 'max', 'max', 'max', 'min'])\n",
        "sky_itemsets = emerging[mask]\n",
        "print(len(sky_itemsets))\n",
        "sky_itemsets"
      ]
    },
    {
      "cell_type": "code",
      "execution_count": 19,
      "metadata": {
        "colab": {
          "base_uri": "https://localhost:8080/",
          "height": 542
        },
        "id": "hOXuI_Z4w7gT",
        "outputId": "99cb7d97-fa1b-4102-a9d3-fd2625f7c239"
      },
      "outputs": [
        {
          "data": {
            "application/vnd.plotly.v1+json": {
              "config": {
                "plotlyServerURL": "https://plot.ly"
              },
              "data": [
                {
                  "fill": "toself",
                  "name": "['Aji', 'Arroz cascara', 'Frijol grano seco', 'Maiz amarillo duro', 'Yuca']",
                  "r": [
                    2,
                    0.9458930899608866,
                    5,
                    10.8,
                    38.2
                  ],
                  "theta": [
                    "Freq_j",
                    "GrowthRate_j",
                    "Size_j",
                    "AvgPrice",
                    "AvgWater"
                  ],
                  "type": "scatterpolar"
                },
                {
                  "fill": "toself",
                  "name": "['Aji', 'Arroz cascara', 'Frijol grano seco', 'Yuca']",
                  "r": [
                    2,
                    0.9458930899608866,
                    4,
                    10.25,
                    43.5
                  ],
                  "theta": [
                    "Freq_j",
                    "GrowthRate_j",
                    "Size_j",
                    "AvgPrice",
                    "AvgWater"
                  ],
                  "type": "scatterpolar"
                },
                {
                  "fill": "toself",
                  "name": "['Aji', 'Arroz cascara', 'Frijol grano seco']",
                  "r": [
                    2,
                    0.9458930899608866,
                    3,
                    11.666666666666666,
                    41.666666666666664
                  ],
                  "theta": [
                    "Freq_j",
                    "GrowthRate_j",
                    "Size_j",
                    "AvgPrice",
                    "AvgWater"
                  ],
                  "type": "scatterpolar"
                },
                {
                  "fill": "toself",
                  "name": "['Aji', 'Arroz cascara', 'Yuca']",
                  "r": [
                    2,
                    0.9148802017654476,
                    3,
                    12.666666666666666,
                    41.666666666666664
                  ],
                  "theta": [
                    "Freq_j",
                    "GrowthRate_j",
                    "Size_j",
                    "AvgPrice",
                    "AvgWater"
                  ],
                  "type": "scatterpolar"
                },
                {
                  "fill": "toself",
                  "name": "['Aji', 'Arroz cascara']",
                  "r": [
                    2,
                    0.8585798816568047,
                    2,
                    16,
                    38
                  ],
                  "theta": [
                    "Freq_j",
                    "GrowthRate_j",
                    "Size_j",
                    "AvgPrice",
                    "AvgWater"
                  ],
                  "type": "scatterpolar"
                },
                {
                  "fill": "toself",
                  "name": "['Aji', 'Camote', 'Olluco']",
                  "r": [
                    0,
                    0,
                    0,
                    19,
                    32
                  ],
                  "theta": [
                    "Freq_j",
                    "GrowthRate_j",
                    "Size_j",
                    "AvgPrice",
                    "AvgWater"
                  ],
                  "type": "scatterpolar"
                },
                {
                  "fill": "toself",
                  "name": "['Aji', 'Camote', 'Tomate']",
                  "r": [
                    0,
                    0,
                    0,
                    18,
                    41.666666666666664
                  ],
                  "theta": [
                    "Freq_j",
                    "GrowthRate_j",
                    "Size_j",
                    "AvgPrice",
                    "AvgWater"
                  ],
                  "type": "scatterpolar"
                },
                {
                  "fill": "toself",
                  "name": "['Aji', 'Camote']",
                  "r": [
                    0,
                    0,
                    0,
                    18.5,
                    40
                  ],
                  "theta": [
                    "Freq_j",
                    "GrowthRate_j",
                    "Size_j",
                    "AvgPrice",
                    "AvgWater"
                  ],
                  "type": "scatterpolar"
                },
                {
                  "fill": "toself",
                  "name": "['Aji', 'Frijol grano seco', 'Maiz amarillo duro', 'Yuca']",
                  "r": [
                    5,
                    1.5854458041958044,
                    4,
                    9.75,
                    41
                  ],
                  "theta": [
                    "Freq_j",
                    "GrowthRate_j",
                    "Size_j",
                    "AvgPrice",
                    "AvgWater"
                  ],
                  "type": "scatterpolar"
                },
                {
                  "fill": "toself",
                  "name": "['Aji', 'Frijol grano seco', 'Maiz amarillo duro']",
                  "r": [
                    5,
                    1.4686234817813768,
                    3,
                    11,
                    38.333333333333336
                  ],
                  "theta": [
                    "Freq_j",
                    "GrowthRate_j",
                    "Size_j",
                    "AvgPrice",
                    "AvgWater"
                  ],
                  "type": "scatterpolar"
                },
                {
                  "fill": "toself",
                  "name": "['Aji', 'Frijol grano seco', 'Yuca', 'Zapallo']",
                  "r": [
                    2,
                    1.094268476621418,
                    4,
                    11.5,
                    40.5
                  ],
                  "theta": [
                    "Freq_j",
                    "GrowthRate_j",
                    "Size_j",
                    "AvgPrice",
                    "AvgWater"
                  ],
                  "type": "scatterpolar"
                },
                {
                  "fill": "toself",
                  "name": "['Aji', 'Frijol grano seco', 'Yuca']",
                  "r": [
                    5,
                    1.5676318063958516,
                    3,
                    8.666666666666666,
                    49
                  ],
                  "theta": [
                    "Freq_j",
                    "GrowthRate_j",
                    "Size_j",
                    "AvgPrice",
                    "AvgWater"
                  ],
                  "type": "scatterpolar"
                },
                {
                  "fill": "toself",
                  "name": "['Aji', 'Frijol grano seco', 'Zapallo']",
                  "r": [
                    2,
                    0.9458930899608866,
                    3,
                    13.333333333333334,
                    37.666666666666664
                  ],
                  "theta": [
                    "Freq_j",
                    "GrowthRate_j",
                    "Size_j",
                    "AvgPrice",
                    "AvgWater"
                  ],
                  "type": "scatterpolar"
                },
                {
                  "fill": "toself",
                  "name": "['Aji', 'Frijol grano seco']",
                  "r": [
                    5,
                    1.4236656200941917,
                    2,
                    10,
                    49
                  ],
                  "theta": [
                    "Freq_j",
                    "GrowthRate_j",
                    "Size_j",
                    "AvgPrice",
                    "AvgWater"
                  ],
                  "type": "scatterpolar"
                },
                {
                  "fill": "toself",
                  "name": "['Aji', 'Maiz amarillo duro', 'Yuca']",
                  "r": [
                    5,
                    1.3545556385362214,
                    3,
                    12,
                    38.333333333333336
                  ],
                  "theta": [
                    "Freq_j",
                    "GrowthRate_j",
                    "Size_j",
                    "AvgPrice",
                    "AvgWater"
                  ],
                  "type": "scatterpolar"
                },
                {
                  "fill": "toself",
                  "name": "['Aji', 'Yuca', 'Zapallo']",
                  "r": [
                    2,
                    0.9301282051282052,
                    3,
                    14.333333333333334,
                    37.666666666666664
                  ],
                  "theta": [
                    "Freq_j",
                    "GrowthRate_j",
                    "Size_j",
                    "AvgPrice",
                    "AvgWater"
                  ],
                  "type": "scatterpolar"
                },
                {
                  "fill": "toself",
                  "name": "['Aji', 'Yuca']",
                  "r": [
                    5,
                    1.328754578754579,
                    2,
                    11.5,
                    49
                  ],
                  "theta": [
                    "Freq_j",
                    "GrowthRate_j",
                    "Size_j",
                    "AvgPrice",
                    "AvgWater"
                  ],
                  "type": "scatterpolar"
                },
                {
                  "fill": "toself",
                  "name": "['Aji', 'Zapallo']",
                  "r": [
                    2,
                    0.6489266547406082,
                    2,
                    18.5,
                    32
                  ],
                  "theta": [
                    "Freq_j",
                    "GrowthRate_j",
                    "Size_j",
                    "AvgPrice",
                    "AvgWater"
                  ],
                  "type": "scatterpolar"
                },
                {
                  "fill": "toself",
                  "name": "['Aji']",
                  "r": [
                    5,
                    0.9301282051282052,
                    1,
                    17,
                    49
                  ],
                  "theta": [
                    "Freq_j",
                    "GrowthRate_j",
                    "Size_j",
                    "AvgPrice",
                    "AvgWater"
                  ],
                  "type": "scatterpolar"
                },
                {
                  "fill": "toself",
                  "name": "['Ajo', 'Arveja grano seco', 'Arveja grano verde', 'Cebada grano', 'Cebolla cabeza roja', 'Haba grano seco', 'Maiz amilaceo', 'Maiz choclo', 'Olluco', 'Papa blanca', 'Papa color', 'Papa nativa', 'Quinua', 'Trigo', 'Zanahoria']",
                  "r": [
                    1,
                    13.951923076923078,
                    15,
                    11.2,
                    27.4
                  ],
                  "theta": [
                    "Freq_j",
                    "GrowthRate_j",
                    "Size_j",
                    "AvgPrice",
                    "AvgWater"
                  ],
                  "type": "scatterpolar"
                }
              ],
              "layout": {
                "template": {
                  "data": {
                    "bar": [
                      {
                        "error_x": {
                          "color": "#2a3f5f"
                        },
                        "error_y": {
                          "color": "#2a3f5f"
                        },
                        "marker": {
                          "line": {
                            "color": "#E5ECF6",
                            "width": 0.5
                          },
                          "pattern": {
                            "fillmode": "overlay",
                            "size": 10,
                            "solidity": 0.2
                          }
                        },
                        "type": "bar"
                      }
                    ],
                    "barpolar": [
                      {
                        "marker": {
                          "line": {
                            "color": "#E5ECF6",
                            "width": 0.5
                          },
                          "pattern": {
                            "fillmode": "overlay",
                            "size": 10,
                            "solidity": 0.2
                          }
                        },
                        "type": "barpolar"
                      }
                    ],
                    "carpet": [
                      {
                        "aaxis": {
                          "endlinecolor": "#2a3f5f",
                          "gridcolor": "white",
                          "linecolor": "white",
                          "minorgridcolor": "white",
                          "startlinecolor": "#2a3f5f"
                        },
                        "baxis": {
                          "endlinecolor": "#2a3f5f",
                          "gridcolor": "white",
                          "linecolor": "white",
                          "minorgridcolor": "white",
                          "startlinecolor": "#2a3f5f"
                        },
                        "type": "carpet"
                      }
                    ],
                    "choropleth": [
                      {
                        "colorbar": {
                          "outlinewidth": 0,
                          "ticks": ""
                        },
                        "type": "choropleth"
                      }
                    ],
                    "contour": [
                      {
                        "colorbar": {
                          "outlinewidth": 0,
                          "ticks": ""
                        },
                        "colorscale": [
                          [
                            0,
                            "#0d0887"
                          ],
                          [
                            0.1111111111111111,
                            "#46039f"
                          ],
                          [
                            0.2222222222222222,
                            "#7201a8"
                          ],
                          [
                            0.3333333333333333,
                            "#9c179e"
                          ],
                          [
                            0.4444444444444444,
                            "#bd3786"
                          ],
                          [
                            0.5555555555555556,
                            "#d8576b"
                          ],
                          [
                            0.6666666666666666,
                            "#ed7953"
                          ],
                          [
                            0.7777777777777778,
                            "#fb9f3a"
                          ],
                          [
                            0.8888888888888888,
                            "#fdca26"
                          ],
                          [
                            1,
                            "#f0f921"
                          ]
                        ],
                        "type": "contour"
                      }
                    ],
                    "contourcarpet": [
                      {
                        "colorbar": {
                          "outlinewidth": 0,
                          "ticks": ""
                        },
                        "type": "contourcarpet"
                      }
                    ],
                    "heatmap": [
                      {
                        "colorbar": {
                          "outlinewidth": 0,
                          "ticks": ""
                        },
                        "colorscale": [
                          [
                            0,
                            "#0d0887"
                          ],
                          [
                            0.1111111111111111,
                            "#46039f"
                          ],
                          [
                            0.2222222222222222,
                            "#7201a8"
                          ],
                          [
                            0.3333333333333333,
                            "#9c179e"
                          ],
                          [
                            0.4444444444444444,
                            "#bd3786"
                          ],
                          [
                            0.5555555555555556,
                            "#d8576b"
                          ],
                          [
                            0.6666666666666666,
                            "#ed7953"
                          ],
                          [
                            0.7777777777777778,
                            "#fb9f3a"
                          ],
                          [
                            0.8888888888888888,
                            "#fdca26"
                          ],
                          [
                            1,
                            "#f0f921"
                          ]
                        ],
                        "type": "heatmap"
                      }
                    ],
                    "heatmapgl": [
                      {
                        "colorbar": {
                          "outlinewidth": 0,
                          "ticks": ""
                        },
                        "colorscale": [
                          [
                            0,
                            "#0d0887"
                          ],
                          [
                            0.1111111111111111,
                            "#46039f"
                          ],
                          [
                            0.2222222222222222,
                            "#7201a8"
                          ],
                          [
                            0.3333333333333333,
                            "#9c179e"
                          ],
                          [
                            0.4444444444444444,
                            "#bd3786"
                          ],
                          [
                            0.5555555555555556,
                            "#d8576b"
                          ],
                          [
                            0.6666666666666666,
                            "#ed7953"
                          ],
                          [
                            0.7777777777777778,
                            "#fb9f3a"
                          ],
                          [
                            0.8888888888888888,
                            "#fdca26"
                          ],
                          [
                            1,
                            "#f0f921"
                          ]
                        ],
                        "type": "heatmapgl"
                      }
                    ],
                    "histogram": [
                      {
                        "marker": {
                          "pattern": {
                            "fillmode": "overlay",
                            "size": 10,
                            "solidity": 0.2
                          }
                        },
                        "type": "histogram"
                      }
                    ],
                    "histogram2d": [
                      {
                        "colorbar": {
                          "outlinewidth": 0,
                          "ticks": ""
                        },
                        "colorscale": [
                          [
                            0,
                            "#0d0887"
                          ],
                          [
                            0.1111111111111111,
                            "#46039f"
                          ],
                          [
                            0.2222222222222222,
                            "#7201a8"
                          ],
                          [
                            0.3333333333333333,
                            "#9c179e"
                          ],
                          [
                            0.4444444444444444,
                            "#bd3786"
                          ],
                          [
                            0.5555555555555556,
                            "#d8576b"
                          ],
                          [
                            0.6666666666666666,
                            "#ed7953"
                          ],
                          [
                            0.7777777777777778,
                            "#fb9f3a"
                          ],
                          [
                            0.8888888888888888,
                            "#fdca26"
                          ],
                          [
                            1,
                            "#f0f921"
                          ]
                        ],
                        "type": "histogram2d"
                      }
                    ],
                    "histogram2dcontour": [
                      {
                        "colorbar": {
                          "outlinewidth": 0,
                          "ticks": ""
                        },
                        "colorscale": [
                          [
                            0,
                            "#0d0887"
                          ],
                          [
                            0.1111111111111111,
                            "#46039f"
                          ],
                          [
                            0.2222222222222222,
                            "#7201a8"
                          ],
                          [
                            0.3333333333333333,
                            "#9c179e"
                          ],
                          [
                            0.4444444444444444,
                            "#bd3786"
                          ],
                          [
                            0.5555555555555556,
                            "#d8576b"
                          ],
                          [
                            0.6666666666666666,
                            "#ed7953"
                          ],
                          [
                            0.7777777777777778,
                            "#fb9f3a"
                          ],
                          [
                            0.8888888888888888,
                            "#fdca26"
                          ],
                          [
                            1,
                            "#f0f921"
                          ]
                        ],
                        "type": "histogram2dcontour"
                      }
                    ],
                    "mesh3d": [
                      {
                        "colorbar": {
                          "outlinewidth": 0,
                          "ticks": ""
                        },
                        "type": "mesh3d"
                      }
                    ],
                    "parcoords": [
                      {
                        "line": {
                          "colorbar": {
                            "outlinewidth": 0,
                            "ticks": ""
                          }
                        },
                        "type": "parcoords"
                      }
                    ],
                    "pie": [
                      {
                        "automargin": true,
                        "type": "pie"
                      }
                    ],
                    "scatter": [
                      {
                        "fillpattern": {
                          "fillmode": "overlay",
                          "size": 10,
                          "solidity": 0.2
                        },
                        "type": "scatter"
                      }
                    ],
                    "scatter3d": [
                      {
                        "line": {
                          "colorbar": {
                            "outlinewidth": 0,
                            "ticks": ""
                          }
                        },
                        "marker": {
                          "colorbar": {
                            "outlinewidth": 0,
                            "ticks": ""
                          }
                        },
                        "type": "scatter3d"
                      }
                    ],
                    "scattercarpet": [
                      {
                        "marker": {
                          "colorbar": {
                            "outlinewidth": 0,
                            "ticks": ""
                          }
                        },
                        "type": "scattercarpet"
                      }
                    ],
                    "scattergeo": [
                      {
                        "marker": {
                          "colorbar": {
                            "outlinewidth": 0,
                            "ticks": ""
                          }
                        },
                        "type": "scattergeo"
                      }
                    ],
                    "scattergl": [
                      {
                        "marker": {
                          "colorbar": {
                            "outlinewidth": 0,
                            "ticks": ""
                          }
                        },
                        "type": "scattergl"
                      }
                    ],
                    "scattermapbox": [
                      {
                        "marker": {
                          "colorbar": {
                            "outlinewidth": 0,
                            "ticks": ""
                          }
                        },
                        "type": "scattermapbox"
                      }
                    ],
                    "scatterpolar": [
                      {
                        "marker": {
                          "colorbar": {
                            "outlinewidth": 0,
                            "ticks": ""
                          }
                        },
                        "type": "scatterpolar"
                      }
                    ],
                    "scatterpolargl": [
                      {
                        "marker": {
                          "colorbar": {
                            "outlinewidth": 0,
                            "ticks": ""
                          }
                        },
                        "type": "scatterpolargl"
                      }
                    ],
                    "scatterternary": [
                      {
                        "marker": {
                          "colorbar": {
                            "outlinewidth": 0,
                            "ticks": ""
                          }
                        },
                        "type": "scatterternary"
                      }
                    ],
                    "surface": [
                      {
                        "colorbar": {
                          "outlinewidth": 0,
                          "ticks": ""
                        },
                        "colorscale": [
                          [
                            0,
                            "#0d0887"
                          ],
                          [
                            0.1111111111111111,
                            "#46039f"
                          ],
                          [
                            0.2222222222222222,
                            "#7201a8"
                          ],
                          [
                            0.3333333333333333,
                            "#9c179e"
                          ],
                          [
                            0.4444444444444444,
                            "#bd3786"
                          ],
                          [
                            0.5555555555555556,
                            "#d8576b"
                          ],
                          [
                            0.6666666666666666,
                            "#ed7953"
                          ],
                          [
                            0.7777777777777778,
                            "#fb9f3a"
                          ],
                          [
                            0.8888888888888888,
                            "#fdca26"
                          ],
                          [
                            1,
                            "#f0f921"
                          ]
                        ],
                        "type": "surface"
                      }
                    ],
                    "table": [
                      {
                        "cells": {
                          "fill": {
                            "color": "#EBF0F8"
                          },
                          "line": {
                            "color": "white"
                          }
                        },
                        "header": {
                          "fill": {
                            "color": "#C8D4E3"
                          },
                          "line": {
                            "color": "white"
                          }
                        },
                        "type": "table"
                      }
                    ]
                  },
                  "layout": {
                    "annotationdefaults": {
                      "arrowcolor": "#2a3f5f",
                      "arrowhead": 0,
                      "arrowwidth": 1
                    },
                    "autotypenumbers": "strict",
                    "coloraxis": {
                      "colorbar": {
                        "outlinewidth": 0,
                        "ticks": ""
                      }
                    },
                    "colorscale": {
                      "diverging": [
                        [
                          0,
                          "#8e0152"
                        ],
                        [
                          0.1,
                          "#c51b7d"
                        ],
                        [
                          0.2,
                          "#de77ae"
                        ],
                        [
                          0.3,
                          "#f1b6da"
                        ],
                        [
                          0.4,
                          "#fde0ef"
                        ],
                        [
                          0.5,
                          "#f7f7f7"
                        ],
                        [
                          0.6,
                          "#e6f5d0"
                        ],
                        [
                          0.7,
                          "#b8e186"
                        ],
                        [
                          0.8,
                          "#7fbc41"
                        ],
                        [
                          0.9,
                          "#4d9221"
                        ],
                        [
                          1,
                          "#276419"
                        ]
                      ],
                      "sequential": [
                        [
                          0,
                          "#0d0887"
                        ],
                        [
                          0.1111111111111111,
                          "#46039f"
                        ],
                        [
                          0.2222222222222222,
                          "#7201a8"
                        ],
                        [
                          0.3333333333333333,
                          "#9c179e"
                        ],
                        [
                          0.4444444444444444,
                          "#bd3786"
                        ],
                        [
                          0.5555555555555556,
                          "#d8576b"
                        ],
                        [
                          0.6666666666666666,
                          "#ed7953"
                        ],
                        [
                          0.7777777777777778,
                          "#fb9f3a"
                        ],
                        [
                          0.8888888888888888,
                          "#fdca26"
                        ],
                        [
                          1,
                          "#f0f921"
                        ]
                      ],
                      "sequentialminus": [
                        [
                          0,
                          "#0d0887"
                        ],
                        [
                          0.1111111111111111,
                          "#46039f"
                        ],
                        [
                          0.2222222222222222,
                          "#7201a8"
                        ],
                        [
                          0.3333333333333333,
                          "#9c179e"
                        ],
                        [
                          0.4444444444444444,
                          "#bd3786"
                        ],
                        [
                          0.5555555555555556,
                          "#d8576b"
                        ],
                        [
                          0.6666666666666666,
                          "#ed7953"
                        ],
                        [
                          0.7777777777777778,
                          "#fb9f3a"
                        ],
                        [
                          0.8888888888888888,
                          "#fdca26"
                        ],
                        [
                          1,
                          "#f0f921"
                        ]
                      ]
                    },
                    "colorway": [
                      "#636efa",
                      "#EF553B",
                      "#00cc96",
                      "#ab63fa",
                      "#FFA15A",
                      "#19d3f3",
                      "#FF6692",
                      "#B6E880",
                      "#FF97FF",
                      "#FECB52"
                    ],
                    "font": {
                      "color": "#2a3f5f"
                    },
                    "geo": {
                      "bgcolor": "white",
                      "lakecolor": "white",
                      "landcolor": "#E5ECF6",
                      "showlakes": true,
                      "showland": true,
                      "subunitcolor": "white"
                    },
                    "hoverlabel": {
                      "align": "left"
                    },
                    "hovermode": "closest",
                    "mapbox": {
                      "style": "light"
                    },
                    "paper_bgcolor": "white",
                    "plot_bgcolor": "#E5ECF6",
                    "polar": {
                      "angularaxis": {
                        "gridcolor": "white",
                        "linecolor": "white",
                        "ticks": ""
                      },
                      "bgcolor": "#E5ECF6",
                      "radialaxis": {
                        "gridcolor": "white",
                        "linecolor": "white",
                        "ticks": ""
                      }
                    },
                    "scene": {
                      "xaxis": {
                        "backgroundcolor": "#E5ECF6",
                        "gridcolor": "white",
                        "gridwidth": 2,
                        "linecolor": "white",
                        "showbackground": true,
                        "ticks": "",
                        "zerolinecolor": "white"
                      },
                      "yaxis": {
                        "backgroundcolor": "#E5ECF6",
                        "gridcolor": "white",
                        "gridwidth": 2,
                        "linecolor": "white",
                        "showbackground": true,
                        "ticks": "",
                        "zerolinecolor": "white"
                      },
                      "zaxis": {
                        "backgroundcolor": "#E5ECF6",
                        "gridcolor": "white",
                        "gridwidth": 2,
                        "linecolor": "white",
                        "showbackground": true,
                        "ticks": "",
                        "zerolinecolor": "white"
                      }
                    },
                    "shapedefaults": {
                      "line": {
                        "color": "#2a3f5f"
                      }
                    },
                    "ternary": {
                      "aaxis": {
                        "gridcolor": "white",
                        "linecolor": "white",
                        "ticks": ""
                      },
                      "baxis": {
                        "gridcolor": "white",
                        "linecolor": "white",
                        "ticks": ""
                      },
                      "bgcolor": "#E5ECF6",
                      "caxis": {
                        "gridcolor": "white",
                        "linecolor": "white",
                        "ticks": ""
                      }
                    },
                    "title": {
                      "x": 0.05
                    },
                    "xaxis": {
                      "automargin": true,
                      "gridcolor": "white",
                      "linecolor": "white",
                      "ticks": "",
                      "title": {
                        "standoff": 15
                      },
                      "zerolinecolor": "white",
                      "zerolinewidth": 2
                    },
                    "yaxis": {
                      "automargin": true,
                      "gridcolor": "white",
                      "linecolor": "white",
                      "ticks": "",
                      "title": {
                        "standoff": 15
                      },
                      "zerolinecolor": "white",
                      "zerolinewidth": 2
                    }
                  }
                }
              }
            }
          },
          "metadata": {},
          "output_type": "display_data"
        }
      ],
      "source": [
        "def radar_chart_all(df_, dimensions_):\n",
        "  fig = go.Figure()\n",
        "  for row_ in range(len(df_)):\n",
        "    fig.add_trace(go.Scatterpolar(r=df_.iloc[row_,1:].values,\n",
        "                                  theta=dimensions_,\n",
        "                                  fill='toself',\n",
        "                                  name=str(df_.iloc[row_,0])))\n",
        "  fig.show()\n",
        "radar_chart_all(sky_itemsets.head(20), sky_itemsets.columns[1:])"
      ]
    },
    {
      "cell_type": "code",
      "execution_count": 20,
      "metadata": {
        "colab": {
          "base_uri": "https://localhost:8080/",
          "height": 542
        },
        "id": "6Xibnx56m1cN",
        "outputId": "5884c891-d8aa-4ed3-cbe8-70b4430e02f5"
      },
      "outputs": [
        {
          "data": {
            "application/vnd.plotly.v1+json": {
              "config": {
                "plotlyServerURL": "https://plot.ly"
              },
              "data": [
                {
                  "fill": "toself",
                  "name": "['Ajo', 'Arveja grano seco', 'Arveja grano verde', 'Cebada grano', 'Cebolla cabeza roja', 'Haba grano seco', 'Maiz amilaceo', 'Maiz choclo', 'Papa blanca', 'Quinua', 'Trigo', 'Zanahoria']",
                  "r": [
                    11,
                    153.47115384615387,
                    12,
                    10.916666666666666,
                    28.5
                  ],
                  "theta": [
                    "Freq_j",
                    "GrowthRate_j",
                    "Size_j",
                    "AvgPrice",
                    "AvgWater"
                  ],
                  "type": "scatterpolar"
                },
                {
                  "fill": "toself",
                  "name": "['Ajo', 'Arveja grano seco', 'Arveja grano verde', 'Cebada grano', 'Cebolla cabeza roja', 'Haba grano seco', 'Maiz amilaceo', 'Maiz choclo', 'Papa blanca', 'Quinua', 'Zanahoria']",
                  "r": [
                    11,
                    153.47115384615387,
                    11,
                    11.363636363636363,
                    28.727272727272727
                  ],
                  "theta": [
                    "Freq_j",
                    "GrowthRate_j",
                    "Size_j",
                    "AvgPrice",
                    "AvgWater"
                  ],
                  "type": "scatterpolar"
                },
                {
                  "fill": "toself",
                  "name": "['Ajo', 'Arveja grano seco', 'Arveja grano verde', 'Cebada grano', 'Cebolla cabeza roja', 'Haba grano seco', 'Maiz amilaceo', 'Maiz choclo', 'Quinua', 'Zanahoria']",
                  "r": [
                    11,
                    153.47115384615387,
                    10,
                    11.8,
                    27.6
                  ],
                  "theta": [
                    "Freq_j",
                    "GrowthRate_j",
                    "Size_j",
                    "AvgPrice",
                    "AvgWater"
                  ],
                  "type": "scatterpolar"
                },
                {
                  "fill": "toself",
                  "name": "['Ajo', 'Arveja grano seco', 'Arveja grano verde', 'Cebada grano', 'Cebolla cabeza roja', 'Maiz amilaceo', 'Maiz choclo', 'Papa blanca', 'Quinua', 'Trigo', 'Zanahoria']",
                  "r": [
                    11,
                    153.47115384615387,
                    11,
                    10.454545454545455,
                    29.545454545454547
                  ],
                  "theta": [
                    "Freq_j",
                    "GrowthRate_j",
                    "Size_j",
                    "AvgPrice",
                    "AvgWater"
                  ],
                  "type": "scatterpolar"
                },
                {
                  "fill": "toself",
                  "name": "['Ajo', 'Arveja grano seco', 'Arveja grano verde', 'Cebada grano', 'Cebolla cabeza roja', 'Maiz amilaceo', 'Maiz choclo', 'Papa blanca', 'Quinua', 'Zanahoria']",
                  "r": [
                    11,
                    153.47115384615387,
                    10,
                    10.9,
                    29.9
                  ],
                  "theta": [
                    "Freq_j",
                    "GrowthRate_j",
                    "Size_j",
                    "AvgPrice",
                    "AvgWater"
                  ],
                  "type": "scatterpolar"
                },
                {
                  "fill": "toself",
                  "name": "['Ajo', 'Arveja grano seco', 'Arveja grano verde', 'Cebolla cabeza roja', 'Haba grano seco', 'Maiz amilaceo', 'Maiz choclo', 'Papa blanca', 'Quinua', 'Trigo', 'Zanahoria']",
                  "r": [
                    12,
                    167.42307692307693,
                    11,
                    10.545454545454545,
                    28.727272727272727
                  ],
                  "theta": [
                    "Freq_j",
                    "GrowthRate_j",
                    "Size_j",
                    "AvgPrice",
                    "AvgWater"
                  ],
                  "type": "scatterpolar"
                },
                {
                  "fill": "toself",
                  "name": "['Ajo', 'Arveja grano seco', 'Arveja grano verde', 'Cebolla cabeza roja', 'Haba grano seco', 'Maiz amilaceo', 'Maiz choclo', 'Papa blanca', 'Quinua', 'Zanahoria']",
                  "r": [
                    12,
                    167.42307692307693,
                    10,
                    11,
                    29
                  ],
                  "theta": [
                    "Freq_j",
                    "GrowthRate_j",
                    "Size_j",
                    "AvgPrice",
                    "AvgWater"
                  ],
                  "type": "scatterpolar"
                },
                {
                  "fill": "toself",
                  "name": "['Ajo', 'Arveja grano seco', 'Arveja grano verde', 'Cebolla cabeza roja', 'Haba grano seco', 'Maiz amilaceo', 'Maiz choclo', 'Quinua', 'Zanahoria']",
                  "r": [
                    12,
                    167.42307692307693,
                    9,
                    11.444444444444445,
                    27.77777777777778
                  ],
                  "theta": [
                    "Freq_j",
                    "GrowthRate_j",
                    "Size_j",
                    "AvgPrice",
                    "AvgWater"
                  ],
                  "type": "scatterpolar"
                },
                {
                  "fill": "toself",
                  "name": "['Ajo', 'Arveja grano seco', 'Arveja grano verde', 'Cebolla cabeza roja', 'Maiz amilaceo', 'Maiz choclo', 'Papa blanca', 'Quinua', 'Trigo', 'Zanahoria']",
                  "r": [
                    12,
                    167.42307692307693,
                    10,
                    10,
                    29.9
                  ],
                  "theta": [
                    "Freq_j",
                    "GrowthRate_j",
                    "Size_j",
                    "AvgPrice",
                    "AvgWater"
                  ],
                  "type": "scatterpolar"
                },
                {
                  "fill": "toself",
                  "name": "['Ajo', 'Arveja grano seco', 'Arveja grano verde', 'Cebolla cabeza roja', 'Maiz amilaceo', 'Maiz choclo', 'Papa blanca', 'Quinua', 'Zanahoria']",
                  "r": [
                    12,
                    167.42307692307693,
                    9,
                    10.444444444444445,
                    30.333333333333332
                  ],
                  "theta": [
                    "Freq_j",
                    "GrowthRate_j",
                    "Size_j",
                    "AvgPrice",
                    "AvgWater"
                  ],
                  "type": "scatterpolar"
                },
                {
                  "fill": "toself",
                  "name": "['Ajo', 'Arveja grano verde', 'Cebada grano', 'Cebolla cabeza roja', 'Haba grano seco', 'Maiz amilaceo', 'Maiz choclo', 'Papa blanca', 'Quinua', 'Trigo', 'Zanahoria']",
                  "r": [
                    11,
                    153.47115384615387,
                    11,
                    11.090909090909092,
                    29.363636363636363
                  ],
                  "theta": [
                    "Freq_j",
                    "GrowthRate_j",
                    "Size_j",
                    "AvgPrice",
                    "AvgWater"
                  ],
                  "type": "scatterpolar"
                },
                {
                  "fill": "toself",
                  "name": "['Ajo', 'Arveja grano verde', 'Cebada grano', 'Cebolla cabeza roja', 'Haba grano seco', 'Maiz amilaceo', 'Maiz choclo', 'Papa blanca', 'Quinua', 'Zanahoria']",
                  "r": [
                    11,
                    153.47115384615387,
                    10,
                    11.6,
                    29.7
                  ],
                  "theta": [
                    "Freq_j",
                    "GrowthRate_j",
                    "Size_j",
                    "AvgPrice",
                    "AvgWater"
                  ],
                  "type": "scatterpolar"
                },
                {
                  "fill": "toself",
                  "name": "['Ajo', 'Arveja grano verde', 'Cebada grano', 'Cebolla cabeza roja', 'Haba grano seco', 'Maiz amilaceo', 'Maiz choclo', 'Quinua', 'Zanahoria']",
                  "r": [
                    11,
                    153.47115384615387,
                    9,
                    12.11111111111111,
                    28.555555555555557
                  ],
                  "theta": [
                    "Freq_j",
                    "GrowthRate_j",
                    "Size_j",
                    "AvgPrice",
                    "AvgWater"
                  ],
                  "type": "scatterpolar"
                },
                {
                  "fill": "toself",
                  "name": "['Ajo', 'Arveja grano verde', 'Cebada grano', 'Cebolla cabeza roja', 'Haba grano seco', 'Maiz amilaceo', 'Papa blanca', 'Quinua', 'Zanahoria']",
                  "r": [
                    11,
                    153.47115384615387,
                    9,
                    11.666666666666666,
                    29.88888888888889
                  ],
                  "theta": [
                    "Freq_j",
                    "GrowthRate_j",
                    "Size_j",
                    "AvgPrice",
                    "AvgWater"
                  ],
                  "type": "scatterpolar"
                },
                {
                  "fill": "toself",
                  "name": "['Ajo', 'Arveja grano verde', 'Cebada grano', 'Cebolla cabeza roja', 'Haba grano seco', 'Maiz amilaceo', 'Quinua', 'Zanahoria']",
                  "r": [
                    11,
                    153.47115384615387,
                    8,
                    12.25,
                    28.625
                  ],
                  "theta": [
                    "Freq_j",
                    "GrowthRate_j",
                    "Size_j",
                    "AvgPrice",
                    "AvgWater"
                  ],
                  "type": "scatterpolar"
                },
                {
                  "fill": "toself",
                  "name": "['Ajo', 'Arveja grano verde', 'Cebada grano', 'Cebolla cabeza roja', 'Maiz amilaceo', 'Maiz choclo', 'Papa blanca', 'Quinua', 'Trigo', 'Zanahoria']",
                  "r": [
                    11,
                    153.47115384615387,
                    10,
                    10.6,
                    30.6
                  ],
                  "theta": [
                    "Freq_j",
                    "GrowthRate_j",
                    "Size_j",
                    "AvgPrice",
                    "AvgWater"
                  ],
                  "type": "scatterpolar"
                },
                {
                  "fill": "toself",
                  "name": "['Ajo', 'Arveja grano verde', 'Cebada grano', 'Cebolla cabeza roja', 'Maiz amilaceo', 'Maiz choclo', 'Papa blanca', 'Quinua', 'Zanahoria']",
                  "r": [
                    11,
                    153.47115384615387,
                    9,
                    11.11111111111111,
                    31.11111111111111
                  ],
                  "theta": [
                    "Freq_j",
                    "GrowthRate_j",
                    "Size_j",
                    "AvgPrice",
                    "AvgWater"
                  ],
                  "type": "scatterpolar"
                },
                {
                  "fill": "toself",
                  "name": "['Ajo', 'Arveja grano verde', 'Cebada grano', 'Cebolla cabeza roja', 'Maiz amilaceo', 'Maiz choclo', 'Quinua', 'Zanahoria']",
                  "r": [
                    11,
                    153.47115384615387,
                    8,
                    11.625,
                    30
                  ],
                  "theta": [
                    "Freq_j",
                    "GrowthRate_j",
                    "Size_j",
                    "AvgPrice",
                    "AvgWater"
                  ],
                  "type": "scatterpolar"
                },
                {
                  "fill": "toself",
                  "name": "['Ajo', 'Arveja grano verde', 'Cebada grano', 'Cebolla cabeza roja', 'Maiz amilaceo', 'Papa blanca', 'Quinua', 'Zanahoria']",
                  "r": [
                    11,
                    153.47115384615387,
                    8,
                    11.125,
                    31.5
                  ],
                  "theta": [
                    "Freq_j",
                    "GrowthRate_j",
                    "Size_j",
                    "AvgPrice",
                    "AvgWater"
                  ],
                  "type": "scatterpolar"
                },
                {
                  "fill": "toself",
                  "name": "['Ajo', 'Arveja grano verde', 'Cebada grano', 'Cebolla cabeza roja', 'Maiz amilaceo', 'Quinua', 'Zanahoria']",
                  "r": [
                    11,
                    153.47115384615387,
                    7,
                    11.714285714285714,
                    30.285714285714285
                  ],
                  "theta": [
                    "Freq_j",
                    "GrowthRate_j",
                    "Size_j",
                    "AvgPrice",
                    "AvgWater"
                  ],
                  "type": "scatterpolar"
                },
                {
                  "fill": "toself",
                  "name": "['Ajo', 'Arveja grano verde', 'Cebolla cabeza roja', 'Haba grano seco', 'Maiz amilaceo', 'Maiz choclo', 'Papa blanca', 'Quinua', 'Trigo', 'Zanahoria']",
                  "r": [
                    12,
                    167.42307692307693,
                    10,
                    10.7,
                    29.7
                  ],
                  "theta": [
                    "Freq_j",
                    "GrowthRate_j",
                    "Size_j",
                    "AvgPrice",
                    "AvgWater"
                  ],
                  "type": "scatterpolar"
                },
                {
                  "fill": "toself",
                  "name": "['Ajo', 'Arveja grano verde', 'Cebolla cabeza roja', 'Haba grano seco', 'Maiz amilaceo', 'Maiz choclo', 'Papa blanca', 'Quinua', 'Zanahoria']",
                  "r": [
                    12,
                    167.42307692307693,
                    9,
                    11.222222222222221,
                    30.11111111111111
                  ],
                  "theta": [
                    "Freq_j",
                    "GrowthRate_j",
                    "Size_j",
                    "AvgPrice",
                    "AvgWater"
                  ],
                  "type": "scatterpolar"
                },
                {
                  "fill": "toself",
                  "name": "['Ajo', 'Arveja grano verde', 'Cebolla cabeza roja', 'Haba grano seco', 'Maiz amilaceo', 'Maiz choclo', 'Quinua', 'Zanahoria']",
                  "r": [
                    12,
                    167.42307692307693,
                    8,
                    11.75,
                    28.875
                  ],
                  "theta": [
                    "Freq_j",
                    "GrowthRate_j",
                    "Size_j",
                    "AvgPrice",
                    "AvgWater"
                  ],
                  "type": "scatterpolar"
                },
                {
                  "fill": "toself",
                  "name": "['Ajo', 'Arveja grano verde', 'Cebolla cabeza roja', 'Haba grano seco', 'Maiz amilaceo', 'Papa blanca', 'Quinua', 'Zanahoria']",
                  "r": [
                    12,
                    167.42307692307693,
                    8,
                    11.25,
                    30.375
                  ],
                  "theta": [
                    "Freq_j",
                    "GrowthRate_j",
                    "Size_j",
                    "AvgPrice",
                    "AvgWater"
                  ],
                  "type": "scatterpolar"
                },
                {
                  "fill": "toself",
                  "name": "['Ajo', 'Arveja grano verde', 'Cebolla cabeza roja', 'Haba grano seco', 'Maiz amilaceo', 'Quinua', 'Zanahoria']",
                  "r": [
                    12,
                    167.42307692307693,
                    7,
                    11.857142857142858,
                    29
                  ],
                  "theta": [
                    "Freq_j",
                    "GrowthRate_j",
                    "Size_j",
                    "AvgPrice",
                    "AvgWater"
                  ],
                  "type": "scatterpolar"
                },
                {
                  "fill": "toself",
                  "name": "['Ajo', 'Arveja grano verde', 'Cebolla cabeza roja', 'Maiz amilaceo', 'Maiz choclo', 'Papa blanca', 'Quinua', 'Trigo', 'Zanahoria']",
                  "r": [
                    12,
                    167.42307692307693,
                    9,
                    10.11111111111111,
                    31.11111111111111
                  ],
                  "theta": [
                    "Freq_j",
                    "GrowthRate_j",
                    "Size_j",
                    "AvgPrice",
                    "AvgWater"
                  ],
                  "type": "scatterpolar"
                },
                {
                  "fill": "toself",
                  "name": "['Ajo', 'Arveja grano verde', 'Cebolla cabeza roja', 'Maiz amilaceo', 'Maiz choclo', 'Papa blanca', 'Quinua', 'Zanahoria']",
                  "r": [
                    12,
                    167.42307692307693,
                    8,
                    10.625,
                    31.75
                  ],
                  "theta": [
                    "Freq_j",
                    "GrowthRate_j",
                    "Size_j",
                    "AvgPrice",
                    "AvgWater"
                  ],
                  "type": "scatterpolar"
                },
                {
                  "fill": "toself",
                  "name": "['Ajo', 'Arveja grano verde', 'Cebolla cabeza roja', 'Maiz amilaceo', 'Papa blanca', 'Quinua', 'Zanahoria']",
                  "r": [
                    12,
                    167.42307692307693,
                    7,
                    10.571428571428571,
                    32.285714285714285
                  ],
                  "theta": [
                    "Freq_j",
                    "GrowthRate_j",
                    "Size_j",
                    "AvgPrice",
                    "AvgWater"
                  ],
                  "type": "scatterpolar"
                }
              ],
              "layout": {
                "template": {
                  "data": {
                    "bar": [
                      {
                        "error_x": {
                          "color": "#2a3f5f"
                        },
                        "error_y": {
                          "color": "#2a3f5f"
                        },
                        "marker": {
                          "line": {
                            "color": "#E5ECF6",
                            "width": 0.5
                          },
                          "pattern": {
                            "fillmode": "overlay",
                            "size": 10,
                            "solidity": 0.2
                          }
                        },
                        "type": "bar"
                      }
                    ],
                    "barpolar": [
                      {
                        "marker": {
                          "line": {
                            "color": "#E5ECF6",
                            "width": 0.5
                          },
                          "pattern": {
                            "fillmode": "overlay",
                            "size": 10,
                            "solidity": 0.2
                          }
                        },
                        "type": "barpolar"
                      }
                    ],
                    "carpet": [
                      {
                        "aaxis": {
                          "endlinecolor": "#2a3f5f",
                          "gridcolor": "white",
                          "linecolor": "white",
                          "minorgridcolor": "white",
                          "startlinecolor": "#2a3f5f"
                        },
                        "baxis": {
                          "endlinecolor": "#2a3f5f",
                          "gridcolor": "white",
                          "linecolor": "white",
                          "minorgridcolor": "white",
                          "startlinecolor": "#2a3f5f"
                        },
                        "type": "carpet"
                      }
                    ],
                    "choropleth": [
                      {
                        "colorbar": {
                          "outlinewidth": 0,
                          "ticks": ""
                        },
                        "type": "choropleth"
                      }
                    ],
                    "contour": [
                      {
                        "colorbar": {
                          "outlinewidth": 0,
                          "ticks": ""
                        },
                        "colorscale": [
                          [
                            0,
                            "#0d0887"
                          ],
                          [
                            0.1111111111111111,
                            "#46039f"
                          ],
                          [
                            0.2222222222222222,
                            "#7201a8"
                          ],
                          [
                            0.3333333333333333,
                            "#9c179e"
                          ],
                          [
                            0.4444444444444444,
                            "#bd3786"
                          ],
                          [
                            0.5555555555555556,
                            "#d8576b"
                          ],
                          [
                            0.6666666666666666,
                            "#ed7953"
                          ],
                          [
                            0.7777777777777778,
                            "#fb9f3a"
                          ],
                          [
                            0.8888888888888888,
                            "#fdca26"
                          ],
                          [
                            1,
                            "#f0f921"
                          ]
                        ],
                        "type": "contour"
                      }
                    ],
                    "contourcarpet": [
                      {
                        "colorbar": {
                          "outlinewidth": 0,
                          "ticks": ""
                        },
                        "type": "contourcarpet"
                      }
                    ],
                    "heatmap": [
                      {
                        "colorbar": {
                          "outlinewidth": 0,
                          "ticks": ""
                        },
                        "colorscale": [
                          [
                            0,
                            "#0d0887"
                          ],
                          [
                            0.1111111111111111,
                            "#46039f"
                          ],
                          [
                            0.2222222222222222,
                            "#7201a8"
                          ],
                          [
                            0.3333333333333333,
                            "#9c179e"
                          ],
                          [
                            0.4444444444444444,
                            "#bd3786"
                          ],
                          [
                            0.5555555555555556,
                            "#d8576b"
                          ],
                          [
                            0.6666666666666666,
                            "#ed7953"
                          ],
                          [
                            0.7777777777777778,
                            "#fb9f3a"
                          ],
                          [
                            0.8888888888888888,
                            "#fdca26"
                          ],
                          [
                            1,
                            "#f0f921"
                          ]
                        ],
                        "type": "heatmap"
                      }
                    ],
                    "heatmapgl": [
                      {
                        "colorbar": {
                          "outlinewidth": 0,
                          "ticks": ""
                        },
                        "colorscale": [
                          [
                            0,
                            "#0d0887"
                          ],
                          [
                            0.1111111111111111,
                            "#46039f"
                          ],
                          [
                            0.2222222222222222,
                            "#7201a8"
                          ],
                          [
                            0.3333333333333333,
                            "#9c179e"
                          ],
                          [
                            0.4444444444444444,
                            "#bd3786"
                          ],
                          [
                            0.5555555555555556,
                            "#d8576b"
                          ],
                          [
                            0.6666666666666666,
                            "#ed7953"
                          ],
                          [
                            0.7777777777777778,
                            "#fb9f3a"
                          ],
                          [
                            0.8888888888888888,
                            "#fdca26"
                          ],
                          [
                            1,
                            "#f0f921"
                          ]
                        ],
                        "type": "heatmapgl"
                      }
                    ],
                    "histogram": [
                      {
                        "marker": {
                          "pattern": {
                            "fillmode": "overlay",
                            "size": 10,
                            "solidity": 0.2
                          }
                        },
                        "type": "histogram"
                      }
                    ],
                    "histogram2d": [
                      {
                        "colorbar": {
                          "outlinewidth": 0,
                          "ticks": ""
                        },
                        "colorscale": [
                          [
                            0,
                            "#0d0887"
                          ],
                          [
                            0.1111111111111111,
                            "#46039f"
                          ],
                          [
                            0.2222222222222222,
                            "#7201a8"
                          ],
                          [
                            0.3333333333333333,
                            "#9c179e"
                          ],
                          [
                            0.4444444444444444,
                            "#bd3786"
                          ],
                          [
                            0.5555555555555556,
                            "#d8576b"
                          ],
                          [
                            0.6666666666666666,
                            "#ed7953"
                          ],
                          [
                            0.7777777777777778,
                            "#fb9f3a"
                          ],
                          [
                            0.8888888888888888,
                            "#fdca26"
                          ],
                          [
                            1,
                            "#f0f921"
                          ]
                        ],
                        "type": "histogram2d"
                      }
                    ],
                    "histogram2dcontour": [
                      {
                        "colorbar": {
                          "outlinewidth": 0,
                          "ticks": ""
                        },
                        "colorscale": [
                          [
                            0,
                            "#0d0887"
                          ],
                          [
                            0.1111111111111111,
                            "#46039f"
                          ],
                          [
                            0.2222222222222222,
                            "#7201a8"
                          ],
                          [
                            0.3333333333333333,
                            "#9c179e"
                          ],
                          [
                            0.4444444444444444,
                            "#bd3786"
                          ],
                          [
                            0.5555555555555556,
                            "#d8576b"
                          ],
                          [
                            0.6666666666666666,
                            "#ed7953"
                          ],
                          [
                            0.7777777777777778,
                            "#fb9f3a"
                          ],
                          [
                            0.8888888888888888,
                            "#fdca26"
                          ],
                          [
                            1,
                            "#f0f921"
                          ]
                        ],
                        "type": "histogram2dcontour"
                      }
                    ],
                    "mesh3d": [
                      {
                        "colorbar": {
                          "outlinewidth": 0,
                          "ticks": ""
                        },
                        "type": "mesh3d"
                      }
                    ],
                    "parcoords": [
                      {
                        "line": {
                          "colorbar": {
                            "outlinewidth": 0,
                            "ticks": ""
                          }
                        },
                        "type": "parcoords"
                      }
                    ],
                    "pie": [
                      {
                        "automargin": true,
                        "type": "pie"
                      }
                    ],
                    "scatter": [
                      {
                        "fillpattern": {
                          "fillmode": "overlay",
                          "size": 10,
                          "solidity": 0.2
                        },
                        "type": "scatter"
                      }
                    ],
                    "scatter3d": [
                      {
                        "line": {
                          "colorbar": {
                            "outlinewidth": 0,
                            "ticks": ""
                          }
                        },
                        "marker": {
                          "colorbar": {
                            "outlinewidth": 0,
                            "ticks": ""
                          }
                        },
                        "type": "scatter3d"
                      }
                    ],
                    "scattercarpet": [
                      {
                        "marker": {
                          "colorbar": {
                            "outlinewidth": 0,
                            "ticks": ""
                          }
                        },
                        "type": "scattercarpet"
                      }
                    ],
                    "scattergeo": [
                      {
                        "marker": {
                          "colorbar": {
                            "outlinewidth": 0,
                            "ticks": ""
                          }
                        },
                        "type": "scattergeo"
                      }
                    ],
                    "scattergl": [
                      {
                        "marker": {
                          "colorbar": {
                            "outlinewidth": 0,
                            "ticks": ""
                          }
                        },
                        "type": "scattergl"
                      }
                    ],
                    "scattermapbox": [
                      {
                        "marker": {
                          "colorbar": {
                            "outlinewidth": 0,
                            "ticks": ""
                          }
                        },
                        "type": "scattermapbox"
                      }
                    ],
                    "scatterpolar": [
                      {
                        "marker": {
                          "colorbar": {
                            "outlinewidth": 0,
                            "ticks": ""
                          }
                        },
                        "type": "scatterpolar"
                      }
                    ],
                    "scatterpolargl": [
                      {
                        "marker": {
                          "colorbar": {
                            "outlinewidth": 0,
                            "ticks": ""
                          }
                        },
                        "type": "scatterpolargl"
                      }
                    ],
                    "scatterternary": [
                      {
                        "marker": {
                          "colorbar": {
                            "outlinewidth": 0,
                            "ticks": ""
                          }
                        },
                        "type": "scatterternary"
                      }
                    ],
                    "surface": [
                      {
                        "colorbar": {
                          "outlinewidth": 0,
                          "ticks": ""
                        },
                        "colorscale": [
                          [
                            0,
                            "#0d0887"
                          ],
                          [
                            0.1111111111111111,
                            "#46039f"
                          ],
                          [
                            0.2222222222222222,
                            "#7201a8"
                          ],
                          [
                            0.3333333333333333,
                            "#9c179e"
                          ],
                          [
                            0.4444444444444444,
                            "#bd3786"
                          ],
                          [
                            0.5555555555555556,
                            "#d8576b"
                          ],
                          [
                            0.6666666666666666,
                            "#ed7953"
                          ],
                          [
                            0.7777777777777778,
                            "#fb9f3a"
                          ],
                          [
                            0.8888888888888888,
                            "#fdca26"
                          ],
                          [
                            1,
                            "#f0f921"
                          ]
                        ],
                        "type": "surface"
                      }
                    ],
                    "table": [
                      {
                        "cells": {
                          "fill": {
                            "color": "#EBF0F8"
                          },
                          "line": {
                            "color": "white"
                          }
                        },
                        "header": {
                          "fill": {
                            "color": "#C8D4E3"
                          },
                          "line": {
                            "color": "white"
                          }
                        },
                        "type": "table"
                      }
                    ]
                  },
                  "layout": {
                    "annotationdefaults": {
                      "arrowcolor": "#2a3f5f",
                      "arrowhead": 0,
                      "arrowwidth": 1
                    },
                    "autotypenumbers": "strict",
                    "coloraxis": {
                      "colorbar": {
                        "outlinewidth": 0,
                        "ticks": ""
                      }
                    },
                    "colorscale": {
                      "diverging": [
                        [
                          0,
                          "#8e0152"
                        ],
                        [
                          0.1,
                          "#c51b7d"
                        ],
                        [
                          0.2,
                          "#de77ae"
                        ],
                        [
                          0.3,
                          "#f1b6da"
                        ],
                        [
                          0.4,
                          "#fde0ef"
                        ],
                        [
                          0.5,
                          "#f7f7f7"
                        ],
                        [
                          0.6,
                          "#e6f5d0"
                        ],
                        [
                          0.7,
                          "#b8e186"
                        ],
                        [
                          0.8,
                          "#7fbc41"
                        ],
                        [
                          0.9,
                          "#4d9221"
                        ],
                        [
                          1,
                          "#276419"
                        ]
                      ],
                      "sequential": [
                        [
                          0,
                          "#0d0887"
                        ],
                        [
                          0.1111111111111111,
                          "#46039f"
                        ],
                        [
                          0.2222222222222222,
                          "#7201a8"
                        ],
                        [
                          0.3333333333333333,
                          "#9c179e"
                        ],
                        [
                          0.4444444444444444,
                          "#bd3786"
                        ],
                        [
                          0.5555555555555556,
                          "#d8576b"
                        ],
                        [
                          0.6666666666666666,
                          "#ed7953"
                        ],
                        [
                          0.7777777777777778,
                          "#fb9f3a"
                        ],
                        [
                          0.8888888888888888,
                          "#fdca26"
                        ],
                        [
                          1,
                          "#f0f921"
                        ]
                      ],
                      "sequentialminus": [
                        [
                          0,
                          "#0d0887"
                        ],
                        [
                          0.1111111111111111,
                          "#46039f"
                        ],
                        [
                          0.2222222222222222,
                          "#7201a8"
                        ],
                        [
                          0.3333333333333333,
                          "#9c179e"
                        ],
                        [
                          0.4444444444444444,
                          "#bd3786"
                        ],
                        [
                          0.5555555555555556,
                          "#d8576b"
                        ],
                        [
                          0.6666666666666666,
                          "#ed7953"
                        ],
                        [
                          0.7777777777777778,
                          "#fb9f3a"
                        ],
                        [
                          0.8888888888888888,
                          "#fdca26"
                        ],
                        [
                          1,
                          "#f0f921"
                        ]
                      ]
                    },
                    "colorway": [
                      "#636efa",
                      "#EF553B",
                      "#00cc96",
                      "#ab63fa",
                      "#FFA15A",
                      "#19d3f3",
                      "#FF6692",
                      "#B6E880",
                      "#FF97FF",
                      "#FECB52"
                    ],
                    "font": {
                      "color": "#2a3f5f"
                    },
                    "geo": {
                      "bgcolor": "white",
                      "lakecolor": "white",
                      "landcolor": "#E5ECF6",
                      "showlakes": true,
                      "showland": true,
                      "subunitcolor": "white"
                    },
                    "hoverlabel": {
                      "align": "left"
                    },
                    "hovermode": "closest",
                    "mapbox": {
                      "style": "light"
                    },
                    "paper_bgcolor": "white",
                    "plot_bgcolor": "#E5ECF6",
                    "polar": {
                      "angularaxis": {
                        "gridcolor": "white",
                        "linecolor": "white",
                        "ticks": ""
                      },
                      "bgcolor": "#E5ECF6",
                      "radialaxis": {
                        "gridcolor": "white",
                        "linecolor": "white",
                        "ticks": ""
                      }
                    },
                    "scene": {
                      "xaxis": {
                        "backgroundcolor": "#E5ECF6",
                        "gridcolor": "white",
                        "gridwidth": 2,
                        "linecolor": "white",
                        "showbackground": true,
                        "ticks": "",
                        "zerolinecolor": "white"
                      },
                      "yaxis": {
                        "backgroundcolor": "#E5ECF6",
                        "gridcolor": "white",
                        "gridwidth": 2,
                        "linecolor": "white",
                        "showbackground": true,
                        "ticks": "",
                        "zerolinecolor": "white"
                      },
                      "zaxis": {
                        "backgroundcolor": "#E5ECF6",
                        "gridcolor": "white",
                        "gridwidth": 2,
                        "linecolor": "white",
                        "showbackground": true,
                        "ticks": "",
                        "zerolinecolor": "white"
                      }
                    },
                    "shapedefaults": {
                      "line": {
                        "color": "#2a3f5f"
                      }
                    },
                    "ternary": {
                      "aaxis": {
                        "gridcolor": "white",
                        "linecolor": "white",
                        "ticks": ""
                      },
                      "baxis": {
                        "gridcolor": "white",
                        "linecolor": "white",
                        "ticks": ""
                      },
                      "bgcolor": "#E5ECF6",
                      "caxis": {
                        "gridcolor": "white",
                        "linecolor": "white",
                        "ticks": ""
                      }
                    },
                    "title": {
                      "x": 0.05
                    },
                    "xaxis": {
                      "automargin": true,
                      "gridcolor": "white",
                      "linecolor": "white",
                      "ticks": "",
                      "title": {
                        "standoff": 15
                      },
                      "zerolinecolor": "white",
                      "zerolinewidth": 2
                    },
                    "yaxis": {
                      "automargin": true,
                      "gridcolor": "white",
                      "linecolor": "white",
                      "ticks": "",
                      "title": {
                        "standoff": 15
                      },
                      "zerolinecolor": "white",
                      "zerolinewidth": 2
                    }
                  }
                }
              }
            }
          },
          "metadata": {},
          "output_type": "display_data"
        }
      ],
      "source": [
        "radar_chart_all(sky_itemsets[sky_itemsets['GrowthRate_j'] > 150], sky_itemsets.columns[1:])"
      ]
    },
    {
      "cell_type": "code",
      "execution_count": 21,
      "metadata": {
        "colab": {
          "base_uri": "https://localhost:8080/",
          "height": 542
        },
        "id": "Siajadmqmpyw",
        "outputId": "c7d0fdc9-d9f2-4201-b900-831a9219a460"
      },
      "outputs": [
        {
          "data": {
            "application/vnd.plotly.v1+json": {
              "config": {
                "plotlyServerURL": "https://plot.ly"
              },
              "data": [
                {
                  "fill": "toself",
                  "name": "['Ajo', 'Arveja grano seco', 'Arveja grano verde', 'Cebada grano', 'Cebolla cabeza roja', 'Haba grano seco', 'Maiz amilaceo', 'Maiz choclo', 'Papa blanca', 'Papa color', 'Papa nativa', 'Quinua', 'Trigo']",
                  "r": [
                    2,
                    7.9725274725274735,
                    13,
                    11.076923076923077,
                    29
                  ],
                  "theta": [
                    "Freq_j",
                    "GrowthRate_j",
                    "Size_j",
                    "AvgPrice",
                    "AvgWater"
                  ],
                  "type": "scatterpolar"
                },
                {
                  "fill": "toself",
                  "name": "['Ajo', 'Arveja grano seco', 'Arveja grano verde', 'Cebada grano', 'Cebolla cabeza roja', 'Haba grano seco', 'Maiz amilaceo', 'Maiz choclo', 'Papa blanca', 'Papa color', 'Papa nativa', 'Quinua']",
                  "r": [
                    2,
                    7.9725274725274735,
                    12,
                    11.5,
                    29.25
                  ],
                  "theta": [
                    "Freq_j",
                    "GrowthRate_j",
                    "Size_j",
                    "AvgPrice",
                    "AvgWater"
                  ],
                  "type": "scatterpolar"
                },
                {
                  "fill": "toself",
                  "name": "['Ajo', 'Arveja grano seco', 'Arveja grano verde', 'Cebada grano', 'Cebolla cabeza roja', 'Maiz amilaceo', 'Maiz choclo', 'Papa blanca', 'Papa color', 'Papa nativa', 'Quinua', 'Trigo']",
                  "r": [
                    2,
                    7.9725274725274735,
                    12,
                    10.666666666666666,
                    30
                  ],
                  "theta": [
                    "Freq_j",
                    "GrowthRate_j",
                    "Size_j",
                    "AvgPrice",
                    "AvgWater"
                  ],
                  "type": "scatterpolar"
                },
                {
                  "fill": "toself",
                  "name": "['Ajo', 'Arveja grano seco', 'Arveja grano verde', 'Cebada grano', 'Cebolla cabeza roja', 'Maiz amilaceo', 'Maiz choclo', 'Papa blanca', 'Papa color', 'Papa nativa', 'Quinua']",
                  "r": [
                    2,
                    7.9725274725274735,
                    11,
                    11.090909090909092,
                    30.363636363636363
                  ],
                  "theta": [
                    "Freq_j",
                    "GrowthRate_j",
                    "Size_j",
                    "AvgPrice",
                    "AvgWater"
                  ],
                  "type": "scatterpolar"
                },
                {
                  "fill": "toself",
                  "name": "['Ajo', 'Arveja grano seco', 'Arveja grano verde', 'Cebada grano', 'Haba grano seco', 'Maiz amilaceo', 'Maiz choclo', 'Olluco', 'Papa blanca', 'Papa color']",
                  "r": [
                    6,
                    5.400744416873449,
                    10,
                    14.2,
                    27.4
                  ],
                  "theta": [
                    "Freq_j",
                    "GrowthRate_j",
                    "Size_j",
                    "AvgPrice",
                    "AvgWater"
                  ],
                  "type": "scatterpolar"
                },
                {
                  "fill": "toself",
                  "name": "['Ajo', 'Arveja grano seco', 'Arveja grano verde', 'Cebada grano', 'Haba grano seco', 'Maiz amilaceo', 'Maiz choclo', 'Olluco', 'Papa blanca', 'Quinua', 'Trigo']",
                  "r": [
                    7,
                    8.878496503496503,
                    11,
                    12.727272727272727,
                    27.545454545454547
                  ],
                  "theta": [
                    "Freq_j",
                    "GrowthRate_j",
                    "Size_j",
                    "AvgPrice",
                    "AvgWater"
                  ],
                  "type": "scatterpolar"
                },
                {
                  "fill": "toself",
                  "name": "['Ajo', 'Arveja grano seco', 'Arveja grano verde', 'Cebada grano', 'Haba grano seco', 'Maiz amilaceo', 'Maiz choclo', 'Olluco', 'Papa blanca', 'Quinua']",
                  "r": [
                    7,
                    8.878496503496503,
                    10,
                    13.4,
                    27.7
                  ],
                  "theta": [
                    "Freq_j",
                    "GrowthRate_j",
                    "Size_j",
                    "AvgPrice",
                    "AvgWater"
                  ],
                  "type": "scatterpolar"
                },
                {
                  "fill": "toself",
                  "name": "['Ajo', 'Arveja grano seco', 'Arveja grano verde', 'Cebada grano', 'Haba grano seco', 'Maiz amilaceo', 'Maiz choclo', 'Olluco', 'Papa blanca']",
                  "r": [
                    7,
                    5.140182186234818,
                    9,
                    14.11111111111111,
                    27.555555555555557
                  ],
                  "theta": [
                    "Freq_j",
                    "GrowthRate_j",
                    "Size_j",
                    "AvgPrice",
                    "AvgWater"
                  ],
                  "type": "scatterpolar"
                },
                {
                  "fill": "toself",
                  "name": "['Ajo', 'Arveja grano seco', 'Arveja grano verde', 'Cebada grano', 'Haba grano seco', 'Maiz amilaceo', 'Maiz choclo', 'Olluco', 'Papa color']",
                  "r": [
                    6,
                    5.400744416873449,
                    9,
                    15,
                    26
                  ],
                  "theta": [
                    "Freq_j",
                    "GrowthRate_j",
                    "Size_j",
                    "AvgPrice",
                    "AvgWater"
                  ],
                  "type": "scatterpolar"
                },
                {
                  "fill": "toself",
                  "name": "['Ajo', 'Arveja grano seco', 'Arveja grano verde', 'Cebada grano', 'Haba grano seco', 'Maiz amilaceo', 'Maiz choclo', 'Olluco', 'Quinua']",
                  "r": [
                    7,
                    8.878496503496503,
                    9,
                    14.11111111111111,
                    26.333333333333332
                  ],
                  "theta": [
                    "Freq_j",
                    "GrowthRate_j",
                    "Size_j",
                    "AvgPrice",
                    "AvgWater"
                  ],
                  "type": "scatterpolar"
                },
                {
                  "fill": "toself",
                  "name": "['Ajo', 'Arveja grano seco', 'Arveja grano verde', 'Cebada grano', 'Haba grano seco', 'Maiz amilaceo', 'Maiz choclo', 'Olluco']",
                  "r": [
                    7,
                    5.140182186234818,
                    8,
                    15,
                    26
                  ],
                  "theta": [
                    "Freq_j",
                    "GrowthRate_j",
                    "Size_j",
                    "AvgPrice",
                    "AvgWater"
                  ],
                  "type": "scatterpolar"
                },
                {
                  "fill": "toself",
                  "name": "['Ajo', 'Arveja grano seco', 'Arveja grano verde', 'Cebada grano', 'Haba grano seco', 'Maiz amilaceo', 'Maiz choclo', 'Papa blanca', 'Papa color']",
                  "r": [
                    10,
                    8.719951923076925,
                    9,
                    13.555555555555555,
                    28.666666666666668
                  ],
                  "theta": [
                    "Freq_j",
                    "GrowthRate_j",
                    "Size_j",
                    "AvgPrice",
                    "AvgWater"
                  ],
                  "type": "scatterpolar"
                },
                {
                  "fill": "toself",
                  "name": "['Ajo', 'Arveja grano seco', 'Arveja grano verde', 'Cebada grano', 'Haba grano seco', 'Maiz amilaceo', 'Maiz choclo', 'Papa blanca']",
                  "r": [
                    12,
                    8.585798816568046,
                    8,
                    13.375,
                    29
                  ],
                  "theta": [
                    "Freq_j",
                    "GrowthRate_j",
                    "Size_j",
                    "AvgPrice",
                    "AvgWater"
                  ],
                  "type": "scatterpolar"
                },
                {
                  "fill": "toself",
                  "name": "['Ajo', 'Arveja grano seco', 'Arveja grano verde', 'Cebada grano', 'Haba grano seco', 'Maiz amilaceo', 'Maiz choclo', 'Papa color']",
                  "r": [
                    10,
                    8.719951923076925,
                    8,
                    14.375,
                    27.25
                  ],
                  "theta": [
                    "Freq_j",
                    "GrowthRate_j",
                    "Size_j",
                    "AvgPrice",
                    "AvgWater"
                  ],
                  "type": "scatterpolar"
                },
                {
                  "fill": "toself",
                  "name": "['Ajo', 'Arveja grano seco', 'Arveja grano verde', 'Cebada grano', 'Haba grano seco', 'Maiz amilaceo', 'Maiz choclo']",
                  "r": [
                    12,
                    8.585798816568046,
                    7,
                    14.285714285714286,
                    27.428571428571427
                  ],
                  "theta": [
                    "Freq_j",
                    "GrowthRate_j",
                    "Size_j",
                    "AvgPrice",
                    "AvgWater"
                  ],
                  "type": "scatterpolar"
                },
                {
                  "fill": "toself",
                  "name": "['Ajo', 'Arveja grano seco', 'Arveja grano verde', 'Cebada grano', 'Maiz amilaceo', 'Maiz choclo', 'Olluco', 'Papa blanca', 'Papa color']",
                  "r": [
                    6,
                    5.231971153846154,
                    9,
                    14,
                    28.555555555555557
                  ],
                  "theta": [
                    "Freq_j",
                    "GrowthRate_j",
                    "Size_j",
                    "AvgPrice",
                    "AvgWater"
                  ],
                  "type": "scatterpolar"
                },
                {
                  "fill": "toself",
                  "name": "['Ajo', 'Arveja grano seco', 'Arveja grano verde', 'Cebada grano', 'Maiz amilaceo', 'Maiz choclo', 'Olluco', 'Papa color']",
                  "r": [
                    6,
                    5.231971153846154,
                    8,
                    14.875,
                    27.125
                  ],
                  "theta": [
                    "Freq_j",
                    "GrowthRate_j",
                    "Size_j",
                    "AvgPrice",
                    "AvgWater"
                  ],
                  "type": "scatterpolar"
                },
                {
                  "fill": "toself",
                  "name": "['Ajo', 'Arveja grano seco', 'Arveja grano verde', 'Cebada grano', 'Maiz amilaceo', 'Maiz choclo', 'Papa blanca', 'Papa color']",
                  "r": [
                    10,
                    8.455710955710957,
                    8,
                    13.25,
                    30.125
                  ],
                  "theta": [
                    "Freq_j",
                    "GrowthRate_j",
                    "Size_j",
                    "AvgPrice",
                    "AvgWater"
                  ],
                  "type": "scatterpolar"
                },
                {
                  "fill": "toself",
                  "name": "['Ajo', 'Arveja grano seco', 'Arveja grano verde', 'Cebada grano', 'Maiz amilaceo', 'Maiz choclo', 'Papa blanca']",
                  "r": [
                    12,
                    8.371153846153847,
                    7,
                    13,
                    30.714285714285715
                  ],
                  "theta": [
                    "Freq_j",
                    "GrowthRate_j",
                    "Size_j",
                    "AvgPrice",
                    "AvgWater"
                  ],
                  "type": "scatterpolar"
                },
                {
                  "fill": "toself",
                  "name": "['Ajo', 'Arveja grano seco', 'Arveja grano verde', 'Cebada grano', 'Maiz amilaceo', 'Maiz choclo', 'Papa color']",
                  "r": [
                    10,
                    8.455710955710957,
                    7,
                    14.142857142857142,
                    28.714285714285715
                  ],
                  "theta": [
                    "Freq_j",
                    "GrowthRate_j",
                    "Size_j",
                    "AvgPrice",
                    "AvgWater"
                  ],
                  "type": "scatterpolar"
                },
                {
                  "fill": "toself",
                  "name": "['Ajo', 'Arveja grano seco', 'Arveja grano verde', 'Cebada grano', 'Maiz amilaceo', 'Maiz choclo']",
                  "r": [
                    12,
                    8.371153846153847,
                    6,
                    14,
                    29.166666666666668
                  ],
                  "theta": [
                    "Freq_j",
                    "GrowthRate_j",
                    "Size_j",
                    "AvgPrice",
                    "AvgWater"
                  ],
                  "type": "scatterpolar"
                },
                {
                  "fill": "toself",
                  "name": "['Ajo', 'Arveja grano seco', 'Arveja grano verde', 'Haba grano seco', 'Maiz amilaceo', 'Maiz choclo', 'Papa blanca']",
                  "r": [
                    13,
                    9.301282051282051,
                    7,
                    13.142857142857142,
                    29.428571428571427
                  ],
                  "theta": [
                    "Freq_j",
                    "GrowthRate_j",
                    "Size_j",
                    "AvgPrice",
                    "AvgWater"
                  ],
                  "type": "scatterpolar"
                },
                {
                  "fill": "toself",
                  "name": "['Ajo', 'Arveja grano seco', 'Arveja grano verde', 'Haba grano seco', 'Maiz amilaceo', 'Maiz choclo']",
                  "r": [
                    13,
                    9.301282051282051,
                    6,
                    14.166666666666666,
                    27.666666666666668
                  ],
                  "theta": [
                    "Freq_j",
                    "GrowthRate_j",
                    "Size_j",
                    "AvgPrice",
                    "AvgWater"
                  ],
                  "type": "scatterpolar"
                },
                {
                  "fill": "toself",
                  "name": "['Ajo', 'Arveja grano verde', 'Cebada grano', 'Cebolla cabeza roja', 'Haba grano seco', 'Maiz amilaceo', 'Maiz choclo', 'Papa blanca', 'Papa color', 'Papa nativa', 'Quinua', 'Trigo']",
                  "r": [
                    2,
                    7.9725274725274735,
                    12,
                    11.25,
                    29.833333333333332
                  ],
                  "theta": [
                    "Freq_j",
                    "GrowthRate_j",
                    "Size_j",
                    "AvgPrice",
                    "AvgWater"
                  ],
                  "type": "scatterpolar"
                },
                {
                  "fill": "toself",
                  "name": "['Ajo', 'Arveja grano verde', 'Cebada grano', 'Cebolla cabeza roja', 'Haba grano seco', 'Maiz amilaceo', 'Maiz choclo', 'Papa blanca', 'Papa color', 'Papa nativa', 'Quinua']",
                  "r": [
                    2,
                    7.9725274725274735,
                    11,
                    11.727272727272727,
                    30.181818181818183
                  ],
                  "theta": [
                    "Freq_j",
                    "GrowthRate_j",
                    "Size_j",
                    "AvgPrice",
                    "AvgWater"
                  ],
                  "type": "scatterpolar"
                },
                {
                  "fill": "toself",
                  "name": "['Ajo', 'Arveja grano verde', 'Cebada grano', 'Cebolla cabeza roja', 'Maiz amilaceo', 'Maiz choclo', 'Papa blanca', 'Papa color', 'Papa nativa', 'Quinua', 'Trigo']",
                  "r": [
                    2,
                    7.9725274725274735,
                    11,
                    10.818181818181818,
                    31
                  ],
                  "theta": [
                    "Freq_j",
                    "GrowthRate_j",
                    "Size_j",
                    "AvgPrice",
                    "AvgWater"
                  ],
                  "type": "scatterpolar"
                },
                {
                  "fill": "toself",
                  "name": "['Ajo', 'Arveja grano verde', 'Cebada grano', 'Cebolla cabeza roja', 'Maiz amilaceo', 'Maiz choclo', 'Papa blanca', 'Papa color', 'Papa nativa', 'Quinua']",
                  "r": [
                    2,
                    7.9725274725274735,
                    10,
                    11.3,
                    31.5
                  ],
                  "theta": [
                    "Freq_j",
                    "GrowthRate_j",
                    "Size_j",
                    "AvgPrice",
                    "AvgWater"
                  ],
                  "type": "scatterpolar"
                },
                {
                  "fill": "toself",
                  "name": "['Ajo', 'Arveja grano verde', 'Cebada grano', 'Cebolla cabeza roja', 'Maiz amilaceo', 'Maiz choclo', 'Papa blanca', 'Papa nativa', 'Quinua']",
                  "r": [
                    2,
                    7.9725274725274735,
                    9,
                    10.88888888888889,
                    32.111111111111114
                  ],
                  "theta": [
                    "Freq_j",
                    "GrowthRate_j",
                    "Size_j",
                    "AvgPrice",
                    "AvgWater"
                  ],
                  "type": "scatterpolar"
                },
                {
                  "fill": "toself",
                  "name": "['Ajo', 'Arveja grano verde', 'Cebada grano', 'Haba grano seco', 'Maiz amilaceo', 'Maiz choclo', 'Olluco', 'Papa blanca', 'Papa color']",
                  "r": [
                    6,
                    5.231971153846154,
                    9,
                    14.777777777777779,
                    28.333333333333332
                  ],
                  "theta": [
                    "Freq_j",
                    "GrowthRate_j",
                    "Size_j",
                    "AvgPrice",
                    "AvgWater"
                  ],
                  "type": "scatterpolar"
                },
                {
                  "fill": "toself",
                  "name": "['Ajo', 'Arveja grano verde', 'Cebada grano', 'Haba grano seco', 'Maiz amilaceo', 'Maiz choclo', 'Olluco', 'Papa blanca', 'Quinua', 'Trigo']",
                  "r": [
                    7,
                    8.878496503496503,
                    10,
                    13.1,
                    28.4
                  ],
                  "theta": [
                    "Freq_j",
                    "GrowthRate_j",
                    "Size_j",
                    "AvgPrice",
                    "AvgWater"
                  ],
                  "type": "scatterpolar"
                },
                {
                  "fill": "toself",
                  "name": "['Ajo', 'Arveja grano verde', 'Cebada grano', 'Haba grano seco', 'Maiz amilaceo', 'Maiz choclo', 'Olluco', 'Papa blanca', 'Quinua']",
                  "r": [
                    7,
                    8.878496503496503,
                    9,
                    13.88888888888889,
                    28.666666666666668
                  ],
                  "theta": [
                    "Freq_j",
                    "GrowthRate_j",
                    "Size_j",
                    "AvgPrice",
                    "AvgWater"
                  ],
                  "type": "scatterpolar"
                },
                {
                  "fill": "toself",
                  "name": "['Ajo', 'Arveja grano verde', 'Cebada grano', 'Haba grano seco', 'Maiz amilaceo', 'Maiz choclo', 'Olluco', 'Papa blanca']",
                  "r": [
                    7,
                    5.008382642998027,
                    8,
                    14.75,
                    28.625
                  ],
                  "theta": [
                    "Freq_j",
                    "GrowthRate_j",
                    "Size_j",
                    "AvgPrice",
                    "AvgWater"
                  ],
                  "type": "scatterpolar"
                },
                {
                  "fill": "toself",
                  "name": "['Ajo', 'Arveja grano verde', 'Cebada grano', 'Haba grano seco', 'Maiz amilaceo', 'Maiz choclo', 'Olluco', 'Papa color', 'Quinua']",
                  "r": [
                    6,
                    9.848416289592759,
                    9,
                    14.777777777777779,
                    27.11111111111111
                  ],
                  "theta": [
                    "Freq_j",
                    "GrowthRate_j",
                    "Size_j",
                    "AvgPrice",
                    "AvgWater"
                  ],
                  "type": "scatterpolar"
                },
                {
                  "fill": "toself",
                  "name": "['Ajo', 'Arveja grano verde', 'Cebada grano', 'Haba grano seco', 'Maiz amilaceo', 'Maiz choclo', 'Olluco', 'Quinua']",
                  "r": [
                    7,
                    8.49247491638796,
                    8,
                    14.75,
                    27.25
                  ],
                  "theta": [
                    "Freq_j",
                    "GrowthRate_j",
                    "Size_j",
                    "AvgPrice",
                    "AvgWater"
                  ],
                  "type": "scatterpolar"
                },
                {
                  "fill": "toself",
                  "name": "['Ajo', 'Arveja grano verde', 'Cebada grano', 'Haba grano seco', 'Maiz amilaceo', 'Maiz choclo', 'Papa blanca', 'Papa color']",
                  "r": [
                    10,
                    8.207013574660634,
                    8,
                    14.125,
                    29.875
                  ],
                  "theta": [
                    "Freq_j",
                    "GrowthRate_j",
                    "Size_j",
                    "AvgPrice",
                    "AvgWater"
                  ],
                  "type": "scatterpolar"
                },
                {
                  "fill": "toself",
                  "name": "['Ajo', 'Arveja grano verde', 'Cebada grano', 'Haba grano seco', 'Maiz amilaceo', 'Maiz choclo', 'Papa blanca']",
                  "r": [
                    12,
                    8.166979362101314,
                    7,
                    14,
                    30.428571428571427
                  ],
                  "theta": [
                    "Freq_j",
                    "GrowthRate_j",
                    "Size_j",
                    "AvgPrice",
                    "AvgWater"
                  ],
                  "type": "scatterpolar"
                },
                {
                  "fill": "toself",
                  "name": "['Ajo', 'Arveja grano verde', 'Cebada grano', 'Haba grano seco', 'Maiz amilaceo', 'Maiz choclo', 'Papa color']",
                  "r": [
                    10,
                    7.751068376068377,
                    7,
                    15.142857142857142,
                    28.428571428571427
                  ],
                  "theta": [
                    "Freq_j",
                    "GrowthRate_j",
                    "Size_j",
                    "AvgPrice",
                    "AvgWater"
                  ],
                  "type": "scatterpolar"
                },
                {
                  "fill": "toself",
                  "name": "['Ajo', 'Arveja grano verde', 'Cebada grano', 'Haba grano seco', 'Maiz amilaceo', 'Maiz choclo']",
                  "r": [
                    12,
                    7.787119856887299,
                    6,
                    15.166666666666666,
                    28.833333333333332
                  ],
                  "theta": [
                    "Freq_j",
                    "GrowthRate_j",
                    "Size_j",
                    "AvgPrice",
                    "AvgWater"
                  ],
                  "type": "scatterpolar"
                },
                {
                  "fill": "toself",
                  "name": "['Ajo', 'Arveja grano verde', 'Cebada grano', 'Haba grano seco', 'Maiz amilaceo', 'Olluco', 'Papa blanca', 'Papa color', 'Quinua']",
                  "r": [
                    6,
                    8.81174089068826,
                    9,
                    14.333333333333334,
                    28.444444444444443
                  ],
                  "theta": [
                    "Freq_j",
                    "GrowthRate_j",
                    "Size_j",
                    "AvgPrice",
                    "AvgWater"
                  ],
                  "type": "scatterpolar"
                },
                {
                  "fill": "toself",
                  "name": "['Ajo', 'Arveja grano verde', 'Cebada grano', 'Haba grano seco', 'Maiz amilaceo', 'Olluco', 'Papa blanca', 'Quinua']",
                  "r": [
                    7,
                    7.813076923076923,
                    8,
                    14.25,
                    28.75
                  ],
                  "theta": [
                    "Freq_j",
                    "GrowthRate_j",
                    "Size_j",
                    "AvgPrice",
                    "AvgWater"
                  ],
                  "type": "scatterpolar"
                },
                {
                  "fill": "toself",
                  "name": "['Ajo', 'Arveja grano verde', 'Cebada grano', 'Haba grano seco', 'Maiz amilaceo', 'Olluco', 'Papa color', 'Quinua']",
                  "r": [
                    6,
                    8.371153846153847,
                    8,
                    15.25,
                    27
                  ],
                  "theta": [
                    "Freq_j",
                    "GrowthRate_j",
                    "Size_j",
                    "AvgPrice",
                    "AvgWater"
                  ],
                  "type": "scatterpolar"
                },
                {
                  "fill": "toself",
                  "name": "['Ajo', 'Arveja grano verde', 'Cebada grano', 'Haba grano seco', 'Maiz amilaceo', 'Olluco', 'Quinua']",
                  "r": [
                    7,
                    7.512573964497041,
                    7,
                    15.285714285714286,
                    27.142857142857142
                  ],
                  "theta": [
                    "Freq_j",
                    "GrowthRate_j",
                    "Size_j",
                    "AvgPrice",
                    "AvgWater"
                  ],
                  "type": "scatterpolar"
                },
                {
                  "fill": "toself",
                  "name": "['Ajo', 'Arveja grano verde', 'Cebada grano', 'Haba grano seco', 'Maiz amilaceo', 'Olluco', 'Zanahoria']",
                  "r": [
                    7,
                    8.878496503496503,
                    7,
                    14.857142857142858,
                    25.571428571428573
                  ],
                  "theta": [
                    "Freq_j",
                    "GrowthRate_j",
                    "Size_j",
                    "AvgPrice",
                    "AvgWater"
                  ],
                  "type": "scatterpolar"
                },
                {
                  "fill": "toself",
                  "name": "['Ajo', 'Arveja grano verde', 'Cebada grano', 'Haba grano seco', 'Maiz amilaceo', 'Papa blanca', 'Papa color']",
                  "r": [
                    10,
                    5.47134238310709,
                    7,
                    14.571428571428571,
                    30.142857142857142
                  ],
                  "theta": [
                    "Freq_j",
                    "GrowthRate_j",
                    "Size_j",
                    "AvgPrice",
                    "AvgWater"
                  ],
                  "type": "scatterpolar"
                },
                {
                  "fill": "toself",
                  "name": "['Ajo', 'Arveja grano verde', 'Cebada grano', 'Haba grano seco', 'Maiz amilaceo', 'Papa blanca']",
                  "r": [
                    12,
                    5.5807692307692305,
                    6,
                    14.5,
                    30.833333333333332
                  ],
                  "theta": [
                    "Freq_j",
                    "GrowthRate_j",
                    "Size_j",
                    "AvgPrice",
                    "AvgWater"
                  ],
                  "type": "scatterpolar"
                },
                {
                  "fill": "toself",
                  "name": "['Ajo', 'Arveja grano verde', 'Cebada grano', 'Haba grano seco', 'Maiz amilaceo', 'Papa color']",
                  "r": [
                    10,
                    5.167378917378918,
                    6,
                    15.833333333333334,
                    28.5
                  ],
                  "theta": [
                    "Freq_j",
                    "GrowthRate_j",
                    "Size_j",
                    "AvgPrice",
                    "AvgWater"
                  ],
                  "type": "scatterpolar"
                },
                {
                  "fill": "toself",
                  "name": "['Ajo', 'Arveja grano verde', 'Cebada grano', 'Haba grano seco', 'Maiz amilaceo']",
                  "r": [
                    12,
                    5.315018315018316,
                    5,
                    16,
                    29
                  ],
                  "theta": [
                    "Freq_j",
                    "GrowthRate_j",
                    "Size_j",
                    "AvgPrice",
                    "AvgWater"
                  ],
                  "type": "scatterpolar"
                },
                {
                  "fill": "toself",
                  "name": "['Ajo', 'Arveja grano verde', 'Cebada grano', 'Maiz amilaceo', 'Maiz choclo', 'Olluco', 'Papa blanca', 'Papa color']",
                  "r": [
                    6,
                    5.073426573426573,
                    8,
                    14.625,
                    29.75
                  ],
                  "theta": [
                    "Freq_j",
                    "GrowthRate_j",
                    "Size_j",
                    "AvgPrice",
                    "AvgWater"
                  ],
                  "type": "scatterpolar"
                },
                {
                  "fill": "toself",
                  "name": "['Ajo', 'Arveja grano verde', 'Cebada grano', 'Maiz amilaceo', 'Maiz choclo', 'Olluco', 'Papa color', 'Quinua']",
                  "r": [
                    6,
                    9.848416289592759,
                    8,
                    14.625,
                    28.375
                  ],
                  "theta": [
                    "Freq_j",
                    "GrowthRate_j",
                    "Size_j",
                    "AvgPrice",
                    "AvgWater"
                  ],
                  "type": "scatterpolar"
                },
                {
                  "fill": "toself",
                  "name": "['Ajo', 'Arveja grano verde', 'Cebada grano', 'Maiz amilaceo', 'Maiz choclo', 'Papa blanca', 'Papa color']",
                  "r": [
                    11,
                    8.76978021978022,
                    7,
                    13.857142857142858,
                    31.714285714285715
                  ],
                  "theta": [
                    "Freq_j",
                    "GrowthRate_j",
                    "Size_j",
                    "AvgPrice",
                    "AvgWater"
                  ],
                  "type": "scatterpolar"
                },
                {
                  "fill": "toself",
                  "name": "['Ajo', 'Arveja grano verde', 'Cebada grano', 'Maiz amilaceo', 'Maiz choclo', 'Papa blanca']",
                  "r": [
                    13,
                    8.636904761904761,
                    6,
                    13.666666666666666,
                    32.666666666666664
                  ],
                  "theta": [
                    "Freq_j",
                    "GrowthRate_j",
                    "Size_j",
                    "AvgPrice",
                    "AvgWater"
                  ],
                  "type": "scatterpolar"
                },
                {
                  "fill": "toself",
                  "name": "['Ajo', 'Arveja grano verde', 'Cebada grano', 'Maiz amilaceo', 'Maiz choclo', 'Papa color']",
                  "r": [
                    11,
                    8.295738045738045,
                    6,
                    15,
                    30.333333333333332
                  ],
                  "theta": [
                    "Freq_j",
                    "GrowthRate_j",
                    "Size_j",
                    "AvgPrice",
                    "AvgWater"
                  ],
                  "type": "scatterpolar"
                },
                {
                  "fill": "toself",
                  "name": "['Ajo', 'Arveja grano verde', 'Cebada grano', 'Maiz amilaceo', 'Maiz choclo']",
                  "r": [
                    13,
                    8.244318181818182,
                    5,
                    15,
                    31.2
                  ],
                  "theta": [
                    "Freq_j",
                    "GrowthRate_j",
                    "Size_j",
                    "AvgPrice",
                    "AvgWater"
                  ],
                  "type": "scatterpolar"
                },
                {
                  "fill": "toself",
                  "name": "['Ajo', 'Arveja grano verde', 'Cebada grano', 'Maiz amilaceo', 'Olluco', 'Papa blanca', 'Papa color', 'Quinua']",
                  "r": [
                    6,
                    8.371153846153847,
                    8,
                    14.125,
                    29.875
                  ],
                  "theta": [
                    "Freq_j",
                    "GrowthRate_j",
                    "Size_j",
                    "AvgPrice",
                    "AvgWater"
                  ],
                  "type": "scatterpolar"
                },
                {
                  "fill": "toself",
                  "name": "['Ajo', 'Arveja grano verde', 'Cebada grano', 'Maiz amilaceo', 'Olluco', 'Papa color', 'Quinua']",
                  "r": [
                    6,
                    7.972527472527473,
                    7,
                    15.142857142857142,
                    28.428571428571427
                  ],
                  "theta": [
                    "Freq_j",
                    "GrowthRate_j",
                    "Size_j",
                    "AvgPrice",
                    "AvgWater"
                  ],
                  "type": "scatterpolar"
                },
                {
                  "fill": "toself",
                  "name": "['Ajo', 'Arveja grano verde', 'Cebada grano', 'Maiz amilaceo', 'Papa blanca', 'Papa color']",
                  "r": [
                    11,
                    5.7913642960812775,
                    6,
                    14.333333333333334,
                    32.333333333333336
                  ],
                  "theta": [
                    "Freq_j",
                    "GrowthRate_j",
                    "Size_j",
                    "AvgPrice",
                    "AvgWater"
                  ],
                  "type": "scatterpolar"
                },
                {
                  "fill": "toself",
                  "name": "['Ajo', 'Arveja grano verde', 'Cebada grano', 'Maiz amilaceo', 'Papa blanca']",
                  "r": [
                    13,
                    5.850806451612903,
                    5,
                    14.2,
                    33.6
                  ],
                  "theta": [
                    "Freq_j",
                    "GrowthRate_j",
                    "Size_j",
                    "AvgPrice",
                    "AvgWater"
                  ],
                  "type": "scatterpolar"
                },
                {
                  "fill": "toself",
                  "name": "['Ajo', 'Arveja grano verde', 'Cebada grano', 'Maiz amilaceo', 'Papa color']",
                  "r": [
                    11,
                    5.115705128205128,
                    5,
                    15.8,
                    30.8
                  ],
                  "theta": [
                    "Freq_j",
                    "GrowthRate_j",
                    "Size_j",
                    "AvgPrice",
                    "AvgWater"
                  ],
                  "type": "scatterpolar"
                },
                {
                  "fill": "toself",
                  "name": "['Ajo', 'Arveja grano verde', 'Cebada grano', 'Maiz amilaceo']",
                  "r": [
                    13,
                    5.257246376811595,
                    4,
                    16,
                    32
                  ],
                  "theta": [
                    "Freq_j",
                    "GrowthRate_j",
                    "Size_j",
                    "AvgPrice",
                    "AvgWater"
                  ],
                  "type": "scatterpolar"
                },
                {
                  "fill": "toself",
                  "name": "['Ajo', 'Arveja grano verde', 'Cebada grano', 'Maiz choclo']",
                  "r": [
                    13,
                    8.244318181818182,
                    4,
                    14.25,
                    32
                  ],
                  "theta": [
                    "Freq_j",
                    "GrowthRate_j",
                    "Size_j",
                    "AvgPrice",
                    "AvgWater"
                  ],
                  "type": "scatterpolar"
                },
                {
                  "fill": "toself",
                  "name": "['Ajo', 'Arveja grano verde', 'Cebada grano']",
                  "r": [
                    13,
                    5.257246376811595,
                    3,
                    15.333333333333334,
                    33.333333333333336
                  ],
                  "theta": [
                    "Freq_j",
                    "GrowthRate_j",
                    "Size_j",
                    "AvgPrice",
                    "AvgWater"
                  ],
                  "type": "scatterpolar"
                },
                {
                  "fill": "toself",
                  "name": "['Ajo', 'Arveja grano verde', 'Cebolla cabeza roja', 'Maiz amilaceo', 'Maiz choclo', 'Papa blanca', 'Papa nativa', 'Quinua']",
                  "r": [
                    2,
                    7.9725274725274735,
                    8,
                    10.375,
                    32.875
                  ],
                  "theta": [
                    "Freq_j",
                    "GrowthRate_j",
                    "Size_j",
                    "AvgPrice",
                    "AvgWater"
                  ],
                  "type": "scatterpolar"
                },
                {
                  "fill": "toself",
                  "name": "['Ajo', 'Arveja grano verde', 'Cebolla cabeza roja']",
                  "r": [
                    12,
                    8.166979362101314,
                    3,
                    12.666666666666666,
                    37
                  ],
                  "theta": [
                    "Freq_j",
                    "GrowthRate_j",
                    "Size_j",
                    "AvgPrice",
                    "AvgWater"
                  ],
                  "type": "scatterpolar"
                },
                {
                  "fill": "toself",
                  "name": "['Ajo', 'Arveja grano verde', 'Haba grano seco', 'Maiz amilaceo', 'Maiz choclo', 'Olluco', 'Papa blanca', 'Papa color']",
                  "r": [
                    6,
                    5.231971153846154,
                    8,
                    14.75,
                    28.625
                  ],
                  "theta": [
                    "Freq_j",
                    "GrowthRate_j",
                    "Size_j",
                    "AvgPrice",
                    "AvgWater"
                  ],
                  "type": "scatterpolar"
                },
                {
                  "fill": "toself",
                  "name": "['Ajo', 'Arveja grano verde', 'Haba grano seco', 'Maiz amilaceo', 'Maiz choclo', 'Olluco', 'Quinua']",
                  "r": [
                    7,
                    8.49247491638796,
                    7,
                    14.714285714285714,
                    27.428571428571427
                  ],
                  "theta": [
                    "Freq_j",
                    "GrowthRate_j",
                    "Size_j",
                    "AvgPrice",
                    "AvgWater"
                  ],
                  "type": "scatterpolar"
                },
                {
                  "fill": "toself",
                  "name": "['Ajo', 'Arveja grano verde', 'Haba grano seco', 'Maiz amilaceo', 'Maiz choclo', 'Papa blanca', 'Papa color']",
                  "r": [
                    10,
                    8.207013574660634,
                    7,
                    14,
                    30.428571428571427
                  ],
                  "theta": [
                    "Freq_j",
                    "GrowthRate_j",
                    "Size_j",
                    "AvgPrice",
                    "AvgWater"
                  ],
                  "type": "scatterpolar"
                },
                {
                  "fill": "toself",
                  "name": "['Ajo', 'Arveja grano verde', 'Haba grano seco', 'Maiz amilaceo', 'Maiz choclo', 'Papa blanca']",
                  "r": [
                    13,
                    8.636904761904761,
                    6,
                    13.833333333333334,
                    31.166666666666668
                  ],
                  "theta": [
                    "Freq_j",
                    "GrowthRate_j",
                    "Size_j",
                    "AvgPrice",
                    "AvgWater"
                  ],
                  "type": "scatterpolar"
                },
                {
                  "fill": "toself",
                  "name": "['Ajo', 'Arveja grano verde', 'Haba grano seco', 'Maiz amilaceo', 'Maiz choclo']",
                  "r": [
                    13,
                    8.244318181818182,
                    5,
                    15.2,
                    29.4
                  ],
                  "theta": [
                    "Freq_j",
                    "GrowthRate_j",
                    "Size_j",
                    "AvgPrice",
                    "AvgWater"
                  ],
                  "type": "scatterpolar"
                },
                {
                  "fill": "toself",
                  "name": "['Ajo', 'Arveja grano verde', 'Haba grano seco', 'Maiz amilaceo', 'Olluco', 'Quinua']",
                  "r": [
                    7,
                    7.512573964497041,
                    6,
                    15.333333333333334,
                    27.333333333333332
                  ],
                  "theta": [
                    "Freq_j",
                    "GrowthRate_j",
                    "Size_j",
                    "AvgPrice",
                    "AvgWater"
                  ],
                  "type": "scatterpolar"
                },
                {
                  "fill": "toself",
                  "name": "['Ajo', 'Arveja grano verde', 'Haba grano seco', 'Maiz amilaceo', 'Papa blanca']",
                  "r": [
                    13,
                    5.850806451612903,
                    5,
                    14.4,
                    31.8
                  ],
                  "theta": [
                    "Freq_j",
                    "GrowthRate_j",
                    "Size_j",
                    "AvgPrice",
                    "AvgWater"
                  ],
                  "type": "scatterpolar"
                },
                {
                  "fill": "toself",
                  "name": "['Ajo', 'Arveja grano verde', 'Haba grano seco', 'Maiz amilaceo']",
                  "r": [
                    13,
                    5.5807692307692305,
                    4,
                    16.25,
                    29.75
                  ],
                  "theta": [
                    "Freq_j",
                    "GrowthRate_j",
                    "Size_j",
                    "AvgPrice",
                    "AvgWater"
                  ],
                  "type": "scatterpolar"
                },
                {
                  "fill": "toself",
                  "name": "['Ajo', 'Arveja grano verde', 'Haba grano seco']",
                  "r": [
                    13,
                    5.496212121212122,
                    3,
                    15.666666666666666,
                    30.333333333333332
                  ],
                  "theta": [
                    "Freq_j",
                    "GrowthRate_j",
                    "Size_j",
                    "AvgPrice",
                    "AvgWater"
                  ],
                  "type": "scatterpolar"
                },
                {
                  "fill": "toself",
                  "name": "['Ajo', 'Arveja grano verde', 'Maiz amilaceo', 'Maiz choclo', 'Olluco', 'Papa blanca', 'Papa color']",
                  "r": [
                    6,
                    5.073426573426573,
                    7,
                    14.571428571428571,
                    30.285714285714285
                  ],
                  "theta": [
                    "Freq_j",
                    "GrowthRate_j",
                    "Size_j",
                    "AvgPrice",
                    "AvgWater"
                  ],
                  "type": "scatterpolar"
                },
                {
                  "fill": "toself",
                  "name": "['Ajo', 'Arveja grano verde', 'Maiz amilaceo', 'Maiz choclo', 'Papa blanca']",
                  "r": [
                    14,
                    8.681196581196582,
                    5,
                    13.4,
                    34
                  ],
                  "theta": [
                    "Freq_j",
                    "GrowthRate_j",
                    "Size_j",
                    "AvgPrice",
                    "AvgWater"
                  ],
                  "type": "scatterpolar"
                },
                {
                  "fill": "toself",
                  "name": "['Ajo', 'Arveja grano verde', 'Maiz amilaceo', 'Maiz choclo']",
                  "r": [
                    14,
                    7.813076923076923,
                    4,
                    15,
                    32.5
                  ],
                  "theta": [
                    "Freq_j",
                    "GrowthRate_j",
                    "Size_j",
                    "AvgPrice",
                    "AvgWater"
                  ],
                  "type": "scatterpolar"
                },
                {
                  "fill": "toself",
                  "name": "['Ajo', 'Arveja grano verde', 'Maiz amilaceo', 'Papa blanca']",
                  "r": [
                    14,
                    5.91899766899767,
                    4,
                    14,
                    35.5
                  ],
                  "theta": [
                    "Freq_j",
                    "GrowthRate_j",
                    "Size_j",
                    "AvgPrice",
                    "AvgWater"
                  ],
                  "type": "scatterpolar"
                },
                {
                  "fill": "toself",
                  "name": "['Ajo', 'Arveja grano verde', 'Maiz choclo', 'Papa blanca']",
                  "r": [
                    14,
                    7.813076923076923,
                    4,
                    12.25,
                    35.5
                  ],
                  "theta": [
                    "Freq_j",
                    "GrowthRate_j",
                    "Size_j",
                    "AvgPrice",
                    "AvgWater"
                  ],
                  "type": "scatterpolar"
                },
                {
                  "fill": "toself",
                  "name": "['Ajo', 'Arveja grano verde', 'Maiz choclo']",
                  "r": [
                    14,
                    6.404161412358134,
                    3,
                    14,
                    34
                  ],
                  "theta": [
                    "Freq_j",
                    "GrowthRate_j",
                    "Size_j",
                    "AvgPrice",
                    "AvgWater"
                  ],
                  "type": "scatterpolar"
                },
                {
                  "fill": "toself",
                  "name": "['Ajo', 'Arveja grano verde', 'Papa blanca']",
                  "r": [
                    14,
                    5.208717948717949,
                    3,
                    12.666666666666666,
                    38
                  ],
                  "theta": [
                    "Freq_j",
                    "GrowthRate_j",
                    "Size_j",
                    "AvgPrice",
                    "AvgWater"
                  ],
                  "type": "scatterpolar"
                },
                {
                  "fill": "toself",
                  "name": "['Ajo', 'Cebada grano', 'Cebolla cabeza roja', 'Haba grano seco', 'Maiz amilaceo', 'Olluco', 'Papa color']",
                  "r": [
                    5,
                    9.301282051282053,
                    7,
                    15.428571428571429,
                    26.285714285714285
                  ],
                  "theta": [
                    "Freq_j",
                    "GrowthRate_j",
                    "Size_j",
                    "AvgPrice",
                    "AvgWater"
                  ],
                  "type": "scatterpolar"
                },
                {
                  "fill": "toself",
                  "name": "['Ajo', 'Cebada grano', 'Haba grano seco', 'Maiz amilaceo', 'Maiz choclo', 'Papa color']",
                  "r": [
                    10,
                    7.154832347140039,
                    6,
                    15.333333333333334,
                    26.5
                  ],
                  "theta": [
                    "Freq_j",
                    "GrowthRate_j",
                    "Size_j",
                    "AvgPrice",
                    "AvgWater"
                  ],
                  "type": "scatterpolar"
                },
                {
                  "fill": "toself",
                  "name": "['Ajo', 'Cebada grano', 'Haba grano seco', 'Maiz amilaceo', 'Maiz choclo']",
                  "r": [
                    12,
                    7.2792642140468224,
                    5,
                    15.4,
                    26.6
                  ],
                  "theta": [
                    "Freq_j",
                    "GrowthRate_j",
                    "Size_j",
                    "AvgPrice",
                    "AvgWater"
                  ],
                  "type": "scatterpolar"
                },
                {
                  "fill": "toself",
                  "name": "['Ajo', 'Cebada grano', 'Haba grano seco', 'Maiz amilaceo', 'Olluco', 'Papa color', 'Quinua']",
                  "r": [
                    7,
                    7.813076923076923,
                    7,
                    15.428571428571429,
                    25.142857142857142
                  ],
                  "theta": [
                    "Freq_j",
                    "GrowthRate_j",
                    "Size_j",
                    "AvgPrice",
                    "AvgWater"
                  ],
                  "type": "scatterpolar"
                },
                {
                  "fill": "toself",
                  "name": "['Ajo', 'Cebada grano', 'Haba grano seco', 'Maiz amilaceo', 'Olluco', 'Quinua']",
                  "r": [
                    8,
                    7.200992555831265,
                    6,
                    15.5,
                    25
                  ],
                  "theta": [
                    "Freq_j",
                    "GrowthRate_j",
                    "Size_j",
                    "AvgPrice",
                    "AvgWater"
                  ],
                  "type": "scatterpolar"
                },
                {
                  "fill": "toself",
                  "name": "['Ajo', 'Cebada grano', 'Haba grano seco', 'Olluco', 'Quinua']",
                  "r": [
                    10,
                    8.719951923076925,
                    5,
                    15,
                    24.4
                  ],
                  "theta": [
                    "Freq_j",
                    "GrowthRate_j",
                    "Size_j",
                    "AvgPrice",
                    "AvgWater"
                  ],
                  "type": "scatterpolar"
                },
                {
                  "fill": "toself",
                  "name": "['Ajo', 'Cebada grano', 'Haba grano seco', 'Papa blanca']",
                  "r": [
                    15,
                    5.65618503118503,
                    4,
                    13.75,
                    29.25
                  ],
                  "theta": [
                    "Freq_j",
                    "GrowthRate_j",
                    "Size_j",
                    "AvgPrice",
                    "AvgWater"
                  ],
                  "type": "scatterpolar"
                },
                {
                  "fill": "toself",
                  "name": "['Ajo', 'Cebada grano', 'Haba grano seco']",
                  "r": [
                    15,
                    5.167378917378917,
                    3,
                    16,
                    25.666666666666668
                  ],
                  "theta": [
                    "Freq_j",
                    "GrowthRate_j",
                    "Size_j",
                    "AvgPrice",
                    "AvgWater"
                  ],
                  "type": "scatterpolar"
                },
                {
                  "fill": "toself",
                  "name": "['Ajo', 'Cebada grano', 'Maiz amilaceo', 'Maiz choclo']",
                  "r": [
                    13,
                    7.718085106382978,
                    4,
                    15.25,
                    29
                  ],
                  "theta": [
                    "Freq_j",
                    "GrowthRate_j",
                    "Size_j",
                    "AvgPrice",
                    "AvgWater"
                  ],
                  "type": "scatterpolar"
                },
                {
                  "fill": "toself",
                  "name": "['Ajo', 'Cebada grano', 'Olluco', 'Papa color', 'Quinua']",
                  "r": [
                    9,
                    9.659023668639051,
                    5,
                    14.8,
                    26.2
                  ],
                  "theta": [
                    "Freq_j",
                    "GrowthRate_j",
                    "Size_j",
                    "AvgPrice",
                    "AvgWater"
                  ],
                  "type": "scatterpolar"
                },
                {
                  "fill": "toself",
                  "name": "['Ajo', 'Cebada grano', 'Olluco', 'Quinua']",
                  "r": [
                    10,
                    8.455710955710957,
                    4,
                    14.75,
                    26.25
                  ],
                  "theta": [
                    "Freq_j",
                    "GrowthRate_j",
                    "Size_j",
                    "AvgPrice",
                    "AvgWater"
                  ],
                  "type": "scatterpolar"
                },
                {
                  "fill": "toself",
                  "name": "['Ajo', 'Cebada grano', 'Papa color']",
                  "r": [
                    14,
                    5.140182186234818,
                    3,
                    15.666666666666666,
                    28.666666666666668
                  ],
                  "theta": [
                    "Freq_j",
                    "GrowthRate_j",
                    "Size_j",
                    "AvgPrice",
                    "AvgWater"
                  ],
                  "type": "scatterpolar"
                },
                {
                  "fill": "toself",
                  "name": "['Ajo', 'Cebada grano']",
                  "r": [
                    16,
                    5.016421780466724,
                    2,
                    16,
                    30
                  ],
                  "theta": [
                    "Freq_j",
                    "GrowthRate_j",
                    "Size_j",
                    "AvgPrice",
                    "AvgWater"
                  ],
                  "type": "scatterpolar"
                },
                {
                  "fill": "toself",
                  "name": "['Ajo', 'Cebolla cabeza roja', 'Maiz amilaceo', 'Olluco']",
                  "r": [
                    6,
                    9.848416289592759,
                    4,
                    15.5,
                    28.75
                  ],
                  "theta": [
                    "Freq_j",
                    "GrowthRate_j",
                    "Size_j",
                    "AvgPrice",
                    "AvgWater"
                  ],
                  "type": "scatterpolar"
                },
                {
                  "fill": "toself",
                  "name": "['Ajo', 'Haba grano seco', 'Maiz amilaceo', 'Maiz choclo']",
                  "r": [
                    13,
                    7.557291666666668,
                    4,
                    15.5,
                    26.75
                  ],
                  "theta": [
                    "Freq_j",
                    "GrowthRate_j",
                    "Size_j",
                    "AvgPrice",
                    "AvgWater"
                  ],
                  "type": "scatterpolar"
                },
                {
                  "fill": "toself",
                  "name": "['Ajo', 'Haba grano seco', 'Maiz amilaceo', 'Olluco', 'Papa color', 'Quinua']",
                  "r": [
                    7,
                    7.813076923076923,
                    6,
                    15.5,
                    25
                  ],
                  "theta": [
                    "Freq_j",
                    "GrowthRate_j",
                    "Size_j",
                    "AvgPrice",
                    "AvgWater"
                  ],
                  "type": "scatterpolar"
                },
                {
                  "fill": "toself",
                  "name": "['Ajo', 'Haba grano seco', 'Maiz amilaceo', 'Olluco', 'Quinua']",
                  "r": [
                    8,
                    7.200992555831265,
                    5,
                    15.6,
                    24.8
                  ],
                  "theta": [
                    "Freq_j",
                    "GrowthRate_j",
                    "Size_j",
                    "AvgPrice",
                    "AvgWater"
                  ],
                  "type": "scatterpolar"
                },
                {
                  "fill": "toself",
                  "name": "['Ajo', 'Haba grano seco']",
                  "r": [
                    16,
                    5.252488687782805,
                    2,
                    16.5,
                    25.5
                  ],
                  "theta": [
                    "Freq_j",
                    "GrowthRate_j",
                    "Size_j",
                    "AvgPrice",
                    "AvgWater"
                  ],
                  "type": "scatterpolar"
                },
                {
                  "fill": "toself",
                  "name": "['Ajo', 'Maiz amilaceo', 'Maiz choclo']",
                  "r": [
                    14,
                    6.510897435897435,
                    3,
                    15.333333333333334,
                    30
                  ],
                  "theta": [
                    "Freq_j",
                    "GrowthRate_j",
                    "Size_j",
                    "AvgPrice",
                    "AvgWater"
                  ],
                  "type": "scatterpolar"
                },
                {
                  "fill": "toself",
                  "name": "['Ajo', 'Maiz amilaceo', 'Quinua']",
                  "r": [
                    15,
                    9.733899821109121,
                    3,
                    14,
                    30.333333333333332
                  ],
                  "theta": [
                    "Freq_j",
                    "GrowthRate_j",
                    "Size_j",
                    "AvgPrice",
                    "AvgWater"
                  ],
                  "type": "scatterpolar"
                },
                {
                  "fill": "toself",
                  "name": "['Ajo', 'Olluco', 'Papa color', 'Quinua']",
                  "r": [
                    9,
                    9.301282051282051,
                    4,
                    14.75,
                    26.25
                  ],
                  "theta": [
                    "Freq_j",
                    "GrowthRate_j",
                    "Size_j",
                    "AvgPrice",
                    "AvgWater"
                  ],
                  "type": "scatterpolar"
                },
                {
                  "fill": "toself",
                  "name": "['Arveja grano verde', 'Cebada grano', 'Maiz amilaceo', 'Papa blanca', 'Zanahoria']",
                  "r": [
                    20,
                    8.329506314580943,
                    5,
                    11.6,
                    30.4
                  ],
                  "theta": [
                    "Freq_j",
                    "GrowthRate_j",
                    "Size_j",
                    "AvgPrice",
                    "AvgWater"
                  ],
                  "type": "scatterpolar"
                },
                {
                  "fill": "toself",
                  "name": "['Arveja grano verde', 'Cebada grano', 'Maiz amilaceo', 'Papa color', 'Zanahoria']",
                  "r": [
                    18,
                    9.301282051282051,
                    5,
                    13.2,
                    27.6
                  ],
                  "theta": [
                    "Freq_j",
                    "GrowthRate_j",
                    "Size_j",
                    "AvgPrice",
                    "AvgWater"
                  ],
                  "type": "scatterpolar"
                },
                {
                  "fill": "toself",
                  "name": "['Arveja grano verde', 'Cebada grano', 'Maiz amilaceo', 'Zanahoria']",
                  "r": [
                    20,
                    7.644889357218125,
                    4,
                    12.75,
                    28
                  ],
                  "theta": [
                    "Freq_j",
                    "GrowthRate_j",
                    "Size_j",
                    "AvgPrice",
                    "AvgWater"
                  ],
                  "type": "scatterpolar"
                },
                {
                  "fill": "toself",
                  "name": "['Arveja grano verde', 'Cebada grano', 'Papa blanca', 'Zanahoria']",
                  "r": [
                    20,
                    8.329506314580943,
                    4,
                    10,
                    31
                  ],
                  "theta": [
                    "Freq_j",
                    "GrowthRate_j",
                    "Size_j",
                    "AvgPrice",
                    "AvgWater"
                  ],
                  "type": "scatterpolar"
                },
                {
                  "fill": "toself",
                  "name": "['Arveja grano verde', 'Cebolla cabeza roja', 'Maiz amilaceo']",
                  "r": [
                    17,
                    8.624825174825174,
                    3,
                    13,
                    35
                  ],
                  "theta": [
                    "Freq_j",
                    "GrowthRate_j",
                    "Size_j",
                    "AvgPrice",
                    "AvgWater"
                  ],
                  "type": "scatterpolar"
                },
                {
                  "fill": "toself",
                  "name": "['Arveja grano verde', 'Cebolla cabeza roja', 'Papa blanca']",
                  "r": [
                    17,
                    9.12241124260355,
                    3,
                    9.333333333333334,
                    39
                  ],
                  "theta": [
                    "Freq_j",
                    "GrowthRate_j",
                    "Size_j",
                    "AvgPrice",
                    "AvgWater"
                  ],
                  "type": "scatterpolar"
                },
                {
                  "fill": "toself",
                  "name": "['Arveja grano verde', 'Cebolla cabeza roja']",
                  "r": [
                    17,
                    6.081607495069033,
                    2,
                    10.5,
                    38.5
                  ],
                  "theta": [
                    "Freq_j",
                    "GrowthRate_j",
                    "Size_j",
                    "AvgPrice",
                    "AvgWater"
                  ],
                  "type": "scatterpolar"
                },
                {
                  "fill": "toself",
                  "name": "['Arveja grano verde', 'Maiz amilaceo', 'Maiz choclo', 'Zanahoria']",
                  "r": [
                    22,
                    8.76978021978022,
                    4,
                    11.75,
                    28.5
                  ],
                  "theta": [
                    "Freq_j",
                    "GrowthRate_j",
                    "Size_j",
                    "AvgPrice",
                    "AvgWater"
                  ],
                  "type": "scatterpolar"
                },
                {
                  "fill": "toself",
                  "name": "['Arveja grano verde', 'Maiz amilaceo', 'Papa blanca', 'Papa color', 'Zanahoria']",
                  "r": [
                    19,
                    9.81801994301994,
                    5,
                    11.6,
                    30.4
                  ],
                  "theta": [
                    "Freq_j",
                    "GrowthRate_j",
                    "Size_j",
                    "AvgPrice",
                    "AvgWater"
                  ],
                  "type": "scatterpolar"
                },
                {
                  "fill": "toself",
                  "name": "['Arveja grano verde', 'Maiz amilaceo', 'Papa blanca', 'Zanahoria']",
                  "r": [
                    22,
                    7.4863977485928705,
                    4,
                    10.75,
                    31.5
                  ],
                  "theta": [
                    "Freq_j",
                    "GrowthRate_j",
                    "Size_j",
                    "AvgPrice",
                    "AvgWater"
                  ],
                  "type": "scatterpolar"
                },
                {
                  "fill": "toself",
                  "name": "['Arveja grano verde', 'Maiz amilaceo', 'Papa color', 'Zanahoria']",
                  "r": [
                    19,
                    7.683667781493868,
                    4,
                    12.75,
                    28
                  ],
                  "theta": [
                    "Freq_j",
                    "GrowthRate_j",
                    "Size_j",
                    "AvgPrice",
                    "AvgWater"
                  ],
                  "type": "scatterpolar"
                },
                {
                  "fill": "toself",
                  "name": "['Arveja grano verde', 'Maiz amilaceo', 'Zanahoria']",
                  "r": [
                    22,
                    6.264128728414442,
                    3,
                    12,
                    28.666666666666668
                  ],
                  "theta": [
                    "Freq_j",
                    "GrowthRate_j",
                    "Size_j",
                    "AvgPrice",
                    "AvgWater"
                  ],
                  "type": "scatterpolar"
                },
                {
                  "fill": "toself",
                  "name": "['Arveja grano verde', 'Maiz choclo', 'Papa blanca', 'Zanahoria']",
                  "r": [
                    22,
                    9.301282051282051,
                    4,
                    9,
                    31.5
                  ],
                  "theta": [
                    "Freq_j",
                    "GrowthRate_j",
                    "Size_j",
                    "AvgPrice",
                    "AvgWater"
                  ],
                  "type": "scatterpolar"
                },
                {
                  "fill": "toself",
                  "name": "['Arveja grano verde', 'Papa blanca', 'Papa color', 'Zanahoria']",
                  "r": [
                    19,
                    9.140915119363395,
                    4,
                    10,
                    31
                  ],
                  "theta": [
                    "Freq_j",
                    "GrowthRate_j",
                    "Size_j",
                    "AvgPrice",
                    "AvgWater"
                  ],
                  "type": "scatterpolar"
                },
                {
                  "fill": "toself",
                  "name": "['Arveja grano verde', 'Papa blanca', 'Zanahoria']",
                  "r": [
                    22,
                    6.745984784446322,
                    3,
                    8.333333333333334,
                    32.666666666666664
                  ],
                  "theta": [
                    "Freq_j",
                    "GrowthRate_j",
                    "Size_j",
                    "AvgPrice",
                    "AvgWater"
                  ],
                  "type": "scatterpolar"
                },
                {
                  "fill": "toself",
                  "name": "['Cebada grano', 'Maiz amilaceo', 'Papa color', 'Zanahoria']",
                  "r": [
                    19,
                    7.467226435536293,
                    4,
                    13,
                    24.5
                  ],
                  "theta": [
                    "Freq_j",
                    "GrowthRate_j",
                    "Size_j",
                    "AvgPrice",
                    "AvgWater"
                  ],
                  "type": "scatterpolar"
                },
                {
                  "fill": "toself",
                  "name": "['Cebada grano', 'Maiz amilaceo', 'Zanahoria']",
                  "r": [
                    21,
                    6.103966346153847,
                    3,
                    12.333333333333334,
                    24
                  ],
                  "theta": [
                    "Freq_j",
                    "GrowthRate_j",
                    "Size_j",
                    "AvgPrice",
                    "AvgWater"
                  ],
                  "type": "scatterpolar"
                },
                {
                  "fill": "toself",
                  "name": "['Maiz amilaceo', 'Papa blanca', 'Zanahoria']",
                  "r": [
                    23,
                    6.171042899408283,
                    3,
                    9.666666666666666,
                    28.666666666666668
                  ],
                  "theta": [
                    "Freq_j",
                    "GrowthRate_j",
                    "Size_j",
                    "AvgPrice",
                    "AvgWater"
                  ],
                  "type": "scatterpolar"
                },
                {
                  "fill": "toself",
                  "name": "['Maiz amilaceo', 'Zanahoria']",
                  "r": [
                    23,
                    5.013972355769231,
                    2,
                    11,
                    23
                  ],
                  "theta": [
                    "Freq_j",
                    "GrowthRate_j",
                    "Size_j",
                    "AvgPrice",
                    "AvgWater"
                  ],
                  "type": "scatterpolar"
                },
                {
                  "fill": "toself",
                  "name": "['Papa blanca', 'Zanahoria']",
                  "r": [
                    24,
                    5.773209549071619,
                    2,
                    5.5,
                    29
                  ],
                  "theta": [
                    "Freq_j",
                    "GrowthRate_j",
                    "Size_j",
                    "AvgPrice",
                    "AvgWater"
                  ],
                  "type": "scatterpolar"
                }
              ],
              "layout": {
                "template": {
                  "data": {
                    "bar": [
                      {
                        "error_x": {
                          "color": "#2a3f5f"
                        },
                        "error_y": {
                          "color": "#2a3f5f"
                        },
                        "marker": {
                          "line": {
                            "color": "#E5ECF6",
                            "width": 0.5
                          },
                          "pattern": {
                            "fillmode": "overlay",
                            "size": 10,
                            "solidity": 0.2
                          }
                        },
                        "type": "bar"
                      }
                    ],
                    "barpolar": [
                      {
                        "marker": {
                          "line": {
                            "color": "#E5ECF6",
                            "width": 0.5
                          },
                          "pattern": {
                            "fillmode": "overlay",
                            "size": 10,
                            "solidity": 0.2
                          }
                        },
                        "type": "barpolar"
                      }
                    ],
                    "carpet": [
                      {
                        "aaxis": {
                          "endlinecolor": "#2a3f5f",
                          "gridcolor": "white",
                          "linecolor": "white",
                          "minorgridcolor": "white",
                          "startlinecolor": "#2a3f5f"
                        },
                        "baxis": {
                          "endlinecolor": "#2a3f5f",
                          "gridcolor": "white",
                          "linecolor": "white",
                          "minorgridcolor": "white",
                          "startlinecolor": "#2a3f5f"
                        },
                        "type": "carpet"
                      }
                    ],
                    "choropleth": [
                      {
                        "colorbar": {
                          "outlinewidth": 0,
                          "ticks": ""
                        },
                        "type": "choropleth"
                      }
                    ],
                    "contour": [
                      {
                        "colorbar": {
                          "outlinewidth": 0,
                          "ticks": ""
                        },
                        "colorscale": [
                          [
                            0,
                            "#0d0887"
                          ],
                          [
                            0.1111111111111111,
                            "#46039f"
                          ],
                          [
                            0.2222222222222222,
                            "#7201a8"
                          ],
                          [
                            0.3333333333333333,
                            "#9c179e"
                          ],
                          [
                            0.4444444444444444,
                            "#bd3786"
                          ],
                          [
                            0.5555555555555556,
                            "#d8576b"
                          ],
                          [
                            0.6666666666666666,
                            "#ed7953"
                          ],
                          [
                            0.7777777777777778,
                            "#fb9f3a"
                          ],
                          [
                            0.8888888888888888,
                            "#fdca26"
                          ],
                          [
                            1,
                            "#f0f921"
                          ]
                        ],
                        "type": "contour"
                      }
                    ],
                    "contourcarpet": [
                      {
                        "colorbar": {
                          "outlinewidth": 0,
                          "ticks": ""
                        },
                        "type": "contourcarpet"
                      }
                    ],
                    "heatmap": [
                      {
                        "colorbar": {
                          "outlinewidth": 0,
                          "ticks": ""
                        },
                        "colorscale": [
                          [
                            0,
                            "#0d0887"
                          ],
                          [
                            0.1111111111111111,
                            "#46039f"
                          ],
                          [
                            0.2222222222222222,
                            "#7201a8"
                          ],
                          [
                            0.3333333333333333,
                            "#9c179e"
                          ],
                          [
                            0.4444444444444444,
                            "#bd3786"
                          ],
                          [
                            0.5555555555555556,
                            "#d8576b"
                          ],
                          [
                            0.6666666666666666,
                            "#ed7953"
                          ],
                          [
                            0.7777777777777778,
                            "#fb9f3a"
                          ],
                          [
                            0.8888888888888888,
                            "#fdca26"
                          ],
                          [
                            1,
                            "#f0f921"
                          ]
                        ],
                        "type": "heatmap"
                      }
                    ],
                    "heatmapgl": [
                      {
                        "colorbar": {
                          "outlinewidth": 0,
                          "ticks": ""
                        },
                        "colorscale": [
                          [
                            0,
                            "#0d0887"
                          ],
                          [
                            0.1111111111111111,
                            "#46039f"
                          ],
                          [
                            0.2222222222222222,
                            "#7201a8"
                          ],
                          [
                            0.3333333333333333,
                            "#9c179e"
                          ],
                          [
                            0.4444444444444444,
                            "#bd3786"
                          ],
                          [
                            0.5555555555555556,
                            "#d8576b"
                          ],
                          [
                            0.6666666666666666,
                            "#ed7953"
                          ],
                          [
                            0.7777777777777778,
                            "#fb9f3a"
                          ],
                          [
                            0.8888888888888888,
                            "#fdca26"
                          ],
                          [
                            1,
                            "#f0f921"
                          ]
                        ],
                        "type": "heatmapgl"
                      }
                    ],
                    "histogram": [
                      {
                        "marker": {
                          "pattern": {
                            "fillmode": "overlay",
                            "size": 10,
                            "solidity": 0.2
                          }
                        },
                        "type": "histogram"
                      }
                    ],
                    "histogram2d": [
                      {
                        "colorbar": {
                          "outlinewidth": 0,
                          "ticks": ""
                        },
                        "colorscale": [
                          [
                            0,
                            "#0d0887"
                          ],
                          [
                            0.1111111111111111,
                            "#46039f"
                          ],
                          [
                            0.2222222222222222,
                            "#7201a8"
                          ],
                          [
                            0.3333333333333333,
                            "#9c179e"
                          ],
                          [
                            0.4444444444444444,
                            "#bd3786"
                          ],
                          [
                            0.5555555555555556,
                            "#d8576b"
                          ],
                          [
                            0.6666666666666666,
                            "#ed7953"
                          ],
                          [
                            0.7777777777777778,
                            "#fb9f3a"
                          ],
                          [
                            0.8888888888888888,
                            "#fdca26"
                          ],
                          [
                            1,
                            "#f0f921"
                          ]
                        ],
                        "type": "histogram2d"
                      }
                    ],
                    "histogram2dcontour": [
                      {
                        "colorbar": {
                          "outlinewidth": 0,
                          "ticks": ""
                        },
                        "colorscale": [
                          [
                            0,
                            "#0d0887"
                          ],
                          [
                            0.1111111111111111,
                            "#46039f"
                          ],
                          [
                            0.2222222222222222,
                            "#7201a8"
                          ],
                          [
                            0.3333333333333333,
                            "#9c179e"
                          ],
                          [
                            0.4444444444444444,
                            "#bd3786"
                          ],
                          [
                            0.5555555555555556,
                            "#d8576b"
                          ],
                          [
                            0.6666666666666666,
                            "#ed7953"
                          ],
                          [
                            0.7777777777777778,
                            "#fb9f3a"
                          ],
                          [
                            0.8888888888888888,
                            "#fdca26"
                          ],
                          [
                            1,
                            "#f0f921"
                          ]
                        ],
                        "type": "histogram2dcontour"
                      }
                    ],
                    "mesh3d": [
                      {
                        "colorbar": {
                          "outlinewidth": 0,
                          "ticks": ""
                        },
                        "type": "mesh3d"
                      }
                    ],
                    "parcoords": [
                      {
                        "line": {
                          "colorbar": {
                            "outlinewidth": 0,
                            "ticks": ""
                          }
                        },
                        "type": "parcoords"
                      }
                    ],
                    "pie": [
                      {
                        "automargin": true,
                        "type": "pie"
                      }
                    ],
                    "scatter": [
                      {
                        "fillpattern": {
                          "fillmode": "overlay",
                          "size": 10,
                          "solidity": 0.2
                        },
                        "type": "scatter"
                      }
                    ],
                    "scatter3d": [
                      {
                        "line": {
                          "colorbar": {
                            "outlinewidth": 0,
                            "ticks": ""
                          }
                        },
                        "marker": {
                          "colorbar": {
                            "outlinewidth": 0,
                            "ticks": ""
                          }
                        },
                        "type": "scatter3d"
                      }
                    ],
                    "scattercarpet": [
                      {
                        "marker": {
                          "colorbar": {
                            "outlinewidth": 0,
                            "ticks": ""
                          }
                        },
                        "type": "scattercarpet"
                      }
                    ],
                    "scattergeo": [
                      {
                        "marker": {
                          "colorbar": {
                            "outlinewidth": 0,
                            "ticks": ""
                          }
                        },
                        "type": "scattergeo"
                      }
                    ],
                    "scattergl": [
                      {
                        "marker": {
                          "colorbar": {
                            "outlinewidth": 0,
                            "ticks": ""
                          }
                        },
                        "type": "scattergl"
                      }
                    ],
                    "scattermapbox": [
                      {
                        "marker": {
                          "colorbar": {
                            "outlinewidth": 0,
                            "ticks": ""
                          }
                        },
                        "type": "scattermapbox"
                      }
                    ],
                    "scatterpolar": [
                      {
                        "marker": {
                          "colorbar": {
                            "outlinewidth": 0,
                            "ticks": ""
                          }
                        },
                        "type": "scatterpolar"
                      }
                    ],
                    "scatterpolargl": [
                      {
                        "marker": {
                          "colorbar": {
                            "outlinewidth": 0,
                            "ticks": ""
                          }
                        },
                        "type": "scatterpolargl"
                      }
                    ],
                    "scatterternary": [
                      {
                        "marker": {
                          "colorbar": {
                            "outlinewidth": 0,
                            "ticks": ""
                          }
                        },
                        "type": "scatterternary"
                      }
                    ],
                    "surface": [
                      {
                        "colorbar": {
                          "outlinewidth": 0,
                          "ticks": ""
                        },
                        "colorscale": [
                          [
                            0,
                            "#0d0887"
                          ],
                          [
                            0.1111111111111111,
                            "#46039f"
                          ],
                          [
                            0.2222222222222222,
                            "#7201a8"
                          ],
                          [
                            0.3333333333333333,
                            "#9c179e"
                          ],
                          [
                            0.4444444444444444,
                            "#bd3786"
                          ],
                          [
                            0.5555555555555556,
                            "#d8576b"
                          ],
                          [
                            0.6666666666666666,
                            "#ed7953"
                          ],
                          [
                            0.7777777777777778,
                            "#fb9f3a"
                          ],
                          [
                            0.8888888888888888,
                            "#fdca26"
                          ],
                          [
                            1,
                            "#f0f921"
                          ]
                        ],
                        "type": "surface"
                      }
                    ],
                    "table": [
                      {
                        "cells": {
                          "fill": {
                            "color": "#EBF0F8"
                          },
                          "line": {
                            "color": "white"
                          }
                        },
                        "header": {
                          "fill": {
                            "color": "#C8D4E3"
                          },
                          "line": {
                            "color": "white"
                          }
                        },
                        "type": "table"
                      }
                    ]
                  },
                  "layout": {
                    "annotationdefaults": {
                      "arrowcolor": "#2a3f5f",
                      "arrowhead": 0,
                      "arrowwidth": 1
                    },
                    "autotypenumbers": "strict",
                    "coloraxis": {
                      "colorbar": {
                        "outlinewidth": 0,
                        "ticks": ""
                      }
                    },
                    "colorscale": {
                      "diverging": [
                        [
                          0,
                          "#8e0152"
                        ],
                        [
                          0.1,
                          "#c51b7d"
                        ],
                        [
                          0.2,
                          "#de77ae"
                        ],
                        [
                          0.3,
                          "#f1b6da"
                        ],
                        [
                          0.4,
                          "#fde0ef"
                        ],
                        [
                          0.5,
                          "#f7f7f7"
                        ],
                        [
                          0.6,
                          "#e6f5d0"
                        ],
                        [
                          0.7,
                          "#b8e186"
                        ],
                        [
                          0.8,
                          "#7fbc41"
                        ],
                        [
                          0.9,
                          "#4d9221"
                        ],
                        [
                          1,
                          "#276419"
                        ]
                      ],
                      "sequential": [
                        [
                          0,
                          "#0d0887"
                        ],
                        [
                          0.1111111111111111,
                          "#46039f"
                        ],
                        [
                          0.2222222222222222,
                          "#7201a8"
                        ],
                        [
                          0.3333333333333333,
                          "#9c179e"
                        ],
                        [
                          0.4444444444444444,
                          "#bd3786"
                        ],
                        [
                          0.5555555555555556,
                          "#d8576b"
                        ],
                        [
                          0.6666666666666666,
                          "#ed7953"
                        ],
                        [
                          0.7777777777777778,
                          "#fb9f3a"
                        ],
                        [
                          0.8888888888888888,
                          "#fdca26"
                        ],
                        [
                          1,
                          "#f0f921"
                        ]
                      ],
                      "sequentialminus": [
                        [
                          0,
                          "#0d0887"
                        ],
                        [
                          0.1111111111111111,
                          "#46039f"
                        ],
                        [
                          0.2222222222222222,
                          "#7201a8"
                        ],
                        [
                          0.3333333333333333,
                          "#9c179e"
                        ],
                        [
                          0.4444444444444444,
                          "#bd3786"
                        ],
                        [
                          0.5555555555555556,
                          "#d8576b"
                        ],
                        [
                          0.6666666666666666,
                          "#ed7953"
                        ],
                        [
                          0.7777777777777778,
                          "#fb9f3a"
                        ],
                        [
                          0.8888888888888888,
                          "#fdca26"
                        ],
                        [
                          1,
                          "#f0f921"
                        ]
                      ]
                    },
                    "colorway": [
                      "#636efa",
                      "#EF553B",
                      "#00cc96",
                      "#ab63fa",
                      "#FFA15A",
                      "#19d3f3",
                      "#FF6692",
                      "#B6E880",
                      "#FF97FF",
                      "#FECB52"
                    ],
                    "font": {
                      "color": "#2a3f5f"
                    },
                    "geo": {
                      "bgcolor": "white",
                      "lakecolor": "white",
                      "landcolor": "#E5ECF6",
                      "showlakes": true,
                      "showland": true,
                      "subunitcolor": "white"
                    },
                    "hoverlabel": {
                      "align": "left"
                    },
                    "hovermode": "closest",
                    "mapbox": {
                      "style": "light"
                    },
                    "paper_bgcolor": "white",
                    "plot_bgcolor": "#E5ECF6",
                    "polar": {
                      "angularaxis": {
                        "gridcolor": "white",
                        "linecolor": "white",
                        "ticks": ""
                      },
                      "bgcolor": "#E5ECF6",
                      "radialaxis": {
                        "gridcolor": "white",
                        "linecolor": "white",
                        "ticks": ""
                      }
                    },
                    "scene": {
                      "xaxis": {
                        "backgroundcolor": "#E5ECF6",
                        "gridcolor": "white",
                        "gridwidth": 2,
                        "linecolor": "white",
                        "showbackground": true,
                        "ticks": "",
                        "zerolinecolor": "white"
                      },
                      "yaxis": {
                        "backgroundcolor": "#E5ECF6",
                        "gridcolor": "white",
                        "gridwidth": 2,
                        "linecolor": "white",
                        "showbackground": true,
                        "ticks": "",
                        "zerolinecolor": "white"
                      },
                      "zaxis": {
                        "backgroundcolor": "#E5ECF6",
                        "gridcolor": "white",
                        "gridwidth": 2,
                        "linecolor": "white",
                        "showbackground": true,
                        "ticks": "",
                        "zerolinecolor": "white"
                      }
                    },
                    "shapedefaults": {
                      "line": {
                        "color": "#2a3f5f"
                      }
                    },
                    "ternary": {
                      "aaxis": {
                        "gridcolor": "white",
                        "linecolor": "white",
                        "ticks": ""
                      },
                      "baxis": {
                        "gridcolor": "white",
                        "linecolor": "white",
                        "ticks": ""
                      },
                      "bgcolor": "#E5ECF6",
                      "caxis": {
                        "gridcolor": "white",
                        "linecolor": "white",
                        "ticks": ""
                      }
                    },
                    "title": {
                      "x": 0.05
                    },
                    "xaxis": {
                      "automargin": true,
                      "gridcolor": "white",
                      "linecolor": "white",
                      "ticks": "",
                      "title": {
                        "standoff": 15
                      },
                      "zerolinecolor": "white",
                      "zerolinewidth": 2
                    },
                    "yaxis": {
                      "automargin": true,
                      "gridcolor": "white",
                      "linecolor": "white",
                      "ticks": "",
                      "title": {
                        "standoff": 15
                      },
                      "zerolinecolor": "white",
                      "zerolinewidth": 2
                    }
                  }
                }
              }
            }
          },
          "metadata": {},
          "output_type": "display_data"
        }
      ],
      "source": [
        "radar_chart_all(sky_itemsets[(sky_itemsets['GrowthRate_j'] > 5) & (sky_itemsets['GrowthRate_j'] < 10)], sky_itemsets.columns[1:])"
      ]
    }
  ],
  "metadata": {
    "colab": {
      "provenance": []
    },
    "kernelspec": {
      "display_name": "Python 3",
      "name": "python3"
    },
    "language_info": {
      "codemirror_mode": {
        "name": "ipython",
        "version": 3
      },
      "file_extension": ".py",
      "mimetype": "text/x-python",
      "name": "python",
      "nbconvert_exporter": "python",
      "pygments_lexer": "ipython3",
      "version": "3.11.4"
    }
  },
  "nbformat": 4,
  "nbformat_minor": 0
}
