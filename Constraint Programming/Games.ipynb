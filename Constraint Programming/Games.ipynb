{
 "cells": [
  {
   "cell_type": "code",
   "execution_count": 2,
   "metadata": {},
   "outputs": [],
   "source": [
    "from ortools.sat.python import cp_model"
   ]
  },
  {
   "cell_type": "code",
   "execution_count": 3,
   "metadata": {},
   "outputs": [
    {
     "name": "stdout",
     "output_type": "stream",
     "text": [
      "<ortools.sat.python.cp_model.CpSolver object at 0x000001D8F857F9D0>\n",
      "x = 0\n",
      "y = 1\n",
      "z = 0\n"
     ]
    }
   ],
   "source": [
    "model = cp_model.CpModel()\n",
    "# variables y dominios\n",
    "x = model.NewIntVar(0,2,'x')\n",
    "y = model.NewIntVar(0,2,'y')\n",
    "z = model.NewIntVar(0,2,'z')\n",
    "# restricciones\n",
    "model.Add(x != y)\n",
    "model.Add(y == z + 1)\n",
    "\n",
    "solver = cp_model.CpSolver()\n",
    "status = solver.Solve(model)\n",
    "print(solver)\n",
    "if status == cp_model.OPTIMAL:\n",
    "    print('x = {:d}'.format(solver.Value(x)))\n",
    "    print('y = {:d}'.format(solver.Value(y)))\n",
    "    print('z = {:d}'.format(solver.Value(z)))"
   ]
  },
  {
   "cell_type": "markdown",
   "metadata": {},
   "source": [
    "## Brute Force"
   ]
  },
  {
   "cell_type": "code",
   "execution_count": 4,
   "metadata": {},
   "outputs": [
    {
     "name": "stdout",
     "output_type": "stream",
     "text": [
      "  9 5 6 7 +\n",
      "  1 0 8 5\n",
      "----------\n",
      "1 0 6 5 2\n"
     ]
    }
   ],
   "source": [
    "def cryptogramBF():\n",
    "    for s in range(1,10):\n",
    "        for e in range(10):\n",
    "            for n in range(10):\n",
    "                for d in range(10):\n",
    "                    for m in range(1,2):\n",
    "                        for o in range(10):\n",
    "                            for r in range(10):\n",
    "                                for y in range(10):\n",
    "                                    l = [s,e,n,d,m,o,r,y]\n",
    "                                    c = set(l)\n",
    "                                    if len(l) == len(c) and 1000*(s+m)+100*(e+o)+10*(n+r)+(d+e) == 10000*m+1000*o+100*n+10*e+y:\n",
    "                                        print(' ',s,e,n,d,'+')\n",
    "                                        print(' ',m,o,r,e)\n",
    "                                        print(\"----------\")\n",
    "                                        print(m,o,n,e,y)\n",
    "cryptogramBF()"
   ]
  },
  {
   "cell_type": "code",
   "execution_count": 5,
   "metadata": {},
   "outputs": [
    {
     "name": "stdout",
     "output_type": "stream",
     "text": [
      "  9 5 6 7 +\n",
      "  1 0 8 5\n",
      "----------\n",
      "1 0 6 5 2\n"
     ]
    }
   ],
   "source": [
    "model = cp_model.CpModel()\n",
    "# variables y dominios\n",
    "s = model.NewIntVar(1,9,'s')\n",
    "e = model.NewIntVar(0,9,'e')\n",
    "n = model.NewIntVar(0,9,'n')\n",
    "d = model.NewIntVar(0,9,'d')\n",
    "m = model.NewIntVar(1,1,'m')\n",
    "o = model.NewIntVar(0,9,'o')\n",
    "r = model.NewIntVar(0,9,'r')\n",
    "y = model.NewIntVar(0,9,'y')\n",
    "v = [s,e,n,d,m,o,r,y]\n",
    "# restrcciones\n",
    "model.Add(1000*(s+m)+100*(e+o)+10*(n+r)+(d+e) == 10000*m+1000*o+100*n+10*e+y)\n",
    "model.AddAllDifferent(v)\n",
    "solver = cp_model.CpSolver()\n",
    "status = solver.Solve(model)\n",
    "if status == cp_model.OPTIMAL:\n",
    "    s,e,n,d,m,o,r,y = solver.Value(s), solver.Value(e), solver.Value(n), solver.Value(d), solver.Value(m), solver.Value(o), solver.Value(r), solver.Value(y)\n",
    "    print(' ',s,e,n,d,'+')\n",
    "    print(' ',m,o,r,e)\n",
    "    print(\"----------\")\n",
    "    print(m,o,n,e,y)"
   ]
  },
  {
   "cell_type": "markdown",
   "metadata": {},
   "source": [
    "## Latin Square"
   ]
  },
  {
   "cell_type": "code",
   "execution_count": 5,
   "metadata": {},
   "outputs": [
    {
     "name": "stdout",
     "output_type": "stream",
     "text": [
      "[[x00(1..4), x01(1..4), x02(1..4), x03(1..4)], [x10(1..4), x11(1..4), x12(1..4), x13(1..4)], [x20(1..4), x21(1..4), x22(1..4), x23(1..4)], [x30(1..4), x31(1..4), x32(1..4), x33(1..4)]]\n",
      "1 4 3 2 \n",
      "4 3 2 1 \n",
      "3 2 1 4 \n",
      "2 1 4 3 \n"
     ]
    }
   ],
   "source": [
    "n = 4\n",
    "# crea CSP\n",
    "model = cp_model.CpModel()\n",
    "# variables y dominios\n",
    "grilla = []\n",
    "for i in range(n):\n",
    "    fila = []\n",
    "    fila += [model.NewIntVar(1,n,'x'+str(i)+str(j)) for j in range(n)]\n",
    "    grilla+=[fila]\n",
    "print(grilla)\n",
    "# restricciones\n",
    "# toda fila tiene valores distintos\n",
    "for i in range(n):\n",
    "    model.AddAllDifferent(grilla[i])\n",
    "for j in range(n):\n",
    "    # recuperar columna\n",
    "    c = [grilla[i][j] for i in range(n)]\n",
    "    #print(c)\n",
    "    model.AddAllDifferent(c)\n",
    "\n",
    "solver = cp_model.CpSolver()\n",
    "status = solver.Solve(model)\n",
    "if status == cp_model.OPTIMAL:\n",
    "    for i in range(n):\n",
    "        for j in range(n):\n",
    "            print(solver.Value(grilla[i][j]), end= ' ')\n",
    "        print()"
   ]
  },
  {
   "cell_type": "markdown",
   "metadata": {},
   "source": [
    "## Magic Square"
   ]
  },
  {
   "cell_type": "code",
   "execution_count": 7,
   "metadata": {},
   "outputs": [
    {
     "name": "stdout",
     "output_type": "stream",
     "text": [
      "[x00(1..9), x01(1..9), x02(1..9), x10(1..9), x11(1..9), x12(1..9), x20(1..9), x21(1..9), x22(1..9)]\n",
      "1 9 5 \n",
      "8 4 3 \n",
      "6 2 7 \n"
     ]
    }
   ],
   "source": [
    "n = 3\n",
    "s = 15\n",
    "# crear CSP\n",
    "model = cp_model.CpModel()\n",
    "# variables y dominios\n",
    "grilla = []\n",
    "for i in range(n):\n",
    "    fila = []\n",
    "    for j in range(n):\n",
    "        fila += [model.NewIntVar(1,n**2,'x'+str(i)+str(j))]\n",
    "    grilla += [fila]\n",
    "#print(grilla)\n",
    "# restricciones\n",
    "# recuperar todos los valores de la grilla en un solo arreglo\n",
    "v = []\n",
    "for i in range(n):\n",
    "    v += grilla[i]\n",
    "print(v)\n",
    "#print(v)\n",
    "model.AddAllDifferent(v)\n",
    "# todas las filas deben sumar lo mismo\n",
    "for i in range(n):\n",
    "    model.Add(sum(grilla[i])==s)\n",
    "# todas las colummnas debe sumar lo mismo\n",
    "for j in range(n):\n",
    "    c = [grilla[i][j] for i in range(n)]\n",
    "    model.Add(sum(c)==s)\n",
    "    \n",
    "solver = cp_model.CpSolver()\n",
    "status = solver.Solve(model)\n",
    "if status == cp_model.OPTIMAL:\n",
    "    for i in range(n):\n",
    "        for j in range(n):\n",
    "            print(solver.Value(grilla[i][j]), end= ' ')\n",
    "        print()"
   ]
  }
 ],
 "metadata": {
  "interpreter": {
   "hash": "5f4bce2433b777cdd71c656c115cfd3e9c6ae2e20c47f71a067da0151d7ae3a5"
  },
  "kernelspec": {
   "display_name": "Python 3.9.5 64-bit",
   "name": "python3"
  },
  "language_info": {
   "codemirror_mode": {
    "name": "ipython",
    "version": 3
   },
   "file_extension": ".py",
   "mimetype": "text/x-python",
   "name": "python",
   "nbconvert_exporter": "python",
   "pygments_lexer": "ipython3",
   "version": "3.11.4"
  },
  "orig_nbformat": 4
 },
 "nbformat": 4,
 "nbformat_minor": 2
}
