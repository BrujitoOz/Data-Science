version https://git-lfs.github.com/spec/v1
oid sha256:adb3ad64e7f800de8eb23776dd6374ea0874e0fb2304a1531b77768ee8053745
size 43523
