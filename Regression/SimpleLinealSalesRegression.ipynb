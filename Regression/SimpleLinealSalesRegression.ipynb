version https://git-lfs.github.com/spec/v1
oid sha256:62c2c14d324508d2fb17a80ac58cfec252cc650677152d5f546e9c6ca3fb871e
size 440524
