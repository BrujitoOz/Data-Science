{
 "cells": [
  {
   "cell_type": "code",
   "execution_count": 4,
   "source": [
    "def crib(n):\r\n",
    "    primes = []\r\n",
    "    if n >= 2:\r\n",
    "        numbers = list(range(n+1))\r\n",
    "        for i in range(2, n+1):\r\n",
    "            if numbers[i] > 0:\r\n",
    "                primes.append(i)\r\n",
    "                for j in range(i*2, n+1,i):\r\n",
    "                    numbers[j] = -i\r\n",
    "                #print(numbers)\r\n",
    "    return primes\r\n"
   ],
   "outputs": [],
   "metadata": {}
  },
  {
   "cell_type": "code",
   "execution_count": 6,
   "source": [
    "crib(0)"
   ],
   "outputs": [
    {
     "output_type": "execute_result",
     "data": {
      "text/plain": [
       "[]"
      ]
     },
     "metadata": {},
     "execution_count": 6
    }
   ],
   "metadata": {}
  },
  {
   "cell_type": "markdown",
   "source": [
    "## Camino 1"
   ],
   "metadata": {}
  },
  {
   "cell_type": "code",
   "execution_count": 16,
   "source": [
    "assert crib(1) == [], \"malo\"\r\n",
    "assert crib(0) == []\r\n",
    "assert crib(-1) == []\r\n",
    "assert crib(-2) == []\r\n",
    "assert crib(-3) == []"
   ],
   "outputs": [],
   "metadata": {}
  },
  {
   "cell_type": "markdown",
   "source": [
    "## Camino 2"
   ],
   "metadata": {}
  },
  {
   "cell_type": "code",
   "execution_count": 12,
   "source": [
    "assert crib(2) == [2]"
   ],
   "outputs": [],
   "metadata": {}
  },
  {
   "cell_type": "markdown",
   "source": [
    "## Camino 5"
   ],
   "metadata": {}
  },
  {
   "cell_type": "code",
   "execution_count": null,
   "source": [
    "assert crib(3) == [2,3], \"malo\"\r\n",
    "assert crib(4) == [2,3]\r\n",
    "assert crib(5) == [2,3,5]\r\n",
    "assert crib(6) == [2,3,5]\r\n",
    "assert crib(7) == [2,3,5,7]"
   ],
   "outputs": [],
   "metadata": {}
  }
 ],
 "metadata": {
  "orig_nbformat": 4,
  "language_info": {
   "name": "python",
   "version": "3.9.5",
   "mimetype": "text/x-python",
   "codemirror_mode": {
    "name": "ipython",
    "version": 3
   },
   "pygments_lexer": "ipython3",
   "nbconvert_exporter": "python",
   "file_extension": ".py"
  },
  "kernelspec": {
   "name": "python3",
   "display_name": "Python 3.9.5 64-bit"
  },
  "interpreter": {
   "hash": "5f4bce2433b777cdd71c656c115cfd3e9c6ae2e20c47f71a067da0151d7ae3a5"
  }
 },
 "nbformat": 4,
 "nbformat_minor": 2
}