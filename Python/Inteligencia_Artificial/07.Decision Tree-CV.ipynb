{
 "cells": [
  {
   "cell_type": "markdown",
   "metadata": {},
   "source": [
    "# Árboles de decisión"
   ]
  },
  {
   "cell_type": "markdown",
   "metadata": {},
   "source": [
    "### Docente: M.Sc. Richard Fernández "
   ]
  },
  {
   "cell_type": "code",
   "execution_count": null,
   "metadata": {},
   "outputs": [],
   "source": [
    "#https://scikit-learn.org/stable/modules/generated/sklearn.tree.DecisionTreeClassifier.html"
   ]
  },
  {
   "cell_type": "code",
   "execution_count": 25,
   "metadata": {},
   "outputs": [],
   "source": [
    "import pandas as pd\n",
    "import matplotlib.pyplot as plt\n",
    "import seaborn as sns\n",
    "import numpy as np\n",
    "import scipy.stats as ss\n",
    "from scipy.stats import chi2_contingency\n",
    "from sklearn.model_selection import train_test_split\n",
    "from sklearn import tree\n",
    "from sklearn.metrics import classification_report, confusion_matrix\n",
    "from sklearn.metrics import plot_confusion_matrix\n",
    "from sklearn.metrics import roc_curve, auc, roc_auc_score\n",
    "from sklearn.preprocessing import StandardScaler\n",
    "from sklearn.preprocessing import LabelEncoder\n",
    "from sklearn.model_selection import cross_val_score\n",
    "from sklearn.model_selection import GridSearchCV"
   ]
  },
  {
   "cell_type": "code",
   "execution_count": 2,
   "metadata": {},
   "outputs": [],
   "source": [
    "data = pd.read_csv('C:/Users/Juan/Desktop/UPC/Septimo Ciclo/MachineLearning/Social_Network_Ads.csv')"
   ]
  },
  {
   "cell_type": "code",
   "execution_count": 3,
   "metadata": {},
   "outputs": [
    {
     "data": {
      "text/html": [
       "<div>\n",
       "<style scoped>\n",
       "    .dataframe tbody tr th:only-of-type {\n",
       "        vertical-align: middle;\n",
       "    }\n",
       "\n",
       "    .dataframe tbody tr th {\n",
       "        vertical-align: top;\n",
       "    }\n",
       "\n",
       "    .dataframe thead th {\n",
       "        text-align: right;\n",
       "    }\n",
       "</style>\n",
       "<table border=\"1\" class=\"dataframe\">\n",
       "  <thead>\n",
       "    <tr style=\"text-align: right;\">\n",
       "      <th></th>\n",
       "      <th>User ID</th>\n",
       "      <th>Gender</th>\n",
       "      <th>Age</th>\n",
       "      <th>EstimatedSalary</th>\n",
       "      <th>Purchased</th>\n",
       "    </tr>\n",
       "  </thead>\n",
       "  <tbody>\n",
       "    <tr>\n",
       "      <th>0</th>\n",
       "      <td>15624510</td>\n",
       "      <td>Male</td>\n",
       "      <td>19</td>\n",
       "      <td>19000</td>\n",
       "      <td>0</td>\n",
       "    </tr>\n",
       "    <tr>\n",
       "      <th>1</th>\n",
       "      <td>15810944</td>\n",
       "      <td>Male</td>\n",
       "      <td>35</td>\n",
       "      <td>20000</td>\n",
       "      <td>0</td>\n",
       "    </tr>\n",
       "    <tr>\n",
       "      <th>2</th>\n",
       "      <td>15668575</td>\n",
       "      <td>Female</td>\n",
       "      <td>26</td>\n",
       "      <td>43000</td>\n",
       "      <td>0</td>\n",
       "    </tr>\n",
       "    <tr>\n",
       "      <th>3</th>\n",
       "      <td>15603246</td>\n",
       "      <td>Female</td>\n",
       "      <td>27</td>\n",
       "      <td>57000</td>\n",
       "      <td>0</td>\n",
       "    </tr>\n",
       "    <tr>\n",
       "      <th>4</th>\n",
       "      <td>15804002</td>\n",
       "      <td>Male</td>\n",
       "      <td>19</td>\n",
       "      <td>76000</td>\n",
       "      <td>0</td>\n",
       "    </tr>\n",
       "  </tbody>\n",
       "</table>\n",
       "</div>"
      ],
      "text/plain": [
       "    User ID  Gender  Age  EstimatedSalary  Purchased\n",
       "0  15624510    Male   19            19000          0\n",
       "1  15810944    Male   35            20000          0\n",
       "2  15668575  Female   26            43000          0\n",
       "3  15603246  Female   27            57000          0\n",
       "4  15804002    Male   19            76000          0"
      ]
     },
     "execution_count": 3,
     "metadata": {},
     "output_type": "execute_result"
    }
   ],
   "source": [
    "data.head(5)"
   ]
  },
  {
   "cell_type": "code",
   "execution_count": 4,
   "metadata": {},
   "outputs": [
    {
     "data": {
      "text/plain": [
       "User ID             int64\n",
       "Gender             object\n",
       "Age                 int64\n",
       "EstimatedSalary     int64\n",
       "Purchased           int64\n",
       "dtype: object"
      ]
     },
     "execution_count": 4,
     "metadata": {},
     "output_type": "execute_result"
    }
   ],
   "source": [
    "data.dtypes"
   ]
  },
  {
   "cell_type": "code",
   "execution_count": 5,
   "metadata": {},
   "outputs": [],
   "source": [
    "#data['V'] = data.V.astype(object)"
   ]
  },
  {
   "cell_type": "code",
   "execution_count": 6,
   "metadata": {
    "scrolled": false
   },
   "outputs": [
    {
     "data": {
      "text/plain": [
       "User ID             int64\n",
       "Gender             object\n",
       "Age                 int64\n",
       "EstimatedSalary     int64\n",
       "Purchased           int64\n",
       "dtype: object"
      ]
     },
     "execution_count": 6,
     "metadata": {},
     "output_type": "execute_result"
    }
   ],
   "source": [
    "data.dtypes"
   ]
  },
  {
   "cell_type": "code",
   "execution_count": 7,
   "metadata": {},
   "outputs": [
    {
     "data": {
      "image/png": "[encoded data removed]",
      "text/plain": [
       "<Figure size 432x288 with 1 Axes>"
      ]
     },
     "metadata": {
      "needs_background": "light"
     },
     "output_type": "display_data"
    }
   ],
   "source": [
    "sns.countplot(data = data, x = 'Purchased')\n",
    "plt.xlabel('Purchased', fontsize = 15)\n",
    "plt.title('¿Cuántos usuarios han optado por comprar?', fontsize = 15)\n",
    "plt.show()"
   ]
  },
  {
   "cell_type": "code",
   "execution_count": 8,
   "metadata": {
    "scrolled": true
   },
   "outputs": [
    {
     "data": {
      "image/png": "[encoded data removed]",
      "text/plain": [
       "<Figure size 432x288 with 1 Axes>"
      ]
     },
     "metadata": {
      "needs_background": "light"
     },
     "output_type": "display_data"
    }
   ],
   "source": [
    "sns.boxplot(x='Purchased',y='Age',data=data)\n",
    "plt.show()"
   ]
  },
  {
   "cell_type": "code",
   "execution_count": 9,
   "metadata": {},
   "outputs": [
    {
     "data": {
      "image/png": "[encoded data removed]",
      "text/plain": [
       "<Figure size 432x288 with 1 Axes>"
      ]
     },
     "metadata": {
      "needs_background": "light"
     },
     "output_type": "display_data"
    }
   ],
   "source": [
    "sns.boxplot(x='Purchased',y='EstimatedSalary',data=data)\n",
    "plt.show()"
   ]
  },
  {
   "cell_type": "code",
   "execution_count": 10,
   "metadata": {
    "scrolled": false
   },
   "outputs": [
    {
     "name": "stdout",
     "output_type": "stream",
     "text": [
      "Gender     Female  Male\n",
      "Purchased              \n",
      "0             127   130\n",
      "1              77    66\n"
     ]
    },
    {
     "data": {
      "image/png": "[encoded data removed]",
      "text/plain": [
       "<Figure size 288x288 with 1 Axes>"
      ]
     },
     "metadata": {
      "needs_background": "light"
     },
     "output_type": "display_data"
    }
   ],
   "source": [
    "print(pd.crosstab(data[\"Purchased\"],data[\"Gender\"]))\n",
    "Gender = pd.crosstab(data[\"Purchased\"],data[\"Gender\"])\n",
    "Gender.div(Gender.sum(1).astype(float),axis=0).plot(kind=\"bar\",stacked=True,figsize=(4,4))\n",
    "plt.xlabel(\"Purchased\")\n",
    "plt.ylabel(\"Percentage\")\n",
    "plt.show()"
   ]
  },
  {
   "cell_type": "code",
   "execution_count": 11,
   "metadata": {},
   "outputs": [],
   "source": [
    "#Prueba Chi-Cuadrado\n",
    "#Ho: no existe dependencia entre las variables\n",
    "#Ha: existe dependencia entre las variables"
   ]
  },
  {
   "cell_type": "code",
   "execution_count": 13,
   "metadata": {
    "scrolled": true
   },
   "outputs": [
    {
     "name": "stdout",
     "output_type": "stream",
     "text": [
      "0.45624659183130645\n"
     ]
    }
   ],
   "source": [
    "contigencia = pd.crosstab(data['Purchased'], data['Gender']) \n",
    "c, p, dof, expected = chi2_contingency(contigencia) \n",
    "print(p)"
   ]
  },
  {
   "cell_type": "code",
   "execution_count": 14,
   "metadata": {},
   "outputs": [],
   "source": [
    "#Como el pvalue > 5%, no se rechaza la Ho.\n",
    "#Con un nivel de confianza del 95%, no existe dependencia entre las variables Purchased y Gender"
   ]
  },
  {
   "cell_type": "code",
   "execution_count": 15,
   "metadata": {},
   "outputs": [],
   "source": [
    "X = data.iloc[:,[2, 3]].values\n",
    "y = data.iloc[:,-1].values"
   ]
  },
  {
   "cell_type": "code",
   "execution_count": 16,
   "metadata": {},
   "outputs": [
    {
     "data": {
      "text/plain": [
       "array([[   19, 19000],\n",
       "       [   35, 20000],\n",
       "       [   26, 43000],\n",
       "       [   27, 57000],\n",
       "       [   19, 76000]], dtype=int64)"
      ]
     },
     "execution_count": 16,
     "metadata": {},
     "output_type": "execute_result"
    }
   ],
   "source": [
    "X[0:5]"
   ]
  },
  {
   "cell_type": "code",
   "execution_count": 17,
   "metadata": {},
   "outputs": [
    {
     "data": {
      "text/plain": [
       "array([0, 0, 0, 0, 0], dtype=int64)"
      ]
     },
     "execution_count": 17,
     "metadata": {},
     "output_type": "execute_result"
    }
   ],
   "source": [
    "y[0:5]"
   ]
  },
  {
   "cell_type": "code",
   "execution_count": 18,
   "metadata": {},
   "outputs": [],
   "source": [
    "#le = LabelEncoder()\n",
    "#X[:,0] = le.fit_transform(X[:,0])"
   ]
  },
  {
   "cell_type": "code",
   "execution_count": 19,
   "metadata": {},
   "outputs": [],
   "source": [
    "X_train, X_test, y_train, y_test = train_test_split(X, y, test_size = 0.20, random_state = 0)"
   ]
  },
  {
   "cell_type": "code",
   "execution_count": 20,
   "metadata": {},
   "outputs": [
    {
     "data": {
      "text/plain": [
       "array([[    58, 144000],\n",
       "       [    59,  83000],\n",
       "       [    24,  55000],\n",
       "       [    26,  35000],\n",
       "       [    58,  38000]], dtype=int64)"
      ]
     },
     "execution_count": 20,
     "metadata": {},
     "output_type": "execute_result"
    }
   ],
   "source": [
    "X_train[0:5]"
   ]
  },
  {
   "cell_type": "code",
   "execution_count": 21,
   "metadata": {},
   "outputs": [
    {
     "data": {
      "text/plain": [
       "array([[   30, 87000],\n",
       "       [   38, 50000],\n",
       "       [   35, 75000],\n",
       "       [   30, 79000],\n",
       "       [   35, 50000]], dtype=int64)"
      ]
     },
     "execution_count": 21,
     "metadata": {},
     "output_type": "execute_result"
    }
   ],
   "source": [
    "X_test[0:5]"
   ]
  },
  {
   "cell_type": "code",
   "execution_count": 18,
   "metadata": {
    "scrolled": true
   },
   "outputs": [],
   "source": [
    "#X_train = StandardScaler().fit_transform(X_train)\n",
    "#X_test = StandardScaler().fit_transform(X_test)"
   ]
  },
  {
   "cell_type": "code",
   "execution_count": 19,
   "metadata": {},
   "outputs": [],
   "source": [
    "#X_train[0:5]"
   ]
  },
  {
   "cell_type": "code",
   "execution_count": 20,
   "metadata": {},
   "outputs": [],
   "source": [
    "#X_test[0:5]"
   ]
  },
  {
   "cell_type": "code",
   "execution_count": 22,
   "metadata": {},
   "outputs": [],
   "source": [
    "#Tuning\n",
    "#max_depth: La profundidad máxima del árbol\n",
    "#min_samples_leaf: El número mínimo de muestras necesarias para estar en un nodo hoja\n",
    "#criterion: La función para medir la calidad de una división\n",
    "param_grid = {\n",
    "    'max_depth': [2, 3, 5, 10, 20],\n",
    "    'min_samples_leaf': [5, 10, 20, 50, 100],\n",
    "    'criterion': [\"gini\", \"entropy\"]\n",
    "}"
   ]
  },
  {
   "cell_type": "code",
   "execution_count": 26,
   "metadata": {
    "scrolled": false
   },
   "outputs": [
    {
     "name": "stdout",
     "output_type": "stream",
     "text": [
      "Fitting 5 folds for each of 50 candidates, totalling 250 fits\n",
      "[CV] END ....criterion=gini, max_depth=2, min_samples_leaf=5; total time=   0.0s\n",
      "[CV] END ....criterion=gini, max_depth=2, min_samples_leaf=5; total time=   0.0s\n",
      "[CV] END ....criterion=gini, max_depth=2, min_samples_leaf=5; total time=   0.0s\n",
      "[CV] END ....criterion=gini, max_depth=2, min_samples_leaf=5; total time=   0.0s\n",
      "[CV] END ....criterion=gini, max_depth=2, min_samples_leaf=5; total time=   0.0s\n",
      "[CV] END ...criterion=gini, max_depth=2, min_samples_leaf=10; total time=   0.0s\n",
      "[CV] END ...criterion=gini, max_depth=2, min_samples_leaf=10; total time=   0.0s\n",
      "[CV] END ...criterion=gini, max_depth=2, min_samples_leaf=10; total time=   0.0s\n",
      "[CV] END ...criterion=gini, max_depth=2, min_samples_leaf=10; total time=   0.0s\n",
      "[CV] END ...criterion=gini, max_depth=2, min_samples_leaf=10; total time=   0.0s\n",
      "[CV] END ...criterion=gini, max_depth=2, min_samples_leaf=20; total time=   0.0s\n",
      "[CV] END ...criterion=gini, max_depth=2, min_samples_leaf=20; total time=   0.0s\n",
      "[CV] END ...criterion=gini, max_depth=2, min_samples_leaf=20; total time=   0.0s\n",
      "[CV] END ...criterion=gini, max_depth=2, min_samples_leaf=20; total time=   0.0s\n",
      "[CV] END ...criterion=gini, max_depth=2, min_samples_leaf=20; total time=   0.0s\n",
      "[CV] END ...criterion=gini, max_depth=2, min_samples_leaf=50; total time=   0.0s\n",
      "[CV] END ...criterion=gini, max_depth=2, min_samples_leaf=50; total time=   0.0s\n",
      "[CV] END ...criterion=gini, max_depth=2, min_samples_leaf=50; total time=   0.0s\n",
      "[CV] END ...criterion=gini, max_depth=2, min_samples_leaf=50; total time=   0.0s\n",
      "[CV] END ...criterion=gini, max_depth=2, min_samples_leaf=50; total time=   0.0s\n",
      "[CV] END ..criterion=gini, max_depth=2, min_samples_leaf=100; total time=   0.0s\n",
      "[CV] END ..criterion=gini, max_depth=2, min_samples_leaf=100; total time=   0.0s\n",
      "[CV] END ..criterion=gini, max_depth=2, min_samples_leaf=100; total time=   0.0s\n",
      "[CV] END ..criterion=gini, max_depth=2, min_samples_leaf=100; total time=   0.0s\n",
      "[CV] END ..criterion=gini, max_depth=2, min_samples_leaf=100; total time=   0.0s\n",
      "[CV] END ....criterion=gini, max_depth=3, min_samples_leaf=5; total time=   0.0s\n",
      "[CV] END ....criterion=gini, max_depth=3, min_samples_leaf=5; total time=   0.0s\n",
      "[CV] END ....criterion=gini, max_depth=3, min_samples_leaf=5; total time=   0.0s\n",
      "[CV] END ....criterion=gini, max_depth=3, min_samples_leaf=5; total time=   0.0s\n",
      "[CV] END ....criterion=gini, max_depth=3, min_samples_leaf=5; total time=   0.0s\n",
      "[CV] END ...criterion=gini, max_depth=3, min_samples_leaf=10; total time=   0.0s\n",
      "[CV] END ...criterion=gini, max_depth=3, min_samples_leaf=10; total time=   0.0s\n",
      "[CV] END ...criterion=gini, max_depth=3, min_samples_leaf=10; total time=   0.0s\n",
      "[CV] END ...criterion=gini, max_depth=3, min_samples_leaf=10; total time=   0.0s\n",
      "[CV] END ...criterion=gini, max_depth=3, min_samples_leaf=10; total time=   0.0s\n",
      "[CV] END ...criterion=gini, max_depth=3, min_samples_leaf=20; total time=   0.0s\n",
      "[CV] END ...criterion=gini, max_depth=3, min_samples_leaf=20; total time=   0.0s\n",
      "[CV] END ...criterion=gini, max_depth=3, min_samples_leaf=20; total time=   0.0s\n",
      "[CV] END ...criterion=gini, max_depth=3, min_samples_leaf=20; total time=   0.0s\n",
      "[CV] END ...criterion=gini, max_depth=3, min_samples_leaf=20; total time=   0.0s\n",
      "[CV] END ...criterion=gini, max_depth=3, min_samples_leaf=50; total time=   0.0s\n",
      "[CV] END ...criterion=gini, max_depth=3, min_samples_leaf=50; total time=   0.0s\n",
      "[CV] END ...criterion=gini, max_depth=3, min_samples_leaf=50; total time=   0.0s\n",
      "[CV] END ...criterion=gini, max_depth=3, min_samples_leaf=50; total time=   0.0s\n",
      "[CV] END ...criterion=gini, max_depth=3, min_samples_leaf=50; total time=   0.0s\n",
      "[CV] END ..criterion=gini, max_depth=3, min_samples_leaf=100; total time=   0.0s\n",
      "[CV] END ..criterion=gini, max_depth=3, min_samples_leaf=100; total time=   0.0s\n",
      "[CV] END ..criterion=gini, max_depth=3, min_samples_leaf=100; total time=   0.0s\n",
      "[CV] END ..criterion=gini, max_depth=3, min_samples_leaf=100; total time=   0.0s\n",
      "[CV] END ..criterion=gini, max_depth=3, min_samples_leaf=100; total time=   0.0s\n",
      "[CV] END ....criterion=gini, max_depth=5, min_samples_leaf=5; total time=   0.0s\n",
      "[CV] END ....criterion=gini, max_depth=5, min_samples_leaf=5; total time=   0.0s\n",
      "[CV] END ....criterion=gini, max_depth=5, min_samples_leaf=5; total time=   0.0s\n",
      "[CV] END ....criterion=gini, max_depth=5, min_samples_leaf=5; total time=   0.0s\n",
      "[CV] END ....criterion=gini, max_depth=5, min_samples_leaf=5; total time=   0.0s\n",
      "[CV] END ...criterion=gini, max_depth=5, min_samples_leaf=10; total time=   0.0s\n",
      "[CV] END ...criterion=gini, max_depth=5, min_samples_leaf=10; total time=   0.0s\n",
      "[CV] END ...criterion=gini, max_depth=5, min_samples_leaf=10; total time=   0.0s\n",
      "[CV] END ...criterion=gini, max_depth=5, min_samples_leaf=10; total time=   0.0s\n",
      "[CV] END ...criterion=gini, max_depth=5, min_samples_leaf=10; total time=   0.0s\n",
      "[CV] END ...criterion=gini, max_depth=5, min_samples_leaf=20; total time=   0.0s\n",
      "[CV] END ...criterion=gini, max_depth=5, min_samples_leaf=20; total time=   0.0s\n",
      "[CV] END ...criterion=gini, max_depth=5, min_samples_leaf=20; total time=   0.0s\n",
      "[CV] END ...criterion=gini, max_depth=5, min_samples_leaf=20; total time=   0.0s\n",
      "[CV] END ...criterion=gini, max_depth=5, min_samples_leaf=20; total time=   0.0s\n",
      "[CV] END ...criterion=gini, max_depth=5, min_samples_leaf=50; total time=   0.0s\n",
      "[CV] END ...criterion=gini, max_depth=5, min_samples_leaf=50; total time=   0.0s\n",
      "[CV] END ...criterion=gini, max_depth=5, min_samples_leaf=50; total time=   0.0s\n",
      "[CV] END ...criterion=gini, max_depth=5, min_samples_leaf=50; total time=   0.0s\n",
      "[CV] END ...criterion=gini, max_depth=5, min_samples_leaf=50; total time=   0.0s\n",
      "[CV] END ..criterion=gini, max_depth=5, min_samples_leaf=100; total time=   0.0s\n",
      "[CV] END ..criterion=gini, max_depth=5, min_samples_leaf=100; total time=   0.0s\n",
      "[CV] END ..criterion=gini, max_depth=5, min_samples_leaf=100; total time=   0.0s\n",
      "[CV] END ..criterion=gini, max_depth=5, min_samples_leaf=100; total time=   0.0s\n",
      "[CV] END ..criterion=gini, max_depth=5, min_samples_leaf=100; total time=   0.0s\n",
      "[CV] END ...criterion=gini, max_depth=10, min_samples_leaf=5; total time=   0.0s\n",
      "[CV] END ...criterion=gini, max_depth=10, min_samples_leaf=5; total time=   0.0s\n",
      "[CV] END ...criterion=gini, max_depth=10, min_samples_leaf=5; total time=   0.0s\n",
      "[CV] END ...criterion=gini, max_depth=10, min_samples_leaf=5; total time=   0.0s\n",
      "[CV] END ...criterion=gini, max_depth=10, min_samples_leaf=5; total time=   0.0s\n",
      "[CV] END ..criterion=gini, max_depth=10, min_samples_leaf=10; total time=   0.0s\n",
      "[CV] END ..criterion=gini, max_depth=10, min_samples_leaf=10; total time=   0.0s\n",
      "[CV] END ..criterion=gini, max_depth=10, min_samples_leaf=10; total time=   0.0s\n",
      "[CV] END ..criterion=gini, max_depth=10, min_samples_leaf=10; total time=   0.0s\n",
      "[CV] END ..criterion=gini, max_depth=10, min_samples_leaf=10; total time=   0.0s\n",
      "[CV] END ..criterion=gini, max_depth=10, min_samples_leaf=20; total time=   0.0s\n",
      "[CV] END ..criterion=gini, max_depth=10, min_samples_leaf=20; total time=   0.0s\n",
      "[CV] END ..criterion=gini, max_depth=10, min_samples_leaf=20; total time=   0.0s\n",
      "[CV] END ..criterion=gini, max_depth=10, min_samples_leaf=20; total time=   0.0s\n",
      "[CV] END ..criterion=gini, max_depth=10, min_samples_leaf=20; total time=   0.0s\n",
      "[CV] END ..criterion=gini, max_depth=10, min_samples_leaf=50; total time=   0.0s\n",
      "[CV] END ..criterion=gini, max_depth=10, min_samples_leaf=50; total time=   0.0s\n",
      "[CV] END ..criterion=gini, max_depth=10, min_samples_leaf=50; total time=   0.0s\n",
      "[CV] END ..criterion=gini, max_depth=10, min_samples_leaf=50; total time=   0.0s\n",
      "[CV] END ..criterion=gini, max_depth=10, min_samples_leaf=50; total time=   0.0s\n",
      "[CV] END .criterion=gini, max_depth=10, min_samples_leaf=100; total time=   0.0s\n",
      "[CV] END .criterion=gini, max_depth=10, min_samples_leaf=100; total time=   0.0s\n",
      "[CV] END .criterion=gini, max_depth=10, min_samples_leaf=100; total time=   0.0s\n",
      "[CV] END .criterion=gini, max_depth=10, min_samples_leaf=100; total time=   0.0s\n",
      "[CV] END .criterion=gini, max_depth=10, min_samples_leaf=100; total time=   0.0s\n",
      "[CV] END ...criterion=gini, max_depth=20, min_samples_leaf=5; total time=   0.0s\n",
      "[CV] END ...criterion=gini, max_depth=20, min_samples_leaf=5; total time=   0.0s\n",
      "[CV] END ...criterion=gini, max_depth=20, min_samples_leaf=5; total time=   0.0s\n",
      "[CV] END ...criterion=gini, max_depth=20, min_samples_leaf=5; total time=   0.0s\n",
      "[CV] END ...criterion=gini, max_depth=20, min_samples_leaf=5; total time=   0.0s\n",
      "[CV] END ..criterion=gini, max_depth=20, min_samples_leaf=10; total time=   0.0s\n",
      "[CV] END ..criterion=gini, max_depth=20, min_samples_leaf=10; total time=   0.0s\n",
      "[CV] END ..criterion=gini, max_depth=20, min_samples_leaf=10; total time=   0.0s\n",
      "[CV] END ..criterion=gini, max_depth=20, min_samples_leaf=10; total time=   0.0s\n",
      "[CV] END ..criterion=gini, max_depth=20, min_samples_leaf=10; total time=   0.0s\n",
      "[CV] END ..criterion=gini, max_depth=20, min_samples_leaf=20; total time=   0.0s\n",
      "[CV] END ..criterion=gini, max_depth=20, min_samples_leaf=20; total time=   0.0s\n",
      "[CV] END ..criterion=gini, max_depth=20, min_samples_leaf=20; total time=   0.0s\n",
      "[CV] END ..criterion=gini, max_depth=20, min_samples_leaf=20; total time=   0.0s\n",
      "[CV] END ..criterion=gini, max_depth=20, min_samples_leaf=20; total time=   0.0s\n",
      "[CV] END ..criterion=gini, max_depth=20, min_samples_leaf=50; total time=   0.0s\n",
      "[CV] END ..criterion=gini, max_depth=20, min_samples_leaf=50; total time=   0.0s\n",
      "[CV] END ..criterion=gini, max_depth=20, min_samples_leaf=50; total time=   0.0s\n",
      "[CV] END ..criterion=gini, max_depth=20, min_samples_leaf=50; total time=   0.0s\n",
      "[CV] END ..criterion=gini, max_depth=20, min_samples_leaf=50; total time=   0.0s\n",
      "[CV] END .criterion=gini, max_depth=20, min_samples_leaf=100; total time=   0.0s\n",
      "[CV] END .criterion=gini, max_depth=20, min_samples_leaf=100; total time=   0.0s\n",
      "[CV] END .criterion=gini, max_depth=20, min_samples_leaf=100; total time=   0.0s\n",
      "[CV] END .criterion=gini, max_depth=20, min_samples_leaf=100; total time=   0.0s\n",
      "[CV] END .criterion=gini, max_depth=20, min_samples_leaf=100; total time=   0.0s\n",
      "[CV] END .criterion=entropy, max_depth=2, min_samples_leaf=5; total time=   0.0s\n",
      "[CV] END .criterion=entropy, max_depth=2, min_samples_leaf=5; total time=   0.0s\n",
      "[CV] END .criterion=entropy, max_depth=2, min_samples_leaf=5; total time=   0.0s\n",
      "[CV] END .criterion=entropy, max_depth=2, min_samples_leaf=5; total time=   0.0s\n",
      "[CV] END .criterion=entropy, max_depth=2, min_samples_leaf=5; total time=   0.0s\n",
      "[CV] END criterion=entropy, max_depth=2, min_samples_leaf=10; total time=   0.0s\n",
      "[CV] END criterion=entropy, max_depth=2, min_samples_leaf=10; total time=   0.0s\n",
      "[CV] END criterion=entropy, max_depth=2, min_samples_leaf=10; total time=   0.0s\n",
      "[CV] END criterion=entropy, max_depth=2, min_samples_leaf=10; total time=   0.0s\n",
      "[CV] END criterion=entropy, max_depth=2, min_samples_leaf=10; total time=   0.0s\n",
      "[CV] END criterion=entropy, max_depth=2, min_samples_leaf=20; total time=   0.0s\n",
      "[CV] END criterion=entropy, max_depth=2, min_samples_leaf=20; total time=   0.0s\n",
      "[CV] END criterion=entropy, max_depth=2, min_samples_leaf=20; total time=   0.0s\n",
      "[CV] END criterion=entropy, max_depth=2, min_samples_leaf=20; total time=   0.0s\n",
      "[CV] END criterion=entropy, max_depth=2, min_samples_leaf=20; total time=   0.0s\n",
      "[CV] END criterion=entropy, max_depth=2, min_samples_leaf=50; total time=   0.0s\n",
      "[CV] END criterion=entropy, max_depth=2, min_samples_leaf=50; total time=   0.0s\n",
      "[CV] END criterion=entropy, max_depth=2, min_samples_leaf=50; total time=   0.0s\n",
      "[CV] END criterion=entropy, max_depth=2, min_samples_leaf=50; total time=   0.0s\n",
      "[CV] END criterion=entropy, max_depth=2, min_samples_leaf=50; total time=   0.0s\n",
      "[CV] END criterion=entropy, max_depth=2, min_samples_leaf=100; total time=   0.0s\n",
      "[CV] END criterion=entropy, max_depth=2, min_samples_leaf=100; total time=   0.0s\n",
      "[CV] END criterion=entropy, max_depth=2, min_samples_leaf=100; total time=   0.0s\n",
      "[CV] END criterion=entropy, max_depth=2, min_samples_leaf=100; total time=   0.0s\n",
      "[CV] END criterion=entropy, max_depth=2, min_samples_leaf=100; total time=   0.0s\n",
      "[CV] END .criterion=entropy, max_depth=3, min_samples_leaf=5; total time=   0.0s\n",
      "[CV] END .criterion=entropy, max_depth=3, min_samples_leaf=5; total time=   0.0s\n",
      "[CV] END .criterion=entropy, max_depth=3, min_samples_leaf=5; total time=   0.0s\n",
      "[CV] END .criterion=entropy, max_depth=3, min_samples_leaf=5; total time=   0.0s\n",
      "[CV] END .criterion=entropy, max_depth=3, min_samples_leaf=5; total time=   0.0s\n",
      "[CV] END criterion=entropy, max_depth=3, min_samples_leaf=10; total time=   0.0s\n",
      "[CV] END criterion=entropy, max_depth=3, min_samples_leaf=10; total time=   0.0s\n",
      "[CV] END criterion=entropy, max_depth=3, min_samples_leaf=10; total time=   0.0s\n",
      "[CV] END criterion=entropy, max_depth=3, min_samples_leaf=10; total time=   0.0s\n",
      "[CV] END criterion=entropy, max_depth=3, min_samples_leaf=10; total time=   0.0s\n",
      "[CV] END criterion=entropy, max_depth=3, min_samples_leaf=20; total time=   0.0s\n",
      "[CV] END criterion=entropy, max_depth=3, min_samples_leaf=20; total time=   0.0s\n",
      "[CV] END criterion=entropy, max_depth=3, min_samples_leaf=20; total time=   0.0s\n",
      "[CV] END criterion=entropy, max_depth=3, min_samples_leaf=20; total time=   0.0s\n",
      "[CV] END criterion=entropy, max_depth=3, min_samples_leaf=20; total time=   0.0s\n",
      "[CV] END criterion=entropy, max_depth=3, min_samples_leaf=50; total time=   0.0s\n",
      "[CV] END criterion=entropy, max_depth=3, min_samples_leaf=50; total time=   0.0s\n",
      "[CV] END criterion=entropy, max_depth=3, min_samples_leaf=50; total time=   0.0s\n",
      "[CV] END criterion=entropy, max_depth=3, min_samples_leaf=50; total time=   0.0s\n",
      "[CV] END criterion=entropy, max_depth=3, min_samples_leaf=50; total time=   0.0s\n",
      "[CV] END criterion=entropy, max_depth=3, min_samples_leaf=100; total time=   0.0s\n",
      "[CV] END criterion=entropy, max_depth=3, min_samples_leaf=100; total time=   0.0s\n",
      "[CV] END criterion=entropy, max_depth=3, min_samples_leaf=100; total time=   0.0s\n",
      "[CV] END criterion=entropy, max_depth=3, min_samples_leaf=100; total time=   0.0s\n",
      "[CV] END criterion=entropy, max_depth=3, min_samples_leaf=100; total time=   0.0s\n",
      "[CV] END .criterion=entropy, max_depth=5, min_samples_leaf=5; total time=   0.0s\n",
      "[CV] END .criterion=entropy, max_depth=5, min_samples_leaf=5; total time=   0.0s\n",
      "[CV] END .criterion=entropy, max_depth=5, min_samples_leaf=5; total time=   0.0s\n",
      "[CV] END .criterion=entropy, max_depth=5, min_samples_leaf=5; total time=   0.0s\n",
      "[CV] END .criterion=entropy, max_depth=5, min_samples_leaf=5; total time=   0.0s\n",
      "[CV] END criterion=entropy, max_depth=5, min_samples_leaf=10; total time=   0.0s\n",
      "[CV] END criterion=entropy, max_depth=5, min_samples_leaf=10; total time=   0.0s\n",
      "[CV] END criterion=entropy, max_depth=5, min_samples_leaf=10; total time=   0.0s\n",
      "[CV] END criterion=entropy, max_depth=5, min_samples_leaf=10; total time=   0.0s\n",
      "[CV] END criterion=entropy, max_depth=5, min_samples_leaf=10; total time=   0.0s\n",
      "[CV] END criterion=entropy, max_depth=5, min_samples_leaf=20; total time=   0.0s\n",
      "[CV] END criterion=entropy, max_depth=5, min_samples_leaf=20; total time=   0.0s\n",
      "[CV] END criterion=entropy, max_depth=5, min_samples_leaf=20; total time=   0.0s\n",
      "[CV] END criterion=entropy, max_depth=5, min_samples_leaf=20; total time=   0.0s\n",
      "[CV] END criterion=entropy, max_depth=5, min_samples_leaf=20; total time=   0.0s\n",
      "[CV] END criterion=entropy, max_depth=5, min_samples_leaf=50; total time=   0.0s\n",
      "[CV] END criterion=entropy, max_depth=5, min_samples_leaf=50; total time=   0.0s\n",
      "[CV] END criterion=entropy, max_depth=5, min_samples_leaf=50; total time=   0.0s\n",
      "[CV] END criterion=entropy, max_depth=5, min_samples_leaf=50; total time=   0.0s\n",
      "[CV] END criterion=entropy, max_depth=5, min_samples_leaf=50; total time=   0.0s\n",
      "[CV] END criterion=entropy, max_depth=5, min_samples_leaf=100; total time=   0.0s\n",
      "[CV] END criterion=entropy, max_depth=5, min_samples_leaf=100; total time=   0.0s\n",
      "[CV] END criterion=entropy, max_depth=5, min_samples_leaf=100; total time=   0.0s\n",
      "[CV] END criterion=entropy, max_depth=5, min_samples_leaf=100; total time=   0.0s\n",
      "[CV] END criterion=entropy, max_depth=5, min_samples_leaf=100; total time=   0.0s\n",
      "[CV] END criterion=entropy, max_depth=10, min_samples_leaf=5; total time=   0.0s\n",
      "[CV] END criterion=entropy, max_depth=10, min_samples_leaf=5; total time=   0.0s\n",
      "[CV] END criterion=entropy, max_depth=10, min_samples_leaf=5; total time=   0.0s\n",
      "[CV] END criterion=entropy, max_depth=10, min_samples_leaf=5; total time=   0.0s\n",
      "[CV] END criterion=entropy, max_depth=10, min_samples_leaf=5; total time=   0.0s\n",
      "[CV] END criterion=entropy, max_depth=10, min_samples_leaf=10; total time=   0.0s\n",
      "[CV] END criterion=entropy, max_depth=10, min_samples_leaf=10; total time=   0.0s\n",
      "[CV] END criterion=entropy, max_depth=10, min_samples_leaf=10; total time=   0.0s\n",
      "[CV] END criterion=entropy, max_depth=10, min_samples_leaf=10; total time=   0.0s\n",
      "[CV] END criterion=entropy, max_depth=10, min_samples_leaf=10; total time=   0.0s\n",
      "[CV] END criterion=entropy, max_depth=10, min_samples_leaf=20; total time=   0.0s\n",
      "[CV] END criterion=entropy, max_depth=10, min_samples_leaf=20; total time=   0.0s\n",
      "[CV] END criterion=entropy, max_depth=10, min_samples_leaf=20; total time=   0.0s\n",
      "[CV] END criterion=entropy, max_depth=10, min_samples_leaf=20; total time=   0.0s\n",
      "[CV] END criterion=entropy, max_depth=10, min_samples_leaf=20; total time=   0.0s\n",
      "[CV] END criterion=entropy, max_depth=10, min_samples_leaf=50; total time=   0.0s\n",
      "[CV] END criterion=entropy, max_depth=10, min_samples_leaf=50; total time=   0.0s\n",
      "[CV] END criterion=entropy, max_depth=10, min_samples_leaf=50; total time=   0.0s\n",
      "[CV] END criterion=entropy, max_depth=10, min_samples_leaf=50; total time=   0.0s\n",
      "[CV] END criterion=entropy, max_depth=10, min_samples_leaf=50; total time=   0.0s\n",
      "[CV] END criterion=entropy, max_depth=10, min_samples_leaf=100; total time=   0.0s\n",
      "[CV] END criterion=entropy, max_depth=10, min_samples_leaf=100; total time=   0.0s\n",
      "[CV] END criterion=entropy, max_depth=10, min_samples_leaf=100; total time=   0.0s\n",
      "[CV] END criterion=entropy, max_depth=10, min_samples_leaf=100; total time=   0.0s\n",
      "[CV] END criterion=entropy, max_depth=10, min_samples_leaf=100; total time=   0.0s\n",
      "[CV] END criterion=entropy, max_depth=20, min_samples_leaf=5; total time=   0.0s\n",
      "[CV] END criterion=entropy, max_depth=20, min_samples_leaf=5; total time=   0.0s\n",
      "[CV] END criterion=entropy, max_depth=20, min_samples_leaf=5; total time=   0.0s\n",
      "[CV] END criterion=entropy, max_depth=20, min_samples_leaf=5; total time=   0.0s\n",
      "[CV] END criterion=entropy, max_depth=20, min_samples_leaf=5; total time=   0.0s\n",
      "[CV] END criterion=entropy, max_depth=20, min_samples_leaf=10; total time=   0.0s\n",
      "[CV] END criterion=entropy, max_depth=20, min_samples_leaf=10; total time=   0.0s\n",
      "[CV] END criterion=entropy, max_depth=20, min_samples_leaf=10; total time=   0.0s\n",
      "[CV] END criterion=entropy, max_depth=20, min_samples_leaf=10; total time=   0.0s\n",
      "[CV] END criterion=entropy, max_depth=20, min_samples_leaf=10; total time=   0.0s\n",
      "[CV] END criterion=entropy, max_depth=20, min_samples_leaf=20; total time=   0.0s\n",
      "[CV] END criterion=entropy, max_depth=20, min_samples_leaf=20; total time=   0.0s\n",
      "[CV] END criterion=entropy, max_depth=20, min_samples_leaf=20; total time=   0.0s\n",
      "[CV] END criterion=entropy, max_depth=20, min_samples_leaf=20; total time=   0.0s\n",
      "[CV] END criterion=entropy, max_depth=20, min_samples_leaf=20; total time=   0.0s\n",
      "[CV] END criterion=entropy, max_depth=20, min_samples_leaf=50; total time=   0.0s\n",
      "[CV] END criterion=entropy, max_depth=20, min_samples_leaf=50; total time=   0.0s\n",
      "[CV] END criterion=entropy, max_depth=20, min_samples_leaf=50; total time=   0.0s\n",
      "[CV] END criterion=entropy, max_depth=20, min_samples_leaf=50; total time=   0.0s\n",
      "[CV] END criterion=entropy, max_depth=20, min_samples_leaf=50; total time=   0.0s\n",
      "[CV] END criterion=entropy, max_depth=20, min_samples_leaf=100; total time=   0.0s\n",
      "[CV] END criterion=entropy, max_depth=20, min_samples_leaf=100; total time=   0.0s\n",
      "[CV] END criterion=entropy, max_depth=20, min_samples_leaf=100; total time=   0.0s\n",
      "[CV] END criterion=entropy, max_depth=20, min_samples_leaf=100; total time=   0.0s\n",
      "[CV] END criterion=entropy, max_depth=20, min_samples_leaf=100; total time=   0.0s\n"
     ]
    },
    {
     "data": {
      "text/plain": [
       "GridSearchCV(cv=5, estimator=DecisionTreeClassifier(),\n",
       "             param_grid={'criterion': ['gini', 'entropy'],\n",
       "                         'max_depth': [2, 3, 5, 10, 20],\n",
       "                         'min_samples_leaf': [5, 10, 20, 50, 100]},\n",
       "             verbose=2)"
      ]
     },
     "execution_count": 26,
     "metadata": {},
     "output_type": "execute_result"
    }
   ],
   "source": [
    "grid = GridSearchCV(tree.DecisionTreeClassifier(),param_grid,refit=True,verbose=2,cv=5)\n",
    "grid.fit(X_train,y_train)"
   ]
  },
  {
   "cell_type": "code",
   "execution_count": 27,
   "metadata": {},
   "outputs": [
    {
     "name": "stdout",
     "output_type": "stream",
     "text": [
      "DecisionTreeClassifier(max_depth=2, min_samples_leaf=5)\n"
     ]
    }
   ],
   "source": [
    "print(grid.best_estimator_)"
   ]
  },
  {
   "cell_type": "code",
   "execution_count": 28,
   "metadata": {
    "scrolled": true
   },
   "outputs": [],
   "source": [
    "#Árbol de decisión CART\n",
    "classifier = tree.DecisionTreeClassifier(max_depth=2, min_samples_leaf=5).fit(X_train, y_train)"
   ]
  },
  {
   "cell_type": "code",
   "execution_count": 29,
   "metadata": {
    "scrolled": true
   },
   "outputs": [
    {
     "data": {
      "image/png": "[encoded data removed]",
      "text/plain": [
       "<Figure size 1440x576 with 1 Axes>"
      ]
     },
     "metadata": {
      "needs_background": "light"
     },
     "output_type": "display_data"
    }
   ],
   "source": [
    "plt.figure(figsize = (20,8))\n",
    "tree.plot_tree(classifier)\n",
    "plt.show()"
   ]
  },
  {
   "cell_type": "code",
   "execution_count": 46,
   "metadata": {},
   "outputs": [
    {
     "ename": "NameError",
     "evalue": "name 'get_dt_graph' is not defined",
     "output_type": "error",
     "traceback": [
      "\u001b[1;31m---------------------------------------------------------------------------\u001b[0m",
      "\u001b[1;31mNameError\u001b[0m                                 Traceback (most recent call last)",
      "\u001b[1;32m<ipython-input-46-147cc69e11b4>\u001b[0m in \u001b[0;36m<module>\u001b[1;34m\u001b[0m\n\u001b[1;32m----> 1\u001b[1;33m \u001b[0mget_dt_graph\u001b[0m\u001b[1;33m(\u001b[0m\u001b[0mclassifier\u001b[0m\u001b[1;33m)\u001b[0m\u001b[1;33m\u001b[0m\u001b[1;33m\u001b[0m\u001b[0m\n\u001b[0m",
      "\u001b[1;31mNameError\u001b[0m: name 'get_dt_graph' is not defined"
     ]
    }
   ],
   "source": [
    "get_dt_graph(classifier)"
   ]
  },
  {
   "cell_type": "code",
   "execution_count": 30,
   "metadata": {},
   "outputs": [],
   "source": [
    "y_pred = classifier.predict(X_test)"
   ]
  },
  {
   "cell_type": "code",
   "execution_count": 31,
   "metadata": {},
   "outputs": [
    {
     "data": {
      "text/plain": [
       "array([0, 0, 0, 0, 0], dtype=int64)"
      ]
     },
     "execution_count": 31,
     "metadata": {},
     "output_type": "execute_result"
    }
   ],
   "source": [
    "y_pred[0:5]"
   ]
  },
  {
   "cell_type": "code",
   "execution_count": 32,
   "metadata": {},
   "outputs": [
    {
     "data": {
      "text/plain": [
       "array([0, 0, 0, 0, 0], dtype=int64)"
      ]
     },
     "execution_count": 32,
     "metadata": {},
     "output_type": "execute_result"
    }
   ],
   "source": [
    "y_test[0:5]"
   ]
  },
  {
   "cell_type": "code",
   "execution_count": 33,
   "metadata": {},
   "outputs": [
    {
     "data": {
      "text/plain": [
       "array([[55,  3],\n",
       "       [ 1, 21]], dtype=int64)"
      ]
     },
     "execution_count": 33,
     "metadata": {},
     "output_type": "execute_result"
    }
   ],
   "source": [
    "confusion_matrix(y_test, y_pred)"
   ]
  },
  {
   "cell_type": "code",
   "execution_count": 34,
   "metadata": {},
   "outputs": [
    {
     "name": "stdout",
     "output_type": "stream",
     "text": [
      "Confusion matrix, without normalization\n",
      "[[55  3]\n",
      " [ 1 21]]\n",
      "Normalized confusion matrix\n",
      "[[0.94827586 0.05172414]\n",
      " [0.04545455 0.95454545]]\n"
     ]
    },
    {
     "data": {
      "image/png": "[encoded data removed]",
      "text/plain": [
       "<Figure size 432x288 with 2 Axes>"
      ]
     },
     "metadata": {
      "needs_background": "light"
     },
     "output_type": "display_data"
    },
    {
     "data": {
      "image/png": "[encoded data removed]",
      "text/plain": [
       "<Figure size 432x288 with 2 Axes>"
      ]
     },
     "metadata": {
      "needs_background": "light"
     },
     "output_type": "display_data"
    }
   ],
   "source": [
    "# Plot non-normalized confusion matrix\n",
    "titles_options = [(\"Confusion matrix, without normalization\", None),\n",
    "                  (\"Normalized confusion matrix\", 'true')]\n",
    "for title, normalize in titles_options:\n",
    "    disp = plot_confusion_matrix(classifier, X_test, y_test,\n",
    "                                 #display_labels=y_test,\n",
    "                                 cmap=plt.cm.Blues,\n",
    "                                 normalize=normalize)\n",
    "    disp.ax_.set_title(title)\n",
    "\n",
    "    print(title)\n",
    "    print(disp.confusion_matrix)\n",
    "\n",
    "plt.show()"
   ]
  },
  {
   "cell_type": "code",
   "execution_count": 35,
   "metadata": {},
   "outputs": [],
   "source": [
    "y_pred_prob = classifier.predict_proba(X_test)"
   ]
  },
  {
   "cell_type": "code",
   "execution_count": 36,
   "metadata": {},
   "outputs": [
    {
     "data": {
      "text/plain": [
       "array([[0.95698925, 0.04301075],\n",
       "       [0.95698925, 0.04301075],\n",
       "       [0.95698925, 0.04301075],\n",
       "       [0.95698925, 0.04301075],\n",
       "       [0.95698925, 0.04301075]])"
      ]
     },
     "execution_count": 36,
     "metadata": {},
     "output_type": "execute_result"
    }
   ],
   "source": [
    "y_pred_prob[0:5]"
   ]
  },
  {
   "cell_type": "code",
   "execution_count": 37,
   "metadata": {},
   "outputs": [
    {
     "data": {
      "text/plain": [
       "array([0.04301075, 0.04301075, 0.04301075, 0.04301075, 0.04301075])"
      ]
     },
     "execution_count": 37,
     "metadata": {},
     "output_type": "execute_result"
    }
   ],
   "source": [
    "y_pred_prob[0:5,1]"
   ]
  },
  {
   "cell_type": "code",
   "execution_count": 38,
   "metadata": {},
   "outputs": [],
   "source": [
    "false_positive_rate, true_positive_rate, thresholds = roc_curve(y_test, y_pred_prob[:,1])"
   ]
  },
  {
   "cell_type": "code",
   "execution_count": 39,
   "metadata": {},
   "outputs": [
    {
     "data": {
      "text/plain": [
       "0.9494514106583072"
      ]
     },
     "execution_count": 39,
     "metadata": {},
     "output_type": "execute_result"
    }
   ],
   "source": [
    "roc_auc = auc(false_positive_rate, true_positive_rate)\n",
    "roc_auc"
   ]
  },
  {
   "cell_type": "code",
   "execution_count": 40,
   "metadata": {
    "scrolled": true
   },
   "outputs": [
    {
     "data": {
      "image/png": "[encoded data removed]",
      "text/plain": [
       "<Figure size 432x288 with 1 Axes>"
      ]
     },
     "metadata": {
      "needs_background": "light"
     },
     "output_type": "display_data"
    }
   ],
   "source": [
    "plt.title('Receiver Operating Characteristic')\n",
    "plt.plot(false_positive_rate,true_positive_rate, color='red',label = 'AUC = %0.2f' % roc_auc)\n",
    "plt.legend(loc = 'lower right')\n",
    "plt.plot([0, 1], [0, 1],linestyle='--')\n",
    "plt.axis('tight')\n",
    "plt.ylabel('True Positive Rate')\n",
    "plt.xlabel('False Positive Rate')\n",
    "plt.show()"
   ]
  },
  {
   "cell_type": "code",
   "execution_count": 41,
   "metadata": {},
   "outputs": [
    {
     "name": "stdout",
     "output_type": "stream",
     "text": [
      "              precision    recall  f1-score   support\n",
      "\n",
      "           0       0.98      0.95      0.96        58\n",
      "           1       0.88      0.95      0.91        22\n",
      "\n",
      "    accuracy                           0.95        80\n",
      "   macro avg       0.93      0.95      0.94        80\n",
      "weighted avg       0.95      0.95      0.95        80\n",
      "\n"
     ]
    }
   ],
   "source": [
    "print(classification_report(y_test, y_pred))"
   ]
  },
  {
   "cell_type": "code",
   "execution_count": 42,
   "metadata": {},
   "outputs": [],
   "source": [
    "dataf = pd.concat([pd.DataFrame(X_test),pd.DataFrame(y_test),pd.DataFrame(y_pred),pd.DataFrame(y_pred_prob)],axis=1)"
   ]
  },
  {
   "cell_type": "code",
   "execution_count": 43,
   "metadata": {
    "scrolled": true
   },
   "outputs": [
    {
     "data": {
      "text/html": [
       "<div>\n",
       "<style scoped>\n",
       "    .dataframe tbody tr th:only-of-type {\n",
       "        vertical-align: middle;\n",
       "    }\n",
       "\n",
       "    .dataframe tbody tr th {\n",
       "        vertical-align: top;\n",
       "    }\n",
       "\n",
       "    .dataframe thead th {\n",
       "        text-align: right;\n",
       "    }\n",
       "</style>\n",
       "<table border=\"1\" class=\"dataframe\">\n",
       "  <thead>\n",
       "    <tr style=\"text-align: right;\">\n",
       "      <th></th>\n",
       "      <th>0</th>\n",
       "      <th>1</th>\n",
       "      <th>0</th>\n",
       "      <th>0</th>\n",
       "      <th>0</th>\n",
       "      <th>1</th>\n",
       "    </tr>\n",
       "  </thead>\n",
       "  <tbody>\n",
       "    <tr>\n",
       "      <th>0</th>\n",
       "      <td>30</td>\n",
       "      <td>87000</td>\n",
       "      <td>0</td>\n",
       "      <td>0</td>\n",
       "      <td>0.956989</td>\n",
       "      <td>0.043011</td>\n",
       "    </tr>\n",
       "    <tr>\n",
       "      <th>1</th>\n",
       "      <td>38</td>\n",
       "      <td>50000</td>\n",
       "      <td>0</td>\n",
       "      <td>0</td>\n",
       "      <td>0.956989</td>\n",
       "      <td>0.043011</td>\n",
       "    </tr>\n",
       "    <tr>\n",
       "      <th>2</th>\n",
       "      <td>35</td>\n",
       "      <td>75000</td>\n",
       "      <td>0</td>\n",
       "      <td>0</td>\n",
       "      <td>0.956989</td>\n",
       "      <td>0.043011</td>\n",
       "    </tr>\n",
       "    <tr>\n",
       "      <th>3</th>\n",
       "      <td>30</td>\n",
       "      <td>79000</td>\n",
       "      <td>0</td>\n",
       "      <td>0</td>\n",
       "      <td>0.956989</td>\n",
       "      <td>0.043011</td>\n",
       "    </tr>\n",
       "    <tr>\n",
       "      <th>4</th>\n",
       "      <td>35</td>\n",
       "      <td>50000</td>\n",
       "      <td>0</td>\n",
       "      <td>0</td>\n",
       "      <td>0.956989</td>\n",
       "      <td>0.043011</td>\n",
       "    </tr>\n",
       "  </tbody>\n",
       "</table>\n",
       "</div>"
      ],
      "text/plain": [
       "    0      1  0  0         0         1\n",
       "0  30  87000  0  0  0.956989  0.043011\n",
       "1  38  50000  0  0  0.956989  0.043011\n",
       "2  35  75000  0  0  0.956989  0.043011\n",
       "3  30  79000  0  0  0.956989  0.043011\n",
       "4  35  50000  0  0  0.956989  0.043011"
      ]
     },
     "execution_count": 43,
     "metadata": {},
     "output_type": "execute_result"
    }
   ],
   "source": [
    "dataf.head(5)"
   ]
  },
  {
   "cell_type": "code",
   "execution_count": 44,
   "metadata": {},
   "outputs": [],
   "source": [
    "dataf.columns = ['Age', 'EstimatedSalary', 'Purchased', 'Purchased_Pred', 'Purchased_Pred_Prob_0', 'Purchased_Pred_Prob_1']"
   ]
  },
  {
   "cell_type": "code",
   "execution_count": 45,
   "metadata": {},
   "outputs": [
    {
     "data": {
      "text/html": [
       "<div>\n",
       "<style scoped>\n",
       "    .dataframe tbody tr th:only-of-type {\n",
       "        vertical-align: middle;\n",
       "    }\n",
       "\n",
       "    .dataframe tbody tr th {\n",
       "        vertical-align: top;\n",
       "    }\n",
       "\n",
       "    .dataframe thead th {\n",
       "        text-align: right;\n",
       "    }\n",
       "</style>\n",
       "<table border=\"1\" class=\"dataframe\">\n",
       "  <thead>\n",
       "    <tr style=\"text-align: right;\">\n",
       "      <th></th>\n",
       "      <th>Age</th>\n",
       "      <th>EstimatedSalary</th>\n",
       "      <th>Purchased</th>\n",
       "      <th>Purchased_Pred</th>\n",
       "      <th>Purchased_Pred_Prob_0</th>\n",
       "      <th>Purchased_Pred_Prob_1</th>\n",
       "    </tr>\n",
       "  </thead>\n",
       "  <tbody>\n",
       "    <tr>\n",
       "      <th>0</th>\n",
       "      <td>30</td>\n",
       "      <td>87000</td>\n",
       "      <td>0</td>\n",
       "      <td>0</td>\n",
       "      <td>0.956989</td>\n",
       "      <td>0.043011</td>\n",
       "    </tr>\n",
       "    <tr>\n",
       "      <th>1</th>\n",
       "      <td>38</td>\n",
       "      <td>50000</td>\n",
       "      <td>0</td>\n",
       "      <td>0</td>\n",
       "      <td>0.956989</td>\n",
       "      <td>0.043011</td>\n",
       "    </tr>\n",
       "    <tr>\n",
       "      <th>2</th>\n",
       "      <td>35</td>\n",
       "      <td>75000</td>\n",
       "      <td>0</td>\n",
       "      <td>0</td>\n",
       "      <td>0.956989</td>\n",
       "      <td>0.043011</td>\n",
       "    </tr>\n",
       "    <tr>\n",
       "      <th>3</th>\n",
       "      <td>30</td>\n",
       "      <td>79000</td>\n",
       "      <td>0</td>\n",
       "      <td>0</td>\n",
       "      <td>0.956989</td>\n",
       "      <td>0.043011</td>\n",
       "    </tr>\n",
       "    <tr>\n",
       "      <th>4</th>\n",
       "      <td>35</td>\n",
       "      <td>50000</td>\n",
       "      <td>0</td>\n",
       "      <td>0</td>\n",
       "      <td>0.956989</td>\n",
       "      <td>0.043011</td>\n",
       "    </tr>\n",
       "    <tr>\n",
       "      <th>5</th>\n",
       "      <td>27</td>\n",
       "      <td>20000</td>\n",
       "      <td>0</td>\n",
       "      <td>0</td>\n",
       "      <td>0.956989</td>\n",
       "      <td>0.043011</td>\n",
       "    </tr>\n",
       "    <tr>\n",
       "      <th>6</th>\n",
       "      <td>31</td>\n",
       "      <td>15000</td>\n",
       "      <td>0</td>\n",
       "      <td>0</td>\n",
       "      <td>0.956989</td>\n",
       "      <td>0.043011</td>\n",
       "    </tr>\n",
       "    <tr>\n",
       "      <th>7</th>\n",
       "      <td>36</td>\n",
       "      <td>144000</td>\n",
       "      <td>1</td>\n",
       "      <td>1</td>\n",
       "      <td>0.142857</td>\n",
       "      <td>0.857143</td>\n",
       "    </tr>\n",
       "    <tr>\n",
       "      <th>8</th>\n",
       "      <td>18</td>\n",
       "      <td>68000</td>\n",
       "      <td>0</td>\n",
       "      <td>0</td>\n",
       "      <td>0.956989</td>\n",
       "      <td>0.043011</td>\n",
       "    </tr>\n",
       "    <tr>\n",
       "      <th>9</th>\n",
       "      <td>47</td>\n",
       "      <td>43000</td>\n",
       "      <td>0</td>\n",
       "      <td>1</td>\n",
       "      <td>0.237288</td>\n",
       "      <td>0.762712</td>\n",
       "    </tr>\n",
       "  </tbody>\n",
       "</table>\n",
       "</div>"
      ],
      "text/plain": [
       "   Age  EstimatedSalary  Purchased  Purchased_Pred  Purchased_Pred_Prob_0  \\\n",
       "0   30            87000          0               0               0.956989   \n",
       "1   38            50000          0               0               0.956989   \n",
       "2   35            75000          0               0               0.956989   \n",
       "3   30            79000          0               0               0.956989   \n",
       "4   35            50000          0               0               0.956989   \n",
       "5   27            20000          0               0               0.956989   \n",
       "6   31            15000          0               0               0.956989   \n",
       "7   36           144000          1               1               0.142857   \n",
       "8   18            68000          0               0               0.956989   \n",
       "9   47            43000          0               1               0.237288   \n",
       "\n",
       "   Purchased_Pred_Prob_1  \n",
       "0               0.043011  \n",
       "1               0.043011  \n",
       "2               0.043011  \n",
       "3               0.043011  \n",
       "4               0.043011  \n",
       "5               0.043011  \n",
       "6               0.043011  \n",
       "7               0.857143  \n",
       "8               0.043011  \n",
       "9               0.762712  "
      ]
     },
     "execution_count": 45,
     "metadata": {},
     "output_type": "execute_result"
    }
   ],
   "source": [
    "dataf.head(10)"
   ]
  },
  {
   "cell_type": "code",
   "execution_count": 104,
   "metadata": {},
   "outputs": [],
   "source": [
    "dataf.to_csv('D/dataf.csv', index = False)"
   ]
  }
 ],
 "metadata": {
  "kernelspec": {
   "display_name": "Python 3",
   "language": "python",
   "name": "python3"
  },
  "language_info": {
   "codemirror_mode": {
    "name": "ipython",
    "version": 3
   },
   "file_extension": ".py",
   "mimetype": "text/x-python",
   "name": "python",
   "nbconvert_exporter": "python",
   "pygments_lexer": "ipython3",
   "version": "3.8.5"
  }
 },
 "nbformat": 4,
 "nbformat_minor": 4
}
