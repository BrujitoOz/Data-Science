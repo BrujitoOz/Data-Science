{
 "cells": [
  {
   "cell_type": "code",
   "execution_count": 2,
   "metadata": {},
   "outputs": [
    {
     "name": "stdout",
     "output_type": "stream",
     "text": [
      "Collecting yellowbrick\n",
      "  Downloading yellowbrick-1.5-py3-none-any.whl (282 kB)\n",
      "     ---------------------------------------- 0.0/282.6 kB ? eta -:--:--\n",
      "     -------------------------------------- 282.6/282.6 kB 5.8 MB/s eta 0:00:00\n",
      "Requirement already satisfied: numpy>=1.16.0 in c:\\users\\user\\appdata\\local\\packages\\pythonsoftwarefoundation.python.3.10_qbz5n2kfra8p0\\localcache\\local-packages\\python310\\site-packages (from yellowbrick) (1.24.2)\n",
      "Requirement already satisfied: scikit-learn>=1.0.0 in c:\\users\\user\\appdata\\local\\packages\\pythonsoftwarefoundation.python.3.10_qbz5n2kfra8p0\\localcache\\local-packages\\python310\\site-packages (from yellowbrick) (1.2.2)\n",
      "Requirement already satisfied: cycler>=0.10.0 in c:\\users\\user\\appdata\\local\\packages\\pythonsoftwarefoundation.python.3.10_qbz5n2kfra8p0\\localcache\\local-packages\\python310\\site-packages (from yellowbrick) (0.11.0)\n",
      "Requirement already satisfied: matplotlib!=3.0.0,>=2.0.2 in c:\\users\\user\\appdata\\local\\packages\\pythonsoftwarefoundation.python.3.10_qbz5n2kfra8p0\\localcache\\local-packages\\python310\\site-packages (from yellowbrick) (3.7.1)\n",
      "Requirement already satisfied: scipy>=1.0.0 in c:\\users\\user\\appdata\\local\\packages\\pythonsoftwarefoundation.python.3.10_qbz5n2kfra8p0\\localcache\\local-packages\\python310\\site-packages (from yellowbrick) (1.10.1)\n",
      "Requirement already satisfied: contourpy>=1.0.1 in c:\\users\\user\\appdata\\local\\packages\\pythonsoftwarefoundation.python.3.10_qbz5n2kfra8p0\\localcache\\local-packages\\python310\\site-packages (from matplotlib!=3.0.0,>=2.0.2->yellowbrick) (1.0.7)\n",
      "Requirement already satisfied: kiwisolver>=1.0.1 in c:\\users\\user\\appdata\\local\\packages\\pythonsoftwarefoundation.python.3.10_qbz5n2kfra8p0\\localcache\\local-packages\\python310\\site-packages (from matplotlib!=3.0.0,>=2.0.2->yellowbrick) (1.4.4)\n",
      "Requirement already satisfied: pillow>=6.2.0 in c:\\users\\user\\appdata\\local\\packages\\pythonsoftwarefoundation.python.3.10_qbz5n2kfra8p0\\localcache\\local-packages\\python310\\site-packages (from matplotlib!=3.0.0,>=2.0.2->yellowbrick) (9.4.0)\n",
      "Requirement already satisfied: pyparsing>=2.3.1 in c:\\users\\user\\appdata\\local\\packages\\pythonsoftwarefoundation.python.3.10_qbz5n2kfra8p0\\localcache\\local-packages\\python310\\site-packages (from matplotlib!=3.0.0,>=2.0.2->yellowbrick) (3.0.9)\n",
      "Requirement already satisfied: fonttools>=4.22.0 in c:\\users\\user\\appdata\\local\\packages\\pythonsoftwarefoundation.python.3.10_qbz5n2kfra8p0\\localcache\\local-packages\\python310\\site-packages (from matplotlib!=3.0.0,>=2.0.2->yellowbrick) (4.39.2)\n",
      "Requirement already satisfied: python-dateutil>=2.7 in c:\\users\\user\\appdata\\local\\packages\\pythonsoftwarefoundation.python.3.10_qbz5n2kfra8p0\\localcache\\local-packages\\python310\\site-packages (from matplotlib!=3.0.0,>=2.0.2->yellowbrick) (2.8.2)\n",
      "Requirement already satisfied: packaging>=20.0 in c:\\users\\user\\appdata\\local\\packages\\pythonsoftwarefoundation.python.3.10_qbz5n2kfra8p0\\localcache\\local-packages\\python310\\site-packages (from matplotlib!=3.0.0,>=2.0.2->yellowbrick) (23.0)\n",
      "Requirement already satisfied: joblib>=1.1.1 in c:\\users\\user\\appdata\\local\\packages\\pythonsoftwarefoundation.python.3.10_qbz5n2kfra8p0\\localcache\\local-packages\\python310\\site-packages (from scikit-learn>=1.0.0->yellowbrick) (1.2.0)\n",
      "Requirement already satisfied: threadpoolctl>=2.0.0 in c:\\users\\user\\appdata\\local\\packages\\pythonsoftwarefoundation.python.3.10_qbz5n2kfra8p0\\localcache\\local-packages\\python310\\site-packages (from scikit-learn>=1.0.0->yellowbrick) (3.1.0)\n",
      "Requirement already satisfied: six>=1.5 in c:\\users\\user\\appdata\\local\\packages\\pythonsoftwarefoundation.python.3.10_qbz5n2kfra8p0\\localcache\\local-packages\\python310\\site-packages (from python-dateutil>=2.7->matplotlib!=3.0.0,>=2.0.2->yellowbrick) (1.16.0)\n",
      "Installing collected packages: yellowbrick\n",
      "Successfully installed yellowbrick-1.5\n"
     ]
    }
   ],
   "source": [
    "!pip install yellowbrick"
   ]
  },
  {
   "cell_type": "code",
   "execution_count": 4,
   "metadata": {},
   "outputs": [],
   "source": [
    "import pandas as pd\n",
    "import matplotlib.pyplot as plt\n",
    "import seaborn as sns\n",
    "import numpy as np\n",
    "import scipy.stats as ss\n",
    "from scipy.stats import chi2_contingency\n",
    "from sklearn.model_selection import train_test_split\n",
    "from sklearn.svm import SVC\n",
    "from sklearn.metrics import classification_report, confusion_matrix\n",
    "from sklearn.metrics import confusion_matrix, ConfusionMatrixDisplay\n",
    "from sklearn.metrics import roc_curve, auc, roc_auc_score\n",
    "from sklearn.preprocessing import StandardScaler\n",
    "from sklearn.preprocessing import LabelEncoder\n",
    "from sklearn.model_selection import cross_val_score\n",
    "from sklearn.model_selection import GridSearchCV\n",
    "\n",
    "from sklearn.ensemble import RandomForestClassifier\n",
    "from sklearn.metrics import roc_curve, auc, roc_auc_score\n",
    "\n",
    "from sklearn.ensemble import  GradientBoostingClassifier\n",
    "\n",
    "\n",
    "from sklearn import linear_model\n",
    "import statsmodels.api as sm\n",
    "import statsmodels.formula.api as smf\n",
    "from sklearn.metrics import mean_squared_error, r2_score\n",
    "\n",
    "from sklearn.linear_model import LogisticRegression\n",
    "from collections import Counter\n",
    "\n",
    "from sklearn.cluster import KMeans\n",
    "from sklearn.metrics import pairwise_distances_argmin_min\n",
    "from sklearn.metrics import silhouette_samples, silhouette_score\n",
    "\n",
    "from yellowbrick.cluster import SilhouetteVisualizer"
   ]
  },
  {
   "cell_type": "code",
   "execution_count": 52,
   "metadata": {},
   "outputs": [
    {
     "name": "stdout",
     "output_type": "stream",
     "text": [
      "<class 'pandas.core.frame.DataFrame'>\n",
      "RangeIndex: 400 entries, 0 to 399\n",
      "Data columns (total 5 columns):\n",
      " #   Column           Non-Null Count  Dtype \n",
      "---  ------           --------------  ----- \n",
      " 0   User ID          400 non-null    int64 \n",
      " 1   Gender           400 non-null    object\n",
      " 2   Age              400 non-null    int64 \n",
      " 3   EstimatedSalary  400 non-null    int64 \n",
      " 4   Purchased        400 non-null    int64 \n",
      "dtypes: int64(4), object(1)\n",
      "memory usage: 15.8+ KB\n"
     ]
    }
   ],
   "source": [
    "data = pd.read_csv('..Datasets/Social_Network_Ads.csv')\n",
    "data.info()"
   ]
  },
  {
   "cell_type": "code",
   "execution_count": 53,
   "metadata": {},
   "outputs": [
    {
     "data": {
      "text/html": [
       "<div>\n",
       "<style scoped>\n",
       "    .dataframe tbody tr th:only-of-type {\n",
       "        vertical-align: middle;\n",
       "    }\n",
       "\n",
       "    .dataframe tbody tr th {\n",
       "        vertical-align: top;\n",
       "    }\n",
       "\n",
       "    .dataframe thead th {\n",
       "        text-align: right;\n",
       "    }\n",
       "</style>\n",
       "<table border=\"1\" class=\"dataframe\">\n",
       "  <thead>\n",
       "    <tr style=\"text-align: right;\">\n",
       "      <th></th>\n",
       "      <th>User ID</th>\n",
       "      <th>Gender</th>\n",
       "      <th>Age</th>\n",
       "      <th>EstimatedSalary</th>\n",
       "      <th>Purchased</th>\n",
       "    </tr>\n",
       "  </thead>\n",
       "  <tbody>\n",
       "    <tr>\n",
       "      <th>0</th>\n",
       "      <td>15624510</td>\n",
       "      <td>Male</td>\n",
       "      <td>19</td>\n",
       "      <td>19000</td>\n",
       "      <td>0</td>\n",
       "    </tr>\n",
       "    <tr>\n",
       "      <th>1</th>\n",
       "      <td>15810944</td>\n",
       "      <td>Male</td>\n",
       "      <td>35</td>\n",
       "      <td>20000</td>\n",
       "      <td>0</td>\n",
       "    </tr>\n",
       "    <tr>\n",
       "      <th>2</th>\n",
       "      <td>15668575</td>\n",
       "      <td>Female</td>\n",
       "      <td>26</td>\n",
       "      <td>43000</td>\n",
       "      <td>0</td>\n",
       "    </tr>\n",
       "  </tbody>\n",
       "</table>\n",
       "</div>"
      ],
      "text/plain": [
       "    User ID  Gender  Age  EstimatedSalary  Purchased\n",
       "0  15624510    Male   19            19000          0\n",
       "1  15810944    Male   35            20000          0\n",
       "2  15668575  Female   26            43000          0"
      ]
     },
     "execution_count": 53,
     "metadata": {},
     "output_type": "execute_result"
    }
   ],
   "source": [
    "data.head(3)"
   ]
  },
  {
   "cell_type": "code",
   "execution_count": 98,
   "metadata": {},
   "outputs": [
    {
     "data": {
      "text/plain": [
       "0.5395872953166894"
      ]
     },
     "execution_count": 98,
     "metadata": {},
     "output_type": "execute_result"
    }
   ],
   "source": []
  },
  {
   "cell_type": "code",
   "execution_count": 123,
   "metadata": {},
   "outputs": [
    {
     "data": {
      "text/plain": [
       "0.5395872953166894"
      ]
     },
     "execution_count": 123,
     "metadata": {},
     "output_type": "execute_result"
    }
   ],
   "source": [
    "# 1. Aplicar el modelo de clúster mediante el método de k-means haciendo uso adecuado de las variables y\n",
    "#    presentar una función en la que se muestre una gráfica los anchos de silueta para 2, 3, 4, 5 y 6 segmentos.\n",
    "#    Presentar sus conclusiones. (2 puntos)\n",
    "\n",
    "x = data.iloc[:,[2, 3]].values\n",
    "y = data.iloc[:,-1].values\n",
    "\n",
    "data_X_scale = pd.DataFrame(StandardScaler().fit_transform(x))\n",
    "\n",
    "# 2 Segmentos\n",
    "kmeans_2 = KMeans(n_clusters=2)\n",
    "kmeans_2.fit_predict(x)\n",
    "silhouette_2 = silhouette_score(x, kmeans_2.labels_)\n",
    "silhouette_2"
   ]
  },
  {
   "cell_type": "code",
   "execution_count": 124,
   "metadata": {},
   "outputs": [
    {
     "data": {
      "text/plain": [
       "0.6021707228326366"
      ]
     },
     "execution_count": 124,
     "metadata": {},
     "output_type": "execute_result"
    }
   ],
   "source": [
    "# 3 Segmentos\n",
    "kmeans_3 = KMeans(n_clusters=3)\n",
    "kmeans_3.fit_predict(x)\n",
    "silhouette_3 = silhouette_score(x, kmeans_3.labels_)\n",
    "silhouette_3"
   ]
  },
  {
   "cell_type": "code",
   "execution_count": 125,
   "metadata": {},
   "outputs": [
    {
     "data": {
      "text/plain": [
       "0.6065989841357814"
      ]
     },
     "execution_count": 125,
     "metadata": {},
     "output_type": "execute_result"
    }
   ],
   "source": [
    "# 4 Segmentos\n",
    "kmeans_4 = KMeans(n_clusters=4)\n",
    "kmeans_4.fit_predict(x)\n",
    "silhouette_4 = silhouette_score(x, kmeans_4.labels_)\n",
    "silhouette_4"
   ]
  },
  {
   "cell_type": "code",
   "execution_count": 105,
   "metadata": {},
   "outputs": [
    {
     "data": {
      "text/plain": [
       "0.6102051324759187"
      ]
     },
     "execution_count": 105,
     "metadata": {},
     "output_type": "execute_result"
    }
   ],
   "source": [
    "# 5 Segmentos\n",
    "kmeans_5 = KMeans(n_clusters=5)\n",
    "kmeans_5.fit_predict(x)\n",
    "silhouette_5 = silhouette_score(x, kmeans_5.labels_)\n",
    "silhouette_5"
   ]
  },
  {
   "cell_type": "code",
   "execution_count": 106,
   "metadata": {},
   "outputs": [
    {
     "data": {
      "text/plain": [
       "0.5602333463727386"
      ]
     },
     "execution_count": 106,
     "metadata": {},
     "output_type": "execute_result"
    }
   ],
   "source": [
    "# 6 Segmentos\n",
    "kmeans_6 = KMeans(n_clusters=6)\n",
    "kmeans_6.fit_predict(x)\n",
    "silhouette_6 = silhouette_score(x, kmeans_6.labels_)\n",
    "silhouette_6"
   ]
  },
  {
   "cell_type": "code",
   "execution_count": 142,
   "metadata": {},
   "outputs": [
    {
     "data": {
      "image/png": "[encoded data removed]",
      "text/plain": [
       "<Figure size 576x396 with 1 Axes>"
      ]
     },
     "metadata": {},
     "output_type": "display_data"
    },
    {
     "data": {
      "text/plain": [
       "<AxesSubplot:title={'center':'Silhouette Plot of KMeans Clustering for 400 Samples in 2 Centers'}, xlabel='silhouette coefficient values', ylabel='cluster label'>"
      ]
     },
     "execution_count": 142,
     "metadata": {},
     "output_type": "execute_result"
    }
   ],
   "source": [
    "# 2 Segmentos\n",
    "model = SilhouetteVisualizer(kmeans_2.fit(data_X_scale))\n",
    "model.fit(data_X_scale)\n",
    "model.show()"
   ]
  },
  {
   "cell_type": "code",
   "execution_count": 143,
   "metadata": {},
   "outputs": [
    {
     "data": {
      "image/png": "[encoded data removed]",
      "text/plain": [
       "<Figure size 576x396 with 1 Axes>"
      ]
     },
     "metadata": {},
     "output_type": "display_data"
    },
    {
     "data": {
      "text/plain": [
       "<AxesSubplot:title={'center':'Silhouette Plot of KMeans Clustering for 400 Samples in 3 Centers'}, xlabel='silhouette coefficient values', ylabel='cluster label'>"
      ]
     },
     "execution_count": 143,
     "metadata": {},
     "output_type": "execute_result"
    }
   ],
   "source": [
    "# 3 Segmentos\n",
    "model = SilhouetteVisualizer(kmeans_3.fit(data_X_scale))\n",
    "model.fit(data_X_scale)\n",
    "model.show()"
   ]
  },
  {
   "cell_type": "code",
   "execution_count": 144,
   "metadata": {},
   "outputs": [
    {
     "data": {
      "image/png": "[encoded data removed]",
      "text/plain": [
       "<Figure size 576x396 with 1 Axes>"
      ]
     },
     "metadata": {},
     "output_type": "display_data"
    },
    {
     "data": {
      "text/plain": [
       "<AxesSubplot:title={'center':'Silhouette Plot of KMeans Clustering for 400 Samples in 4 Centers'}, xlabel='silhouette coefficient values', ylabel='cluster label'>"
      ]
     },
     "execution_count": 144,
     "metadata": {},
     "output_type": "execute_result"
    }
   ],
   "source": [
    "# 4 Segmentos\n",
    "model = SilhouetteVisualizer(kmeans_4.fit(data_X_scale))\n",
    "model.fit(data_X_scale)\n",
    "model.show()"
   ]
  },
  {
   "cell_type": "code",
   "execution_count": 145,
   "metadata": {},
   "outputs": [
    {
     "data": {
      "image/png": "[encoded data removed]",
      "text/plain": [
       "<Figure size 576x396 with 1 Axes>"
      ]
     },
     "metadata": {},
     "output_type": "display_data"
    },
    {
     "data": {
      "text/plain": [
       "<AxesSubplot:title={'center':'Silhouette Plot of KMeans Clustering for 400 Samples in 5 Centers'}, xlabel='silhouette coefficient values', ylabel='cluster label'>"
      ]
     },
     "execution_count": 145,
     "metadata": {},
     "output_type": "execute_result"
    }
   ],
   "source": [
    "# 5 Segmentos\n",
    "model = SilhouetteVisualizer(kmeans_5.fit(data_X_scale))\n",
    "model.fit(data_X_scale)\n",
    "model.show()"
   ]
  },
  {
   "cell_type": "code",
   "execution_count": 146,
   "metadata": {},
   "outputs": [
    {
     "data": {
      "image/png": "[encoded data removed]",
      "text/plain": [
       "<Figure size 576x396 with 1 Axes>"
      ]
     },
     "metadata": {},
     "output_type": "display_data"
    },
    {
     "data": {
      "text/plain": [
       "<AxesSubplot:title={'center':'Silhouette Plot of KMeans Clustering for 400 Samples in 6 Centers'}, xlabel='silhouette coefficient values', ylabel='cluster label'>"
      ]
     },
     "execution_count": 146,
     "metadata": {},
     "output_type": "execute_result"
    }
   ],
   "source": [
    "# 6 Segmentos\n",
    "model = SilhouetteVisualizer(kmeans_6.fit(data_X_scale))\n",
    "model.fit(data_X_scale)\n",
    "model.show()"
   ]
  },
  {
   "cell_type": "code",
   "execution_count": 64,
   "metadata": {},
   "outputs": [],
   "source": [
    "# CONCLUCIONES\n",
    "\n",
    "# Como se puede observar el mejor ancho de silueta se obtiene utilizando 5 clusters, con un resultado de aproximadamente 0.61.\n",
    "# Adicionalmente, el resto de segmentos es viable debido a que no se aproxima mucho a 0 por lo que asumimos que\n",
    "# los agrupamientos no se sobreponen"
   ]
  },
  {
   "cell_type": "code",
   "execution_count": 65,
   "metadata": {},
   "outputs": [
    {
     "name": "stdout",
     "output_type": "stream",
     "text": [
      "Fitting 5 folds for each of 16 candidates, totalling 80 fits\n",
      "[CV] C=0.1, gamma=1, kernel=rbf ......................................\n",
      "[CV] ....................... C=0.1, gamma=1, kernel=rbf, total=   0.0s\n",
      "[CV] C=0.1, gamma=1, kernel=rbf ......................................\n",
      "[CV] ....................... C=0.1, gamma=1, kernel=rbf, total=   0.0s\n",
      "[CV] C=0.1, gamma=1, kernel=rbf ......................................\n",
      "[CV] ....................... C=0.1, gamma=1, kernel=rbf, total=   0.0s\n",
      "[CV] C=0.1, gamma=1, kernel=rbf ......................................\n",
      "[CV] ....................... C=0.1, gamma=1, kernel=rbf, total=   0.0s\n",
      "[CV] C=0.1, gamma=1, kernel=rbf ......................................\n",
      "[CV] ....................... C=0.1, gamma=1, kernel=rbf, total=   0.0s\n",
      "[CV] C=0.1, gamma=0.1, kernel=rbf ....................................\n",
      "[CV] ..................... C=0.1, gamma=0.1, kernel=rbf, total=   0.0s\n",
      "[CV] C=0.1, gamma=0.1, kernel=rbf ....................................\n",
      "[CV] ..................... C=0.1, gamma=0.1, kernel=rbf, total=   0.0s\n",
      "[CV] C=0.1, gamma=0.1, kernel=rbf ....................................\n",
      "[CV] ..................... C=0.1, gamma=0.1, kernel=rbf, total=   0.0s\n",
      "[CV] C=0.1, gamma=0.1, kernel=rbf ....................................\n",
      "[CV] ..................... C=0.1, gamma=0.1, kernel=rbf, total=   0.0s\n",
      "[CV] C=0.1, gamma=0.1, kernel=rbf ....................................\n",
      "[CV] ..................... C=0.1, gamma=0.1, kernel=rbf, total=   0.0s\n",
      "[CV] C=0.1, gamma=0.01, kernel=rbf ...................................\n",
      "[CV] .................... C=0.1, gamma=0.01, kernel=rbf, total=   0.0s\n",
      "[CV] C=0.1, gamma=0.01, kernel=rbf ...................................\n",
      "[CV] .................... C=0.1, gamma=0.01, kernel=rbf, total=   0.0s\n",
      "[CV] C=0.1, gamma=0.01, kernel=rbf ...................................\n",
      "[CV] .................... C=0.1, gamma=0.01, kernel=rbf, total=   0.0s\n",
      "[CV] C=0.1, gamma=0.01, kernel=rbf ...................................\n",
      "[CV] .................... C=0.1, gamma=0.01, kernel=rbf, total=   0.0s\n",
      "[CV] C=0.1, gamma=0.01, kernel=rbf ...................................\n",
      "[CV] .................... C=0.1, gamma=0.01, kernel=rbf, total=   0.0s\n",
      "[CV] C=0.1, gamma=0.001, kernel=rbf ..................................\n",
      "[CV] ................... C=0.1, gamma=0.001, kernel=rbf, total=   0.0s\n",
      "[CV] C=0.1, gamma=0.001, kernel=rbf ..................................\n",
      "[CV] ................... C=0.1, gamma=0.001, kernel=rbf, total=   0.0s\n",
      "[CV] C=0.1, gamma=0.001, kernel=rbf ..................................\n",
      "[CV] ................... C=0.1, gamma=0.001, kernel=rbf, total=   0.0s\n",
      "[CV] C=0.1, gamma=0.001, kernel=rbf ..................................\n",
      "[CV] ................... C=0.1, gamma=0.001, kernel=rbf, total=   0.0s\n",
      "[CV] C=0.1, gamma=0.001, kernel=rbf ..................................\n",
      "[CV] ................... C=0.1, gamma=0.001, kernel=rbf, total=   0.0s\n",
      "[CV] C=1, gamma=1, kernel=rbf ........................................\n",
      "[CV] ......................... C=1, gamma=1, kernel=rbf, total=   0.0s\n",
      "[CV] C=1, gamma=1, kernel=rbf ........................................\n",
      "[CV] ......................... C=1, gamma=1, kernel=rbf, total=   0.0s\n",
      "[CV] C=1, gamma=1, kernel=rbf ........................................\n",
      "[CV] ......................... C=1, gamma=1, kernel=rbf, total=   0.0s\n",
      "[CV] C=1, gamma=1, kernel=rbf ........................................\n",
      "[CV] ......................... C=1, gamma=1, kernel=rbf, total=   0.0s\n",
      "[CV] C=1, gamma=1, kernel=rbf ........................................\n",
      "[CV] ......................... C=1, gamma=1, kernel=rbf, total=   0.0s\n",
      "[CV] C=1, gamma=0.1, kernel=rbf ......................................\n",
      "[CV] ....................... C=1, gamma=0.1, kernel=rbf, total=   0.0s\n",
      "[CV] C=1, gamma=0.1, kernel=rbf ......................................\n",
      "[CV] ....................... C=1, gamma=0.1, kernel=rbf, total=   0.0s\n",
      "[CV] C=1, gamma=0.1, kernel=rbf ......................................\n",
      "[CV] ....................... C=1, gamma=0.1, kernel=rbf, total=   0.0s\n",
      "[CV] C=1, gamma=0.1, kernel=rbf ......................................\n",
      "[CV] ....................... C=1, gamma=0.1, kernel=rbf, total=   0.0s\n",
      "[CV] C=1, gamma=0.1, kernel=rbf ......................................\n",
      "[CV] ....................... C=1, gamma=0.1, kernel=rbf, total=   0.0s\n",
      "[CV] C=1, gamma=0.01, kernel=rbf .....................................\n",
      "[CV] ...................... C=1, gamma=0.01, kernel=rbf, total=   0.0s\n",
      "[CV] C=1, gamma=0.01, kernel=rbf .....................................\n",
      "[CV] ...................... C=1, gamma=0.01, kernel=rbf, total=   0.0s\n",
      "[CV] C=1, gamma=0.01, kernel=rbf .....................................\n",
      "[CV] ...................... C=1, gamma=0.01, kernel=rbf, total=   0.0s\n",
      "[CV] C=1, gamma=0.01, kernel=rbf .....................................\n",
      "[CV] ...................... C=1, gamma=0.01, kernel=rbf, total=   0.0s\n",
      "[CV] C=1, gamma=0.01, kernel=rbf .....................................\n",
      "[CV] ...................... C=1, gamma=0.01, kernel=rbf, total=   0.0s\n",
      "[CV] C=1, gamma=0.001, kernel=rbf ....................................\n",
      "[CV] ..................... C=1, gamma=0.001, kernel=rbf, total=   0.0s\n",
      "[CV] C=1, gamma=0.001, kernel=rbf ....................................\n"
     ]
    },
    {
     "name": "stderr",
     "output_type": "stream",
     "text": [
      "[Parallel(n_jobs=1)]: Using backend SequentialBackend with 1 concurrent workers.\n",
      "[Parallel(n_jobs=1)]: Done   1 out of   1 | elapsed:    0.0s remaining:    0.0s\n"
     ]
    },
    {
     "name": "stdout",
     "output_type": "stream",
     "text": [
      "[CV] ..................... C=1, gamma=0.001, kernel=rbf, total=   0.0s\n",
      "[CV] C=1, gamma=0.001, kernel=rbf ....................................\n",
      "[CV] ..................... C=1, gamma=0.001, kernel=rbf, total=   0.0s\n",
      "[CV] C=1, gamma=0.001, kernel=rbf ....................................\n",
      "[CV] ..................... C=1, gamma=0.001, kernel=rbf, total=   0.0s\n",
      "[CV] C=1, gamma=0.001, kernel=rbf ....................................\n",
      "[CV] ..................... C=1, gamma=0.001, kernel=rbf, total=   0.0s\n",
      "[CV] C=10, gamma=1, kernel=rbf .......................................\n",
      "[CV] ........................ C=10, gamma=1, kernel=rbf, total=   0.0s\n",
      "[CV] C=10, gamma=1, kernel=rbf .......................................\n",
      "[CV] ........................ C=10, gamma=1, kernel=rbf, total=   0.0s\n",
      "[CV] C=10, gamma=1, kernel=rbf .......................................\n",
      "[CV] ........................ C=10, gamma=1, kernel=rbf, total=   0.0s\n",
      "[CV] C=10, gamma=1, kernel=rbf .......................................\n",
      "[CV] ........................ C=10, gamma=1, kernel=rbf, total=   0.0s\n",
      "[CV] C=10, gamma=1, kernel=rbf .......................................\n",
      "[CV] ........................ C=10, gamma=1, kernel=rbf, total=   0.0s\n",
      "[CV] C=10, gamma=0.1, kernel=rbf .....................................\n",
      "[CV] ...................... C=10, gamma=0.1, kernel=rbf, total=   0.0s\n",
      "[CV] C=10, gamma=0.1, kernel=rbf .....................................\n",
      "[CV] ...................... C=10, gamma=0.1, kernel=rbf, total=   0.0s\n",
      "[CV] C=10, gamma=0.1, kernel=rbf .....................................\n",
      "[CV] ...................... C=10, gamma=0.1, kernel=rbf, total=   0.0s\n",
      "[CV] C=10, gamma=0.1, kernel=rbf .....................................\n",
      "[CV] ...................... C=10, gamma=0.1, kernel=rbf, total=   0.0s\n",
      "[CV] C=10, gamma=0.1, kernel=rbf .....................................\n",
      "[CV] ...................... C=10, gamma=0.1, kernel=rbf, total=   0.0s\n",
      "[CV] C=10, gamma=0.01, kernel=rbf ....................................\n",
      "[CV] ..................... C=10, gamma=0.01, kernel=rbf, total=   0.0s\n",
      "[CV] C=10, gamma=0.01, kernel=rbf ....................................\n",
      "[CV] ..................... C=10, gamma=0.01, kernel=rbf, total=   0.0s\n",
      "[CV] C=10, gamma=0.01, kernel=rbf ....................................\n",
      "[CV] ..................... C=10, gamma=0.01, kernel=rbf, total=   0.0s\n",
      "[CV] C=10, gamma=0.01, kernel=rbf ....................................\n",
      "[CV] ..................... C=10, gamma=0.01, kernel=rbf, total=   0.0s\n",
      "[CV] C=10, gamma=0.01, kernel=rbf ....................................\n",
      "[CV] ..................... C=10, gamma=0.01, kernel=rbf, total=   0.0s\n",
      "[CV] C=10, gamma=0.001, kernel=rbf ...................................\n",
      "[CV] .................... C=10, gamma=0.001, kernel=rbf, total=   0.0s\n",
      "[CV] C=10, gamma=0.001, kernel=rbf ...................................\n",
      "[CV] .................... C=10, gamma=0.001, kernel=rbf, total=   0.0s\n",
      "[CV] C=10, gamma=0.001, kernel=rbf ...................................\n",
      "[CV] .................... C=10, gamma=0.001, kernel=rbf, total=   0.0s\n",
      "[CV] C=10, gamma=0.001, kernel=rbf ...................................\n",
      "[CV] .................... C=10, gamma=0.001, kernel=rbf, total=   0.0s\n",
      "[CV] C=10, gamma=0.001, kernel=rbf ...................................\n",
      "[CV] .................... C=10, gamma=0.001, kernel=rbf, total=   0.0s\n",
      "[CV] C=100, gamma=1, kernel=rbf ......................................\n",
      "[CV] ....................... C=100, gamma=1, kernel=rbf, total=   0.0s\n",
      "[CV] C=100, gamma=1, kernel=rbf ......................................\n",
      "[CV] ....................... C=100, gamma=1, kernel=rbf, total=   0.0s\n",
      "[CV] C=100, gamma=1, kernel=rbf ......................................\n",
      "[CV] ....................... C=100, gamma=1, kernel=rbf, total=   0.0s\n",
      "[CV] C=100, gamma=1, kernel=rbf ......................................\n",
      "[CV] ....................... C=100, gamma=1, kernel=rbf, total=   0.0s\n",
      "[CV] C=100, gamma=1, kernel=rbf ......................................\n",
      "[CV] ....................... C=100, gamma=1, kernel=rbf, total=   0.0s\n",
      "[CV] C=100, gamma=0.1, kernel=rbf ....................................\n",
      "[CV] ..................... C=100, gamma=0.1, kernel=rbf, total=   0.0s\n",
      "[CV] C=100, gamma=0.1, kernel=rbf ....................................\n",
      "[CV] ..................... C=100, gamma=0.1, kernel=rbf, total=   0.0s\n",
      "[CV] C=100, gamma=0.1, kernel=rbf ....................................\n",
      "[CV] ..................... C=100, gamma=0.1, kernel=rbf, total=   0.0s\n",
      "[CV] C=100, gamma=0.1, kernel=rbf ....................................\n",
      "[CV] ..................... C=100, gamma=0.1, kernel=rbf, total=   0.0s\n",
      "[CV] C=100, gamma=0.1, kernel=rbf ....................................\n",
      "[CV] ..................... C=100, gamma=0.1, kernel=rbf, total=   0.0s\n",
      "[CV] C=100, gamma=0.01, kernel=rbf ...................................\n",
      "[CV] .................... C=100, gamma=0.01, kernel=rbf, total=   0.0s\n",
      "[CV] C=100, gamma=0.01, kernel=rbf ...................................\n",
      "[CV] .................... C=100, gamma=0.01, kernel=rbf, total=   0.0s\n",
      "[CV] C=100, gamma=0.01, kernel=rbf ...................................\n",
      "[CV] .................... C=100, gamma=0.01, kernel=rbf, total=   0.0s\n",
      "[CV] C=100, gamma=0.01, kernel=rbf ...................................\n",
      "[CV] .................... C=100, gamma=0.01, kernel=rbf, total=   0.0s\n",
      "[CV] C=100, gamma=0.01, kernel=rbf ...................................\n",
      "[CV] .................... C=100, gamma=0.01, kernel=rbf, total=   0.0s\n",
      "[CV] C=100, gamma=0.001, kernel=rbf ..................................\n",
      "[CV] ................... C=100, gamma=0.001, kernel=rbf, total=   0.0s\n",
      "[CV] C=100, gamma=0.001, kernel=rbf ..................................\n",
      "[CV] ................... C=100, gamma=0.001, kernel=rbf, total=   0.0s\n",
      "[CV] C=100, gamma=0.001, kernel=rbf ..................................\n",
      "[CV] ................... C=100, gamma=0.001, kernel=rbf, total=   0.0s\n",
      "[CV] C=100, gamma=0.001, kernel=rbf ..................................\n",
      "[CV] ................... C=100, gamma=0.001, kernel=rbf, total=   0.0s\n",
      "[CV] C=100, gamma=0.001, kernel=rbf ..................................\n",
      "[CV] ................... C=100, gamma=0.001, kernel=rbf, total=   0.0s\n"
     ]
    },
    {
     "name": "stderr",
     "output_type": "stream",
     "text": [
      "[Parallel(n_jobs=1)]: Done  80 out of  80 | elapsed:    0.3s finished\n"
     ]
    },
    {
     "data": {
      "text/plain": [
       "GridSearchCV(cv=5, estimator=SVC(),\n",
       "             param_grid={'C': [0.1, 1, 10, 100], 'gamma': [1, 0.1, 0.01, 0.001],\n",
       "                         'kernel': ['rbf']},\n",
       "             verbose=2)"
      ]
     },
     "execution_count": 65,
     "metadata": {},
     "output_type": "execute_result"
    }
   ],
   "source": [
    "# 2. Haciendo uso de los modelos de SVM, Random Forest y Boosting, presentar un análisis comparativo usando\n",
    "#    las matrices de clasificación y AUC. Presentar sus conclusiones. (4 puntos)\n",
    "\n",
    "\n",
    "X_train, X_test, y_train, y_test = train_test_split(x, y, test_size = 0.20, random_state = 0)\n",
    "\n",
    "# SVN\n",
    "param_grid = {'C': [0.1,1,10,100], 'gamma': [1,0.1,0.01,0.001],'kernel': ['rbf']}\n",
    "grid = GridSearchCV(SVC(),param_grid,refit=True,verbose=2,cv=5)\n",
    "grid.fit(X_train,y_train)"
   ]
  },
  {
   "cell_type": "code",
   "execution_count": 66,
   "metadata": {},
   "outputs": [
    {
     "name": "stdout",
     "output_type": "stream",
     "text": [
      "SVC(C=10, gamma=0.01)\n"
     ]
    }
   ],
   "source": [
    "print(grid.best_estimator_)"
   ]
  },
  {
   "cell_type": "code",
   "execution_count": 88,
   "metadata": {},
   "outputs": [
    {
     "data": {
      "text/plain": [
       "array([[53,  5],\n",
       "       [ 9, 13]], dtype=int64)"
      ]
     },
     "execution_count": 88,
     "metadata": {},
     "output_type": "execute_result"
    }
   ],
   "source": [
    "classifier_SVN = SVC(kernel='rbf',C = 10,gamma = 0.01,probability=True).fit(X_train, y_train)\n",
    "y_pred_SVN = classifier_SVN.predict(X_test)\n",
    "confusion_matrix(y_test, y_pred_SVN)"
   ]
  },
  {
   "cell_type": "code",
   "execution_count": 72,
   "metadata": {},
   "outputs": [
    {
     "name": "stdout",
     "output_type": "stream",
     "text": [
      "Confusion matrix, without normalization\n",
      "[[53  5]\n",
      " [ 9 13]]\n",
      "Normalized confusion matrix\n",
      "[[0.9137931  0.0862069 ]\n",
      " [0.40909091 0.59090909]]\n"
     ]
    },
    {
     "data": {
      "image/png": "[encoded data removed]",
      "text/plain": [
       "<Figure size 576x396 with 2 Axes>"
      ]
     },
     "metadata": {},
     "output_type": "display_data"
    },
    {
     "data": {
      "image/png": "[encoded data removed]",
      "text/plain": [
       "<Figure size 576x396 with 2 Axes>"
      ]
     },
     "metadata": {},
     "output_type": "display_data"
    }
   ],
   "source": [
    "# Plot non-normalized confusion matrix\n",
    "titles_options = [(\"Confusion matrix, without normalization\", None),\n",
    "                  (\"Normalized confusion matrix\", 'true')]\n",
    "for title, normalize in titles_options:\n",
    "    disp = plot_confusion_matrix(classifier_SVN, X_test, y_test,\n",
    "                                 #display_labels=y_test,\n",
    "                                 cmap=plt.cm.Blues,\n",
    "                                 normalize=normalize)\n",
    "    disp.ax_.set_title(title)\n",
    "\n",
    "    print(title)\n",
    "    print(disp.confusion_matrix)\n",
    "\n",
    "plt.show()"
   ]
  },
  {
   "cell_type": "code",
   "execution_count": 73,
   "metadata": {},
   "outputs": [
    {
     "data": {
      "text/plain": [
       "0.7993730407523513"
      ]
     },
     "execution_count": 73,
     "metadata": {},
     "output_type": "execute_result"
    }
   ],
   "source": [
    "y_pred_prob_SVN = classifier_SVN.predict_proba(X_test)\n",
    "false_positive_rate_SVN, true_positive_rate_SVN, thresholds = roc_curve(y_test, y_pred_prob_SVN[:,1])\n",
    "roc_auc_SVN = auc(false_positive_rate_SVN, true_positive_rate_SVN)\n",
    "roc_auc_SVN"
   ]
  },
  {
   "cell_type": "code",
   "execution_count": 74,
   "metadata": {},
   "outputs": [
    {
     "data": {
      "image/png": "[encoded data removed]",
      "text/plain": [
       "<Figure size 576x396 with 1 Axes>"
      ]
     },
     "metadata": {},
     "output_type": "display_data"
    }
   ],
   "source": [
    "plt.title('Receiver Operating Characteristic')\n",
    "plt.plot(false_positive_rate_SVN,true_positive_rate_SVN, color='red',label = 'AUC = %0.2f' % roc_auc_SVN)\n",
    "plt.legend(loc = 'lower right')\n",
    "plt.plot([0, 1], [0, 1],linestyle='--')\n",
    "plt.axis('tight')\n",
    "plt.ylabel('True Positive Rate')\n",
    "plt.xlabel('False Positive Rate')\n",
    "plt.show()"
   ]
  },
  {
   "cell_type": "code",
   "execution_count": 75,
   "metadata": {},
   "outputs": [
    {
     "name": "stdout",
     "output_type": "stream",
     "text": [
      "Fitting 5 folds for each of 54 candidates, totalling 270 fits\n",
      "[CV] max_depth=2, max_features=auto, n_estimators=200 ................\n",
      "[CV] . max_depth=2, max_features=auto, n_estimators=200, total=   0.2s\n",
      "[CV] max_depth=2, max_features=auto, n_estimators=200 ................\n"
     ]
    },
    {
     "name": "stderr",
     "output_type": "stream",
     "text": [
      "[Parallel(n_jobs=1)]: Using backend SequentialBackend with 1 concurrent workers.\n",
      "[Parallel(n_jobs=1)]: Done   1 out of   1 | elapsed:    0.1s remaining:    0.0s\n"
     ]
    },
    {
     "name": "stdout",
     "output_type": "stream",
     "text": [
      "[CV] . max_depth=2, max_features=auto, n_estimators=200, total=   0.2s\n",
      "[CV] max_depth=2, max_features=auto, n_estimators=200 ................\n",
      "[CV] . max_depth=2, max_features=auto, n_estimators=200, total=   0.2s\n",
      "[CV] max_depth=2, max_features=auto, n_estimators=200 ................\n",
      "[CV] . max_depth=2, max_features=auto, n_estimators=200, total=   0.2s\n",
      "[CV] max_depth=2, max_features=auto, n_estimators=200 ................\n",
      "[CV] . max_depth=2, max_features=auto, n_estimators=200, total=   0.2s\n",
      "[CV] max_depth=2, max_features=auto, n_estimators=700 ................\n",
      "[CV] . max_depth=2, max_features=auto, n_estimators=700, total=   0.7s\n",
      "[CV] max_depth=2, max_features=auto, n_estimators=700 ................\n",
      "[CV] . max_depth=2, max_features=auto, n_estimators=700, total=   0.7s\n",
      "[CV] max_depth=2, max_features=auto, n_estimators=700 ................\n",
      "[CV] . max_depth=2, max_features=auto, n_estimators=700, total=   0.7s\n",
      "[CV] max_depth=2, max_features=auto, n_estimators=700 ................\n",
      "[CV] . max_depth=2, max_features=auto, n_estimators=700, total=   0.7s\n",
      "[CV] max_depth=2, max_features=auto, n_estimators=700 ................\n",
      "[CV] . max_depth=2, max_features=auto, n_estimators=700, total=   0.7s\n",
      "[CV] max_depth=2, max_features=sqrt, n_estimators=200 ................\n",
      "[CV] . max_depth=2, max_features=sqrt, n_estimators=200, total=   0.2s\n",
      "[CV] max_depth=2, max_features=sqrt, n_estimators=200 ................\n",
      "[CV] . max_depth=2, max_features=sqrt, n_estimators=200, total=   0.2s\n",
      "[CV] max_depth=2, max_features=sqrt, n_estimators=200 ................\n",
      "[CV] . max_depth=2, max_features=sqrt, n_estimators=200, total=   0.2s\n",
      "[CV] max_depth=2, max_features=sqrt, n_estimators=200 ................\n",
      "[CV] . max_depth=2, max_features=sqrt, n_estimators=200, total=   0.2s\n",
      "[CV] max_depth=2, max_features=sqrt, n_estimators=200 ................\n",
      "[CV] . max_depth=2, max_features=sqrt, n_estimators=200, total=   0.2s\n",
      "[CV] max_depth=2, max_features=sqrt, n_estimators=700 ................\n",
      "[CV] . max_depth=2, max_features=sqrt, n_estimators=700, total=   0.7s\n",
      "[CV] max_depth=2, max_features=sqrt, n_estimators=700 ................\n",
      "[CV] . max_depth=2, max_features=sqrt, n_estimators=700, total=   0.8s\n",
      "[CV] max_depth=2, max_features=sqrt, n_estimators=700 ................\n",
      "[CV] . max_depth=2, max_features=sqrt, n_estimators=700, total=   0.7s\n",
      "[CV] max_depth=2, max_features=sqrt, n_estimators=700 ................\n",
      "[CV] . max_depth=2, max_features=sqrt, n_estimators=700, total=   0.7s\n",
      "[CV] max_depth=2, max_features=sqrt, n_estimators=700 ................\n",
      "[CV] . max_depth=2, max_features=sqrt, n_estimators=700, total=   0.7s\n",
      "[CV] max_depth=2, max_features=log2, n_estimators=200 ................\n",
      "[CV] . max_depth=2, max_features=log2, n_estimators=200, total=   0.2s\n",
      "[CV] max_depth=2, max_features=log2, n_estimators=200 ................\n",
      "[CV] . max_depth=2, max_features=log2, n_estimators=200, total=   0.2s\n",
      "[CV] max_depth=2, max_features=log2, n_estimators=200 ................\n",
      "[CV] . max_depth=2, max_features=log2, n_estimators=200, total=   0.2s\n",
      "[CV] max_depth=2, max_features=log2, n_estimators=200 ................\n",
      "[CV] . max_depth=2, max_features=log2, n_estimators=200, total=   0.2s\n",
      "[CV] max_depth=2, max_features=log2, n_estimators=200 ................\n",
      "[CV] . max_depth=2, max_features=log2, n_estimators=200, total=   0.2s\n",
      "[CV] max_depth=2, max_features=log2, n_estimators=700 ................\n",
      "[CV] . max_depth=2, max_features=log2, n_estimators=700, total=   0.7s\n",
      "[CV] max_depth=2, max_features=log2, n_estimators=700 ................\n",
      "[CV] . max_depth=2, max_features=log2, n_estimators=700, total=   0.7s\n",
      "[CV] max_depth=2, max_features=log2, n_estimators=700 ................\n",
      "[CV] . max_depth=2, max_features=log2, n_estimators=700, total=   0.7s\n",
      "[CV] max_depth=2, max_features=log2, n_estimators=700 ................\n",
      "[CV] . max_depth=2, max_features=log2, n_estimators=700, total=   0.7s\n",
      "[CV] max_depth=2, max_features=log2, n_estimators=700 ................\n",
      "[CV] . max_depth=2, max_features=log2, n_estimators=700, total=   0.7s\n",
      "[CV] max_depth=3, max_features=auto, n_estimators=200 ................\n",
      "[CV] . max_depth=3, max_features=auto, n_estimators=200, total=   0.2s\n",
      "[CV] max_depth=3, max_features=auto, n_estimators=200 ................\n",
      "[CV] . max_depth=3, max_features=auto, n_estimators=200, total=   0.2s\n",
      "[CV] max_depth=3, max_features=auto, n_estimators=200 ................\n",
      "[CV] . max_depth=3, max_features=auto, n_estimators=200, total=   0.2s\n",
      "[CV] max_depth=3, max_features=auto, n_estimators=200 ................\n",
      "[CV] . max_depth=3, max_features=auto, n_estimators=200, total=   0.2s\n",
      "[CV] max_depth=3, max_features=auto, n_estimators=200 ................\n",
      "[CV] . max_depth=3, max_features=auto, n_estimators=200, total=   0.2s\n",
      "[CV] max_depth=3, max_features=auto, n_estimators=700 ................\n",
      "[CV] . max_depth=3, max_features=auto, n_estimators=700, total=   0.7s\n",
      "[CV] max_depth=3, max_features=auto, n_estimators=700 ................\n",
      "[CV] . max_depth=3, max_features=auto, n_estimators=700, total=   0.7s\n",
      "[CV] max_depth=3, max_features=auto, n_estimators=700 ................\n",
      "[CV] . max_depth=3, max_features=auto, n_estimators=700, total=   0.7s\n",
      "[CV] max_depth=3, max_features=auto, n_estimators=700 ................\n",
      "[CV] . max_depth=3, max_features=auto, n_estimators=700, total=   0.7s\n",
      "[CV] max_depth=3, max_features=auto, n_estimators=700 ................\n",
      "[CV] . max_depth=3, max_features=auto, n_estimators=700, total=   0.7s\n",
      "[CV] max_depth=3, max_features=sqrt, n_estimators=200 ................\n",
      "[CV] . max_depth=3, max_features=sqrt, n_estimators=200, total=   0.2s\n",
      "[CV] max_depth=3, max_features=sqrt, n_estimators=200 ................\n",
      "[CV] . max_depth=3, max_features=sqrt, n_estimators=200, total=   0.2s\n",
      "[CV] max_depth=3, max_features=sqrt, n_estimators=200 ................\n",
      "[CV] . max_depth=3, max_features=sqrt, n_estimators=200, total=   0.2s\n",
      "[CV] max_depth=3, max_features=sqrt, n_estimators=200 ................\n",
      "[CV] . max_depth=3, max_features=sqrt, n_estimators=200, total=   0.2s\n",
      "[CV] max_depth=3, max_features=sqrt, n_estimators=200 ................\n",
      "[CV] . max_depth=3, max_features=sqrt, n_estimators=200, total=   0.2s\n",
      "[CV] max_depth=3, max_features=sqrt, n_estimators=700 ................\n",
      "[CV] . max_depth=3, max_features=sqrt, n_estimators=700, total=   0.7s\n",
      "[CV] max_depth=3, max_features=sqrt, n_estimators=700 ................\n",
      "[CV] . max_depth=3, max_features=sqrt, n_estimators=700, total=   0.7s\n",
      "[CV] max_depth=3, max_features=sqrt, n_estimators=700 ................\n",
      "[CV] . max_depth=3, max_features=sqrt, n_estimators=700, total=   0.7s\n",
      "[CV] max_depth=3, max_features=sqrt, n_estimators=700 ................\n",
      "[CV] . max_depth=3, max_features=sqrt, n_estimators=700, total=   0.7s\n",
      "[CV] max_depth=3, max_features=sqrt, n_estimators=700 ................\n",
      "[CV] . max_depth=3, max_features=sqrt, n_estimators=700, total=   0.7s\n",
      "[CV] max_depth=3, max_features=log2, n_estimators=200 ................\n",
      "[CV] . max_depth=3, max_features=log2, n_estimators=200, total=   0.2s\n",
      "[CV] max_depth=3, max_features=log2, n_estimators=200 ................\n",
      "[CV] . max_depth=3, max_features=log2, n_estimators=200, total=   0.2s\n",
      "[CV] max_depth=3, max_features=log2, n_estimators=200 ................\n",
      "[CV] . max_depth=3, max_features=log2, n_estimators=200, total=   0.2s\n",
      "[CV] max_depth=3, max_features=log2, n_estimators=200 ................\n",
      "[CV] . max_depth=3, max_features=log2, n_estimators=200, total=   0.2s\n",
      "[CV] max_depth=3, max_features=log2, n_estimators=200 ................\n",
      "[CV] . max_depth=3, max_features=log2, n_estimators=200, total=   0.2s\n",
      "[CV] max_depth=3, max_features=log2, n_estimators=700 ................\n",
      "[CV] . max_depth=3, max_features=log2, n_estimators=700, total=   0.7s\n",
      "[CV] max_depth=3, max_features=log2, n_estimators=700 ................\n",
      "[CV] . max_depth=3, max_features=log2, n_estimators=700, total=   0.7s\n",
      "[CV] max_depth=3, max_features=log2, n_estimators=700 ................\n",
      "[CV] . max_depth=3, max_features=log2, n_estimators=700, total=   0.7s\n",
      "[CV] max_depth=3, max_features=log2, n_estimators=700 ................\n",
      "[CV] . max_depth=3, max_features=log2, n_estimators=700, total=   0.7s\n",
      "[CV] max_depth=3, max_features=log2, n_estimators=700 ................\n"
     ]
    },
    {
     "name": "stdout",
     "output_type": "stream",
     "text": [
      "[CV] . max_depth=3, max_features=log2, n_estimators=700, total=   0.7s\n",
      "[CV] max_depth=4, max_features=auto, n_estimators=200 ................\n",
      "[CV] . max_depth=4, max_features=auto, n_estimators=200, total=   0.2s\n",
      "[CV] max_depth=4, max_features=auto, n_estimators=200 ................\n",
      "[CV] . max_depth=4, max_features=auto, n_estimators=200, total=   0.2s\n",
      "[CV] max_depth=4, max_features=auto, n_estimators=200 ................\n",
      "[CV] . max_depth=4, max_features=auto, n_estimators=200, total=   0.2s\n",
      "[CV] max_depth=4, max_features=auto, n_estimators=200 ................\n",
      "[CV] . max_depth=4, max_features=auto, n_estimators=200, total=   0.2s\n",
      "[CV] max_depth=4, max_features=auto, n_estimators=200 ................\n",
      "[CV] . max_depth=4, max_features=auto, n_estimators=200, total=   0.2s\n",
      "[CV] max_depth=4, max_features=auto, n_estimators=700 ................\n",
      "[CV] . max_depth=4, max_features=auto, n_estimators=700, total=   0.7s\n",
      "[CV] max_depth=4, max_features=auto, n_estimators=700 ................\n",
      "[CV] . max_depth=4, max_features=auto, n_estimators=700, total=   0.7s\n",
      "[CV] max_depth=4, max_features=auto, n_estimators=700 ................\n",
      "[CV] . max_depth=4, max_features=auto, n_estimators=700, total=   0.7s\n",
      "[CV] max_depth=4, max_features=auto, n_estimators=700 ................\n",
      "[CV] . max_depth=4, max_features=auto, n_estimators=700, total=   0.7s\n",
      "[CV] max_depth=4, max_features=auto, n_estimators=700 ................\n",
      "[CV] . max_depth=4, max_features=auto, n_estimators=700, total=   0.7s\n",
      "[CV] max_depth=4, max_features=sqrt, n_estimators=200 ................\n",
      "[CV] . max_depth=4, max_features=sqrt, n_estimators=200, total=   0.2s\n",
      "[CV] max_depth=4, max_features=sqrt, n_estimators=200 ................\n",
      "[CV] . max_depth=4, max_features=sqrt, n_estimators=200, total=   0.2s\n",
      "[CV] max_depth=4, max_features=sqrt, n_estimators=200 ................\n",
      "[CV] . max_depth=4, max_features=sqrt, n_estimators=200, total=   0.2s\n",
      "[CV] max_depth=4, max_features=sqrt, n_estimators=200 ................\n",
      "[CV] . max_depth=4, max_features=sqrt, n_estimators=200, total=   0.2s\n",
      "[CV] max_depth=4, max_features=sqrt, n_estimators=200 ................\n",
      "[CV] . max_depth=4, max_features=sqrt, n_estimators=200, total=   0.2s\n",
      "[CV] max_depth=4, max_features=sqrt, n_estimators=700 ................\n",
      "[CV] . max_depth=4, max_features=sqrt, n_estimators=700, total=   0.7s\n",
      "[CV] max_depth=4, max_features=sqrt, n_estimators=700 ................\n",
      "[CV] . max_depth=4, max_features=sqrt, n_estimators=700, total=   0.7s\n",
      "[CV] max_depth=4, max_features=sqrt, n_estimators=700 ................\n",
      "[CV] . max_depth=4, max_features=sqrt, n_estimators=700, total=   0.7s\n",
      "[CV] max_depth=4, max_features=sqrt, n_estimators=700 ................\n",
      "[CV] . max_depth=4, max_features=sqrt, n_estimators=700, total=   0.7s\n",
      "[CV] max_depth=4, max_features=sqrt, n_estimators=700 ................\n",
      "[CV] . max_depth=4, max_features=sqrt, n_estimators=700, total=   0.7s\n",
      "[CV] max_depth=4, max_features=log2, n_estimators=200 ................\n",
      "[CV] . max_depth=4, max_features=log2, n_estimators=200, total=   0.2s\n",
      "[CV] max_depth=4, max_features=log2, n_estimators=200 ................\n",
      "[CV] . max_depth=4, max_features=log2, n_estimators=200, total=   0.2s\n",
      "[CV] max_depth=4, max_features=log2, n_estimators=200 ................\n",
      "[CV] . max_depth=4, max_features=log2, n_estimators=200, total=   0.2s\n",
      "[CV] max_depth=4, max_features=log2, n_estimators=200 ................\n",
      "[CV] . max_depth=4, max_features=log2, n_estimators=200, total=   0.2s\n",
      "[CV] max_depth=4, max_features=log2, n_estimators=200 ................\n",
      "[CV] . max_depth=4, max_features=log2, n_estimators=200, total=   0.2s\n",
      "[CV] max_depth=4, max_features=log2, n_estimators=700 ................\n",
      "[CV] . max_depth=4, max_features=log2, n_estimators=700, total=   0.8s\n",
      "[CV] max_depth=4, max_features=log2, n_estimators=700 ................\n",
      "[CV] . max_depth=4, max_features=log2, n_estimators=700, total=   0.7s\n",
      "[CV] max_depth=4, max_features=log2, n_estimators=700 ................\n",
      "[CV] . max_depth=4, max_features=log2, n_estimators=700, total=   0.7s\n",
      "[CV] max_depth=4, max_features=log2, n_estimators=700 ................\n",
      "[CV] . max_depth=4, max_features=log2, n_estimators=700, total=   0.7s\n",
      "[CV] max_depth=4, max_features=log2, n_estimators=700 ................\n",
      "[CV] . max_depth=4, max_features=log2, n_estimators=700, total=   0.7s\n",
      "[CV] max_depth=5, max_features=auto, n_estimators=200 ................\n",
      "[CV] . max_depth=5, max_features=auto, n_estimators=200, total=   0.2s\n",
      "[CV] max_depth=5, max_features=auto, n_estimators=200 ................\n",
      "[CV] . max_depth=5, max_features=auto, n_estimators=200, total=   0.2s\n",
      "[CV] max_depth=5, max_features=auto, n_estimators=200 ................\n",
      "[CV] . max_depth=5, max_features=auto, n_estimators=200, total=   0.2s\n",
      "[CV] max_depth=5, max_features=auto, n_estimators=200 ................\n",
      "[CV] . max_depth=5, max_features=auto, n_estimators=200, total=   0.2s\n",
      "[CV] max_depth=5, max_features=auto, n_estimators=200 ................\n",
      "[CV] . max_depth=5, max_features=auto, n_estimators=200, total=   0.2s\n",
      "[CV] max_depth=5, max_features=auto, n_estimators=700 ................\n",
      "[CV] . max_depth=5, max_features=auto, n_estimators=700, total=   0.7s\n",
      "[CV] max_depth=5, max_features=auto, n_estimators=700 ................\n",
      "[CV] . max_depth=5, max_features=auto, n_estimators=700, total=   0.7s\n",
      "[CV] max_depth=5, max_features=auto, n_estimators=700 ................\n",
      "[CV] . max_depth=5, max_features=auto, n_estimators=700, total=   0.7s\n",
      "[CV] max_depth=5, max_features=auto, n_estimators=700 ................\n",
      "[CV] . max_depth=5, max_features=auto, n_estimators=700, total=   0.7s\n",
      "[CV] max_depth=5, max_features=auto, n_estimators=700 ................\n",
      "[CV] . max_depth=5, max_features=auto, n_estimators=700, total=   0.7s\n",
      "[CV] max_depth=5, max_features=sqrt, n_estimators=200 ................\n",
      "[CV] . max_depth=5, max_features=sqrt, n_estimators=200, total=   0.2s\n",
      "[CV] max_depth=5, max_features=sqrt, n_estimators=200 ................\n",
      "[CV] . max_depth=5, max_features=sqrt, n_estimators=200, total=   0.2s\n",
      "[CV] max_depth=5, max_features=sqrt, n_estimators=200 ................\n",
      "[CV] . max_depth=5, max_features=sqrt, n_estimators=200, total=   0.2s\n",
      "[CV] max_depth=5, max_features=sqrt, n_estimators=200 ................\n",
      "[CV] . max_depth=5, max_features=sqrt, n_estimators=200, total=   0.2s\n",
      "[CV] max_depth=5, max_features=sqrt, n_estimators=200 ................\n",
      "[CV] . max_depth=5, max_features=sqrt, n_estimators=200, total=   0.2s\n",
      "[CV] max_depth=5, max_features=sqrt, n_estimators=700 ................\n",
      "[CV] . max_depth=5, max_features=sqrt, n_estimators=700, total=   0.7s\n",
      "[CV] max_depth=5, max_features=sqrt, n_estimators=700 ................\n",
      "[CV] . max_depth=5, max_features=sqrt, n_estimators=700, total=   0.8s\n",
      "[CV] max_depth=5, max_features=sqrt, n_estimators=700 ................\n",
      "[CV] . max_depth=5, max_features=sqrt, n_estimators=700, total=   0.7s\n",
      "[CV] max_depth=5, max_features=sqrt, n_estimators=700 ................\n",
      "[CV] . max_depth=5, max_features=sqrt, n_estimators=700, total=   0.7s\n",
      "[CV] max_depth=5, max_features=sqrt, n_estimators=700 ................\n",
      "[CV] . max_depth=5, max_features=sqrt, n_estimators=700, total=   0.7s\n",
      "[CV] max_depth=5, max_features=log2, n_estimators=200 ................\n",
      "[CV] . max_depth=5, max_features=log2, n_estimators=200, total=   0.2s\n",
      "[CV] max_depth=5, max_features=log2, n_estimators=200 ................\n",
      "[CV] . max_depth=5, max_features=log2, n_estimators=200, total=   0.2s\n",
      "[CV] max_depth=5, max_features=log2, n_estimators=200 ................\n",
      "[CV] . max_depth=5, max_features=log2, n_estimators=200, total=   0.2s\n",
      "[CV] max_depth=5, max_features=log2, n_estimators=200 ................\n",
      "[CV] . max_depth=5, max_features=log2, n_estimators=200, total=   0.2s\n",
      "[CV] max_depth=5, max_features=log2, n_estimators=200 ................\n",
      "[CV] . max_depth=5, max_features=log2, n_estimators=200, total=   0.2s\n",
      "[CV] max_depth=5, max_features=log2, n_estimators=700 ................\n",
      "[CV] . max_depth=5, max_features=log2, n_estimators=700, total=   0.7s\n",
      "[CV] max_depth=5, max_features=log2, n_estimators=700 ................\n",
      "[CV] . max_depth=5, max_features=log2, n_estimators=700, total=   0.7s\n",
      "[CV] max_depth=5, max_features=log2, n_estimators=700 ................\n"
     ]
    },
    {
     "name": "stdout",
     "output_type": "stream",
     "text": [
      "[CV] . max_depth=5, max_features=log2, n_estimators=700, total=   0.7s\n",
      "[CV] max_depth=5, max_features=log2, n_estimators=700 ................\n",
      "[CV] . max_depth=5, max_features=log2, n_estimators=700, total=   0.7s\n",
      "[CV] max_depth=5, max_features=log2, n_estimators=700 ................\n",
      "[CV] . max_depth=5, max_features=log2, n_estimators=700, total=   0.7s\n",
      "[CV] max_depth=6, max_features=auto, n_estimators=200 ................\n",
      "[CV] . max_depth=6, max_features=auto, n_estimators=200, total=   0.2s\n",
      "[CV] max_depth=6, max_features=auto, n_estimators=200 ................\n",
      "[CV] . max_depth=6, max_features=auto, n_estimators=200, total=   0.2s\n",
      "[CV] max_depth=6, max_features=auto, n_estimators=200 ................\n",
      "[CV] . max_depth=6, max_features=auto, n_estimators=200, total=   0.2s\n",
      "[CV] max_depth=6, max_features=auto, n_estimators=200 ................\n",
      "[CV] . max_depth=6, max_features=auto, n_estimators=200, total=   0.2s\n",
      "[CV] max_depth=6, max_features=auto, n_estimators=200 ................\n",
      "[CV] . max_depth=6, max_features=auto, n_estimators=200, total=   0.2s\n",
      "[CV] max_depth=6, max_features=auto, n_estimators=700 ................\n",
      "[CV] . max_depth=6, max_features=auto, n_estimators=700, total=   0.7s\n",
      "[CV] max_depth=6, max_features=auto, n_estimators=700 ................\n",
      "[CV] . max_depth=6, max_features=auto, n_estimators=700, total=   0.7s\n",
      "[CV] max_depth=6, max_features=auto, n_estimators=700 ................\n",
      "[CV] . max_depth=6, max_features=auto, n_estimators=700, total=   0.7s\n",
      "[CV] max_depth=6, max_features=auto, n_estimators=700 ................\n",
      "[CV] . max_depth=6, max_features=auto, n_estimators=700, total=   0.7s\n",
      "[CV] max_depth=6, max_features=auto, n_estimators=700 ................\n",
      "[CV] . max_depth=6, max_features=auto, n_estimators=700, total=   0.7s\n",
      "[CV] max_depth=6, max_features=sqrt, n_estimators=200 ................\n",
      "[CV] . max_depth=6, max_features=sqrt, n_estimators=200, total=   0.2s\n",
      "[CV] max_depth=6, max_features=sqrt, n_estimators=200 ................\n",
      "[CV] . max_depth=6, max_features=sqrt, n_estimators=200, total=   0.2s\n",
      "[CV] max_depth=6, max_features=sqrt, n_estimators=200 ................\n",
      "[CV] . max_depth=6, max_features=sqrt, n_estimators=200, total=   0.2s\n",
      "[CV] max_depth=6, max_features=sqrt, n_estimators=200 ................\n",
      "[CV] . max_depth=6, max_features=sqrt, n_estimators=200, total=   0.2s\n",
      "[CV] max_depth=6, max_features=sqrt, n_estimators=200 ................\n",
      "[CV] . max_depth=6, max_features=sqrt, n_estimators=200, total=   0.2s\n",
      "[CV] max_depth=6, max_features=sqrt, n_estimators=700 ................\n",
      "[CV] . max_depth=6, max_features=sqrt, n_estimators=700, total=   0.7s\n",
      "[CV] max_depth=6, max_features=sqrt, n_estimators=700 ................\n",
      "[CV] . max_depth=6, max_features=sqrt, n_estimators=700, total=   0.7s\n",
      "[CV] max_depth=6, max_features=sqrt, n_estimators=700 ................\n",
      "[CV] . max_depth=6, max_features=sqrt, n_estimators=700, total=   0.7s\n",
      "[CV] max_depth=6, max_features=sqrt, n_estimators=700 ................\n",
      "[CV] . max_depth=6, max_features=sqrt, n_estimators=700, total=   0.7s\n",
      "[CV] max_depth=6, max_features=sqrt, n_estimators=700 ................\n",
      "[CV] . max_depth=6, max_features=sqrt, n_estimators=700, total=   0.7s\n",
      "[CV] max_depth=6, max_features=log2, n_estimators=200 ................\n",
      "[CV] . max_depth=6, max_features=log2, n_estimators=200, total=   0.2s\n",
      "[CV] max_depth=6, max_features=log2, n_estimators=200 ................\n",
      "[CV] . max_depth=6, max_features=log2, n_estimators=200, total=   0.2s\n",
      "[CV] max_depth=6, max_features=log2, n_estimators=200 ................\n",
      "[CV] . max_depth=6, max_features=log2, n_estimators=200, total=   0.2s\n",
      "[CV] max_depth=6, max_features=log2, n_estimators=200 ................\n",
      "[CV] . max_depth=6, max_features=log2, n_estimators=200, total=   0.2s\n",
      "[CV] max_depth=6, max_features=log2, n_estimators=200 ................\n",
      "[CV] . max_depth=6, max_features=log2, n_estimators=200, total=   0.2s\n",
      "[CV] max_depth=6, max_features=log2, n_estimators=700 ................\n",
      "[CV] . max_depth=6, max_features=log2, n_estimators=700, total=   0.7s\n",
      "[CV] max_depth=6, max_features=log2, n_estimators=700 ................\n",
      "[CV] . max_depth=6, max_features=log2, n_estimators=700, total=   0.7s\n",
      "[CV] max_depth=6, max_features=log2, n_estimators=700 ................\n",
      "[CV] . max_depth=6, max_features=log2, n_estimators=700, total=   0.7s\n",
      "[CV] max_depth=6, max_features=log2, n_estimators=700 ................\n",
      "[CV] . max_depth=6, max_features=log2, n_estimators=700, total=   0.7s\n",
      "[CV] max_depth=6, max_features=log2, n_estimators=700 ................\n",
      "[CV] . max_depth=6, max_features=log2, n_estimators=700, total=   0.7s\n",
      "[CV] max_depth=7, max_features=auto, n_estimators=200 ................\n",
      "[CV] . max_depth=7, max_features=auto, n_estimators=200, total=   0.2s\n",
      "[CV] max_depth=7, max_features=auto, n_estimators=200 ................\n",
      "[CV] . max_depth=7, max_features=auto, n_estimators=200, total=   0.2s\n",
      "[CV] max_depth=7, max_features=auto, n_estimators=200 ................\n",
      "[CV] . max_depth=7, max_features=auto, n_estimators=200, total=   0.2s\n",
      "[CV] max_depth=7, max_features=auto, n_estimators=200 ................\n",
      "[CV] . max_depth=7, max_features=auto, n_estimators=200, total=   0.2s\n",
      "[CV] max_depth=7, max_features=auto, n_estimators=200 ................\n",
      "[CV] . max_depth=7, max_features=auto, n_estimators=200, total=   0.2s\n",
      "[CV] max_depth=7, max_features=auto, n_estimators=700 ................\n",
      "[CV] . max_depth=7, max_features=auto, n_estimators=700, total=   0.7s\n",
      "[CV] max_depth=7, max_features=auto, n_estimators=700 ................\n",
      "[CV] . max_depth=7, max_features=auto, n_estimators=700, total=   0.7s\n",
      "[CV] max_depth=7, max_features=auto, n_estimators=700 ................\n",
      "[CV] . max_depth=7, max_features=auto, n_estimators=700, total=   0.7s\n",
      "[CV] max_depth=7, max_features=auto, n_estimators=700 ................\n",
      "[CV] . max_depth=7, max_features=auto, n_estimators=700, total=   0.7s\n",
      "[CV] max_depth=7, max_features=auto, n_estimators=700 ................\n",
      "[CV] . max_depth=7, max_features=auto, n_estimators=700, total=   0.7s\n",
      "[CV] max_depth=7, max_features=sqrt, n_estimators=200 ................\n",
      "[CV] . max_depth=7, max_features=sqrt, n_estimators=200, total=   0.2s\n",
      "[CV] max_depth=7, max_features=sqrt, n_estimators=200 ................\n",
      "[CV] . max_depth=7, max_features=sqrt, n_estimators=200, total=   0.2s\n",
      "[CV] max_depth=7, max_features=sqrt, n_estimators=200 ................\n",
      "[CV] . max_depth=7, max_features=sqrt, n_estimators=200, total=   0.2s\n",
      "[CV] max_depth=7, max_features=sqrt, n_estimators=200 ................\n",
      "[CV] . max_depth=7, max_features=sqrt, n_estimators=200, total=   0.2s\n",
      "[CV] max_depth=7, max_features=sqrt, n_estimators=200 ................\n",
      "[CV] . max_depth=7, max_features=sqrt, n_estimators=200, total=   0.2s\n",
      "[CV] max_depth=7, max_features=sqrt, n_estimators=700 ................\n",
      "[CV] . max_depth=7, max_features=sqrt, n_estimators=700, total=   0.7s\n",
      "[CV] max_depth=7, max_features=sqrt, n_estimators=700 ................\n",
      "[CV] . max_depth=7, max_features=sqrt, n_estimators=700, total=   0.7s\n",
      "[CV] max_depth=7, max_features=sqrt, n_estimators=700 ................\n",
      "[CV] . max_depth=7, max_features=sqrt, n_estimators=700, total=   0.7s\n",
      "[CV] max_depth=7, max_features=sqrt, n_estimators=700 ................\n",
      "[CV] . max_depth=7, max_features=sqrt, n_estimators=700, total=   0.7s\n",
      "[CV] max_depth=7, max_features=sqrt, n_estimators=700 ................\n",
      "[CV] . max_depth=7, max_features=sqrt, n_estimators=700, total=   0.7s\n",
      "[CV] max_depth=7, max_features=log2, n_estimators=200 ................\n",
      "[CV] . max_depth=7, max_features=log2, n_estimators=200, total=   0.2s\n",
      "[CV] max_depth=7, max_features=log2, n_estimators=200 ................\n",
      "[CV] . max_depth=7, max_features=log2, n_estimators=200, total=   0.2s\n",
      "[CV] max_depth=7, max_features=log2, n_estimators=200 ................\n",
      "[CV] . max_depth=7, max_features=log2, n_estimators=200, total=   0.2s\n",
      "[CV] max_depth=7, max_features=log2, n_estimators=200 ................\n",
      "[CV] . max_depth=7, max_features=log2, n_estimators=200, total=   0.2s\n",
      "[CV] max_depth=7, max_features=log2, n_estimators=200 ................\n",
      "[CV] . max_depth=7, max_features=log2, n_estimators=200, total=   0.2s\n",
      "[CV] max_depth=7, max_features=log2, n_estimators=700 ................\n"
     ]
    },
    {
     "name": "stdout",
     "output_type": "stream",
     "text": [
      "[CV] . max_depth=7, max_features=log2, n_estimators=700, total=   0.7s\n",
      "[CV] max_depth=7, max_features=log2, n_estimators=700 ................\n",
      "[CV] . max_depth=7, max_features=log2, n_estimators=700, total=   0.7s\n",
      "[CV] max_depth=7, max_features=log2, n_estimators=700 ................\n",
      "[CV] . max_depth=7, max_features=log2, n_estimators=700, total=   0.7s\n",
      "[CV] max_depth=7, max_features=log2, n_estimators=700 ................\n",
      "[CV] . max_depth=7, max_features=log2, n_estimators=700, total=   0.7s\n",
      "[CV] max_depth=7, max_features=log2, n_estimators=700 ................\n",
      "[CV] . max_depth=7, max_features=log2, n_estimators=700, total=   0.7s\n",
      "[CV] max_depth=8, max_features=auto, n_estimators=200 ................\n",
      "[CV] . max_depth=8, max_features=auto, n_estimators=200, total=   0.2s\n",
      "[CV] max_depth=8, max_features=auto, n_estimators=200 ................\n",
      "[CV] . max_depth=8, max_features=auto, n_estimators=200, total=   0.2s\n",
      "[CV] max_depth=8, max_features=auto, n_estimators=200 ................\n",
      "[CV] . max_depth=8, max_features=auto, n_estimators=200, total=   0.2s\n",
      "[CV] max_depth=8, max_features=auto, n_estimators=200 ................\n",
      "[CV] . max_depth=8, max_features=auto, n_estimators=200, total=   0.2s\n",
      "[CV] max_depth=8, max_features=auto, n_estimators=200 ................\n",
      "[CV] . max_depth=8, max_features=auto, n_estimators=200, total=   0.2s\n",
      "[CV] max_depth=8, max_features=auto, n_estimators=700 ................\n",
      "[CV] . max_depth=8, max_features=auto, n_estimators=700, total=   0.7s\n",
      "[CV] max_depth=8, max_features=auto, n_estimators=700 ................\n",
      "[CV] . max_depth=8, max_features=auto, n_estimators=700, total=   0.7s\n",
      "[CV] max_depth=8, max_features=auto, n_estimators=700 ................\n",
      "[CV] . max_depth=8, max_features=auto, n_estimators=700, total=   0.7s\n",
      "[CV] max_depth=8, max_features=auto, n_estimators=700 ................\n",
      "[CV] . max_depth=8, max_features=auto, n_estimators=700, total=   0.7s\n",
      "[CV] max_depth=8, max_features=auto, n_estimators=700 ................\n",
      "[CV] . max_depth=8, max_features=auto, n_estimators=700, total=   0.7s\n",
      "[CV] max_depth=8, max_features=sqrt, n_estimators=200 ................\n",
      "[CV] . max_depth=8, max_features=sqrt, n_estimators=200, total=   0.2s\n",
      "[CV] max_depth=8, max_features=sqrt, n_estimators=200 ................\n",
      "[CV] . max_depth=8, max_features=sqrt, n_estimators=200, total=   0.2s\n",
      "[CV] max_depth=8, max_features=sqrt, n_estimators=200 ................\n",
      "[CV] . max_depth=8, max_features=sqrt, n_estimators=200, total=   0.2s\n",
      "[CV] max_depth=8, max_features=sqrt, n_estimators=200 ................\n",
      "[CV] . max_depth=8, max_features=sqrt, n_estimators=200, total=   0.2s\n",
      "[CV] max_depth=8, max_features=sqrt, n_estimators=200 ................\n",
      "[CV] . max_depth=8, max_features=sqrt, n_estimators=200, total=   0.2s\n",
      "[CV] max_depth=8, max_features=sqrt, n_estimators=700 ................\n",
      "[CV] . max_depth=8, max_features=sqrt, n_estimators=700, total=   0.7s\n",
      "[CV] max_depth=8, max_features=sqrt, n_estimators=700 ................\n",
      "[CV] . max_depth=8, max_features=sqrt, n_estimators=700, total=   0.7s\n",
      "[CV] max_depth=8, max_features=sqrt, n_estimators=700 ................\n",
      "[CV] . max_depth=8, max_features=sqrt, n_estimators=700, total=   0.7s\n",
      "[CV] max_depth=8, max_features=sqrt, n_estimators=700 ................\n",
      "[CV] . max_depth=8, max_features=sqrt, n_estimators=700, total=   0.7s\n",
      "[CV] max_depth=8, max_features=sqrt, n_estimators=700 ................\n",
      "[CV] . max_depth=8, max_features=sqrt, n_estimators=700, total=   0.7s\n",
      "[CV] max_depth=8, max_features=log2, n_estimators=200 ................\n",
      "[CV] . max_depth=8, max_features=log2, n_estimators=200, total=   0.2s\n",
      "[CV] max_depth=8, max_features=log2, n_estimators=200 ................\n",
      "[CV] . max_depth=8, max_features=log2, n_estimators=200, total=   0.2s\n",
      "[CV] max_depth=8, max_features=log2, n_estimators=200 ................\n",
      "[CV] . max_depth=8, max_features=log2, n_estimators=200, total=   0.2s\n",
      "[CV] max_depth=8, max_features=log2, n_estimators=200 ................\n",
      "[CV] . max_depth=8, max_features=log2, n_estimators=200, total=   0.2s\n",
      "[CV] max_depth=8, max_features=log2, n_estimators=200 ................\n",
      "[CV] . max_depth=8, max_features=log2, n_estimators=200, total=   0.2s\n",
      "[CV] max_depth=8, max_features=log2, n_estimators=700 ................\n",
      "[CV] . max_depth=8, max_features=log2, n_estimators=700, total=   0.7s\n",
      "[CV] max_depth=8, max_features=log2, n_estimators=700 ................\n",
      "[CV] . max_depth=8, max_features=log2, n_estimators=700, total=   0.7s\n",
      "[CV] max_depth=8, max_features=log2, n_estimators=700 ................\n",
      "[CV] . max_depth=8, max_features=log2, n_estimators=700, total=   0.7s\n",
      "[CV] max_depth=8, max_features=log2, n_estimators=700 ................\n",
      "[CV] . max_depth=8, max_features=log2, n_estimators=700, total=   0.7s\n",
      "[CV] max_depth=8, max_features=log2, n_estimators=700 ................\n",
      "[CV] . max_depth=8, max_features=log2, n_estimators=700, total=   0.7s\n",
      "[CV] max_depth=9, max_features=auto, n_estimators=200 ................\n",
      "[CV] . max_depth=9, max_features=auto, n_estimators=200, total=   0.2s\n",
      "[CV] max_depth=9, max_features=auto, n_estimators=200 ................\n",
      "[CV] . max_depth=9, max_features=auto, n_estimators=200, total=   0.2s\n",
      "[CV] max_depth=9, max_features=auto, n_estimators=200 ................\n",
      "[CV] . max_depth=9, max_features=auto, n_estimators=200, total=   0.2s\n",
      "[CV] max_depth=9, max_features=auto, n_estimators=200 ................\n",
      "[CV] . max_depth=9, max_features=auto, n_estimators=200, total=   0.2s\n",
      "[CV] max_depth=9, max_features=auto, n_estimators=200 ................\n",
      "[CV] . max_depth=9, max_features=auto, n_estimators=200, total=   0.2s\n",
      "[CV] max_depth=9, max_features=auto, n_estimators=700 ................\n",
      "[CV] . max_depth=9, max_features=auto, n_estimators=700, total=   0.7s\n",
      "[CV] max_depth=9, max_features=auto, n_estimators=700 ................\n",
      "[CV] . max_depth=9, max_features=auto, n_estimators=700, total=   0.7s\n",
      "[CV] max_depth=9, max_features=auto, n_estimators=700 ................\n",
      "[CV] . max_depth=9, max_features=auto, n_estimators=700, total=   0.7s\n",
      "[CV] max_depth=9, max_features=auto, n_estimators=700 ................\n",
      "[CV] . max_depth=9, max_features=auto, n_estimators=700, total=   0.7s\n",
      "[CV] max_depth=9, max_features=auto, n_estimators=700 ................\n",
      "[CV] . max_depth=9, max_features=auto, n_estimators=700, total=   0.7s\n",
      "[CV] max_depth=9, max_features=sqrt, n_estimators=200 ................\n",
      "[CV] . max_depth=9, max_features=sqrt, n_estimators=200, total=   0.2s\n",
      "[CV] max_depth=9, max_features=sqrt, n_estimators=200 ................\n",
      "[CV] . max_depth=9, max_features=sqrt, n_estimators=200, total=   0.2s\n",
      "[CV] max_depth=9, max_features=sqrt, n_estimators=200 ................\n",
      "[CV] . max_depth=9, max_features=sqrt, n_estimators=200, total=   0.2s\n",
      "[CV] max_depth=9, max_features=sqrt, n_estimators=200 ................\n",
      "[CV] . max_depth=9, max_features=sqrt, n_estimators=200, total=   0.2s\n",
      "[CV] max_depth=9, max_features=sqrt, n_estimators=200 ................\n",
      "[CV] . max_depth=9, max_features=sqrt, n_estimators=200, total=   0.2s\n",
      "[CV] max_depth=9, max_features=sqrt, n_estimators=700 ................\n",
      "[CV] . max_depth=9, max_features=sqrt, n_estimators=700, total=   0.7s\n",
      "[CV] max_depth=9, max_features=sqrt, n_estimators=700 ................\n",
      "[CV] . max_depth=9, max_features=sqrt, n_estimators=700, total=   0.7s\n",
      "[CV] max_depth=9, max_features=sqrt, n_estimators=700 ................\n",
      "[CV] . max_depth=9, max_features=sqrt, n_estimators=700, total=   0.7s\n",
      "[CV] max_depth=9, max_features=sqrt, n_estimators=700 ................\n",
      "[CV] . max_depth=9, max_features=sqrt, n_estimators=700, total=   0.7s\n",
      "[CV] max_depth=9, max_features=sqrt, n_estimators=700 ................\n",
      "[CV] . max_depth=9, max_features=sqrt, n_estimators=700, total=   0.7s\n",
      "[CV] max_depth=9, max_features=log2, n_estimators=200 ................\n",
      "[CV] . max_depth=9, max_features=log2, n_estimators=200, total=   0.2s\n",
      "[CV] max_depth=9, max_features=log2, n_estimators=200 ................\n",
      "[CV] . max_depth=9, max_features=log2, n_estimators=200, total=   0.2s\n",
      "[CV] max_depth=9, max_features=log2, n_estimators=200 ................\n",
      "[CV] . max_depth=9, max_features=log2, n_estimators=200, total=   0.2s\n",
      "[CV] max_depth=9, max_features=log2, n_estimators=200 ................\n",
      "[CV] . max_depth=9, max_features=log2, n_estimators=200, total=   0.2s\n",
      "[CV] max_depth=9, max_features=log2, n_estimators=200 ................\n"
     ]
    },
    {
     "name": "stdout",
     "output_type": "stream",
     "text": [
      "[CV] . max_depth=9, max_features=log2, n_estimators=200, total=   0.2s\n",
      "[CV] max_depth=9, max_features=log2, n_estimators=700 ................\n",
      "[CV] . max_depth=9, max_features=log2, n_estimators=700, total=   0.7s\n",
      "[CV] max_depth=9, max_features=log2, n_estimators=700 ................\n",
      "[CV] . max_depth=9, max_features=log2, n_estimators=700, total=   0.7s\n",
      "[CV] max_depth=9, max_features=log2, n_estimators=700 ................\n",
      "[CV] . max_depth=9, max_features=log2, n_estimators=700, total=   0.7s\n",
      "[CV] max_depth=9, max_features=log2, n_estimators=700 ................\n",
      "[CV] . max_depth=9, max_features=log2, n_estimators=700, total=   0.7s\n",
      "[CV] max_depth=9, max_features=log2, n_estimators=700 ................\n",
      "[CV] . max_depth=9, max_features=log2, n_estimators=700, total=   0.7s\n",
      "[CV] max_depth=10, max_features=auto, n_estimators=200 ...............\n",
      "[CV]  max_depth=10, max_features=auto, n_estimators=200, total=   0.2s\n",
      "[CV] max_depth=10, max_features=auto, n_estimators=200 ...............\n",
      "[CV]  max_depth=10, max_features=auto, n_estimators=200, total=   0.2s\n",
      "[CV] max_depth=10, max_features=auto, n_estimators=200 ...............\n",
      "[CV]  max_depth=10, max_features=auto, n_estimators=200, total=   0.2s\n",
      "[CV] max_depth=10, max_features=auto, n_estimators=200 ...............\n",
      "[CV]  max_depth=10, max_features=auto, n_estimators=200, total=   0.2s\n",
      "[CV] max_depth=10, max_features=auto, n_estimators=200 ...............\n",
      "[CV]  max_depth=10, max_features=auto, n_estimators=200, total=   0.2s\n",
      "[CV] max_depth=10, max_features=auto, n_estimators=700 ...............\n",
      "[CV]  max_depth=10, max_features=auto, n_estimators=700, total=   0.7s\n",
      "[CV] max_depth=10, max_features=auto, n_estimators=700 ...............\n",
      "[CV]  max_depth=10, max_features=auto, n_estimators=700, total=   0.7s\n",
      "[CV] max_depth=10, max_features=auto, n_estimators=700 ...............\n",
      "[CV]  max_depth=10, max_features=auto, n_estimators=700, total=   0.7s\n",
      "[CV] max_depth=10, max_features=auto, n_estimators=700 ...............\n",
      "[CV]  max_depth=10, max_features=auto, n_estimators=700, total=   0.7s\n",
      "[CV] max_depth=10, max_features=auto, n_estimators=700 ...............\n",
      "[CV]  max_depth=10, max_features=auto, n_estimators=700, total=   0.8s\n",
      "[CV] max_depth=10, max_features=sqrt, n_estimators=200 ...............\n",
      "[CV]  max_depth=10, max_features=sqrt, n_estimators=200, total=   0.2s\n",
      "[CV] max_depth=10, max_features=sqrt, n_estimators=200 ...............\n",
      "[CV]  max_depth=10, max_features=sqrt, n_estimators=200, total=   0.2s\n",
      "[CV] max_depth=10, max_features=sqrt, n_estimators=200 ...............\n",
      "[CV]  max_depth=10, max_features=sqrt, n_estimators=200, total=   0.2s\n",
      "[CV] max_depth=10, max_features=sqrt, n_estimators=200 ...............\n",
      "[CV]  max_depth=10, max_features=sqrt, n_estimators=200, total=   0.2s\n",
      "[CV] max_depth=10, max_features=sqrt, n_estimators=200 ...............\n",
      "[CV]  max_depth=10, max_features=sqrt, n_estimators=200, total=   0.2s\n",
      "[CV] max_depth=10, max_features=sqrt, n_estimators=700 ...............\n",
      "[CV]  max_depth=10, max_features=sqrt, n_estimators=700, total=   0.7s\n",
      "[CV] max_depth=10, max_features=sqrt, n_estimators=700 ...............\n",
      "[CV]  max_depth=10, max_features=sqrt, n_estimators=700, total=   0.7s\n",
      "[CV] max_depth=10, max_features=sqrt, n_estimators=700 ...............\n",
      "[CV]  max_depth=10, max_features=sqrt, n_estimators=700, total=   0.7s\n",
      "[CV] max_depth=10, max_features=sqrt, n_estimators=700 ...............\n",
      "[CV]  max_depth=10, max_features=sqrt, n_estimators=700, total=   0.7s\n",
      "[CV] max_depth=10, max_features=sqrt, n_estimators=700 ...............\n",
      "[CV]  max_depth=10, max_features=sqrt, n_estimators=700, total=   0.7s\n",
      "[CV] max_depth=10, max_features=log2, n_estimators=200 ...............\n",
      "[CV]  max_depth=10, max_features=log2, n_estimators=200, total=   0.2s\n",
      "[CV] max_depth=10, max_features=log2, n_estimators=200 ...............\n",
      "[CV]  max_depth=10, max_features=log2, n_estimators=200, total=   0.2s\n",
      "[CV] max_depth=10, max_features=log2, n_estimators=200 ...............\n",
      "[CV]  max_depth=10, max_features=log2, n_estimators=200, total=   0.2s\n",
      "[CV] max_depth=10, max_features=log2, n_estimators=200 ...............\n",
      "[CV]  max_depth=10, max_features=log2, n_estimators=200, total=   0.2s\n",
      "[CV] max_depth=10, max_features=log2, n_estimators=200 ...............\n",
      "[CV]  max_depth=10, max_features=log2, n_estimators=200, total=   0.2s\n",
      "[CV] max_depth=10, max_features=log2, n_estimators=700 ...............\n",
      "[CV]  max_depth=10, max_features=log2, n_estimators=700, total=   0.7s\n",
      "[CV] max_depth=10, max_features=log2, n_estimators=700 ...............\n",
      "[CV]  max_depth=10, max_features=log2, n_estimators=700, total=   0.7s\n",
      "[CV] max_depth=10, max_features=log2, n_estimators=700 ...............\n",
      "[CV]  max_depth=10, max_features=log2, n_estimators=700, total=   0.7s\n",
      "[CV] max_depth=10, max_features=log2, n_estimators=700 ...............\n",
      "[CV]  max_depth=10, max_features=log2, n_estimators=700, total=   0.7s\n",
      "[CV] max_depth=10, max_features=log2, n_estimators=700 ...............\n",
      "[CV]  max_depth=10, max_features=log2, n_estimators=700, total=   0.7s\n"
     ]
    },
    {
     "name": "stderr",
     "output_type": "stream",
     "text": [
      "[Parallel(n_jobs=1)]: Done 270 out of 270 | elapsed:  2.1min finished\n"
     ]
    },
    {
     "data": {
      "text/plain": [
       "GridSearchCV(cv=5, estimator=RandomForestClassifier(),\n",
       "             param_grid={'max_depth': [2, 3, 4, 5, 6, 7, 8, 9, 10],\n",
       "                         'max_features': ['auto', 'sqrt', 'log2'],\n",
       "                         'n_estimators': [200, 700]},\n",
       "             verbose=2)"
      ]
     },
     "execution_count": 75,
     "metadata": {},
     "output_type": "execute_result"
    }
   ],
   "source": [
    "# Random Forest\n",
    "\n",
    "cv_scores_RF = cross_val_score(RandomForestClassifier(),X_train,y_train,cv=5)\n",
    "param_grid_RF = {\n",
    "    'n_estimators': [200, 700],\n",
    "    'max_features': ['auto', 'sqrt', 'log2'],\n",
    "    'max_depth': [2, 3, 4, 5, 6, 7, 8, 9, 10]\n",
    "}\n",
    "grid = GridSearchCV(RandomForestClassifier(),param_grid_RF,refit=True,verbose=2,cv=5)\n",
    "grid.fit(X_train,y_train)"
   ]
  },
  {
   "cell_type": "code",
   "execution_count": 76,
   "metadata": {},
   "outputs": [
    {
     "name": "stdout",
     "output_type": "stream",
     "text": [
      "RandomForestClassifier(max_depth=3, max_features='log2', n_estimators=200)\n"
     ]
    }
   ],
   "source": [
    "print(grid.best_estimator_)"
   ]
  },
  {
   "cell_type": "code",
   "execution_count": 78,
   "metadata": {},
   "outputs": [
    {
     "name": "stdout",
     "output_type": "stream",
     "text": [
      "Confusion matrix, without normalization\n",
      "[[55  3]\n",
      " [ 1 21]]\n",
      "Normalized confusion matrix\n",
      "[[0.94827586 0.05172414]\n",
      " [0.04545455 0.95454545]]\n"
     ]
    },
    {
     "data": {
      "image/png": "[encoded data removed]",
      "text/plain": [
       "<Figure size 576x396 with 2 Axes>"
      ]
     },
     "metadata": {},
     "output_type": "display_data"
    },
    {
     "data": {
      "image/png": "[encoded data removed]",
      "text/plain": [
       "<Figure size 576x396 with 2 Axes>"
      ]
     },
     "metadata": {},
     "output_type": "display_data"
    }
   ],
   "source": [
    "classifier_RF = RandomForestClassifier(max_depth=3, max_features='log2', n_estimators=200).fit(X_train, y_train)\n",
    "y_pred_RF = classifier_RF.predict(X_test)\n",
    "confusion_matrix(y_test, y_pred_RF)\n",
    "\n",
    "# Plot non-normalized confusion matrix\n",
    "titles_options = [(\"Confusion matrix, without normalization\", None),\n",
    "                  (\"Normalized confusion matrix\", 'true')]\n",
    "for title, normalize in titles_options:\n",
    "    disp = plot_confusion_matrix(classifier_RF, X_test, y_test,\n",
    "                                 #display_labels=y_test,\n",
    "                                 cmap=plt.cm.Blues,\n",
    "                                 normalize=normalize)\n",
    "    disp.ax_.set_title(title)\n",
    "\n",
    "    print(title)\n",
    "    print(disp.confusion_matrix)\n",
    "\n",
    "plt.show()"
   ]
  },
  {
   "cell_type": "code",
   "execution_count": 79,
   "metadata": {},
   "outputs": [
    {
     "data": {
      "text/plain": [
       "0.9835423197492164"
      ]
     },
     "execution_count": 79,
     "metadata": {},
     "output_type": "execute_result"
    }
   ],
   "source": [
    "y_pred_prob_RF = classifier_RF.predict_proba(X_test)\n",
    "false_positive_rate_RF, true_positive_rate_RF, thresholds_RF = roc_curve(y_test, y_pred_prob_RF[:,1])\n",
    "roc_auc_RF = auc(false_positive_rate_RF, true_positive_rate_RF)\n",
    "roc_auc_RF"
   ]
  },
  {
   "cell_type": "code",
   "execution_count": 80,
   "metadata": {},
   "outputs": [
    {
     "data": {
      "image/png": "[encoded data removed]",
      "text/plain": [
       "<Figure size 576x396 with 1 Axes>"
      ]
     },
     "metadata": {},
     "output_type": "display_data"
    }
   ],
   "source": [
    "plt.title('Receiver Operating Characteristic')\n",
    "plt.plot(false_positive_rate_RF,true_positive_rate_RF, color='red',label = 'AUC = %0.2f' % roc_auc_RF)\n",
    "plt.legend(loc = 'lower right')\n",
    "plt.plot([0, 1], [0, 1],linestyle='--')\n",
    "plt.axis('tight')\n",
    "plt.ylabel('True Positive Rate')\n",
    "plt.xlabel('False Positive Rate')\n",
    "plt.show()"
   ]
  },
  {
   "cell_type": "code",
   "execution_count": 82,
   "metadata": {},
   "outputs": [
    {
     "name": "stdout",
     "output_type": "stream",
     "text": [
      "Fitting 5 folds for each of 54 candidates, totalling 270 fits\n",
      "[CV] max_depth=2, max_features=auto, n_estimators=200 ................\n",
      "[CV] . max_depth=2, max_features=auto, n_estimators=200, total=   0.1s\n",
      "[CV] max_depth=2, max_features=auto, n_estimators=200 ................\n",
      "[CV] . max_depth=2, max_features=auto, n_estimators=200, total=   0.1s\n",
      "[CV] max_depth=2, max_features=auto, n_estimators=200 ................\n",
      "[CV] . max_depth=2, max_features=auto, n_estimators=200, total=   0.1s\n",
      "[CV] max_depth=2, max_features=auto, n_estimators=200 ................\n"
     ]
    },
    {
     "name": "stderr",
     "output_type": "stream",
     "text": [
      "[Parallel(n_jobs=1)]: Using backend SequentialBackend with 1 concurrent workers.\n",
      "[Parallel(n_jobs=1)]: Done   1 out of   1 | elapsed:    0.0s remaining:    0.0s\n"
     ]
    },
    {
     "name": "stdout",
     "output_type": "stream",
     "text": [
      "[CV] . max_depth=2, max_features=auto, n_estimators=200, total=   0.1s\n",
      "[CV] max_depth=2, max_features=auto, n_estimators=200 ................\n",
      "[CV] . max_depth=2, max_features=auto, n_estimators=200, total=   0.1s\n",
      "[CV] max_depth=2, max_features=auto, n_estimators=700 ................\n",
      "[CV] . max_depth=2, max_features=auto, n_estimators=700, total=   0.2s\n",
      "[CV] max_depth=2, max_features=auto, n_estimators=700 ................\n",
      "[CV] . max_depth=2, max_features=auto, n_estimators=700, total=   0.2s\n",
      "[CV] max_depth=2, max_features=auto, n_estimators=700 ................\n",
      "[CV] . max_depth=2, max_features=auto, n_estimators=700, total=   0.2s\n",
      "[CV] max_depth=2, max_features=auto, n_estimators=700 ................\n",
      "[CV] . max_depth=2, max_features=auto, n_estimators=700, total=   0.2s\n",
      "[CV] max_depth=2, max_features=auto, n_estimators=700 ................\n",
      "[CV] . max_depth=2, max_features=auto, n_estimators=700, total=   0.2s\n",
      "[CV] max_depth=2, max_features=sqrt, n_estimators=200 ................\n",
      "[CV] . max_depth=2, max_features=sqrt, n_estimators=200, total=   0.0s\n",
      "[CV] max_depth=2, max_features=sqrt, n_estimators=200 ................\n",
      "[CV] . max_depth=2, max_features=sqrt, n_estimators=200, total=   0.1s\n",
      "[CV] max_depth=2, max_features=sqrt, n_estimators=200 ................\n",
      "[CV] . max_depth=2, max_features=sqrt, n_estimators=200, total=   0.1s\n",
      "[CV] max_depth=2, max_features=sqrt, n_estimators=200 ................\n",
      "[CV] . max_depth=2, max_features=sqrt, n_estimators=200, total=   0.1s\n",
      "[CV] max_depth=2, max_features=sqrt, n_estimators=200 ................\n",
      "[CV] . max_depth=2, max_features=sqrt, n_estimators=200, total=   0.1s\n",
      "[CV] max_depth=2, max_features=sqrt, n_estimators=700 ................\n",
      "[CV] . max_depth=2, max_features=sqrt, n_estimators=700, total=   0.2s\n",
      "[CV] max_depth=2, max_features=sqrt, n_estimators=700 ................\n",
      "[CV] . max_depth=2, max_features=sqrt, n_estimators=700, total=   0.2s\n",
      "[CV] max_depth=2, max_features=sqrt, n_estimators=700 ................\n",
      "[CV] . max_depth=2, max_features=sqrt, n_estimators=700, total=   0.2s\n",
      "[CV] max_depth=2, max_features=sqrt, n_estimators=700 ................\n",
      "[CV] . max_depth=2, max_features=sqrt, n_estimators=700, total=   0.2s\n",
      "[CV] max_depth=2, max_features=sqrt, n_estimators=700 ................\n",
      "[CV] . max_depth=2, max_features=sqrt, n_estimators=700, total=   0.2s\n",
      "[CV] max_depth=2, max_features=log2, n_estimators=200 ................\n",
      "[CV] . max_depth=2, max_features=log2, n_estimators=200, total=   0.1s\n",
      "[CV] max_depth=2, max_features=log2, n_estimators=200 ................\n",
      "[CV] . max_depth=2, max_features=log2, n_estimators=200, total=   0.1s\n",
      "[CV] max_depth=2, max_features=log2, n_estimators=200 ................\n",
      "[CV] . max_depth=2, max_features=log2, n_estimators=200, total=   0.1s\n",
      "[CV] max_depth=2, max_features=log2, n_estimators=200 ................\n",
      "[CV] . max_depth=2, max_features=log2, n_estimators=200, total=   0.1s\n",
      "[CV] max_depth=2, max_features=log2, n_estimators=200 ................\n",
      "[CV] . max_depth=2, max_features=log2, n_estimators=200, total=   0.1s\n",
      "[CV] max_depth=2, max_features=log2, n_estimators=700 ................\n",
      "[CV] . max_depth=2, max_features=log2, n_estimators=700, total=   0.2s\n",
      "[CV] max_depth=2, max_features=log2, n_estimators=700 ................\n",
      "[CV] . max_depth=2, max_features=log2, n_estimators=700, total=   0.2s\n",
      "[CV] max_depth=2, max_features=log2, n_estimators=700 ................\n",
      "[CV] . max_depth=2, max_features=log2, n_estimators=700, total=   0.2s\n",
      "[CV] max_depth=2, max_features=log2, n_estimators=700 ................\n",
      "[CV] . max_depth=2, max_features=log2, n_estimators=700, total=   0.2s\n",
      "[CV] max_depth=2, max_features=log2, n_estimators=700 ................\n",
      "[CV] . max_depth=2, max_features=log2, n_estimators=700, total=   0.2s\n",
      "[CV] max_depth=3, max_features=auto, n_estimators=200 ................\n",
      "[CV] . max_depth=3, max_features=auto, n_estimators=200, total=   0.1s\n",
      "[CV] max_depth=3, max_features=auto, n_estimators=200 ................\n",
      "[CV] . max_depth=3, max_features=auto, n_estimators=200, total=   0.1s\n",
      "[CV] max_depth=3, max_features=auto, n_estimators=200 ................\n",
      "[CV] . max_depth=3, max_features=auto, n_estimators=200, total=   0.1s\n",
      "[CV] max_depth=3, max_features=auto, n_estimators=200 ................\n",
      "[CV] . max_depth=3, max_features=auto, n_estimators=200, total=   0.1s\n",
      "[CV] max_depth=3, max_features=auto, n_estimators=200 ................\n",
      "[CV] . max_depth=3, max_features=auto, n_estimators=200, total=   0.1s\n",
      "[CV] max_depth=3, max_features=auto, n_estimators=700 ................\n",
      "[CV] . max_depth=3, max_features=auto, n_estimators=700, total=   0.4s\n",
      "[CV] max_depth=3, max_features=auto, n_estimators=700 ................\n",
      "[CV] . max_depth=3, max_features=auto, n_estimators=700, total=   0.3s\n",
      "[CV] max_depth=3, max_features=auto, n_estimators=700 ................\n",
      "[CV] . max_depth=3, max_features=auto, n_estimators=700, total=   0.4s\n",
      "[CV] max_depth=3, max_features=auto, n_estimators=700 ................\n",
      "[CV] . max_depth=3, max_features=auto, n_estimators=700, total=   0.3s\n",
      "[CV] max_depth=3, max_features=auto, n_estimators=700 ................\n",
      "[CV] . max_depth=3, max_features=auto, n_estimators=700, total=   0.3s\n",
      "[CV] max_depth=3, max_features=sqrt, n_estimators=200 ................\n",
      "[CV] . max_depth=3, max_features=sqrt, n_estimators=200, total=   0.1s\n",
      "[CV] max_depth=3, max_features=sqrt, n_estimators=200 ................\n",
      "[CV] . max_depth=3, max_features=sqrt, n_estimators=200, total=   0.1s\n",
      "[CV] max_depth=3, max_features=sqrt, n_estimators=200 ................\n",
      "[CV] . max_depth=3, max_features=sqrt, n_estimators=200, total=   0.1s\n",
      "[CV] max_depth=3, max_features=sqrt, n_estimators=200 ................\n",
      "[CV] . max_depth=3, max_features=sqrt, n_estimators=200, total=   0.1s\n",
      "[CV] max_depth=3, max_features=sqrt, n_estimators=200 ................\n",
      "[CV] . max_depth=3, max_features=sqrt, n_estimators=200, total=   0.1s\n",
      "[CV] max_depth=3, max_features=sqrt, n_estimators=700 ................\n",
      "[CV] . max_depth=3, max_features=sqrt, n_estimators=700, total=   0.3s\n",
      "[CV] max_depth=3, max_features=sqrt, n_estimators=700 ................\n",
      "[CV] . max_depth=3, max_features=sqrt, n_estimators=700, total=   0.3s\n",
      "[CV] max_depth=3, max_features=sqrt, n_estimators=700 ................\n",
      "[CV] . max_depth=3, max_features=sqrt, n_estimators=700, total=   0.3s\n",
      "[CV] max_depth=3, max_features=sqrt, n_estimators=700 ................\n",
      "[CV] . max_depth=3, max_features=sqrt, n_estimators=700, total=   0.3s\n",
      "[CV] max_depth=3, max_features=sqrt, n_estimators=700 ................\n",
      "[CV] . max_depth=3, max_features=sqrt, n_estimators=700, total=   0.3s\n",
      "[CV] max_depth=3, max_features=log2, n_estimators=200 ................\n",
      "[CV] . max_depth=3, max_features=log2, n_estimators=200, total=   0.1s\n",
      "[CV] max_depth=3, max_features=log2, n_estimators=200 ................\n",
      "[CV] . max_depth=3, max_features=log2, n_estimators=200, total=   0.1s\n",
      "[CV] max_depth=3, max_features=log2, n_estimators=200 ................\n",
      "[CV] . max_depth=3, max_features=log2, n_estimators=200, total=   0.1s\n",
      "[CV] max_depth=3, max_features=log2, n_estimators=200 ................\n",
      "[CV] . max_depth=3, max_features=log2, n_estimators=200, total=   0.1s\n",
      "[CV] max_depth=3, max_features=log2, n_estimators=200 ................\n",
      "[CV] . max_depth=3, max_features=log2, n_estimators=200, total=   0.1s\n",
      "[CV] max_depth=3, max_features=log2, n_estimators=700 ................\n",
      "[CV] . max_depth=3, max_features=log2, n_estimators=700, total=   0.3s\n",
      "[CV] max_depth=3, max_features=log2, n_estimators=700 ................\n",
      "[CV] . max_depth=3, max_features=log2, n_estimators=700, total=   0.3s\n",
      "[CV] max_depth=3, max_features=log2, n_estimators=700 ................\n",
      "[CV] . max_depth=3, max_features=log2, n_estimators=700, total=   0.3s\n",
      "[CV] max_depth=3, max_features=log2, n_estimators=700 ................\n",
      "[CV] . max_depth=3, max_features=log2, n_estimators=700, total=   0.3s\n",
      "[CV] max_depth=3, max_features=log2, n_estimators=700 ................\n",
      "[CV] . max_depth=3, max_features=log2, n_estimators=700, total=   0.3s\n",
      "[CV] max_depth=4, max_features=auto, n_estimators=200 ................\n",
      "[CV] . max_depth=4, max_features=auto, n_estimators=200, total=   0.1s\n",
      "[CV] max_depth=4, max_features=auto, n_estimators=200 ................\n"
     ]
    },
    {
     "name": "stdout",
     "output_type": "stream",
     "text": [
      "[CV] . max_depth=4, max_features=auto, n_estimators=200, total=   0.1s\n",
      "[CV] max_depth=4, max_features=auto, n_estimators=200 ................\n",
      "[CV] . max_depth=4, max_features=auto, n_estimators=200, total=   0.1s\n",
      "[CV] max_depth=4, max_features=auto, n_estimators=200 ................\n",
      "[CV] . max_depth=4, max_features=auto, n_estimators=200, total=   0.1s\n",
      "[CV] max_depth=4, max_features=auto, n_estimators=200 ................\n",
      "[CV] . max_depth=4, max_features=auto, n_estimators=200, total=   0.1s\n",
      "[CV] max_depth=4, max_features=auto, n_estimators=700 ................\n",
      "[CV] . max_depth=4, max_features=auto, n_estimators=700, total=   0.4s\n",
      "[CV] max_depth=4, max_features=auto, n_estimators=700 ................\n",
      "[CV] . max_depth=4, max_features=auto, n_estimators=700, total=   0.4s\n",
      "[CV] max_depth=4, max_features=auto, n_estimators=700 ................\n",
      "[CV] . max_depth=4, max_features=auto, n_estimators=700, total=   0.4s\n",
      "[CV] max_depth=4, max_features=auto, n_estimators=700 ................\n",
      "[CV] . max_depth=4, max_features=auto, n_estimators=700, total=   0.4s\n",
      "[CV] max_depth=4, max_features=auto, n_estimators=700 ................\n",
      "[CV] . max_depth=4, max_features=auto, n_estimators=700, total=   0.4s\n",
      "[CV] max_depth=4, max_features=sqrt, n_estimators=200 ................\n",
      "[CV] . max_depth=4, max_features=sqrt, n_estimators=200, total=   0.1s\n",
      "[CV] max_depth=4, max_features=sqrt, n_estimators=200 ................\n",
      "[CV] . max_depth=4, max_features=sqrt, n_estimators=200, total=   0.1s\n",
      "[CV] max_depth=4, max_features=sqrt, n_estimators=200 ................\n",
      "[CV] . max_depth=4, max_features=sqrt, n_estimators=200, total=   0.1s\n",
      "[CV] max_depth=4, max_features=sqrt, n_estimators=200 ................\n",
      "[CV] . max_depth=4, max_features=sqrt, n_estimators=200, total=   0.1s\n",
      "[CV] max_depth=4, max_features=sqrt, n_estimators=200 ................\n",
      "[CV] . max_depth=4, max_features=sqrt, n_estimators=200, total=   0.1s\n",
      "[CV] max_depth=4, max_features=sqrt, n_estimators=700 ................\n",
      "[CV] . max_depth=4, max_features=sqrt, n_estimators=700, total=   0.4s\n",
      "[CV] max_depth=4, max_features=sqrt, n_estimators=700 ................\n",
      "[CV] . max_depth=4, max_features=sqrt, n_estimators=700, total=   0.4s\n",
      "[CV] max_depth=4, max_features=sqrt, n_estimators=700 ................\n",
      "[CV] . max_depth=4, max_features=sqrt, n_estimators=700, total=   0.4s\n",
      "[CV] max_depth=4, max_features=sqrt, n_estimators=700 ................\n",
      "[CV] . max_depth=4, max_features=sqrt, n_estimators=700, total=   0.4s\n",
      "[CV] max_depth=4, max_features=sqrt, n_estimators=700 ................\n",
      "[CV] . max_depth=4, max_features=sqrt, n_estimators=700, total=   0.4s\n",
      "[CV] max_depth=4, max_features=log2, n_estimators=200 ................\n",
      "[CV] . max_depth=4, max_features=log2, n_estimators=200, total=   0.1s\n",
      "[CV] max_depth=4, max_features=log2, n_estimators=200 ................\n",
      "[CV] . max_depth=4, max_features=log2, n_estimators=200, total=   0.1s\n",
      "[CV] max_depth=4, max_features=log2, n_estimators=200 ................\n",
      "[CV] . max_depth=4, max_features=log2, n_estimators=200, total=   0.1s\n",
      "[CV] max_depth=4, max_features=log2, n_estimators=200 ................\n",
      "[CV] . max_depth=4, max_features=log2, n_estimators=200, total=   0.1s\n",
      "[CV] max_depth=4, max_features=log2, n_estimators=200 ................\n",
      "[CV] . max_depth=4, max_features=log2, n_estimators=200, total=   0.1s\n",
      "[CV] max_depth=4, max_features=log2, n_estimators=700 ................\n",
      "[CV] . max_depth=4, max_features=log2, n_estimators=700, total=   0.4s\n",
      "[CV] max_depth=4, max_features=log2, n_estimators=700 ................\n",
      "[CV] . max_depth=4, max_features=log2, n_estimators=700, total=   0.4s\n",
      "[CV] max_depth=4, max_features=log2, n_estimators=700 ................\n",
      "[CV] . max_depth=4, max_features=log2, n_estimators=700, total=   0.4s\n",
      "[CV] max_depth=4, max_features=log2, n_estimators=700 ................\n",
      "[CV] . max_depth=4, max_features=log2, n_estimators=700, total=   0.4s\n",
      "[CV] max_depth=4, max_features=log2, n_estimators=700 ................\n",
      "[CV] . max_depth=4, max_features=log2, n_estimators=700, total=   0.4s\n",
      "[CV] max_depth=5, max_features=auto, n_estimators=200 ................\n",
      "[CV] . max_depth=5, max_features=auto, n_estimators=200, total=   0.2s\n",
      "[CV] max_depth=5, max_features=auto, n_estimators=200 ................\n",
      "[CV] . max_depth=5, max_features=auto, n_estimators=200, total=   0.2s\n",
      "[CV] max_depth=5, max_features=auto, n_estimators=200 ................\n",
      "[CV] . max_depth=5, max_features=auto, n_estimators=200, total=   0.2s\n",
      "[CV] max_depth=5, max_features=auto, n_estimators=200 ................\n",
      "[CV] . max_depth=5, max_features=auto, n_estimators=200, total=   0.2s\n",
      "[CV] max_depth=5, max_features=auto, n_estimators=200 ................\n",
      "[CV] . max_depth=5, max_features=auto, n_estimators=200, total=   0.2s\n",
      "[CV] max_depth=5, max_features=auto, n_estimators=700 ................\n",
      "[CV] . max_depth=5, max_features=auto, n_estimators=700, total=   0.6s\n",
      "[CV] max_depth=5, max_features=auto, n_estimators=700 ................\n",
      "[CV] . max_depth=5, max_features=auto, n_estimators=700, total=   0.6s\n",
      "[CV] max_depth=5, max_features=auto, n_estimators=700 ................\n",
      "[CV] . max_depth=5, max_features=auto, n_estimators=700, total=   0.6s\n",
      "[CV] max_depth=5, max_features=auto, n_estimators=700 ................\n",
      "[CV] . max_depth=5, max_features=auto, n_estimators=700, total=   0.6s\n",
      "[CV] max_depth=5, max_features=auto, n_estimators=700 ................\n",
      "[CV] . max_depth=5, max_features=auto, n_estimators=700, total=   0.5s\n",
      "[CV] max_depth=5, max_features=sqrt, n_estimators=200 ................\n",
      "[CV] . max_depth=5, max_features=sqrt, n_estimators=200, total=   0.2s\n",
      "[CV] max_depth=5, max_features=sqrt, n_estimators=200 ................\n",
      "[CV] . max_depth=5, max_features=sqrt, n_estimators=200, total=   0.2s\n",
      "[CV] max_depth=5, max_features=sqrt, n_estimators=200 ................\n",
      "[CV] . max_depth=5, max_features=sqrt, n_estimators=200, total=   0.1s\n",
      "[CV] max_depth=5, max_features=sqrt, n_estimators=200 ................\n",
      "[CV] . max_depth=5, max_features=sqrt, n_estimators=200, total=   0.2s\n",
      "[CV] max_depth=5, max_features=sqrt, n_estimators=200 ................\n",
      "[CV] . max_depth=5, max_features=sqrt, n_estimators=200, total=   0.2s\n",
      "[CV] max_depth=5, max_features=sqrt, n_estimators=700 ................\n",
      "[CV] . max_depth=5, max_features=sqrt, n_estimators=700, total=   0.5s\n",
      "[CV] max_depth=5, max_features=sqrt, n_estimators=700 ................\n",
      "[CV] . max_depth=5, max_features=sqrt, n_estimators=700, total=   0.5s\n",
      "[CV] max_depth=5, max_features=sqrt, n_estimators=700 ................\n",
      "[CV] . max_depth=5, max_features=sqrt, n_estimators=700, total=   0.5s\n",
      "[CV] max_depth=5, max_features=sqrt, n_estimators=700 ................\n",
      "[CV] . max_depth=5, max_features=sqrt, n_estimators=700, total=   0.6s\n",
      "[CV] max_depth=5, max_features=sqrt, n_estimators=700 ................\n",
      "[CV] . max_depth=5, max_features=sqrt, n_estimators=700, total=   0.5s\n",
      "[CV] max_depth=5, max_features=log2, n_estimators=200 ................\n",
      "[CV] . max_depth=5, max_features=log2, n_estimators=200, total=   0.2s\n",
      "[CV] max_depth=5, max_features=log2, n_estimators=200 ................\n",
      "[CV] . max_depth=5, max_features=log2, n_estimators=200, total=   0.2s\n",
      "[CV] max_depth=5, max_features=log2, n_estimators=200 ................\n",
      "[CV] . max_depth=5, max_features=log2, n_estimators=200, total=   0.2s\n",
      "[CV] max_depth=5, max_features=log2, n_estimators=200 ................\n",
      "[CV] . max_depth=5, max_features=log2, n_estimators=200, total=   0.2s\n",
      "[CV] max_depth=5, max_features=log2, n_estimators=200 ................\n",
      "[CV] . max_depth=5, max_features=log2, n_estimators=200, total=   0.2s\n",
      "[CV] max_depth=5, max_features=log2, n_estimators=700 ................\n",
      "[CV] . max_depth=5, max_features=log2, n_estimators=700, total=   0.5s\n",
      "[CV] max_depth=5, max_features=log2, n_estimators=700 ................\n",
      "[CV] . max_depth=5, max_features=log2, n_estimators=700, total=   0.5s\n",
      "[CV] max_depth=5, max_features=log2, n_estimators=700 ................\n",
      "[CV] . max_depth=5, max_features=log2, n_estimators=700, total=   0.5s\n",
      "[CV] max_depth=5, max_features=log2, n_estimators=700 ................\n",
      "[CV] . max_depth=5, max_features=log2, n_estimators=700, total=   0.5s\n",
      "[CV] max_depth=5, max_features=log2, n_estimators=700 ................\n"
     ]
    },
    {
     "name": "stdout",
     "output_type": "stream",
     "text": [
      "[CV] . max_depth=5, max_features=log2, n_estimators=700, total=   0.5s\n",
      "[CV] max_depth=6, max_features=auto, n_estimators=200 ................\n",
      "[CV] . max_depth=6, max_features=auto, n_estimators=200, total=   0.2s\n",
      "[CV] max_depth=6, max_features=auto, n_estimators=200 ................\n",
      "[CV] . max_depth=6, max_features=auto, n_estimators=200, total=   0.2s\n",
      "[CV] max_depth=6, max_features=auto, n_estimators=200 ................\n",
      "[CV] . max_depth=6, max_features=auto, n_estimators=200, total=   0.2s\n",
      "[CV] max_depth=6, max_features=auto, n_estimators=200 ................\n",
      "[CV] . max_depth=6, max_features=auto, n_estimators=200, total=   0.2s\n",
      "[CV] max_depth=6, max_features=auto, n_estimators=200 ................\n",
      "[CV] . max_depth=6, max_features=auto, n_estimators=200, total=   0.2s\n",
      "[CV] max_depth=6, max_features=auto, n_estimators=700 ................\n",
      "[CV] . max_depth=6, max_features=auto, n_estimators=700, total=   0.7s\n",
      "[CV] max_depth=6, max_features=auto, n_estimators=700 ................\n",
      "[CV] . max_depth=6, max_features=auto, n_estimators=700, total=   0.6s\n",
      "[CV] max_depth=6, max_features=auto, n_estimators=700 ................\n",
      "[CV] . max_depth=6, max_features=auto, n_estimators=700, total=   0.6s\n",
      "[CV] max_depth=6, max_features=auto, n_estimators=700 ................\n",
      "[CV] . max_depth=6, max_features=auto, n_estimators=700, total=   0.6s\n",
      "[CV] max_depth=6, max_features=auto, n_estimators=700 ................\n",
      "[CV] . max_depth=6, max_features=auto, n_estimators=700, total=   0.6s\n",
      "[CV] max_depth=6, max_features=sqrt, n_estimators=200 ................\n",
      "[CV] . max_depth=6, max_features=sqrt, n_estimators=200, total=   0.2s\n",
      "[CV] max_depth=6, max_features=sqrt, n_estimators=200 ................\n",
      "[CV] . max_depth=6, max_features=sqrt, n_estimators=200, total=   0.2s\n",
      "[CV] max_depth=6, max_features=sqrt, n_estimators=200 ................\n",
      "[CV] . max_depth=6, max_features=sqrt, n_estimators=200, total=   0.2s\n",
      "[CV] max_depth=6, max_features=sqrt, n_estimators=200 ................\n",
      "[CV] . max_depth=6, max_features=sqrt, n_estimators=200, total=   0.2s\n",
      "[CV] max_depth=6, max_features=sqrt, n_estimators=200 ................\n",
      "[CV] . max_depth=6, max_features=sqrt, n_estimators=200, total=   0.2s\n",
      "[CV] max_depth=6, max_features=sqrt, n_estimators=700 ................\n",
      "[CV] . max_depth=6, max_features=sqrt, n_estimators=700, total=   0.7s\n",
      "[CV] max_depth=6, max_features=sqrt, n_estimators=700 ................\n",
      "[CV] . max_depth=6, max_features=sqrt, n_estimators=700, total=   0.6s\n",
      "[CV] max_depth=6, max_features=sqrt, n_estimators=700 ................\n",
      "[CV] . max_depth=6, max_features=sqrt, n_estimators=700, total=   0.7s\n",
      "[CV] max_depth=6, max_features=sqrt, n_estimators=700 ................\n",
      "[CV] . max_depth=6, max_features=sqrt, n_estimators=700, total=   0.7s\n",
      "[CV] max_depth=6, max_features=sqrt, n_estimators=700 ................\n",
      "[CV] . max_depth=6, max_features=sqrt, n_estimators=700, total=   0.7s\n",
      "[CV] max_depth=6, max_features=log2, n_estimators=200 ................\n",
      "[CV] . max_depth=6, max_features=log2, n_estimators=200, total=   0.2s\n",
      "[CV] max_depth=6, max_features=log2, n_estimators=200 ................\n",
      "[CV] . max_depth=6, max_features=log2, n_estimators=200, total=   0.2s\n",
      "[CV] max_depth=6, max_features=log2, n_estimators=200 ................\n",
      "[CV] . max_depth=6, max_features=log2, n_estimators=200, total=   0.2s\n",
      "[CV] max_depth=6, max_features=log2, n_estimators=200 ................\n",
      "[CV] . max_depth=6, max_features=log2, n_estimators=200, total=   0.2s\n",
      "[CV] max_depth=6, max_features=log2, n_estimators=200 ................\n",
      "[CV] . max_depth=6, max_features=log2, n_estimators=200, total=   0.2s\n",
      "[CV] max_depth=6, max_features=log2, n_estimators=700 ................\n",
      "[CV] . max_depth=6, max_features=log2, n_estimators=700, total=   0.7s\n",
      "[CV] max_depth=6, max_features=log2, n_estimators=700 ................\n",
      "[CV] . max_depth=6, max_features=log2, n_estimators=700, total=   0.6s\n",
      "[CV] max_depth=6, max_features=log2, n_estimators=700 ................\n",
      "[CV] . max_depth=6, max_features=log2, n_estimators=700, total=   0.6s\n",
      "[CV] max_depth=6, max_features=log2, n_estimators=700 ................\n",
      "[CV] . max_depth=6, max_features=log2, n_estimators=700, total=   0.7s\n",
      "[CV] max_depth=6, max_features=log2, n_estimators=700 ................\n",
      "[CV] . max_depth=6, max_features=log2, n_estimators=700, total=   0.7s\n",
      "[CV] max_depth=7, max_features=auto, n_estimators=200 ................\n",
      "[CV] . max_depth=7, max_features=auto, n_estimators=200, total=   0.3s\n",
      "[CV] max_depth=7, max_features=auto, n_estimators=200 ................\n",
      "[CV] . max_depth=7, max_features=auto, n_estimators=200, total=   0.3s\n",
      "[CV] max_depth=7, max_features=auto, n_estimators=200 ................\n",
      "[CV] . max_depth=7, max_features=auto, n_estimators=200, total=   0.3s\n",
      "[CV] max_depth=7, max_features=auto, n_estimators=200 ................\n",
      "[CV] . max_depth=7, max_features=auto, n_estimators=200, total=   0.3s\n",
      "[CV] max_depth=7, max_features=auto, n_estimators=200 ................\n",
      "[CV] . max_depth=7, max_features=auto, n_estimators=200, total=   0.3s\n",
      "[CV] max_depth=7, max_features=auto, n_estimators=700 ................\n",
      "[CV] . max_depth=7, max_features=auto, n_estimators=700, total=   0.9s\n",
      "[CV] max_depth=7, max_features=auto, n_estimators=700 ................\n",
      "[CV] . max_depth=7, max_features=auto, n_estimators=700, total=   0.7s\n",
      "[CV] max_depth=7, max_features=auto, n_estimators=700 ................\n",
      "[CV] . max_depth=7, max_features=auto, n_estimators=700, total=   0.7s\n",
      "[CV] max_depth=7, max_features=auto, n_estimators=700 ................\n",
      "[CV] . max_depth=7, max_features=auto, n_estimators=700, total=   0.7s\n",
      "[CV] max_depth=7, max_features=auto, n_estimators=700 ................\n",
      "[CV] . max_depth=7, max_features=auto, n_estimators=700, total=   0.7s\n",
      "[CV] max_depth=7, max_features=sqrt, n_estimators=200 ................\n",
      "[CV] . max_depth=7, max_features=sqrt, n_estimators=200, total=   0.3s\n",
      "[CV] max_depth=7, max_features=sqrt, n_estimators=200 ................\n",
      "[CV] . max_depth=7, max_features=sqrt, n_estimators=200, total=   0.3s\n",
      "[CV] max_depth=7, max_features=sqrt, n_estimators=200 ................\n",
      "[CV] . max_depth=7, max_features=sqrt, n_estimators=200, total=   0.3s\n",
      "[CV] max_depth=7, max_features=sqrt, n_estimators=200 ................\n",
      "[CV] . max_depth=7, max_features=sqrt, n_estimators=200, total=   0.3s\n",
      "[CV] max_depth=7, max_features=sqrt, n_estimators=200 ................\n",
      "[CV] . max_depth=7, max_features=sqrt, n_estimators=200, total=   0.3s\n",
      "[CV] max_depth=7, max_features=sqrt, n_estimators=700 ................\n",
      "[CV] . max_depth=7, max_features=sqrt, n_estimators=700, total=   1.0s\n",
      "[CV] max_depth=7, max_features=sqrt, n_estimators=700 ................\n",
      "[CV] . max_depth=7, max_features=sqrt, n_estimators=700, total=   0.7s\n",
      "[CV] max_depth=7, max_features=sqrt, n_estimators=700 ................\n",
      "[CV] . max_depth=7, max_features=sqrt, n_estimators=700, total=   0.8s\n",
      "[CV] max_depth=7, max_features=sqrt, n_estimators=700 ................\n",
      "[CV] . max_depth=7, max_features=sqrt, n_estimators=700, total=   0.7s\n",
      "[CV] max_depth=7, max_features=sqrt, n_estimators=700 ................\n",
      "[CV] . max_depth=7, max_features=sqrt, n_estimators=700, total=   0.8s\n",
      "[CV] max_depth=7, max_features=log2, n_estimators=200 ................\n",
      "[CV] . max_depth=7, max_features=log2, n_estimators=200, total=   0.3s\n",
      "[CV] max_depth=7, max_features=log2, n_estimators=200 ................\n",
      "[CV] . max_depth=7, max_features=log2, n_estimators=200, total=   0.3s\n",
      "[CV] max_depth=7, max_features=log2, n_estimators=200 ................\n",
      "[CV] . max_depth=7, max_features=log2, n_estimators=200, total=   0.3s\n",
      "[CV] max_depth=7, max_features=log2, n_estimators=200 ................\n",
      "[CV] . max_depth=7, max_features=log2, n_estimators=200, total=   0.3s\n",
      "[CV] max_depth=7, max_features=log2, n_estimators=200 ................\n",
      "[CV] . max_depth=7, max_features=log2, n_estimators=200, total=   0.3s\n",
      "[CV] max_depth=7, max_features=log2, n_estimators=700 ................\n",
      "[CV] . max_depth=7, max_features=log2, n_estimators=700, total=   1.0s\n",
      "[CV] max_depth=7, max_features=log2, n_estimators=700 ................\n",
      "[CV] . max_depth=7, max_features=log2, n_estimators=700, total=   0.7s\n",
      "[CV] max_depth=7, max_features=log2, n_estimators=700 ................\n"
     ]
    },
    {
     "name": "stdout",
     "output_type": "stream",
     "text": [
      "[CV] . max_depth=7, max_features=log2, n_estimators=700, total=   0.8s\n",
      "[CV] max_depth=7, max_features=log2, n_estimators=700 ................\n",
      "[CV] . max_depth=7, max_features=log2, n_estimators=700, total=   0.8s\n",
      "[CV] max_depth=7, max_features=log2, n_estimators=700 ................\n",
      "[CV] . max_depth=7, max_features=log2, n_estimators=700, total=   0.8s\n",
      "[CV] max_depth=8, max_features=auto, n_estimators=200 ................\n",
      "[CV] . max_depth=8, max_features=auto, n_estimators=200, total=   0.3s\n",
      "[CV] max_depth=8, max_features=auto, n_estimators=200 ................\n",
      "[CV] . max_depth=8, max_features=auto, n_estimators=200, total=   0.3s\n",
      "[CV] max_depth=8, max_features=auto, n_estimators=200 ................\n",
      "[CV] . max_depth=8, max_features=auto, n_estimators=200, total=   0.3s\n",
      "[CV] max_depth=8, max_features=auto, n_estimators=200 ................\n",
      "[CV] . max_depth=8, max_features=auto, n_estimators=200, total=   0.3s\n",
      "[CV] max_depth=8, max_features=auto, n_estimators=200 ................\n",
      "[CV] . max_depth=8, max_features=auto, n_estimators=200, total=   0.3s\n",
      "[CV] max_depth=8, max_features=auto, n_estimators=700 ................\n",
      "[CV] . max_depth=8, max_features=auto, n_estimators=700, total=   1.0s\n",
      "[CV] max_depth=8, max_features=auto, n_estimators=700 ................\n",
      "[CV] . max_depth=8, max_features=auto, n_estimators=700, total=   0.6s\n",
      "[CV] max_depth=8, max_features=auto, n_estimators=700 ................\n",
      "[CV] . max_depth=8, max_features=auto, n_estimators=700, total=   0.7s\n",
      "[CV] max_depth=8, max_features=auto, n_estimators=700 ................\n",
      "[CV] . max_depth=8, max_features=auto, n_estimators=700, total=   0.7s\n",
      "[CV] max_depth=8, max_features=auto, n_estimators=700 ................\n",
      "[CV] . max_depth=8, max_features=auto, n_estimators=700, total=   0.8s\n",
      "[CV] max_depth=8, max_features=sqrt, n_estimators=200 ................\n",
      "[CV] . max_depth=8, max_features=sqrt, n_estimators=200, total=   0.4s\n",
      "[CV] max_depth=8, max_features=sqrt, n_estimators=200 ................\n",
      "[CV] . max_depth=8, max_features=sqrt, n_estimators=200, total=   0.4s\n",
      "[CV] max_depth=8, max_features=sqrt, n_estimators=200 ................\n",
      "[CV] . max_depth=8, max_features=sqrt, n_estimators=200, total=   0.4s\n",
      "[CV] max_depth=8, max_features=sqrt, n_estimators=200 ................\n",
      "[CV] . max_depth=8, max_features=sqrt, n_estimators=200, total=   0.4s\n",
      "[CV] max_depth=8, max_features=sqrt, n_estimators=200 ................\n",
      "[CV] . max_depth=8, max_features=sqrt, n_estimators=200, total=   0.4s\n",
      "[CV] max_depth=8, max_features=sqrt, n_estimators=700 ................\n",
      "[CV] . max_depth=8, max_features=sqrt, n_estimators=700, total=   1.3s\n",
      "[CV] max_depth=8, max_features=sqrt, n_estimators=700 ................\n",
      "[CV] . max_depth=8, max_features=sqrt, n_estimators=700, total=   0.8s\n",
      "[CV] max_depth=8, max_features=sqrt, n_estimators=700 ................\n",
      "[CV] . max_depth=8, max_features=sqrt, n_estimators=700, total=   0.9s\n",
      "[CV] max_depth=8, max_features=sqrt, n_estimators=700 ................\n",
      "[CV] . max_depth=8, max_features=sqrt, n_estimators=700, total=   0.9s\n",
      "[CV] max_depth=8, max_features=sqrt, n_estimators=700 ................\n",
      "[CV] . max_depth=8, max_features=sqrt, n_estimators=700, total=   0.9s\n",
      "[CV] max_depth=8, max_features=log2, n_estimators=200 ................\n",
      "[CV] . max_depth=8, max_features=log2, n_estimators=200, total=   0.4s\n",
      "[CV] max_depth=8, max_features=log2, n_estimators=200 ................\n",
      "[CV] . max_depth=8, max_features=log2, n_estimators=200, total=   0.4s\n",
      "[CV] max_depth=8, max_features=log2, n_estimators=200 ................\n",
      "[CV] . max_depth=8, max_features=log2, n_estimators=200, total=   0.4s\n",
      "[CV] max_depth=8, max_features=log2, n_estimators=200 ................\n",
      "[CV] . max_depth=8, max_features=log2, n_estimators=200, total=   0.4s\n",
      "[CV] max_depth=8, max_features=log2, n_estimators=200 ................\n",
      "[CV] . max_depth=8, max_features=log2, n_estimators=200, total=   0.4s\n",
      "[CV] max_depth=8, max_features=log2, n_estimators=700 ................\n",
      "[CV] . max_depth=8, max_features=log2, n_estimators=700, total=   1.3s\n",
      "[CV] max_depth=8, max_features=log2, n_estimators=700 ................\n",
      "[CV] . max_depth=8, max_features=log2, n_estimators=700, total=   0.8s\n",
      "[CV] max_depth=8, max_features=log2, n_estimators=700 ................\n",
      "[CV] . max_depth=8, max_features=log2, n_estimators=700, total=   0.9s\n",
      "[CV] max_depth=8, max_features=log2, n_estimators=700 ................\n",
      "[CV] . max_depth=8, max_features=log2, n_estimators=700, total=   0.8s\n",
      "[CV] max_depth=8, max_features=log2, n_estimators=700 ................\n",
      "[CV] . max_depth=8, max_features=log2, n_estimators=700, total=   0.8s\n",
      "[CV] max_depth=9, max_features=auto, n_estimators=200 ................\n",
      "[CV] . max_depth=9, max_features=auto, n_estimators=200, total=   0.3s\n",
      "[CV] max_depth=9, max_features=auto, n_estimators=200 ................\n",
      "[CV] . max_depth=9, max_features=auto, n_estimators=200, total=   0.3s\n",
      "[CV] max_depth=9, max_features=auto, n_estimators=200 ................\n",
      "[CV] . max_depth=9, max_features=auto, n_estimators=200, total=   0.3s\n",
      "[CV] max_depth=9, max_features=auto, n_estimators=200 ................\n",
      "[CV] . max_depth=9, max_features=auto, n_estimators=200, total=   0.3s\n",
      "[CV] max_depth=9, max_features=auto, n_estimators=200 ................\n",
      "[CV] . max_depth=9, max_features=auto, n_estimators=200, total=   0.3s\n",
      "[CV] max_depth=9, max_features=auto, n_estimators=700 ................\n",
      "[CV] . max_depth=9, max_features=auto, n_estimators=700, total=   1.0s\n",
      "[CV] max_depth=9, max_features=auto, n_estimators=700 ................\n",
      "[CV] . max_depth=9, max_features=auto, n_estimators=700, total=   0.7s\n",
      "[CV] max_depth=9, max_features=auto, n_estimators=700 ................\n",
      "[CV] . max_depth=9, max_features=auto, n_estimators=700, total=   0.8s\n",
      "[CV] max_depth=9, max_features=auto, n_estimators=700 ................\n",
      "[CV] . max_depth=9, max_features=auto, n_estimators=700, total=   0.7s\n",
      "[CV] max_depth=9, max_features=auto, n_estimators=700 ................\n",
      "[CV] . max_depth=9, max_features=auto, n_estimators=700, total=   0.7s\n",
      "[CV] max_depth=9, max_features=sqrt, n_estimators=200 ................\n",
      "[CV] . max_depth=9, max_features=sqrt, n_estimators=200, total=   0.5s\n",
      "[CV] max_depth=9, max_features=sqrt, n_estimators=200 ................\n",
      "[CV] . max_depth=9, max_features=sqrt, n_estimators=200, total=   0.5s\n",
      "[CV] max_depth=9, max_features=sqrt, n_estimators=200 ................\n",
      "[CV] . max_depth=9, max_features=sqrt, n_estimators=200, total=   0.5s\n",
      "[CV] max_depth=9, max_features=sqrt, n_estimators=200 ................\n",
      "[CV] . max_depth=9, max_features=sqrt, n_estimators=200, total=   0.5s\n",
      "[CV] max_depth=9, max_features=sqrt, n_estimators=200 ................\n",
      "[CV] . max_depth=9, max_features=sqrt, n_estimators=200, total=   0.5s\n",
      "[CV] max_depth=9, max_features=sqrt, n_estimators=700 ................\n",
      "[CV] . max_depth=9, max_features=sqrt, n_estimators=700, total=   1.6s\n",
      "[CV] max_depth=9, max_features=sqrt, n_estimators=700 ................\n",
      "[CV] . max_depth=9, max_features=sqrt, n_estimators=700, total=   0.9s\n",
      "[CV] max_depth=9, max_features=sqrt, n_estimators=700 ................\n",
      "[CV] . max_depth=9, max_features=sqrt, n_estimators=700, total=   1.1s\n",
      "[CV] max_depth=9, max_features=sqrt, n_estimators=700 ................\n",
      "[CV] . max_depth=9, max_features=sqrt, n_estimators=700, total=   1.0s\n",
      "[CV] max_depth=9, max_features=sqrt, n_estimators=700 ................\n",
      "[CV] . max_depth=9, max_features=sqrt, n_estimators=700, total=   1.0s\n",
      "[CV] max_depth=9, max_features=log2, n_estimators=200 ................\n",
      "[CV] . max_depth=9, max_features=log2, n_estimators=200, total=   0.5s\n",
      "[CV] max_depth=9, max_features=log2, n_estimators=200 ................\n",
      "[CV] . max_depth=9, max_features=log2, n_estimators=200, total=   0.5s\n",
      "[CV] max_depth=9, max_features=log2, n_estimators=200 ................\n",
      "[CV] . max_depth=9, max_features=log2, n_estimators=200, total=   0.5s\n",
      "[CV] max_depth=9, max_features=log2, n_estimators=200 ................\n",
      "[CV] . max_depth=9, max_features=log2, n_estimators=200, total=   0.5s\n",
      "[CV] max_depth=9, max_features=log2, n_estimators=200 ................\n",
      "[CV] . max_depth=9, max_features=log2, n_estimators=200, total=   0.5s\n",
      "[CV] max_depth=9, max_features=log2, n_estimators=700 ................\n"
     ]
    },
    {
     "name": "stdout",
     "output_type": "stream",
     "text": [
      "[CV] . max_depth=9, max_features=log2, n_estimators=700, total=   1.7s\n",
      "[CV] max_depth=9, max_features=log2, n_estimators=700 ................\n",
      "[CV] . max_depth=9, max_features=log2, n_estimators=700, total=   0.9s\n",
      "[CV] max_depth=9, max_features=log2, n_estimators=700 ................\n",
      "[CV] . max_depth=9, max_features=log2, n_estimators=700, total=   1.0s\n",
      "[CV] max_depth=9, max_features=log2, n_estimators=700 ................\n",
      "[CV] . max_depth=9, max_features=log2, n_estimators=700, total=   0.9s\n",
      "[CV] max_depth=9, max_features=log2, n_estimators=700 ................\n",
      "[CV] . max_depth=9, max_features=log2, n_estimators=700, total=   1.0s\n",
      "[CV] max_depth=10, max_features=auto, n_estimators=200 ...............\n",
      "[CV]  max_depth=10, max_features=auto, n_estimators=200, total=   0.3s\n",
      "[CV] max_depth=10, max_features=auto, n_estimators=200 ...............\n",
      "[CV]  max_depth=10, max_features=auto, n_estimators=200, total=   0.3s\n",
      "[CV] max_depth=10, max_features=auto, n_estimators=200 ...............\n",
      "[CV]  max_depth=10, max_features=auto, n_estimators=200, total=   0.3s\n",
      "[CV] max_depth=10, max_features=auto, n_estimators=200 ...............\n",
      "[CV]  max_depth=10, max_features=auto, n_estimators=200, total=   0.3s\n",
      "[CV] max_depth=10, max_features=auto, n_estimators=200 ...............\n",
      "[CV]  max_depth=10, max_features=auto, n_estimators=200, total=   0.3s\n",
      "[CV] max_depth=10, max_features=auto, n_estimators=700 ...............\n",
      "[CV]  max_depth=10, max_features=auto, n_estimators=700, total=   1.0s\n",
      "[CV] max_depth=10, max_features=auto, n_estimators=700 ...............\n",
      "[CV]  max_depth=10, max_features=auto, n_estimators=700, total=   0.7s\n",
      "[CV] max_depth=10, max_features=auto, n_estimators=700 ...............\n",
      "[CV]  max_depth=10, max_features=auto, n_estimators=700, total=   0.8s\n",
      "[CV] max_depth=10, max_features=auto, n_estimators=700 ...............\n",
      "[CV]  max_depth=10, max_features=auto, n_estimators=700, total=   0.7s\n",
      "[CV] max_depth=10, max_features=auto, n_estimators=700 ...............\n",
      "[CV]  max_depth=10, max_features=auto, n_estimators=700, total=   0.8s\n",
      "[CV] max_depth=10, max_features=sqrt, n_estimators=200 ...............\n",
      "[CV]  max_depth=10, max_features=sqrt, n_estimators=200, total=   0.6s\n",
      "[CV] max_depth=10, max_features=sqrt, n_estimators=200 ...............\n",
      "[CV]  max_depth=10, max_features=sqrt, n_estimators=200, total=   0.4s\n",
      "[CV] max_depth=10, max_features=sqrt, n_estimators=200 ...............\n",
      "[CV]  max_depth=10, max_features=sqrt, n_estimators=200, total=   0.5s\n",
      "[CV] max_depth=10, max_features=sqrt, n_estimators=200 ...............\n",
      "[CV]  max_depth=10, max_features=sqrt, n_estimators=200, total=   0.6s\n",
      "[CV] max_depth=10, max_features=sqrt, n_estimators=200 ...............\n",
      "[CV]  max_depth=10, max_features=sqrt, n_estimators=200, total=   0.6s\n",
      "[CV] max_depth=10, max_features=sqrt, n_estimators=700 ...............\n",
      "[CV]  max_depth=10, max_features=sqrt, n_estimators=700, total=   1.9s\n",
      "[CV] max_depth=10, max_features=sqrt, n_estimators=700 ...............\n",
      "[CV]  max_depth=10, max_features=sqrt, n_estimators=700, total=   0.9s\n",
      "[CV] max_depth=10, max_features=sqrt, n_estimators=700 ...............\n",
      "[CV]  max_depth=10, max_features=sqrt, n_estimators=700, total=   1.0s\n",
      "[CV] max_depth=10, max_features=sqrt, n_estimators=700 ...............\n",
      "[CV]  max_depth=10, max_features=sqrt, n_estimators=700, total=   1.0s\n",
      "[CV] max_depth=10, max_features=sqrt, n_estimators=700 ...............\n",
      "[CV]  max_depth=10, max_features=sqrt, n_estimators=700, total=   1.0s\n",
      "[CV] max_depth=10, max_features=log2, n_estimators=200 ...............\n",
      "[CV]  max_depth=10, max_features=log2, n_estimators=200, total=   0.6s\n",
      "[CV] max_depth=10, max_features=log2, n_estimators=200 ...............\n",
      "[CV]  max_depth=10, max_features=log2, n_estimators=200, total=   0.5s\n",
      "[CV] max_depth=10, max_features=log2, n_estimators=200 ...............\n",
      "[CV]  max_depth=10, max_features=log2, n_estimators=200, total=   0.6s\n",
      "[CV] max_depth=10, max_features=log2, n_estimators=200 ...............\n",
      "[CV]  max_depth=10, max_features=log2, n_estimators=200, total=   0.6s\n",
      "[CV] max_depth=10, max_features=log2, n_estimators=200 ...............\n",
      "[CV]  max_depth=10, max_features=log2, n_estimators=200, total=   0.6s\n",
      "[CV] max_depth=10, max_features=log2, n_estimators=700 ...............\n",
      "[CV]  max_depth=10, max_features=log2, n_estimators=700, total=   1.9s\n",
      "[CV] max_depth=10, max_features=log2, n_estimators=700 ...............\n",
      "[CV]  max_depth=10, max_features=log2, n_estimators=700, total=   0.9s\n",
      "[CV] max_depth=10, max_features=log2, n_estimators=700 ...............\n",
      "[CV]  max_depth=10, max_features=log2, n_estimators=700, total=   1.0s\n",
      "[CV] max_depth=10, max_features=log2, n_estimators=700 ...............\n",
      "[CV]  max_depth=10, max_features=log2, n_estimators=700, total=   1.0s\n",
      "[CV] max_depth=10, max_features=log2, n_estimators=700 ...............\n",
      "[CV]  max_depth=10, max_features=log2, n_estimators=700, total=   1.0s\n"
     ]
    },
    {
     "name": "stderr",
     "output_type": "stream",
     "text": [
      "[Parallel(n_jobs=1)]: Done 270 out of 270 | elapsed:  2.0min finished\n"
     ]
    },
    {
     "data": {
      "text/plain": [
       "GridSearchCV(cv=5, estimator=GradientBoostingClassifier(),\n",
       "             param_grid={'max_depth': [2, 3, 4, 5, 6, 7, 8, 9, 10],\n",
       "                         'max_features': ['auto', 'sqrt', 'log2'],\n",
       "                         'n_estimators': [200, 700]},\n",
       "             verbose=2)"
      ]
     },
     "execution_count": 82,
     "metadata": {},
     "output_type": "execute_result"
    }
   ],
   "source": [
    "# BOOSTING\n",
    "\n",
    "cv_scores_BOO = cross_val_score(GradientBoostingClassifier(),X_train,y_train,cv=5)\n",
    "param_grid_BOO = {\n",
    "    'n_estimators': [200, 700],\n",
    "    'max_features': ['auto', 'sqrt', 'log2'],\n",
    "    'max_depth': [2, 3, 4, 5, 6, 7, 8, 9, 10]\n",
    "}\n",
    "grid_BOO = GridSearchCV(GradientBoostingClassifier(),param_grid_BOO,refit=True,verbose=2,cv=5)\n",
    "grid_BOO.fit(X_train,y_train)"
   ]
  },
  {
   "cell_type": "code",
   "execution_count": 83,
   "metadata": {},
   "outputs": [
    {
     "name": "stdout",
     "output_type": "stream",
     "text": [
      "GradientBoostingClassifier(max_depth=2, max_features='auto', n_estimators=200)\n"
     ]
    }
   ],
   "source": [
    "print(grid_BOO.best_estimator_)"
   ]
  },
  {
   "cell_type": "code",
   "execution_count": 84,
   "metadata": {},
   "outputs": [
    {
     "name": "stdout",
     "output_type": "stream",
     "text": [
      "Confusion matrix, without normalization\n",
      "[[55  3]\n",
      " [ 3 19]]\n",
      "Normalized confusion matrix\n",
      "[[0.94827586 0.05172414]\n",
      " [0.13636364 0.86363636]]\n"
     ]
    },
    {
     "data": {
      "image/png": "[encoded data removed]",
      "text/plain": [
       "<Figure size 576x396 with 2 Axes>"
      ]
     },
     "metadata": {},
     "output_type": "display_data"
    },
    {
     "data": {
      "image/png": "[encoded data removed]",
      "text/plain": [
       "<Figure size 576x396 with 2 Axes>"
      ]
     },
     "metadata": {},
     "output_type": "display_data"
    }
   ],
   "source": [
    "classifier_BOO = GradientBoostingClassifier(max_depth=2, max_features='auto', n_estimators=200).fit(X_train, y_train)\n",
    "y_pred_BOO = classifier_BOO.predict(X_test)\n",
    "confusion_matrix(y_test, y_pred_BOO)\n",
    "\n",
    "titles_options = [(\"Confusion matrix, without normalization\", None),\n",
    "                  (\"Normalized confusion matrix\", 'true')]\n",
    "for title, normalize in titles_options:\n",
    "    disp = plot_confusion_matrix(classifier_BOO, X_test, y_test,\n",
    "                                 #display_labels=y_test,\n",
    "                                 cmap=plt.cm.Blues,\n",
    "                                 normalize=normalize)\n",
    "    disp.ax_.set_title(title)\n",
    "\n",
    "    print(title)\n",
    "    print(disp.confusion_matrix)\n",
    "\n",
    "plt.show()"
   ]
  },
  {
   "cell_type": "code",
   "execution_count": 85,
   "metadata": {},
   "outputs": [
    {
     "data": {
      "text/plain": [
       "0.9745297805642633"
      ]
     },
     "execution_count": 85,
     "metadata": {},
     "output_type": "execute_result"
    }
   ],
   "source": [
    "y_pred_prob_BOO = classifier_BOO.predict_proba(X_test)\n",
    "false_positive_rate_BOO, true_positive_rate_BOO, thresholds_BOO = roc_curve(y_test, y_pred_prob_BOO[:,1])\n",
    "roc_auc_BOO = auc(false_positive_rate_BOO, true_positive_rate_BOO)\n",
    "roc_auc_BOO"
   ]
  },
  {
   "cell_type": "code",
   "execution_count": 86,
   "metadata": {},
   "outputs": [
    {
     "data": {
      "image/png": "[encoded data removed]",
      "text/plain": [
       "<Figure size 576x396 with 1 Axes>"
      ]
     },
     "metadata": {},
     "output_type": "display_data"
    }
   ],
   "source": [
    "plt.title('Receiver Operating Characteristic')\n",
    "plt.plot(false_positive_rate_BOO,true_positive_rate_BOO, color='red',label = 'AUC = %0.2f' % roc_auc_BOO)\n",
    "plt.legend(loc = 'lower right')\n",
    "plt.plot([0, 1], [0, 1],linestyle='--')\n",
    "plt.axis('tight')\n",
    "plt.ylabel('True Positive Rate')\n",
    "plt.xlabel('False Positive Rate')\n",
    "plt.show()"
   ]
  },
  {
   "cell_type": "code",
   "execution_count": 89,
   "metadata": {},
   "outputs": [],
   "source": [
    "# Concluciones\n",
    "\n",
    "# Luego de analizar los resultados de los tres modelos podemos observar que utilizar Random Forest resulta ser el mejor en\n",
    "# este caso. Tanto Boosting como Random forest obtienen un resultado optimo por lo que ambos son viables para el uso.\n",
    "# Adicionalmente, el modelo de SVN obtiene un resultado muy bajo en comparación a los otros, esto puede deberse a que\n",
    "# solo se analizó un kernel."
   ]
  },
  {
   "cell_type": "code",
   "execution_count": 90,
   "metadata": {},
   "outputs": [
    {
     "data": {
      "image/png": "[encoded data removed]",
      "text/plain": [
       "<Figure size 576x396 with 1 Axes>"
      ]
     },
     "metadata": {},
     "output_type": "display_data"
    }
   ],
   "source": [
    "#3. Programar una función para presentar en una sola gráfica la curva ROC (Receiver Operating Characteristic)\n",
    "#   haciendo uso de los modelos de Machine Learning SVM, Random Forest y Boosting. Presentar sus conclusiones. (4 puntos)\n",
    "\n",
    "plt.title('Receiver Operating Characteristic')\n",
    "\n",
    "plt.plot(false_positive_rate_SVN,true_positive_rate_SVN, color='blue',label = 'AUC_SVN = %0.3f' % roc_auc_SVN)\n",
    "\n",
    "plt.plot(false_positive_rate_RF,true_positive_rate_RF, color='red',label = 'AUC_Random_Forest = %0.3f' % roc_auc_RF)\n",
    "\n",
    "plt.plot(false_positive_rate_BOO,true_positive_rate_BOO, color='orange',label = 'AUC_Boosting = %0.3f' % roc_auc_BOO)\n",
    "\n",
    "plt.legend(loc = 'lower right')\n",
    "\n",
    "plt.plot([0, 1], [0, 1],linestyle='--')\n",
    "\n",
    "plt.axis('tight')\n",
    "\n",
    "plt.ylabel('True Positive Rate')\n",
    "\n",
    "plt.xlabel('False Positive Rate')\n",
    "\n",
    "plt.show()"
   ]
  },
  {
   "cell_type": "code",
   "execution_count": null,
   "metadata": {},
   "outputs": [],
   "source": [
    "# Concluciones\n",
    "# El modelo random Forest resulta ser el mejor entre el resto por un margen corto al modelo Boosting"
   ]
  }
 ],
 "metadata": {
  "kernelspec": {
   "display_name": "Python 3",
   "language": "python",
   "name": "python3"
  },
  "language_info": {
   "codemirror_mode": {
    "name": "ipython",
    "version": 3
   },
   "file_extension": ".py",
   "mimetype": "text/x-python",
   "name": "python",
   "nbconvert_exporter": "python",
   "pygments_lexer": "ipython3",
   "version": "3.10.10"
  }
 },
 "nbformat": 4,
 "nbformat_minor": 4
}
