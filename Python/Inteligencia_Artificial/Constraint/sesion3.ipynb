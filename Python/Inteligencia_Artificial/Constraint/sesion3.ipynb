{
 "cells": [
  {
   "cell_type": "code",
   "execution_count": 1,
   "source": [
    "from ortools.sat.python import cp_model"
   ],
   "outputs": [],
   "metadata": {}
  },
  {
   "cell_type": "code",
   "execution_count": 2,
   "source": [
    "model = cp_model.CpModel()\r\n",
    "# variables y dominios\r\n",
    "x = model.NewIntVar(0,2,'x')\r\n",
    "y = model.NewIntVar(0,2,'y')\r\n",
    "z = model.NewIntVar(0,2,'z')\r\n",
    "# restricciones\r\n",
    "model.Add(x != y)\r\n",
    "model.Add(y == z + 1)\r\n",
    "\r\n",
    "solver = cp_model.CpSolver()\r\n",
    "status = solver.Solve(model)\r\n",
    "print(solver)\r\n",
    "if status == cp_model.OPTIMAL:\r\n",
    "    print('x = {:d}'.format(solver.Value(x)))\r\n",
    "    print('y = {:d}'.format(solver.Value(y)))\r\n",
    "    print('z = {:d}'.format(solver.Value(z)))"
   ],
   "outputs": [
    {
     "output_type": "stream",
     "name": "stdout",
     "text": [
      "<ortools.sat.python.cp_model.CpSolver object at 0x000002701A834910>\n",
      "x = 0\n",
      "y = 1\n",
      "z = 0\n"
     ]
    }
   ],
   "metadata": {}
  },
  {
   "cell_type": "markdown",
   "source": [
    "## Brute Force"
   ],
   "metadata": {}
  },
  {
   "cell_type": "code",
   "execution_count": 3,
   "source": [
    "def cryptogramBF():\r\n",
    "    for s in range(1,10):\r\n",
    "        for e in range(10):\r\n",
    "            for n in range(10):\r\n",
    "                for d in range(10):\r\n",
    "                    for m in range(1,2):\r\n",
    "                        for o in range(10):\r\n",
    "                            for r in range(10):\r\n",
    "                                for y in range(10):\r\n",
    "                                    l = [s,e,n,d,m,o,r,y]\r\n",
    "                                    c = set(l)\r\n",
    "                                    if len(l) == len(c) and 1000*(s+m)+100*(e+o)+10*(n+r)+(d+e) == 10000*m+1000*o+100*n+10*e+y:\r\n",
    "                                        print(' ',s,e,n,d,'+')\r\n",
    "                                        print(' ',m,o,r,e)\r\n",
    "                                        print(\"----------\")\r\n",
    "                                        print(m,o,n,e,y)\r\n",
    "cryptogramBF()"
   ],
   "outputs": [
    {
     "output_type": "stream",
     "name": "stdout",
     "text": [
      "  9 5 6 7 +\n",
      "  1 0 8 5\n",
      "----------\n",
      "1 0 6 5 2\n"
     ]
    }
   ],
   "metadata": {}
  },
  {
   "cell_type": "code",
   "execution_count": 4,
   "source": [
    "model = cp_model.CpModel()\r\n",
    "# variables y dominios\r\n",
    "s = model.NewIntVar(1,9,'s')\r\n",
    "e = model.NewIntVar(0,9,'e')\r\n",
    "n = model.NewIntVar(0,9,'n')\r\n",
    "d = model.NewIntVar(0,9,'d')\r\n",
    "m = model.NewIntVar(1,1,'m')\r\n",
    "o = model.NewIntVar(0,9,'o')\r\n",
    "r = model.NewIntVar(0,9,'r')\r\n",
    "y = model.NewIntVar(0,9,'y')\r\n",
    "v = [s,e,n,d,m,o,r,y]\r\n",
    "# restrcciones\r\n",
    "model.Add(1000*(s+m)+100*(e+o)+10*(n+r)+(d+e) == 10000*m+1000*o+100*n+10*e+y)\r\n",
    "model.AddAllDifferent(v)\r\n",
    "solver = cp_model.CpSolver()\r\n",
    "status = solver.Solve(model)\r\n",
    "if status == cp_model.OPTIMAL:\r\n",
    "    s,e,n,d,m,o,r,y = solver.Value(s), solver.Value(e), solver.Value(n), solver.Value(d), solver.Value(m), solver.Value(o), solver.Value(r), solver.Value(y)\r\n",
    "    print(' ',s,e,n,d,'+')\r\n",
    "    print(' ',m,o,r,e)\r\n",
    "    print(\"----------\")\r\n",
    "    print(m,o,n,e,y)"
   ],
   "outputs": [
    {
     "output_type": "stream",
     "name": "stdout",
     "text": [
      "  9 5 6 7 +\n",
      "  1 0 8 5\n",
      "----------\n",
      "1 0 6 5 2\n"
     ]
    }
   ],
   "metadata": {}
  },
  {
   "cell_type": "markdown",
   "source": [
    "## Latin Square"
   ],
   "metadata": {}
  },
  {
   "cell_type": "code",
   "execution_count": 5,
   "source": [
    "n = 4\r\n",
    "# crea CSP\r\n",
    "model = cp_model.CpModel()\r\n",
    "# variables y dominios\r\n",
    "grilla = []\r\n",
    "for i in range(n):\r\n",
    "    fila = []\r\n",
    "    fila += [model.NewIntVar(1,n,'x'+str(i)+str(j)) for j in range(n)]\r\n",
    "    grilla+=[fila]\r\n",
    "print(grilla)\r\n",
    "# restricciones\r\n",
    "# toda fila tiene valores distintos\r\n",
    "for i in range(n):\r\n",
    "    model.AddAllDifferent(grilla[i])\r\n",
    "for j in range(n):\r\n",
    "    # recuperar columna\r\n",
    "    c = [grilla[i][j] for i in range(n)]\r\n",
    "    #print(c)\r\n",
    "    model.AddAllDifferent(c)\r\n",
    "\r\n",
    "solver = cp_model.CpSolver()\r\n",
    "status = solver.Solve(model)\r\n",
    "if status == cp_model.OPTIMAL:\r\n",
    "    for i in range(n):\r\n",
    "        for j in range(n):\r\n",
    "            print(solver.Value(grilla[i][j]), end= ' ')\r\n",
    "        print()"
   ],
   "outputs": [
    {
     "output_type": "stream",
     "name": "stdout",
     "text": [
      "[[x00(1..4), x01(1..4), x02(1..4), x03(1..4)], [x10(1..4), x11(1..4), x12(1..4), x13(1..4)], [x20(1..4), x21(1..4), x22(1..4), x23(1..4)], [x30(1..4), x31(1..4), x32(1..4), x33(1..4)]]\n",
      "1 4 3 2 \n",
      "4 3 2 1 \n",
      "3 2 1 4 \n",
      "2 1 4 3 \n"
     ]
    }
   ],
   "metadata": {}
  },
  {
   "cell_type": "markdown",
   "source": [
    "## Magic Square"
   ],
   "metadata": {}
  },
  {
   "cell_type": "code",
   "execution_count": 5,
   "source": [
    "from ortools.sat.python import cp_model\r\n",
    "n = 3\r\n",
    "s = 15\r\n",
    "# crear CSP\r\n",
    "model = cp_model.CpModel()\r\n",
    "# variables y dominios\r\n",
    "grilla = []\r\n",
    "for i in range(n):\r\n",
    "    fila = []\r\n",
    "    for j in range(n):\r\n",
    "        fila += [model.NewIntVar(1,n**2,'x'+str(i)+str(j))]\r\n",
    "    grilla += [fila]\r\n",
    "#print(grilla)\r\n",
    "# restricciones\r\n",
    "# recuperar todos los valores de la grilla en un solo arreglo\r\n",
    "v = []\r\n",
    "for i in range(n):\r\n",
    "    v += grilla[i]\r\n",
    "print(v)\r\n",
    "#print(v)\r\n",
    "model.AddAllDifferent(v)\r\n",
    "# todas las filas deben sumar lo mismo\r\n",
    "for i in range(n):\r\n",
    "    model.Add(sum(grilla[i])==s)\r\n",
    "# todas las colummnas debe sumar lo mismo\r\n",
    "for j in range(n):\r\n",
    "    c = [grilla[i][j] for i in range(n)]\r\n",
    "    model.Add(sum(c)==s)\r\n"
   ],
   "outputs": [
    {
     "output_type": "stream",
     "name": "stdout",
     "text": [
      "[x00(1..9), x01(1..9), x02(1..9), x10(1..9), x11(1..9), x12(1..9), x20(1..9), x21(1..9), x22(1..9)]\n"
     ]
    }
   ],
   "metadata": {}
  }
 ],
 "metadata": {
  "orig_nbformat": 4,
  "language_info": {
   "name": "python",
   "version": "3.9.5",
   "mimetype": "text/x-python",
   "codemirror_mode": {
    "name": "ipython",
    "version": 3
   },
   "pygments_lexer": "ipython3",
   "nbconvert_exporter": "python",
   "file_extension": ".py"
  },
  "kernelspec": {
   "name": "python3",
   "display_name": "Python 3.9.5 64-bit"
  },
  "interpreter": {
   "hash": "5f4bce2433b777cdd71c656c115cfd3e9c6ae2e20c47f71a067da0151d7ae3a5"
  }
 },
 "nbformat": 4,
 "nbformat_minor": 2
}