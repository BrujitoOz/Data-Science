{
 "cells": [
  {
   "cell_type": "code",
   "execution_count": 1,
   "source": [
    "from ortools.sat.python import cp_model"
   ],
   "outputs": [],
   "metadata": {}
  },
  {
   "cell_type": "code",
   "execution_count": 9,
   "source": [
    "class VarArraySolutionPrinter(cp_model.CpSolverSolutionCallback):\r\n",
    "    \"\"\"Print intermediate solutions.\"\"\"\r\n",
    "    def __init__(self, variables):\r\n",
    "        cp_model.CpSolverSolutionCallback.__init__(self)\r\n",
    "        self.__variables = variables\r\n",
    "        self.__solution_count = 0\r\n",
    "    def on_solution_callback(self):\r\n",
    "        self.__solution_count += 1\r\n",
    "        for v in self.__variables:\r\n",
    "            print('%s=%i' % (v, self.Value(v)), end=' ')\r\n",
    "        print()\r\n",
    "    def solution_count(self):\r\n",
    "        return self.__solution_count"
   ],
   "outputs": [],
   "metadata": {}
  },
  {
   "cell_type": "code",
   "execution_count": 25,
   "source": [
    "# crear CSP\r\n",
    "model = cp_model.CpModel()\r\n",
    "# variables y dominios\r\n",
    "i = model.NewIntVar(0,10,'i')\r\n",
    "j = model.NewIntVar(0,10,'j')\r\n",
    "# channeling\r\n",
    "# b1 = model.NewBoolVar('b1')\r\n",
    "b = [model.NewBoolVar('b'+str(i)) for i in range(2)]\r\n",
    "# restricciones\r\n",
    "model.Add(i<j).OnlyEnforceIf(b[0])\r\n",
    "model.Add(i>=j).OnlyEnforceIf(b[0].Not())\r\n",
    "# b2 <=> i * j == 40\r\n",
    "#model.AddMultiplicationEquality(40, [i,j]).OnlyEnforceIf(b[1])\r\n",
    "model.Add(i+1 == j).OnlyEnforceIf(b[1])\r\n",
    "model.Add(i+1 != j).OnlyEnforceIf(b[1].Not())\r\n",
    "\r\n",
    "model.AddBoolOr([b[0],b[1]])"
   ],
   "outputs": [
    {
     "output_type": "execute_result",
     "data": {
      "text/plain": [
       "<ortools.sat.python.cp_model.Constraint at 0x1a9741dc130>"
      ]
     },
     "metadata": {},
     "execution_count": 25
    }
   ],
   "metadata": {}
  },
  {
   "cell_type": "code",
   "execution_count": 26,
   "source": [
    "solver = cp_model.CpSolver()\r\n",
    "solution_printer = VarArraySolutionPrinter([i,j,b[0], b[1]])\r\n",
    "status = solver.SearchForAllSolutions(model, solution_printer)"
   ],
   "outputs": [
    {
     "output_type": "stream",
     "name": "stdout",
     "text": [
      "i=0 j=2 b0=1 b1=0 \n",
      "i=0 j=3 b0=1 b1=0 \n",
      "i=0 j=4 b0=1 b1=0 \n",
      "i=0 j=5 b0=1 b1=0 \n",
      "i=0 j=6 b0=1 b1=0 \n",
      "i=0 j=7 b0=1 b1=0 \n",
      "i=0 j=8 b0=1 b1=0 \n",
      "i=0 j=9 b0=1 b1=0 \n",
      "i=0 j=10 b0=1 b1=0 \n",
      "i=1 j=10 b0=1 b1=0 \n",
      "i=1 j=9 b0=1 b1=0 \n",
      "i=1 j=8 b0=1 b1=0 \n",
      "i=2 j=8 b0=1 b1=0 \n",
      "i=3 j=8 b0=1 b1=0 \n",
      "i=4 j=8 b0=1 b1=0 \n",
      "i=5 j=8 b0=1 b1=0 \n",
      "i=6 j=8 b0=1 b1=0 \n",
      "i=5 j=7 b0=1 b1=0 \n",
      "i=4 j=7 b0=1 b1=0 \n",
      "i=3 j=7 b0=1 b1=0 \n",
      "i=3 j=6 b0=1 b1=0 \n",
      "i=4 j=6 b0=1 b1=0 \n",
      "i=3 j=5 b0=1 b1=0 \n",
      "i=3 j=9 b0=1 b1=0 \n",
      "i=4 j=9 b0=1 b1=0 \n",
      "i=5 j=9 b0=1 b1=0 \n",
      "i=6 j=9 b0=1 b1=0 \n",
      "i=7 j=9 b0=1 b1=0 \n",
      "i=7 j=10 b0=1 b1=0 \n",
      "i=6 j=10 b0=1 b1=0 \n",
      "i=5 j=10 b0=1 b1=0 \n",
      "i=8 j=10 b0=1 b1=0 \n",
      "i=4 j=10 b0=1 b1=0 \n",
      "i=3 j=10 b0=1 b1=0 \n",
      "i=2 j=10 b0=1 b1=0 \n",
      "i=2 j=9 b0=1 b1=0 \n",
      "i=2 j=7 b0=1 b1=0 \n",
      "i=2 j=6 b0=1 b1=0 \n",
      "i=2 j=5 b0=1 b1=0 \n",
      "i=2 j=4 b0=1 b1=0 \n",
      "i=1 j=4 b0=1 b1=0 \n",
      "i=1 j=3 b0=1 b1=0 \n",
      "i=1 j=5 b0=1 b1=0 \n",
      "i=1 j=6 b0=1 b1=0 \n",
      "i=1 j=7 b0=1 b1=0 \n",
      "i=2 j=3 b0=1 b1=1 \n",
      "i=3 j=4 b0=1 b1=1 \n",
      "i=4 j=5 b0=1 b1=1 \n",
      "i=5 j=6 b0=1 b1=1 \n",
      "i=6 j=7 b0=1 b1=1 \n",
      "i=7 j=8 b0=1 b1=1 \n",
      "i=8 j=9 b0=1 b1=1 \n",
      "i=9 j=10 b0=1 b1=1 \n",
      "i=1 j=2 b0=1 b1=1 \n",
      "i=0 j=1 b0=1 b1=1 \n"
     ]
    }
   ],
   "metadata": {}
  }
 ],
 "metadata": {
  "orig_nbformat": 4,
  "language_info": {
   "name": "python",
   "version": "3.9.5",
   "mimetype": "text/x-python",
   "codemirror_mode": {
    "name": "ipython",
    "version": 3
   },
   "pygments_lexer": "ipython3",
   "nbconvert_exporter": "python",
   "file_extension": ".py"
  },
  "kernelspec": {
   "name": "python3",
   "display_name": "Python 3.9.5 64-bit"
  },
  "interpreter": {
   "hash": "5f4bce2433b777cdd71c656c115cfd3e9c6ae2e20c47f71a067da0151d7ae3a5"
  }
 },
 "nbformat": 4,
 "nbformat_minor": 2
}