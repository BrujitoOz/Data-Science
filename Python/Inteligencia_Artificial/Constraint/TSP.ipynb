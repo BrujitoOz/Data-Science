{
 "cells": [
  {
   "cell_type": "code",
   "execution_count": 7,
   "source": [
    "from ortools.sat.python import cp_model\r\n",
    "import networkx as nx\r\n",
    "from random import *\r\n",
    "\r\n",
    "n = 20\r\n",
    "#crear grafo\r\n",
    "G = nx.Graph()\r\n",
    "#agregar nodos\r\n",
    "for i in range(n):\r\n",
    "  G.add_node(i,pos=(randint(0,100),randint(0,20)))\r\n",
    "#plotear grafo\r\n",
    "pos = nx.get_node_attributes(G, 'pos')\r\n",
    "print(pos)\r\n",
    "nx.draw(G,pos,with_labels=True)"
   ],
   "outputs": [
    {
     "output_type": "stream",
     "name": "stdout",
     "text": [
      "{0: (14, 6), 1: (37, 17), 2: (83, 16), 3: (55, 1), 4: (30, 0), 5: (59, 9), 6: (19, 13), 7: (57, 14), 8: (8, 2), 9: (18, 1), 10: (47, 3), 11: (40, 1), 12: (66, 16), 13: (48, 2), 14: (65, 18), 15: (24, 8), 16: (6, 4), 17: (45, 4), 18: (58, 20), 19: (83, 6)}\n"
     ]
    },
    {
     "output_type": "display_data",
     "data": {
      "image/png": "[encoded data removed]",
      "text/plain": [
       "<Figure size 432x288 with 1 Axes>"
      ]
     },
     "metadata": {}
    }
   ],
   "metadata": {}
  },
  {
   "cell_type": "code",
   "execution_count": 8,
   "source": [
    "#crear CSP\r\n",
    "model = cp_model.CpModel()\r\n",
    "#variables\r\n",
    "x = []\r\n",
    "for i in range(n):\r\n",
    "  x += [[model.NewBoolVar('x_'+str(i)+'_'+str(j)) for j in range(n)]]\r\n",
    "#print(x)\r\n",
    "t = [model.NewIntVar(0,n,'t_'+str(i)) for i in range(n)]\r\n",
    "\r\n",
    "#restricciones\r\n",
    "dist = lambda i,j : int(((pos[i][0] - pos[j][0])**2 + (pos[i][1] - pos[j][1])**2)**0.5)\r\n",
    "#def dist(i,j):\r\n",
    "  #return int(((pos[i][0] - pos[j][0])**2 + (pos[i][1] - pos[j][1])**2)**0.5)\r\n",
    "#ingresa a cada ciudad 1 vez\r\n",
    "for i in range(n):\r\n",
    "  model.Add(sum(x[i]) == 1)\r\n",
    "#salir de cada ciudad 1 vez\r\n",
    "for j in range(n):\r\n",
    "  model.Add(sum([x[i][j] for i in range(n)]) == 1)\r\n",
    "#no se puede ir de una ciudad a sí misma\r\n",
    "for i in range(n):\r\n",
    "  model.Add(x[i][i] == 0)\r\n",
    "\r\n",
    "#MTZ formulation\r\n",
    "for i in range(1,n):\r\n",
    "  for j in range(1,n):\r\n",
    "    if i != j:\r\n",
    "      model.Add(t[i] - t[j] + n * x[i][j] <= n - 1) # t_i + 1 + n*x_i_j <= t_j\r\n",
    "\r\n",
    "#sumatoria de las distancias de los tramos elegidos debe ser minimizada\r\n",
    "d = []\r\n",
    "for i in range(n):\r\n",
    "  d += [dist(i,j)*x[i][j] for j in range(n)]\r\n",
    "#print(d)\r\n",
    "model.Minimize(sum(d)) #COP \r\n",
    "#model.Add(sum(d) <= 200) #CSP"
   ],
   "outputs": [],
   "metadata": {}
  },
  {
   "cell_type": "code",
   "execution_count": 9,
   "source": [
    "solver = cp_model.CpSolver()\r\n",
    "status = solver.Solve(model)\r\n",
    "print(solver.WallTime())\r\n",
    "lista_arcos = []\r\n",
    "if status == cp_model.OPTIMAL:\r\n",
    "  for i in range(n):\r\n",
    "    for j in range(n):\r\n",
    "      print(solver.Value(x[i][j]),end=' ')\r\n",
    "    print()\r\n",
    "  print(solver.ObjectiveValue())\r\n",
    "  print()\r\n",
    "  for i in range(n):\r\n",
    "    for j in range(n):\r\n",
    "      if solver.Value(x[i][j]):\r\n",
    "        print(i,j)\r\n",
    "        lista_arcos += [(i,j)]"
   ],
   "outputs": [
    {
     "output_type": "stream",
     "name": "stdout",
     "text": [
      "5.173423413\n",
      "0 0 0 0 0 0 1 0 0 0 0 0 0 0 0 0 0 0 0 0 \n",
      "0 0 0 0 0 0 0 1 0 0 0 0 0 0 0 0 0 0 0 0 \n",
      "0 0 0 0 0 0 0 0 0 0 0 0 0 0 0 0 0 0 0 1 \n",
      "0 0 0 0 0 0 0 0 0 0 0 0 0 1 0 0 0 0 0 0 \n",
      "0 0 0 0 0 0 0 0 0 1 0 0 0 0 0 0 0 0 0 0 \n",
      "0 0 0 1 0 0 0 0 0 0 0 0 0 0 0 0 0 0 0 0 \n",
      "0 0 0 0 0 0 0 0 0 0 0 0 0 0 0 1 0 0 0 0 \n",
      "0 0 0 0 0 0 0 0 0 0 0 0 0 0 0 0 0 0 1 0 \n",
      "0 0 0 0 0 0 0 0 0 0 0 0 0 0 0 0 1 0 0 0 \n",
      "0 0 0 0 0 0 0 0 1 0 0 0 0 0 0 0 0 0 0 0 \n",
      "0 0 0 0 0 0 0 0 0 0 0 0 0 0 0 0 0 1 0 0 \n",
      "0 0 0 0 1 0 0 0 0 0 0 0 0 0 0 0 0 0 0 0 \n",
      "0 0 1 0 0 0 0 0 0 0 0 0 0 0 0 0 0 0 0 0 \n",
      "0 0 0 0 0 0 0 0 0 0 1 0 0 0 0 0 0 0 0 0 \n",
      "0 0 0 0 0 0 0 0 0 0 0 0 1 0 0 0 0 0 0 0 \n",
      "0 1 0 0 0 0 0 0 0 0 0 0 0 0 0 0 0 0 0 0 \n",
      "1 0 0 0 0 0 0 0 0 0 0 0 0 0 0 0 0 0 0 0 \n",
      "0 0 0 0 0 0 0 0 0 0 0 1 0 0 0 0 0 0 0 0 \n",
      "0 0 0 0 0 0 0 0 0 0 0 0 0 0 1 0 0 0 0 0 \n",
      "0 0 0 0 0 1 0 0 0 0 0 0 0 0 0 0 0 0 0 0 \n",
      "181.0\n",
      "\n",
      "0 6\n",
      "1 7\n",
      "2 19\n",
      "3 13\n",
      "4 9\n",
      "5 3\n",
      "6 15\n",
      "7 18\n",
      "8 16\n",
      "9 8\n",
      "10 17\n",
      "11 4\n",
      "12 2\n",
      "13 10\n",
      "14 12\n",
      "15 1\n",
      "16 0\n",
      "17 11\n",
      "18 14\n",
      "19 5\n"
     ]
    }
   ],
   "metadata": {}
  }
 ],
 "metadata": {
  "orig_nbformat": 4,
  "language_info": {
   "name": "python",
   "version": "3.9.5",
   "mimetype": "text/x-python",
   "codemirror_mode": {
    "name": "ipython",
    "version": 3
   },
   "pygments_lexer": "ipython3",
   "nbconvert_exporter": "python",
   "file_extension": ".py"
  },
  "kernelspec": {
   "name": "python3",
   "display_name": "Python 3.9.5 64-bit"
  },
  "interpreter": {
   "hash": "5f4bce2433b777cdd71c656c115cfd3e9c6ae2e20c47f71a067da0151d7ae3a5"
  }
 },
 "nbformat": 4,
 "nbformat_minor": 2
}