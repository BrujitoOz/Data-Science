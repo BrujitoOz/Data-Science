{
 "cells": [
  {
   "cell_type": "code",
   "execution_count": 131,
   "metadata": {},
   "outputs": [],
   "source": [
    "import pandas as pd\n",
    "import matplotlib.pyplot as plt\n",
    "import seaborn as sns\n",
    "import numpy as np\n",
    "import scipy.stats as ss\n",
    "from scipy.stats import chi2_contingency\n",
    "from sklearn.model_selection import train_test_split\n",
    "from sklearn.neural_network import MLPClassifier\n",
    "from sklearn.metrics import classification_report, confusion_matrix\n",
    "from sklearn.metrics import plot_confusion_matrix\n",
    "from sklearn.metrics import roc_curve, auc, roc_auc_score\n",
    "from sklearn.preprocessing import StandardScaler\n",
    "from sklearn.preprocessing import LabelEncoder\n",
    "from sklearn.model_selection import cross_val_score\n",
    "from sklearn.model_selection import GridSearchCV\n",
    "from sklearn.neighbors import KNeighborsClassifier\n",
    "from sklearn import tree\n",
    "from sklearn.naive_bayes import GaussianNB"
   ]
  },
  {
   "cell_type": "code",
   "execution_count": 132,
   "metadata": {},
   "outputs": [
    {
     "name": "stdout",
     "output_type": "stream",
     "text": [
      "<class 'pandas.core.frame.DataFrame'>\n",
      "RangeIndex: 400 entries, 0 to 399\n",
      "Data columns (total 5 columns):\n",
      " #   Column           Non-Null Count  Dtype \n",
      "---  ------           --------------  ----- \n",
      " 0   User ID          400 non-null    int64 \n",
      " 1   Gender           400 non-null    object\n",
      " 2   Age              400 non-null    int64 \n",
      " 3   EstimatedSalary  400 non-null    int64 \n",
      " 4   Purchased        400 non-null    int64 \n",
      "dtypes: int64(4), object(1)\n",
      "memory usage: 15.8+ KB\n"
     ]
    }
   ],
   "source": [
    "data = pd.read_csv('../Datasets/Social_Network_Ads.csv')\n",
    "data.info()"
   ]
  },
  {
   "cell_type": "code",
   "execution_count": 133,
   "metadata": {},
   "outputs": [
    {
     "data": {
      "text/html": [
       "<div>\n",
       "<style scoped>\n",
       "    .dataframe tbody tr th:only-of-type {\n",
       "        vertical-align: middle;\n",
       "    }\n",
       "\n",
       "    .dataframe tbody tr th {\n",
       "        vertical-align: top;\n",
       "    }\n",
       "\n",
       "    .dataframe thead th {\n",
       "        text-align: right;\n",
       "    }\n",
       "</style>\n",
       "<table border=\"1\" class=\"dataframe\">\n",
       "  <thead>\n",
       "    <tr style=\"text-align: right;\">\n",
       "      <th></th>\n",
       "      <th>User ID</th>\n",
       "      <th>Gender</th>\n",
       "      <th>Age</th>\n",
       "      <th>EstimatedSalary</th>\n",
       "      <th>Purchased</th>\n",
       "    </tr>\n",
       "  </thead>\n",
       "  <tbody>\n",
       "    <tr>\n",
       "      <th>0</th>\n",
       "      <td>15624510</td>\n",
       "      <td>Male</td>\n",
       "      <td>19</td>\n",
       "      <td>19000</td>\n",
       "      <td>0</td>\n",
       "    </tr>\n",
       "    <tr>\n",
       "      <th>1</th>\n",
       "      <td>15810944</td>\n",
       "      <td>Male</td>\n",
       "      <td>35</td>\n",
       "      <td>20000</td>\n",
       "      <td>0</td>\n",
       "    </tr>\n",
       "    <tr>\n",
       "      <th>2</th>\n",
       "      <td>15668575</td>\n",
       "      <td>Female</td>\n",
       "      <td>26</td>\n",
       "      <td>43000</td>\n",
       "      <td>0</td>\n",
       "    </tr>\n",
       "  </tbody>\n",
       "</table>\n",
       "</div>"
      ],
      "text/plain": [
       "    User ID  Gender  Age  EstimatedSalary  Purchased\n",
       "0  15624510    Male   19            19000          0\n",
       "1  15810944    Male   35            20000          0\n",
       "2  15668575  Female   26            43000          0"
      ]
     },
     "execution_count": 133,
     "metadata": {},
     "output_type": "execute_result"
    }
   ],
   "source": [
    "data.head(3)"
   ]
  },
  {
   "cell_type": "code",
   "execution_count": 134,
   "metadata": {},
   "outputs": [
    {
     "data": {
      "text/plain": [
       "count    400.000000\n",
       "mean       0.357500\n",
       "std        0.479864\n",
       "min        0.000000\n",
       "25%        0.000000\n",
       "50%        0.000000\n",
       "75%        1.000000\n",
       "max        1.000000\n",
       "Name: Purchased, dtype: float64"
      ]
     },
     "execution_count": 134,
     "metadata": {},
     "output_type": "execute_result"
    }
   ],
   "source": [
    "data['Purchased'].describe()"
   ]
  },
  {
   "cell_type": "code",
   "execution_count": 135,
   "metadata": {},
   "outputs": [
    {
     "data": {
      "text/plain": [
       "array([[   19, 19000],\n",
       "       [   35, 20000],\n",
       "       [   26, 43000]], dtype=int64)"
      ]
     },
     "execution_count": 135,
     "metadata": {},
     "output_type": "execute_result"
    }
   ],
   "source": [
    "x = data.iloc[:,[2, 3]].values\n",
    "y = data.iloc[:,-1].values\n",
    "\n",
    "x[:3]"
   ]
  },
  {
   "cell_type": "code",
   "execution_count": 136,
   "metadata": {},
   "outputs": [
    {
     "data": {
      "text/plain": [
       "<AxesSubplot:xlabel='Purchased', ylabel='Age'>"
      ]
     },
     "execution_count": 136,
     "metadata": {},
     "output_type": "execute_result"
    },
    {
     "data": {
      "image/png": "[encoded data removed]",
      "text/plain": [
       "<Figure size 432x288 with 1 Axes>"
      ]
     },
     "metadata": {
      "needs_background": "light"
     },
     "output_type": "display_data"
    }
   ],
   "source": [
    "#Pregunta 1 \n",
    "#Al ser Purchased nuestro target lo compararemos con las variables Age y EstimatedSalary\n",
    "sns.violinplot(x='Purchased',y='Age',data=data)"
   ]
  },
  {
   "cell_type": "code",
   "execution_count": 137,
   "metadata": {},
   "outputs": [
    {
     "data": {
      "text/plain": [
       "<AxesSubplot:xlabel='Purchased', ylabel='EstimatedSalary'>"
      ]
     },
     "execution_count": 137,
     "metadata": {},
     "output_type": "execute_result"
    },
    {
     "data": {
      "image/png": "[encoded data removed]",
      "text/plain": [
       "<Figure size 432x288 with 1 Axes>"
      ]
     },
     "metadata": {
      "needs_background": "light"
     },
     "output_type": "display_data"
    }
   ],
   "source": [
    "sns.violinplot(x='Purchased',y='EstimatedSalary',data=data)"
   ]
  },
  {
   "cell_type": "code",
   "execution_count": 138,
   "metadata": {},
   "outputs": [],
   "source": [
    "#En base a los graficos podemos concluir que ambas variables son utiles para el analisis debido a que su mediana no es la misma \n",
    "#Adicionalmente respecto a la grafica analizando la edad podemos observar que solo presenta una moda mientras que en la \n",
    "#grafica del salario estimado se puede apreciar una distribucion mas bimodal"
   ]
  },
  {
   "cell_type": "code",
   "execution_count": 139,
   "metadata": {},
   "outputs": [],
   "source": [
    "#Pregunta 2\n",
    "x_train_KNN, x_test_KNN, y_train_KNN, y_test_KNN = train_test_split(x, y, test_size = 0.20, random_state = 0)\n",
    "x_train_KNN[:3]\n",
    "\n",
    "x_train_KNN = StandardScaler().fit_transform(x_train_KNN)\n",
    "x_test_KNN = StandardScaler().fit_transform(x_test_KNN)"
   ]
  },
  {
   "cell_type": "code",
   "execution_count": 140,
   "metadata": {},
   "outputs": [
    {
     "name": "stdout",
     "output_type": "stream",
     "text": [
      "[0.84375  0.859375 0.90625  0.90625  0.984375]\n"
     ]
    }
   ],
   "source": [
    "cv_scores = cross_val_score(KNeighborsClassifier(n_neighbors=5), x_train_KNN, y_train_KNN, cv=5)\n",
    "print(cv_scores)"
   ]
  },
  {
   "cell_type": "code",
   "execution_count": 141,
   "metadata": {},
   "outputs": [
    {
     "data": {
      "image/png": "[encoded data removed]",
      "text/plain": [
       "<Figure size 432x288 with 1 Axes>"
      ]
     },
     "metadata": {
      "needs_background": "light"
     },
     "output_type": "display_data"
    },
    {
     "name": "stdout",
     "output_type": "stream",
     "text": [
      "Best K = 11\n"
     ]
    }
   ],
   "source": [
    "k_range = range(1, 20)\n",
    "k_scores = []\n",
    "\n",
    "best_K = 0\n",
    "current_auc = 0\n",
    "\n",
    "for k in k_range:\n",
    "    \n",
    "    knn = KNeighborsClassifier(n_neighbors=k).fit(x_train_KNN, y_train_KNN)\n",
    "    y_pred_KNN = knn.predict(x_test_KNN)\n",
    "    y_pred_prob = knn.predict_proba(x_test_KNN)\n",
    "    false_positive_rate, true_positive_rate, thresholds = roc_curve(y_test_KNN, y_pred_prob[:,1])\n",
    "    roc_auc_KNN = auc(false_positive_rate, true_positive_rate)\n",
    "    k_scores.append(roc_auc_KNN)\n",
    "\n",
    "    if roc_auc_KNN > current_auc:\n",
    "        current_auc = roc_auc_KNN\n",
    "        best_K = k\n",
    "    \n",
    "    \n",
    "plt.plot(k_range, k_scores)\n",
    "plt.xlabel('Value of K for KNN')\n",
    "plt.ylabel('Cross-Validated Accuracy')\n",
    "plt.show()\n",
    "\n",
    "print(\"Best K = \" + str(best_K))\n",
    "\n",
    "#Luego de comparar el AUC obtenido al utilizar valores de K de 1 al 20 podemos concluir que el mejor K es el 11\n",
    "#el cual cuenta con un AUC de 0.99"
   ]
  },
  {
   "cell_type": "code",
   "execution_count": 142,
   "metadata": {},
   "outputs": [
    {
     "data": {
      "text/plain": [
       "array([[55,  3],\n",
       "       [ 1, 21]], dtype=int64)"
      ]
     },
     "execution_count": 142,
     "metadata": {},
     "output_type": "execute_result"
    }
   ],
   "source": [
    "classifier_KNN = KNeighborsClassifier(n_neighbors=11).fit(x_train_KNN, y_train_KNN)\n",
    "y_pred_KNN = classifier_KNN.predict(x_test_KNN)\n",
    "confusion_matrix(y_test_KNN, y_pred_KNN)"
   ]
  },
  {
   "cell_type": "code",
   "execution_count": 143,
   "metadata": {},
   "outputs": [
    {
     "name": "stdout",
     "output_type": "stream",
     "text": [
      "Confusion matrix, without normalization\n",
      "[[55  3]\n",
      " [ 1 21]]\n",
      "Normalized confusion matrix\n",
      "[[0.94827586 0.05172414]\n",
      " [0.04545455 0.95454545]]\n"
     ]
    },
    {
     "data": {
      "image/png": "[encoded data removed]",
      "text/plain": [
       "<Figure size 432x288 with 2 Axes>"
      ]
     },
     "metadata": {
      "needs_background": "light"
     },
     "output_type": "display_data"
    },
    {
     "data": {
      "image/png": "[encoded data removed]",
      "text/plain": [
       "<Figure size 432x288 with 2 Axes>"
      ]
     },
     "metadata": {
      "needs_background": "light"
     },
     "output_type": "display_data"
    }
   ],
   "source": [
    "titles_options = [(\"Confusion matrix, without normalization\", None),\n",
    "                  (\"Normalized confusion matrix\", 'true')]\n",
    "for title, normalize in titles_options:\n",
    "    disp = plot_confusion_matrix(classifier_KNN, x_test_KNN, y_test_KNN,\n",
    "                                 #display_labels=y_test,\n",
    "                                 cmap=plt.cm.Blues,\n",
    "                                 normalize=normalize)\n",
    "    disp.ax_.set_title(title)\n",
    "\n",
    "    print(title)\n",
    "    print(disp.confusion_matrix)\n",
    "\n",
    "plt.show()"
   ]
  },
  {
   "cell_type": "code",
   "execution_count": 144,
   "metadata": {},
   "outputs": [
    {
     "data": {
      "image/png": "[encoded data removed]",
      "text/plain": [
       "<Figure size 432x288 with 1 Axes>"
      ]
     },
     "metadata": {
      "needs_background": "light"
     },
     "output_type": "display_data"
    }
   ],
   "source": [
    "y_pred_prob = classifier_KNN.predict_proba(x_test_KNN)\n",
    "false_positive_rate, true_positive_rate, thresholds = roc_curve(y_test_KNN, y_pred_prob[:,1])\n",
    "roc_auc_KNN = auc(false_positive_rate, true_positive_rate)\n",
    "\n",
    "plt.title('Receiver Operating Characteristic')\n",
    "plt.plot(false_positive_rate,true_positive_rate, color='red',label = 'AUC = %0.2f' % roc_auc_KNN)\n",
    "plt.legend(loc = 'lower right')\n",
    "plt.plot([0, 1], [0, 1],linestyle='--')\n",
    "plt.axis('tight')\n",
    "plt.ylabel('True Positive Rate')\n",
    "plt.xlabel('False Positive Rate')\n",
    "plt.show()"
   ]
  },
  {
   "cell_type": "code",
   "execution_count": 145,
   "metadata": {},
   "outputs": [
    {
     "name": "stdout",
     "output_type": "stream",
     "text": [
      "Fitting 5 folds for each of 50 candidates, totalling 250 fits\n",
      "[CV] criterion=gini, max_depth=2, min_samples_leaf=5 .................\n",
      "[CV] .. criterion=gini, max_depth=2, min_samples_leaf=5, total=   0.0s\n",
      "[CV] criterion=gini, max_depth=2, min_samples_leaf=5 .................\n",
      "[CV] .. criterion=gini, max_depth=2, min_samples_leaf=5, total=   0.0s\n",
      "[CV] criterion=gini, max_depth=2, min_samples_leaf=5 .................\n",
      "[CV] .. criterion=gini, max_depth=2, min_samples_leaf=5, total=   0.0s\n",
      "[CV] criterion=gini, max_depth=2, min_samples_leaf=5 .................\n",
      "[CV] .. criterion=gini, max_depth=2, min_samples_leaf=5, total=   0.0s\n",
      "[CV] criterion=gini, max_depth=2, min_samples_leaf=5 .................\n",
      "[CV] .. criterion=gini, max_depth=2, min_samples_leaf=5, total=   0.0s\n",
      "[CV] criterion=gini, max_depth=2, min_samples_leaf=10 ................\n",
      "[CV] . criterion=gini, max_depth=2, min_samples_leaf=10, total=   0.0s\n",
      "[CV] criterion=gini, max_depth=2, min_samples_leaf=10 ................\n",
      "[CV] . criterion=gini, max_depth=2, min_samples_leaf=10, total=   0.0s\n",
      "[CV] criterion=gini, max_depth=2, min_samples_leaf=10 ................\n",
      "[CV] . criterion=gini, max_depth=2, min_samples_leaf=10, total=   0.0s\n",
      "[CV] criterion=gini, max_depth=2, min_samples_leaf=10 ................\n",
      "[CV] . criterion=gini, max_depth=2, min_samples_leaf=10, total=   0.0s\n",
      "[CV] criterion=gini, max_depth=2, min_samples_leaf=10 ................\n",
      "[CV] . criterion=gini, max_depth=2, min_samples_leaf=10, total=   0.0s\n",
      "[CV] criterion=gini, max_depth=2, min_samples_leaf=20 ................\n",
      "[CV] . criterion=gini, max_depth=2, min_samples_leaf=20, total=   0.0s\n",
      "[CV] criterion=gini, max_depth=2, min_samples_leaf=20 ................\n",
      "[CV] . criterion=gini, max_depth=2, min_samples_leaf=20, total=   0.0s\n",
      "[CV] criterion=gini, max_depth=2, min_samples_leaf=20 ................\n",
      "[CV] . criterion=gini, max_depth=2, min_samples_leaf=20, total=   0.0s\n",
      "[CV] criterion=gini, max_depth=2, min_samples_leaf=20 ................\n",
      "[CV] . criterion=gini, max_depth=2, min_samples_leaf=20, total=   0.0s\n",
      "[CV] criterion=gini, max_depth=2, min_samples_leaf=20 ................\n",
      "[CV] . criterion=gini, max_depth=2, min_samples_leaf=20, total=   0.0s\n",
      "[CV] criterion=gini, max_depth=2, min_samples_leaf=50 ................\n",
      "[CV] . criterion=gini, max_depth=2, min_samples_leaf=50, total=   0.0s\n",
      "[CV] criterion=gini, max_depth=2, min_samples_leaf=50 ................\n",
      "[CV] . criterion=gini, max_depth=2, min_samples_leaf=50, total=   0.0s\n",
      "[CV] criterion=gini, max_depth=2, min_samples_leaf=50 ................\n",
      "[CV] . criterion=gini, max_depth=2, min_samples_leaf=50, total=   0.0s\n",
      "[CV] criterion=gini, max_depth=2, min_samples_leaf=50 ................\n",
      "[CV] . criterion=gini, max_depth=2, min_samples_leaf=50, total=   0.0s\n",
      "[CV] criterion=gini, max_depth=2, min_samples_leaf=50 ................\n",
      "[CV] . criterion=gini, max_depth=2, min_samples_leaf=50, total=   0.0s\n",
      "[CV] criterion=gini, max_depth=2, min_samples_leaf=100 ...............\n",
      "[CV]  criterion=gini, max_depth=2, min_samples_leaf=100, total=   0.0s\n",
      "[CV] criterion=gini, max_depth=2, min_samples_leaf=100 ...............\n",
      "[CV]  criterion=gini, max_depth=2, min_samples_leaf=100, total=   0.0s\n",
      "[CV] criterion=gini, max_depth=2, min_samples_leaf=100 ...............\n",
      "[CV]  criterion=gini, max_depth=2, min_samples_leaf=100, total=   0.0s\n",
      "[CV] criterion=gini, max_depth=2, min_samples_leaf=100 ...............\n",
      "[CV]  criterion=gini, max_depth=2, min_samples_leaf=100, total=   0.0s\n",
      "[CV] criterion=gini, max_depth=2, min_samples_leaf=100 ...............\n",
      "[CV]  criterion=gini, max_depth=2, min_samples_leaf=100, total=   0.0s\n",
      "[CV] criterion=gini, max_depth=3, min_samples_leaf=5 .................\n",
      "[CV] .. criterion=gini, max_depth=3, min_samples_leaf=5, total=   0.0s\n",
      "[CV] criterion=gini, max_depth=3, min_samples_leaf=5 .................\n",
      "[CV] .. criterion=gini, max_depth=3, min_samples_leaf=5, total=   0.0s\n",
      "[CV] criterion=gini, max_depth=3, min_samples_leaf=5 .................\n",
      "[CV] .. criterion=gini, max_depth=3, min_samples_leaf=5, total=   0.0s\n",
      "[CV] criterion=gini, max_depth=3, min_samples_leaf=5 .................\n",
      "[CV] .. criterion=gini, max_depth=3, min_samples_leaf=5, total=   0.0s\n",
      "[CV] criterion=gini, max_depth=3, min_samples_leaf=5 .................\n",
      "[CV] .. criterion=gini, max_depth=3, min_samples_leaf=5, total=   0.0s\n",
      "[CV] criterion=gini, max_depth=3, min_samples_leaf=10 ................\n",
      "[CV] . criterion=gini, max_depth=3, min_samples_leaf=10, total=   0.0s\n",
      "[CV] criterion=gini, max_depth=3, min_samples_leaf=10 ................\n",
      "[CV] . criterion=gini, max_depth=3, min_samples_leaf=10, total=   0.0s\n",
      "[CV] criterion=gini, max_depth=3, min_samples_leaf=10 ................\n",
      "[CV] . criterion=gini, max_depth=3, min_samples_leaf=10, total=   0.0s\n",
      "[CV] criterion=gini, max_depth=3, min_samples_leaf=10 ................\n",
      "[CV] . criterion=gini, max_depth=3, min_samples_leaf=10, total=   0.0s\n",
      "[CV] criterion=gini, max_depth=3, min_samples_leaf=10 ................\n",
      "[CV] . criterion=gini, max_depth=3, min_samples_leaf=10, total=   0.0s\n",
      "[CV] criterion=gini, max_depth=3, min_samples_leaf=20 ................\n",
      "[CV] . criterion=gini, max_depth=3, min_samples_leaf=20, total=   0.0s\n",
      "[CV] criterion=gini, max_depth=3, min_samples_leaf=20 ................\n",
      "[CV] . criterion=gini, max_depth=3, min_samples_leaf=20, total=   0.0s\n",
      "[CV] criterion=gini, max_depth=3, min_samples_leaf=20 ................\n",
      "[CV] . criterion=gini, max_depth=3, min_samples_leaf=20, total=   0.0s\n",
      "[CV] criterion=gini, max_depth=3, min_samples_leaf=20 ................\n",
      "[CV] . criterion=gini, max_depth=3, min_samples_leaf=20, total=   0.0s\n",
      "[CV] criterion=gini, max_depth=3, min_samples_leaf=20 ................\n",
      "[CV] . criterion=gini, max_depth=3, min_samples_leaf=20, total=   0.0s\n",
      "[CV] criterion=gini, max_depth=3, min_samples_leaf=50 ................\n",
      "[CV] . criterion=gini, max_depth=3, min_samples_leaf=50, total=   0.0s\n",
      "[CV] criterion=gini, max_depth=3, min_samples_leaf=50 ................\n",
      "[CV] . criterion=gini, max_depth=3, min_samples_leaf=50, total=   0.0s\n",
      "[CV] criterion=gini, max_depth=3, min_samples_leaf=50 ................\n",
      "[CV] . criterion=gini, max_depth=3, min_samples_leaf=50, total=   0.0s\n",
      "[CV] criterion=gini, max_depth=3, min_samples_leaf=50 ................\n",
      "[CV] . criterion=gini, max_depth=3, min_samples_leaf=50, total=   0.0s\n",
      "[CV] criterion=gini, max_depth=3, min_samples_leaf=50 ................\n",
      "[CV] . criterion=gini, max_depth=3, min_samples_leaf=50, total=   0.0s\n",
      "[CV] criterion=gini, max_depth=3, min_samples_leaf=100 ...............\n",
      "[CV]  criterion=gini, max_depth=3, min_samples_leaf=100, total=   0.0s\n",
      "[CV] criterion=gini, max_depth=3, min_samples_leaf=100 ...............\n",
      "[CV]  criterion=gini, max_depth=3, min_samples_leaf=100, total=   0.0s\n",
      "[CV] criterion=gini, max_depth=3, min_samples_leaf=100 ...............\n",
      "[CV]  criterion=gini, max_depth=3, min_samples_leaf=100, total=   0.0s\n",
      "[CV] criterion=gini, max_depth=3, min_samples_leaf=100 ...............\n",
      "[CV]  criterion=gini, max_depth=3, min_samples_leaf=100, total=   0.0s\n",
      "[CV] criterion=gini, max_depth=3, min_samples_leaf=100 ...............\n",
      "[CV]  criterion=gini, max_depth=3, min_samples_leaf=100, total=   0.0s\n",
      "[CV] criterion=gini, max_depth=5, min_samples_leaf=5 .................\n",
      "[CV] .. criterion=gini, max_depth=5, min_samples_leaf=5, total=   0.0s\n",
      "[CV] criterion=gini, max_depth=5, min_samples_leaf=5 .................\n",
      "[CV] .. criterion=gini, max_depth=5, min_samples_leaf=5, total=   0.0s\n",
      "[CV] criterion=gini, max_depth=5, min_samples_leaf=5 .................\n",
      "[CV] .. criterion=gini, max_depth=5, min_samples_leaf=5, total=   0.0s\n",
      "[CV] criterion=gini, max_depth=5, min_samples_leaf=5 .................\n",
      "[CV] .. criterion=gini, max_depth=5, min_samples_leaf=5, total=   0.0s\n",
      "[CV] criterion=gini, max_depth=5, min_samples_leaf=5 .................\n",
      "[CV] .. criterion=gini, max_depth=5, min_samples_leaf=5, total=   0.0s\n",
      "[CV] criterion=gini, max_depth=5, min_samples_leaf=10 ................\n",
      "[CV] . criterion=gini, max_depth=5, min_samples_leaf=10, total=   0.0s\n",
      "[CV] criterion=gini, max_depth=5, min_samples_leaf=10 ................\n",
      "[CV] . criterion=gini, max_depth=5, min_samples_leaf=10, total=   0.0s\n",
      "[CV] criterion=gini, max_depth=5, min_samples_leaf=10 ................\n",
      "[CV] . criterion=gini, max_depth=5, min_samples_leaf=10, total=   0.0s\n",
      "[CV] criterion=gini, max_depth=5, min_samples_leaf=10 ................\n",
      "[CV] . criterion=gini, max_depth=5, min_samples_leaf=10, total=   0.0s\n",
      "[CV] criterion=gini, max_depth=5, min_samples_leaf=10 ................\n",
      "[CV] . criterion=gini, max_depth=5, min_samples_leaf=10, total=   0.0s\n",
      "[CV] criterion=gini, max_depth=5, min_samples_leaf=20 ................\n",
      "[CV] . criterion=gini, max_depth=5, min_samples_leaf=20, total=   0.0s\n",
      "[CV] criterion=gini, max_depth=5, min_samples_leaf=20 ................\n",
      "[CV] . criterion=gini, max_depth=5, min_samples_leaf=20, total=   0.0s\n",
      "[CV] criterion=gini, max_depth=5, min_samples_leaf=20 ................\n",
      "[CV] . criterion=gini, max_depth=5, min_samples_leaf=20, total=   0.0s\n",
      "[CV] criterion=gini, max_depth=5, min_samples_leaf=20 ................\n",
      "[CV] . criterion=gini, max_depth=5, min_samples_leaf=20, total=   0.0s\n",
      "[CV] criterion=gini, max_depth=5, min_samples_leaf=20 ................\n",
      "[CV] . criterion=gini, max_depth=5, min_samples_leaf=20, total=   0.0s\n",
      "[CV] criterion=gini, max_depth=5, min_samples_leaf=50 ................\n",
      "[CV] . criterion=gini, max_depth=5, min_samples_leaf=50, total=   0.0s\n",
      "[CV] criterion=gini, max_depth=5, min_samples_leaf=50 ................\n",
      "[CV] . criterion=gini, max_depth=5, min_samples_leaf=50, total=   0.0s\n",
      "[CV] criterion=gini, max_depth=5, min_samples_leaf=50 ................\n",
      "[CV] . criterion=gini, max_depth=5, min_samples_leaf=50, total=   0.0s\n",
      "[CV] criterion=gini, max_depth=5, min_samples_leaf=50 ................\n",
      "[CV] . criterion=gini, max_depth=5, min_samples_leaf=50, total=   0.0s\n",
      "[CV] criterion=gini, max_depth=5, min_samples_leaf=50 ................\n",
      "[CV] . criterion=gini, max_depth=5, min_samples_leaf=50, total=   0.0s\n",
      "[CV] criterion=gini, max_depth=5, min_samples_leaf=100 ...............\n",
      "[CV]  criterion=gini, max_depth=5, min_samples_leaf=100, total=   0.0s\n",
      "[CV] criterion=gini, max_depth=5, min_samples_leaf=100 ...............\n",
      "[CV]  criterion=gini, max_depth=5, min_samples_leaf=100, total=   0.0s\n",
      "[CV] criterion=gini, max_depth=5, min_samples_leaf=100 ...............\n",
      "[CV]  criterion=gini, max_depth=5, min_samples_leaf=100, total=   0.0s\n",
      "[CV] criterion=gini, max_depth=5, min_samples_leaf=100 ...............\n",
      "[CV]  criterion=gini, max_depth=5, min_samples_leaf=100, total=   0.0s\n",
      "[CV] criterion=gini, max_depth=5, min_samples_leaf=100 ...............\n",
      "[CV]  criterion=gini, max_depth=5, min_samples_leaf=100, total=   0.0s\n",
      "[CV] criterion=gini, max_depth=10, min_samples_leaf=5 ................\n",
      "[CV] . criterion=gini, max_depth=10, min_samples_leaf=5, total=   0.0s\n",
      "[CV] criterion=gini, max_depth=10, min_samples_leaf=5 ................\n",
      "[CV] . criterion=gini, max_depth=10, min_samples_leaf=5, total=   0.0s\n",
      "[CV] criterion=gini, max_depth=10, min_samples_leaf=5 ................\n",
      "[CV] . criterion=gini, max_depth=10, min_samples_leaf=5, total=   0.0s\n",
      "[CV] criterion=gini, max_depth=10, min_samples_leaf=5 ................\n",
      "[CV] . criterion=gini, max_depth=10, min_samples_leaf=5, total=   0.0s\n",
      "[CV] criterion=gini, max_depth=10, min_samples_leaf=5 ................\n",
      "[CV] . criterion=gini, max_depth=10, min_samples_leaf=5, total=   0.0s\n",
      "[CV] criterion=gini, max_depth=10, min_samples_leaf=10 ...............\n",
      "[CV]  criterion=gini, max_depth=10, min_samples_leaf=10, total=   0.0s\n",
      "[CV] criterion=gini, max_depth=10, min_samples_leaf=10 ...............\n",
      "[CV]  criterion=gini, max_depth=10, min_samples_leaf=10, total=   0.0s\n",
      "[CV] criterion=gini, max_depth=10, min_samples_leaf=10 ...............\n",
      "[CV]  criterion=gini, max_depth=10, min_samples_leaf=10, total=   0.0s\n",
      "[CV] criterion=gini, max_depth=10, min_samples_leaf=10 ...............\n",
      "[CV]  criterion=gini, max_depth=10, min_samples_leaf=10, total=   0.0s\n",
      "[CV] criterion=gini, max_depth=10, min_samples_leaf=10 ...............\n",
      "[CV]  criterion=gini, max_depth=10, min_samples_leaf=10, total=   0.0s\n",
      "[CV] criterion=gini, max_depth=10, min_samples_leaf=20 ...............\n",
      "[CV]  criterion=gini, max_depth=10, min_samples_leaf=20, total=   0.0s\n",
      "[CV] criterion=gini, max_depth=10, min_samples_leaf=20 ...............\n",
      "[CV]  criterion=gini, max_depth=10, min_samples_leaf=20, total=   0.0s\n",
      "[CV] criterion=gini, max_depth=10, min_samples_leaf=20 ...............\n",
      "[CV]  criterion=gini, max_depth=10, min_samples_leaf=20, total=   0.0s\n",
      "[CV] criterion=gini, max_depth=10, min_samples_leaf=20 ...............\n",
      "[CV]  criterion=gini, max_depth=10, min_samples_leaf=20, total=   0.0s\n",
      "[CV] criterion=gini, max_depth=10, min_samples_leaf=20 ...............\n",
      "[CV]  criterion=gini, max_depth=10, min_samples_leaf=20, total=   0.0s\n",
      "[CV] criterion=gini, max_depth=10, min_samples_leaf=50 ...............\n",
      "[CV]  criterion=gini, max_depth=10, min_samples_leaf=50, total=   0.0s\n",
      "[CV] criterion=gini, max_depth=10, min_samples_leaf=50 ...............\n",
      "[CV]  criterion=gini, max_depth=10, min_samples_leaf=50, total=   0.0s\n",
      "[CV] criterion=gini, max_depth=10, min_samples_leaf=50 ...............\n",
      "[CV]  criterion=gini, max_depth=10, min_samples_leaf=50, total=   0.0s\n",
      "[CV] criterion=gini, max_depth=10, min_samples_leaf=50 ...............\n",
      "[CV]  criterion=gini, max_depth=10, min_samples_leaf=50, total=   0.0s\n",
      "[CV] criterion=gini, max_depth=10, min_samples_leaf=50 ...............\n",
      "[CV]  criterion=gini, max_depth=10, min_samples_leaf=50, total=   0.0s\n",
      "[CV] criterion=gini, max_depth=10, min_samples_leaf=100 ..............\n",
      "[CV]  criterion=gini, max_depth=10, min_samples_leaf=100, total=   0.0s\n",
      "[CV] criterion=gini, max_depth=10, min_samples_leaf=100 ..............\n",
      "[CV]  criterion=gini, max_depth=10, min_samples_leaf=100, total=   0.0s\n",
      "[CV] criterion=gini, max_depth=10, min_samples_leaf=100 ..............\n",
      "[CV]  criterion=gini, max_depth=10, min_samples_leaf=100, total=   0.0s\n",
      "[CV] criterion=gini, max_depth=10, min_samples_leaf=100 ..............\n",
      "[CV]  criterion=gini, max_depth=10, min_samples_leaf=100, total=   0.0s\n",
      "[CV] criterion=gini, max_depth=10, min_samples_leaf=100 ..............\n",
      "[CV]  criterion=gini, max_depth=10, min_samples_leaf=100, total=   0.0s\n",
      "[CV] criterion=gini, max_depth=20, min_samples_leaf=5 ................\n",
      "[CV] . criterion=gini, max_depth=20, min_samples_leaf=5, total=   0.0s\n",
      "[CV] criterion=gini, max_depth=20, min_samples_leaf=5 ................\n",
      "[CV] . criterion=gini, max_depth=20, min_samples_leaf=5, total=   0.0s\n",
      "[CV] criterion=gini, max_depth=20, min_samples_leaf=5 ................\n",
      "[CV] . criterion=gini, max_depth=20, min_samples_leaf=5, total=   0.0s\n",
      "[CV] criterion=gini, max_depth=20, min_samples_leaf=5 ................\n",
      "[CV] . criterion=gini, max_depth=20, min_samples_leaf=5, total=   0.0s\n",
      "[CV] criterion=gini, max_depth=20, min_samples_leaf=5 ................\n",
      "[CV] . criterion=gini, max_depth=20, min_samples_leaf=5, total=   0.0s\n",
      "[CV] criterion=gini, max_depth=20, min_samples_leaf=10 ...............\n",
      "[CV]  criterion=gini, max_depth=20, min_samples_leaf=10, total=   0.0s\n",
      "[CV] criterion=gini, max_depth=20, min_samples_leaf=10 ...............\n",
      "[CV]  criterion=gini, max_depth=20, min_samples_leaf=10, total=   0.0s\n",
      "[CV] criterion=gini, max_depth=20, min_samples_leaf=10 ...............\n",
      "[CV]  criterion=gini, max_depth=20, min_samples_leaf=10, total=   0.0s\n",
      "[CV] criterion=gini, max_depth=20, min_samples_leaf=10 ...............\n",
      "[CV]  criterion=gini, max_depth=20, min_samples_leaf=10, total=   0.0s\n",
      "[CV] criterion=gini, max_depth=20, min_samples_leaf=10 ...............\n",
      "[CV]  criterion=gini, max_depth=20, min_samples_leaf=10, total=   0.0s\n",
      "[CV] criterion=gini, max_depth=20, min_samples_leaf=20 ...............\n",
      "[CV]  criterion=gini, max_depth=20, min_samples_leaf=20, total=   0.0s\n",
      "[CV] criterion=gini, max_depth=20, min_samples_leaf=20 ...............\n",
      "[CV]  criterion=gini, max_depth=20, min_samples_leaf=20, total=   0.0s\n",
      "[CV] criterion=gini, max_depth=20, min_samples_leaf=20 ...............\n",
      "[CV]  criterion=gini, max_depth=20, min_samples_leaf=20, total=   0.0s\n",
      "[CV] criterion=gini, max_depth=20, min_samples_leaf=20 ...............\n",
      "[CV]  criterion=gini, max_depth=20, min_samples_leaf=20, total=   0.0s\n",
      "[CV] criterion=gini, max_depth=20, min_samples_leaf=20 ...............\n",
      "[CV]  criterion=gini, max_depth=20, min_samples_leaf=20, total=   0.0s\n",
      "[CV] criterion=gini, max_depth=20, min_samples_leaf=50 ...............\n",
      "[CV]  criterion=gini, max_depth=20, min_samples_leaf=50, total=   0.0s\n",
      "[CV] criterion=gini, max_depth=20, min_samples_leaf=50 ...............\n",
      "[CV]  criterion=gini, max_depth=20, min_samples_leaf=50, total=   0.0s\n",
      "[CV] criterion=gini, max_depth=20, min_samples_leaf=50 ...............\n",
      "[CV]  criterion=gini, max_depth=20, min_samples_leaf=50, total=   0.0s\n",
      "[CV] criterion=gini, max_depth=20, min_samples_leaf=50 ...............\n",
      "[CV]  criterion=gini, max_depth=20, min_samples_leaf=50, total=   0.0s\n",
      "[CV] criterion=gini, max_depth=20, min_samples_leaf=50 ...............\n",
      "[CV]  criterion=gini, max_depth=20, min_samples_leaf=50, total=   0.0s\n",
      "[CV] criterion=gini, max_depth=20, min_samples_leaf=100 ..............\n",
      "[CV]  criterion=gini, max_depth=20, min_samples_leaf=100, total=   0.0s\n",
      "[CV] criterion=gini, max_depth=20, min_samples_leaf=100 ..............\n",
      "[CV]  criterion=gini, max_depth=20, min_samples_leaf=100, total=   0.0s\n",
      "[CV] criterion=gini, max_depth=20, min_samples_leaf=100 ..............\n",
      "[CV]  criterion=gini, max_depth=20, min_samples_leaf=100, total=   0.0s\n",
      "[CV] criterion=gini, max_depth=20, min_samples_leaf=100 ..............\n",
      "[CV]  criterion=gini, max_depth=20, min_samples_leaf=100, total=   0.0s\n",
      "[CV] criterion=gini, max_depth=20, min_samples_leaf=100 ..............\n",
      "[CV]  criterion=gini, max_depth=20, min_samples_leaf=100, total=   0.0s\n",
      "[CV] criterion=entropy, max_depth=2, min_samples_leaf=5 ..............\n",
      "[CV]  criterion=entropy, max_depth=2, min_samples_leaf=5, total=   0.0s\n",
      "[CV] criterion=entropy, max_depth=2, min_samples_leaf=5 ..............\n",
      "[CV]  criterion=entropy, max_depth=2, min_samples_leaf=5, total=   0.0s\n",
      "[CV] criterion=entropy, max_depth=2, min_samples_leaf=5 ..............\n",
      "[CV]  criterion=entropy, max_depth=2, min_samples_leaf=5, total=   0.0s\n",
      "[CV] criterion=entropy, max_depth=2, min_samples_leaf=5 ..............\n",
      "[CV]  criterion=entropy, max_depth=2, min_samples_leaf=5, total=   0.0s\n",
      "[CV] criterion=entropy, max_depth=2, min_samples_leaf=5 ..............\n",
      "[CV]  criterion=entropy, max_depth=2, min_samples_leaf=5, total=   0.0s\n",
      "[CV] criterion=entropy, max_depth=2, min_samples_leaf=10 .............\n",
      "[CV]  criterion=entropy, max_depth=2, min_samples_leaf=10, total=   0.0s\n",
      "[CV] criterion=entropy, max_depth=2, min_samples_leaf=10 .............\n",
      "[CV]  criterion=entropy, max_depth=2, min_samples_leaf=10, total=   0.0s\n",
      "[CV] criterion=entropy, max_depth=2, min_samples_leaf=10 .............\n",
      "[CV]  criterion=entropy, max_depth=2, min_samples_leaf=10, total=   0.0s\n",
      "[CV] criterion=entropy, max_depth=2, min_samples_leaf=10 .............\n",
      "[CV]  criterion=entropy, max_depth=2, min_samples_leaf=10, total=   0.0s\n",
      "[CV] criterion=entropy, max_depth=2, min_samples_leaf=10 .............\n",
      "[CV]  criterion=entropy, max_depth=2, min_samples_leaf=10, total=   0.0s\n",
      "[CV] criterion=entropy, max_depth=2, min_samples_leaf=20 .............\n",
      "[CV]  criterion=entropy, max_depth=2, min_samples_leaf=20, total=   0.0s\n",
      "[CV] criterion=entropy, max_depth=2, min_samples_leaf=20 .............\n",
      "[CV]  criterion=entropy, max_depth=2, min_samples_leaf=20, total=   0.0s\n",
      "[CV] criterion=entropy, max_depth=2, min_samples_leaf=20 .............\n",
      "[CV]  criterion=entropy, max_depth=2, min_samples_leaf=20, total=   0.0s\n",
      "[CV] criterion=entropy, max_depth=2, min_samples_leaf=20 .............\n",
      "[CV]  criterion=entropy, max_depth=2, min_samples_leaf=20, total=   0.0s\n",
      "[CV] criterion=entropy, max_depth=2, min_samples_leaf=20 .............\n",
      "[CV]  criterion=entropy, max_depth=2, min_samples_leaf=20, total=   0.0s\n",
      "[CV] criterion=entropy, max_depth=2, min_samples_leaf=50 .............\n",
      "[CV]  criterion=entropy, max_depth=2, min_samples_leaf=50, total=   0.0s\n",
      "[CV] criterion=entropy, max_depth=2, min_samples_leaf=50 .............\n",
      "[CV]  criterion=entropy, max_depth=2, min_samples_leaf=50, total=   0.0s\n",
      "[CV] criterion=entropy, max_depth=2, min_samples_leaf=50 .............\n",
      "[CV]  criterion=entropy, max_depth=2, min_samples_leaf=50, total=   0.0s"
     ]
    },
    {
     "name": "stderr",
     "output_type": "stream",
     "text": [
      "[Parallel(n_jobs=1)]: Using backend SequentialBackend with 1 concurrent workers.\n",
      "[Parallel(n_jobs=1)]: Done   1 out of   1 | elapsed:    0.0s remaining:    0.0s\n"
     ]
    },
    {
     "name": "stdout",
     "output_type": "stream",
     "text": [
      "\n",
      "[CV] criterion=entropy, max_depth=2, min_samples_leaf=50 .............\n",
      "[CV]  criterion=entropy, max_depth=2, min_samples_leaf=50, total=   0.0s\n",
      "[CV] criterion=entropy, max_depth=2, min_samples_leaf=50 .............\n",
      "[CV]  criterion=entropy, max_depth=2, min_samples_leaf=50, total=   0.0s\n",
      "[CV] criterion=entropy, max_depth=2, min_samples_leaf=100 ............\n",
      "[CV]  criterion=entropy, max_depth=2, min_samples_leaf=100, total=   0.0s\n",
      "[CV] criterion=entropy, max_depth=2, min_samples_leaf=100 ............\n",
      "[CV]  criterion=entropy, max_depth=2, min_samples_leaf=100, total=   0.0s\n",
      "[CV] criterion=entropy, max_depth=2, min_samples_leaf=100 ............\n",
      "[CV]  criterion=entropy, max_depth=2, min_samples_leaf=100, total=   0.0s\n",
      "[CV] criterion=entropy, max_depth=2, min_samples_leaf=100 ............\n",
      "[CV]  criterion=entropy, max_depth=2, min_samples_leaf=100, total=   0.0s\n",
      "[CV] criterion=entropy, max_depth=2, min_samples_leaf=100 ............\n",
      "[CV]  criterion=entropy, max_depth=2, min_samples_leaf=100, total=   0.0s\n",
      "[CV] criterion=entropy, max_depth=3, min_samples_leaf=5 ..............\n",
      "[CV]  criterion=entropy, max_depth=3, min_samples_leaf=5, total=   0.0s\n",
      "[CV] criterion=entropy, max_depth=3, min_samples_leaf=5 ..............\n",
      "[CV]  criterion=entropy, max_depth=3, min_samples_leaf=5, total=   0.0s\n",
      "[CV] criterion=entropy, max_depth=3, min_samples_leaf=5 ..............\n",
      "[CV]  criterion=entropy, max_depth=3, min_samples_leaf=5, total=   0.0s\n",
      "[CV] criterion=entropy, max_depth=3, min_samples_leaf=5 ..............\n",
      "[CV]  criterion=entropy, max_depth=3, min_samples_leaf=5, total=   0.0s\n",
      "[CV] criterion=entropy, max_depth=3, min_samples_leaf=5 ..............\n",
      "[CV]  criterion=entropy, max_depth=3, min_samples_leaf=5, total=   0.0s\n",
      "[CV] criterion=entropy, max_depth=3, min_samples_leaf=10 .............\n",
      "[CV]  criterion=entropy, max_depth=3, min_samples_leaf=10, total=   0.0s\n",
      "[CV] criterion=entropy, max_depth=3, min_samples_leaf=10 .............\n",
      "[CV]  criterion=entropy, max_depth=3, min_samples_leaf=10, total=   0.0s\n",
      "[CV] criterion=entropy, max_depth=3, min_samples_leaf=10 .............\n",
      "[CV]  criterion=entropy, max_depth=3, min_samples_leaf=10, total=   0.0s\n",
      "[CV] criterion=entropy, max_depth=3, min_samples_leaf=10 .............\n",
      "[CV]  criterion=entropy, max_depth=3, min_samples_leaf=10, total=   0.0s\n",
      "[CV] criterion=entropy, max_depth=3, min_samples_leaf=10 .............\n",
      "[CV]  criterion=entropy, max_depth=3, min_samples_leaf=10, total=   0.0s\n",
      "[CV] criterion=entropy, max_depth=3, min_samples_leaf=20 .............\n",
      "[CV]  criterion=entropy, max_depth=3, min_samples_leaf=20, total=   0.0s\n",
      "[CV] criterion=entropy, max_depth=3, min_samples_leaf=20 .............\n",
      "[CV]  criterion=entropy, max_depth=3, min_samples_leaf=20, total=   0.0s\n",
      "[CV] criterion=entropy, max_depth=3, min_samples_leaf=20 .............\n",
      "[CV]  criterion=entropy, max_depth=3, min_samples_leaf=20, total=   0.0s\n",
      "[CV] criterion=entropy, max_depth=3, min_samples_leaf=20 .............\n",
      "[CV]  criterion=entropy, max_depth=3, min_samples_leaf=20, total=   0.0s\n",
      "[CV] criterion=entropy, max_depth=3, min_samples_leaf=20 .............\n",
      "[CV]  criterion=entropy, max_depth=3, min_samples_leaf=20, total=   0.0s\n",
      "[CV] criterion=entropy, max_depth=3, min_samples_leaf=50 .............\n",
      "[CV]  criterion=entropy, max_depth=3, min_samples_leaf=50, total=   0.0s\n",
      "[CV] criterion=entropy, max_depth=3, min_samples_leaf=50 .............\n",
      "[CV]  criterion=entropy, max_depth=3, min_samples_leaf=50, total=   0.0s\n",
      "[CV] criterion=entropy, max_depth=3, min_samples_leaf=50 .............\n",
      "[CV]  criterion=entropy, max_depth=3, min_samples_leaf=50, total=   0.0s\n",
      "[CV] criterion=entropy, max_depth=3, min_samples_leaf=50 .............\n",
      "[CV]  criterion=entropy, max_depth=3, min_samples_leaf=50, total=   0.0s\n",
      "[CV] criterion=entropy, max_depth=3, min_samples_leaf=50 .............\n",
      "[CV]  criterion=entropy, max_depth=3, min_samples_leaf=50, total=   0.0s\n",
      "[CV] criterion=entropy, max_depth=3, min_samples_leaf=100 ............\n",
      "[CV]  criterion=entropy, max_depth=3, min_samples_leaf=100, total=   0.0s\n",
      "[CV] criterion=entropy, max_depth=3, min_samples_leaf=100 ............\n",
      "[CV]  criterion=entropy, max_depth=3, min_samples_leaf=100, total=   0.0s\n",
      "[CV] criterion=entropy, max_depth=3, min_samples_leaf=100 ............\n",
      "[CV]  criterion=entropy, max_depth=3, min_samples_leaf=100, total=   0.0s\n",
      "[CV] criterion=entropy, max_depth=3, min_samples_leaf=100 ............\n",
      "[CV]  criterion=entropy, max_depth=3, min_samples_leaf=100, total=   0.0s\n",
      "[CV] criterion=entropy, max_depth=3, min_samples_leaf=100 ............\n",
      "[CV]  criterion=entropy, max_depth=3, min_samples_leaf=100, total=   0.0s\n",
      "[CV] criterion=entropy, max_depth=5, min_samples_leaf=5 ..............\n",
      "[CV]  criterion=entropy, max_depth=5, min_samples_leaf=5, total=   0.0s\n",
      "[CV] criterion=entropy, max_depth=5, min_samples_leaf=5 ..............\n",
      "[CV]  criterion=entropy, max_depth=5, min_samples_leaf=5, total=   0.0s\n",
      "[CV] criterion=entropy, max_depth=5, min_samples_leaf=5 ..............\n",
      "[CV]  criterion=entropy, max_depth=5, min_samples_leaf=5, total=   0.0s\n",
      "[CV] criterion=entropy, max_depth=5, min_samples_leaf=5 ..............\n",
      "[CV]  criterion=entropy, max_depth=5, min_samples_leaf=5, total=   0.0s\n",
      "[CV] criterion=entropy, max_depth=5, min_samples_leaf=5 ..............\n",
      "[CV]  criterion=entropy, max_depth=5, min_samples_leaf=5, total=   0.0s\n",
      "[CV] criterion=entropy, max_depth=5, min_samples_leaf=10 .............\n",
      "[CV]  criterion=entropy, max_depth=5, min_samples_leaf=10, total=   0.0s\n",
      "[CV] criterion=entropy, max_depth=5, min_samples_leaf=10 .............\n",
      "[CV]  criterion=entropy, max_depth=5, min_samples_leaf=10, total=   0.0s\n",
      "[CV] criterion=entropy, max_depth=5, min_samples_leaf=10 .............\n",
      "[CV]  criterion=entropy, max_depth=5, min_samples_leaf=10, total=   0.0s\n",
      "[CV] criterion=entropy, max_depth=5, min_samples_leaf=10 .............\n",
      "[CV]  criterion=entropy, max_depth=5, min_samples_leaf=10, total=   0.0s\n",
      "[CV] criterion=entropy, max_depth=5, min_samples_leaf=10 .............\n",
      "[CV]  criterion=entropy, max_depth=5, min_samples_leaf=10, total=   0.0s\n",
      "[CV] criterion=entropy, max_depth=5, min_samples_leaf=20 .............\n",
      "[CV]  criterion=entropy, max_depth=5, min_samples_leaf=20, total=   0.0s\n",
      "[CV] criterion=entropy, max_depth=5, min_samples_leaf=20 .............\n",
      "[CV]  criterion=entropy, max_depth=5, min_samples_leaf=20, total=   0.0s\n",
      "[CV] criterion=entropy, max_depth=5, min_samples_leaf=20 .............\n",
      "[CV]  criterion=entropy, max_depth=5, min_samples_leaf=20, total=   0.0s\n",
      "[CV] criterion=entropy, max_depth=5, min_samples_leaf=20 .............\n",
      "[CV]  criterion=entropy, max_depth=5, min_samples_leaf=20, total=   0.0s\n",
      "[CV] criterion=entropy, max_depth=5, min_samples_leaf=20 .............\n",
      "[CV]  criterion=entropy, max_depth=5, min_samples_leaf=20, total=   0.0s\n",
      "[CV] criterion=entropy, max_depth=5, min_samples_leaf=50 .............\n",
      "[CV]  criterion=entropy, max_depth=5, min_samples_leaf=50, total=   0.0s\n",
      "[CV] criterion=entropy, max_depth=5, min_samples_leaf=50 .............\n",
      "[CV]  criterion=entropy, max_depth=5, min_samples_leaf=50, total=   0.0s\n",
      "[CV] criterion=entropy, max_depth=5, min_samples_leaf=50 .............\n",
      "[CV]  criterion=entropy, max_depth=5, min_samples_leaf=50, total=   0.0s\n",
      "[CV] criterion=entropy, max_depth=5, min_samples_leaf=50 .............\n",
      "[CV]  criterion=entropy, max_depth=5, min_samples_leaf=50, total=   0.0s\n",
      "[CV] criterion=entropy, max_depth=5, min_samples_leaf=50 .............\n",
      "[CV]  criterion=entropy, max_depth=5, min_samples_leaf=50, total=   0.0s\n",
      "[CV] criterion=entropy, max_depth=5, min_samples_leaf=100 ............\n",
      "[CV]  criterion=entropy, max_depth=5, min_samples_leaf=100, total=   0.0s\n",
      "[CV] criterion=entropy, max_depth=5, min_samples_leaf=100 ............\n",
      "[CV]  criterion=entropy, max_depth=5, min_samples_leaf=100, total=   0.0s\n",
      "[CV] criterion=entropy, max_depth=5, min_samples_leaf=100 ............\n",
      "[CV]  criterion=entropy, max_depth=5, min_samples_leaf=100, total=   0.0s\n",
      "[CV] criterion=entropy, max_depth=5, min_samples_leaf=100 ............\n",
      "[CV]  criterion=entropy, max_depth=5, min_samples_leaf=100, total=   0.0s\n",
      "[CV] criterion=entropy, max_depth=5, min_samples_leaf=100 ............\n",
      "[CV]  criterion=entropy, max_depth=5, min_samples_leaf=100, total=   0.0s\n",
      "[CV] criterion=entropy, max_depth=10, min_samples_leaf=5 .............\n",
      "[CV]  criterion=entropy, max_depth=10, min_samples_leaf=5, total=   0.0s\n",
      "[CV] criterion=entropy, max_depth=10, min_samples_leaf=5 .............\n",
      "[CV]  criterion=entropy, max_depth=10, min_samples_leaf=5, total=   0.0s\n",
      "[CV] criterion=entropy, max_depth=10, min_samples_leaf=5 .............\n",
      "[CV]  criterion=entropy, max_depth=10, min_samples_leaf=5, total=   0.0s\n",
      "[CV] criterion=entropy, max_depth=10, min_samples_leaf=5 .............\n",
      "[CV]  criterion=entropy, max_depth=10, min_samples_leaf=5, total=   0.0s\n",
      "[CV] criterion=entropy, max_depth=10, min_samples_leaf=5 .............\n",
      "[CV]  criterion=entropy, max_depth=10, min_samples_leaf=5, total=   0.0s\n",
      "[CV] criterion=entropy, max_depth=10, min_samples_leaf=10 ............\n",
      "[CV]  criterion=entropy, max_depth=10, min_samples_leaf=10, total=   0.0s\n",
      "[CV] criterion=entropy, max_depth=10, min_samples_leaf=10 ............\n",
      "[CV]  criterion=entropy, max_depth=10, min_samples_leaf=10, total=   0.0s\n",
      "[CV] criterion=entropy, max_depth=10, min_samples_leaf=10 ............\n",
      "[CV]  criterion=entropy, max_depth=10, min_samples_leaf=10, total=   0.0s\n",
      "[CV] criterion=entropy, max_depth=10, min_samples_leaf=10 ............\n",
      "[CV]  criterion=entropy, max_depth=10, min_samples_leaf=10, total=   0.0s\n",
      "[CV] criterion=entropy, max_depth=10, min_samples_leaf=10 ............\n",
      "[CV]  criterion=entropy, max_depth=10, min_samples_leaf=10, total=   0.0s\n",
      "[CV] criterion=entropy, max_depth=10, min_samples_leaf=20 ............\n",
      "[CV]  criterion=entropy, max_depth=10, min_samples_leaf=20, total=   0.0s\n",
      "[CV] criterion=entropy, max_depth=10, min_samples_leaf=20 ............\n",
      "[CV]  criterion=entropy, max_depth=10, min_samples_leaf=20, total=   0.0s\n",
      "[CV] criterion=entropy, max_depth=10, min_samples_leaf=20 ............\n",
      "[CV]  criterion=entropy, max_depth=10, min_samples_leaf=20, total=   0.0s\n",
      "[CV] criterion=entropy, max_depth=10, min_samples_leaf=20 ............\n",
      "[CV]  criterion=entropy, max_depth=10, min_samples_leaf=20, total=   0.0s\n",
      "[CV] criterion=entropy, max_depth=10, min_samples_leaf=20 ............\n",
      "[CV]  criterion=entropy, max_depth=10, min_samples_leaf=20, total=   0.0s\n",
      "[CV] criterion=entropy, max_depth=10, min_samples_leaf=50 ............\n",
      "[CV]  criterion=entropy, max_depth=10, min_samples_leaf=50, total=   0.0s\n",
      "[CV] criterion=entropy, max_depth=10, min_samples_leaf=50 ............\n",
      "[CV]  criterion=entropy, max_depth=10, min_samples_leaf=50, total=   0.0s\n",
      "[CV] criterion=entropy, max_depth=10, min_samples_leaf=50 ............\n",
      "[CV]  criterion=entropy, max_depth=10, min_samples_leaf=50, total=   0.0s\n",
      "[CV] criterion=entropy, max_depth=10, min_samples_leaf=50 ............\n",
      "[CV]  criterion=entropy, max_depth=10, min_samples_leaf=50, total=   0.0s\n",
      "[CV] criterion=entropy, max_depth=10, min_samples_leaf=50 ............\n",
      "[CV]  criterion=entropy, max_depth=10, min_samples_leaf=50, total=   0.0s\n",
      "[CV] criterion=entropy, max_depth=10, min_samples_leaf=100 ...........\n",
      "[CV]  criterion=entropy, max_depth=10, min_samples_leaf=100, total=   0.0s\n",
      "[CV] criterion=entropy, max_depth=10, min_samples_leaf=100 ...........\n",
      "[CV]  criterion=entropy, max_depth=10, min_samples_leaf=100, total=   0.0s\n",
      "[CV] criterion=entropy, max_depth=10, min_samples_leaf=100 ...........\n",
      "[CV]  criterion=entropy, max_depth=10, min_samples_leaf=100, total=   0.0s\n",
      "[CV] criterion=entropy, max_depth=10, min_samples_leaf=100 ...........\n",
      "[CV]  criterion=entropy, max_depth=10, min_samples_leaf=100, total=   0.0s\n",
      "[CV] criterion=entropy, max_depth=10, min_samples_leaf=100 ...........\n",
      "[CV]  criterion=entropy, max_depth=10, min_samples_leaf=100, total=   0.0s\n",
      "[CV] criterion=entropy, max_depth=20, min_samples_leaf=5 .............\n",
      "[CV]  criterion=entropy, max_depth=20, min_samples_leaf=5, total=   0.0s\n",
      "[CV] criterion=entropy, max_depth=20, min_samples_leaf=5 .............\n",
      "[CV]  criterion=entropy, max_depth=20, min_samples_leaf=5, total=   0.0s\n",
      "[CV] criterion=entropy, max_depth=20, min_samples_leaf=5 .............\n",
      "[CV]  criterion=entropy, max_depth=20, min_samples_leaf=5, total=   0.0s\n",
      "[CV] criterion=entropy, max_depth=20, min_samples_leaf=5 .............\n",
      "[CV]  criterion=entropy, max_depth=20, min_samples_leaf=5, total=   0.0s\n",
      "[CV] criterion=entropy, max_depth=20, min_samples_leaf=5 .............\n",
      "[CV]  criterion=entropy, max_depth=20, min_samples_leaf=5, total=   0.0s\n",
      "[CV] criterion=entropy, max_depth=20, min_samples_leaf=10 ............\n",
      "[CV]  criterion=entropy, max_depth=20, min_samples_leaf=10, total=   0.0s\n",
      "[CV] criterion=entropy, max_depth=20, min_samples_leaf=10 ............\n",
      "[CV]  criterion=entropy, max_depth=20, min_samples_leaf=10, total=   0.0s\n",
      "[CV] criterion=entropy, max_depth=20, min_samples_leaf=10 ............\n",
      "[CV]  criterion=entropy, max_depth=20, min_samples_leaf=10, total=   0.0s\n",
      "[CV] criterion=entropy, max_depth=20, min_samples_leaf=10 ............\n",
      "[CV]  criterion=entropy, max_depth=20, min_samples_leaf=10, total=   0.0s\n",
      "[CV] criterion=entropy, max_depth=20, min_samples_leaf=10 ............\n",
      "[CV]  criterion=entropy, max_depth=20, min_samples_leaf=10, total=   0.0s\n",
      "[CV] criterion=entropy, max_depth=20, min_samples_leaf=20 ............\n",
      "[CV]  criterion=entropy, max_depth=20, min_samples_leaf=20, total=   0.0s\n",
      "[CV] criterion=entropy, max_depth=20, min_samples_leaf=20 ............\n",
      "[CV]  criterion=entropy, max_depth=20, min_samples_leaf=20, total=   0.0s\n",
      "[CV] criterion=entropy, max_depth=20, min_samples_leaf=20 ............\n",
      "[CV]  criterion=entropy, max_depth=20, min_samples_leaf=20, total=   0.0s\n",
      "[CV] criterion=entropy, max_depth=20, min_samples_leaf=20 ............\n",
      "[CV]  criterion=entropy, max_depth=20, min_samples_leaf=20, total=   0.0s\n",
      "[CV] criterion=entropy, max_depth=20, min_samples_leaf=20 ............\n",
      "[CV]  criterion=entropy, max_depth=20, min_samples_leaf=20, total=   0.0s\n",
      "[CV] criterion=entropy, max_depth=20, min_samples_leaf=50 ............\n",
      "[CV]  criterion=entropy, max_depth=20, min_samples_leaf=50, total=   0.0s\n",
      "[CV] criterion=entropy, max_depth=20, min_samples_leaf=50 ............\n",
      "[CV]  criterion=entropy, max_depth=20, min_samples_leaf=50, total=   0.0s\n",
      "[CV] criterion=entropy, max_depth=20, min_samples_leaf=50 ............\n",
      "[CV]  criterion=entropy, max_depth=20, min_samples_leaf=50, total=   0.0s\n",
      "[CV] criterion=entropy, max_depth=20, min_samples_leaf=50 ............\n",
      "[CV]  criterion=entropy, max_depth=20, min_samples_leaf=50, total=   0.0s\n",
      "[CV] criterion=entropy, max_depth=20, min_samples_leaf=50 ............\n",
      "[CV]  criterion=entropy, max_depth=20, min_samples_leaf=50, total=   0.0s\n",
      "[CV] criterion=entropy, max_depth=20, min_samples_leaf=100 ...........\n",
      "[CV]  criterion=entropy, max_depth=20, min_samples_leaf=100, total=   0.0s\n",
      "[CV] criterion=entropy, max_depth=20, min_samples_leaf=100 ...........\n",
      "[CV]  criterion=entropy, max_depth=20, min_samples_leaf=100, total=   0.0s\n",
      "[CV] criterion=entropy, max_depth=20, min_samples_leaf=100 ...........\n",
      "[CV]  criterion=entropy, max_depth=20, min_samples_leaf=100, total=   0.0s\n",
      "[CV] criterion=entropy, max_depth=20, min_samples_leaf=100 ...........\n",
      "[CV]  criterion=entropy, max_depth=20, min_samples_leaf=100, total=   0.0s\n",
      "[CV] criterion=entropy, max_depth=20, min_samples_leaf=100 ...........\n",
      "[CV]  criterion=entropy, max_depth=20, min_samples_leaf=100, total=   0.0s\n"
     ]
    },
    {
     "name": "stderr",
     "output_type": "stream",
     "text": [
      "[Parallel(n_jobs=1)]: Done 250 out of 250 | elapsed:    0.2s finished\n"
     ]
    }
   ],
   "source": [
    "#Pregunta 3\n",
    "#Agregamos los modelos de Naive Bayes, Decision Tree y Redes Neuronales para compararlo con lo trabajado\n",
    "x_train_DT, x_test_DT, y_train_DT, y_test_DT = train_test_split(x, y, test_size = 0.20, random_state = 0)\n",
    "\n",
    "param_grid = {\n",
    "    'max_depth': [2, 3, 5, 10, 20],\n",
    "    'min_samples_leaf': [5, 10, 20, 50, 100],\n",
    "    'criterion': [\"gini\", \"entropy\"]\n",
    "}\n",
    "grid = GridSearchCV(tree.DecisionTreeClassifier(),param_grid,refit=True,verbose=2,cv=5)\n",
    "grid.fit(x_train_DT,y_train_DT)\n",
    "classifier_DT = tree.DecisionTreeClassifier(max_depth=2, min_samples_leaf=5).fit(x_train_DT, y_train_DT)\n",
    "y_pred_DT = classifier_DT.predict(x_test_DT)"
   ]
  },
  {
   "cell_type": "code",
   "execution_count": 146,
   "metadata": {},
   "outputs": [
    {
     "data": {
      "text/plain": [
       "0.9494514106583072"
      ]
     },
     "execution_count": 146,
     "metadata": {},
     "output_type": "execute_result"
    }
   ],
   "source": [
    "y_pred_prob_DT = classifier_DT.predict_proba(x_test_DT)\n",
    "false_positive_rate_DT, true_positive_rate_DT, thresholds_DT = roc_curve(y_test_DT, y_pred_prob_DT[:,1])\n",
    "roc_auc_DT = auc(false_positive_rate_DT, true_positive_rate_DT)\n",
    "roc_auc_DT"
   ]
  },
  {
   "cell_type": "code",
   "execution_count": 147,
   "metadata": {},
   "outputs": [
    {
     "data": {
      "text/plain": [
       "0.9843260188087775"
      ]
     },
     "execution_count": 147,
     "metadata": {},
     "output_type": "execute_result"
    }
   ],
   "source": [
    "x_train_NB, x_test_NB, y_train_NB, y_test_NB = train_test_split(x, y, test_size = 0.20, random_state = 0)\n",
    "\n",
    "classifier_G = GaussianNB().fit(x_train_NB, y_train_NB)\n",
    "y_pred_prob_NB = classifier_G.predict_proba(x_test_NB)\n",
    "false_positive_rate_NB, true_positive_rate_NB, thresholds = roc_curve(y_test_NB, y_pred_prob_NB[:,1])\n",
    "roc_auc_NB = auc(false_positive_rate_NB, true_positive_rate_NB)\n",
    "roc_auc_NB"
   ]
  },
  {
   "cell_type": "code",
   "execution_count": 148,
   "metadata": {},
   "outputs": [
    {
     "name": "stdout",
     "output_type": "stream",
     "text": [
      "Fitting 5 folds for each of 32 candidates, totalling 160 fits\n",
      "[CV] activation=tanh, alpha=0.0001, hidden_layer_sizes=(10, 30, 10), learning_rate=constant, solver=sgd \n"
     ]
    },
    {
     "name": "stderr",
     "output_type": "stream",
     "text": [
      "[Parallel(n_jobs=1)]: Using backend SequentialBackend with 1 concurrent workers.\n",
      "C:\\ProgramData\\Anaconda3_delete\\lib\\site-packages\\sklearn\\neural_network\\_multilayer_perceptron.py:582: ConvergenceWarning: Stochastic Optimizer: Maximum iterations (500) reached and the optimization hasn't converged yet.\n",
      "  warnings.warn(\n",
      "[Parallel(n_jobs=1)]: Done   1 out of   1 | elapsed:    0.5s remaining:    0.0s\n"
     ]
    },
    {
     "name": "stdout",
     "output_type": "stream",
     "text": [
      "[CV]  activation=tanh, alpha=0.0001, hidden_layer_sizes=(10, 30, 10), learning_rate=constant, solver=sgd, total=   0.6s\n",
      "[CV] activation=tanh, alpha=0.0001, hidden_layer_sizes=(10, 30, 10), learning_rate=constant, solver=sgd \n"
     ]
    },
    {
     "name": "stderr",
     "output_type": "stream",
     "text": [
      "C:\\ProgramData\\Anaconda3_delete\\lib\\site-packages\\sklearn\\neural_network\\_multilayer_perceptron.py:582: ConvergenceWarning: Stochastic Optimizer: Maximum iterations (500) reached and the optimization hasn't converged yet.\n",
      "  warnings.warn(\n"
     ]
    },
    {
     "name": "stdout",
     "output_type": "stream",
     "text": [
      "[CV]  activation=tanh, alpha=0.0001, hidden_layer_sizes=(10, 30, 10), learning_rate=constant, solver=sgd, total=   0.6s\n",
      "[CV] activation=tanh, alpha=0.0001, hidden_layer_sizes=(10, 30, 10), learning_rate=constant, solver=sgd \n"
     ]
    },
    {
     "name": "stderr",
     "output_type": "stream",
     "text": [
      "C:\\ProgramData\\Anaconda3_delete\\lib\\site-packages\\sklearn\\neural_network\\_multilayer_perceptron.py:582: ConvergenceWarning: Stochastic Optimizer: Maximum iterations (500) reached and the optimization hasn't converged yet.\n",
      "  warnings.warn(\n"
     ]
    },
    {
     "name": "stdout",
     "output_type": "stream",
     "text": [
      "[CV]  activation=tanh, alpha=0.0001, hidden_layer_sizes=(10, 30, 10), learning_rate=constant, solver=sgd, total=   0.6s\n",
      "[CV] activation=tanh, alpha=0.0001, hidden_layer_sizes=(10, 30, 10), learning_rate=constant, solver=sgd \n"
     ]
    },
    {
     "name": "stderr",
     "output_type": "stream",
     "text": [
      "C:\\ProgramData\\Anaconda3_delete\\lib\\site-packages\\sklearn\\neural_network\\_multilayer_perceptron.py:582: ConvergenceWarning: Stochastic Optimizer: Maximum iterations (500) reached and the optimization hasn't converged yet.\n",
      "  warnings.warn(\n"
     ]
    },
    {
     "name": "stdout",
     "output_type": "stream",
     "text": [
      "[CV]  activation=tanh, alpha=0.0001, hidden_layer_sizes=(10, 30, 10), learning_rate=constant, solver=sgd, total=   0.6s\n",
      "[CV] activation=tanh, alpha=0.0001, hidden_layer_sizes=(10, 30, 10), learning_rate=constant, solver=sgd \n",
      "[CV]  activation=tanh, alpha=0.0001, hidden_layer_sizes=(10, 30, 10), learning_rate=constant, solver=sgd, total=   0.3s\n",
      "[CV] activation=tanh, alpha=0.0001, hidden_layer_sizes=(10, 30, 10), learning_rate=constant, solver=adam \n",
      "[CV]  activation=tanh, alpha=0.0001, hidden_layer_sizes=(10, 30, 10), learning_rate=constant, solver=adam, total=   0.4s\n",
      "[CV] activation=tanh, alpha=0.0001, hidden_layer_sizes=(10, 30, 10), learning_rate=constant, solver=adam \n",
      "[CV]  activation=tanh, alpha=0.0001, hidden_layer_sizes=(10, 30, 10), learning_rate=constant, solver=adam, total=   0.4s\n",
      "[CV] activation=tanh, alpha=0.0001, hidden_layer_sizes=(10, 30, 10), learning_rate=constant, solver=adam \n",
      "[CV]  activation=tanh, alpha=0.0001, hidden_layer_sizes=(10, 30, 10), learning_rate=constant, solver=adam, total=   0.5s\n",
      "[CV] activation=tanh, alpha=0.0001, hidden_layer_sizes=(10, 30, 10), learning_rate=constant, solver=adam \n",
      "[CV]  activation=tanh, alpha=0.0001, hidden_layer_sizes=(10, 30, 10), learning_rate=constant, solver=adam, total=   0.6s\n",
      "[CV] activation=tanh, alpha=0.0001, hidden_layer_sizes=(10, 30, 10), learning_rate=constant, solver=adam \n",
      "[CV]  activation=tanh, alpha=0.0001, hidden_layer_sizes=(10, 30, 10), learning_rate=constant, solver=adam, total=   0.5s\n",
      "[CV] activation=tanh, alpha=0.0001, hidden_layer_sizes=(10, 30, 10), learning_rate=adaptive, solver=sgd \n"
     ]
    },
    {
     "name": "stderr",
     "output_type": "stream",
     "text": [
      "C:\\ProgramData\\Anaconda3_delete\\lib\\site-packages\\sklearn\\neural_network\\_multilayer_perceptron.py:582: ConvergenceWarning: Stochastic Optimizer: Maximum iterations (500) reached and the optimization hasn't converged yet.\n",
      "  warnings.warn(\n"
     ]
    },
    {
     "name": "stdout",
     "output_type": "stream",
     "text": [
      "[CV]  activation=tanh, alpha=0.0001, hidden_layer_sizes=(10, 30, 10), learning_rate=adaptive, solver=sgd, total=   0.5s\n",
      "[CV] activation=tanh, alpha=0.0001, hidden_layer_sizes=(10, 30, 10), learning_rate=adaptive, solver=sgd \n"
     ]
    },
    {
     "name": "stderr",
     "output_type": "stream",
     "text": [
      "C:\\ProgramData\\Anaconda3_delete\\lib\\site-packages\\sklearn\\neural_network\\_multilayer_perceptron.py:582: ConvergenceWarning: Stochastic Optimizer: Maximum iterations (500) reached and the optimization hasn't converged yet.\n",
      "  warnings.warn(\n"
     ]
    },
    {
     "name": "stdout",
     "output_type": "stream",
     "text": [
      "[CV]  activation=tanh, alpha=0.0001, hidden_layer_sizes=(10, 30, 10), learning_rate=adaptive, solver=sgd, total=   0.6s\n",
      "[CV] activation=tanh, alpha=0.0001, hidden_layer_sizes=(10, 30, 10), learning_rate=adaptive, solver=sgd \n"
     ]
    },
    {
     "name": "stderr",
     "output_type": "stream",
     "text": [
      "C:\\ProgramData\\Anaconda3_delete\\lib\\site-packages\\sklearn\\neural_network\\_multilayer_perceptron.py:582: ConvergenceWarning: Stochastic Optimizer: Maximum iterations (500) reached and the optimization hasn't converged yet.\n",
      "  warnings.warn(\n"
     ]
    },
    {
     "name": "stdout",
     "output_type": "stream",
     "text": [
      "[CV]  activation=tanh, alpha=0.0001, hidden_layer_sizes=(10, 30, 10), learning_rate=adaptive, solver=sgd, total=   0.6s\n",
      "[CV] activation=tanh, alpha=0.0001, hidden_layer_sizes=(10, 30, 10), learning_rate=adaptive, solver=sgd \n",
      "[CV]  activation=tanh, alpha=0.0001, hidden_layer_sizes=(10, 30, 10), learning_rate=adaptive, solver=sgd, total=   0.3s\n",
      "[CV] activation=tanh, alpha=0.0001, hidden_layer_sizes=(10, 30, 10), learning_rate=adaptive, solver=sgd \n"
     ]
    },
    {
     "name": "stderr",
     "output_type": "stream",
     "text": [
      "C:\\ProgramData\\Anaconda3_delete\\lib\\site-packages\\sklearn\\neural_network\\_multilayer_perceptron.py:582: ConvergenceWarning: Stochastic Optimizer: Maximum iterations (500) reached and the optimization hasn't converged yet.\n",
      "  warnings.warn(\n"
     ]
    },
    {
     "name": "stdout",
     "output_type": "stream",
     "text": [
      "[CV]  activation=tanh, alpha=0.0001, hidden_layer_sizes=(10, 30, 10), learning_rate=adaptive, solver=sgd, total=   0.5s\n",
      "[CV] activation=tanh, alpha=0.0001, hidden_layer_sizes=(10, 30, 10), learning_rate=adaptive, solver=adam \n",
      "[CV]  activation=tanh, alpha=0.0001, hidden_layer_sizes=(10, 30, 10), learning_rate=adaptive, solver=adam, total=   0.4s\n",
      "[CV] activation=tanh, alpha=0.0001, hidden_layer_sizes=(10, 30, 10), learning_rate=adaptive, solver=adam \n",
      "[CV]  activation=tanh, alpha=0.0001, hidden_layer_sizes=(10, 30, 10), learning_rate=adaptive, solver=adam, total=   0.5s\n",
      "[CV] activation=tanh, alpha=0.0001, hidden_layer_sizes=(10, 30, 10), learning_rate=adaptive, solver=adam \n",
      "[CV]  activation=tanh, alpha=0.0001, hidden_layer_sizes=(10, 30, 10), learning_rate=adaptive, solver=adam, total=   0.6s\n",
      "[CV] activation=tanh, alpha=0.0001, hidden_layer_sizes=(10, 30, 10), learning_rate=adaptive, solver=adam \n",
      "[CV]  activation=tanh, alpha=0.0001, hidden_layer_sizes=(10, 30, 10), learning_rate=adaptive, solver=adam, total=   0.4s\n",
      "[CV] activation=tanh, alpha=0.0001, hidden_layer_sizes=(10, 30, 10), learning_rate=adaptive, solver=adam \n",
      "[CV]  activation=tanh, alpha=0.0001, hidden_layer_sizes=(10, 30, 10), learning_rate=adaptive, solver=adam, total=   0.4s\n",
      "[CV] activation=tanh, alpha=0.0001, hidden_layer_sizes=(20,), learning_rate=constant, solver=sgd \n",
      "[CV]  activation=tanh, alpha=0.0001, hidden_layer_sizes=(20,), learning_rate=constant, solver=sgd, total=   0.2s\n",
      "[CV] activation=tanh, alpha=0.0001, hidden_layer_sizes=(20,), learning_rate=constant, solver=sgd \n",
      "[CV]  activation=tanh, alpha=0.0001, hidden_layer_sizes=(20,), learning_rate=constant, solver=sgd, total=   0.2s\n",
      "[CV] activation=tanh, alpha=0.0001, hidden_layer_sizes=(20,), learning_rate=constant, solver=sgd \n",
      "[CV]  activation=tanh, alpha=0.0001, hidden_layer_sizes=(20,), learning_rate=constant, solver=sgd, total=   0.2s\n",
      "[CV] activation=tanh, alpha=0.0001, hidden_layer_sizes=(20,), learning_rate=constant, solver=sgd \n",
      "[CV]  activation=tanh, alpha=0.0001, hidden_layer_sizes=(20,), learning_rate=constant, solver=sgd, total=   0.2s\n",
      "[CV] activation=tanh, alpha=0.0001, hidden_layer_sizes=(20,), learning_rate=constant, solver=sgd \n",
      "[CV]  activation=tanh, alpha=0.0001, hidden_layer_sizes=(20,), learning_rate=constant, solver=sgd, total=   0.1s\n",
      "[CV] activation=tanh, alpha=0.0001, hidden_layer_sizes=(20,), learning_rate=constant, solver=adam \n"
     ]
    },
    {
     "name": "stderr",
     "output_type": "stream",
     "text": [
      "C:\\ProgramData\\Anaconda3_delete\\lib\\site-packages\\sklearn\\neural_network\\_multilayer_perceptron.py:582: ConvergenceWarning: Stochastic Optimizer: Maximum iterations (500) reached and the optimization hasn't converged yet.\n",
      "  warnings.warn(\n"
     ]
    },
    {
     "name": "stdout",
     "output_type": "stream",
     "text": [
      "[CV]  activation=tanh, alpha=0.0001, hidden_layer_sizes=(20,), learning_rate=constant, solver=adam, total=   0.3s\n",
      "[CV] activation=tanh, alpha=0.0001, hidden_layer_sizes=(20,), learning_rate=constant, solver=adam \n"
     ]
    },
    {
     "name": "stderr",
     "output_type": "stream",
     "text": [
      "C:\\ProgramData\\Anaconda3_delete\\lib\\site-packages\\sklearn\\neural_network\\_multilayer_perceptron.py:582: ConvergenceWarning: Stochastic Optimizer: Maximum iterations (500) reached and the optimization hasn't converged yet.\n",
      "  warnings.warn(\n"
     ]
    },
    {
     "name": "stdout",
     "output_type": "stream",
     "text": [
      "[CV]  activation=tanh, alpha=0.0001, hidden_layer_sizes=(20,), learning_rate=constant, solver=adam, total=   0.3s\n",
      "[CV] activation=tanh, alpha=0.0001, hidden_layer_sizes=(20,), learning_rate=constant, solver=adam \n"
     ]
    },
    {
     "name": "stderr",
     "output_type": "stream",
     "text": [
      "C:\\ProgramData\\Anaconda3_delete\\lib\\site-packages\\sklearn\\neural_network\\_multilayer_perceptron.py:582: ConvergenceWarning: Stochastic Optimizer: Maximum iterations (500) reached and the optimization hasn't converged yet.\n",
      "  warnings.warn(\n"
     ]
    },
    {
     "name": "stdout",
     "output_type": "stream",
     "text": [
      "[CV]  activation=tanh, alpha=0.0001, hidden_layer_sizes=(20,), learning_rate=constant, solver=adam, total=   0.3s\n",
      "[CV] activation=tanh, alpha=0.0001, hidden_layer_sizes=(20,), learning_rate=constant, solver=adam \n"
     ]
    },
    {
     "name": "stderr",
     "output_type": "stream",
     "text": [
      "C:\\ProgramData\\Anaconda3_delete\\lib\\site-packages\\sklearn\\neural_network\\_multilayer_perceptron.py:582: ConvergenceWarning: Stochastic Optimizer: Maximum iterations (500) reached and the optimization hasn't converged yet.\n",
      "  warnings.warn(\n"
     ]
    },
    {
     "name": "stdout",
     "output_type": "stream",
     "text": [
      "[CV]  activation=tanh, alpha=0.0001, hidden_layer_sizes=(20,), learning_rate=constant, solver=adam, total=   0.3s\n",
      "[CV] activation=tanh, alpha=0.0001, hidden_layer_sizes=(20,), learning_rate=constant, solver=adam \n"
     ]
    },
    {
     "name": "stderr",
     "output_type": "stream",
     "text": [
      "C:\\ProgramData\\Anaconda3_delete\\lib\\site-packages\\sklearn\\neural_network\\_multilayer_perceptron.py:582: ConvergenceWarning: Stochastic Optimizer: Maximum iterations (500) reached and the optimization hasn't converged yet.\n",
      "  warnings.warn(\n"
     ]
    },
    {
     "name": "stdout",
     "output_type": "stream",
     "text": [
      "[CV]  activation=tanh, alpha=0.0001, hidden_layer_sizes=(20,), learning_rate=constant, solver=adam, total=   0.3s\n",
      "[CV] activation=tanh, alpha=0.0001, hidden_layer_sizes=(20,), learning_rate=adaptive, solver=sgd \n",
      "[CV]  activation=tanh, alpha=0.0001, hidden_layer_sizes=(20,), learning_rate=adaptive, solver=sgd, total=   0.3s\n",
      "[CV] activation=tanh, alpha=0.0001, hidden_layer_sizes=(20,), learning_rate=adaptive, solver=sgd \n",
      "[CV]  activation=tanh, alpha=0.0001, hidden_layer_sizes=(20,), learning_rate=adaptive, solver=sgd, total=   0.2s\n",
      "[CV] activation=tanh, alpha=0.0001, hidden_layer_sizes=(20,), learning_rate=adaptive, solver=sgd \n"
     ]
    },
    {
     "name": "stderr",
     "output_type": "stream",
     "text": [
      "C:\\ProgramData\\Anaconda3_delete\\lib\\site-packages\\sklearn\\neural_network\\_multilayer_perceptron.py:582: ConvergenceWarning: Stochastic Optimizer: Maximum iterations (500) reached and the optimization hasn't converged yet.\n",
      "  warnings.warn(\n"
     ]
    },
    {
     "name": "stdout",
     "output_type": "stream",
     "text": [
      "[CV]  activation=tanh, alpha=0.0001, hidden_layer_sizes=(20,), learning_rate=adaptive, solver=sgd, total=   0.3s\n",
      "[CV] activation=tanh, alpha=0.0001, hidden_layer_sizes=(20,), learning_rate=adaptive, solver=sgd \n",
      "[CV]  activation=tanh, alpha=0.0001, hidden_layer_sizes=(20,), learning_rate=adaptive, solver=sgd, total=   0.2s\n",
      "[CV] activation=tanh, alpha=0.0001, hidden_layer_sizes=(20,), learning_rate=adaptive, solver=sgd \n",
      "[CV]  activation=tanh, alpha=0.0001, hidden_layer_sizes=(20,), learning_rate=adaptive, solver=sgd, total=   0.2s\n",
      "[CV] activation=tanh, alpha=0.0001, hidden_layer_sizes=(20,), learning_rate=adaptive, solver=adam \n"
     ]
    },
    {
     "name": "stderr",
     "output_type": "stream",
     "text": [
      "C:\\ProgramData\\Anaconda3_delete\\lib\\site-packages\\sklearn\\neural_network\\_multilayer_perceptron.py:582: ConvergenceWarning: Stochastic Optimizer: Maximum iterations (500) reached and the optimization hasn't converged yet.\n",
      "  warnings.warn(\n"
     ]
    },
    {
     "name": "stdout",
     "output_type": "stream",
     "text": [
      "[CV]  activation=tanh, alpha=0.0001, hidden_layer_sizes=(20,), learning_rate=adaptive, solver=adam, total=   0.3s\n",
      "[CV] activation=tanh, alpha=0.0001, hidden_layer_sizes=(20,), learning_rate=adaptive, solver=adam \n"
     ]
    },
    {
     "name": "stderr",
     "output_type": "stream",
     "text": [
      "C:\\ProgramData\\Anaconda3_delete\\lib\\site-packages\\sklearn\\neural_network\\_multilayer_perceptron.py:582: ConvergenceWarning: Stochastic Optimizer: Maximum iterations (500) reached and the optimization hasn't converged yet.\n",
      "  warnings.warn(\n"
     ]
    },
    {
     "name": "stdout",
     "output_type": "stream",
     "text": [
      "[CV]  activation=tanh, alpha=0.0001, hidden_layer_sizes=(20,), learning_rate=adaptive, solver=adam, total=   0.3s\n",
      "[CV] activation=tanh, alpha=0.0001, hidden_layer_sizes=(20,), learning_rate=adaptive, solver=adam \n"
     ]
    },
    {
     "name": "stderr",
     "output_type": "stream",
     "text": [
      "C:\\ProgramData\\Anaconda3_delete\\lib\\site-packages\\sklearn\\neural_network\\_multilayer_perceptron.py:582: ConvergenceWarning: Stochastic Optimizer: Maximum iterations (500) reached and the optimization hasn't converged yet.\n",
      "  warnings.warn(\n"
     ]
    },
    {
     "name": "stdout",
     "output_type": "stream",
     "text": [
      "[CV]  activation=tanh, alpha=0.0001, hidden_layer_sizes=(20,), learning_rate=adaptive, solver=adam, total=   0.3s\n",
      "[CV] activation=tanh, alpha=0.0001, hidden_layer_sizes=(20,), learning_rate=adaptive, solver=adam \n"
     ]
    },
    {
     "name": "stderr",
     "output_type": "stream",
     "text": [
      "C:\\ProgramData\\Anaconda3_delete\\lib\\site-packages\\sklearn\\neural_network\\_multilayer_perceptron.py:582: ConvergenceWarning: Stochastic Optimizer: Maximum iterations (500) reached and the optimization hasn't converged yet.\n",
      "  warnings.warn(\n"
     ]
    },
    {
     "name": "stdout",
     "output_type": "stream",
     "text": [
      "[CV]  activation=tanh, alpha=0.0001, hidden_layer_sizes=(20,), learning_rate=adaptive, solver=adam, total=   0.3s\n",
      "[CV] activation=tanh, alpha=0.0001, hidden_layer_sizes=(20,), learning_rate=adaptive, solver=adam \n"
     ]
    },
    {
     "name": "stderr",
     "output_type": "stream",
     "text": [
      "C:\\ProgramData\\Anaconda3_delete\\lib\\site-packages\\sklearn\\neural_network\\_multilayer_perceptron.py:582: ConvergenceWarning: Stochastic Optimizer: Maximum iterations (500) reached and the optimization hasn't converged yet.\n",
      "  warnings.warn(\n"
     ]
    },
    {
     "name": "stdout",
     "output_type": "stream",
     "text": [
      "[CV]  activation=tanh, alpha=0.0001, hidden_layer_sizes=(20,), learning_rate=adaptive, solver=adam, total=   0.3s\n",
      "[CV] activation=tanh, alpha=0.05, hidden_layer_sizes=(10, 30, 10), learning_rate=constant, solver=sgd \n"
     ]
    },
    {
     "name": "stderr",
     "output_type": "stream",
     "text": [
      "C:\\ProgramData\\Anaconda3_delete\\lib\\site-packages\\sklearn\\neural_network\\_multilayer_perceptron.py:582: ConvergenceWarning: Stochastic Optimizer: Maximum iterations (500) reached and the optimization hasn't converged yet.\n",
      "  warnings.warn(\n"
     ]
    },
    {
     "name": "stdout",
     "output_type": "stream",
     "text": [
      "[CV]  activation=tanh, alpha=0.05, hidden_layer_sizes=(10, 30, 10), learning_rate=constant, solver=sgd, total=   0.6s\n",
      "[CV] activation=tanh, alpha=0.05, hidden_layer_sizes=(10, 30, 10), learning_rate=constant, solver=sgd \n"
     ]
    },
    {
     "name": "stderr",
     "output_type": "stream",
     "text": [
      "C:\\ProgramData\\Anaconda3_delete\\lib\\site-packages\\sklearn\\neural_network\\_multilayer_perceptron.py:582: ConvergenceWarning: Stochastic Optimizer: Maximum iterations (500) reached and the optimization hasn't converged yet.\n",
      "  warnings.warn(\n"
     ]
    },
    {
     "name": "stdout",
     "output_type": "stream",
     "text": [
      "[CV]  activation=tanh, alpha=0.05, hidden_layer_sizes=(10, 30, 10), learning_rate=constant, solver=sgd, total=   0.5s\n",
      "[CV] activation=tanh, alpha=0.05, hidden_layer_sizes=(10, 30, 10), learning_rate=constant, solver=sgd \n"
     ]
    },
    {
     "name": "stderr",
     "output_type": "stream",
     "text": [
      "C:\\ProgramData\\Anaconda3_delete\\lib\\site-packages\\sklearn\\neural_network\\_multilayer_perceptron.py:582: ConvergenceWarning: Stochastic Optimizer: Maximum iterations (500) reached and the optimization hasn't converged yet.\n",
      "  warnings.warn(\n"
     ]
    },
    {
     "name": "stdout",
     "output_type": "stream",
     "text": [
      "[CV]  activation=tanh, alpha=0.05, hidden_layer_sizes=(10, 30, 10), learning_rate=constant, solver=sgd, total=   0.5s\n",
      "[CV] activation=tanh, alpha=0.05, hidden_layer_sizes=(10, 30, 10), learning_rate=constant, solver=sgd \n"
     ]
    },
    {
     "name": "stderr",
     "output_type": "stream",
     "text": [
      "C:\\ProgramData\\Anaconda3_delete\\lib\\site-packages\\sklearn\\neural_network\\_multilayer_perceptron.py:582: ConvergenceWarning: Stochastic Optimizer: Maximum iterations (500) reached and the optimization hasn't converged yet.\n",
      "  warnings.warn(\n"
     ]
    },
    {
     "name": "stdout",
     "output_type": "stream",
     "text": [
      "[CV]  activation=tanh, alpha=0.05, hidden_layer_sizes=(10, 30, 10), learning_rate=constant, solver=sgd, total=   0.5s\n",
      "[CV] activation=tanh, alpha=0.05, hidden_layer_sizes=(10, 30, 10), learning_rate=constant, solver=sgd \n"
     ]
    },
    {
     "name": "stderr",
     "output_type": "stream",
     "text": [
      "C:\\ProgramData\\Anaconda3_delete\\lib\\site-packages\\sklearn\\neural_network\\_multilayer_perceptron.py:582: ConvergenceWarning: Stochastic Optimizer: Maximum iterations (500) reached and the optimization hasn't converged yet.\n",
      "  warnings.warn(\n"
     ]
    },
    {
     "name": "stdout",
     "output_type": "stream",
     "text": [
      "[CV]  activation=tanh, alpha=0.05, hidden_layer_sizes=(10, 30, 10), learning_rate=constant, solver=sgd, total=   0.6s\n",
      "[CV] activation=tanh, alpha=0.05, hidden_layer_sizes=(10, 30, 10), learning_rate=constant, solver=adam \n",
      "[CV]  activation=tanh, alpha=0.05, hidden_layer_sizes=(10, 30, 10), learning_rate=constant, solver=adam, total=   0.4s\n",
      "[CV] activation=tanh, alpha=0.05, hidden_layer_sizes=(10, 30, 10), learning_rate=constant, solver=adam \n",
      "[CV]  activation=tanh, alpha=0.05, hidden_layer_sizes=(10, 30, 10), learning_rate=constant, solver=adam, total=   0.4s\n",
      "[CV] activation=tanh, alpha=0.05, hidden_layer_sizes=(10, 30, 10), learning_rate=constant, solver=adam \n",
      "[CV]  activation=tanh, alpha=0.05, hidden_layer_sizes=(10, 30, 10), learning_rate=constant, solver=adam, total=   0.4s\n",
      "[CV] activation=tanh, alpha=0.05, hidden_layer_sizes=(10, 30, 10), learning_rate=constant, solver=adam \n",
      "[CV]  activation=tanh, alpha=0.05, hidden_layer_sizes=(10, 30, 10), learning_rate=constant, solver=adam, total=   0.4s\n",
      "[CV] activation=tanh, alpha=0.05, hidden_layer_sizes=(10, 30, 10), learning_rate=constant, solver=adam \n",
      "[CV]  activation=tanh, alpha=0.05, hidden_layer_sizes=(10, 30, 10), learning_rate=constant, solver=adam, total=   0.4s\n",
      "[CV] activation=tanh, alpha=0.05, hidden_layer_sizes=(10, 30, 10), learning_rate=adaptive, solver=sgd \n"
     ]
    },
    {
     "name": "stderr",
     "output_type": "stream",
     "text": [
      "C:\\ProgramData\\Anaconda3_delete\\lib\\site-packages\\sklearn\\neural_network\\_multilayer_perceptron.py:582: ConvergenceWarning: Stochastic Optimizer: Maximum iterations (500) reached and the optimization hasn't converged yet.\n",
      "  warnings.warn(\n"
     ]
    },
    {
     "name": "stdout",
     "output_type": "stream",
     "text": [
      "[CV]  activation=tanh, alpha=0.05, hidden_layer_sizes=(10, 30, 10), learning_rate=adaptive, solver=sgd, total=   0.6s\n",
      "[CV] activation=tanh, alpha=0.05, hidden_layer_sizes=(10, 30, 10), learning_rate=adaptive, solver=sgd \n"
     ]
    },
    {
     "name": "stderr",
     "output_type": "stream",
     "text": [
      "C:\\ProgramData\\Anaconda3_delete\\lib\\site-packages\\sklearn\\neural_network\\_multilayer_perceptron.py:582: ConvergenceWarning: Stochastic Optimizer: Maximum iterations (500) reached and the optimization hasn't converged yet.\n",
      "  warnings.warn(\n"
     ]
    },
    {
     "name": "stdout",
     "output_type": "stream",
     "text": [
      "[CV]  activation=tanh, alpha=0.05, hidden_layer_sizes=(10, 30, 10), learning_rate=adaptive, solver=sgd, total=   0.6s\n",
      "[CV] activation=tanh, alpha=0.05, hidden_layer_sizes=(10, 30, 10), learning_rate=adaptive, solver=sgd \n"
     ]
    },
    {
     "name": "stderr",
     "output_type": "stream",
     "text": [
      "C:\\ProgramData\\Anaconda3_delete\\lib\\site-packages\\sklearn\\neural_network\\_multilayer_perceptron.py:582: ConvergenceWarning: Stochastic Optimizer: Maximum iterations (500) reached and the optimization hasn't converged yet.\n",
      "  warnings.warn(\n"
     ]
    },
    {
     "name": "stdout",
     "output_type": "stream",
     "text": [
      "[CV]  activation=tanh, alpha=0.05, hidden_layer_sizes=(10, 30, 10), learning_rate=adaptive, solver=sgd, total=   0.5s\n",
      "[CV] activation=tanh, alpha=0.05, hidden_layer_sizes=(10, 30, 10), learning_rate=adaptive, solver=sgd \n",
      "[CV]  activation=tanh, alpha=0.05, hidden_layer_sizes=(10, 30, 10), learning_rate=adaptive, solver=sgd, total=   0.3s\n",
      "[CV] activation=tanh, alpha=0.05, hidden_layer_sizes=(10, 30, 10), learning_rate=adaptive, solver=sgd \n"
     ]
    },
    {
     "name": "stderr",
     "output_type": "stream",
     "text": [
      "C:\\ProgramData\\Anaconda3_delete\\lib\\site-packages\\sklearn\\neural_network\\_multilayer_perceptron.py:582: ConvergenceWarning: Stochastic Optimizer: Maximum iterations (500) reached and the optimization hasn't converged yet.\n",
      "  warnings.warn(\n"
     ]
    },
    {
     "name": "stdout",
     "output_type": "stream",
     "text": [
      "[CV]  activation=tanh, alpha=0.05, hidden_layer_sizes=(10, 30, 10), learning_rate=adaptive, solver=sgd, total=   0.6s\n",
      "[CV] activation=tanh, alpha=0.05, hidden_layer_sizes=(10, 30, 10), learning_rate=adaptive, solver=adam \n",
      "[CV]  activation=tanh, alpha=0.05, hidden_layer_sizes=(10, 30, 10), learning_rate=adaptive, solver=adam, total=   0.4s\n",
      "[CV] activation=tanh, alpha=0.05, hidden_layer_sizes=(10, 30, 10), learning_rate=adaptive, solver=adam \n",
      "[CV]  activation=tanh, alpha=0.05, hidden_layer_sizes=(10, 30, 10), learning_rate=adaptive, solver=adam, total=   0.3s\n",
      "[CV] activation=tanh, alpha=0.05, hidden_layer_sizes=(10, 30, 10), learning_rate=adaptive, solver=adam \n",
      "[CV]  activation=tanh, alpha=0.05, hidden_layer_sizes=(10, 30, 10), learning_rate=adaptive, solver=adam, total=   0.4s\n",
      "[CV] activation=tanh, alpha=0.05, hidden_layer_sizes=(10, 30, 10), learning_rate=adaptive, solver=adam \n",
      "[CV]  activation=tanh, alpha=0.05, hidden_layer_sizes=(10, 30, 10), learning_rate=adaptive, solver=adam, total=   0.5s\n",
      "[CV] activation=tanh, alpha=0.05, hidden_layer_sizes=(10, 30, 10), learning_rate=adaptive, solver=adam \n",
      "[CV]  activation=tanh, alpha=0.05, hidden_layer_sizes=(10, 30, 10), learning_rate=adaptive, solver=adam, total=   0.5s\n",
      "[CV] activation=tanh, alpha=0.05, hidden_layer_sizes=(20,), learning_rate=constant, solver=sgd \n",
      "[CV]  activation=tanh, alpha=0.05, hidden_layer_sizes=(20,), learning_rate=constant, solver=sgd, total=   0.2s\n",
      "[CV] activation=tanh, alpha=0.05, hidden_layer_sizes=(20,), learning_rate=constant, solver=sgd \n",
      "[CV]  activation=tanh, alpha=0.05, hidden_layer_sizes=(20,), learning_rate=constant, solver=sgd, total=   0.2s\n",
      "[CV] activation=tanh, alpha=0.05, hidden_layer_sizes=(20,), learning_rate=constant, solver=sgd \n",
      "[CV]  activation=tanh, alpha=0.05, hidden_layer_sizes=(20,), learning_rate=constant, solver=sgd, total=   0.2s\n",
      "[CV] activation=tanh, alpha=0.05, hidden_layer_sizes=(20,), learning_rate=constant, solver=sgd \n",
      "[CV]  activation=tanh, alpha=0.05, hidden_layer_sizes=(20,), learning_rate=constant, solver=sgd, total=   0.2s\n",
      "[CV] activation=tanh, alpha=0.05, hidden_layer_sizes=(20,), learning_rate=constant, solver=sgd \n",
      "[CV]  activation=tanh, alpha=0.05, hidden_layer_sizes=(20,), learning_rate=constant, solver=sgd, total=   0.2s\n",
      "[CV] activation=tanh, alpha=0.05, hidden_layer_sizes=(20,), learning_rate=constant, solver=adam \n"
     ]
    },
    {
     "name": "stderr",
     "output_type": "stream",
     "text": [
      "C:\\ProgramData\\Anaconda3_delete\\lib\\site-packages\\sklearn\\neural_network\\_multilayer_perceptron.py:582: ConvergenceWarning: Stochastic Optimizer: Maximum iterations (500) reached and the optimization hasn't converged yet.\n",
      "  warnings.warn(\n"
     ]
    },
    {
     "name": "stdout",
     "output_type": "stream",
     "text": [
      "[CV]  activation=tanh, alpha=0.05, hidden_layer_sizes=(20,), learning_rate=constant, solver=adam, total=   0.3s\n",
      "[CV] activation=tanh, alpha=0.05, hidden_layer_sizes=(20,), learning_rate=constant, solver=adam \n"
     ]
    },
    {
     "name": "stderr",
     "output_type": "stream",
     "text": [
      "C:\\ProgramData\\Anaconda3_delete\\lib\\site-packages\\sklearn\\neural_network\\_multilayer_perceptron.py:582: ConvergenceWarning: Stochastic Optimizer: Maximum iterations (500) reached and the optimization hasn't converged yet.\n",
      "  warnings.warn(\n"
     ]
    },
    {
     "name": "stdout",
     "output_type": "stream",
     "text": [
      "[CV]  activation=tanh, alpha=0.05, hidden_layer_sizes=(20,), learning_rate=constant, solver=adam, total=   0.4s\n",
      "[CV] activation=tanh, alpha=0.05, hidden_layer_sizes=(20,), learning_rate=constant, solver=adam \n"
     ]
    },
    {
     "name": "stderr",
     "output_type": "stream",
     "text": [
      "C:\\ProgramData\\Anaconda3_delete\\lib\\site-packages\\sklearn\\neural_network\\_multilayer_perceptron.py:582: ConvergenceWarning: Stochastic Optimizer: Maximum iterations (500) reached and the optimization hasn't converged yet.\n",
      "  warnings.warn(\n"
     ]
    },
    {
     "name": "stdout",
     "output_type": "stream",
     "text": [
      "[CV]  activation=tanh, alpha=0.05, hidden_layer_sizes=(20,), learning_rate=constant, solver=adam, total=   0.3s\n",
      "[CV] activation=tanh, alpha=0.05, hidden_layer_sizes=(20,), learning_rate=constant, solver=adam \n"
     ]
    },
    {
     "name": "stderr",
     "output_type": "stream",
     "text": [
      "C:\\ProgramData\\Anaconda3_delete\\lib\\site-packages\\sklearn\\neural_network\\_multilayer_perceptron.py:582: ConvergenceWarning: Stochastic Optimizer: Maximum iterations (500) reached and the optimization hasn't converged yet.\n",
      "  warnings.warn(\n"
     ]
    },
    {
     "name": "stdout",
     "output_type": "stream",
     "text": [
      "[CV]  activation=tanh, alpha=0.05, hidden_layer_sizes=(20,), learning_rate=constant, solver=adam, total=   0.3s\n",
      "[CV] activation=tanh, alpha=0.05, hidden_layer_sizes=(20,), learning_rate=constant, solver=adam \n"
     ]
    },
    {
     "name": "stderr",
     "output_type": "stream",
     "text": [
      "C:\\ProgramData\\Anaconda3_delete\\lib\\site-packages\\sklearn\\neural_network\\_multilayer_perceptron.py:582: ConvergenceWarning: Stochastic Optimizer: Maximum iterations (500) reached and the optimization hasn't converged yet.\n",
      "  warnings.warn(\n"
     ]
    },
    {
     "name": "stdout",
     "output_type": "stream",
     "text": [
      "[CV]  activation=tanh, alpha=0.05, hidden_layer_sizes=(20,), learning_rate=constant, solver=adam, total=   0.3s\n",
      "[CV] activation=tanh, alpha=0.05, hidden_layer_sizes=(20,), learning_rate=adaptive, solver=sgd \n",
      "[CV]  activation=tanh, alpha=0.05, hidden_layer_sizes=(20,), learning_rate=adaptive, solver=sgd, total=   0.3s\n",
      "[CV] activation=tanh, alpha=0.05, hidden_layer_sizes=(20,), learning_rate=adaptive, solver=sgd \n",
      "[CV]  activation=tanh, alpha=0.05, hidden_layer_sizes=(20,), learning_rate=adaptive, solver=sgd, total=   0.3s\n",
      "[CV] activation=tanh, alpha=0.05, hidden_layer_sizes=(20,), learning_rate=adaptive, solver=sgd \n",
      "[CV]  activation=tanh, alpha=0.05, hidden_layer_sizes=(20,), learning_rate=adaptive, solver=sgd, total=   0.2s\n",
      "[CV] activation=tanh, alpha=0.05, hidden_layer_sizes=(20,), learning_rate=adaptive, solver=sgd \n",
      "[CV]  activation=tanh, alpha=0.05, hidden_layer_sizes=(20,), learning_rate=adaptive, solver=sgd, total=   0.3s\n",
      "[CV] activation=tanh, alpha=0.05, hidden_layer_sizes=(20,), learning_rate=adaptive, solver=sgd \n",
      "[CV]  activation=tanh, alpha=0.05, hidden_layer_sizes=(20,), learning_rate=adaptive, solver=sgd, total=   0.2s\n",
      "[CV] activation=tanh, alpha=0.05, hidden_layer_sizes=(20,), learning_rate=adaptive, solver=adam \n"
     ]
    },
    {
     "name": "stderr",
     "output_type": "stream",
     "text": [
      "C:\\ProgramData\\Anaconda3_delete\\lib\\site-packages\\sklearn\\neural_network\\_multilayer_perceptron.py:582: ConvergenceWarning: Stochastic Optimizer: Maximum iterations (500) reached and the optimization hasn't converged yet.\n",
      "  warnings.warn(\n"
     ]
    },
    {
     "name": "stdout",
     "output_type": "stream",
     "text": [
      "[CV]  activation=tanh, alpha=0.05, hidden_layer_sizes=(20,), learning_rate=adaptive, solver=adam, total=   0.3s\n",
      "[CV] activation=tanh, alpha=0.05, hidden_layer_sizes=(20,), learning_rate=adaptive, solver=adam \n"
     ]
    },
    {
     "name": "stderr",
     "output_type": "stream",
     "text": [
      "C:\\ProgramData\\Anaconda3_delete\\lib\\site-packages\\sklearn\\neural_network\\_multilayer_perceptron.py:582: ConvergenceWarning: Stochastic Optimizer: Maximum iterations (500) reached and the optimization hasn't converged yet.\n",
      "  warnings.warn(\n"
     ]
    },
    {
     "name": "stdout",
     "output_type": "stream",
     "text": [
      "[CV]  activation=tanh, alpha=0.05, hidden_layer_sizes=(20,), learning_rate=adaptive, solver=adam, total=   0.3s\n",
      "[CV] activation=tanh, alpha=0.05, hidden_layer_sizes=(20,), learning_rate=adaptive, solver=adam \n"
     ]
    },
    {
     "name": "stderr",
     "output_type": "stream",
     "text": [
      "C:\\ProgramData\\Anaconda3_delete\\lib\\site-packages\\sklearn\\neural_network\\_multilayer_perceptron.py:582: ConvergenceWarning: Stochastic Optimizer: Maximum iterations (500) reached and the optimization hasn't converged yet.\n",
      "  warnings.warn(\n"
     ]
    },
    {
     "name": "stdout",
     "output_type": "stream",
     "text": [
      "[CV]  activation=tanh, alpha=0.05, hidden_layer_sizes=(20,), learning_rate=adaptive, solver=adam, total=   0.3s\n",
      "[CV] activation=tanh, alpha=0.05, hidden_layer_sizes=(20,), learning_rate=adaptive, solver=adam \n"
     ]
    },
    {
     "name": "stderr",
     "output_type": "stream",
     "text": [
      "C:\\ProgramData\\Anaconda3_delete\\lib\\site-packages\\sklearn\\neural_network\\_multilayer_perceptron.py:582: ConvergenceWarning: Stochastic Optimizer: Maximum iterations (500) reached and the optimization hasn't converged yet.\n",
      "  warnings.warn(\n"
     ]
    },
    {
     "name": "stdout",
     "output_type": "stream",
     "text": [
      "[CV]  activation=tanh, alpha=0.05, hidden_layer_sizes=(20,), learning_rate=adaptive, solver=adam, total=   0.3s\n",
      "[CV] activation=tanh, alpha=0.05, hidden_layer_sizes=(20,), learning_rate=adaptive, solver=adam \n"
     ]
    },
    {
     "name": "stderr",
     "output_type": "stream",
     "text": [
      "C:\\ProgramData\\Anaconda3_delete\\lib\\site-packages\\sklearn\\neural_network\\_multilayer_perceptron.py:582: ConvergenceWarning: Stochastic Optimizer: Maximum iterations (500) reached and the optimization hasn't converged yet.\n",
      "  warnings.warn(\n"
     ]
    },
    {
     "name": "stdout",
     "output_type": "stream",
     "text": [
      "[CV]  activation=tanh, alpha=0.05, hidden_layer_sizes=(20,), learning_rate=adaptive, solver=adam, total=   0.4s\n",
      "[CV] activation=relu, alpha=0.0001, hidden_layer_sizes=(10, 30, 10), learning_rate=constant, solver=sgd \n"
     ]
    },
    {
     "name": "stderr",
     "output_type": "stream",
     "text": [
      "C:\\ProgramData\\Anaconda3_delete\\lib\\site-packages\\sklearn\\neural_network\\_multilayer_perceptron.py:582: ConvergenceWarning: Stochastic Optimizer: Maximum iterations (500) reached and the optimization hasn't converged yet.\n",
      "  warnings.warn(\n"
     ]
    },
    {
     "name": "stdout",
     "output_type": "stream",
     "text": [
      "[CV]  activation=relu, alpha=0.0001, hidden_layer_sizes=(10, 30, 10), learning_rate=constant, solver=sgd, total=   0.7s\n",
      "[CV] activation=relu, alpha=0.0001, hidden_layer_sizes=(10, 30, 10), learning_rate=constant, solver=sgd \n"
     ]
    },
    {
     "name": "stderr",
     "output_type": "stream",
     "text": [
      "C:\\ProgramData\\Anaconda3_delete\\lib\\site-packages\\sklearn\\neural_network\\_multilayer_perceptron.py:582: ConvergenceWarning: Stochastic Optimizer: Maximum iterations (500) reached and the optimization hasn't converged yet.\n",
      "  warnings.warn(\n"
     ]
    },
    {
     "name": "stdout",
     "output_type": "stream",
     "text": [
      "[CV]  activation=relu, alpha=0.0001, hidden_layer_sizes=(10, 30, 10), learning_rate=constant, solver=sgd, total=   0.7s\n",
      "[CV] activation=relu, alpha=0.0001, hidden_layer_sizes=(10, 30, 10), learning_rate=constant, solver=sgd \n"
     ]
    },
    {
     "name": "stderr",
     "output_type": "stream",
     "text": [
      "C:\\ProgramData\\Anaconda3_delete\\lib\\site-packages\\sklearn\\neural_network\\_multilayer_perceptron.py:582: ConvergenceWarning: Stochastic Optimizer: Maximum iterations (500) reached and the optimization hasn't converged yet.\n",
      "  warnings.warn(\n"
     ]
    },
    {
     "name": "stdout",
     "output_type": "stream",
     "text": [
      "[CV]  activation=relu, alpha=0.0001, hidden_layer_sizes=(10, 30, 10), learning_rate=constant, solver=sgd, total=   0.8s\n",
      "[CV] activation=relu, alpha=0.0001, hidden_layer_sizes=(10, 30, 10), learning_rate=constant, solver=sgd \n"
     ]
    },
    {
     "name": "stderr",
     "output_type": "stream",
     "text": [
      "C:\\ProgramData\\Anaconda3_delete\\lib\\site-packages\\sklearn\\neural_network\\_multilayer_perceptron.py:582: ConvergenceWarning: Stochastic Optimizer: Maximum iterations (500) reached and the optimization hasn't converged yet.\n",
      "  warnings.warn(\n"
     ]
    },
    {
     "name": "stdout",
     "output_type": "stream",
     "text": [
      "[CV]  activation=relu, alpha=0.0001, hidden_layer_sizes=(10, 30, 10), learning_rate=constant, solver=sgd, total=   0.7s\n",
      "[CV] activation=relu, alpha=0.0001, hidden_layer_sizes=(10, 30, 10), learning_rate=constant, solver=sgd \n"
     ]
    },
    {
     "name": "stderr",
     "output_type": "stream",
     "text": [
      "C:\\ProgramData\\Anaconda3_delete\\lib\\site-packages\\sklearn\\neural_network\\_multilayer_perceptron.py:582: ConvergenceWarning: Stochastic Optimizer: Maximum iterations (500) reached and the optimization hasn't converged yet.\n",
      "  warnings.warn(\n"
     ]
    },
    {
     "name": "stdout",
     "output_type": "stream",
     "text": [
      "[CV]  activation=relu, alpha=0.0001, hidden_layer_sizes=(10, 30, 10), learning_rate=constant, solver=sgd, total=   0.7s\n",
      "[CV] activation=relu, alpha=0.0001, hidden_layer_sizes=(10, 30, 10), learning_rate=constant, solver=adam \n",
      "[CV]  activation=relu, alpha=0.0001, hidden_layer_sizes=(10, 30, 10), learning_rate=constant, solver=adam, total=   0.7s\n",
      "[CV] activation=relu, alpha=0.0001, hidden_layer_sizes=(10, 30, 10), learning_rate=constant, solver=adam \n",
      "[CV]  activation=relu, alpha=0.0001, hidden_layer_sizes=(10, 30, 10), learning_rate=constant, solver=adam, total=   0.5s\n",
      "[CV] activation=relu, alpha=0.0001, hidden_layer_sizes=(10, 30, 10), learning_rate=constant, solver=adam \n",
      "[CV]  activation=relu, alpha=0.0001, hidden_layer_sizes=(10, 30, 10), learning_rate=constant, solver=adam, total=   0.7s\n",
      "[CV] activation=relu, alpha=0.0001, hidden_layer_sizes=(10, 30, 10), learning_rate=constant, solver=adam \n",
      "[CV]  activation=relu, alpha=0.0001, hidden_layer_sizes=(10, 30, 10), learning_rate=constant, solver=adam, total=   0.5s\n",
      "[CV] activation=relu, alpha=0.0001, hidden_layer_sizes=(10, 30, 10), learning_rate=constant, solver=adam \n",
      "[CV]  activation=relu, alpha=0.0001, hidden_layer_sizes=(10, 30, 10), learning_rate=constant, solver=adam, total=   0.6s\n",
      "[CV] activation=relu, alpha=0.0001, hidden_layer_sizes=(10, 30, 10), learning_rate=adaptive, solver=sgd \n"
     ]
    },
    {
     "name": "stderr",
     "output_type": "stream",
     "text": [
      "C:\\ProgramData\\Anaconda3_delete\\lib\\site-packages\\sklearn\\neural_network\\_multilayer_perceptron.py:582: ConvergenceWarning: Stochastic Optimizer: Maximum iterations (500) reached and the optimization hasn't converged yet.\n",
      "  warnings.warn(\n"
     ]
    },
    {
     "name": "stdout",
     "output_type": "stream",
     "text": [
      "[CV]  activation=relu, alpha=0.0001, hidden_layer_sizes=(10, 30, 10), learning_rate=adaptive, solver=sgd, total=   0.7s\n",
      "[CV] activation=relu, alpha=0.0001, hidden_layer_sizes=(10, 30, 10), learning_rate=adaptive, solver=sgd \n"
     ]
    },
    {
     "name": "stderr",
     "output_type": "stream",
     "text": [
      "C:\\ProgramData\\Anaconda3_delete\\lib\\site-packages\\sklearn\\neural_network\\_multilayer_perceptron.py:582: ConvergenceWarning: Stochastic Optimizer: Maximum iterations (500) reached and the optimization hasn't converged yet.\n",
      "  warnings.warn(\n"
     ]
    },
    {
     "name": "stdout",
     "output_type": "stream",
     "text": [
      "[CV]  activation=relu, alpha=0.0001, hidden_layer_sizes=(10, 30, 10), learning_rate=adaptive, solver=sgd, total=   0.7s\n",
      "[CV] activation=relu, alpha=0.0001, hidden_layer_sizes=(10, 30, 10), learning_rate=adaptive, solver=sgd \n"
     ]
    },
    {
     "name": "stderr",
     "output_type": "stream",
     "text": [
      "C:\\ProgramData\\Anaconda3_delete\\lib\\site-packages\\sklearn\\neural_network\\_multilayer_perceptron.py:582: ConvergenceWarning: Stochastic Optimizer: Maximum iterations (500) reached and the optimization hasn't converged yet.\n",
      "  warnings.warn(\n"
     ]
    },
    {
     "name": "stdout",
     "output_type": "stream",
     "text": [
      "[CV]  activation=relu, alpha=0.0001, hidden_layer_sizes=(10, 30, 10), learning_rate=adaptive, solver=sgd, total=   0.7s\n",
      "[CV] activation=relu, alpha=0.0001, hidden_layer_sizes=(10, 30, 10), learning_rate=adaptive, solver=sgd \n",
      "[CV]  activation=relu, alpha=0.0001, hidden_layer_sizes=(10, 30, 10), learning_rate=adaptive, solver=sgd, total=   0.4s\n",
      "[CV] activation=relu, alpha=0.0001, hidden_layer_sizes=(10, 30, 10), learning_rate=adaptive, solver=sgd \n"
     ]
    },
    {
     "name": "stderr",
     "output_type": "stream",
     "text": [
      "C:\\ProgramData\\Anaconda3_delete\\lib\\site-packages\\sklearn\\neural_network\\_multilayer_perceptron.py:582: ConvergenceWarning: Stochastic Optimizer: Maximum iterations (500) reached and the optimization hasn't converged yet.\n",
      "  warnings.warn(\n"
     ]
    },
    {
     "name": "stdout",
     "output_type": "stream",
     "text": [
      "[CV]  activation=relu, alpha=0.0001, hidden_layer_sizes=(10, 30, 10), learning_rate=adaptive, solver=sgd, total=   0.9s\n",
      "[CV] activation=relu, alpha=0.0001, hidden_layer_sizes=(10, 30, 10), learning_rate=adaptive, solver=adam \n",
      "[CV]  activation=relu, alpha=0.0001, hidden_layer_sizes=(10, 30, 10), learning_rate=adaptive, solver=adam, total=   0.6s\n",
      "[CV] activation=relu, alpha=0.0001, hidden_layer_sizes=(10, 30, 10), learning_rate=adaptive, solver=adam \n",
      "[CV]  activation=relu, alpha=0.0001, hidden_layer_sizes=(10, 30, 10), learning_rate=adaptive, solver=adam, total=   0.5s\n",
      "[CV] activation=relu, alpha=0.0001, hidden_layer_sizes=(10, 30, 10), learning_rate=adaptive, solver=adam \n"
     ]
    },
    {
     "name": "stderr",
     "output_type": "stream",
     "text": [
      "C:\\ProgramData\\Anaconda3_delete\\lib\\site-packages\\sklearn\\neural_network\\_multilayer_perceptron.py:582: ConvergenceWarning: Stochastic Optimizer: Maximum iterations (500) reached and the optimization hasn't converged yet.\n",
      "  warnings.warn(\n"
     ]
    },
    {
     "name": "stdout",
     "output_type": "stream",
     "text": [
      "[CV]  activation=relu, alpha=0.0001, hidden_layer_sizes=(10, 30, 10), learning_rate=adaptive, solver=adam, total=   0.7s\n",
      "[CV] activation=relu, alpha=0.0001, hidden_layer_sizes=(10, 30, 10), learning_rate=adaptive, solver=adam \n",
      "[CV]  activation=relu, alpha=0.0001, hidden_layer_sizes=(10, 30, 10), learning_rate=adaptive, solver=adam, total=   0.5s\n",
      "[CV] activation=relu, alpha=0.0001, hidden_layer_sizes=(10, 30, 10), learning_rate=adaptive, solver=adam \n",
      "[CV]  activation=relu, alpha=0.0001, hidden_layer_sizes=(10, 30, 10), learning_rate=adaptive, solver=adam, total=   0.4s\n",
      "[CV] activation=relu, alpha=0.0001, hidden_layer_sizes=(20,), learning_rate=constant, solver=sgd \n"
     ]
    },
    {
     "name": "stderr",
     "output_type": "stream",
     "text": [
      "C:\\ProgramData\\Anaconda3_delete\\lib\\site-packages\\sklearn\\neural_network\\_multilayer_perceptron.py:582: ConvergenceWarning: Stochastic Optimizer: Maximum iterations (500) reached and the optimization hasn't converged yet.\n",
      "  warnings.warn(\n"
     ]
    },
    {
     "name": "stdout",
     "output_type": "stream",
     "text": [
      "[CV]  activation=relu, alpha=0.0001, hidden_layer_sizes=(20,), learning_rate=constant, solver=sgd, total=   0.4s\n",
      "[CV] activation=relu, alpha=0.0001, hidden_layer_sizes=(20,), learning_rate=constant, solver=sgd \n"
     ]
    },
    {
     "name": "stderr",
     "output_type": "stream",
     "text": [
      "C:\\ProgramData\\Anaconda3_delete\\lib\\site-packages\\sklearn\\neural_network\\_multilayer_perceptron.py:582: ConvergenceWarning: Stochastic Optimizer: Maximum iterations (500) reached and the optimization hasn't converged yet.\n",
      "  warnings.warn(\n"
     ]
    },
    {
     "name": "stdout",
     "output_type": "stream",
     "text": [
      "[CV]  activation=relu, alpha=0.0001, hidden_layer_sizes=(20,), learning_rate=constant, solver=sgd, total=   0.4s\n",
      "[CV] activation=relu, alpha=0.0001, hidden_layer_sizes=(20,), learning_rate=constant, solver=sgd \n"
     ]
    },
    {
     "name": "stderr",
     "output_type": "stream",
     "text": [
      "C:\\ProgramData\\Anaconda3_delete\\lib\\site-packages\\sklearn\\neural_network\\_multilayer_perceptron.py:582: ConvergenceWarning: Stochastic Optimizer: Maximum iterations (500) reached and the optimization hasn't converged yet.\n",
      "  warnings.warn(\n"
     ]
    },
    {
     "name": "stdout",
     "output_type": "stream",
     "text": [
      "[CV]  activation=relu, alpha=0.0001, hidden_layer_sizes=(20,), learning_rate=constant, solver=sgd, total=   0.3s\n",
      "[CV] activation=relu, alpha=0.0001, hidden_layer_sizes=(20,), learning_rate=constant, solver=sgd \n"
     ]
    },
    {
     "name": "stderr",
     "output_type": "stream",
     "text": [
      "C:\\ProgramData\\Anaconda3_delete\\lib\\site-packages\\sklearn\\neural_network\\_multilayer_perceptron.py:582: ConvergenceWarning: Stochastic Optimizer: Maximum iterations (500) reached and the optimization hasn't converged yet.\n",
      "  warnings.warn(\n"
     ]
    },
    {
     "name": "stdout",
     "output_type": "stream",
     "text": [
      "[CV]  activation=relu, alpha=0.0001, hidden_layer_sizes=(20,), learning_rate=constant, solver=sgd, total=   0.4s\n",
      "[CV] activation=relu, alpha=0.0001, hidden_layer_sizes=(20,), learning_rate=constant, solver=sgd \n"
     ]
    },
    {
     "name": "stderr",
     "output_type": "stream",
     "text": [
      "C:\\ProgramData\\Anaconda3_delete\\lib\\site-packages\\sklearn\\neural_network\\_multilayer_perceptron.py:582: ConvergenceWarning: Stochastic Optimizer: Maximum iterations (500) reached and the optimization hasn't converged yet.\n",
      "  warnings.warn(\n"
     ]
    },
    {
     "name": "stdout",
     "output_type": "stream",
     "text": [
      "[CV]  activation=relu, alpha=0.0001, hidden_layer_sizes=(20,), learning_rate=constant, solver=sgd, total=   0.3s\n",
      "[CV] activation=relu, alpha=0.0001, hidden_layer_sizes=(20,), learning_rate=constant, solver=adam \n",
      "[CV]  activation=relu, alpha=0.0001, hidden_layer_sizes=(20,), learning_rate=constant, solver=adam, total=   0.4s\n",
      "[CV] activation=relu, alpha=0.0001, hidden_layer_sizes=(20,), learning_rate=constant, solver=adam \n",
      "[CV]  activation=relu, alpha=0.0001, hidden_layer_sizes=(20,), learning_rate=constant, solver=adam, total=   0.3s\n",
      "[CV] activation=relu, alpha=0.0001, hidden_layer_sizes=(20,), learning_rate=constant, solver=adam \n",
      "[CV]  activation=relu, alpha=0.0001, hidden_layer_sizes=(20,), learning_rate=constant, solver=adam, total=   0.3s\n",
      "[CV] activation=relu, alpha=0.0001, hidden_layer_sizes=(20,), learning_rate=constant, solver=adam \n",
      "[CV]  activation=relu, alpha=0.0001, hidden_layer_sizes=(20,), learning_rate=constant, solver=adam, total=   0.3s\n",
      "[CV] activation=relu, alpha=0.0001, hidden_layer_sizes=(20,), learning_rate=constant, solver=adam \n",
      "[CV]  activation=relu, alpha=0.0001, hidden_layer_sizes=(20,), learning_rate=constant, solver=adam, total=   0.4s\n",
      "[CV] activation=relu, alpha=0.0001, hidden_layer_sizes=(20,), learning_rate=adaptive, solver=sgd \n"
     ]
    },
    {
     "name": "stderr",
     "output_type": "stream",
     "text": [
      "C:\\ProgramData\\Anaconda3_delete\\lib\\site-packages\\sklearn\\neural_network\\_multilayer_perceptron.py:582: ConvergenceWarning: Stochastic Optimizer: Maximum iterations (500) reached and the optimization hasn't converged yet.\n",
      "  warnings.warn(\n"
     ]
    },
    {
     "name": "stdout",
     "output_type": "stream",
     "text": [
      "[CV]  activation=relu, alpha=0.0001, hidden_layer_sizes=(20,), learning_rate=adaptive, solver=sgd, total=   0.4s\n",
      "[CV] activation=relu, alpha=0.0001, hidden_layer_sizes=(20,), learning_rate=adaptive, solver=sgd \n"
     ]
    },
    {
     "name": "stderr",
     "output_type": "stream",
     "text": [
      "C:\\ProgramData\\Anaconda3_delete\\lib\\site-packages\\sklearn\\neural_network\\_multilayer_perceptron.py:582: ConvergenceWarning: Stochastic Optimizer: Maximum iterations (500) reached and the optimization hasn't converged yet.\n",
      "  warnings.warn(\n"
     ]
    },
    {
     "name": "stdout",
     "output_type": "stream",
     "text": [
      "[CV]  activation=relu, alpha=0.0001, hidden_layer_sizes=(20,), learning_rate=adaptive, solver=sgd, total=   0.4s\n",
      "[CV] activation=relu, alpha=0.0001, hidden_layer_sizes=(20,), learning_rate=adaptive, solver=sgd \n"
     ]
    },
    {
     "name": "stderr",
     "output_type": "stream",
     "text": [
      "C:\\ProgramData\\Anaconda3_delete\\lib\\site-packages\\sklearn\\neural_network\\_multilayer_perceptron.py:582: ConvergenceWarning: Stochastic Optimizer: Maximum iterations (500) reached and the optimization hasn't converged yet.\n",
      "  warnings.warn(\n"
     ]
    },
    {
     "name": "stdout",
     "output_type": "stream",
     "text": [
      "[CV]  activation=relu, alpha=0.0001, hidden_layer_sizes=(20,), learning_rate=adaptive, solver=sgd, total=   0.4s\n",
      "[CV] activation=relu, alpha=0.0001, hidden_layer_sizes=(20,), learning_rate=adaptive, solver=sgd \n"
     ]
    },
    {
     "name": "stderr",
     "output_type": "stream",
     "text": [
      "C:\\ProgramData\\Anaconda3_delete\\lib\\site-packages\\sklearn\\neural_network\\_multilayer_perceptron.py:582: ConvergenceWarning: Stochastic Optimizer: Maximum iterations (500) reached and the optimization hasn't converged yet.\n",
      "  warnings.warn(\n"
     ]
    },
    {
     "name": "stdout",
     "output_type": "stream",
     "text": [
      "[CV]  activation=relu, alpha=0.0001, hidden_layer_sizes=(20,), learning_rate=adaptive, solver=sgd, total=   0.4s\n",
      "[CV] activation=relu, alpha=0.0001, hidden_layer_sizes=(20,), learning_rate=adaptive, solver=sgd \n"
     ]
    },
    {
     "name": "stderr",
     "output_type": "stream",
     "text": [
      "C:\\ProgramData\\Anaconda3_delete\\lib\\site-packages\\sklearn\\neural_network\\_multilayer_perceptron.py:582: ConvergenceWarning: Stochastic Optimizer: Maximum iterations (500) reached and the optimization hasn't converged yet.\n",
      "  warnings.warn(\n"
     ]
    },
    {
     "name": "stdout",
     "output_type": "stream",
     "text": [
      "[CV]  activation=relu, alpha=0.0001, hidden_layer_sizes=(20,), learning_rate=adaptive, solver=sgd, total=   0.4s\n",
      "[CV] activation=relu, alpha=0.0001, hidden_layer_sizes=(20,), learning_rate=adaptive, solver=adam \n",
      "[CV]  activation=relu, alpha=0.0001, hidden_layer_sizes=(20,), learning_rate=adaptive, solver=adam, total=   0.3s\n",
      "[CV] activation=relu, alpha=0.0001, hidden_layer_sizes=(20,), learning_rate=adaptive, solver=adam \n",
      "[CV]  activation=relu, alpha=0.0001, hidden_layer_sizes=(20,), learning_rate=adaptive, solver=adam, total=   0.4s\n",
      "[CV] activation=relu, alpha=0.0001, hidden_layer_sizes=(20,), learning_rate=adaptive, solver=adam \n",
      "[CV]  activation=relu, alpha=0.0001, hidden_layer_sizes=(20,), learning_rate=adaptive, solver=adam, total=   0.4s\n",
      "[CV] activation=relu, alpha=0.0001, hidden_layer_sizes=(20,), learning_rate=adaptive, solver=adam \n",
      "[CV]  activation=relu, alpha=0.0001, hidden_layer_sizes=(20,), learning_rate=adaptive, solver=adam, total=   0.4s\n",
      "[CV] activation=relu, alpha=0.0001, hidden_layer_sizes=(20,), learning_rate=adaptive, solver=adam \n"
     ]
    },
    {
     "name": "stderr",
     "output_type": "stream",
     "text": [
      "C:\\ProgramData\\Anaconda3_delete\\lib\\site-packages\\sklearn\\neural_network\\_multilayer_perceptron.py:582: ConvergenceWarning: Stochastic Optimizer: Maximum iterations (500) reached and the optimization hasn't converged yet.\n",
      "  warnings.warn(\n"
     ]
    },
    {
     "name": "stdout",
     "output_type": "stream",
     "text": [
      "[CV]  activation=relu, alpha=0.0001, hidden_layer_sizes=(20,), learning_rate=adaptive, solver=adam, total=   0.4s\n",
      "[CV] activation=relu, alpha=0.05, hidden_layer_sizes=(10, 30, 10), learning_rate=constant, solver=sgd \n"
     ]
    },
    {
     "name": "stderr",
     "output_type": "stream",
     "text": [
      "C:\\ProgramData\\Anaconda3_delete\\lib\\site-packages\\sklearn\\neural_network\\_multilayer_perceptron.py:582: ConvergenceWarning: Stochastic Optimizer: Maximum iterations (500) reached and the optimization hasn't converged yet.\n",
      "  warnings.warn(\n"
     ]
    },
    {
     "name": "stdout",
     "output_type": "stream",
     "text": [
      "[CV]  activation=relu, alpha=0.05, hidden_layer_sizes=(10, 30, 10), learning_rate=constant, solver=sgd, total=   0.7s\n",
      "[CV] activation=relu, alpha=0.05, hidden_layer_sizes=(10, 30, 10), learning_rate=constant, solver=sgd \n"
     ]
    },
    {
     "name": "stderr",
     "output_type": "stream",
     "text": [
      "C:\\ProgramData\\Anaconda3_delete\\lib\\site-packages\\sklearn\\neural_network\\_multilayer_perceptron.py:582: ConvergenceWarning: Stochastic Optimizer: Maximum iterations (500) reached and the optimization hasn't converged yet.\n",
      "  warnings.warn(\n"
     ]
    },
    {
     "name": "stdout",
     "output_type": "stream",
     "text": [
      "[CV]  activation=relu, alpha=0.05, hidden_layer_sizes=(10, 30, 10), learning_rate=constant, solver=sgd, total=   0.7s\n",
      "[CV] activation=relu, alpha=0.05, hidden_layer_sizes=(10, 30, 10), learning_rate=constant, solver=sgd \n"
     ]
    },
    {
     "name": "stderr",
     "output_type": "stream",
     "text": [
      "C:\\ProgramData\\Anaconda3_delete\\lib\\site-packages\\sklearn\\neural_network\\_multilayer_perceptron.py:582: ConvergenceWarning: Stochastic Optimizer: Maximum iterations (500) reached and the optimization hasn't converged yet.\n",
      "  warnings.warn(\n"
     ]
    },
    {
     "name": "stdout",
     "output_type": "stream",
     "text": [
      "[CV]  activation=relu, alpha=0.05, hidden_layer_sizes=(10, 30, 10), learning_rate=constant, solver=sgd, total=   0.7s\n",
      "[CV] activation=relu, alpha=0.05, hidden_layer_sizes=(10, 30, 10), learning_rate=constant, solver=sgd \n"
     ]
    },
    {
     "name": "stderr",
     "output_type": "stream",
     "text": [
      "C:\\ProgramData\\Anaconda3_delete\\lib\\site-packages\\sklearn\\neural_network\\_multilayer_perceptron.py:582: ConvergenceWarning: Stochastic Optimizer: Maximum iterations (500) reached and the optimization hasn't converged yet.\n",
      "  warnings.warn(\n"
     ]
    },
    {
     "name": "stdout",
     "output_type": "stream",
     "text": [
      "[CV]  activation=relu, alpha=0.05, hidden_layer_sizes=(10, 30, 10), learning_rate=constant, solver=sgd, total=   0.7s\n",
      "[CV] activation=relu, alpha=0.05, hidden_layer_sizes=(10, 30, 10), learning_rate=constant, solver=sgd \n"
     ]
    },
    {
     "name": "stderr",
     "output_type": "stream",
     "text": [
      "C:\\ProgramData\\Anaconda3_delete\\lib\\site-packages\\sklearn\\neural_network\\_multilayer_perceptron.py:582: ConvergenceWarning: Stochastic Optimizer: Maximum iterations (500) reached and the optimization hasn't converged yet.\n",
      "  warnings.warn(\n"
     ]
    },
    {
     "name": "stdout",
     "output_type": "stream",
     "text": [
      "[CV]  activation=relu, alpha=0.05, hidden_layer_sizes=(10, 30, 10), learning_rate=constant, solver=sgd, total=   0.7s\n",
      "[CV] activation=relu, alpha=0.05, hidden_layer_sizes=(10, 30, 10), learning_rate=constant, solver=adam \n",
      "[CV]  activation=relu, alpha=0.05, hidden_layer_sizes=(10, 30, 10), learning_rate=constant, solver=adam, total=   0.5s\n",
      "[CV] activation=relu, alpha=0.05, hidden_layer_sizes=(10, 30, 10), learning_rate=constant, solver=adam \n",
      "[CV]  activation=relu, alpha=0.05, hidden_layer_sizes=(10, 30, 10), learning_rate=constant, solver=adam, total=   0.7s\n",
      "[CV] activation=relu, alpha=0.05, hidden_layer_sizes=(10, 30, 10), learning_rate=constant, solver=adam \n",
      "[CV]  activation=relu, alpha=0.05, hidden_layer_sizes=(10, 30, 10), learning_rate=constant, solver=adam, total=   0.8s\n",
      "[CV] activation=relu, alpha=0.05, hidden_layer_sizes=(10, 30, 10), learning_rate=constant, solver=adam \n",
      "[CV]  activation=relu, alpha=0.05, hidden_layer_sizes=(10, 30, 10), learning_rate=constant, solver=adam, total=   0.4s\n",
      "[CV] activation=relu, alpha=0.05, hidden_layer_sizes=(10, 30, 10), learning_rate=constant, solver=adam \n",
      "[CV]  activation=relu, alpha=0.05, hidden_layer_sizes=(10, 30, 10), learning_rate=constant, solver=adam, total=   0.4s\n",
      "[CV] activation=relu, alpha=0.05, hidden_layer_sizes=(10, 30, 10), learning_rate=adaptive, solver=sgd \n"
     ]
    },
    {
     "name": "stderr",
     "output_type": "stream",
     "text": [
      "C:\\ProgramData\\Anaconda3_delete\\lib\\site-packages\\sklearn\\neural_network\\_multilayer_perceptron.py:582: ConvergenceWarning: Stochastic Optimizer: Maximum iterations (500) reached and the optimization hasn't converged yet.\n",
      "  warnings.warn(\n"
     ]
    },
    {
     "name": "stdout",
     "output_type": "stream",
     "text": [
      "[CV]  activation=relu, alpha=0.05, hidden_layer_sizes=(10, 30, 10), learning_rate=adaptive, solver=sgd, total=   0.7s\n",
      "[CV] activation=relu, alpha=0.05, hidden_layer_sizes=(10, 30, 10), learning_rate=adaptive, solver=sgd \n"
     ]
    },
    {
     "name": "stderr",
     "output_type": "stream",
     "text": [
      "C:\\ProgramData\\Anaconda3_delete\\lib\\site-packages\\sklearn\\neural_network\\_multilayer_perceptron.py:582: ConvergenceWarning: Stochastic Optimizer: Maximum iterations (500) reached and the optimization hasn't converged yet.\n",
      "  warnings.warn(\n"
     ]
    },
    {
     "name": "stdout",
     "output_type": "stream",
     "text": [
      "[CV]  activation=relu, alpha=0.05, hidden_layer_sizes=(10, 30, 10), learning_rate=adaptive, solver=sgd, total=   0.7s\n",
      "[CV] activation=relu, alpha=0.05, hidden_layer_sizes=(10, 30, 10), learning_rate=adaptive, solver=sgd \n"
     ]
    },
    {
     "name": "stderr",
     "output_type": "stream",
     "text": [
      "C:\\ProgramData\\Anaconda3_delete\\lib\\site-packages\\sklearn\\neural_network\\_multilayer_perceptron.py:582: ConvergenceWarning: Stochastic Optimizer: Maximum iterations (500) reached and the optimization hasn't converged yet.\n",
      "  warnings.warn(\n"
     ]
    },
    {
     "name": "stdout",
     "output_type": "stream",
     "text": [
      "[CV]  activation=relu, alpha=0.05, hidden_layer_sizes=(10, 30, 10), learning_rate=adaptive, solver=sgd, total=   0.7s\n",
      "[CV] activation=relu, alpha=0.05, hidden_layer_sizes=(10, 30, 10), learning_rate=adaptive, solver=sgd \n"
     ]
    },
    {
     "name": "stderr",
     "output_type": "stream",
     "text": [
      "C:\\ProgramData\\Anaconda3_delete\\lib\\site-packages\\sklearn\\neural_network\\_multilayer_perceptron.py:582: ConvergenceWarning: Stochastic Optimizer: Maximum iterations (500) reached and the optimization hasn't converged yet.\n",
      "  warnings.warn(\n"
     ]
    },
    {
     "name": "stdout",
     "output_type": "stream",
     "text": [
      "[CV]  activation=relu, alpha=0.05, hidden_layer_sizes=(10, 30, 10), learning_rate=adaptive, solver=sgd, total=   0.8s\n",
      "[CV] activation=relu, alpha=0.05, hidden_layer_sizes=(10, 30, 10), learning_rate=adaptive, solver=sgd \n",
      "[CV]  activation=relu, alpha=0.05, hidden_layer_sizes=(10, 30, 10), learning_rate=adaptive, solver=sgd, total=   1.1s\n",
      "[CV] activation=relu, alpha=0.05, hidden_layer_sizes=(10, 30, 10), learning_rate=adaptive, solver=adam \n",
      "[CV]  activation=relu, alpha=0.05, hidden_layer_sizes=(10, 30, 10), learning_rate=adaptive, solver=adam, total=   0.8s\n",
      "[CV] activation=relu, alpha=0.05, hidden_layer_sizes=(10, 30, 10), learning_rate=adaptive, solver=adam \n",
      "[CV]  activation=relu, alpha=0.05, hidden_layer_sizes=(10, 30, 10), learning_rate=adaptive, solver=adam, total=   0.5s\n",
      "[CV] activation=relu, alpha=0.05, hidden_layer_sizes=(10, 30, 10), learning_rate=adaptive, solver=adam \n",
      "[CV]  activation=relu, alpha=0.05, hidden_layer_sizes=(10, 30, 10), learning_rate=adaptive, solver=adam, total=   0.3s\n",
      "[CV] activation=relu, alpha=0.05, hidden_layer_sizes=(10, 30, 10), learning_rate=adaptive, solver=adam \n"
     ]
    },
    {
     "name": "stderr",
     "output_type": "stream",
     "text": [
      "C:\\ProgramData\\Anaconda3_delete\\lib\\site-packages\\sklearn\\neural_network\\_multilayer_perceptron.py:582: ConvergenceWarning: Stochastic Optimizer: Maximum iterations (500) reached and the optimization hasn't converged yet.\n",
      "  warnings.warn(\n"
     ]
    },
    {
     "name": "stdout",
     "output_type": "stream",
     "text": [
      "[CV]  activation=relu, alpha=0.05, hidden_layer_sizes=(10, 30, 10), learning_rate=adaptive, solver=adam, total=   0.7s\n",
      "[CV] activation=relu, alpha=0.05, hidden_layer_sizes=(10, 30, 10), learning_rate=adaptive, solver=adam \n"
     ]
    },
    {
     "name": "stderr",
     "output_type": "stream",
     "text": [
      "C:\\ProgramData\\Anaconda3_delete\\lib\\site-packages\\sklearn\\neural_network\\_multilayer_perceptron.py:582: ConvergenceWarning: Stochastic Optimizer: Maximum iterations (500) reached and the optimization hasn't converged yet.\n",
      "  warnings.warn(\n"
     ]
    },
    {
     "name": "stdout",
     "output_type": "stream",
     "text": [
      "[CV]  activation=relu, alpha=0.05, hidden_layer_sizes=(10, 30, 10), learning_rate=adaptive, solver=adam, total=   0.7s\n",
      "[CV] activation=relu, alpha=0.05, hidden_layer_sizes=(20,), learning_rate=constant, solver=sgd \n"
     ]
    },
    {
     "name": "stderr",
     "output_type": "stream",
     "text": [
      "C:\\ProgramData\\Anaconda3_delete\\lib\\site-packages\\sklearn\\neural_network\\_multilayer_perceptron.py:582: ConvergenceWarning: Stochastic Optimizer: Maximum iterations (500) reached and the optimization hasn't converged yet.\n",
      "  warnings.warn(\n"
     ]
    },
    {
     "name": "stdout",
     "output_type": "stream",
     "text": [
      "[CV]  activation=relu, alpha=0.05, hidden_layer_sizes=(20,), learning_rate=constant, solver=sgd, total=   0.4s\n",
      "[CV] activation=relu, alpha=0.05, hidden_layer_sizes=(20,), learning_rate=constant, solver=sgd \n"
     ]
    },
    {
     "name": "stderr",
     "output_type": "stream",
     "text": [
      "C:\\ProgramData\\Anaconda3_delete\\lib\\site-packages\\sklearn\\neural_network\\_multilayer_perceptron.py:582: ConvergenceWarning: Stochastic Optimizer: Maximum iterations (500) reached and the optimization hasn't converged yet.\n",
      "  warnings.warn(\n"
     ]
    },
    {
     "name": "stdout",
     "output_type": "stream",
     "text": [
      "[CV]  activation=relu, alpha=0.05, hidden_layer_sizes=(20,), learning_rate=constant, solver=sgd, total=   0.4s\n",
      "[CV] activation=relu, alpha=0.05, hidden_layer_sizes=(20,), learning_rate=constant, solver=sgd \n"
     ]
    },
    {
     "name": "stderr",
     "output_type": "stream",
     "text": [
      "C:\\ProgramData\\Anaconda3_delete\\lib\\site-packages\\sklearn\\neural_network\\_multilayer_perceptron.py:582: ConvergenceWarning: Stochastic Optimizer: Maximum iterations (500) reached and the optimization hasn't converged yet.\n",
      "  warnings.warn(\n"
     ]
    },
    {
     "name": "stdout",
     "output_type": "stream",
     "text": [
      "[CV]  activation=relu, alpha=0.05, hidden_layer_sizes=(20,), learning_rate=constant, solver=sgd, total=   0.6s\n",
      "[CV] activation=relu, alpha=0.05, hidden_layer_sizes=(20,), learning_rate=constant, solver=sgd \n"
     ]
    },
    {
     "name": "stderr",
     "output_type": "stream",
     "text": [
      "C:\\ProgramData\\Anaconda3_delete\\lib\\site-packages\\sklearn\\neural_network\\_multilayer_perceptron.py:582: ConvergenceWarning: Stochastic Optimizer: Maximum iterations (500) reached and the optimization hasn't converged yet.\n",
      "  warnings.warn(\n"
     ]
    },
    {
     "name": "stdout",
     "output_type": "stream",
     "text": [
      "[CV]  activation=relu, alpha=0.05, hidden_layer_sizes=(20,), learning_rate=constant, solver=sgd, total=   0.6s\n",
      "[CV] activation=relu, alpha=0.05, hidden_layer_sizes=(20,), learning_rate=constant, solver=sgd \n"
     ]
    },
    {
     "name": "stderr",
     "output_type": "stream",
     "text": [
      "C:\\ProgramData\\Anaconda3_delete\\lib\\site-packages\\sklearn\\neural_network\\_multilayer_perceptron.py:582: ConvergenceWarning: Stochastic Optimizer: Maximum iterations (500) reached and the optimization hasn't converged yet.\n",
      "  warnings.warn(\n"
     ]
    },
    {
     "name": "stdout",
     "output_type": "stream",
     "text": [
      "[CV]  activation=relu, alpha=0.05, hidden_layer_sizes=(20,), learning_rate=constant, solver=sgd, total=   0.4s\n",
      "[CV] activation=relu, alpha=0.05, hidden_layer_sizes=(20,), learning_rate=constant, solver=adam \n"
     ]
    },
    {
     "name": "stderr",
     "output_type": "stream",
     "text": [
      "C:\\ProgramData\\Anaconda3_delete\\lib\\site-packages\\sklearn\\neural_network\\_multilayer_perceptron.py:582: ConvergenceWarning: Stochastic Optimizer: Maximum iterations (500) reached and the optimization hasn't converged yet.\n",
      "  warnings.warn(\n"
     ]
    },
    {
     "name": "stdout",
     "output_type": "stream",
     "text": [
      "[CV]  activation=relu, alpha=0.05, hidden_layer_sizes=(20,), learning_rate=constant, solver=adam, total=   0.4s\n",
      "[CV] activation=relu, alpha=0.05, hidden_layer_sizes=(20,), learning_rate=constant, solver=adam \n"
     ]
    },
    {
     "name": "stderr",
     "output_type": "stream",
     "text": [
      "C:\\ProgramData\\Anaconda3_delete\\lib\\site-packages\\sklearn\\neural_network\\_multilayer_perceptron.py:582: ConvergenceWarning: Stochastic Optimizer: Maximum iterations (500) reached and the optimization hasn't converged yet.\n",
      "  warnings.warn(\n"
     ]
    },
    {
     "name": "stdout",
     "output_type": "stream",
     "text": [
      "[CV]  activation=relu, alpha=0.05, hidden_layer_sizes=(20,), learning_rate=constant, solver=adam, total=   0.4s\n",
      "[CV] activation=relu, alpha=0.05, hidden_layer_sizes=(20,), learning_rate=constant, solver=adam \n",
      "[CV]  activation=relu, alpha=0.05, hidden_layer_sizes=(20,), learning_rate=constant, solver=adam, total=   0.3s\n",
      "[CV] activation=relu, alpha=0.05, hidden_layer_sizes=(20,), learning_rate=constant, solver=adam \n"
     ]
    },
    {
     "name": "stderr",
     "output_type": "stream",
     "text": [
      "C:\\ProgramData\\Anaconda3_delete\\lib\\site-packages\\sklearn\\neural_network\\_multilayer_perceptron.py:582: ConvergenceWarning: Stochastic Optimizer: Maximum iterations (500) reached and the optimization hasn't converged yet.\n",
      "  warnings.warn(\n"
     ]
    },
    {
     "name": "stdout",
     "output_type": "stream",
     "text": [
      "[CV]  activation=relu, alpha=0.05, hidden_layer_sizes=(20,), learning_rate=constant, solver=adam, total=   0.4s\n",
      "[CV] activation=relu, alpha=0.05, hidden_layer_sizes=(20,), learning_rate=constant, solver=adam \n",
      "[CV]  activation=relu, alpha=0.05, hidden_layer_sizes=(20,), learning_rate=constant, solver=adam, total=   0.3s\n",
      "[CV] activation=relu, alpha=0.05, hidden_layer_sizes=(20,), learning_rate=adaptive, solver=sgd \n"
     ]
    },
    {
     "name": "stderr",
     "output_type": "stream",
     "text": [
      "C:\\ProgramData\\Anaconda3_delete\\lib\\site-packages\\sklearn\\neural_network\\_multilayer_perceptron.py:582: ConvergenceWarning: Stochastic Optimizer: Maximum iterations (500) reached and the optimization hasn't converged yet.\n",
      "  warnings.warn(\n"
     ]
    },
    {
     "name": "stdout",
     "output_type": "stream",
     "text": [
      "[CV]  activation=relu, alpha=0.05, hidden_layer_sizes=(20,), learning_rate=adaptive, solver=sgd, total=   0.4s\n",
      "[CV] activation=relu, alpha=0.05, hidden_layer_sizes=(20,), learning_rate=adaptive, solver=sgd \n"
     ]
    },
    {
     "name": "stderr",
     "output_type": "stream",
     "text": [
      "C:\\ProgramData\\Anaconda3_delete\\lib\\site-packages\\sklearn\\neural_network\\_multilayer_perceptron.py:582: ConvergenceWarning: Stochastic Optimizer: Maximum iterations (500) reached and the optimization hasn't converged yet.\n",
      "  warnings.warn(\n"
     ]
    },
    {
     "name": "stdout",
     "output_type": "stream",
     "text": [
      "[CV]  activation=relu, alpha=0.05, hidden_layer_sizes=(20,), learning_rate=adaptive, solver=sgd, total=   0.4s\n",
      "[CV] activation=relu, alpha=0.05, hidden_layer_sizes=(20,), learning_rate=adaptive, solver=sgd \n"
     ]
    },
    {
     "name": "stderr",
     "output_type": "stream",
     "text": [
      "C:\\ProgramData\\Anaconda3_delete\\lib\\site-packages\\sklearn\\neural_network\\_multilayer_perceptron.py:582: ConvergenceWarning: Stochastic Optimizer: Maximum iterations (500) reached and the optimization hasn't converged yet.\n",
      "  warnings.warn(\n"
     ]
    },
    {
     "name": "stdout",
     "output_type": "stream",
     "text": [
      "[CV]  activation=relu, alpha=0.05, hidden_layer_sizes=(20,), learning_rate=adaptive, solver=sgd, total=   0.4s\n",
      "[CV] activation=relu, alpha=0.05, hidden_layer_sizes=(20,), learning_rate=adaptive, solver=sgd \n"
     ]
    },
    {
     "name": "stderr",
     "output_type": "stream",
     "text": [
      "C:\\ProgramData\\Anaconda3_delete\\lib\\site-packages\\sklearn\\neural_network\\_multilayer_perceptron.py:582: ConvergenceWarning: Stochastic Optimizer: Maximum iterations (500) reached and the optimization hasn't converged yet.\n",
      "  warnings.warn(\n"
     ]
    },
    {
     "name": "stdout",
     "output_type": "stream",
     "text": [
      "[CV]  activation=relu, alpha=0.05, hidden_layer_sizes=(20,), learning_rate=adaptive, solver=sgd, total=   0.4s\n",
      "[CV] activation=relu, alpha=0.05, hidden_layer_sizes=(20,), learning_rate=adaptive, solver=sgd \n"
     ]
    },
    {
     "name": "stderr",
     "output_type": "stream",
     "text": [
      "C:\\ProgramData\\Anaconda3_delete\\lib\\site-packages\\sklearn\\neural_network\\_multilayer_perceptron.py:582: ConvergenceWarning: Stochastic Optimizer: Maximum iterations (500) reached and the optimization hasn't converged yet.\n",
      "  warnings.warn(\n"
     ]
    },
    {
     "name": "stdout",
     "output_type": "stream",
     "text": [
      "[CV]  activation=relu, alpha=0.05, hidden_layer_sizes=(20,), learning_rate=adaptive, solver=sgd, total=   0.4s\n",
      "[CV] activation=relu, alpha=0.05, hidden_layer_sizes=(20,), learning_rate=adaptive, solver=adam \n"
     ]
    },
    {
     "name": "stderr",
     "output_type": "stream",
     "text": [
      "C:\\ProgramData\\Anaconda3_delete\\lib\\site-packages\\sklearn\\neural_network\\_multilayer_perceptron.py:582: ConvergenceWarning: Stochastic Optimizer: Maximum iterations (500) reached and the optimization hasn't converged yet.\n",
      "  warnings.warn(\n"
     ]
    },
    {
     "name": "stdout",
     "output_type": "stream",
     "text": [
      "[CV]  activation=relu, alpha=0.05, hidden_layer_sizes=(20,), learning_rate=adaptive, solver=adam, total=   0.4s\n",
      "[CV] activation=relu, alpha=0.05, hidden_layer_sizes=(20,), learning_rate=adaptive, solver=adam \n",
      "[CV]  activation=relu, alpha=0.05, hidden_layer_sizes=(20,), learning_rate=adaptive, solver=adam, total=   0.4s\n",
      "[CV] activation=relu, alpha=0.05, hidden_layer_sizes=(20,), learning_rate=adaptive, solver=adam \n",
      "[CV]  activation=relu, alpha=0.05, hidden_layer_sizes=(20,), learning_rate=adaptive, solver=adam, total=   0.3s\n",
      "[CV] activation=relu, alpha=0.05, hidden_layer_sizes=(20,), learning_rate=adaptive, solver=adam \n",
      "[CV]  activation=relu, alpha=0.05, hidden_layer_sizes=(20,), learning_rate=adaptive, solver=adam, total=   0.3s\n",
      "[CV] activation=relu, alpha=0.05, hidden_layer_sizes=(20,), learning_rate=adaptive, solver=adam \n",
      "[CV]  activation=relu, alpha=0.05, hidden_layer_sizes=(20,), learning_rate=adaptive, solver=adam, total=   0.3s\n"
     ]
    },
    {
     "name": "stderr",
     "output_type": "stream",
     "text": [
      "[Parallel(n_jobs=1)]: Done 160 out of 160 | elapsed:  1.2min finished\n"
     ]
    },
    {
     "data": {
      "text/plain": [
       "GridSearchCV(cv=5, estimator=MLPClassifier(max_iter=500),\n",
       "             param_grid={'activation': ['tanh', 'relu'],\n",
       "                         'alpha': [0.0001, 0.05],\n",
       "                         'hidden_layer_sizes': [(10, 30, 10), (20,)],\n",
       "                         'learning_rate': ['constant', 'adaptive'],\n",
       "                         'solver': ['sgd', 'adam']},\n",
       "             verbose=2)"
      ]
     },
     "execution_count": 148,
     "metadata": {},
     "output_type": "execute_result"
    }
   ],
   "source": [
    "x = data.iloc[:,[2, 3]].values\n",
    "y = data.iloc[:,-1].values\n",
    "\n",
    "x_train_RN, x_test_RN, y_train_RN, y_test_RN = train_test_split(x, y, test_size = 0.20, random_state = 0)\n",
    "\n",
    "x_train_RN = StandardScaler().fit_transform(x_train_RN)\n",
    "x_test_RN = StandardScaler().fit_transform(x_test_RN)\n",
    "\n",
    "classifier_RN = MLPClassifier(hidden_layer_sizes=(10,10,10), max_iter=500, alpha=0.0001,\n",
    "                     solver='adam', random_state=21,tol=0.000000001)\n",
    "\n",
    "param_grid = {\n",
    "    'hidden_layer_sizes': [(10,30,10),(20,)],\n",
    "    'activation': ['tanh', 'relu'],\n",
    "    'solver': ['sgd', 'adam'],\n",
    "    'alpha': [0.0001, 0.05],\n",
    "    'learning_rate': ['constant','adaptive'],\n",
    "}\n",
    "\n",
    "grid = GridSearchCV(MLPClassifier(max_iter=500),param_grid,refit=True,verbose=2,cv=5)\n",
    "grid.fit(x_train_RN,y_train_RN)"
   ]
  },
  {
   "cell_type": "code",
   "execution_count": 149,
   "metadata": {},
   "outputs": [
    {
     "data": {
      "text/plain": [
       "0.9694357366771159"
      ]
     },
     "execution_count": 149,
     "metadata": {},
     "output_type": "execute_result"
    }
   ],
   "source": [
    "classifier_RN = MLPClassifier(hidden_layer_sizes=(10,30,10),max_iter=500,alpha=0.05).fit(x_train_RN, y_train_RN)\n",
    "y_pred_RN = classifier_RN.predict(x_test_RN)\n",
    "y_pred_prob_RN = classifier_RN.predict_proba(x_test_RN)\n",
    "false_positive_rate_RN, true_positive_rate_RN, thresholds_RN = roc_curve(y_test_RN, y_pred_prob_RN[:,1])\n",
    "roc_auc_RN = auc(false_positive_rate_RN, true_positive_rate_RN)\n",
    "roc_auc_RN"
   ]
  },
  {
   "cell_type": "code",
   "execution_count": 158,
   "metadata": {},
   "outputs": [
    {
     "data": {
      "image/png": "[encoded data removed]",
      "text/plain": [
       "<Figure size 1400x700 with 1 Axes>"
      ]
     },
     "metadata": {
      "needs_background": "light"
     },
     "output_type": "display_data"
    }
   ],
   "source": [
    "plt.figure(figsize=(14,7),dpi=100)\n",
    "plt.title('Receiver Operating Characteristic')\n",
    "\n",
    "plt.plot(false_positive_rate_NB,true_positive_rate_NB, color='blue',label = 'AUC_Bayes = %0.5f' % roc_auc_NB)\n",
    "plt.plot(false_positive_rate_DT,true_positive_rate_DT, color='green',label = 'AUC_DecisionTree = %0.5f' % roc_auc_DT)\n",
    "plt.plot(false_positive_rate,true_positive_rate, color='orange',label = 'AUC_KNN = %0.5f' % roc_auc_KNN)\n",
    "plt.plot(false_positive_rate_RN,true_positive_rate_RN, color='red',label = 'AUC_RedNeuronal = %0.5f' % roc_auc_RN)\n",
    "\n",
    "plt.legend(loc = 'lower right')\n",
    "plt.plot([0, 1], [0, 1],linestyle='--')\n",
    "plt.axis('tight')\n",
    "\n",
    "plt.ylabel('True Positive Rate')\n",
    "plt.xlabel('False Positive Rate')\n",
    "plt.show()"
   ]
  },
  {
   "cell_type": "code",
   "execution_count": 151,
   "metadata": {},
   "outputs": [],
   "source": [
    "#Luego de realizar los modelos de MachineLearning aprendidos en el curso podemos observar los diferentes valores de AUC\n",
    "#con ellos llegamos a la conclusion que el modelo mas acertado seria el del KNN un con K de 11 debido a que obtiene un AUC\n",
    "#de aproximadamente 99%"
   ]
  }
 ],
 "metadata": {
  "kernelspec": {
   "display_name": "Python 3",
   "language": "python",
   "name": "python3"
  },
  "language_info": {
   "codemirror_mode": {
    "name": "ipython",
    "version": 3
   },
   "file_extension": ".py",
   "mimetype": "text/x-python",
   "name": "python",
   "nbconvert_exporter": "python",
   "pygments_lexer": "ipython3",
   "version": "3.8.5"
  }
 },
 "nbformat": 4,
 "nbformat_minor": 4
}
