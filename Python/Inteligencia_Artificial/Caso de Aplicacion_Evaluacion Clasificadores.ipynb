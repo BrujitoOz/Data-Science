{
 "cells": [
  {
   "cell_type": "code",
   "execution_count": 4,
   "metadata": {},
   "outputs": [],
   "source": [
    "import pandas as pd\n",
    "import matplotlib.pyplot as plt\n",
    "import seaborn as sns\n",
    "import numpy as np\n",
    "import scipy.stats as ss\n",
    "from scipy.stats import chi2_contingency\n",
    "from sklearn.model_selection import train_test_split\n",
    "from sklearn import tree\n",
    "from sklearn.metrics import classification_report, confusion_matrix\n",
    "from sklearn.metrics import plot_confusion_matrix\n",
    "from sklearn.metrics import roc_curve, auc, roc_auc_score\n",
    "from sklearn.preprocessing import StandardScaler\n",
    "from sklearn.preprocessing import LabelEncoder\n",
    "from sklearn.model_selection import cross_val_score\n",
    "from sklearn.model_selection import GridSearchCV\n",
    "from sklearn.naive_bayes import GaussianNB\n",
    "from sklearn.neighbors import KNeighborsClassifier\n",
    "from sklearn.neural_network import MLPClassifier"
   ]
  },
  {
   "cell_type": "code",
   "execution_count": 5,
   "metadata": {},
   "outputs": [],
   "source": [
    "#Integrantes\n",
    "#David Porta\n",
    "#Juan Josemaria\n",
    "#Lucas Parodi\n",
    "#Francesco Bassinos"
   ]
  },
  {
   "cell_type": "code",
   "execution_count": 6,
   "metadata": {},
   "outputs": [],
   "source": [
    "data = pd.read_csv('C:/Users/Juan/Desktop/UPC/Septimo Ciclo/MachineLearning/Social_Network_Ads.csv')"
   ]
  },
  {
   "cell_type": "code",
   "execution_count": 7,
   "metadata": {},
   "outputs": [
    {
     "data": {
      "text/html": [
       "<div>\n",
       "<style scoped>\n",
       "    .dataframe tbody tr th:only-of-type {\n",
       "        vertical-align: middle;\n",
       "    }\n",
       "\n",
       "    .dataframe tbody tr th {\n",
       "        vertical-align: top;\n",
       "    }\n",
       "\n",
       "    .dataframe thead th {\n",
       "        text-align: right;\n",
       "    }\n",
       "</style>\n",
       "<table border=\"1\" class=\"dataframe\">\n",
       "  <thead>\n",
       "    <tr style=\"text-align: right;\">\n",
       "      <th></th>\n",
       "      <th>User ID</th>\n",
       "      <th>Gender</th>\n",
       "      <th>Age</th>\n",
       "      <th>EstimatedSalary</th>\n",
       "      <th>Purchased</th>\n",
       "    </tr>\n",
       "  </thead>\n",
       "  <tbody>\n",
       "    <tr>\n",
       "      <th>0</th>\n",
       "      <td>15624510</td>\n",
       "      <td>Male</td>\n",
       "      <td>19</td>\n",
       "      <td>19000</td>\n",
       "      <td>0</td>\n",
       "    </tr>\n",
       "    <tr>\n",
       "      <th>1</th>\n",
       "      <td>15810944</td>\n",
       "      <td>Male</td>\n",
       "      <td>35</td>\n",
       "      <td>20000</td>\n",
       "      <td>0</td>\n",
       "    </tr>\n",
       "    <tr>\n",
       "      <th>2</th>\n",
       "      <td>15668575</td>\n",
       "      <td>Female</td>\n",
       "      <td>26</td>\n",
       "      <td>43000</td>\n",
       "      <td>0</td>\n",
       "    </tr>\n",
       "    <tr>\n",
       "      <th>3</th>\n",
       "      <td>15603246</td>\n",
       "      <td>Female</td>\n",
       "      <td>27</td>\n",
       "      <td>57000</td>\n",
       "      <td>0</td>\n",
       "    </tr>\n",
       "    <tr>\n",
       "      <th>4</th>\n",
       "      <td>15804002</td>\n",
       "      <td>Male</td>\n",
       "      <td>19</td>\n",
       "      <td>76000</td>\n",
       "      <td>0</td>\n",
       "    </tr>\n",
       "  </tbody>\n",
       "</table>\n",
       "</div>"
      ],
      "text/plain": [
       "    User ID  Gender  Age  EstimatedSalary  Purchased\n",
       "0  15624510    Male   19            19000          0\n",
       "1  15810944    Male   35            20000          0\n",
       "2  15668575  Female   26            43000          0\n",
       "3  15603246  Female   27            57000          0\n",
       "4  15804002    Male   19            76000          0"
      ]
     },
     "execution_count": 7,
     "metadata": {},
     "output_type": "execute_result"
    }
   ],
   "source": [
    "data.head(5)"
   ]
  },
  {
   "cell_type": "code",
   "execution_count": 8,
   "metadata": {},
   "outputs": [],
   "source": [
    "X = data.iloc[:, [2, 3]].values\n",
    "y = data.iloc[:, -1].values"
   ]
  },
  {
   "cell_type": "code",
   "execution_count": 9,
   "metadata": {},
   "outputs": [],
   "source": [
    "X_train, X_test, y_train, y_test = train_test_split(X, y, test_size = 0.20, random_state = 0)"
   ]
  },
  {
   "cell_type": "code",
   "execution_count": 10,
   "metadata": {},
   "outputs": [],
   "source": [
    "classifier_G = GaussianNB().fit(X_train, y_train)"
   ]
  },
  {
   "cell_type": "code",
   "execution_count": 11,
   "metadata": {},
   "outputs": [],
   "source": [
    "y_pred_prob = classifier_G.predict_proba(X_test)"
   ]
  },
  {
   "cell_type": "code",
   "execution_count": 12,
   "metadata": {},
   "outputs": [],
   "source": [
    "false_positive_rate, true_positive_rate, thresholds = roc_curve(y_test, y_pred_prob[:,1])"
   ]
  },
  {
   "cell_type": "code",
   "execution_count": 13,
   "metadata": {},
   "outputs": [
    {
     "data": {
      "text/plain": [
       "0.9843260188087775"
      ]
     },
     "execution_count": 13,
     "metadata": {},
     "output_type": "execute_result"
    }
   ],
   "source": [
    "roc_auc = auc(false_positive_rate, true_positive_rate)\n",
    "roc_auc"
   ]
  },
  {
   "cell_type": "code",
   "execution_count": 14,
   "metadata": {},
   "outputs": [
    {
     "data": {
      "image/png": "[encoded data removed]",
      "text/plain": [
       "<Figure size 432x288 with 1 Axes>"
      ]
     },
     "metadata": {
      "needs_background": "light"
     },
     "output_type": "display_data"
    }
   ],
   "source": [
    "plt.title('Receiver Operating Characteristic')\n",
    "plt.plot(false_positive_rate,true_positive_rate, color='red',label = 'AUC = %0.2f' % roc_auc)\n",
    "plt.legend(loc = 'lower right')\n",
    "plt.plot([0, 1], [0, 1],linestyle='--')\n",
    "plt.axis('tight')\n",
    "plt.ylabel('True Positive Rate')\n",
    "plt.xlabel('False Positive Rate')\n",
    "plt.show()"
   ]
  },
  {
   "cell_type": "code",
   "execution_count": null,
   "metadata": {},
   "outputs": [],
   "source": [
    "\n"
   ]
  },
  {
   "cell_type": "code",
   "execution_count": 15,
   "metadata": {},
   "outputs": [],
   "source": [
    "#######\n",
    "#DECISION TREE\n",
    "X = data.iloc[:,[2, 3]].values\n",
    "y = data.iloc[:,-1].values\n",
    "X_train, X_test, y_train, y_test_DT = train_test_split(X, y, test_size = 0.20, random_state = 0)"
   ]
  },
  {
   "cell_type": "code",
   "execution_count": 16,
   "metadata": {},
   "outputs": [
    {
     "name": "stdout",
     "output_type": "stream",
     "text": [
      "Fitting 5 folds for each of 50 candidates, totalling 250 fits\n",
      "[CV] criterion=gini, max_depth=2, min_samples_leaf=5 .................\n"
     ]
    },
    {
     "name": "stderr",
     "output_type": "stream",
     "text": [
      "[Parallel(n_jobs=1)]: Using backend SequentialBackend with 1 concurrent workers.\n"
     ]
    },
    {
     "name": "stdout",
     "output_type": "stream",
     "text": [
      "[CV] .. criterion=gini, max_depth=2, min_samples_leaf=5, total=   0.3s\n",
      "[CV] criterion=gini, max_depth=2, min_samples_leaf=5 .................\n",
      "[CV] .. criterion=gini, max_depth=2, min_samples_leaf=5, total=   0.0s\n",
      "[CV] criterion=gini, max_depth=2, min_samples_leaf=5 .................\n",
      "[CV] .. criterion=gini, max_depth=2, min_samples_leaf=5, total=   0.0s\n",
      "[CV] criterion=gini, max_depth=2, min_samples_leaf=5 .................\n",
      "[CV] .. criterion=gini, max_depth=2, min_samples_leaf=5, total=   0.0s\n",
      "[CV] criterion=gini, max_depth=2, min_samples_leaf=5 .................\n",
      "[CV] .. criterion=gini, max_depth=2, min_samples_leaf=5, total=   0.0s\n",
      "[CV] criterion=gini, max_depth=2, min_samples_leaf=10 ................\n",
      "[CV] . criterion=gini, max_depth=2, min_samples_leaf=10, total=   0.0s\n",
      "[CV] criterion=gini, max_depth=2, min_samples_leaf=10 ................\n",
      "[CV] . criterion=gini, max_depth=2, min_samples_leaf=10, total=   0.0s\n",
      "[CV] criterion=gini, max_depth=2, min_samples_leaf=10 ................\n",
      "[CV] . criterion=gini, max_depth=2, min_samples_leaf=10, total=   0.0s\n",
      "[CV] criterion=gini, max_depth=2, min_samples_leaf=10 ................\n",
      "[CV] . criterion=gini, max_depth=2, min_samples_leaf=10, total=   0.0s\n",
      "[CV] criterion=gini, max_depth=2, min_samples_leaf=10 ................\n",
      "[CV] . criterion=gini, max_depth=2, min_samples_leaf=10, total=   0.0s\n",
      "[CV] criterion=gini, max_depth=2, min_samples_leaf=20 ................\n",
      "[CV] . criterion=gini, max_depth=2, min_samples_leaf=20, total=   0.0s\n",
      "[CV] criterion=gini, max_depth=2, min_samples_leaf=20 ................\n",
      "[CV] . criterion=gini, max_depth=2, min_samples_leaf=20, total=   0.0s\n",
      "[CV] criterion=gini, max_depth=2, min_samples_leaf=20 ................\n",
      "[CV] . criterion=gini, max_depth=2, min_samples_leaf=20, total=   0.0s\n",
      "[CV] criterion=gini, max_depth=2, min_samples_leaf=20 ................\n",
      "[CV] . criterion=gini, max_depth=2, min_samples_leaf=20, total=   0.0s\n",
      "[CV] criterion=gini, max_depth=2, min_samples_leaf=20 ................\n",
      "[CV] . criterion=gini, max_depth=2, min_samples_leaf=20, total=   0.0s\n",
      "[CV] criterion=gini, max_depth=2, min_samples_leaf=50 ................\n",
      "[CV] . criterion=gini, max_depth=2, min_samples_leaf=50, total=   0.0s\n",
      "[CV] criterion=gini, max_depth=2, min_samples_leaf=50 ................\n",
      "[CV] . criterion=gini, max_depth=2, min_samples_leaf=50, total=   0.0s\n",
      "[CV] criterion=gini, max_depth=2, min_samples_leaf=50 ................\n",
      "[CV] . criterion=gini, max_depth=2, min_samples_leaf=50, total=   0.0s\n",
      "[CV] criterion=gini, max_depth=2, min_samples_leaf=50 ................\n",
      "[CV] . criterion=gini, max_depth=2, min_samples_leaf=50, total=   0.0s\n",
      "[CV] criterion=gini, max_depth=2, min_samples_leaf=50 ................\n",
      "[CV] . criterion=gini, max_depth=2, min_samples_leaf=50, total=   0.0s\n",
      "[CV] criterion=gini, max_depth=2, min_samples_leaf=100 ...............\n",
      "[CV]  criterion=gini, max_depth=2, min_samples_leaf=100, total=   0.0s\n",
      "[CV] criterion=gini, max_depth=2, min_samples_leaf=100 ...............\n",
      "[CV]  criterion=gini, max_depth=2, min_samples_leaf=100, total=   0.0s\n",
      "[CV] criterion=gini, max_depth=2, min_samples_leaf=100 ...............\n",
      "[CV]  criterion=gini, max_depth=2, min_samples_leaf=100, total=   0.0s\n",
      "[CV] criterion=gini, max_depth=2, min_samples_leaf=100 ...............\n",
      "[CV]  criterion=gini, max_depth=2, min_samples_leaf=100, total=   0.0s\n",
      "[CV] criterion=gini, max_depth=2, min_samples_leaf=100 ...............\n",
      "[CV]  criterion=gini, max_depth=2, min_samples_leaf=100, total=   0.0s\n",
      "[CV] criterion=gini, max_depth=3, min_samples_leaf=5 .................\n",
      "[CV] .. criterion=gini, max_depth=3, min_samples_leaf=5, total=   0.0s\n",
      "[CV] criterion=gini, max_depth=3, min_samples_leaf=5 .................\n",
      "[CV] .. criterion=gini, max_depth=3, min_samples_leaf=5, total=   0.0s\n",
      "[CV] criterion=gini, max_depth=3, min_samples_leaf=5 .................\n",
      "[CV] .. criterion=gini, max_depth=3, min_samples_leaf=5, total=   0.0s\n",
      "[CV] criterion=gini, max_depth=3, min_samples_leaf=5 .................\n",
      "[CV] .. criterion=gini, max_depth=3, min_samples_leaf=5, total=   0.0s\n",
      "[CV] criterion=gini, max_depth=3, min_samples_leaf=5 .................\n",
      "[CV] .. criterion=gini, max_depth=3, min_samples_leaf=5, total=   0.0s\n",
      "[CV] criterion=gini, max_depth=3, min_samples_leaf=10 ................\n",
      "[CV] . criterion=gini, max_depth=3, min_samples_leaf=10, total=   0.0s\n",
      "[CV] criterion=gini, max_depth=3, min_samples_leaf=10 ................\n",
      "[CV] . criterion=gini, max_depth=3, min_samples_leaf=10, total=   0.0s\n",
      "[CV] criterion=gini, max_depth=3, min_samples_leaf=10 ................\n",
      "[CV] . criterion=gini, max_depth=3, min_samples_leaf=10, total=   0.0s\n",
      "[CV] criterion=gini, max_depth=3, min_samples_leaf=10 ................\n",
      "[CV] . criterion=gini, max_depth=3, min_samples_leaf=10, total=   0.0s\n",
      "[CV] criterion=gini, max_depth=3, min_samples_leaf=10 ................\n",
      "[CV] . criterion=gini, max_depth=3, min_samples_leaf=10, total=   0.0s\n",
      "[CV] criterion=gini, max_depth=3, min_samples_leaf=20 ................\n",
      "[CV] . criterion=gini, max_depth=3, min_samples_leaf=20, total=   0.0s\n",
      "[CV] criterion=gini, max_depth=3, min_samples_leaf=20 ................\n",
      "[CV] . criterion=gini, max_depth=3, min_samples_leaf=20, total=   0.0s\n",
      "[CV] criterion=gini, max_depth=3, min_samples_leaf=20 ................\n",
      "[CV] . criterion=gini, max_depth=3, min_samples_leaf=20, total=   0.0s\n",
      "[CV] criterion=gini, max_depth=3, min_samples_leaf=20 ................\n",
      "[CV] . criterion=gini, max_depth=3, min_samples_leaf=20, total=   0.0s\n",
      "[CV] criterion=gini, max_depth=3, min_samples_leaf=20 ................\n",
      "[CV] . criterion=gini, max_depth=3, min_samples_leaf=20, total=   0.0s\n",
      "[CV] criterion=gini, max_depth=3, min_samples_leaf=50 ................\n",
      "[CV] . criterion=gini, max_depth=3, min_samples_leaf=50, total=   0.0s\n",
      "[CV] criterion=gini, max_depth=3, min_samples_leaf=50 ................\n",
      "[CV] . criterion=gini, max_depth=3, min_samples_leaf=50, total=   0.0s\n",
      "[CV] criterion=gini, max_depth=3, min_samples_leaf=50 ................\n",
      "[CV] . criterion=gini, max_depth=3, min_samples_leaf=50, total=   0.0s\n",
      "[CV] criterion=gini, max_depth=3, min_samples_leaf=50 ................\n",
      "[CV] . criterion=gini, max_depth=3, min_samples_leaf=50, total=   0.0s\n",
      "[CV] criterion=gini, max_depth=3, min_samples_leaf=50 ................\n",
      "[CV] . criterion=gini, max_depth=3, min_samples_leaf=50, total=   0.0s\n",
      "[CV] criterion=gini, max_depth=3, min_samples_leaf=100 ...............\n",
      "[CV]  criterion=gini, max_depth=3, min_samples_leaf=100, total=   0.0s\n",
      "[CV] criterion=gini, max_depth=3, min_samples_leaf=100 ...............\n",
      "[CV]  criterion=gini, max_depth=3, min_samples_leaf=100, total=   0.0s\n",
      "[CV] criterion=gini, max_depth=3, min_samples_leaf=100 ...............\n",
      "[CV]  criterion=gini, max_depth=3, min_samples_leaf=100, total=   0.0s\n",
      "[CV] criterion=gini, max_depth=3, min_samples_leaf=100 ...............\n",
      "[CV]  criterion=gini, max_depth=3, min_samples_leaf=100, total=   0.0s\n",
      "[CV] criterion=gini, max_depth=3, min_samples_leaf=100 ...............\n",
      "[CV]  criterion=gini, max_depth=3, min_samples_leaf=100, total=   0.0s\n",
      "[CV] criterion=gini, max_depth=5, min_samples_leaf=5 .................\n",
      "[CV] .. criterion=gini, max_depth=5, min_samples_leaf=5, total=   0.0s\n",
      "[CV] criterion=gini, max_depth=5, min_samples_leaf=5 .................\n",
      "[CV] .. criterion=gini, max_depth=5, min_samples_leaf=5, total=   0.0s\n",
      "[CV] criterion=gini, max_depth=5, min_samples_leaf=5 .................\n",
      "[CV] .. criterion=gini, max_depth=5, min_samples_leaf=5, total=   0.0s\n",
      "[CV] criterion=gini, max_depth=5, min_samples_leaf=5 .................\n",
      "[CV] .. criterion=gini, max_depth=5, min_samples_leaf=5, total=   0.0s\n",
      "[CV] criterion=gini, max_depth=5, min_samples_leaf=5 .................\n",
      "[CV] .. criterion=gini, max_depth=5, min_samples_leaf=5, total=   0.0s\n",
      "[CV] criterion=gini, max_depth=5, min_samples_leaf=10 ................\n",
      "[CV] . criterion=gini, max_depth=5, min_samples_leaf=10, total=   0.0s\n",
      "[CV] criterion=gini, max_depth=5, min_samples_leaf=10 ................\n",
      "[CV] . criterion=gini, max_depth=5, min_samples_leaf=10, total=   0.0s\n",
      "[CV] criterion=gini, max_depth=5, min_samples_leaf=10 ................\n",
      "[CV] . criterion=gini, max_depth=5, min_samples_leaf=10, total=   0.0s\n",
      "[CV] criterion=gini, max_depth=5, min_samples_leaf=10 ................\n",
      "[CV] . criterion=gini, max_depth=5, min_samples_leaf=10, total=   0.0s\n",
      "[CV] criterion=gini, max_depth=5, min_samples_leaf=10 ................\n",
      "[CV] . criterion=gini, max_depth=5, min_samples_leaf=10, total=   0.0s\n",
      "[CV] criterion=gini, max_depth=5, min_samples_leaf=20 ................\n",
      "[CV] . criterion=gini, max_depth=5, min_samples_leaf=20, total=   0.0s\n",
      "[CV] criterion=gini, max_depth=5, min_samples_leaf=20 ................\n",
      "[CV] . criterion=gini, max_depth=5, min_samples_leaf=20, total=   0.0s\n",
      "[CV] criterion=gini, max_depth=5, min_samples_leaf=20 ................\n",
      "[CV] . criterion=gini, max_depth=5, min_samples_leaf=20, total=   0.0s\n",
      "[CV] criterion=gini, max_depth=5, min_samples_leaf=20 ................\n",
      "[CV] . criterion=gini, max_depth=5, min_samples_leaf=20, total=   0.0s\n",
      "[CV] criterion=gini, max_depth=5, min_samples_leaf=20 ................\n",
      "[CV] . criterion=gini, max_depth=5, min_samples_leaf=20, total=   0.0s\n",
      "[CV] criterion=gini, max_depth=5, min_samples_leaf=50 ................\n",
      "[CV] . criterion=gini, max_depth=5, min_samples_leaf=50, total=   0.0s\n",
      "[CV] criterion=gini, max_depth=5, min_samples_leaf=50 ................\n",
      "[CV] . criterion=gini, max_depth=5, min_samples_leaf=50, total=   0.0s\n",
      "[CV] criterion=gini, max_depth=5, min_samples_leaf=50 ................\n",
      "[CV] . criterion=gini, max_depth=5, min_samples_leaf=50, total=   0.0s\n",
      "[CV] criterion=gini, max_depth=5, min_samples_leaf=50 ................\n",
      "[CV] . criterion=gini, max_depth=5, min_samples_leaf=50, total=   0.0s\n",
      "[CV] criterion=gini, max_depth=5, min_samples_leaf=50 ................\n",
      "[CV] . criterion=gini, max_depth=5, min_samples_leaf=50, total=   0.0s\n",
      "[CV] criterion=gini, max_depth=5, min_samples_leaf=100 ...............\n",
      "[CV]  criterion=gini, max_depth=5, min_samples_leaf=100, total=   0.0s\n",
      "[CV] criterion=gini, max_depth=5, min_samples_leaf=100 ...............\n",
      "[CV]  criterion=gini, max_depth=5, min_samples_leaf=100, total=   0.0s\n",
      "[CV] criterion=gini, max_depth=5, min_samples_leaf=100 ...............\n",
      "[CV]  criterion=gini, max_depth=5, min_samples_leaf=100, total=   0.0s\n",
      "[CV] criterion=gini, max_depth=5, min_samples_leaf=100 ...............\n",
      "[CV]  criterion=gini, max_depth=5, min_samples_leaf=100, total=   0.0s\n",
      "[CV] criterion=gini, max_depth=5, min_samples_leaf=100 ...............\n",
      "[CV]  criterion=gini, max_depth=5, min_samples_leaf=100, total=   0.0s\n",
      "[CV] criterion=gini, max_depth=10, min_samples_leaf=5 ................\n",
      "[CV] . criterion=gini, max_depth=10, min_samples_leaf=5, total=   0.0s\n",
      "[CV] criterion=gini, max_depth=10, min_samples_leaf=5 ................\n",
      "[CV] . criterion=gini, max_depth=10, min_samples_leaf=5, total=   0.0s\n",
      "[CV] criterion=gini, max_depth=10, min_samples_leaf=5 ................\n",
      "[CV] . criterion=gini, max_depth=10, min_samples_leaf=5, total=   0.0s\n",
      "[CV] criterion=gini, max_depth=10, min_samples_leaf=5 ................\n",
      "[CV] . criterion=gini, max_depth=10, min_samples_leaf=5, total=   0.0s\n",
      "[CV] criterion=gini, max_depth=10, min_samples_leaf=5 ................\n",
      "[CV] . criterion=gini, max_depth=10, min_samples_leaf=5, total=   0.0s\n",
      "[CV] criterion=gini, max_depth=10, min_samples_leaf=10 ...............\n",
      "[CV]  criterion=gini, max_depth=10, min_samples_leaf=10, total=   0.0s\n",
      "[CV] criterion=gini, max_depth=10, min_samples_leaf=10 ...............\n",
      "[CV]  criterion=gini, max_depth=10, min_samples_leaf=10, total=   0.0s\n",
      "[CV] criterion=gini, max_depth=10, min_samples_leaf=10 ...............\n",
      "[CV]  criterion=gini, max_depth=10, min_samples_leaf=10, total=   0.0s\n",
      "[CV] criterion=gini, max_depth=10, min_samples_leaf=10 ...............\n",
      "[CV]  criterion=gini, max_depth=10, min_samples_leaf=10, total=   0.0s\n",
      "[CV] criterion=gini, max_depth=10, min_samples_leaf=10 ...............\n",
      "[CV]  criterion=gini, max_depth=10, min_samples_leaf=10, total=   0.0s\n",
      "[CV] criterion=gini, max_depth=10, min_samples_leaf=20 ...............\n",
      "[CV]  criterion=gini, max_depth=10, min_samples_leaf=20, total=   0.0s\n",
      "[CV] criterion=gini, max_depth=10, min_samples_leaf=20 ...............\n",
      "[CV]  criterion=gini, max_depth=10, min_samples_leaf=20, total=   0.0s\n",
      "[CV] criterion=gini, max_depth=10, min_samples_leaf=20 ...............\n",
      "[CV]  criterion=gini, max_depth=10, min_samples_leaf=20, total=   0.0s\n",
      "[CV] criterion=gini, max_depth=10, min_samples_leaf=20 ...............\n",
      "[CV]  criterion=gini, max_depth=10, min_samples_leaf=20, total=   0.0s\n",
      "[CV] criterion=gini, max_depth=10, min_samples_leaf=20 ...............\n",
      "[CV]  criterion=gini, max_depth=10, min_samples_leaf=20, total=   0.0s\n",
      "[CV] criterion=gini, max_depth=10, min_samples_leaf=50 ...............\n",
      "[CV]  criterion=gini, max_depth=10, min_samples_leaf=50, total=   0.0s\n",
      "[CV] criterion=gini, max_depth=10, min_samples_leaf=50 ...............\n",
      "[CV]  criterion=gini, max_depth=10, min_samples_leaf=50, total=   0.0s\n",
      "[CV] criterion=gini, max_depth=10, min_samples_leaf=50 ...............\n",
      "[CV]  criterion=gini, max_depth=10, min_samples_leaf=50, total=   0.0s\n",
      "[CV] criterion=gini, max_depth=10, min_samples_leaf=50 ...............\n",
      "[CV]  criterion=gini, max_depth=10, min_samples_leaf=50, total=   0.0s\n",
      "[CV] criterion=gini, max_depth=10, min_samples_leaf=50 ...............\n",
      "[CV]  criterion=gini, max_depth=10, min_samples_leaf=50, total=   0.0s\n",
      "[CV] criterion=gini, max_depth=10, min_samples_leaf=100 ..............\n",
      "[CV]  criterion=gini, max_depth=10, min_samples_leaf=100, total=   0.0s\n",
      "[CV] criterion=gini, max_depth=10, min_samples_leaf=100 ..............\n",
      "[CV]  criterion=gini, max_depth=10, min_samples_leaf=100, total=   0.0s\n",
      "[CV] criterion=gini, max_depth=10, min_samples_leaf=100 ..............\n",
      "[CV]  criterion=gini, max_depth=10, min_samples_leaf=100, total=   0.0s\n",
      "[CV] criterion=gini, max_depth=10, min_samples_leaf=100 ..............\n",
      "[CV]  criterion=gini, max_depth=10, min_samples_leaf=100, total=   0.0s\n",
      "[CV] criterion=gini, max_depth=10, min_samples_leaf=100 ..............\n",
      "[CV]  criterion=gini, max_depth=10, min_samples_leaf=100, total=   0.0s\n",
      "[CV] criterion=gini, max_depth=20, min_samples_leaf=5 ................\n",
      "[CV] . criterion=gini, max_depth=20, min_samples_leaf=5, total=   0.0s\n",
      "[CV] criterion=gini, max_depth=20, min_samples_leaf=5 ................\n",
      "[CV] . criterion=gini, max_depth=20, min_samples_leaf=5, total=   0.0s\n",
      "[CV] criterion=gini, max_depth=20, min_samples_leaf=5 ................\n",
      "[CV] . criterion=gini, max_depth=20, min_samples_leaf=5, total=   0.0s\n",
      "[CV] criterion=gini, max_depth=20, min_samples_leaf=5 ................\n",
      "[CV] . criterion=gini, max_depth=20, min_samples_leaf=5, total=   0.0s\n",
      "[CV] criterion=gini, max_depth=20, min_samples_leaf=5 ................\n",
      "[CV] . criterion=gini, max_depth=20, min_samples_leaf=5, total=   0.0s\n",
      "[CV] criterion=gini, max_depth=20, min_samples_leaf=10 ...............\n",
      "[CV]  criterion=gini, max_depth=20, min_samples_leaf=10, total=   0.0s\n",
      "[CV] criterion=gini, max_depth=20, min_samples_leaf=10 ...............\n",
      "[CV]  criterion=gini, max_depth=20, min_samples_leaf=10, total=   0.0s\n",
      "[CV] criterion=gini, max_depth=20, min_samples_leaf=10 ...............\n",
      "[CV]  criterion=gini, max_depth=20, min_samples_leaf=10, total=   0.0s\n",
      "[CV] criterion=gini, max_depth=20, min_samples_leaf=10 ...............\n",
      "[CV]  criterion=gini, max_depth=20, min_samples_leaf=10, total=   0.0s\n",
      "[CV] criterion=gini, max_depth=20, min_samples_leaf=10 ...............\n",
      "[CV]  criterion=gini, max_depth=20, min_samples_leaf=10, total=   0.0s\n",
      "[CV] criterion=gini, max_depth=20, min_samples_leaf=20 ...............\n",
      "[CV]  criterion=gini, max_depth=20, min_samples_leaf=20, total=   0.0s\n",
      "[CV] criterion=gini, max_depth=20, min_samples_leaf=20 ...............\n",
      "[CV]  criterion=gini, max_depth=20, min_samples_leaf=20, total=   0.0s\n",
      "[CV] criterion=gini, max_depth=20, min_samples_leaf=20 ...............\n",
      "[CV]  criterion=gini, max_depth=20, min_samples_leaf=20, total=   0.0s\n",
      "[CV] criterion=gini, max_depth=20, min_samples_leaf=20 ...............\n",
      "[CV]  criterion=gini, max_depth=20, min_samples_leaf=20, total=   0.0s\n",
      "[CV] criterion=gini, max_depth=20, min_samples_leaf=20 ...............\n",
      "[CV]  criterion=gini, max_depth=20, min_samples_leaf=20, total=   0.0s\n",
      "[CV] criterion=gini, max_depth=20, min_samples_leaf=50 ...............\n",
      "[CV]  criterion=gini, max_depth=20, min_samples_leaf=50, total=   0.0s\n",
      "[CV] criterion=gini, max_depth=20, min_samples_leaf=50 ...............\n",
      "[CV]  criterion=gini, max_depth=20, min_samples_leaf=50, total=   0.0s\n",
      "[CV] criterion=gini, max_depth=20, min_samples_leaf=50 ...............\n",
      "[CV]  criterion=gini, max_depth=20, min_samples_leaf=50, total=   0.0s\n",
      "[CV] criterion=gini, max_depth=20, min_samples_leaf=50 ...............\n",
      "[CV]  criterion=gini, max_depth=20, min_samples_leaf=50, total=   0.0s\n",
      "[CV] criterion=gini, max_depth=20, min_samples_leaf=50 ...............\n",
      "[CV]  criterion=gini, max_depth=20, min_samples_leaf=50, total=   0.0s\n",
      "[CV] criterion=gini, max_depth=20, min_samples_leaf=100 ..............\n",
      "[CV]  criterion=gini, max_depth=20, min_samples_leaf=100, total=   0.0s\n",
      "[CV] criterion=gini, max_depth=20, min_samples_leaf=100 ..............\n",
      "[CV]  criterion=gini, max_depth=20, min_samples_leaf=100, total=   0.0s\n",
      "[CV] criterion=gini, max_depth=20, min_samples_leaf=100 ..............\n",
      "[CV]  criterion=gini, max_depth=20, min_samples_leaf=100, total=   0.0s\n",
      "[CV] criterion=gini, max_depth=20, min_samples_leaf=100 ..............\n",
      "[CV]  criterion=gini, max_depth=20, min_samples_leaf=100, total=   0.0s\n",
      "[CV] criterion=gini, max_depth=20, min_samples_leaf=100 ..............\n",
      "[CV]  criterion=gini, max_depth=20, min_samples_leaf=100, total=   0.0s\n",
      "[CV] criterion=entropy, max_depth=2, min_samples_leaf=5 ..............\n",
      "[CV]  criterion=entropy, max_depth=2, min_samples_leaf=5, total=   0.0s\n",
      "[CV] criterion=entropy, max_depth=2, min_samples_leaf=5 ..............\n",
      "[CV]  criterion=entropy, max_depth=2, min_samples_leaf=5, total=   0.0s\n",
      "[CV] criterion=entropy, max_depth=2, min_samples_leaf=5 ..............\n",
      "[CV]  criterion=entropy, max_depth=2, min_samples_leaf=5, total=   0.0s\n",
      "[CV] criterion=entropy, max_depth=2, min_samples_leaf=5 ..............\n",
      "[CV]  criterion=entropy, max_depth=2, min_samples_leaf=5, total=   0.0s\n",
      "[CV] criterion=entropy, max_depth=2, min_samples_leaf=5 ..............\n",
      "[CV]  criterion=entropy, max_depth=2, min_samples_leaf=5, total=   0.0s\n",
      "[CV] criterion=entropy, max_depth=2, min_samples_leaf=10 .............\n",
      "[CV]  criterion=entropy, max_depth=2, min_samples_leaf=10, total=   0.0s\n",
      "[CV] criterion=entropy, max_depth=2, min_samples_leaf=10 .............\n",
      "[CV]  criterion=entropy, max_depth=2, min_samples_leaf=10, total=   0.0s\n",
      "[CV] criterion=entropy, max_depth=2, min_samples_leaf=10 .............\n",
      "[CV]  criterion=entropy, max_depth=2, min_samples_leaf=10, total=   0.0s\n",
      "[CV] criterion=entropy, max_depth=2, min_samples_leaf=10 .............\n",
      "[CV]  criterion=entropy, max_depth=2, min_samples_leaf=10, total=   0.0s\n",
      "[CV] criterion=entropy, max_depth=2, min_samples_leaf=10 .............\n"
     ]
    },
    {
     "name": "stderr",
     "output_type": "stream",
     "text": [
      "[Parallel(n_jobs=1)]: Done   1 out of   1 | elapsed:    0.2s remaining:    0.0s\n"
     ]
    },
    {
     "name": "stdout",
     "output_type": "stream",
     "text": [
      "[CV]  criterion=entropy, max_depth=2, min_samples_leaf=10, total=   0.0s\n",
      "[CV] criterion=entropy, max_depth=2, min_samples_leaf=20 .............\n",
      "[CV]  criterion=entropy, max_depth=2, min_samples_leaf=20, total=   0.0s\n",
      "[CV] criterion=entropy, max_depth=2, min_samples_leaf=20 .............\n",
      "[CV]  criterion=entropy, max_depth=2, min_samples_leaf=20, total=   0.0s\n",
      "[CV] criterion=entropy, max_depth=2, min_samples_leaf=20 .............\n",
      "[CV]  criterion=entropy, max_depth=2, min_samples_leaf=20, total=   0.0s\n",
      "[CV] criterion=entropy, max_depth=2, min_samples_leaf=20 .............\n",
      "[CV]  criterion=entropy, max_depth=2, min_samples_leaf=20, total=   0.0s\n",
      "[CV] criterion=entropy, max_depth=2, min_samples_leaf=20 .............\n",
      "[CV]  criterion=entropy, max_depth=2, min_samples_leaf=20, total=   0.0s\n",
      "[CV] criterion=entropy, max_depth=2, min_samples_leaf=50 .............\n",
      "[CV]  criterion=entropy, max_depth=2, min_samples_leaf=50, total=   0.0s\n",
      "[CV] criterion=entropy, max_depth=2, min_samples_leaf=50 .............\n",
      "[CV]  criterion=entropy, max_depth=2, min_samples_leaf=50, total=   0.0s\n",
      "[CV] criterion=entropy, max_depth=2, min_samples_leaf=50 .............\n",
      "[CV]  criterion=entropy, max_depth=2, min_samples_leaf=50, total=   0.0s\n",
      "[CV] criterion=entropy, max_depth=2, min_samples_leaf=50 .............\n",
      "[CV]  criterion=entropy, max_depth=2, min_samples_leaf=50, total=   0.0s\n",
      "[CV] criterion=entropy, max_depth=2, min_samples_leaf=50 .............\n",
      "[CV]  criterion=entropy, max_depth=2, min_samples_leaf=50, total=   0.0s\n",
      "[CV] criterion=entropy, max_depth=2, min_samples_leaf=100 ............\n",
      "[CV]  criterion=entropy, max_depth=2, min_samples_leaf=100, total=   0.0s\n",
      "[CV] criterion=entropy, max_depth=2, min_samples_leaf=100 ............\n",
      "[CV]  criterion=entropy, max_depth=2, min_samples_leaf=100, total=   0.0s\n",
      "[CV] criterion=entropy, max_depth=2, min_samples_leaf=100 ............\n",
      "[CV]  criterion=entropy, max_depth=2, min_samples_leaf=100, total=   0.0s\n",
      "[CV] criterion=entropy, max_depth=2, min_samples_leaf=100 ............\n",
      "[CV]  criterion=entropy, max_depth=2, min_samples_leaf=100, total=   0.0s\n",
      "[CV] criterion=entropy, max_depth=2, min_samples_leaf=100 ............\n",
      "[CV]  criterion=entropy, max_depth=2, min_samples_leaf=100, total=   0.0s\n",
      "[CV] criterion=entropy, max_depth=3, min_samples_leaf=5 ..............\n",
      "[CV]  criterion=entropy, max_depth=3, min_samples_leaf=5, total=   0.0s\n",
      "[CV] criterion=entropy, max_depth=3, min_samples_leaf=5 ..............\n",
      "[CV]  criterion=entropy, max_depth=3, min_samples_leaf=5, total=   0.0s\n",
      "[CV] criterion=entropy, max_depth=3, min_samples_leaf=5 ..............\n",
      "[CV]  criterion=entropy, max_depth=3, min_samples_leaf=5, total=   0.0s\n",
      "[CV] criterion=entropy, max_depth=3, min_samples_leaf=5 ..............\n",
      "[CV]  criterion=entropy, max_depth=3, min_samples_leaf=5, total=   0.0s\n",
      "[CV] criterion=entropy, max_depth=3, min_samples_leaf=5 ..............\n",
      "[CV]  criterion=entropy, max_depth=3, min_samples_leaf=5, total=   0.0s\n",
      "[CV] criterion=entropy, max_depth=3, min_samples_leaf=10 .............\n",
      "[CV]  criterion=entropy, max_depth=3, min_samples_leaf=10, total=   0.0s\n",
      "[CV] criterion=entropy, max_depth=3, min_samples_leaf=10 .............\n",
      "[CV]  criterion=entropy, max_depth=3, min_samples_leaf=10, total=   0.0s\n",
      "[CV] criterion=entropy, max_depth=3, min_samples_leaf=10 .............\n",
      "[CV]  criterion=entropy, max_depth=3, min_samples_leaf=10, total=   0.0s\n",
      "[CV] criterion=entropy, max_depth=3, min_samples_leaf=10 .............\n",
      "[CV]  criterion=entropy, max_depth=3, min_samples_leaf=10, total=   0.0s\n",
      "[CV] criterion=entropy, max_depth=3, min_samples_leaf=10 .............\n",
      "[CV]  criterion=entropy, max_depth=3, min_samples_leaf=10, total=   0.0s\n",
      "[CV] criterion=entropy, max_depth=3, min_samples_leaf=20 .............\n",
      "[CV]  criterion=entropy, max_depth=3, min_samples_leaf=20, total=   0.0s\n",
      "[CV] criterion=entropy, max_depth=3, min_samples_leaf=20 .............\n",
      "[CV]  criterion=entropy, max_depth=3, min_samples_leaf=20, total=   0.0s\n",
      "[CV] criterion=entropy, max_depth=3, min_samples_leaf=20 .............\n",
      "[CV]  criterion=entropy, max_depth=3, min_samples_leaf=20, total=   0.0s\n",
      "[CV] criterion=entropy, max_depth=3, min_samples_leaf=20 .............\n",
      "[CV]  criterion=entropy, max_depth=3, min_samples_leaf=20, total=   0.0s\n",
      "[CV] criterion=entropy, max_depth=3, min_samples_leaf=20 .............\n",
      "[CV]  criterion=entropy, max_depth=3, min_samples_leaf=20, total=   0.0s\n",
      "[CV] criterion=entropy, max_depth=3, min_samples_leaf=50 .............\n",
      "[CV]  criterion=entropy, max_depth=3, min_samples_leaf=50, total=   0.0s\n",
      "[CV] criterion=entropy, max_depth=3, min_samples_leaf=50 .............\n",
      "[CV]  criterion=entropy, max_depth=3, min_samples_leaf=50, total=   0.0s\n",
      "[CV] criterion=entropy, max_depth=3, min_samples_leaf=50 .............\n",
      "[CV]  criterion=entropy, max_depth=3, min_samples_leaf=50, total=   0.0s\n",
      "[CV] criterion=entropy, max_depth=3, min_samples_leaf=50 .............\n",
      "[CV]  criterion=entropy, max_depth=3, min_samples_leaf=50, total=   0.0s\n",
      "[CV] criterion=entropy, max_depth=3, min_samples_leaf=50 .............\n",
      "[CV]  criterion=entropy, max_depth=3, min_samples_leaf=50, total=   0.0s\n",
      "[CV] criterion=entropy, max_depth=3, min_samples_leaf=100 ............\n",
      "[CV]  criterion=entropy, max_depth=3, min_samples_leaf=100, total=   0.0s\n",
      "[CV] criterion=entropy, max_depth=3, min_samples_leaf=100 ............\n",
      "[CV]  criterion=entropy, max_depth=3, min_samples_leaf=100, total=   0.0s\n",
      "[CV] criterion=entropy, max_depth=3, min_samples_leaf=100 ............\n",
      "[CV]  criterion=entropy, max_depth=3, min_samples_leaf=100, total=   0.0s\n",
      "[CV] criterion=entropy, max_depth=3, min_samples_leaf=100 ............\n",
      "[CV]  criterion=entropy, max_depth=3, min_samples_leaf=100, total=   0.0s\n",
      "[CV] criterion=entropy, max_depth=3, min_samples_leaf=100 ............\n",
      "[CV]  criterion=entropy, max_depth=3, min_samples_leaf=100, total=   0.0s\n",
      "[CV] criterion=entropy, max_depth=5, min_samples_leaf=5 ..............\n",
      "[CV]  criterion=entropy, max_depth=5, min_samples_leaf=5, total=   0.0s\n",
      "[CV] criterion=entropy, max_depth=5, min_samples_leaf=5 ..............\n",
      "[CV]  criterion=entropy, max_depth=5, min_samples_leaf=5, total=   0.0s\n",
      "[CV] criterion=entropy, max_depth=5, min_samples_leaf=5 ..............\n",
      "[CV]  criterion=entropy, max_depth=5, min_samples_leaf=5, total=   0.0s\n",
      "[CV] criterion=entropy, max_depth=5, min_samples_leaf=5 ..............\n",
      "[CV]  criterion=entropy, max_depth=5, min_samples_leaf=5, total=   0.0s\n",
      "[CV] criterion=entropy, max_depth=5, min_samples_leaf=5 ..............\n",
      "[CV]  criterion=entropy, max_depth=5, min_samples_leaf=5, total=   0.0s\n",
      "[CV] criterion=entropy, max_depth=5, min_samples_leaf=10 .............\n",
      "[CV]  criterion=entropy, max_depth=5, min_samples_leaf=10, total=   0.0s\n",
      "[CV] criterion=entropy, max_depth=5, min_samples_leaf=10 .............\n",
      "[CV]  criterion=entropy, max_depth=5, min_samples_leaf=10, total=   0.0s\n",
      "[CV] criterion=entropy, max_depth=5, min_samples_leaf=10 .............\n",
      "[CV]  criterion=entropy, max_depth=5, min_samples_leaf=10, total=   0.0s\n",
      "[CV] criterion=entropy, max_depth=5, min_samples_leaf=10 .............\n",
      "[CV]  criterion=entropy, max_depth=5, min_samples_leaf=10, total=   0.0s\n",
      "[CV] criterion=entropy, max_depth=5, min_samples_leaf=10 .............\n",
      "[CV]  criterion=entropy, max_depth=5, min_samples_leaf=10, total=   0.0s\n",
      "[CV] criterion=entropy, max_depth=5, min_samples_leaf=20 .............\n",
      "[CV]  criterion=entropy, max_depth=5, min_samples_leaf=20, total=   0.0s\n",
      "[CV] criterion=entropy, max_depth=5, min_samples_leaf=20 .............\n",
      "[CV]  criterion=entropy, max_depth=5, min_samples_leaf=20, total=   0.0s\n",
      "[CV] criterion=entropy, max_depth=5, min_samples_leaf=20 .............\n",
      "[CV]  criterion=entropy, max_depth=5, min_samples_leaf=20, total=   0.0s\n",
      "[CV] criterion=entropy, max_depth=5, min_samples_leaf=20 .............\n",
      "[CV]  criterion=entropy, max_depth=5, min_samples_leaf=20, total=   0.0s\n",
      "[CV] criterion=entropy, max_depth=5, min_samples_leaf=20 .............\n",
      "[CV]  criterion=entropy, max_depth=5, min_samples_leaf=20, total=   0.0s\n",
      "[CV] criterion=entropy, max_depth=5, min_samples_leaf=50 .............\n",
      "[CV]  criterion=entropy, max_depth=5, min_samples_leaf=50, total=   0.0s\n",
      "[CV] criterion=entropy, max_depth=5, min_samples_leaf=50 .............\n",
      "[CV]  criterion=entropy, max_depth=5, min_samples_leaf=50, total=   0.0s\n",
      "[CV] criterion=entropy, max_depth=5, min_samples_leaf=50 .............\n",
      "[CV]  criterion=entropy, max_depth=5, min_samples_leaf=50, total=   0.0s\n",
      "[CV] criterion=entropy, max_depth=5, min_samples_leaf=50 .............\n",
      "[CV]  criterion=entropy, max_depth=5, min_samples_leaf=50, total=   0.0s\n",
      "[CV] criterion=entropy, max_depth=5, min_samples_leaf=50 .............\n",
      "[CV]  criterion=entropy, max_depth=5, min_samples_leaf=50, total=   0.0s\n",
      "[CV] criterion=entropy, max_depth=5, min_samples_leaf=100 ............\n",
      "[CV]  criterion=entropy, max_depth=5, min_samples_leaf=100, total=   0.0s\n",
      "[CV] criterion=entropy, max_depth=5, min_samples_leaf=100 ............\n",
      "[CV]  criterion=entropy, max_depth=5, min_samples_leaf=100, total=   0.0s\n",
      "[CV] criterion=entropy, max_depth=5, min_samples_leaf=100 ............\n",
      "[CV]  criterion=entropy, max_depth=5, min_samples_leaf=100, total=   0.0s\n",
      "[CV] criterion=entropy, max_depth=5, min_samples_leaf=100 ............\n",
      "[CV]  criterion=entropy, max_depth=5, min_samples_leaf=100, total=   0.0s\n",
      "[CV] criterion=entropy, max_depth=5, min_samples_leaf=100 ............\n",
      "[CV]  criterion=entropy, max_depth=5, min_samples_leaf=100, total=   0.0s\n",
      "[CV] criterion=entropy, max_depth=10, min_samples_leaf=5 .............\n",
      "[CV]  criterion=entropy, max_depth=10, min_samples_leaf=5, total=   0.0s\n",
      "[CV] criterion=entropy, max_depth=10, min_samples_leaf=5 .............\n",
      "[CV]  criterion=entropy, max_depth=10, min_samples_leaf=5, total=   0.0s\n",
      "[CV] criterion=entropy, max_depth=10, min_samples_leaf=5 .............\n",
      "[CV]  criterion=entropy, max_depth=10, min_samples_leaf=5, total=   0.0s\n",
      "[CV] criterion=entropy, max_depth=10, min_samples_leaf=5 .............\n",
      "[CV]  criterion=entropy, max_depth=10, min_samples_leaf=5, total=   0.0s\n",
      "[CV] criterion=entropy, max_depth=10, min_samples_leaf=5 .............\n",
      "[CV]  criterion=entropy, max_depth=10, min_samples_leaf=5, total=   0.0s\n",
      "[CV] criterion=entropy, max_depth=10, min_samples_leaf=10 ............\n",
      "[CV]  criterion=entropy, max_depth=10, min_samples_leaf=10, total=   0.0s\n",
      "[CV] criterion=entropy, max_depth=10, min_samples_leaf=10 ............\n",
      "[CV]  criterion=entropy, max_depth=10, min_samples_leaf=10, total=   0.0s\n",
      "[CV] criterion=entropy, max_depth=10, min_samples_leaf=10 ............\n",
      "[CV]  criterion=entropy, max_depth=10, min_samples_leaf=10, total=   0.0s\n",
      "[CV] criterion=entropy, max_depth=10, min_samples_leaf=10 ............\n",
      "[CV]  criterion=entropy, max_depth=10, min_samples_leaf=10, total=   0.0s\n",
      "[CV] criterion=entropy, max_depth=10, min_samples_leaf=10 ............\n",
      "[CV]  criterion=entropy, max_depth=10, min_samples_leaf=10, total=   0.0s\n",
      "[CV] criterion=entropy, max_depth=10, min_samples_leaf=20 ............\n",
      "[CV]  criterion=entropy, max_depth=10, min_samples_leaf=20, total=   0.0s\n",
      "[CV] criterion=entropy, max_depth=10, min_samples_leaf=20 ............\n",
      "[CV]  criterion=entropy, max_depth=10, min_samples_leaf=20, total=   0.0s\n",
      "[CV] criterion=entropy, max_depth=10, min_samples_leaf=20 ............\n",
      "[CV]  criterion=entropy, max_depth=10, min_samples_leaf=20, total=   0.0s\n",
      "[CV] criterion=entropy, max_depth=10, min_samples_leaf=20 ............\n",
      "[CV]  criterion=entropy, max_depth=10, min_samples_leaf=20, total=   0.0s\n",
      "[CV] criterion=entropy, max_depth=10, min_samples_leaf=20 ............\n",
      "[CV]  criterion=entropy, max_depth=10, min_samples_leaf=20, total=   0.0s\n",
      "[CV] criterion=entropy, max_depth=10, min_samples_leaf=50 ............\n",
      "[CV]  criterion=entropy, max_depth=10, min_samples_leaf=50, total=   0.0s\n",
      "[CV] criterion=entropy, max_depth=10, min_samples_leaf=50 ............\n",
      "[CV]  criterion=entropy, max_depth=10, min_samples_leaf=50, total=   0.0s\n",
      "[CV] criterion=entropy, max_depth=10, min_samples_leaf=50 ............\n",
      "[CV]  criterion=entropy, max_depth=10, min_samples_leaf=50, total=   0.0s\n",
      "[CV] criterion=entropy, max_depth=10, min_samples_leaf=50 ............\n",
      "[CV]  criterion=entropy, max_depth=10, min_samples_leaf=50, total=   0.0s\n",
      "[CV] criterion=entropy, max_depth=10, min_samples_leaf=50 ............\n",
      "[CV]  criterion=entropy, max_depth=10, min_samples_leaf=50, total=   0.0s\n",
      "[CV] criterion=entropy, max_depth=10, min_samples_leaf=100 ...........\n",
      "[CV]  criterion=entropy, max_depth=10, min_samples_leaf=100, total=   0.0s\n",
      "[CV] criterion=entropy, max_depth=10, min_samples_leaf=100 ...........\n",
      "[CV]  criterion=entropy, max_depth=10, min_samples_leaf=100, total=   0.0s\n",
      "[CV] criterion=entropy, max_depth=10, min_samples_leaf=100 ...........\n",
      "[CV]  criterion=entropy, max_depth=10, min_samples_leaf=100, total=   0.0s\n",
      "[CV] criterion=entropy, max_depth=10, min_samples_leaf=100 ...........\n",
      "[CV]  criterion=entropy, max_depth=10, min_samples_leaf=100, total=   0.0s\n",
      "[CV] criterion=entropy, max_depth=10, min_samples_leaf=100 ...........\n",
      "[CV]  criterion=entropy, max_depth=10, min_samples_leaf=100, total=   0.0s\n",
      "[CV] criterion=entropy, max_depth=20, min_samples_leaf=5 .............\n",
      "[CV]  criterion=entropy, max_depth=20, min_samples_leaf=5, total=   0.0s\n",
      "[CV] criterion=entropy, max_depth=20, min_samples_leaf=5 .............\n",
      "[CV]  criterion=entropy, max_depth=20, min_samples_leaf=5, total=   0.0s\n",
      "[CV] criterion=entropy, max_depth=20, min_samples_leaf=5 .............\n",
      "[CV]  criterion=entropy, max_depth=20, min_samples_leaf=5, total=   0.0s\n",
      "[CV] criterion=entropy, max_depth=20, min_samples_leaf=5 .............\n",
      "[CV]  criterion=entropy, max_depth=20, min_samples_leaf=5, total=   0.0s\n",
      "[CV] criterion=entropy, max_depth=20, min_samples_leaf=5 .............\n",
      "[CV]  criterion=entropy, max_depth=20, min_samples_leaf=5, total=   0.0s\n",
      "[CV] criterion=entropy, max_depth=20, min_samples_leaf=10 ............\n",
      "[CV]  criterion=entropy, max_depth=20, min_samples_leaf=10, total=   0.0s\n",
      "[CV] criterion=entropy, max_depth=20, min_samples_leaf=10 ............\n",
      "[CV]  criterion=entropy, max_depth=20, min_samples_leaf=10, total=   0.0s\n",
      "[CV] criterion=entropy, max_depth=20, min_samples_leaf=10 ............\n",
      "[CV]  criterion=entropy, max_depth=20, min_samples_leaf=10, total=   0.0s\n",
      "[CV] criterion=entropy, max_depth=20, min_samples_leaf=10 ............\n",
      "[CV]  criterion=entropy, max_depth=20, min_samples_leaf=10, total=   0.0s\n",
      "[CV] criterion=entropy, max_depth=20, min_samples_leaf=10 ............\n",
      "[CV]  criterion=entropy, max_depth=20, min_samples_leaf=10, total=   0.0s\n",
      "[CV] criterion=entropy, max_depth=20, min_samples_leaf=20 ............\n",
      "[CV]  criterion=entropy, max_depth=20, min_samples_leaf=20, total=   0.0s\n",
      "[CV] criterion=entropy, max_depth=20, min_samples_leaf=20 ............\n",
      "[CV]  criterion=entropy, max_depth=20, min_samples_leaf=20, total=   0.0s\n",
      "[CV] criterion=entropy, max_depth=20, min_samples_leaf=20 ............\n",
      "[CV]  criterion=entropy, max_depth=20, min_samples_leaf=20, total=   0.0s\n",
      "[CV] criterion=entropy, max_depth=20, min_samples_leaf=20 ............\n",
      "[CV]  criterion=entropy, max_depth=20, min_samples_leaf=20, total=   0.0s\n",
      "[CV] criterion=entropy, max_depth=20, min_samples_leaf=20 ............\n",
      "[CV]  criterion=entropy, max_depth=20, min_samples_leaf=20, total=   0.0s\n",
      "[CV] criterion=entropy, max_depth=20, min_samples_leaf=50 ............\n",
      "[CV]  criterion=entropy, max_depth=20, min_samples_leaf=50, total=   0.0s\n",
      "[CV] criterion=entropy, max_depth=20, min_samples_leaf=50 ............\n",
      "[CV]  criterion=entropy, max_depth=20, min_samples_leaf=50, total=   0.0s\n",
      "[CV] criterion=entropy, max_depth=20, min_samples_leaf=50 ............\n",
      "[CV]  criterion=entropy, max_depth=20, min_samples_leaf=50, total=   0.0s\n",
      "[CV] criterion=entropy, max_depth=20, min_samples_leaf=50 ............\n",
      "[CV]  criterion=entropy, max_depth=20, min_samples_leaf=50, total=   0.0s\n",
      "[CV] criterion=entropy, max_depth=20, min_samples_leaf=50 ............\n",
      "[CV]  criterion=entropy, max_depth=20, min_samples_leaf=50, total=   0.0s\n",
      "[CV] criterion=entropy, max_depth=20, min_samples_leaf=100 ...........\n",
      "[CV]  criterion=entropy, max_depth=20, min_samples_leaf=100, total=   0.0s\n",
      "[CV] criterion=entropy, max_depth=20, min_samples_leaf=100 ...........\n",
      "[CV]  criterion=entropy, max_depth=20, min_samples_leaf=100, total=   0.0s\n",
      "[CV] criterion=entropy, max_depth=20, min_samples_leaf=100 ...........\n",
      "[CV]  criterion=entropy, max_depth=20, min_samples_leaf=100, total=   0.0s\n",
      "[CV] criterion=entropy, max_depth=20, min_samples_leaf=100 ...........\n",
      "[CV]  criterion=entropy, max_depth=20, min_samples_leaf=100, total=   0.0s\n",
      "[CV] criterion=entropy, max_depth=20, min_samples_leaf=100 ...........\n",
      "[CV]  criterion=entropy, max_depth=20, min_samples_leaf=100, total=   0.0s\n"
     ]
    },
    {
     "name": "stderr",
     "output_type": "stream",
     "text": [
      "[Parallel(n_jobs=1)]: Done 250 out of 250 | elapsed:    0.5s finished\n"
     ]
    }
   ],
   "source": [
    "param_grid = {\n",
    "    'max_depth': [2, 3, 5, 10, 20],\n",
    "    'min_samples_leaf': [5, 10, 20, 50, 100],\n",
    "    'criterion': [\"gini\", \"entropy\"]\n",
    "}\n",
    "grid = GridSearchCV(tree.DecisionTreeClassifier(),param_grid,refit=True,verbose=2,cv=5)\n",
    "grid.fit(X_train,y_train)\n",
    "classifier_DT = tree.DecisionTreeClassifier(max_depth=2, min_samples_leaf=5).fit(X_train, y_train)\n",
    "y_pred_DT = classifier_DT.predict(X_test)"
   ]
  },
  {
   "cell_type": "code",
   "execution_count": 17,
   "metadata": {},
   "outputs": [],
   "source": [
    "y_pred_prob_DT = classifier_DT.predict_proba(X_test)\n",
    "false_positive_rate_DT, true_positive_rate_DT, thresholds_DT = roc_curve(y_test_DT, y_pred_prob_DT[:,1])"
   ]
  },
  {
   "cell_type": "code",
   "execution_count": 18,
   "metadata": {},
   "outputs": [
    {
     "data": {
      "text/plain": [
       "0.9494514106583072"
      ]
     },
     "execution_count": 18,
     "metadata": {},
     "output_type": "execute_result"
    }
   ],
   "source": [
    "roc_auc_DT = auc(false_positive_rate_DT, true_positive_rate_DT)\n",
    "roc_auc_DT"
   ]
  },
  {
   "cell_type": "code",
   "execution_count": 19,
   "metadata": {},
   "outputs": [],
   "source": [
    "#######\n",
    "#KNN\n",
    "X_train, X_test, y_train, y_test_KNN = train_test_split(X, y, test_size = 0.20, random_state = 0)\n",
    "X_train = StandardScaler().fit_transform(X_train)\n",
    "X_test = StandardScaler().fit_transform(X_test)"
   ]
  },
  {
   "cell_type": "code",
   "execution_count": 20,
   "metadata": {},
   "outputs": [],
   "source": [
    "classifier_KNN = KNeighborsClassifier(n_neighbors=20).fit(X_train, y_train)"
   ]
  },
  {
   "cell_type": "code",
   "execution_count": 21,
   "metadata": {},
   "outputs": [],
   "source": [
    "y_pred_KNN = classifier_KNN.predict(X_test)"
   ]
  },
  {
   "cell_type": "code",
   "execution_count": 22,
   "metadata": {},
   "outputs": [],
   "source": [
    "y_pred_prob_KNN = classifier_KNN.predict_proba(X_test)"
   ]
  },
  {
   "cell_type": "code",
   "execution_count": 23,
   "metadata": {},
   "outputs": [],
   "source": [
    "false_positive_rate_KNN, true_positive_rate_KNN, thresholds_KNN = roc_curve(y_test_KNN, y_pred_prob_KNN[:,1])"
   ]
  },
  {
   "cell_type": "code",
   "execution_count": 24,
   "metadata": {},
   "outputs": [
    {
     "data": {
      "text/plain": [
       "0.9725705329153604"
      ]
     },
     "execution_count": 24,
     "metadata": {},
     "output_type": "execute_result"
    }
   ],
   "source": [
    "roc_auc_KNN = auc(false_positive_rate_KNN, true_positive_rate_KNN)\n",
    "roc_auc_KNN"
   ]
  },
  {
   "cell_type": "code",
   "execution_count": 25,
   "metadata": {},
   "outputs": [],
   "source": [
    "###\n",
    "#REDES NEURONALES\n",
    "X_train, X_test, y_train, y_test_RN = train_test_split(X, y, test_size = 0.20, random_state = 0)\n",
    "X_train = StandardScaler().fit_transform(X_train)\n",
    "X_test = StandardScaler().fit_transform(X_test)"
   ]
  },
  {
   "cell_type": "code",
   "execution_count": 26,
   "metadata": {},
   "outputs": [],
   "source": [
    "classifier_RN = MLPClassifier(hidden_layer_sizes=(10,10,10), max_iter=500, alpha=0.0001,\n",
    "                     solver='adam', random_state=21,tol=0.000000001)"
   ]
  },
  {
   "cell_type": "code",
   "execution_count": 27,
   "metadata": {},
   "outputs": [],
   "source": [
    "#Tuning\n",
    "param_grid = {\n",
    "    'hidden_layer_sizes': [(10,30,10),(20,)],\n",
    "    'activation': ['tanh', 'relu'],\n",
    "    'solver': ['sgd', 'adam'],\n",
    "    'alpha': [0.0001, 0.05],\n",
    "    'learning_rate': ['constant','adaptive'],\n",
    "}"
   ]
  },
  {
   "cell_type": "code",
   "execution_count": 28,
   "metadata": {},
   "outputs": [
    {
     "name": "stdout",
     "output_type": "stream",
     "text": [
      "Fitting 5 folds for each of 32 candidates, totalling 160 fits\n",
      "[CV] activation=tanh, alpha=0.0001, hidden_layer_sizes=(10, 30, 10), learning_rate=constant, solver=sgd \n"
     ]
    },
    {
     "name": "stderr",
     "output_type": "stream",
     "text": [
      "[Parallel(n_jobs=1)]: Using backend SequentialBackend with 1 concurrent workers.\n",
      "C:\\ProgramData\\Anaconda3_delete\\lib\\site-packages\\sklearn\\neural_network\\_multilayer_perceptron.py:582: ConvergenceWarning: Stochastic Optimizer: Maximum iterations (500) reached and the optimization hasn't converged yet.\n",
      "  warnings.warn(\n",
      "[Parallel(n_jobs=1)]: Done   1 out of   1 | elapsed:    2.3s remaining:    0.0s\n"
     ]
    },
    {
     "name": "stdout",
     "output_type": "stream",
     "text": [
      "[CV]  activation=tanh, alpha=0.0001, hidden_layer_sizes=(10, 30, 10), learning_rate=constant, solver=sgd, total=   2.4s\n",
      "[CV] activation=tanh, alpha=0.0001, hidden_layer_sizes=(10, 30, 10), learning_rate=constant, solver=sgd \n"
     ]
    },
    {
     "name": "stderr",
     "output_type": "stream",
     "text": [
      "C:\\ProgramData\\Anaconda3_delete\\lib\\site-packages\\sklearn\\neural_network\\_multilayer_perceptron.py:582: ConvergenceWarning: Stochastic Optimizer: Maximum iterations (500) reached and the optimization hasn't converged yet.\n",
      "  warnings.warn(\n"
     ]
    },
    {
     "name": "stdout",
     "output_type": "stream",
     "text": [
      "[CV]  activation=tanh, alpha=0.0001, hidden_layer_sizes=(10, 30, 10), learning_rate=constant, solver=sgd, total=   0.6s\n",
      "[CV] activation=tanh, alpha=0.0001, hidden_layer_sizes=(10, 30, 10), learning_rate=constant, solver=sgd \n"
     ]
    },
    {
     "name": "stderr",
     "output_type": "stream",
     "text": [
      "C:\\ProgramData\\Anaconda3_delete\\lib\\site-packages\\sklearn\\neural_network\\_multilayer_perceptron.py:582: ConvergenceWarning: Stochastic Optimizer: Maximum iterations (500) reached and the optimization hasn't converged yet.\n",
      "  warnings.warn(\n"
     ]
    },
    {
     "name": "stdout",
     "output_type": "stream",
     "text": [
      "[CV]  activation=tanh, alpha=0.0001, hidden_layer_sizes=(10, 30, 10), learning_rate=constant, solver=sgd, total=   0.6s\n",
      "[CV] activation=tanh, alpha=0.0001, hidden_layer_sizes=(10, 30, 10), learning_rate=constant, solver=sgd \n"
     ]
    },
    {
     "name": "stderr",
     "output_type": "stream",
     "text": [
      "C:\\ProgramData\\Anaconda3_delete\\lib\\site-packages\\sklearn\\neural_network\\_multilayer_perceptron.py:582: ConvergenceWarning: Stochastic Optimizer: Maximum iterations (500) reached and the optimization hasn't converged yet.\n",
      "  warnings.warn(\n"
     ]
    },
    {
     "name": "stdout",
     "output_type": "stream",
     "text": [
      "[CV]  activation=tanh, alpha=0.0001, hidden_layer_sizes=(10, 30, 10), learning_rate=constant, solver=sgd, total=   0.6s\n",
      "[CV] activation=tanh, alpha=0.0001, hidden_layer_sizes=(10, 30, 10), learning_rate=constant, solver=sgd \n"
     ]
    },
    {
     "name": "stderr",
     "output_type": "stream",
     "text": [
      "C:\\ProgramData\\Anaconda3_delete\\lib\\site-packages\\sklearn\\neural_network\\_multilayer_perceptron.py:582: ConvergenceWarning: Stochastic Optimizer: Maximum iterations (500) reached and the optimization hasn't converged yet.\n",
      "  warnings.warn(\n"
     ]
    },
    {
     "name": "stdout",
     "output_type": "stream",
     "text": [
      "[CV]  activation=tanh, alpha=0.0001, hidden_layer_sizes=(10, 30, 10), learning_rate=constant, solver=sgd, total=   0.6s\n",
      "[CV] activation=tanh, alpha=0.0001, hidden_layer_sizes=(10, 30, 10), learning_rate=constant, solver=adam \n",
      "[CV]  activation=tanh, alpha=0.0001, hidden_layer_sizes=(10, 30, 10), learning_rate=constant, solver=adam, total=   0.6s\n",
      "[CV] activation=tanh, alpha=0.0001, hidden_layer_sizes=(10, 30, 10), learning_rate=constant, solver=adam \n",
      "[CV]  activation=tanh, alpha=0.0001, hidden_layer_sizes=(10, 30, 10), learning_rate=constant, solver=adam, total=   0.4s\n",
      "[CV] activation=tanh, alpha=0.0001, hidden_layer_sizes=(10, 30, 10), learning_rate=constant, solver=adam \n",
      "[CV]  activation=tanh, alpha=0.0001, hidden_layer_sizes=(10, 30, 10), learning_rate=constant, solver=adam, total=   0.5s\n",
      "[CV] activation=tanh, alpha=0.0001, hidden_layer_sizes=(10, 30, 10), learning_rate=constant, solver=adam \n",
      "[CV]  activation=tanh, alpha=0.0001, hidden_layer_sizes=(10, 30, 10), learning_rate=constant, solver=adam, total=   0.5s\n",
      "[CV] activation=tanh, alpha=0.0001, hidden_layer_sizes=(10, 30, 10), learning_rate=constant, solver=adam \n",
      "[CV]  activation=tanh, alpha=0.0001, hidden_layer_sizes=(10, 30, 10), learning_rate=constant, solver=adam, total=   0.5s\n",
      "[CV] activation=tanh, alpha=0.0001, hidden_layer_sizes=(10, 30, 10), learning_rate=adaptive, solver=sgd \n"
     ]
    },
    {
     "name": "stderr",
     "output_type": "stream",
     "text": [
      "C:\\ProgramData\\Anaconda3_delete\\lib\\site-packages\\sklearn\\neural_network\\_multilayer_perceptron.py:582: ConvergenceWarning: Stochastic Optimizer: Maximum iterations (500) reached and the optimization hasn't converged yet.\n",
      "  warnings.warn(\n"
     ]
    },
    {
     "name": "stdout",
     "output_type": "stream",
     "text": [
      "[CV]  activation=tanh, alpha=0.0001, hidden_layer_sizes=(10, 30, 10), learning_rate=adaptive, solver=sgd, total=   0.6s\n",
      "[CV] activation=tanh, alpha=0.0001, hidden_layer_sizes=(10, 30, 10), learning_rate=adaptive, solver=sgd \n"
     ]
    },
    {
     "name": "stderr",
     "output_type": "stream",
     "text": [
      "C:\\ProgramData\\Anaconda3_delete\\lib\\site-packages\\sklearn\\neural_network\\_multilayer_perceptron.py:582: ConvergenceWarning: Stochastic Optimizer: Maximum iterations (500) reached and the optimization hasn't converged yet.\n",
      "  warnings.warn(\n"
     ]
    },
    {
     "name": "stdout",
     "output_type": "stream",
     "text": [
      "[CV]  activation=tanh, alpha=0.0001, hidden_layer_sizes=(10, 30, 10), learning_rate=adaptive, solver=sgd, total=   0.6s\n",
      "[CV] activation=tanh, alpha=0.0001, hidden_layer_sizes=(10, 30, 10), learning_rate=adaptive, solver=sgd \n"
     ]
    },
    {
     "name": "stderr",
     "output_type": "stream",
     "text": [
      "C:\\ProgramData\\Anaconda3_delete\\lib\\site-packages\\sklearn\\neural_network\\_multilayer_perceptron.py:582: ConvergenceWarning: Stochastic Optimizer: Maximum iterations (500) reached and the optimization hasn't converged yet.\n",
      "  warnings.warn(\n"
     ]
    },
    {
     "name": "stdout",
     "output_type": "stream",
     "text": [
      "[CV]  activation=tanh, alpha=0.0001, hidden_layer_sizes=(10, 30, 10), learning_rate=adaptive, solver=sgd, total=   0.6s\n",
      "[CV] activation=tanh, alpha=0.0001, hidden_layer_sizes=(10, 30, 10), learning_rate=adaptive, solver=sgd \n"
     ]
    },
    {
     "name": "stderr",
     "output_type": "stream",
     "text": [
      "C:\\ProgramData\\Anaconda3_delete\\lib\\site-packages\\sklearn\\neural_network\\_multilayer_perceptron.py:582: ConvergenceWarning: Stochastic Optimizer: Maximum iterations (500) reached and the optimization hasn't converged yet.\n",
      "  warnings.warn(\n"
     ]
    },
    {
     "name": "stdout",
     "output_type": "stream",
     "text": [
      "[CV]  activation=tanh, alpha=0.0001, hidden_layer_sizes=(10, 30, 10), learning_rate=adaptive, solver=sgd, total=   0.6s\n",
      "[CV] activation=tanh, alpha=0.0001, hidden_layer_sizes=(10, 30, 10), learning_rate=adaptive, solver=sgd \n"
     ]
    },
    {
     "name": "stderr",
     "output_type": "stream",
     "text": [
      "C:\\ProgramData\\Anaconda3_delete\\lib\\site-packages\\sklearn\\neural_network\\_multilayer_perceptron.py:582: ConvergenceWarning: Stochastic Optimizer: Maximum iterations (500) reached and the optimization hasn't converged yet.\n",
      "  warnings.warn(\n"
     ]
    },
    {
     "name": "stdout",
     "output_type": "stream",
     "text": [
      "[CV]  activation=tanh, alpha=0.0001, hidden_layer_sizes=(10, 30, 10), learning_rate=adaptive, solver=sgd, total=   0.6s\n",
      "[CV] activation=tanh, alpha=0.0001, hidden_layer_sizes=(10, 30, 10), learning_rate=adaptive, solver=adam \n",
      "[CV]  activation=tanh, alpha=0.0001, hidden_layer_sizes=(10, 30, 10), learning_rate=adaptive, solver=adam, total=   0.3s\n",
      "[CV] activation=tanh, alpha=0.0001, hidden_layer_sizes=(10, 30, 10), learning_rate=adaptive, solver=adam \n",
      "[CV]  activation=tanh, alpha=0.0001, hidden_layer_sizes=(10, 30, 10), learning_rate=adaptive, solver=adam, total=   0.4s\n",
      "[CV] activation=tanh, alpha=0.0001, hidden_layer_sizes=(10, 30, 10), learning_rate=adaptive, solver=adam \n",
      "[CV]  activation=tanh, alpha=0.0001, hidden_layer_sizes=(10, 30, 10), learning_rate=adaptive, solver=adam, total=   0.4s\n",
      "[CV] activation=tanh, alpha=0.0001, hidden_layer_sizes=(10, 30, 10), learning_rate=adaptive, solver=adam \n",
      "[CV]  activation=tanh, alpha=0.0001, hidden_layer_sizes=(10, 30, 10), learning_rate=adaptive, solver=adam, total=   0.4s\n",
      "[CV] activation=tanh, alpha=0.0001, hidden_layer_sizes=(10, 30, 10), learning_rate=adaptive, solver=adam \n",
      "[CV]  activation=tanh, alpha=0.0001, hidden_layer_sizes=(10, 30, 10), learning_rate=adaptive, solver=adam, total=   0.4s\n",
      "[CV] activation=tanh, alpha=0.0001, hidden_layer_sizes=(20,), learning_rate=constant, solver=sgd \n",
      "[CV]  activation=tanh, alpha=0.0001, hidden_layer_sizes=(20,), learning_rate=constant, solver=sgd, total=   0.3s\n",
      "[CV] activation=tanh, alpha=0.0001, hidden_layer_sizes=(20,), learning_rate=constant, solver=sgd \n",
      "[CV]  activation=tanh, alpha=0.0001, hidden_layer_sizes=(20,), learning_rate=constant, solver=sgd, total=   0.3s\n",
      "[CV] activation=tanh, alpha=0.0001, hidden_layer_sizes=(20,), learning_rate=constant, solver=sgd \n",
      "[CV]  activation=tanh, alpha=0.0001, hidden_layer_sizes=(20,), learning_rate=constant, solver=sgd, total=   0.2s\n",
      "[CV] activation=tanh, alpha=0.0001, hidden_layer_sizes=(20,), learning_rate=constant, solver=sgd \n",
      "[CV]  activation=tanh, alpha=0.0001, hidden_layer_sizes=(20,), learning_rate=constant, solver=sgd, total=   0.4s\n",
      "[CV] activation=tanh, alpha=0.0001, hidden_layer_sizes=(20,), learning_rate=constant, solver=sgd \n",
      "[CV]  activation=tanh, alpha=0.0001, hidden_layer_sizes=(20,), learning_rate=constant, solver=sgd, total=   0.2s\n",
      "[CV] activation=tanh, alpha=0.0001, hidden_layer_sizes=(20,), learning_rate=constant, solver=adam \n"
     ]
    },
    {
     "name": "stderr",
     "output_type": "stream",
     "text": [
      "C:\\ProgramData\\Anaconda3_delete\\lib\\site-packages\\sklearn\\neural_network\\_multilayer_perceptron.py:582: ConvergenceWarning: Stochastic Optimizer: Maximum iterations (500) reached and the optimization hasn't converged yet.\n",
      "  warnings.warn(\n"
     ]
    },
    {
     "name": "stdout",
     "output_type": "stream",
     "text": [
      "[CV]  activation=tanh, alpha=0.0001, hidden_layer_sizes=(20,), learning_rate=constant, solver=adam, total=   0.3s\n",
      "[CV] activation=tanh, alpha=0.0001, hidden_layer_sizes=(20,), learning_rate=constant, solver=adam \n"
     ]
    },
    {
     "name": "stderr",
     "output_type": "stream",
     "text": [
      "C:\\ProgramData\\Anaconda3_delete\\lib\\site-packages\\sklearn\\neural_network\\_multilayer_perceptron.py:582: ConvergenceWarning: Stochastic Optimizer: Maximum iterations (500) reached and the optimization hasn't converged yet.\n",
      "  warnings.warn(\n"
     ]
    },
    {
     "name": "stdout",
     "output_type": "stream",
     "text": [
      "[CV]  activation=tanh, alpha=0.0001, hidden_layer_sizes=(20,), learning_rate=constant, solver=adam, total=   0.4s\n",
      "[CV] activation=tanh, alpha=0.0001, hidden_layer_sizes=(20,), learning_rate=constant, solver=adam \n"
     ]
    },
    {
     "name": "stderr",
     "output_type": "stream",
     "text": [
      "C:\\ProgramData\\Anaconda3_delete\\lib\\site-packages\\sklearn\\neural_network\\_multilayer_perceptron.py:582: ConvergenceWarning: Stochastic Optimizer: Maximum iterations (500) reached and the optimization hasn't converged yet.\n",
      "  warnings.warn(\n"
     ]
    },
    {
     "name": "stdout",
     "output_type": "stream",
     "text": [
      "[CV]  activation=tanh, alpha=0.0001, hidden_layer_sizes=(20,), learning_rate=constant, solver=adam, total=   0.4s\n",
      "[CV] activation=tanh, alpha=0.0001, hidden_layer_sizes=(20,), learning_rate=constant, solver=adam \n"
     ]
    },
    {
     "name": "stderr",
     "output_type": "stream",
     "text": [
      "C:\\ProgramData\\Anaconda3_delete\\lib\\site-packages\\sklearn\\neural_network\\_multilayer_perceptron.py:582: ConvergenceWarning: Stochastic Optimizer: Maximum iterations (500) reached and the optimization hasn't converged yet.\n",
      "  warnings.warn(\n"
     ]
    },
    {
     "name": "stdout",
     "output_type": "stream",
     "text": [
      "[CV]  activation=tanh, alpha=0.0001, hidden_layer_sizes=(20,), learning_rate=constant, solver=adam, total=   0.4s\n",
      "[CV] activation=tanh, alpha=0.0001, hidden_layer_sizes=(20,), learning_rate=constant, solver=adam \n"
     ]
    },
    {
     "name": "stderr",
     "output_type": "stream",
     "text": [
      "C:\\ProgramData\\Anaconda3_delete\\lib\\site-packages\\sklearn\\neural_network\\_multilayer_perceptron.py:582: ConvergenceWarning: Stochastic Optimizer: Maximum iterations (500) reached and the optimization hasn't converged yet.\n",
      "  warnings.warn(\n"
     ]
    },
    {
     "name": "stdout",
     "output_type": "stream",
     "text": [
      "[CV]  activation=tanh, alpha=0.0001, hidden_layer_sizes=(20,), learning_rate=constant, solver=adam, total=   0.4s\n",
      "[CV] activation=tanh, alpha=0.0001, hidden_layer_sizes=(20,), learning_rate=adaptive, solver=sgd \n",
      "[CV]  activation=tanh, alpha=0.0001, hidden_layer_sizes=(20,), learning_rate=adaptive, solver=sgd, total=   0.3s\n",
      "[CV] activation=tanh, alpha=0.0001, hidden_layer_sizes=(20,), learning_rate=adaptive, solver=sgd \n",
      "[CV]  activation=tanh, alpha=0.0001, hidden_layer_sizes=(20,), learning_rate=adaptive, solver=sgd, total=   0.3s\n",
      "[CV] activation=tanh, alpha=0.0001, hidden_layer_sizes=(20,), learning_rate=adaptive, solver=sgd \n",
      "[CV]  activation=tanh, alpha=0.0001, hidden_layer_sizes=(20,), learning_rate=adaptive, solver=sgd, total=   0.3s\n",
      "[CV] activation=tanh, alpha=0.0001, hidden_layer_sizes=(20,), learning_rate=adaptive, solver=sgd \n",
      "[CV]  activation=tanh, alpha=0.0001, hidden_layer_sizes=(20,), learning_rate=adaptive, solver=sgd, total=   0.2s\n",
      "[CV] activation=tanh, alpha=0.0001, hidden_layer_sizes=(20,), learning_rate=adaptive, solver=sgd \n",
      "[CV]  activation=tanh, alpha=0.0001, hidden_layer_sizes=(20,), learning_rate=adaptive, solver=sgd, total=   0.2s\n",
      "[CV] activation=tanh, alpha=0.0001, hidden_layer_sizes=(20,), learning_rate=adaptive, solver=adam \n"
     ]
    },
    {
     "name": "stderr",
     "output_type": "stream",
     "text": [
      "C:\\ProgramData\\Anaconda3_delete\\lib\\site-packages\\sklearn\\neural_network\\_multilayer_perceptron.py:582: ConvergenceWarning: Stochastic Optimizer: Maximum iterations (500) reached and the optimization hasn't converged yet.\n",
      "  warnings.warn(\n"
     ]
    },
    {
     "name": "stdout",
     "output_type": "stream",
     "text": [
      "[CV]  activation=tanh, alpha=0.0001, hidden_layer_sizes=(20,), learning_rate=adaptive, solver=adam, total=   0.3s\n",
      "[CV] activation=tanh, alpha=0.0001, hidden_layer_sizes=(20,), learning_rate=adaptive, solver=adam \n"
     ]
    },
    {
     "name": "stderr",
     "output_type": "stream",
     "text": [
      "C:\\ProgramData\\Anaconda3_delete\\lib\\site-packages\\sklearn\\neural_network\\_multilayer_perceptron.py:582: ConvergenceWarning: Stochastic Optimizer: Maximum iterations (500) reached and the optimization hasn't converged yet.\n",
      "  warnings.warn(\n"
     ]
    },
    {
     "name": "stdout",
     "output_type": "stream",
     "text": [
      "[CV]  activation=tanh, alpha=0.0001, hidden_layer_sizes=(20,), learning_rate=adaptive, solver=adam, total=   0.4s\n",
      "[CV] activation=tanh, alpha=0.0001, hidden_layer_sizes=(20,), learning_rate=adaptive, solver=adam \n"
     ]
    },
    {
     "name": "stderr",
     "output_type": "stream",
     "text": [
      "C:\\ProgramData\\Anaconda3_delete\\lib\\site-packages\\sklearn\\neural_network\\_multilayer_perceptron.py:582: ConvergenceWarning: Stochastic Optimizer: Maximum iterations (500) reached and the optimization hasn't converged yet.\n",
      "  warnings.warn(\n"
     ]
    },
    {
     "name": "stdout",
     "output_type": "stream",
     "text": [
      "[CV]  activation=tanh, alpha=0.0001, hidden_layer_sizes=(20,), learning_rate=adaptive, solver=adam, total=   0.4s\n",
      "[CV] activation=tanh, alpha=0.0001, hidden_layer_sizes=(20,), learning_rate=adaptive, solver=adam \n"
     ]
    },
    {
     "name": "stderr",
     "output_type": "stream",
     "text": [
      "C:\\ProgramData\\Anaconda3_delete\\lib\\site-packages\\sklearn\\neural_network\\_multilayer_perceptron.py:582: ConvergenceWarning: Stochastic Optimizer: Maximum iterations (500) reached and the optimization hasn't converged yet.\n",
      "  warnings.warn(\n"
     ]
    },
    {
     "name": "stdout",
     "output_type": "stream",
     "text": [
      "[CV]  activation=tanh, alpha=0.0001, hidden_layer_sizes=(20,), learning_rate=adaptive, solver=adam, total=   0.4s\n",
      "[CV] activation=tanh, alpha=0.0001, hidden_layer_sizes=(20,), learning_rate=adaptive, solver=adam \n"
     ]
    },
    {
     "name": "stderr",
     "output_type": "stream",
     "text": [
      "C:\\ProgramData\\Anaconda3_delete\\lib\\site-packages\\sklearn\\neural_network\\_multilayer_perceptron.py:582: ConvergenceWarning: Stochastic Optimizer: Maximum iterations (500) reached and the optimization hasn't converged yet.\n",
      "  warnings.warn(\n"
     ]
    },
    {
     "name": "stdout",
     "output_type": "stream",
     "text": [
      "[CV]  activation=tanh, alpha=0.0001, hidden_layer_sizes=(20,), learning_rate=adaptive, solver=adam, total=   0.4s\n",
      "[CV] activation=tanh, alpha=0.05, hidden_layer_sizes=(10, 30, 10), learning_rate=constant, solver=sgd \n"
     ]
    },
    {
     "name": "stderr",
     "output_type": "stream",
     "text": [
      "C:\\ProgramData\\Anaconda3_delete\\lib\\site-packages\\sklearn\\neural_network\\_multilayer_perceptron.py:582: ConvergenceWarning: Stochastic Optimizer: Maximum iterations (500) reached and the optimization hasn't converged yet.\n",
      "  warnings.warn(\n"
     ]
    },
    {
     "name": "stdout",
     "output_type": "stream",
     "text": [
      "[CV]  activation=tanh, alpha=0.05, hidden_layer_sizes=(10, 30, 10), learning_rate=constant, solver=sgd, total=   0.6s\n",
      "[CV] activation=tanh, alpha=0.05, hidden_layer_sizes=(10, 30, 10), learning_rate=constant, solver=sgd \n"
     ]
    },
    {
     "name": "stderr",
     "output_type": "stream",
     "text": [
      "C:\\ProgramData\\Anaconda3_delete\\lib\\site-packages\\sklearn\\neural_network\\_multilayer_perceptron.py:582: ConvergenceWarning: Stochastic Optimizer: Maximum iterations (500) reached and the optimization hasn't converged yet.\n",
      "  warnings.warn(\n"
     ]
    },
    {
     "name": "stdout",
     "output_type": "stream",
     "text": [
      "[CV]  activation=tanh, alpha=0.05, hidden_layer_sizes=(10, 30, 10), learning_rate=constant, solver=sgd, total=   0.6s\n",
      "[CV] activation=tanh, alpha=0.05, hidden_layer_sizes=(10, 30, 10), learning_rate=constant, solver=sgd \n",
      "[CV]  activation=tanh, alpha=0.05, hidden_layer_sizes=(10, 30, 10), learning_rate=constant, solver=sgd, total=   0.4s\n",
      "[CV] activation=tanh, alpha=0.05, hidden_layer_sizes=(10, 30, 10), learning_rate=constant, solver=sgd \n"
     ]
    },
    {
     "name": "stderr",
     "output_type": "stream",
     "text": [
      "C:\\ProgramData\\Anaconda3_delete\\lib\\site-packages\\sklearn\\neural_network\\_multilayer_perceptron.py:582: ConvergenceWarning: Stochastic Optimizer: Maximum iterations (500) reached and the optimization hasn't converged yet.\n",
      "  warnings.warn(\n"
     ]
    },
    {
     "name": "stdout",
     "output_type": "stream",
     "text": [
      "[CV]  activation=tanh, alpha=0.05, hidden_layer_sizes=(10, 30, 10), learning_rate=constant, solver=sgd, total=   0.6s\n",
      "[CV] activation=tanh, alpha=0.05, hidden_layer_sizes=(10, 30, 10), learning_rate=constant, solver=sgd \n"
     ]
    },
    {
     "name": "stderr",
     "output_type": "stream",
     "text": [
      "C:\\ProgramData\\Anaconda3_delete\\lib\\site-packages\\sklearn\\neural_network\\_multilayer_perceptron.py:582: ConvergenceWarning: Stochastic Optimizer: Maximum iterations (500) reached and the optimization hasn't converged yet.\n",
      "  warnings.warn(\n"
     ]
    },
    {
     "name": "stdout",
     "output_type": "stream",
     "text": [
      "[CV]  activation=tanh, alpha=0.05, hidden_layer_sizes=(10, 30, 10), learning_rate=constant, solver=sgd, total=   0.6s\n",
      "[CV] activation=tanh, alpha=0.05, hidden_layer_sizes=(10, 30, 10), learning_rate=constant, solver=adam \n",
      "[CV]  activation=tanh, alpha=0.05, hidden_layer_sizes=(10, 30, 10), learning_rate=constant, solver=adam, total=   0.5s\n",
      "[CV] activation=tanh, alpha=0.05, hidden_layer_sizes=(10, 30, 10), learning_rate=constant, solver=adam \n",
      "[CV]  activation=tanh, alpha=0.05, hidden_layer_sizes=(10, 30, 10), learning_rate=constant, solver=adam, total=   0.4s\n",
      "[CV] activation=tanh, alpha=0.05, hidden_layer_sizes=(10, 30, 10), learning_rate=constant, solver=adam \n",
      "[CV]  activation=tanh, alpha=0.05, hidden_layer_sizes=(10, 30, 10), learning_rate=constant, solver=adam, total=   0.4s\n",
      "[CV] activation=tanh, alpha=0.05, hidden_layer_sizes=(10, 30, 10), learning_rate=constant, solver=adam \n",
      "[CV]  activation=tanh, alpha=0.05, hidden_layer_sizes=(10, 30, 10), learning_rate=constant, solver=adam, total=   0.6s\n",
      "[CV] activation=tanh, alpha=0.05, hidden_layer_sizes=(10, 30, 10), learning_rate=constant, solver=adam \n",
      "[CV]  activation=tanh, alpha=0.05, hidden_layer_sizes=(10, 30, 10), learning_rate=constant, solver=adam, total=   0.4s\n",
      "[CV] activation=tanh, alpha=0.05, hidden_layer_sizes=(10, 30, 10), learning_rate=adaptive, solver=sgd \n"
     ]
    },
    {
     "name": "stderr",
     "output_type": "stream",
     "text": [
      "C:\\ProgramData\\Anaconda3_delete\\lib\\site-packages\\sklearn\\neural_network\\_multilayer_perceptron.py:582: ConvergenceWarning: Stochastic Optimizer: Maximum iterations (500) reached and the optimization hasn't converged yet.\n",
      "  warnings.warn(\n"
     ]
    },
    {
     "name": "stdout",
     "output_type": "stream",
     "text": [
      "[CV]  activation=tanh, alpha=0.05, hidden_layer_sizes=(10, 30, 10), learning_rate=adaptive, solver=sgd, total=   0.6s\n",
      "[CV] activation=tanh, alpha=0.05, hidden_layer_sizes=(10, 30, 10), learning_rate=adaptive, solver=sgd \n"
     ]
    },
    {
     "name": "stderr",
     "output_type": "stream",
     "text": [
      "C:\\ProgramData\\Anaconda3_delete\\lib\\site-packages\\sklearn\\neural_network\\_multilayer_perceptron.py:582: ConvergenceWarning: Stochastic Optimizer: Maximum iterations (500) reached and the optimization hasn't converged yet.\n",
      "  warnings.warn(\n"
     ]
    },
    {
     "name": "stdout",
     "output_type": "stream",
     "text": [
      "[CV]  activation=tanh, alpha=0.05, hidden_layer_sizes=(10, 30, 10), learning_rate=adaptive, solver=sgd, total=   0.6s\n",
      "[CV] activation=tanh, alpha=0.05, hidden_layer_sizes=(10, 30, 10), learning_rate=adaptive, solver=sgd \n",
      "[CV]  activation=tanh, alpha=0.05, hidden_layer_sizes=(10, 30, 10), learning_rate=adaptive, solver=sgd, total=   0.4s\n",
      "[CV] activation=tanh, alpha=0.05, hidden_layer_sizes=(10, 30, 10), learning_rate=adaptive, solver=sgd \n",
      "[CV]  activation=tanh, alpha=0.05, hidden_layer_sizes=(10, 30, 10), learning_rate=adaptive, solver=sgd, total=   0.4s\n",
      "[CV] activation=tanh, alpha=0.05, hidden_layer_sizes=(10, 30, 10), learning_rate=adaptive, solver=sgd \n"
     ]
    },
    {
     "name": "stderr",
     "output_type": "stream",
     "text": [
      "C:\\ProgramData\\Anaconda3_delete\\lib\\site-packages\\sklearn\\neural_network\\_multilayer_perceptron.py:582: ConvergenceWarning: Stochastic Optimizer: Maximum iterations (500) reached and the optimization hasn't converged yet.\n",
      "  warnings.warn(\n"
     ]
    },
    {
     "name": "stdout",
     "output_type": "stream",
     "text": [
      "[CV]  activation=tanh, alpha=0.05, hidden_layer_sizes=(10, 30, 10), learning_rate=adaptive, solver=sgd, total=   0.9s\n",
      "[CV] activation=tanh, alpha=0.05, hidden_layer_sizes=(10, 30, 10), learning_rate=adaptive, solver=adam \n",
      "[CV]  activation=tanh, alpha=0.05, hidden_layer_sizes=(10, 30, 10), learning_rate=adaptive, solver=adam, total=   0.7s\n",
      "[CV] activation=tanh, alpha=0.05, hidden_layer_sizes=(10, 30, 10), learning_rate=adaptive, solver=adam \n",
      "[CV]  activation=tanh, alpha=0.05, hidden_layer_sizes=(10, 30, 10), learning_rate=adaptive, solver=adam, total=   0.3s\n",
      "[CV] activation=tanh, alpha=0.05, hidden_layer_sizes=(10, 30, 10), learning_rate=adaptive, solver=adam \n",
      "[CV]  activation=tanh, alpha=0.05, hidden_layer_sizes=(10, 30, 10), learning_rate=adaptive, solver=adam, total=   0.6s\n",
      "[CV] activation=tanh, alpha=0.05, hidden_layer_sizes=(10, 30, 10), learning_rate=adaptive, solver=adam \n",
      "[CV]  activation=tanh, alpha=0.05, hidden_layer_sizes=(10, 30, 10), learning_rate=adaptive, solver=adam, total=   0.5s\n",
      "[CV] activation=tanh, alpha=0.05, hidden_layer_sizes=(10, 30, 10), learning_rate=adaptive, solver=adam \n",
      "[CV]  activation=tanh, alpha=0.05, hidden_layer_sizes=(10, 30, 10), learning_rate=adaptive, solver=adam, total=   0.5s\n",
      "[CV] activation=tanh, alpha=0.05, hidden_layer_sizes=(20,), learning_rate=constant, solver=sgd \n",
      "[CV]  activation=tanh, alpha=0.05, hidden_layer_sizes=(20,), learning_rate=constant, solver=sgd, total=   0.2s\n",
      "[CV] activation=tanh, alpha=0.05, hidden_layer_sizes=(20,), learning_rate=constant, solver=sgd \n",
      "[CV]  activation=tanh, alpha=0.05, hidden_layer_sizes=(20,), learning_rate=constant, solver=sgd, total=   0.3s\n",
      "[CV] activation=tanh, alpha=0.05, hidden_layer_sizes=(20,), learning_rate=constant, solver=sgd \n",
      "[CV]  activation=tanh, alpha=0.05, hidden_layer_sizes=(20,), learning_rate=constant, solver=sgd, total=   0.2s\n",
      "[CV] activation=tanh, alpha=0.05, hidden_layer_sizes=(20,), learning_rate=constant, solver=sgd \n",
      "[CV]  activation=tanh, alpha=0.05, hidden_layer_sizes=(20,), learning_rate=constant, solver=sgd, total=   0.3s\n",
      "[CV] activation=tanh, alpha=0.05, hidden_layer_sizes=(20,), learning_rate=constant, solver=sgd \n",
      "[CV]  activation=tanh, alpha=0.05, hidden_layer_sizes=(20,), learning_rate=constant, solver=sgd, total=   0.2s\n",
      "[CV] activation=tanh, alpha=0.05, hidden_layer_sizes=(20,), learning_rate=constant, solver=adam \n",
      "[CV]  activation=tanh, alpha=0.05, hidden_layer_sizes=(20,), learning_rate=constant, solver=adam, total=   0.1s\n",
      "[CV] activation=tanh, alpha=0.05, hidden_layer_sizes=(20,), learning_rate=constant, solver=adam \n"
     ]
    },
    {
     "name": "stderr",
     "output_type": "stream",
     "text": [
      "C:\\ProgramData\\Anaconda3_delete\\lib\\site-packages\\sklearn\\neural_network\\_multilayer_perceptron.py:582: ConvergenceWarning: Stochastic Optimizer: Maximum iterations (500) reached and the optimization hasn't converged yet.\n",
      "  warnings.warn(\n"
     ]
    },
    {
     "name": "stdout",
     "output_type": "stream",
     "text": [
      "[CV]  activation=tanh, alpha=0.05, hidden_layer_sizes=(20,), learning_rate=constant, solver=adam, total=   0.4s\n",
      "[CV] activation=tanh, alpha=0.05, hidden_layer_sizes=(20,), learning_rate=constant, solver=adam \n"
     ]
    },
    {
     "name": "stderr",
     "output_type": "stream",
     "text": [
      "C:\\ProgramData\\Anaconda3_delete\\lib\\site-packages\\sklearn\\neural_network\\_multilayer_perceptron.py:582: ConvergenceWarning: Stochastic Optimizer: Maximum iterations (500) reached and the optimization hasn't converged yet.\n",
      "  warnings.warn(\n"
     ]
    },
    {
     "name": "stdout",
     "output_type": "stream",
     "text": [
      "[CV]  activation=tanh, alpha=0.05, hidden_layer_sizes=(20,), learning_rate=constant, solver=adam, total=   0.4s\n",
      "[CV] activation=tanh, alpha=0.05, hidden_layer_sizes=(20,), learning_rate=constant, solver=adam \n"
     ]
    },
    {
     "name": "stderr",
     "output_type": "stream",
     "text": [
      "C:\\ProgramData\\Anaconda3_delete\\lib\\site-packages\\sklearn\\neural_network\\_multilayer_perceptron.py:582: ConvergenceWarning: Stochastic Optimizer: Maximum iterations (500) reached and the optimization hasn't converged yet.\n",
      "  warnings.warn(\n"
     ]
    },
    {
     "name": "stdout",
     "output_type": "stream",
     "text": [
      "[CV]  activation=tanh, alpha=0.05, hidden_layer_sizes=(20,), learning_rate=constant, solver=adam, total=   0.3s\n",
      "[CV] activation=tanh, alpha=0.05, hidden_layer_sizes=(20,), learning_rate=constant, solver=adam \n"
     ]
    },
    {
     "name": "stderr",
     "output_type": "stream",
     "text": [
      "C:\\ProgramData\\Anaconda3_delete\\lib\\site-packages\\sklearn\\neural_network\\_multilayer_perceptron.py:582: ConvergenceWarning: Stochastic Optimizer: Maximum iterations (500) reached and the optimization hasn't converged yet.\n",
      "  warnings.warn(\n"
     ]
    },
    {
     "name": "stdout",
     "output_type": "stream",
     "text": [
      "[CV]  activation=tanh, alpha=0.05, hidden_layer_sizes=(20,), learning_rate=constant, solver=adam, total=   0.4s\n",
      "[CV] activation=tanh, alpha=0.05, hidden_layer_sizes=(20,), learning_rate=adaptive, solver=sgd \n",
      "[CV]  activation=tanh, alpha=0.05, hidden_layer_sizes=(20,), learning_rate=adaptive, solver=sgd, total=   0.3s\n",
      "[CV] activation=tanh, alpha=0.05, hidden_layer_sizes=(20,), learning_rate=adaptive, solver=sgd \n",
      "[CV]  activation=tanh, alpha=0.05, hidden_layer_sizes=(20,), learning_rate=adaptive, solver=sgd, total=   0.3s\n",
      "[CV] activation=tanh, alpha=0.05, hidden_layer_sizes=(20,), learning_rate=adaptive, solver=sgd \n",
      "[CV]  activation=tanh, alpha=0.05, hidden_layer_sizes=(20,), learning_rate=adaptive, solver=sgd, total=   0.3s\n",
      "[CV] activation=tanh, alpha=0.05, hidden_layer_sizes=(20,), learning_rate=adaptive, solver=sgd \n",
      "[CV]  activation=tanh, alpha=0.05, hidden_layer_sizes=(20,), learning_rate=adaptive, solver=sgd, total=   0.2s\n",
      "[CV] activation=tanh, alpha=0.05, hidden_layer_sizes=(20,), learning_rate=adaptive, solver=sgd \n",
      "[CV]  activation=tanh, alpha=0.05, hidden_layer_sizes=(20,), learning_rate=adaptive, solver=sgd, total=   0.3s\n",
      "[CV] activation=tanh, alpha=0.05, hidden_layer_sizes=(20,), learning_rate=adaptive, solver=adam \n"
     ]
    },
    {
     "name": "stderr",
     "output_type": "stream",
     "text": [
      "C:\\ProgramData\\Anaconda3_delete\\lib\\site-packages\\sklearn\\neural_network\\_multilayer_perceptron.py:582: ConvergenceWarning: Stochastic Optimizer: Maximum iterations (500) reached and the optimization hasn't converged yet.\n",
      "  warnings.warn(\n"
     ]
    },
    {
     "name": "stdout",
     "output_type": "stream",
     "text": [
      "[CV]  activation=tanh, alpha=0.05, hidden_layer_sizes=(20,), learning_rate=adaptive, solver=adam, total=   0.3s\n",
      "[CV] activation=tanh, alpha=0.05, hidden_layer_sizes=(20,), learning_rate=adaptive, solver=adam \n"
     ]
    },
    {
     "name": "stderr",
     "output_type": "stream",
     "text": [
      "C:\\ProgramData\\Anaconda3_delete\\lib\\site-packages\\sklearn\\neural_network\\_multilayer_perceptron.py:582: ConvergenceWarning: Stochastic Optimizer: Maximum iterations (500) reached and the optimization hasn't converged yet.\n",
      "  warnings.warn(\n"
     ]
    },
    {
     "name": "stdout",
     "output_type": "stream",
     "text": [
      "[CV]  activation=tanh, alpha=0.05, hidden_layer_sizes=(20,), learning_rate=adaptive, solver=adam, total=   0.4s\n",
      "[CV] activation=tanh, alpha=0.05, hidden_layer_sizes=(20,), learning_rate=adaptive, solver=adam \n"
     ]
    },
    {
     "name": "stderr",
     "output_type": "stream",
     "text": [
      "C:\\ProgramData\\Anaconda3_delete\\lib\\site-packages\\sklearn\\neural_network\\_multilayer_perceptron.py:582: ConvergenceWarning: Stochastic Optimizer: Maximum iterations (500) reached and the optimization hasn't converged yet.\n",
      "  warnings.warn(\n"
     ]
    },
    {
     "name": "stdout",
     "output_type": "stream",
     "text": [
      "[CV]  activation=tanh, alpha=0.05, hidden_layer_sizes=(20,), learning_rate=adaptive, solver=adam, total=   0.3s\n",
      "[CV] activation=tanh, alpha=0.05, hidden_layer_sizes=(20,), learning_rate=adaptive, solver=adam \n"
     ]
    },
    {
     "name": "stderr",
     "output_type": "stream",
     "text": [
      "C:\\ProgramData\\Anaconda3_delete\\lib\\site-packages\\sklearn\\neural_network\\_multilayer_perceptron.py:582: ConvergenceWarning: Stochastic Optimizer: Maximum iterations (500) reached and the optimization hasn't converged yet.\n",
      "  warnings.warn(\n"
     ]
    },
    {
     "name": "stdout",
     "output_type": "stream",
     "text": [
      "[CV]  activation=tanh, alpha=0.05, hidden_layer_sizes=(20,), learning_rate=adaptive, solver=adam, total=   0.3s\n",
      "[CV] activation=tanh, alpha=0.05, hidden_layer_sizes=(20,), learning_rate=adaptive, solver=adam \n"
     ]
    },
    {
     "name": "stderr",
     "output_type": "stream",
     "text": [
      "C:\\ProgramData\\Anaconda3_delete\\lib\\site-packages\\sklearn\\neural_network\\_multilayer_perceptron.py:582: ConvergenceWarning: Stochastic Optimizer: Maximum iterations (500) reached and the optimization hasn't converged yet.\n",
      "  warnings.warn(\n"
     ]
    },
    {
     "name": "stdout",
     "output_type": "stream",
     "text": [
      "[CV]  activation=tanh, alpha=0.05, hidden_layer_sizes=(20,), learning_rate=adaptive, solver=adam, total=   0.4s\n",
      "[CV] activation=relu, alpha=0.0001, hidden_layer_sizes=(10, 30, 10), learning_rate=constant, solver=sgd \n",
      "[CV]  activation=relu, alpha=0.0001, hidden_layer_sizes=(10, 30, 10), learning_rate=constant, solver=sgd, total=   0.7s\n",
      "[CV] activation=relu, alpha=0.0001, hidden_layer_sizes=(10, 30, 10), learning_rate=constant, solver=sgd \n"
     ]
    },
    {
     "name": "stderr",
     "output_type": "stream",
     "text": [
      "C:\\ProgramData\\Anaconda3_delete\\lib\\site-packages\\sklearn\\neural_network\\_multilayer_perceptron.py:582: ConvergenceWarning: Stochastic Optimizer: Maximum iterations (500) reached and the optimization hasn't converged yet.\n",
      "  warnings.warn(\n"
     ]
    },
    {
     "name": "stdout",
     "output_type": "stream",
     "text": [
      "[CV]  activation=relu, alpha=0.0001, hidden_layer_sizes=(10, 30, 10), learning_rate=constant, solver=sgd, total=   0.8s\n",
      "[CV] activation=relu, alpha=0.0001, hidden_layer_sizes=(10, 30, 10), learning_rate=constant, solver=sgd \n"
     ]
    },
    {
     "name": "stderr",
     "output_type": "stream",
     "text": [
      "C:\\ProgramData\\Anaconda3_delete\\lib\\site-packages\\sklearn\\neural_network\\_multilayer_perceptron.py:582: ConvergenceWarning: Stochastic Optimizer: Maximum iterations (500) reached and the optimization hasn't converged yet.\n",
      "  warnings.warn(\n"
     ]
    },
    {
     "name": "stdout",
     "output_type": "stream",
     "text": [
      "[CV]  activation=relu, alpha=0.0001, hidden_layer_sizes=(10, 30, 10), learning_rate=constant, solver=sgd, total=   0.7s\n",
      "[CV] activation=relu, alpha=0.0001, hidden_layer_sizes=(10, 30, 10), learning_rate=constant, solver=sgd \n"
     ]
    },
    {
     "name": "stderr",
     "output_type": "stream",
     "text": [
      "C:\\ProgramData\\Anaconda3_delete\\lib\\site-packages\\sklearn\\neural_network\\_multilayer_perceptron.py:582: ConvergenceWarning: Stochastic Optimizer: Maximum iterations (500) reached and the optimization hasn't converged yet.\n",
      "  warnings.warn(\n"
     ]
    },
    {
     "name": "stdout",
     "output_type": "stream",
     "text": [
      "[CV]  activation=relu, alpha=0.0001, hidden_layer_sizes=(10, 30, 10), learning_rate=constant, solver=sgd, total=   0.7s\n",
      "[CV] activation=relu, alpha=0.0001, hidden_layer_sizes=(10, 30, 10), learning_rate=constant, solver=sgd \n"
     ]
    },
    {
     "name": "stderr",
     "output_type": "stream",
     "text": [
      "C:\\ProgramData\\Anaconda3_delete\\lib\\site-packages\\sklearn\\neural_network\\_multilayer_perceptron.py:582: ConvergenceWarning: Stochastic Optimizer: Maximum iterations (500) reached and the optimization hasn't converged yet.\n",
      "  warnings.warn(\n"
     ]
    },
    {
     "name": "stdout",
     "output_type": "stream",
     "text": [
      "[CV]  activation=relu, alpha=0.0001, hidden_layer_sizes=(10, 30, 10), learning_rate=constant, solver=sgd, total=   0.9s\n",
      "[CV] activation=relu, alpha=0.0001, hidden_layer_sizes=(10, 30, 10), learning_rate=constant, solver=adam \n",
      "[CV]  activation=relu, alpha=0.0001, hidden_layer_sizes=(10, 30, 10), learning_rate=constant, solver=adam, total=   0.9s\n",
      "[CV] activation=relu, alpha=0.0001, hidden_layer_sizes=(10, 30, 10), learning_rate=constant, solver=adam \n",
      "[CV]  activation=relu, alpha=0.0001, hidden_layer_sizes=(10, 30, 10), learning_rate=constant, solver=adam, total=   0.4s\n",
      "[CV] activation=relu, alpha=0.0001, hidden_layer_sizes=(10, 30, 10), learning_rate=constant, solver=adam \n",
      "[CV]  activation=relu, alpha=0.0001, hidden_layer_sizes=(10, 30, 10), learning_rate=constant, solver=adam, total=   0.6s\n",
      "[CV] activation=relu, alpha=0.0001, hidden_layer_sizes=(10, 30, 10), learning_rate=constant, solver=adam \n",
      "[CV]  activation=relu, alpha=0.0001, hidden_layer_sizes=(10, 30, 10), learning_rate=constant, solver=adam, total=   0.8s\n",
      "[CV] activation=relu, alpha=0.0001, hidden_layer_sizes=(10, 30, 10), learning_rate=constant, solver=adam \n",
      "[CV]  activation=relu, alpha=0.0001, hidden_layer_sizes=(10, 30, 10), learning_rate=constant, solver=adam, total=   0.7s\n",
      "[CV] activation=relu, alpha=0.0001, hidden_layer_sizes=(10, 30, 10), learning_rate=adaptive, solver=sgd \n"
     ]
    },
    {
     "name": "stderr",
     "output_type": "stream",
     "text": [
      "C:\\ProgramData\\Anaconda3_delete\\lib\\site-packages\\sklearn\\neural_network\\_multilayer_perceptron.py:582: ConvergenceWarning: Stochastic Optimizer: Maximum iterations (500) reached and the optimization hasn't converged yet.\n",
      "  warnings.warn(\n"
     ]
    },
    {
     "name": "stdout",
     "output_type": "stream",
     "text": [
      "[CV]  activation=relu, alpha=0.0001, hidden_layer_sizes=(10, 30, 10), learning_rate=adaptive, solver=sgd, total=   0.7s\n",
      "[CV] activation=relu, alpha=0.0001, hidden_layer_sizes=(10, 30, 10), learning_rate=adaptive, solver=sgd \n"
     ]
    },
    {
     "name": "stderr",
     "output_type": "stream",
     "text": [
      "C:\\ProgramData\\Anaconda3_delete\\lib\\site-packages\\sklearn\\neural_network\\_multilayer_perceptron.py:582: ConvergenceWarning: Stochastic Optimizer: Maximum iterations (500) reached and the optimization hasn't converged yet.\n",
      "  warnings.warn(\n"
     ]
    },
    {
     "name": "stdout",
     "output_type": "stream",
     "text": [
      "[CV]  activation=relu, alpha=0.0001, hidden_layer_sizes=(10, 30, 10), learning_rate=adaptive, solver=sgd, total=   0.8s\n",
      "[CV] activation=relu, alpha=0.0001, hidden_layer_sizes=(10, 30, 10), learning_rate=adaptive, solver=sgd \n"
     ]
    },
    {
     "name": "stderr",
     "output_type": "stream",
     "text": [
      "C:\\ProgramData\\Anaconda3_delete\\lib\\site-packages\\sklearn\\neural_network\\_multilayer_perceptron.py:582: ConvergenceWarning: Stochastic Optimizer: Maximum iterations (500) reached and the optimization hasn't converged yet.\n",
      "  warnings.warn(\n"
     ]
    },
    {
     "name": "stdout",
     "output_type": "stream",
     "text": [
      "[CV]  activation=relu, alpha=0.0001, hidden_layer_sizes=(10, 30, 10), learning_rate=adaptive, solver=sgd, total=   1.3s\n",
      "[CV] activation=relu, alpha=0.0001, hidden_layer_sizes=(10, 30, 10), learning_rate=adaptive, solver=sgd \n"
     ]
    },
    {
     "name": "stderr",
     "output_type": "stream",
     "text": [
      "C:\\ProgramData\\Anaconda3_delete\\lib\\site-packages\\sklearn\\neural_network\\_multilayer_perceptron.py:582: ConvergenceWarning: Stochastic Optimizer: Maximum iterations (500) reached and the optimization hasn't converged yet.\n",
      "  warnings.warn(\n"
     ]
    },
    {
     "name": "stdout",
     "output_type": "stream",
     "text": [
      "[CV]  activation=relu, alpha=0.0001, hidden_layer_sizes=(10, 30, 10), learning_rate=adaptive, solver=sgd, total=   0.7s\n",
      "[CV] activation=relu, alpha=0.0001, hidden_layer_sizes=(10, 30, 10), learning_rate=adaptive, solver=sgd \n"
     ]
    },
    {
     "name": "stderr",
     "output_type": "stream",
     "text": [
      "C:\\ProgramData\\Anaconda3_delete\\lib\\site-packages\\sklearn\\neural_network\\_multilayer_perceptron.py:582: ConvergenceWarning: Stochastic Optimizer: Maximum iterations (500) reached and the optimization hasn't converged yet.\n",
      "  warnings.warn(\n"
     ]
    },
    {
     "name": "stdout",
     "output_type": "stream",
     "text": [
      "[CV]  activation=relu, alpha=0.0001, hidden_layer_sizes=(10, 30, 10), learning_rate=adaptive, solver=sgd, total=   0.7s\n",
      "[CV] activation=relu, alpha=0.0001, hidden_layer_sizes=(10, 30, 10), learning_rate=adaptive, solver=adam \n",
      "[CV]  activation=relu, alpha=0.0001, hidden_layer_sizes=(10, 30, 10), learning_rate=adaptive, solver=adam, total=   0.5s\n",
      "[CV] activation=relu, alpha=0.0001, hidden_layer_sizes=(10, 30, 10), learning_rate=adaptive, solver=adam \n"
     ]
    },
    {
     "name": "stderr",
     "output_type": "stream",
     "text": [
      "C:\\ProgramData\\Anaconda3_delete\\lib\\site-packages\\sklearn\\neural_network\\_multilayer_perceptron.py:582: ConvergenceWarning: Stochastic Optimizer: Maximum iterations (500) reached and the optimization hasn't converged yet.\n",
      "  warnings.warn(\n"
     ]
    },
    {
     "name": "stdout",
     "output_type": "stream",
     "text": [
      "[CV]  activation=relu, alpha=0.0001, hidden_layer_sizes=(10, 30, 10), learning_rate=adaptive, solver=adam, total=   0.8s\n",
      "[CV] activation=relu, alpha=0.0001, hidden_layer_sizes=(10, 30, 10), learning_rate=adaptive, solver=adam \n",
      "[CV]  activation=relu, alpha=0.0001, hidden_layer_sizes=(10, 30, 10), learning_rate=adaptive, solver=adam, total=   0.8s\n",
      "[CV] activation=relu, alpha=0.0001, hidden_layer_sizes=(10, 30, 10), learning_rate=adaptive, solver=adam \n",
      "[CV]  activation=relu, alpha=0.0001, hidden_layer_sizes=(10, 30, 10), learning_rate=adaptive, solver=adam, total=   1.1s\n",
      "[CV] activation=relu, alpha=0.0001, hidden_layer_sizes=(10, 30, 10), learning_rate=adaptive, solver=adam \n",
      "[CV]  activation=relu, alpha=0.0001, hidden_layer_sizes=(10, 30, 10), learning_rate=adaptive, solver=adam, total=   0.8s\n",
      "[CV] activation=relu, alpha=0.0001, hidden_layer_sizes=(20,), learning_rate=constant, solver=sgd \n"
     ]
    },
    {
     "name": "stderr",
     "output_type": "stream",
     "text": [
      "C:\\ProgramData\\Anaconda3_delete\\lib\\site-packages\\sklearn\\neural_network\\_multilayer_perceptron.py:582: ConvergenceWarning: Stochastic Optimizer: Maximum iterations (500) reached and the optimization hasn't converged yet.\n",
      "  warnings.warn(\n"
     ]
    },
    {
     "name": "stdout",
     "output_type": "stream",
     "text": [
      "[CV]  activation=relu, alpha=0.0001, hidden_layer_sizes=(20,), learning_rate=constant, solver=sgd, total=   0.4s\n",
      "[CV] activation=relu, alpha=0.0001, hidden_layer_sizes=(20,), learning_rate=constant, solver=sgd \n"
     ]
    },
    {
     "name": "stderr",
     "output_type": "stream",
     "text": [
      "C:\\ProgramData\\Anaconda3_delete\\lib\\site-packages\\sklearn\\neural_network\\_multilayer_perceptron.py:582: ConvergenceWarning: Stochastic Optimizer: Maximum iterations (500) reached and the optimization hasn't converged yet.\n",
      "  warnings.warn(\n"
     ]
    },
    {
     "name": "stdout",
     "output_type": "stream",
     "text": [
      "[CV]  activation=relu, alpha=0.0001, hidden_layer_sizes=(20,), learning_rate=constant, solver=sgd, total=   0.4s\n",
      "[CV] activation=relu, alpha=0.0001, hidden_layer_sizes=(20,), learning_rate=constant, solver=sgd \n"
     ]
    },
    {
     "name": "stderr",
     "output_type": "stream",
     "text": [
      "C:\\ProgramData\\Anaconda3_delete\\lib\\site-packages\\sklearn\\neural_network\\_multilayer_perceptron.py:582: ConvergenceWarning: Stochastic Optimizer: Maximum iterations (500) reached and the optimization hasn't converged yet.\n",
      "  warnings.warn(\n"
     ]
    },
    {
     "name": "stdout",
     "output_type": "stream",
     "text": [
      "[CV]  activation=relu, alpha=0.0001, hidden_layer_sizes=(20,), learning_rate=constant, solver=sgd, total=   0.4s\n",
      "[CV] activation=relu, alpha=0.0001, hidden_layer_sizes=(20,), learning_rate=constant, solver=sgd \n"
     ]
    },
    {
     "name": "stderr",
     "output_type": "stream",
     "text": [
      "C:\\ProgramData\\Anaconda3_delete\\lib\\site-packages\\sklearn\\neural_network\\_multilayer_perceptron.py:582: ConvergenceWarning: Stochastic Optimizer: Maximum iterations (500) reached and the optimization hasn't converged yet.\n",
      "  warnings.warn(\n"
     ]
    },
    {
     "name": "stdout",
     "output_type": "stream",
     "text": [
      "[CV]  activation=relu, alpha=0.0001, hidden_layer_sizes=(20,), learning_rate=constant, solver=sgd, total=   0.4s\n",
      "[CV] activation=relu, alpha=0.0001, hidden_layer_sizes=(20,), learning_rate=constant, solver=sgd \n"
     ]
    },
    {
     "name": "stderr",
     "output_type": "stream",
     "text": [
      "C:\\ProgramData\\Anaconda3_delete\\lib\\site-packages\\sklearn\\neural_network\\_multilayer_perceptron.py:582: ConvergenceWarning: Stochastic Optimizer: Maximum iterations (500) reached and the optimization hasn't converged yet.\n",
      "  warnings.warn(\n"
     ]
    },
    {
     "name": "stdout",
     "output_type": "stream",
     "text": [
      "[CV]  activation=relu, alpha=0.0001, hidden_layer_sizes=(20,), learning_rate=constant, solver=sgd, total=   0.4s\n",
      "[CV] activation=relu, alpha=0.0001, hidden_layer_sizes=(20,), learning_rate=constant, solver=adam \n"
     ]
    },
    {
     "name": "stderr",
     "output_type": "stream",
     "text": [
      "C:\\ProgramData\\Anaconda3_delete\\lib\\site-packages\\sklearn\\neural_network\\_multilayer_perceptron.py:582: ConvergenceWarning: Stochastic Optimizer: Maximum iterations (500) reached and the optimization hasn't converged yet.\n",
      "  warnings.warn(\n"
     ]
    },
    {
     "name": "stdout",
     "output_type": "stream",
     "text": [
      "[CV]  activation=relu, alpha=0.0001, hidden_layer_sizes=(20,), learning_rate=constant, solver=adam, total=   0.4s\n",
      "[CV] activation=relu, alpha=0.0001, hidden_layer_sizes=(20,), learning_rate=constant, solver=adam \n"
     ]
    },
    {
     "name": "stderr",
     "output_type": "stream",
     "text": [
      "C:\\ProgramData\\Anaconda3_delete\\lib\\site-packages\\sklearn\\neural_network\\_multilayer_perceptron.py:582: ConvergenceWarning: Stochastic Optimizer: Maximum iterations (500) reached and the optimization hasn't converged yet.\n",
      "  warnings.warn(\n"
     ]
    },
    {
     "name": "stdout",
     "output_type": "stream",
     "text": [
      "[CV]  activation=relu, alpha=0.0001, hidden_layer_sizes=(20,), learning_rate=constant, solver=adam, total=   0.4s\n",
      "[CV] activation=relu, alpha=0.0001, hidden_layer_sizes=(20,), learning_rate=constant, solver=adam \n",
      "[CV]  activation=relu, alpha=0.0001, hidden_layer_sizes=(20,), learning_rate=constant, solver=adam, total=   0.3s\n",
      "[CV] activation=relu, alpha=0.0001, hidden_layer_sizes=(20,), learning_rate=constant, solver=adam \n",
      "[CV]  activation=relu, alpha=0.0001, hidden_layer_sizes=(20,), learning_rate=constant, solver=adam, total=   0.4s\n",
      "[CV] activation=relu, alpha=0.0001, hidden_layer_sizes=(20,), learning_rate=constant, solver=adam \n",
      "[CV]  activation=relu, alpha=0.0001, hidden_layer_sizes=(20,), learning_rate=constant, solver=adam, total=   0.4s\n",
      "[CV] activation=relu, alpha=0.0001, hidden_layer_sizes=(20,), learning_rate=adaptive, solver=sgd \n"
     ]
    },
    {
     "name": "stderr",
     "output_type": "stream",
     "text": [
      "C:\\ProgramData\\Anaconda3_delete\\lib\\site-packages\\sklearn\\neural_network\\_multilayer_perceptron.py:582: ConvergenceWarning: Stochastic Optimizer: Maximum iterations (500) reached and the optimization hasn't converged yet.\n",
      "  warnings.warn(\n"
     ]
    },
    {
     "name": "stdout",
     "output_type": "stream",
     "text": [
      "[CV]  activation=relu, alpha=0.0001, hidden_layer_sizes=(20,), learning_rate=adaptive, solver=sgd, total=   0.4s\n",
      "[CV] activation=relu, alpha=0.0001, hidden_layer_sizes=(20,), learning_rate=adaptive, solver=sgd \n"
     ]
    },
    {
     "name": "stderr",
     "output_type": "stream",
     "text": [
      "C:\\ProgramData\\Anaconda3_delete\\lib\\site-packages\\sklearn\\neural_network\\_multilayer_perceptron.py:582: ConvergenceWarning: Stochastic Optimizer: Maximum iterations (500) reached and the optimization hasn't converged yet.\n",
      "  warnings.warn(\n"
     ]
    },
    {
     "name": "stdout",
     "output_type": "stream",
     "text": [
      "[CV]  activation=relu, alpha=0.0001, hidden_layer_sizes=(20,), learning_rate=adaptive, solver=sgd, total=   0.3s\n",
      "[CV] activation=relu, alpha=0.0001, hidden_layer_sizes=(20,), learning_rate=adaptive, solver=sgd \n"
     ]
    },
    {
     "name": "stderr",
     "output_type": "stream",
     "text": [
      "C:\\ProgramData\\Anaconda3_delete\\lib\\site-packages\\sklearn\\neural_network\\_multilayer_perceptron.py:582: ConvergenceWarning: Stochastic Optimizer: Maximum iterations (500) reached and the optimization hasn't converged yet.\n",
      "  warnings.warn(\n"
     ]
    },
    {
     "name": "stdout",
     "output_type": "stream",
     "text": [
      "[CV]  activation=relu, alpha=0.0001, hidden_layer_sizes=(20,), learning_rate=adaptive, solver=sgd, total=   0.4s\n",
      "[CV] activation=relu, alpha=0.0001, hidden_layer_sizes=(20,), learning_rate=adaptive, solver=sgd \n"
     ]
    },
    {
     "name": "stderr",
     "output_type": "stream",
     "text": [
      "C:\\ProgramData\\Anaconda3_delete\\lib\\site-packages\\sklearn\\neural_network\\_multilayer_perceptron.py:582: ConvergenceWarning: Stochastic Optimizer: Maximum iterations (500) reached and the optimization hasn't converged yet.\n",
      "  warnings.warn(\n"
     ]
    },
    {
     "name": "stdout",
     "output_type": "stream",
     "text": [
      "[CV]  activation=relu, alpha=0.0001, hidden_layer_sizes=(20,), learning_rate=adaptive, solver=sgd, total=   0.4s\n",
      "[CV] activation=relu, alpha=0.0001, hidden_layer_sizes=(20,), learning_rate=adaptive, solver=sgd \n"
     ]
    },
    {
     "name": "stderr",
     "output_type": "stream",
     "text": [
      "C:\\ProgramData\\Anaconda3_delete\\lib\\site-packages\\sklearn\\neural_network\\_multilayer_perceptron.py:582: ConvergenceWarning: Stochastic Optimizer: Maximum iterations (500) reached and the optimization hasn't converged yet.\n",
      "  warnings.warn(\n"
     ]
    },
    {
     "name": "stdout",
     "output_type": "stream",
     "text": [
      "[CV]  activation=relu, alpha=0.0001, hidden_layer_sizes=(20,), learning_rate=adaptive, solver=sgd, total=   0.4s\n",
      "[CV] activation=relu, alpha=0.0001, hidden_layer_sizes=(20,), learning_rate=adaptive, solver=adam \n"
     ]
    },
    {
     "name": "stderr",
     "output_type": "stream",
     "text": [
      "C:\\ProgramData\\Anaconda3_delete\\lib\\site-packages\\sklearn\\neural_network\\_multilayer_perceptron.py:582: ConvergenceWarning: Stochastic Optimizer: Maximum iterations (500) reached and the optimization hasn't converged yet.\n",
      "  warnings.warn(\n"
     ]
    },
    {
     "name": "stdout",
     "output_type": "stream",
     "text": [
      "[CV]  activation=relu, alpha=0.0001, hidden_layer_sizes=(20,), learning_rate=adaptive, solver=adam, total=   0.4s\n",
      "[CV] activation=relu, alpha=0.0001, hidden_layer_sizes=(20,), learning_rate=adaptive, solver=adam \n",
      "[CV]  activation=relu, alpha=0.0001, hidden_layer_sizes=(20,), learning_rate=adaptive, solver=adam, total=   0.3s\n",
      "[CV] activation=relu, alpha=0.0001, hidden_layer_sizes=(20,), learning_rate=adaptive, solver=adam \n",
      "[CV]  activation=relu, alpha=0.0001, hidden_layer_sizes=(20,), learning_rate=adaptive, solver=adam, total=   0.4s\n",
      "[CV] activation=relu, alpha=0.0001, hidden_layer_sizes=(20,), learning_rate=adaptive, solver=adam \n",
      "[CV]  activation=relu, alpha=0.0001, hidden_layer_sizes=(20,), learning_rate=adaptive, solver=adam, total=   0.4s\n",
      "[CV] activation=relu, alpha=0.0001, hidden_layer_sizes=(20,), learning_rate=adaptive, solver=adam \n",
      "[CV]  activation=relu, alpha=0.0001, hidden_layer_sizes=(20,), learning_rate=adaptive, solver=adam, total=   0.3s\n",
      "[CV] activation=relu, alpha=0.05, hidden_layer_sizes=(10, 30, 10), learning_rate=constant, solver=sgd \n"
     ]
    },
    {
     "name": "stderr",
     "output_type": "stream",
     "text": [
      "C:\\ProgramData\\Anaconda3_delete\\lib\\site-packages\\sklearn\\neural_network\\_multilayer_perceptron.py:582: ConvergenceWarning: Stochastic Optimizer: Maximum iterations (500) reached and the optimization hasn't converged yet.\n",
      "  warnings.warn(\n"
     ]
    },
    {
     "name": "stdout",
     "output_type": "stream",
     "text": [
      "[CV]  activation=relu, alpha=0.05, hidden_layer_sizes=(10, 30, 10), learning_rate=constant, solver=sgd, total=   0.7s\n",
      "[CV] activation=relu, alpha=0.05, hidden_layer_sizes=(10, 30, 10), learning_rate=constant, solver=sgd \n"
     ]
    },
    {
     "name": "stderr",
     "output_type": "stream",
     "text": [
      "C:\\ProgramData\\Anaconda3_delete\\lib\\site-packages\\sklearn\\neural_network\\_multilayer_perceptron.py:582: ConvergenceWarning: Stochastic Optimizer: Maximum iterations (500) reached and the optimization hasn't converged yet.\n",
      "  warnings.warn(\n"
     ]
    },
    {
     "name": "stdout",
     "output_type": "stream",
     "text": [
      "[CV]  activation=relu, alpha=0.05, hidden_layer_sizes=(10, 30, 10), learning_rate=constant, solver=sgd, total=   0.7s\n",
      "[CV] activation=relu, alpha=0.05, hidden_layer_sizes=(10, 30, 10), learning_rate=constant, solver=sgd \n"
     ]
    },
    {
     "name": "stderr",
     "output_type": "stream",
     "text": [
      "C:\\ProgramData\\Anaconda3_delete\\lib\\site-packages\\sklearn\\neural_network\\_multilayer_perceptron.py:582: ConvergenceWarning: Stochastic Optimizer: Maximum iterations (500) reached and the optimization hasn't converged yet.\n",
      "  warnings.warn(\n"
     ]
    },
    {
     "name": "stdout",
     "output_type": "stream",
     "text": [
      "[CV]  activation=relu, alpha=0.05, hidden_layer_sizes=(10, 30, 10), learning_rate=constant, solver=sgd, total=   0.7s\n",
      "[CV] activation=relu, alpha=0.05, hidden_layer_sizes=(10, 30, 10), learning_rate=constant, solver=sgd \n"
     ]
    },
    {
     "name": "stderr",
     "output_type": "stream",
     "text": [
      "C:\\ProgramData\\Anaconda3_delete\\lib\\site-packages\\sklearn\\neural_network\\_multilayer_perceptron.py:582: ConvergenceWarning: Stochastic Optimizer: Maximum iterations (500) reached and the optimization hasn't converged yet.\n",
      "  warnings.warn(\n"
     ]
    },
    {
     "name": "stdout",
     "output_type": "stream",
     "text": [
      "[CV]  activation=relu, alpha=0.05, hidden_layer_sizes=(10, 30, 10), learning_rate=constant, solver=sgd, total=   0.7s\n",
      "[CV] activation=relu, alpha=0.05, hidden_layer_sizes=(10, 30, 10), learning_rate=constant, solver=sgd \n"
     ]
    },
    {
     "name": "stderr",
     "output_type": "stream",
     "text": [
      "C:\\ProgramData\\Anaconda3_delete\\lib\\site-packages\\sklearn\\neural_network\\_multilayer_perceptron.py:582: ConvergenceWarning: Stochastic Optimizer: Maximum iterations (500) reached and the optimization hasn't converged yet.\n",
      "  warnings.warn(\n"
     ]
    },
    {
     "name": "stdout",
     "output_type": "stream",
     "text": [
      "[CV]  activation=relu, alpha=0.05, hidden_layer_sizes=(10, 30, 10), learning_rate=constant, solver=sgd, total=   0.9s\n",
      "[CV] activation=relu, alpha=0.05, hidden_layer_sizes=(10, 30, 10), learning_rate=constant, solver=adam \n",
      "[CV]  activation=relu, alpha=0.05, hidden_layer_sizes=(10, 30, 10), learning_rate=constant, solver=adam, total=   1.2s\n",
      "[CV] activation=relu, alpha=0.05, hidden_layer_sizes=(10, 30, 10), learning_rate=constant, solver=adam \n",
      "[CV]  activation=relu, alpha=0.05, hidden_layer_sizes=(10, 30, 10), learning_rate=constant, solver=adam, total=   0.5s\n",
      "[CV] activation=relu, alpha=0.05, hidden_layer_sizes=(10, 30, 10), learning_rate=constant, solver=adam \n",
      "[CV]  activation=relu, alpha=0.05, hidden_layer_sizes=(10, 30, 10), learning_rate=constant, solver=adam, total=   0.6s\n",
      "[CV] activation=relu, alpha=0.05, hidden_layer_sizes=(10, 30, 10), learning_rate=constant, solver=adam \n",
      "[CV]  activation=relu, alpha=0.05, hidden_layer_sizes=(10, 30, 10), learning_rate=constant, solver=adam, total=   0.4s\n",
      "[CV] activation=relu, alpha=0.05, hidden_layer_sizes=(10, 30, 10), learning_rate=constant, solver=adam \n",
      "[CV]  activation=relu, alpha=0.05, hidden_layer_sizes=(10, 30, 10), learning_rate=constant, solver=adam, total=   0.5s\n",
      "[CV] activation=relu, alpha=0.05, hidden_layer_sizes=(10, 30, 10), learning_rate=adaptive, solver=sgd \n"
     ]
    },
    {
     "name": "stderr",
     "output_type": "stream",
     "text": [
      "C:\\ProgramData\\Anaconda3_delete\\lib\\site-packages\\sklearn\\neural_network\\_multilayer_perceptron.py:582: ConvergenceWarning: Stochastic Optimizer: Maximum iterations (500) reached and the optimization hasn't converged yet.\n",
      "  warnings.warn(\n"
     ]
    },
    {
     "name": "stdout",
     "output_type": "stream",
     "text": [
      "[CV]  activation=relu, alpha=0.05, hidden_layer_sizes=(10, 30, 10), learning_rate=adaptive, solver=sgd, total=   0.7s\n",
      "[CV] activation=relu, alpha=0.05, hidden_layer_sizes=(10, 30, 10), learning_rate=adaptive, solver=sgd \n"
     ]
    },
    {
     "name": "stderr",
     "output_type": "stream",
     "text": [
      "C:\\ProgramData\\Anaconda3_delete\\lib\\site-packages\\sklearn\\neural_network\\_multilayer_perceptron.py:582: ConvergenceWarning: Stochastic Optimizer: Maximum iterations (500) reached and the optimization hasn't converged yet.\n",
      "  warnings.warn(\n"
     ]
    },
    {
     "name": "stdout",
     "output_type": "stream",
     "text": [
      "[CV]  activation=relu, alpha=0.05, hidden_layer_sizes=(10, 30, 10), learning_rate=adaptive, solver=sgd, total=   0.8s\n",
      "[CV] activation=relu, alpha=0.05, hidden_layer_sizes=(10, 30, 10), learning_rate=adaptive, solver=sgd \n"
     ]
    },
    {
     "name": "stderr",
     "output_type": "stream",
     "text": [
      "C:\\ProgramData\\Anaconda3_delete\\lib\\site-packages\\sklearn\\neural_network\\_multilayer_perceptron.py:582: ConvergenceWarning: Stochastic Optimizer: Maximum iterations (500) reached and the optimization hasn't converged yet.\n",
      "  warnings.warn(\n"
     ]
    },
    {
     "name": "stdout",
     "output_type": "stream",
     "text": [
      "[CV]  activation=relu, alpha=0.05, hidden_layer_sizes=(10, 30, 10), learning_rate=adaptive, solver=sgd, total=   1.2s\n",
      "[CV] activation=relu, alpha=0.05, hidden_layer_sizes=(10, 30, 10), learning_rate=adaptive, solver=sgd \n"
     ]
    },
    {
     "name": "stderr",
     "output_type": "stream",
     "text": [
      "C:\\ProgramData\\Anaconda3_delete\\lib\\site-packages\\sklearn\\neural_network\\_multilayer_perceptron.py:582: ConvergenceWarning: Stochastic Optimizer: Maximum iterations (500) reached and the optimization hasn't converged yet.\n",
      "  warnings.warn(\n"
     ]
    },
    {
     "name": "stdout",
     "output_type": "stream",
     "text": [
      "[CV]  activation=relu, alpha=0.05, hidden_layer_sizes=(10, 30, 10), learning_rate=adaptive, solver=sgd, total=   0.9s\n",
      "[CV] activation=relu, alpha=0.05, hidden_layer_sizes=(10, 30, 10), learning_rate=adaptive, solver=sgd \n"
     ]
    },
    {
     "name": "stderr",
     "output_type": "stream",
     "text": [
      "C:\\ProgramData\\Anaconda3_delete\\lib\\site-packages\\sklearn\\neural_network\\_multilayer_perceptron.py:582: ConvergenceWarning: Stochastic Optimizer: Maximum iterations (500) reached and the optimization hasn't converged yet.\n",
      "  warnings.warn(\n"
     ]
    },
    {
     "name": "stdout",
     "output_type": "stream",
     "text": [
      "[CV]  activation=relu, alpha=0.05, hidden_layer_sizes=(10, 30, 10), learning_rate=adaptive, solver=sgd, total=   0.7s\n",
      "[CV] activation=relu, alpha=0.05, hidden_layer_sizes=(10, 30, 10), learning_rate=adaptive, solver=adam \n",
      "[CV]  activation=relu, alpha=0.05, hidden_layer_sizes=(10, 30, 10), learning_rate=adaptive, solver=adam, total=   0.5s\n",
      "[CV] activation=relu, alpha=0.05, hidden_layer_sizes=(10, 30, 10), learning_rate=adaptive, solver=adam \n",
      "[CV]  activation=relu, alpha=0.05, hidden_layer_sizes=(10, 30, 10), learning_rate=adaptive, solver=adam, total=   0.5s\n",
      "[CV] activation=relu, alpha=0.05, hidden_layer_sizes=(10, 30, 10), learning_rate=adaptive, solver=adam \n",
      "[CV]  activation=relu, alpha=0.05, hidden_layer_sizes=(10, 30, 10), learning_rate=adaptive, solver=adam, total=   0.5s\n",
      "[CV] activation=relu, alpha=0.05, hidden_layer_sizes=(10, 30, 10), learning_rate=adaptive, solver=adam \n",
      "[CV]  activation=relu, alpha=0.05, hidden_layer_sizes=(10, 30, 10), learning_rate=adaptive, solver=adam, total=   0.8s\n",
      "[CV] activation=relu, alpha=0.05, hidden_layer_sizes=(10, 30, 10), learning_rate=adaptive, solver=adam \n",
      "[CV]  activation=relu, alpha=0.05, hidden_layer_sizes=(10, 30, 10), learning_rate=adaptive, solver=adam, total=   0.7s\n",
      "[CV] activation=relu, alpha=0.05, hidden_layer_sizes=(20,), learning_rate=constant, solver=sgd \n"
     ]
    },
    {
     "name": "stderr",
     "output_type": "stream",
     "text": [
      "C:\\ProgramData\\Anaconda3_delete\\lib\\site-packages\\sklearn\\neural_network\\_multilayer_perceptron.py:582: ConvergenceWarning: Stochastic Optimizer: Maximum iterations (500) reached and the optimization hasn't converged yet.\n",
      "  warnings.warn(\n"
     ]
    },
    {
     "name": "stdout",
     "output_type": "stream",
     "text": [
      "[CV]  activation=relu, alpha=0.05, hidden_layer_sizes=(20,), learning_rate=constant, solver=sgd, total=   0.7s\n",
      "[CV] activation=relu, alpha=0.05, hidden_layer_sizes=(20,), learning_rate=constant, solver=sgd \n"
     ]
    },
    {
     "name": "stderr",
     "output_type": "stream",
     "text": [
      "C:\\ProgramData\\Anaconda3_delete\\lib\\site-packages\\sklearn\\neural_network\\_multilayer_perceptron.py:582: ConvergenceWarning: Stochastic Optimizer: Maximum iterations (500) reached and the optimization hasn't converged yet.\n",
      "  warnings.warn(\n"
     ]
    },
    {
     "name": "stdout",
     "output_type": "stream",
     "text": [
      "[CV]  activation=relu, alpha=0.05, hidden_layer_sizes=(20,), learning_rate=constant, solver=sgd, total=   0.6s\n",
      "[CV] activation=relu, alpha=0.05, hidden_layer_sizes=(20,), learning_rate=constant, solver=sgd \n"
     ]
    },
    {
     "name": "stderr",
     "output_type": "stream",
     "text": [
      "C:\\ProgramData\\Anaconda3_delete\\lib\\site-packages\\sklearn\\neural_network\\_multilayer_perceptron.py:582: ConvergenceWarning: Stochastic Optimizer: Maximum iterations (500) reached and the optimization hasn't converged yet.\n",
      "  warnings.warn(\n"
     ]
    },
    {
     "name": "stdout",
     "output_type": "stream",
     "text": [
      "[CV]  activation=relu, alpha=0.05, hidden_layer_sizes=(20,), learning_rate=constant, solver=sgd, total=   0.4s\n",
      "[CV] activation=relu, alpha=0.05, hidden_layer_sizes=(20,), learning_rate=constant, solver=sgd \n"
     ]
    },
    {
     "name": "stderr",
     "output_type": "stream",
     "text": [
      "C:\\ProgramData\\Anaconda3_delete\\lib\\site-packages\\sklearn\\neural_network\\_multilayer_perceptron.py:582: ConvergenceWarning: Stochastic Optimizer: Maximum iterations (500) reached and the optimization hasn't converged yet.\n",
      "  warnings.warn(\n"
     ]
    },
    {
     "name": "stdout",
     "output_type": "stream",
     "text": [
      "[CV]  activation=relu, alpha=0.05, hidden_layer_sizes=(20,), learning_rate=constant, solver=sgd, total=   0.4s\n",
      "[CV] activation=relu, alpha=0.05, hidden_layer_sizes=(20,), learning_rate=constant, solver=sgd \n"
     ]
    },
    {
     "name": "stderr",
     "output_type": "stream",
     "text": [
      "C:\\ProgramData\\Anaconda3_delete\\lib\\site-packages\\sklearn\\neural_network\\_multilayer_perceptron.py:582: ConvergenceWarning: Stochastic Optimizer: Maximum iterations (500) reached and the optimization hasn't converged yet.\n",
      "  warnings.warn(\n"
     ]
    },
    {
     "name": "stdout",
     "output_type": "stream",
     "text": [
      "[CV]  activation=relu, alpha=0.05, hidden_layer_sizes=(20,), learning_rate=constant, solver=sgd, total=   0.4s\n",
      "[CV] activation=relu, alpha=0.05, hidden_layer_sizes=(20,), learning_rate=constant, solver=adam \n",
      "[CV]  activation=relu, alpha=0.05, hidden_layer_sizes=(20,), learning_rate=constant, solver=adam, total=   0.4s\n",
      "[CV] activation=relu, alpha=0.05, hidden_layer_sizes=(20,), learning_rate=constant, solver=adam \n",
      "[CV]  activation=relu, alpha=0.05, hidden_layer_sizes=(20,), learning_rate=constant, solver=adam, total=   0.4s\n",
      "[CV] activation=relu, alpha=0.05, hidden_layer_sizes=(20,), learning_rate=constant, solver=adam \n",
      "[CV]  activation=relu, alpha=0.05, hidden_layer_sizes=(20,), learning_rate=constant, solver=adam, total=   0.3s\n",
      "[CV] activation=relu, alpha=0.05, hidden_layer_sizes=(20,), learning_rate=constant, solver=adam \n"
     ]
    },
    {
     "name": "stderr",
     "output_type": "stream",
     "text": [
      "C:\\ProgramData\\Anaconda3_delete\\lib\\site-packages\\sklearn\\neural_network\\_multilayer_perceptron.py:582: ConvergenceWarning: Stochastic Optimizer: Maximum iterations (500) reached and the optimization hasn't converged yet.\n",
      "  warnings.warn(\n"
     ]
    },
    {
     "name": "stdout",
     "output_type": "stream",
     "text": [
      "[CV]  activation=relu, alpha=0.05, hidden_layer_sizes=(20,), learning_rate=constant, solver=adam, total=   0.4s\n",
      "[CV] activation=relu, alpha=0.05, hidden_layer_sizes=(20,), learning_rate=constant, solver=adam \n"
     ]
    },
    {
     "name": "stderr",
     "output_type": "stream",
     "text": [
      "C:\\ProgramData\\Anaconda3_delete\\lib\\site-packages\\sklearn\\neural_network\\_multilayer_perceptron.py:582: ConvergenceWarning: Stochastic Optimizer: Maximum iterations (500) reached and the optimization hasn't converged yet.\n",
      "  warnings.warn(\n"
     ]
    },
    {
     "name": "stdout",
     "output_type": "stream",
     "text": [
      "[CV]  activation=relu, alpha=0.05, hidden_layer_sizes=(20,), learning_rate=constant, solver=adam, total=   0.4s\n",
      "[CV] activation=relu, alpha=0.05, hidden_layer_sizes=(20,), learning_rate=adaptive, solver=sgd \n"
     ]
    },
    {
     "name": "stderr",
     "output_type": "stream",
     "text": [
      "C:\\ProgramData\\Anaconda3_delete\\lib\\site-packages\\sklearn\\neural_network\\_multilayer_perceptron.py:582: ConvergenceWarning: Stochastic Optimizer: Maximum iterations (500) reached and the optimization hasn't converged yet.\n",
      "  warnings.warn(\n"
     ]
    },
    {
     "name": "stdout",
     "output_type": "stream",
     "text": [
      "[CV]  activation=relu, alpha=0.05, hidden_layer_sizes=(20,), learning_rate=adaptive, solver=sgd, total=   0.4s\n",
      "[CV] activation=relu, alpha=0.05, hidden_layer_sizes=(20,), learning_rate=adaptive, solver=sgd \n"
     ]
    },
    {
     "name": "stderr",
     "output_type": "stream",
     "text": [
      "C:\\ProgramData\\Anaconda3_delete\\lib\\site-packages\\sklearn\\neural_network\\_multilayer_perceptron.py:582: ConvergenceWarning: Stochastic Optimizer: Maximum iterations (500) reached and the optimization hasn't converged yet.\n",
      "  warnings.warn(\n"
     ]
    },
    {
     "name": "stdout",
     "output_type": "stream",
     "text": [
      "[CV]  activation=relu, alpha=0.05, hidden_layer_sizes=(20,), learning_rate=adaptive, solver=sgd, total=   0.4s\n",
      "[CV] activation=relu, alpha=0.05, hidden_layer_sizes=(20,), learning_rate=adaptive, solver=sgd \n"
     ]
    },
    {
     "name": "stderr",
     "output_type": "stream",
     "text": [
      "C:\\ProgramData\\Anaconda3_delete\\lib\\site-packages\\sklearn\\neural_network\\_multilayer_perceptron.py:582: ConvergenceWarning: Stochastic Optimizer: Maximum iterations (500) reached and the optimization hasn't converged yet.\n",
      "  warnings.warn(\n"
     ]
    },
    {
     "name": "stdout",
     "output_type": "stream",
     "text": [
      "[CV]  activation=relu, alpha=0.05, hidden_layer_sizes=(20,), learning_rate=adaptive, solver=sgd, total=   0.4s\n",
      "[CV] activation=relu, alpha=0.05, hidden_layer_sizes=(20,), learning_rate=adaptive, solver=sgd \n"
     ]
    },
    {
     "name": "stderr",
     "output_type": "stream",
     "text": [
      "C:\\ProgramData\\Anaconda3_delete\\lib\\site-packages\\sklearn\\neural_network\\_multilayer_perceptron.py:582: ConvergenceWarning: Stochastic Optimizer: Maximum iterations (500) reached and the optimization hasn't converged yet.\n",
      "  warnings.warn(\n"
     ]
    },
    {
     "name": "stdout",
     "output_type": "stream",
     "text": [
      "[CV]  activation=relu, alpha=0.05, hidden_layer_sizes=(20,), learning_rate=adaptive, solver=sgd, total=   0.3s\n",
      "[CV] activation=relu, alpha=0.05, hidden_layer_sizes=(20,), learning_rate=adaptive, solver=sgd \n"
     ]
    },
    {
     "name": "stderr",
     "output_type": "stream",
     "text": [
      "C:\\ProgramData\\Anaconda3_delete\\lib\\site-packages\\sklearn\\neural_network\\_multilayer_perceptron.py:582: ConvergenceWarning: Stochastic Optimizer: Maximum iterations (500) reached and the optimization hasn't converged yet.\n",
      "  warnings.warn(\n"
     ]
    },
    {
     "name": "stdout",
     "output_type": "stream",
     "text": [
      "[CV]  activation=relu, alpha=0.05, hidden_layer_sizes=(20,), learning_rate=adaptive, solver=sgd, total=   0.4s\n",
      "[CV] activation=relu, alpha=0.05, hidden_layer_sizes=(20,), learning_rate=adaptive, solver=adam \n",
      "[CV]  activation=relu, alpha=0.05, hidden_layer_sizes=(20,), learning_rate=adaptive, solver=adam, total=   0.3s\n",
      "[CV] activation=relu, alpha=0.05, hidden_layer_sizes=(20,), learning_rate=adaptive, solver=adam \n"
     ]
    },
    {
     "name": "stderr",
     "output_type": "stream",
     "text": [
      "C:\\ProgramData\\Anaconda3_delete\\lib\\site-packages\\sklearn\\neural_network\\_multilayer_perceptron.py:582: ConvergenceWarning: Stochastic Optimizer: Maximum iterations (500) reached and the optimization hasn't converged yet.\n",
      "  warnings.warn(\n"
     ]
    },
    {
     "name": "stdout",
     "output_type": "stream",
     "text": [
      "[CV]  activation=relu, alpha=0.05, hidden_layer_sizes=(20,), learning_rate=adaptive, solver=adam, total=   0.4s\n",
      "[CV] activation=relu, alpha=0.05, hidden_layer_sizes=(20,), learning_rate=adaptive, solver=adam \n",
      "[CV]  activation=relu, alpha=0.05, hidden_layer_sizes=(20,), learning_rate=adaptive, solver=adam, total=   0.3s\n",
      "[CV] activation=relu, alpha=0.05, hidden_layer_sizes=(20,), learning_rate=adaptive, solver=adam \n",
      "[CV]  activation=relu, alpha=0.05, hidden_layer_sizes=(20,), learning_rate=adaptive, solver=adam, total=   0.3s\n",
      "[CV] activation=relu, alpha=0.05, hidden_layer_sizes=(20,), learning_rate=adaptive, solver=adam \n",
      "[CV]  activation=relu, alpha=0.05, hidden_layer_sizes=(20,), learning_rate=adaptive, solver=adam, total=   0.4s\n"
     ]
    },
    {
     "name": "stderr",
     "output_type": "stream",
     "text": [
      "[Parallel(n_jobs=1)]: Done 160 out of 160 | elapsed:  1.3min finished\n"
     ]
    },
    {
     "data": {
      "text/plain": [
       "GridSearchCV(cv=5, estimator=MLPClassifier(max_iter=500),\n",
       "             param_grid={'activation': ['tanh', 'relu'],\n",
       "                         'alpha': [0.0001, 0.05],\n",
       "                         'hidden_layer_sizes': [(10, 30, 10), (20,)],\n",
       "                         'learning_rate': ['constant', 'adaptive'],\n",
       "                         'solver': ['sgd', 'adam']},\n",
       "             verbose=2)"
      ]
     },
     "execution_count": 28,
     "metadata": {},
     "output_type": "execute_result"
    }
   ],
   "source": [
    "grid = GridSearchCV(MLPClassifier(max_iter=500),param_grid,refit=True,verbose=2,cv=5)\n",
    "grid.fit(X_train,y_train)"
   ]
  },
  {
   "cell_type": "code",
   "execution_count": 29,
   "metadata": {},
   "outputs": [],
   "source": [
    "classifier_RN = MLPClassifier(hidden_layer_sizes=(10,30,10),max_iter=500,alpha=0.05).fit(X_train, y_train)"
   ]
  },
  {
   "cell_type": "code",
   "execution_count": 30,
   "metadata": {},
   "outputs": [],
   "source": [
    "y_pred_RN = classifier_RN.predict(X_test)"
   ]
  },
  {
   "cell_type": "code",
   "execution_count": 31,
   "metadata": {},
   "outputs": [],
   "source": [
    "y_pred_prob_RN = classifier_RN.predict_proba(X_test)"
   ]
  },
  {
   "cell_type": "code",
   "execution_count": 32,
   "metadata": {},
   "outputs": [],
   "source": [
    "false_positive_rate_RN, true_positive_rate_RN, thresholds_RN = roc_curve(y_test_RN, y_pred_prob_RN[:,1])"
   ]
  },
  {
   "cell_type": "code",
   "execution_count": 33,
   "metadata": {},
   "outputs": [
    {
     "data": {
      "text/plain": [
       "0.975705329153605"
      ]
     },
     "execution_count": 33,
     "metadata": {},
     "output_type": "execute_result"
    }
   ],
   "source": [
    "roc_auc_RN = auc(false_positive_rate_RN, true_positive_rate_RN)\n",
    "roc_auc_RN"
   ]
  },
  {
   "cell_type": "code",
   "execution_count": 34,
   "metadata": {},
   "outputs": [
    {
     "data": {
      "image/png": "[encoded data removed]",
      "text/plain": [
       "<Figure size 432x288 with 1 Axes>"
      ]
     },
     "metadata": {
      "needs_background": "light"
     },
     "output_type": "display_data"
    }
   ],
   "source": [
    "###############\n",
    "#1\n",
    "plt.title('Receiver Operating Characteristic')\n",
    "\n",
    "plt.plot(false_positive_rate,true_positive_rate, color='blue',label = 'AUC_B = %0.3f' % roc_auc)\n",
    "\n",
    "plt.plot(false_positive_rate_DT,true_positive_rate_DT, color='green',label = 'AUC_DT = %0.3f' % roc_auc_DT)\n",
    "\n",
    "plt.plot(false_positive_rate_KNN,true_positive_rate_KNN, color='orange',label = 'AUC_KNN = %0.3f' % roc_auc_KNN)\n",
    "\n",
    "plt.plot(false_positive_rate_RN,true_positive_rate_RN, color='red',label = 'AUC_RN = %0.3f' % roc_auc_RN)\n",
    "\n",
    "plt.legend(loc = 'lower right')\n",
    "\n",
    "plt.plot([0, 1], [0, 1],linestyle='--')\n",
    "\n",
    "plt.axis('tight')\n",
    "\n",
    "plt.ylabel('True Positive Rate')\n",
    "\n",
    "plt.xlabel('False Positive Rate')\n",
    "\n",
    "plt.show()"
   ]
  },
  {
   "cell_type": "code",
   "execution_count": 35,
   "metadata": {},
   "outputs": [],
   "source": [
    "#El AUC (AREA UNDER CURVE) MAYOR ES EL DE NAIVE BAYES, POR LO TANTO, ES EL MEJOR MODELO A USAR\n",
    "#Y ES EL QUE USAREMOS PARA REALIZAR LA CLASIFICACION EN LA PREGUNTA 3"
   ]
  },
  {
   "cell_type": "code",
   "execution_count": 36,
   "metadata": {},
   "outputs": [
    {
     "ename": "NameError",
     "evalue": "name 'y_pred' is not defined",
     "output_type": "error",
     "traceback": [
      "\u001b[1;31m---------------------------------------------------------------------------\u001b[0m",
      "\u001b[1;31mNameError\u001b[0m                                 Traceback (most recent call last)",
      "\u001b[1;32m<ipython-input-36-d4ef2c66a011>\u001b[0m in \u001b[0;36m<module>\u001b[1;34m\u001b[0m\n\u001b[0;32m      2\u001b[0m \u001b[1;31m#2\u001b[0m\u001b[1;33m\u001b[0m\u001b[1;33m\u001b[0m\u001b[1;33m\u001b[0m\u001b[0m\n\u001b[0;32m      3\u001b[0m \u001b[1;31m#NAIVE BAYES\u001b[0m\u001b[1;33m\u001b[0m\u001b[1;33m\u001b[0m\u001b[1;33m\u001b[0m\u001b[0m\n\u001b[1;32m----> 4\u001b[1;33m \u001b[0mprint\u001b[0m\u001b[1;33m(\u001b[0m\u001b[0mclassification_report\u001b[0m\u001b[1;33m(\u001b[0m\u001b[0my_test\u001b[0m\u001b[1;33m,\u001b[0m \u001b[0my_pred\u001b[0m\u001b[1;33m)\u001b[0m\u001b[1;33m)\u001b[0m\u001b[1;33m\u001b[0m\u001b[1;33m\u001b[0m\u001b[0m\n\u001b[0m",
      "\u001b[1;31mNameError\u001b[0m: name 'y_pred' is not defined"
     ]
    }
   ],
   "source": [
    "#####\n",
    "#2\n",
    "#NAIVE BAYES\n",
    "print(classification_report(y_test, y_pred))"
   ]
  },
  {
   "cell_type": "code",
   "execution_count": null,
   "metadata": {},
   "outputs": [],
   "source": [
    "#DECISION TREE\n",
    "print(classification_report(y_test_DT,y_pred_DT)[])"
   ]
  },
  {
   "cell_type": "code",
   "execution_count": null,
   "metadata": {},
   "outputs": [],
   "source": [
    "#KNN\n",
    "print(classification_report(y_test_KNN, y_pred_KNN))"
   ]
  },
  {
   "cell_type": "code",
   "execution_count": null,
   "metadata": {},
   "outputs": [],
   "source": [
    "#REDES NEURONALES\n",
    "print(classification_report(y_test_RN, y_pred_RN))"
   ]
  },
  {
   "cell_type": "code",
   "execution_count": null,
   "metadata": {},
   "outputs": [],
   "source": [
    "#####\n",
    "#3\n",
    "#MOSTRANDO LOS DATOS DEL MODELO QUE OBTUVO MAYOR AUC (NAIVE BAYES)\n",
    "dataf = pd.concat([pd.DataFrame(X_test),pd.DataFrame(y_test),pd.DataFrame(y_pred),pd.DataFrame(y_pred_prob)],axis=1)\n",
    "dataf.head(10)"
   ]
  },
  {
   "cell_type": "code",
   "execution_count": null,
   "metadata": {},
   "outputs": [],
   "source": [
    "dataf.columns = ['c_age','c_estimatedSalary','Purchased','Purchased_Pred','Target_Pred_Prob_0','Target_Pred_Prob_1']\n",
    "dataf.head(10)"
   ]
  },
  {
   "cell_type": "code",
   "execution_count": null,
   "metadata": {},
   "outputs": [],
   "source": [
    "###############\n",
    "#CREACION DE LA NUEVA COLUMNA\n",
    "newColumn=pd.DataFrame(columns=['score'])\n",
    "lista=[]\n",
    "dataframe_2=pd.DataFrame(dataf)\n",
    "\n",
    "for i in range (len(dataf)):\n",
    "    if dataf['Target_Pred_Prob_1'][i] <= 0.2:\n",
    "        lista.append(\"MB\")\n",
    "    elif dataf['Target_Pred_Prob_1'][i] > 0.2 and dataf['Target_Pred_Prob_1'][i] <= 0.4:\n",
    "        lista.append(\"B\")\n",
    "    elif dataf['Target_Pred_Prob_1'][i] > 0.4 and dataf['Target_Pred_Prob_1'][i] <= 0.6:\n",
    "        lista.append(\"M\")\n",
    "    elif dataf['Target_Pred_Prob_1'][i] > 0.6 and dataf['Target_Pred_Prob_1'][i] <= 0.8:\n",
    "        lista.append(\"A\")\n",
    "    else:\n",
    "        lista.append(\"MA\")\n",
    "for i in range (len(dataf)):\n",
    "    newColumn.loc[i]=lista[i]\n",
    "dataframe_2[\"Score\"]=newColumn['score']\n",
    "dataframe_2.head(8)"
   ]
  },
  {
   "cell_type": "code",
   "execution_count": null,
   "metadata": {},
   "outputs": [],
   "source": []
  }
 ],
 "metadata": {
  "kernelspec": {
   "display_name": "Python 3",
   "language": "python",
   "name": "python3"
  },
  "language_info": {
   "codemirror_mode": {
    "name": "ipython",
    "version": 3
   },
   "file_extension": ".py",
   "mimetype": "text/x-python",
   "name": "python",
   "nbconvert_exporter": "python",
   "pygments_lexer": "ipython3",
   "version": "3.8.5"
  }
 },
 "nbformat": 4,
 "nbformat_minor": 5
}
