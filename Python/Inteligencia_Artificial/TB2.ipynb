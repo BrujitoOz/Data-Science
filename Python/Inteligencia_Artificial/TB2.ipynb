{
 "cells": [
  {
   "cell_type": "code",
   "execution_count": 11,
   "metadata": {},
   "outputs": [],
   "source": [
    "import pandas as pd\n",
    "import matplotlib.pyplot as plt\n",
    "import seaborn as sns\n",
    "import numpy as np\n",
    "import scipy.stats as ss\n",
    "from scipy.stats import chi2_contingency\n",
    "from sklearn.model_selection import train_test_split\n",
    "from sklearn.svm import SVC\n",
    "from sklearn.metrics import classification_report, confusion_matrix\n",
    "from sklearn.metrics import plot_confusion_matrix\n",
    "from sklearn.metrics import roc_curve, auc, roc_auc_score\n",
    "from sklearn.preprocessing import StandardScaler\n",
    "from sklearn.preprocessing import LabelEncoder\n",
    "from sklearn.model_selection import cross_val_score\n",
    "from sklearn.model_selection import GridSearchCV\n",
    "\n",
    "from sklearn.ensemble import RandomForestClassifier\n",
    "from sklearn.metrics import roc_curve, auc, roc_auc_score\n",
    "\n",
    "from sklearn.ensemble import  GradientBoostingClassifier\n",
    "\n",
    "\n",
    "from sklearn import linear_model\n",
    "import statsmodels.api as sm\n",
    "import statsmodels.formula.api as smf\n",
    "from sklearn.metrics import mean_squared_error, r2_score\n",
    "\n",
    "from sklearn.linear_model import LogisticRegression\n",
    "from collections import Counter\n",
    "#from imblearn.over_sampling import SMOTE\n",
    "#from imblearn.over_sampling import RandomOverSampler\n",
    "#from imblearn.under_sampling import RandomUnderSampler\n",
    "\n",
    "from sklearn.cluster import KMeans\n",
    "from sklearn.metrics import pairwise_distances_argmin_min\n",
    "from sklearn.metrics import silhouette_samples, silhouette_score\n",
    "\n",
    "#from google.colab import files\n",
    "#from mlxtend.frequent_patterns import apriori, association_rules\n",
    "#import io\n",
    "#from mlxtend.preprocessing import TransactionEncoder"
   ]
  },
  {
   "cell_type": "code",
   "execution_count": 13,
   "metadata": {},
   "outputs": [
    {
     "name": "stdout",
     "output_type": "stream",
     "text": [
      "<class 'pandas.core.frame.DataFrame'>\n",
      "RangeIndex: 2666 entries, 0 to 2665\n",
      "Data columns (total 20 columns):\n",
      " #   Column                  Non-Null Count  Dtype  \n",
      "---  ------                  --------------  -----  \n",
      " 0   State                   2666 non-null   object \n",
      " 1   Account length          2666 non-null   int64  \n",
      " 2   Area code               2666 non-null   int64  \n",
      " 3   International plan      2666 non-null   object \n",
      " 4   Voice mail plan         2666 non-null   object \n",
      " 5   Number vmail messages   2666 non-null   int64  \n",
      " 6   Total day minutes       2666 non-null   float64\n",
      " 7   Total day calls         2666 non-null   int64  \n",
      " 8   Total day charge        2666 non-null   float64\n",
      " 9   Total eve minutes       2666 non-null   float64\n",
      " 10  Total eve calls         2666 non-null   int64  \n",
      " 11  Total eve charge        2666 non-null   float64\n",
      " 12  Total night minutes     2666 non-null   float64\n",
      " 13  Total night calls       2666 non-null   int64  \n",
      " 14  Total night charge      2666 non-null   float64\n",
      " 15  Total intl minutes      2666 non-null   float64\n",
      " 16  Total intl calls        2666 non-null   int64  \n",
      " 17  Total intl charge       2666 non-null   float64\n",
      " 18  Customer service calls  2666 non-null   int64  \n",
      " 19  Churn                   2666 non-null   bool   \n",
      "dtypes: bool(1), float64(8), int64(8), object(3)\n",
      "memory usage: 398.5+ KB\n"
     ]
    }
   ],
   "source": [
    "data80 = pd.read_csv('C:/Users/Juan/Desktop/UPC/Septimo Ciclo/MachineLearning/TB2/churn-bigml-80.csv')\n",
    "data20 = pd.read_csv('C:/Users/Juan/Desktop/UPC/Septimo Ciclo/MachineLearning/TB2/churn-bigml-20.csv')\n",
    "data80.info()"
   ]
  },
  {
   "cell_type": "code",
   "execution_count": 14,
   "metadata": {},
   "outputs": [
    {
     "data": {
      "text/html": [
       "<div>\n",
       "<style scoped>\n",
       "    .dataframe tbody tr th:only-of-type {\n",
       "        vertical-align: middle;\n",
       "    }\n",
       "\n",
       "    .dataframe tbody tr th {\n",
       "        vertical-align: top;\n",
       "    }\n",
       "\n",
       "    .dataframe thead th {\n",
       "        text-align: right;\n",
       "    }\n",
       "</style>\n",
       "<table border=\"1\" class=\"dataframe\">\n",
       "  <thead>\n",
       "    <tr style=\"text-align: right;\">\n",
       "      <th></th>\n",
       "      <th>State</th>\n",
       "      <th>Account length</th>\n",
       "      <th>Area code</th>\n",
       "      <th>International plan</th>\n",
       "      <th>Voice mail plan</th>\n",
       "      <th>Number vmail messages</th>\n",
       "      <th>Total day minutes</th>\n",
       "      <th>Total day calls</th>\n",
       "      <th>Total day charge</th>\n",
       "      <th>Total eve minutes</th>\n",
       "      <th>Total eve calls</th>\n",
       "      <th>Total eve charge</th>\n",
       "      <th>Total night minutes</th>\n",
       "      <th>Total night calls</th>\n",
       "      <th>Total night charge</th>\n",
       "      <th>Total intl minutes</th>\n",
       "      <th>Total intl calls</th>\n",
       "      <th>Total intl charge</th>\n",
       "      <th>Customer service calls</th>\n",
       "      <th>Churn</th>\n",
       "    </tr>\n",
       "  </thead>\n",
       "  <tbody>\n",
       "    <tr>\n",
       "      <th>count</th>\n",
       "      <td>3333</td>\n",
       "      <td>3333.000000</td>\n",
       "      <td>3333.000000</td>\n",
       "      <td>3333</td>\n",
       "      <td>3333</td>\n",
       "      <td>3333.000000</td>\n",
       "      <td>3333.000000</td>\n",
       "      <td>3333.000000</td>\n",
       "      <td>3333.000000</td>\n",
       "      <td>3333.000000</td>\n",
       "      <td>3333.000000</td>\n",
       "      <td>3333.000000</td>\n",
       "      <td>3333.000000</td>\n",
       "      <td>3333.000000</td>\n",
       "      <td>3333.000000</td>\n",
       "      <td>3333.000000</td>\n",
       "      <td>3333.000000</td>\n",
       "      <td>3333.000000</td>\n",
       "      <td>3333.000000</td>\n",
       "      <td>3333</td>\n",
       "    </tr>\n",
       "    <tr>\n",
       "      <th>unique</th>\n",
       "      <td>51</td>\n",
       "      <td>NaN</td>\n",
       "      <td>NaN</td>\n",
       "      <td>2</td>\n",
       "      <td>2</td>\n",
       "      <td>NaN</td>\n",
       "      <td>NaN</td>\n",
       "      <td>NaN</td>\n",
       "      <td>NaN</td>\n",
       "      <td>NaN</td>\n",
       "      <td>NaN</td>\n",
       "      <td>NaN</td>\n",
       "      <td>NaN</td>\n",
       "      <td>NaN</td>\n",
       "      <td>NaN</td>\n",
       "      <td>NaN</td>\n",
       "      <td>NaN</td>\n",
       "      <td>NaN</td>\n",
       "      <td>NaN</td>\n",
       "      <td>2</td>\n",
       "    </tr>\n",
       "    <tr>\n",
       "      <th>top</th>\n",
       "      <td>WV</td>\n",
       "      <td>NaN</td>\n",
       "      <td>NaN</td>\n",
       "      <td>No</td>\n",
       "      <td>No</td>\n",
       "      <td>NaN</td>\n",
       "      <td>NaN</td>\n",
       "      <td>NaN</td>\n",
       "      <td>NaN</td>\n",
       "      <td>NaN</td>\n",
       "      <td>NaN</td>\n",
       "      <td>NaN</td>\n",
       "      <td>NaN</td>\n",
       "      <td>NaN</td>\n",
       "      <td>NaN</td>\n",
       "      <td>NaN</td>\n",
       "      <td>NaN</td>\n",
       "      <td>NaN</td>\n",
       "      <td>NaN</td>\n",
       "      <td>False</td>\n",
       "    </tr>\n",
       "    <tr>\n",
       "      <th>freq</th>\n",
       "      <td>106</td>\n",
       "      <td>NaN</td>\n",
       "      <td>NaN</td>\n",
       "      <td>3010</td>\n",
       "      <td>2411</td>\n",
       "      <td>NaN</td>\n",
       "      <td>NaN</td>\n",
       "      <td>NaN</td>\n",
       "      <td>NaN</td>\n",
       "      <td>NaN</td>\n",
       "      <td>NaN</td>\n",
       "      <td>NaN</td>\n",
       "      <td>NaN</td>\n",
       "      <td>NaN</td>\n",
       "      <td>NaN</td>\n",
       "      <td>NaN</td>\n",
       "      <td>NaN</td>\n",
       "      <td>NaN</td>\n",
       "      <td>NaN</td>\n",
       "      <td>2850</td>\n",
       "    </tr>\n",
       "    <tr>\n",
       "      <th>mean</th>\n",
       "      <td>NaN</td>\n",
       "      <td>101.064806</td>\n",
       "      <td>437.182418</td>\n",
       "      <td>NaN</td>\n",
       "      <td>NaN</td>\n",
       "      <td>8.099010</td>\n",
       "      <td>179.775098</td>\n",
       "      <td>100.435644</td>\n",
       "      <td>30.562307</td>\n",
       "      <td>200.980348</td>\n",
       "      <td>100.114311</td>\n",
       "      <td>17.083540</td>\n",
       "      <td>200.872037</td>\n",
       "      <td>100.107711</td>\n",
       "      <td>9.039325</td>\n",
       "      <td>10.237294</td>\n",
       "      <td>4.479448</td>\n",
       "      <td>2.764581</td>\n",
       "      <td>1.562856</td>\n",
       "      <td>NaN</td>\n",
       "    </tr>\n",
       "    <tr>\n",
       "      <th>std</th>\n",
       "      <td>NaN</td>\n",
       "      <td>39.822106</td>\n",
       "      <td>42.371290</td>\n",
       "      <td>NaN</td>\n",
       "      <td>NaN</td>\n",
       "      <td>13.688365</td>\n",
       "      <td>54.467389</td>\n",
       "      <td>20.069084</td>\n",
       "      <td>9.259435</td>\n",
       "      <td>50.713844</td>\n",
       "      <td>19.922625</td>\n",
       "      <td>4.310668</td>\n",
       "      <td>50.573847</td>\n",
       "      <td>19.568609</td>\n",
       "      <td>2.275873</td>\n",
       "      <td>2.791840</td>\n",
       "      <td>2.461214</td>\n",
       "      <td>0.753773</td>\n",
       "      <td>1.315491</td>\n",
       "      <td>NaN</td>\n",
       "    </tr>\n",
       "    <tr>\n",
       "      <th>min</th>\n",
       "      <td>NaN</td>\n",
       "      <td>1.000000</td>\n",
       "      <td>408.000000</td>\n",
       "      <td>NaN</td>\n",
       "      <td>NaN</td>\n",
       "      <td>0.000000</td>\n",
       "      <td>0.000000</td>\n",
       "      <td>0.000000</td>\n",
       "      <td>0.000000</td>\n",
       "      <td>0.000000</td>\n",
       "      <td>0.000000</td>\n",
       "      <td>0.000000</td>\n",
       "      <td>23.200000</td>\n",
       "      <td>33.000000</td>\n",
       "      <td>1.040000</td>\n",
       "      <td>0.000000</td>\n",
       "      <td>0.000000</td>\n",
       "      <td>0.000000</td>\n",
       "      <td>0.000000</td>\n",
       "      <td>NaN</td>\n",
       "    </tr>\n",
       "    <tr>\n",
       "      <th>25%</th>\n",
       "      <td>NaN</td>\n",
       "      <td>74.000000</td>\n",
       "      <td>408.000000</td>\n",
       "      <td>NaN</td>\n",
       "      <td>NaN</td>\n",
       "      <td>0.000000</td>\n",
       "      <td>143.700000</td>\n",
       "      <td>87.000000</td>\n",
       "      <td>24.430000</td>\n",
       "      <td>166.600000</td>\n",
       "      <td>87.000000</td>\n",
       "      <td>14.160000</td>\n",
       "      <td>167.000000</td>\n",
       "      <td>87.000000</td>\n",
       "      <td>7.520000</td>\n",
       "      <td>8.500000</td>\n",
       "      <td>3.000000</td>\n",
       "      <td>2.300000</td>\n",
       "      <td>1.000000</td>\n",
       "      <td>NaN</td>\n",
       "    </tr>\n",
       "    <tr>\n",
       "      <th>50%</th>\n",
       "      <td>NaN</td>\n",
       "      <td>101.000000</td>\n",
       "      <td>415.000000</td>\n",
       "      <td>NaN</td>\n",
       "      <td>NaN</td>\n",
       "      <td>0.000000</td>\n",
       "      <td>179.400000</td>\n",
       "      <td>101.000000</td>\n",
       "      <td>30.500000</td>\n",
       "      <td>201.400000</td>\n",
       "      <td>100.000000</td>\n",
       "      <td>17.120000</td>\n",
       "      <td>201.200000</td>\n",
       "      <td>100.000000</td>\n",
       "      <td>9.050000</td>\n",
       "      <td>10.300000</td>\n",
       "      <td>4.000000</td>\n",
       "      <td>2.780000</td>\n",
       "      <td>1.000000</td>\n",
       "      <td>NaN</td>\n",
       "    </tr>\n",
       "    <tr>\n",
       "      <th>75%</th>\n",
       "      <td>NaN</td>\n",
       "      <td>127.000000</td>\n",
       "      <td>510.000000</td>\n",
       "      <td>NaN</td>\n",
       "      <td>NaN</td>\n",
       "      <td>20.000000</td>\n",
       "      <td>216.400000</td>\n",
       "      <td>114.000000</td>\n",
       "      <td>36.790000</td>\n",
       "      <td>235.300000</td>\n",
       "      <td>114.000000</td>\n",
       "      <td>20.000000</td>\n",
       "      <td>235.300000</td>\n",
       "      <td>113.000000</td>\n",
       "      <td>10.590000</td>\n",
       "      <td>12.100000</td>\n",
       "      <td>6.000000</td>\n",
       "      <td>3.270000</td>\n",
       "      <td>2.000000</td>\n",
       "      <td>NaN</td>\n",
       "    </tr>\n",
       "    <tr>\n",
       "      <th>max</th>\n",
       "      <td>NaN</td>\n",
       "      <td>243.000000</td>\n",
       "      <td>510.000000</td>\n",
       "      <td>NaN</td>\n",
       "      <td>NaN</td>\n",
       "      <td>51.000000</td>\n",
       "      <td>350.800000</td>\n",
       "      <td>165.000000</td>\n",
       "      <td>59.640000</td>\n",
       "      <td>363.700000</td>\n",
       "      <td>170.000000</td>\n",
       "      <td>30.910000</td>\n",
       "      <td>395.000000</td>\n",
       "      <td>175.000000</td>\n",
       "      <td>17.770000</td>\n",
       "      <td>20.000000</td>\n",
       "      <td>20.000000</td>\n",
       "      <td>5.400000</td>\n",
       "      <td>9.000000</td>\n",
       "      <td>NaN</td>\n",
       "    </tr>\n",
       "  </tbody>\n",
       "</table>\n",
       "</div>"
      ],
      "text/plain": [
       "       State  Account length    Area code International plan Voice mail plan  \\\n",
       "count   3333     3333.000000  3333.000000               3333            3333   \n",
       "unique    51             NaN          NaN                  2               2   \n",
       "top       WV             NaN          NaN                 No              No   \n",
       "freq     106             NaN          NaN               3010            2411   \n",
       "mean     NaN      101.064806   437.182418                NaN             NaN   \n",
       "std      NaN       39.822106    42.371290                NaN             NaN   \n",
       "min      NaN        1.000000   408.000000                NaN             NaN   \n",
       "25%      NaN       74.000000   408.000000                NaN             NaN   \n",
       "50%      NaN      101.000000   415.000000                NaN             NaN   \n",
       "75%      NaN      127.000000   510.000000                NaN             NaN   \n",
       "max      NaN      243.000000   510.000000                NaN             NaN   \n",
       "\n",
       "        Number vmail messages  Total day minutes  Total day calls  \\\n",
       "count             3333.000000        3333.000000      3333.000000   \n",
       "unique                    NaN                NaN              NaN   \n",
       "top                       NaN                NaN              NaN   \n",
       "freq                      NaN                NaN              NaN   \n",
       "mean                 8.099010         179.775098       100.435644   \n",
       "std                 13.688365          54.467389        20.069084   \n",
       "min                  0.000000           0.000000         0.000000   \n",
       "25%                  0.000000         143.700000        87.000000   \n",
       "50%                  0.000000         179.400000       101.000000   \n",
       "75%                 20.000000         216.400000       114.000000   \n",
       "max                 51.000000         350.800000       165.000000   \n",
       "\n",
       "        Total day charge  Total eve minutes  Total eve calls  \\\n",
       "count        3333.000000        3333.000000      3333.000000   \n",
       "unique               NaN                NaN              NaN   \n",
       "top                  NaN                NaN              NaN   \n",
       "freq                 NaN                NaN              NaN   \n",
       "mean           30.562307         200.980348       100.114311   \n",
       "std             9.259435          50.713844        19.922625   \n",
       "min             0.000000           0.000000         0.000000   \n",
       "25%            24.430000         166.600000        87.000000   \n",
       "50%            30.500000         201.400000       100.000000   \n",
       "75%            36.790000         235.300000       114.000000   \n",
       "max            59.640000         363.700000       170.000000   \n",
       "\n",
       "        Total eve charge  Total night minutes  Total night calls  \\\n",
       "count        3333.000000          3333.000000        3333.000000   \n",
       "unique               NaN                  NaN                NaN   \n",
       "top                  NaN                  NaN                NaN   \n",
       "freq                 NaN                  NaN                NaN   \n",
       "mean           17.083540           200.872037         100.107711   \n",
       "std             4.310668            50.573847          19.568609   \n",
       "min             0.000000            23.200000          33.000000   \n",
       "25%            14.160000           167.000000          87.000000   \n",
       "50%            17.120000           201.200000         100.000000   \n",
       "75%            20.000000           235.300000         113.000000   \n",
       "max            30.910000           395.000000         175.000000   \n",
       "\n",
       "        Total night charge  Total intl minutes  Total intl calls  \\\n",
       "count          3333.000000         3333.000000       3333.000000   \n",
       "unique                 NaN                 NaN               NaN   \n",
       "top                    NaN                 NaN               NaN   \n",
       "freq                   NaN                 NaN               NaN   \n",
       "mean              9.039325           10.237294          4.479448   \n",
       "std               2.275873            2.791840          2.461214   \n",
       "min               1.040000            0.000000          0.000000   \n",
       "25%               7.520000            8.500000          3.000000   \n",
       "50%               9.050000           10.300000          4.000000   \n",
       "75%              10.590000           12.100000          6.000000   \n",
       "max              17.770000           20.000000         20.000000   \n",
       "\n",
       "        Total intl charge  Customer service calls  Churn  \n",
       "count         3333.000000             3333.000000   3333  \n",
       "unique                NaN                     NaN      2  \n",
       "top                   NaN                     NaN  False  \n",
       "freq                  NaN                     NaN   2850  \n",
       "mean             2.764581                1.562856    NaN  \n",
       "std              0.753773                1.315491    NaN  \n",
       "min              0.000000                0.000000    NaN  \n",
       "25%              2.300000                1.000000    NaN  \n",
       "50%              2.780000                1.000000    NaN  \n",
       "75%              3.270000                2.000000    NaN  \n",
       "max              5.400000                9.000000    NaN  "
      ]
     },
     "execution_count": 14,
     "metadata": {},
     "output_type": "execute_result"
    }
   ],
   "source": [
    "dataTotal = data80.append(data20)\n",
    "dataTotal.describe(include ='all')"
   ]
  },
  {
   "cell_type": "code",
   "execution_count": 21,
   "metadata": {},
   "outputs": [
    {
     "data": {
      "text/html": [
       "<div>\n",
       "<style scoped>\n",
       "    .dataframe tbody tr th:only-of-type {\n",
       "        vertical-align: middle;\n",
       "    }\n",
       "\n",
       "    .dataframe tbody tr th {\n",
       "        vertical-align: top;\n",
       "    }\n",
       "\n",
       "    .dataframe thead th {\n",
       "        text-align: right;\n",
       "    }\n",
       "</style>\n",
       "<table border=\"1\" class=\"dataframe\">\n",
       "  <thead>\n",
       "    <tr style=\"text-align: right;\">\n",
       "      <th></th>\n",
       "      <th>Account length</th>\n",
       "      <th>Area code</th>\n",
       "      <th>Number vmail messages</th>\n",
       "      <th>Total day minutes</th>\n",
       "      <th>Total day calls</th>\n",
       "      <th>Total day charge</th>\n",
       "      <th>Total eve minutes</th>\n",
       "      <th>Total eve calls</th>\n",
       "      <th>Total eve charge</th>\n",
       "      <th>Total night minutes</th>\n",
       "      <th>Total night calls</th>\n",
       "      <th>Total night charge</th>\n",
       "      <th>Total intl minutes</th>\n",
       "      <th>Total intl calls</th>\n",
       "      <th>Total intl charge</th>\n",
       "      <th>Customer service calls</th>\n",
       "      <th>Churn</th>\n",
       "    </tr>\n",
       "  </thead>\n",
       "  <tbody>\n",
       "    <tr>\n",
       "      <th>Account length</th>\n",
       "      <td>1.000000</td>\n",
       "      <td>-0.017439</td>\n",
       "      <td>0.003077</td>\n",
       "      <td>0.017884</td>\n",
       "      <td>0.032690</td>\n",
       "      <td>0.017884</td>\n",
       "      <td>-0.007954</td>\n",
       "      <td>0.018378</td>\n",
       "      <td>-0.007950</td>\n",
       "      <td>-0.013643</td>\n",
       "      <td>-0.007669</td>\n",
       "      <td>-0.013654</td>\n",
       "      <td>0.014761</td>\n",
       "      <td>0.027453</td>\n",
       "      <td>0.014761</td>\n",
       "      <td>-0.005942</td>\n",
       "      <td>0.015583</td>\n",
       "    </tr>\n",
       "    <tr>\n",
       "      <th>Area code</th>\n",
       "      <td>-0.017439</td>\n",
       "      <td>1.000000</td>\n",
       "      <td>0.010228</td>\n",
       "      <td>0.008327</td>\n",
       "      <td>-0.004061</td>\n",
       "      <td>0.008327</td>\n",
       "      <td>0.005023</td>\n",
       "      <td>-0.005238</td>\n",
       "      <td>0.005035</td>\n",
       "      <td>0.008652</td>\n",
       "      <td>0.024707</td>\n",
       "      <td>0.008635</td>\n",
       "      <td>0.003164</td>\n",
       "      <td>-0.005177</td>\n",
       "      <td>0.003164</td>\n",
       "      <td>0.031850</td>\n",
       "      <td>0.003257</td>\n",
       "    </tr>\n",
       "    <tr>\n",
       "      <th>Number vmail messages</th>\n",
       "      <td>0.003077</td>\n",
       "      <td>0.010228</td>\n",
       "      <td>1.000000</td>\n",
       "      <td>0.004006</td>\n",
       "      <td>-0.012396</td>\n",
       "      <td>0.004006</td>\n",
       "      <td>0.021162</td>\n",
       "      <td>-0.007148</td>\n",
       "      <td>0.021177</td>\n",
       "      <td>0.005053</td>\n",
       "      <td>0.010975</td>\n",
       "      <td>0.005036</td>\n",
       "      <td>-0.001565</td>\n",
       "      <td>0.006248</td>\n",
       "      <td>-0.001565</td>\n",
       "      <td>-0.019639</td>\n",
       "      <td>-0.095358</td>\n",
       "    </tr>\n",
       "    <tr>\n",
       "      <th>Total day minutes</th>\n",
       "      <td>0.017884</td>\n",
       "      <td>0.008327</td>\n",
       "      <td>0.004006</td>\n",
       "      <td>1.000000</td>\n",
       "      <td>0.009391</td>\n",
       "      <td>1.000000</td>\n",
       "      <td>0.006405</td>\n",
       "      <td>0.017867</td>\n",
       "      <td>0.006391</td>\n",
       "      <td>-0.005699</td>\n",
       "      <td>0.023052</td>\n",
       "      <td>-0.005730</td>\n",
       "      <td>-0.016110</td>\n",
       "      <td>-0.000291</td>\n",
       "      <td>-0.016110</td>\n",
       "      <td>-0.015032</td>\n",
       "      <td>0.170677</td>\n",
       "    </tr>\n",
       "    <tr>\n",
       "      <th>Total day calls</th>\n",
       "      <td>0.032690</td>\n",
       "      <td>-0.004061</td>\n",
       "      <td>-0.012396</td>\n",
       "      <td>0.009391</td>\n",
       "      <td>1.000000</td>\n",
       "      <td>0.009391</td>\n",
       "      <td>-0.014062</td>\n",
       "      <td>0.013807</td>\n",
       "      <td>-0.014063</td>\n",
       "      <td>0.018890</td>\n",
       "      <td>-0.017848</td>\n",
       "      <td>0.018857</td>\n",
       "      <td>0.015139</td>\n",
       "      <td>0.004148</td>\n",
       "      <td>0.015139</td>\n",
       "      <td>-0.020957</td>\n",
       "      <td>0.026311</td>\n",
       "    </tr>\n",
       "    <tr>\n",
       "      <th>Total day charge</th>\n",
       "      <td>0.017884</td>\n",
       "      <td>0.008327</td>\n",
       "      <td>0.004006</td>\n",
       "      <td>1.000000</td>\n",
       "      <td>0.009391</td>\n",
       "      <td>1.000000</td>\n",
       "      <td>0.006405</td>\n",
       "      <td>0.017867</td>\n",
       "      <td>0.006391</td>\n",
       "      <td>-0.005699</td>\n",
       "      <td>0.023052</td>\n",
       "      <td>-0.005730</td>\n",
       "      <td>-0.016110</td>\n",
       "      <td>-0.000291</td>\n",
       "      <td>-0.016110</td>\n",
       "      <td>-0.015032</td>\n",
       "      <td>0.170677</td>\n",
       "    </tr>\n",
       "    <tr>\n",
       "      <th>Total eve minutes</th>\n",
       "      <td>-0.007954</td>\n",
       "      <td>0.005023</td>\n",
       "      <td>0.021162</td>\n",
       "      <td>0.006405</td>\n",
       "      <td>-0.014062</td>\n",
       "      <td>0.006405</td>\n",
       "      <td>1.000000</td>\n",
       "      <td>-0.010455</td>\n",
       "      <td>1.000000</td>\n",
       "      <td>-0.013211</td>\n",
       "      <td>0.003399</td>\n",
       "      <td>-0.013220</td>\n",
       "      <td>-0.003225</td>\n",
       "      <td>0.014281</td>\n",
       "      <td>-0.003225</td>\n",
       "      <td>-0.017805</td>\n",
       "      <td>0.088592</td>\n",
       "    </tr>\n",
       "    <tr>\n",
       "      <th>Total eve calls</th>\n",
       "      <td>0.018378</td>\n",
       "      <td>-0.005238</td>\n",
       "      <td>-0.007148</td>\n",
       "      <td>0.017867</td>\n",
       "      <td>0.013807</td>\n",
       "      <td>0.017867</td>\n",
       "      <td>-0.010455</td>\n",
       "      <td>1.000000</td>\n",
       "      <td>-0.010446</td>\n",
       "      <td>0.004870</td>\n",
       "      <td>0.005639</td>\n",
       "      <td>0.004892</td>\n",
       "      <td>0.000213</td>\n",
       "      <td>0.014862</td>\n",
       "      <td>0.000213</td>\n",
       "      <td>0.002697</td>\n",
       "      <td>0.008578</td>\n",
       "    </tr>\n",
       "    <tr>\n",
       "      <th>Total eve charge</th>\n",
       "      <td>-0.007950</td>\n",
       "      <td>0.005035</td>\n",
       "      <td>0.021177</td>\n",
       "      <td>0.006391</td>\n",
       "      <td>-0.014063</td>\n",
       "      <td>0.006391</td>\n",
       "      <td>1.000000</td>\n",
       "      <td>-0.010446</td>\n",
       "      <td>1.000000</td>\n",
       "      <td>-0.013216</td>\n",
       "      <td>0.003388</td>\n",
       "      <td>-0.013225</td>\n",
       "      <td>-0.003231</td>\n",
       "      <td>0.014289</td>\n",
       "      <td>-0.003231</td>\n",
       "      <td>-0.017800</td>\n",
       "      <td>0.088580</td>\n",
       "    </tr>\n",
       "    <tr>\n",
       "      <th>Total night minutes</th>\n",
       "      <td>-0.013643</td>\n",
       "      <td>0.008652</td>\n",
       "      <td>0.005053</td>\n",
       "      <td>-0.005699</td>\n",
       "      <td>0.018890</td>\n",
       "      <td>-0.005699</td>\n",
       "      <td>-0.013211</td>\n",
       "      <td>0.004870</td>\n",
       "      <td>-0.013216</td>\n",
       "      <td>1.000000</td>\n",
       "      <td>0.008580</td>\n",
       "      <td>0.999999</td>\n",
       "      <td>-0.010331</td>\n",
       "      <td>0.000485</td>\n",
       "      <td>-0.010331</td>\n",
       "      <td>-0.012713</td>\n",
       "      <td>0.034343</td>\n",
       "    </tr>\n",
       "    <tr>\n",
       "      <th>Total night calls</th>\n",
       "      <td>-0.007669</td>\n",
       "      <td>0.024707</td>\n",
       "      <td>0.010975</td>\n",
       "      <td>0.023052</td>\n",
       "      <td>-0.017848</td>\n",
       "      <td>0.023052</td>\n",
       "      <td>0.003399</td>\n",
       "      <td>0.005639</td>\n",
       "      <td>0.003388</td>\n",
       "      <td>0.008580</td>\n",
       "      <td>1.000000</td>\n",
       "      <td>0.008561</td>\n",
       "      <td>-0.006397</td>\n",
       "      <td>-0.003133</td>\n",
       "      <td>-0.006397</td>\n",
       "      <td>-0.008087</td>\n",
       "      <td>0.004694</td>\n",
       "    </tr>\n",
       "    <tr>\n",
       "      <th>Total night charge</th>\n",
       "      <td>-0.013654</td>\n",
       "      <td>0.008635</td>\n",
       "      <td>0.005036</td>\n",
       "      <td>-0.005730</td>\n",
       "      <td>0.018857</td>\n",
       "      <td>-0.005730</td>\n",
       "      <td>-0.013220</td>\n",
       "      <td>0.004892</td>\n",
       "      <td>-0.013225</td>\n",
       "      <td>0.999999</td>\n",
       "      <td>0.008561</td>\n",
       "      <td>1.000000</td>\n",
       "      <td>-0.010312</td>\n",
       "      <td>0.000480</td>\n",
       "      <td>-0.010312</td>\n",
       "      <td>-0.012709</td>\n",
       "      <td>0.034353</td>\n",
       "    </tr>\n",
       "    <tr>\n",
       "      <th>Total intl minutes</th>\n",
       "      <td>0.014761</td>\n",
       "      <td>0.003164</td>\n",
       "      <td>-0.001565</td>\n",
       "      <td>-0.016110</td>\n",
       "      <td>0.015139</td>\n",
       "      <td>-0.016110</td>\n",
       "      <td>-0.003225</td>\n",
       "      <td>0.000213</td>\n",
       "      <td>-0.003231</td>\n",
       "      <td>-0.010331</td>\n",
       "      <td>-0.006397</td>\n",
       "      <td>-0.010312</td>\n",
       "      <td>1.000000</td>\n",
       "      <td>0.017900</td>\n",
       "      <td>1.000000</td>\n",
       "      <td>-0.017374</td>\n",
       "      <td>0.060850</td>\n",
       "    </tr>\n",
       "    <tr>\n",
       "      <th>Total intl calls</th>\n",
       "      <td>0.027453</td>\n",
       "      <td>-0.005177</td>\n",
       "      <td>0.006248</td>\n",
       "      <td>-0.000291</td>\n",
       "      <td>0.004148</td>\n",
       "      <td>-0.000291</td>\n",
       "      <td>0.014281</td>\n",
       "      <td>0.014862</td>\n",
       "      <td>0.014289</td>\n",
       "      <td>0.000485</td>\n",
       "      <td>-0.003133</td>\n",
       "      <td>0.000480</td>\n",
       "      <td>0.017900</td>\n",
       "      <td>1.000000</td>\n",
       "      <td>0.017900</td>\n",
       "      <td>-0.000598</td>\n",
       "      <td>-0.074758</td>\n",
       "    </tr>\n",
       "    <tr>\n",
       "      <th>Total intl charge</th>\n",
       "      <td>0.014761</td>\n",
       "      <td>0.003164</td>\n",
       "      <td>-0.001565</td>\n",
       "      <td>-0.016110</td>\n",
       "      <td>0.015139</td>\n",
       "      <td>-0.016110</td>\n",
       "      <td>-0.003225</td>\n",
       "      <td>0.000213</td>\n",
       "      <td>-0.003231</td>\n",
       "      <td>-0.010331</td>\n",
       "      <td>-0.006397</td>\n",
       "      <td>-0.010312</td>\n",
       "      <td>1.000000</td>\n",
       "      <td>0.017900</td>\n",
       "      <td>1.000000</td>\n",
       "      <td>-0.017374</td>\n",
       "      <td>0.060850</td>\n",
       "    </tr>\n",
       "    <tr>\n",
       "      <th>Customer service calls</th>\n",
       "      <td>-0.005942</td>\n",
       "      <td>0.031850</td>\n",
       "      <td>-0.019639</td>\n",
       "      <td>-0.015032</td>\n",
       "      <td>-0.020957</td>\n",
       "      <td>-0.015032</td>\n",
       "      <td>-0.017805</td>\n",
       "      <td>0.002697</td>\n",
       "      <td>-0.017800</td>\n",
       "      <td>-0.012713</td>\n",
       "      <td>-0.008087</td>\n",
       "      <td>-0.012709</td>\n",
       "      <td>-0.017374</td>\n",
       "      <td>-0.000598</td>\n",
       "      <td>-0.017374</td>\n",
       "      <td>1.000000</td>\n",
       "      <td>0.136657</td>\n",
       "    </tr>\n",
       "    <tr>\n",
       "      <th>Churn</th>\n",
       "      <td>0.015583</td>\n",
       "      <td>0.003257</td>\n",
       "      <td>-0.095358</td>\n",
       "      <td>0.170677</td>\n",
       "      <td>0.026311</td>\n",
       "      <td>0.170677</td>\n",
       "      <td>0.088592</td>\n",
       "      <td>0.008578</td>\n",
       "      <td>0.088580</td>\n",
       "      <td>0.034343</td>\n",
       "      <td>0.004694</td>\n",
       "      <td>0.034353</td>\n",
       "      <td>0.060850</td>\n",
       "      <td>-0.074758</td>\n",
       "      <td>0.060850</td>\n",
       "      <td>0.136657</td>\n",
       "      <td>1.000000</td>\n",
       "    </tr>\n",
       "  </tbody>\n",
       "</table>\n",
       "</div>"
      ],
      "text/plain": [
       "                        Account length  Area code  Number vmail messages  \\\n",
       "Account length                1.000000  -0.017439               0.003077   \n",
       "Area code                    -0.017439   1.000000               0.010228   \n",
       "Number vmail messages         0.003077   0.010228               1.000000   \n",
       "Total day minutes             0.017884   0.008327               0.004006   \n",
       "Total day calls               0.032690  -0.004061              -0.012396   \n",
       "Total day charge              0.017884   0.008327               0.004006   \n",
       "Total eve minutes            -0.007954   0.005023               0.021162   \n",
       "Total eve calls               0.018378  -0.005238              -0.007148   \n",
       "Total eve charge             -0.007950   0.005035               0.021177   \n",
       "Total night minutes          -0.013643   0.008652               0.005053   \n",
       "Total night calls            -0.007669   0.024707               0.010975   \n",
       "Total night charge           -0.013654   0.008635               0.005036   \n",
       "Total intl minutes            0.014761   0.003164              -0.001565   \n",
       "Total intl calls              0.027453  -0.005177               0.006248   \n",
       "Total intl charge             0.014761   0.003164              -0.001565   \n",
       "Customer service calls       -0.005942   0.031850              -0.019639   \n",
       "Churn                         0.015583   0.003257              -0.095358   \n",
       "\n",
       "                        Total day minutes  Total day calls  Total day charge  \\\n",
       "Account length                   0.017884         0.032690          0.017884   \n",
       "Area code                        0.008327        -0.004061          0.008327   \n",
       "Number vmail messages            0.004006        -0.012396          0.004006   \n",
       "Total day minutes                1.000000         0.009391          1.000000   \n",
       "Total day calls                  0.009391         1.000000          0.009391   \n",
       "Total day charge                 1.000000         0.009391          1.000000   \n",
       "Total eve minutes                0.006405        -0.014062          0.006405   \n",
       "Total eve calls                  0.017867         0.013807          0.017867   \n",
       "Total eve charge                 0.006391        -0.014063          0.006391   \n",
       "Total night minutes             -0.005699         0.018890         -0.005699   \n",
       "Total night calls                0.023052        -0.017848          0.023052   \n",
       "Total night charge              -0.005730         0.018857         -0.005730   \n",
       "Total intl minutes              -0.016110         0.015139         -0.016110   \n",
       "Total intl calls                -0.000291         0.004148         -0.000291   \n",
       "Total intl charge               -0.016110         0.015139         -0.016110   \n",
       "Customer service calls          -0.015032        -0.020957         -0.015032   \n",
       "Churn                            0.170677         0.026311          0.170677   \n",
       "\n",
       "                        Total eve minutes  Total eve calls  Total eve charge  \\\n",
       "Account length                  -0.007954         0.018378         -0.007950   \n",
       "Area code                        0.005023        -0.005238          0.005035   \n",
       "Number vmail messages            0.021162        -0.007148          0.021177   \n",
       "Total day minutes                0.006405         0.017867          0.006391   \n",
       "Total day calls                 -0.014062         0.013807         -0.014063   \n",
       "Total day charge                 0.006405         0.017867          0.006391   \n",
       "Total eve minutes                1.000000        -0.010455          1.000000   \n",
       "Total eve calls                 -0.010455         1.000000         -0.010446   \n",
       "Total eve charge                 1.000000        -0.010446          1.000000   \n",
       "Total night minutes             -0.013211         0.004870         -0.013216   \n",
       "Total night calls                0.003399         0.005639          0.003388   \n",
       "Total night charge              -0.013220         0.004892         -0.013225   \n",
       "Total intl minutes              -0.003225         0.000213         -0.003231   \n",
       "Total intl calls                 0.014281         0.014862          0.014289   \n",
       "Total intl charge               -0.003225         0.000213         -0.003231   \n",
       "Customer service calls          -0.017805         0.002697         -0.017800   \n",
       "Churn                            0.088592         0.008578          0.088580   \n",
       "\n",
       "                        Total night minutes  Total night calls  \\\n",
       "Account length                    -0.013643          -0.007669   \n",
       "Area code                          0.008652           0.024707   \n",
       "Number vmail messages              0.005053           0.010975   \n",
       "Total day minutes                 -0.005699           0.023052   \n",
       "Total day calls                    0.018890          -0.017848   \n",
       "Total day charge                  -0.005699           0.023052   \n",
       "Total eve minutes                 -0.013211           0.003399   \n",
       "Total eve calls                    0.004870           0.005639   \n",
       "Total eve charge                  -0.013216           0.003388   \n",
       "Total night minutes                1.000000           0.008580   \n",
       "Total night calls                  0.008580           1.000000   \n",
       "Total night charge                 0.999999           0.008561   \n",
       "Total intl minutes                -0.010331          -0.006397   \n",
       "Total intl calls                   0.000485          -0.003133   \n",
       "Total intl charge                 -0.010331          -0.006397   \n",
       "Customer service calls            -0.012713          -0.008087   \n",
       "Churn                              0.034343           0.004694   \n",
       "\n",
       "                        Total night charge  Total intl minutes  \\\n",
       "Account length                   -0.013654            0.014761   \n",
       "Area code                         0.008635            0.003164   \n",
       "Number vmail messages             0.005036           -0.001565   \n",
       "Total day minutes                -0.005730           -0.016110   \n",
       "Total day calls                   0.018857            0.015139   \n",
       "Total day charge                 -0.005730           -0.016110   \n",
       "Total eve minutes                -0.013220           -0.003225   \n",
       "Total eve calls                   0.004892            0.000213   \n",
       "Total eve charge                 -0.013225           -0.003231   \n",
       "Total night minutes               0.999999           -0.010331   \n",
       "Total night calls                 0.008561           -0.006397   \n",
       "Total night charge                1.000000           -0.010312   \n",
       "Total intl minutes               -0.010312            1.000000   \n",
       "Total intl calls                  0.000480            0.017900   \n",
       "Total intl charge                -0.010312            1.000000   \n",
       "Customer service calls           -0.012709           -0.017374   \n",
       "Churn                             0.034353            0.060850   \n",
       "\n",
       "                        Total intl calls  Total intl charge  \\\n",
       "Account length                  0.027453           0.014761   \n",
       "Area code                      -0.005177           0.003164   \n",
       "Number vmail messages           0.006248          -0.001565   \n",
       "Total day minutes              -0.000291          -0.016110   \n",
       "Total day calls                 0.004148           0.015139   \n",
       "Total day charge               -0.000291          -0.016110   \n",
       "Total eve minutes               0.014281          -0.003225   \n",
       "Total eve calls                 0.014862           0.000213   \n",
       "Total eve charge                0.014289          -0.003231   \n",
       "Total night minutes             0.000485          -0.010331   \n",
       "Total night calls              -0.003133          -0.006397   \n",
       "Total night charge              0.000480          -0.010312   \n",
       "Total intl minutes              0.017900           1.000000   \n",
       "Total intl calls                1.000000           0.017900   \n",
       "Total intl charge               0.017900           1.000000   \n",
       "Customer service calls         -0.000598          -0.017374   \n",
       "Churn                          -0.074758           0.060850   \n",
       "\n",
       "                        Customer service calls     Churn  \n",
       "Account length                       -0.005942  0.015583  \n",
       "Area code                             0.031850  0.003257  \n",
       "Number vmail messages                -0.019639 -0.095358  \n",
       "Total day minutes                    -0.015032  0.170677  \n",
       "Total day calls                      -0.020957  0.026311  \n",
       "Total day charge                     -0.015032  0.170677  \n",
       "Total eve minutes                    -0.017805  0.088592  \n",
       "Total eve calls                       0.002697  0.008578  \n",
       "Total eve charge                     -0.017800  0.088580  \n",
       "Total night minutes                  -0.012713  0.034343  \n",
       "Total night calls                    -0.008087  0.004694  \n",
       "Total night charge                   -0.012709  0.034353  \n",
       "Total intl minutes                   -0.017374  0.060850  \n",
       "Total intl calls                     -0.000598 -0.074758  \n",
       "Total intl charge                    -0.017374  0.060850  \n",
       "Customer service calls                1.000000  0.136657  \n",
       "Churn                                 0.136657  1.000000  "
      ]
     },
     "execution_count": 21,
     "metadata": {},
     "output_type": "execute_result"
    }
   ],
   "source": [
    "# 1a. Presentar la matriz de correlación haciendo uso adecuado de las variables. Comentar los resultados. (2 puntos)\n",
    "#RPTA:\n",
    "\n",
    "dataTotal.corr(method = \"spearman\")"
   ]
  },
  {
   "cell_type": "code",
   "execution_count": 20,
   "metadata": {},
   "outputs": [
    {
     "data": {
      "image/png": "[encoded data removed]",
      "text/plain": [
       "<Figure size 1440x720 with 2 Axes>"
      ]
     },
     "metadata": {
      "needs_background": "light"
     },
     "output_type": "display_data"
    }
   ],
   "source": [
    "plt.figure(figsize=(20, 10))\n",
    "sns.heatmap(dataTotal.corr(method='spearman'))\n",
    "plt.show()"
   ]
  },
  {
   "cell_type": "code",
   "execution_count": 22,
   "metadata": {},
   "outputs": [],
   "source": [
    "# Como se puede observar en el mapa de calor las variales que presentan mayor correlación son las variables de Total minutes y\n",
    "# Total Charge divididos en cada uno de los plazos de tiempo: day, eve, night y intl. Este resultado es esperado debido a que \n",
    "# el total de dinero a pagar esta en función al tiempo utilizado en la llamada."
   ]
  },
  {
   "cell_type": "code",
   "execution_count": 23,
   "metadata": {},
   "outputs": [],
   "source": [
    "# ----------------------------------------------------------------------------------------------------------------------"
   ]
  },
  {
   "cell_type": "code",
   "execution_count": 24,
   "metadata": {},
   "outputs": [
    {
     "data": {
      "text/plain": [
       "SpearmanrResult(correlation=1.0, pvalue=0.0)"
      ]
     },
     "execution_count": 24,
     "metadata": {},
     "output_type": "execute_result"
    }
   ],
   "source": [
    "# 1b. Según corresponda, aplicar la prueba de correlación haciendo uso adecuado de las variables.\n",
    "#     Comentar los resultados. (2 puntos)\n",
    "\n",
    "ss.spearmanr(dataTotal['Total day minutes'],dataTotal['Total day charge'])"
   ]
  },
  {
   "cell_type": "code",
   "execution_count": 25,
   "metadata": {},
   "outputs": [
    {
     "data": {
      "text/plain": [
       "SpearmanrResult(correlation=0.9999997739419472, pvalue=0.0)"
      ]
     },
     "execution_count": 25,
     "metadata": {},
     "output_type": "execute_result"
    }
   ],
   "source": [
    "ss.spearmanr(dataTotal['Total eve minutes'],dataTotal['Total eve charge'])"
   ]
  },
  {
   "cell_type": "code",
   "execution_count": 26,
   "metadata": {},
   "outputs": [
    {
     "data": {
      "text/plain": [
       "SpearmanrResult(correlation=0.999998791196482, pvalue=0.0)"
      ]
     },
     "execution_count": 26,
     "metadata": {},
     "output_type": "execute_result"
    }
   ],
   "source": [
    "ss.spearmanr(dataTotal['Total night minutes'],dataTotal['Total night charge'])"
   ]
  },
  {
   "cell_type": "code",
   "execution_count": 27,
   "metadata": {},
   "outputs": [
    {
     "data": {
      "text/plain": [
       "SpearmanrResult(correlation=0.9999999999999999, pvalue=0.0)"
      ]
     },
     "execution_count": 27,
     "metadata": {},
     "output_type": "execute_result"
    }
   ],
   "source": [
    "ss.spearmanr(dataTotal['Total intl minutes'],dataTotal['Total intl charge'])"
   ]
  },
  {
   "cell_type": "code",
   "execution_count": 28,
   "metadata": {},
   "outputs": [],
   "source": [
    "# Luego de aplicar la prueba de correlación a las variables con mayor correlación podemos rechazar la hipotesis nula debido\n",
    "# a que el Pvalue es menor a 0.05 o 5%"
   ]
  },
  {
   "cell_type": "code",
   "execution_count": 29,
   "metadata": {},
   "outputs": [],
   "source": [
    "# ----------------------------------------------------------------------------------------------------------------------"
   ]
  },
  {
   "cell_type": "code",
   "execution_count": 30,
   "metadata": {},
   "outputs": [],
   "source": [
    "# 1c. Aplicar el modelo de clúster mediante el método de k-means haciendo uso adecuado de las variables y presentar\n",
    "#     una función en la que se muestre una gráfica los anchos de silueta para 2, 3, 4, 5 y 6 segmentos (6 puntos).\n",
    "\n"
   ]
  },
  {
   "cell_type": "code",
   "execution_count": 75,
   "metadata": {},
   "outputs": [
    {
     "name": "stderr",
     "output_type": "stream",
     "text": [
      "C:\\ProgramData\\Anaconda3_delete\\lib\\site-packages\\sklearn\\utils\\validation.py:72: DataConversionWarning: A column-vector y was passed when a 1d array was expected. Please change the shape of y to (n_samples, ), for example using ravel().\n",
      "  return f(**kwargs)\n"
     ]
    },
    {
     "data": {
      "text/plain": [
       "0.13535742410627674"
      ]
     },
     "execution_count": 75,
     "metadata": {},
     "output_type": "execute_result"
    }
   ],
   "source": [
    "X_all = dataTotal.iloc[:,[8,11,14,17]].values\n",
    "y_all = dataTotal.iloc[:,-1].values\n",
    "\n",
    "data_X_scale = pd.DataFrame(StandardScaler().fit_transform(X_all))\n",
    "\n",
    "# 2 Segmentos\n",
    "kmeans_2 = KMeans(n_clusters=2).fit(data_X_scale)\n",
    "labels_2 = pd.DataFrame(kmeans_2.predict(data_X_scale))\n",
    "silhouette_avg_2 = silhouette_score(X_all, labels_2)\n",
    "silhouette_avg_2"
   ]
  },
  {
   "cell_type": "code",
   "execution_count": 76,
   "metadata": {},
   "outputs": [
    {
     "name": "stderr",
     "output_type": "stream",
     "text": [
      "C:\\ProgramData\\Anaconda3_delete\\lib\\site-packages\\sklearn\\utils\\validation.py:72: DataConversionWarning: A column-vector y was passed when a 1d array was expected. Please change the shape of y to (n_samples, ), for example using ravel().\n",
      "  return f(**kwargs)\n"
     ]
    },
    {
     "data": {
      "text/plain": [
       "0.11338812703555769"
      ]
     },
     "execution_count": 76,
     "metadata": {},
     "output_type": "execute_result"
    }
   ],
   "source": [
    "# 3 Segmentos\n",
    "kmeans_3 = KMeans(n_clusters=3).fit(data_X_scale)\n",
    "labels_3 = pd.DataFrame(kmeans_3.predict(data_X_scale))\n",
    "silhouette_avg_3 = silhouette_score(X_all, labels_3)\n",
    "silhouette_avg_3"
   ]
  },
  {
   "cell_type": "code",
   "execution_count": 77,
   "metadata": {},
   "outputs": [
    {
     "name": "stderr",
     "output_type": "stream",
     "text": [
      "C:\\ProgramData\\Anaconda3_delete\\lib\\site-packages\\sklearn\\utils\\validation.py:72: DataConversionWarning: A column-vector y was passed when a 1d array was expected. Please change the shape of y to (n_samples, ), for example using ravel().\n",
      "  return f(**kwargs)\n"
     ]
    },
    {
     "data": {
      "text/plain": [
       "0.11533429027969375"
      ]
     },
     "execution_count": 77,
     "metadata": {},
     "output_type": "execute_result"
    }
   ],
   "source": [
    "# 4 Segmentos\n",
    "kmeans_4 = KMeans(n_clusters=4).fit(data_X_scale)\n",
    "labels_4 = pd.DataFrame(kmeans_4.predict(data_X_scale))\n",
    "silhouette_avg_4 = silhouette_score(X_all, labels_4)\n",
    "silhouette_avg_4"
   ]
  },
  {
   "cell_type": "code",
   "execution_count": 78,
   "metadata": {},
   "outputs": [
    {
     "name": "stderr",
     "output_type": "stream",
     "text": [
      "C:\\ProgramData\\Anaconda3_delete\\lib\\site-packages\\sklearn\\utils\\validation.py:72: DataConversionWarning: A column-vector y was passed when a 1d array was expected. Please change the shape of y to (n_samples, ), for example using ravel().\n",
      "  return f(**kwargs)\n"
     ]
    },
    {
     "data": {
      "text/plain": [
       "0.06777594376190624"
      ]
     },
     "execution_count": 78,
     "metadata": {},
     "output_type": "execute_result"
    }
   ],
   "source": [
    "# 5 Segmentos\n",
    "kmeans_5 = KMeans(n_clusters=5).fit(data_X_scale)\n",
    "labels_5 = pd.DataFrame(kmeans_5.predict(data_X_scale))\n",
    "silhouette_avg_5 = silhouette_score(X_all, labels_5)\n",
    "silhouette_avg_5"
   ]
  },
  {
   "cell_type": "code",
   "execution_count": 79,
   "metadata": {},
   "outputs": [
    {
     "name": "stderr",
     "output_type": "stream",
     "text": [
      "C:\\ProgramData\\Anaconda3_delete\\lib\\site-packages\\sklearn\\utils\\validation.py:72: DataConversionWarning: A column-vector y was passed when a 1d array was expected. Please change the shape of y to (n_samples, ), for example using ravel().\n",
      "  return f(**kwargs)\n"
     ]
    },
    {
     "data": {
      "text/plain": [
       "0.0999564364544555"
      ]
     },
     "execution_count": 79,
     "metadata": {},
     "output_type": "execute_result"
    }
   ],
   "source": [
    "# 6 Segmentos\n",
    "kmeans_6 = KMeans(n_clusters=6).fit(data_X_scale)\n",
    "labels_6 = pd.DataFrame(kmeans_6.predict(data_X_scale))\n",
    "silhouette_avg_6 = silhouette_score(X_all, labels_6)\n",
    "silhouette_avg_6"
   ]
  },
  {
   "cell_type": "code",
   "execution_count": 81,
   "metadata": {},
   "outputs": [
    {
     "name": "stdout",
     "output_type": "stream",
     "text": [
      "Collecting yellowbrick\n",
      "  Downloading yellowbrick-1.3.post1-py3-none-any.whl (271 kB)\n",
      "Requirement already satisfied: matplotlib!=3.0.0,>=2.0.2 in c:\\programdata\\anaconda3_delete\\lib\\site-packages (from yellowbrick) (3.3.2)\n",
      "Requirement already satisfied: cycler>=0.10.0 in c:\\programdata\\anaconda3_delete\\lib\\site-packages (from yellowbrick) (0.10.0)\n",
      "Requirement already satisfied: scipy>=1.0.0 in c:\\programdata\\anaconda3_delete\\lib\\site-packages (from yellowbrick) (1.5.2)\n",
      "Requirement already satisfied: scikit-learn>=0.20 in c:\\programdata\\anaconda3_delete\\lib\\site-packages (from yellowbrick) (0.23.2)\n",
      "Requirement already satisfied: numpy<1.20,>=1.16.0 in c:\\programdata\\anaconda3_delete\\lib\\site-packages (from yellowbrick) (1.19.2)\n",
      "Requirement already satisfied: pillow>=6.2.0 in c:\\programdata\\anaconda3_delete\\lib\\site-packages (from matplotlib!=3.0.0,>=2.0.2->yellowbrick) (8.0.1)\n",
      "Requirement already satisfied: pyparsing!=2.0.4,!=2.1.2,!=2.1.6,>=2.0.3 in c:\\programdata\\anaconda3_delete\\lib\\site-packages (from matplotlib!=3.0.0,>=2.0.2->yellowbrick) (2.4.7)\n",
      "Requirement already satisfied: kiwisolver>=1.0.1 in c:\\programdata\\anaconda3_delete\\lib\\site-packages (from matplotlib!=3.0.0,>=2.0.2->yellowbrick) (1.3.0)\n",
      "Requirement already satisfied: python-dateutil>=2.1 in c:\\programdata\\anaconda3_delete\\lib\\site-packages (from matplotlib!=3.0.0,>=2.0.2->yellowbrick) (2.8.1)\n",
      "Requirement already satisfied: certifi>=2020.06.20 in c:\\programdata\\anaconda3_delete\\lib\\site-packages (from matplotlib!=3.0.0,>=2.0.2->yellowbrick) (2020.6.20)\n",
      "Requirement already satisfied: six in c:\\programdata\\anaconda3_delete\\lib\\site-packages (from cycler>=0.10.0->yellowbrick) (1.15.0)\n",
      "Requirement already satisfied: threadpoolctl>=2.0.0 in c:\\programdata\\anaconda3_delete\\lib\\site-packages (from scikit-learn>=0.20->yellowbrick) (2.1.0)\n",
      "Requirement already satisfied: joblib>=0.11 in c:\\programdata\\anaconda3_delete\\lib\\site-packages (from scikit-learn>=0.20->yellowbrick) (0.17.0)\n",
      "Installing collected packages: yellowbrick\n",
      "Successfully installed yellowbrick-1.3.post1\n"
     ]
    }
   ],
   "source": [
    "!pip install yellowbrick"
   ]
  },
  {
   "cell_type": "code",
   "execution_count": 89,
   "metadata": {},
   "outputs": [
    {
     "data": {
      "image/png": "[encoded data removed]",
      "text/plain": [
       "<Figure size 576x396 with 1 Axes>"
      ]
     },
     "metadata": {},
     "output_type": "display_data"
    },
    {
     "data": {
      "text/plain": [
       "<AxesSubplot:title={'center':'Silhouette Plot of KMeans Clustering for 3333 Samples in 2 Centers'}, xlabel='silhouette coefficient values', ylabel='cluster label'>"
      ]
     },
     "execution_count": 89,
     "metadata": {},
     "output_type": "execute_result"
    }
   ],
   "source": [
    "from yellowbrick.cluster import SilhouetteVisualizer\n",
    "\n",
    "# 2 Segmentos\n",
    "model = SilhouetteVisualizer(kmeans_2)\n",
    "model.fit(data_X_scale)\n",
    "model.show()"
   ]
  },
  {
   "cell_type": "code",
   "execution_count": 91,
   "metadata": {},
   "outputs": [
    {
     "data": {
      "image/png": "[encoded data removed]",
      "text/plain": [
       "<Figure size 576x396 with 1 Axes>"
      ]
     },
     "metadata": {},
     "output_type": "display_data"
    },
    {
     "data": {
      "text/plain": [
       "<AxesSubplot:title={'center':'Silhouette Plot of KMeans Clustering for 3333 Samples in 3 Centers'}, xlabel='silhouette coefficient values', ylabel='cluster label'>"
      ]
     },
     "execution_count": 91,
     "metadata": {},
     "output_type": "execute_result"
    }
   ],
   "source": [
    "# 3 Segmentos\n",
    "model = SilhouetteVisualizer(kmeans_3)\n",
    "model.fit(data_X_scale)\n",
    "model.show()"
   ]
  },
  {
   "cell_type": "code",
   "execution_count": 92,
   "metadata": {},
   "outputs": [
    {
     "data": {
      "image/png": "[encoded data removed]",
      "text/plain": [
       "<Figure size 576x396 with 1 Axes>"
      ]
     },
     "metadata": {},
     "output_type": "display_data"
    },
    {
     "data": {
      "text/plain": [
       "<AxesSubplot:title={'center':'Silhouette Plot of KMeans Clustering for 3333 Samples in 4 Centers'}, xlabel='silhouette coefficient values', ylabel='cluster label'>"
      ]
     },
     "execution_count": 92,
     "metadata": {},
     "output_type": "execute_result"
    }
   ],
   "source": [
    "# 4 Segmentos\n",
    "model = SilhouetteVisualizer(kmeans_4)\n",
    "model.fit(data_X_scale)\n",
    "model.show()"
   ]
  },
  {
   "cell_type": "code",
   "execution_count": 93,
   "metadata": {},
   "outputs": [
    {
     "data": {
      "image/png": "[encoded data removed]",
      "text/plain": [
       "<Figure size 576x396 with 1 Axes>"
      ]
     },
     "metadata": {},
     "output_type": "display_data"
    },
    {
     "data": {
      "text/plain": [
       "<AxesSubplot:title={'center':'Silhouette Plot of KMeans Clustering for 3333 Samples in 5 Centers'}, xlabel='silhouette coefficient values', ylabel='cluster label'>"
      ]
     },
     "execution_count": 93,
     "metadata": {},
     "output_type": "execute_result"
    }
   ],
   "source": [
    "# 5 Segmentos\n",
    "model = SilhouetteVisualizer(kmeans_5)\n",
    "model.fit(data_X_scale)\n",
    "model.show()"
   ]
  },
  {
   "cell_type": "code",
   "execution_count": 94,
   "metadata": {},
   "outputs": [
    {
     "data": {
      "image/png": "[encoded data removed]",
      "text/plain": [
       "<Figure size 576x396 with 1 Axes>"
      ]
     },
     "metadata": {},
     "output_type": "display_data"
    },
    {
     "data": {
      "text/plain": [
       "<AxesSubplot:title={'center':'Silhouette Plot of KMeans Clustering for 3333 Samples in 6 Centers'}, xlabel='silhouette coefficient values', ylabel='cluster label'>"
      ]
     },
     "execution_count": 94,
     "metadata": {},
     "output_type": "execute_result"
    }
   ],
   "source": [
    "# 6 Segmentos\n",
    "model = SilhouetteVisualizer(kmeans_6)\n",
    "model.fit(data_X_scale)\n",
    "model.show()"
   ]
  },
  {
   "cell_type": "code",
   "execution_count": 96,
   "metadata": {},
   "outputs": [],
   "source": [
    "# Luego de analizar los anchos de silueta del problema podemos llegar a la conclusión de que el mejor numero de clusters para\n",
    "# el ejercicio es 2 con un valor de 0.135 en comparación con el peor cluster el cual tiene el valor de 0.067\n",
    "\n",
    "# Sin embargo, todos los valores obtenidos son muy cercanos a 0 por lo que entendemos que los grupos cuentan con valores\n",
    "# en más de un cluster"
   ]
  },
  {
   "cell_type": "code",
   "execution_count": 31,
   "metadata": {},
   "outputs": [],
   "source": [
    "# ----------------------------------------------------------------------------------------------------------------------"
   ]
  },
  {
   "cell_type": "code",
   "execution_count": 37,
   "metadata": {},
   "outputs": [
    {
     "data": {
      "text/plain": [
       "array([[45.07, 16.78, 11.01,  2.7 ],\n",
       "       [27.47, 16.62, 11.45,  3.7 ],\n",
       "       [41.38, 10.3 ,  7.32,  3.29],\n",
       "       [50.9 ,  5.26,  8.86,  1.78],\n",
       "       [28.34, 12.61,  8.41,  2.73]])"
      ]
     },
     "execution_count": 37,
     "metadata": {},
     "output_type": "execute_result"
    }
   ],
   "source": [
    "# 2a. Presentar un análisis comparativo de los 3 modelos haciendo uso de las matrices de clasificación y AUC.\n",
    "#     Presentar sus conclusiones. (5 puntos)\n",
    "\n",
    "X_train = data80.iloc[:,[8,11,14,17]].values\n",
    "y_train = data80.iloc[:,-1].values\n",
    "X_test = data20.iloc[:,[8,11,14,17]].values\n",
    "y_test = data20.iloc[:,-1].values\n",
    "\n",
    "X_train[0:5]"
   ]
  },
  {
   "cell_type": "code",
   "execution_count": 40,
   "metadata": {},
   "outputs": [
    {
     "name": "stdout",
     "output_type": "stream",
     "text": [
      "Fitting 5 folds for each of 16 candidates, totalling 80 fits\n",
      "[CV] C=0.1, gamma=1, kernel=rbf ......................................\n",
      "[CV] ....................... C=0.1, gamma=1, kernel=rbf, total=   0.1s\n",
      "[CV] C=0.1, gamma=1, kernel=rbf ......................................\n"
     ]
    },
    {
     "name": "stderr",
     "output_type": "stream",
     "text": [
      "[Parallel(n_jobs=1)]: Using backend SequentialBackend with 1 concurrent workers.\n",
      "[Parallel(n_jobs=1)]: Done   1 out of   1 | elapsed:    0.0s remaining:    0.0s\n"
     ]
    },
    {
     "name": "stdout",
     "output_type": "stream",
     "text": [
      "[CV] ....................... C=0.1, gamma=1, kernel=rbf, total=   0.1s\n",
      "[CV] C=0.1, gamma=1, kernel=rbf ......................................\n",
      "[CV] ....................... C=0.1, gamma=1, kernel=rbf, total=   0.1s\n",
      "[CV] C=0.1, gamma=1, kernel=rbf ......................................\n",
      "[CV] ....................... C=0.1, gamma=1, kernel=rbf, total=   0.1s\n",
      "[CV] C=0.1, gamma=1, kernel=rbf ......................................\n",
      "[CV] ....................... C=0.1, gamma=1, kernel=rbf, total=   0.1s\n",
      "[CV] C=0.1, gamma=0.1, kernel=rbf ....................................\n",
      "[CV] ..................... C=0.1, gamma=0.1, kernel=rbf, total=   0.1s\n",
      "[CV] C=0.1, gamma=0.1, kernel=rbf ....................................\n",
      "[CV] ..................... C=0.1, gamma=0.1, kernel=rbf, total=   0.1s\n",
      "[CV] C=0.1, gamma=0.1, kernel=rbf ....................................\n",
      "[CV] ..................... C=0.1, gamma=0.1, kernel=rbf, total=   0.1s\n",
      "[CV] C=0.1, gamma=0.1, kernel=rbf ....................................\n",
      "[CV] ..................... C=0.1, gamma=0.1, kernel=rbf, total=   0.1s\n",
      "[CV] C=0.1, gamma=0.1, kernel=rbf ....................................\n",
      "[CV] ..................... C=0.1, gamma=0.1, kernel=rbf, total=   0.1s\n",
      "[CV] C=0.1, gamma=0.01, kernel=rbf ...................................\n",
      "[CV] .................... C=0.1, gamma=0.01, kernel=rbf, total=   0.0s\n",
      "[CV] C=0.1, gamma=0.01, kernel=rbf ...................................\n",
      "[CV] .................... C=0.1, gamma=0.01, kernel=rbf, total=   0.0s\n",
      "[CV] C=0.1, gamma=0.01, kernel=rbf ...................................\n",
      "[CV] .................... C=0.1, gamma=0.01, kernel=rbf, total=   0.0s\n",
      "[CV] C=0.1, gamma=0.01, kernel=rbf ...................................\n",
      "[CV] .................... C=0.1, gamma=0.01, kernel=rbf, total=   0.0s\n",
      "[CV] C=0.1, gamma=0.01, kernel=rbf ...................................\n",
      "[CV] .................... C=0.1, gamma=0.01, kernel=rbf, total=   0.0s\n",
      "[CV] C=0.1, gamma=0.001, kernel=rbf ..................................\n",
      "[CV] ................... C=0.1, gamma=0.001, kernel=rbf, total=   0.0s\n",
      "[CV] C=0.1, gamma=0.001, kernel=rbf ..................................\n",
      "[CV] ................... C=0.1, gamma=0.001, kernel=rbf, total=   0.0s\n",
      "[CV] C=0.1, gamma=0.001, kernel=rbf ..................................\n",
      "[CV] ................... C=0.1, gamma=0.001, kernel=rbf, total=   0.0s\n",
      "[CV] C=0.1, gamma=0.001, kernel=rbf ..................................\n",
      "[CV] ................... C=0.1, gamma=0.001, kernel=rbf, total=   0.0s\n",
      "[CV] C=0.1, gamma=0.001, kernel=rbf ..................................\n",
      "[CV] ................... C=0.1, gamma=0.001, kernel=rbf, total=   0.0s\n",
      "[CV] C=1, gamma=1, kernel=rbf ........................................\n",
      "[CV] ......................... C=1, gamma=1, kernel=rbf, total=   0.1s\n",
      "[CV] C=1, gamma=1, kernel=rbf ........................................\n",
      "[CV] ......................... C=1, gamma=1, kernel=rbf, total=   0.1s\n",
      "[CV] C=1, gamma=1, kernel=rbf ........................................\n",
      "[CV] ......................... C=1, gamma=1, kernel=rbf, total=   0.1s\n",
      "[CV] C=1, gamma=1, kernel=rbf ........................................\n",
      "[CV] ......................... C=1, gamma=1, kernel=rbf, total=   0.1s\n",
      "[CV] C=1, gamma=1, kernel=rbf ........................................\n",
      "[CV] ......................... C=1, gamma=1, kernel=rbf, total=   0.1s\n",
      "[CV] C=1, gamma=0.1, kernel=rbf ......................................\n",
      "[CV] ....................... C=1, gamma=0.1, kernel=rbf, total=   0.1s\n",
      "[CV] C=1, gamma=0.1, kernel=rbf ......................................\n",
      "[CV] ....................... C=1, gamma=0.1, kernel=rbf, total=   0.1s\n",
      "[CV] C=1, gamma=0.1, kernel=rbf ......................................\n",
      "[CV] ....................... C=1, gamma=0.1, kernel=rbf, total=   0.1s\n",
      "[CV] C=1, gamma=0.1, kernel=rbf ......................................\n",
      "[CV] ....................... C=1, gamma=0.1, kernel=rbf, total=   0.1s\n",
      "[CV] C=1, gamma=0.1, kernel=rbf ......................................\n",
      "[CV] ....................... C=1, gamma=0.1, kernel=rbf, total=   0.1s\n",
      "[CV] C=1, gamma=0.01, kernel=rbf .....................................\n",
      "[CV] ...................... C=1, gamma=0.01, kernel=rbf, total=   0.1s\n",
      "[CV] C=1, gamma=0.01, kernel=rbf .....................................\n",
      "[CV] ...................... C=1, gamma=0.01, kernel=rbf, total=   0.1s\n",
      "[CV] C=1, gamma=0.01, kernel=rbf .....................................\n",
      "[CV] ...................... C=1, gamma=0.01, kernel=rbf, total=   0.1s\n",
      "[CV] C=1, gamma=0.01, kernel=rbf .....................................\n",
      "[CV] ...................... C=1, gamma=0.01, kernel=rbf, total=   0.1s\n",
      "[CV] C=1, gamma=0.01, kernel=rbf .....................................\n",
      "[CV] ...................... C=1, gamma=0.01, kernel=rbf, total=   0.1s\n",
      "[CV] C=1, gamma=0.001, kernel=rbf ....................................\n",
      "[CV] ..................... C=1, gamma=0.001, kernel=rbf, total=   0.0s\n",
      "[CV] C=1, gamma=0.001, kernel=rbf ....................................\n",
      "[CV] ..................... C=1, gamma=0.001, kernel=rbf, total=   0.0s\n",
      "[CV] C=1, gamma=0.001, kernel=rbf ....................................\n",
      "[CV] ..................... C=1, gamma=0.001, kernel=rbf, total=   0.0s\n",
      "[CV] C=1, gamma=0.001, kernel=rbf ....................................\n",
      "[CV] ..................... C=1, gamma=0.001, kernel=rbf, total=   0.0s\n",
      "[CV] C=1, gamma=0.001, kernel=rbf ....................................\n",
      "[CV] ..................... C=1, gamma=0.001, kernel=rbf, total=   0.0s\n",
      "[CV] C=10, gamma=1, kernel=rbf .......................................\n",
      "[CV] ........................ C=10, gamma=1, kernel=rbf, total=   0.2s\n",
      "[CV] C=10, gamma=1, kernel=rbf .......................................\n",
      "[CV] ........................ C=10, gamma=1, kernel=rbf, total=   0.2s\n",
      "[CV] C=10, gamma=1, kernel=rbf .......................................\n",
      "[CV] ........................ C=10, gamma=1, kernel=rbf, total=   0.2s\n",
      "[CV] C=10, gamma=1, kernel=rbf .......................................\n",
      "[CV] ........................ C=10, gamma=1, kernel=rbf, total=   0.1s\n",
      "[CV] C=10, gamma=1, kernel=rbf .......................................\n",
      "[CV] ........................ C=10, gamma=1, kernel=rbf, total=   0.2s\n",
      "[CV] C=10, gamma=0.1, kernel=rbf .....................................\n",
      "[CV] ...................... C=10, gamma=0.1, kernel=rbf, total=   0.1s\n",
      "[CV] C=10, gamma=0.1, kernel=rbf .....................................\n",
      "[CV] ...................... C=10, gamma=0.1, kernel=rbf, total=   0.1s\n",
      "[CV] C=10, gamma=0.1, kernel=rbf .....................................\n",
      "[CV] ...................... C=10, gamma=0.1, kernel=rbf, total=   0.1s\n",
      "[CV] C=10, gamma=0.1, kernel=rbf .....................................\n",
      "[CV] ...................... C=10, gamma=0.1, kernel=rbf, total=   0.1s\n",
      "[CV] C=10, gamma=0.1, kernel=rbf .....................................\n",
      "[CV] ...................... C=10, gamma=0.1, kernel=rbf, total=   0.1s\n",
      "[CV] C=10, gamma=0.01, kernel=rbf ....................................\n",
      "[CV] ..................... C=10, gamma=0.01, kernel=rbf, total=   0.2s\n",
      "[CV] C=10, gamma=0.01, kernel=rbf ....................................\n",
      "[CV] ..................... C=10, gamma=0.01, kernel=rbf, total=   0.2s\n",
      "[CV] C=10, gamma=0.01, kernel=rbf ....................................\n",
      "[CV] ..................... C=10, gamma=0.01, kernel=rbf, total=   0.2s\n",
      "[CV] C=10, gamma=0.01, kernel=rbf ....................................\n",
      "[CV] ..................... C=10, gamma=0.01, kernel=rbf, total=   0.2s\n",
      "[CV] C=10, gamma=0.01, kernel=rbf ....................................\n",
      "[CV] ..................... C=10, gamma=0.01, kernel=rbf, total=   0.1s\n",
      "[CV] C=10, gamma=0.001, kernel=rbf ...................................\n",
      "[CV] .................... C=10, gamma=0.001, kernel=rbf, total=   0.1s\n",
      "[CV] C=10, gamma=0.001, kernel=rbf ...................................\n",
      "[CV] .................... C=10, gamma=0.001, kernel=rbf, total=   0.1s\n",
      "[CV] C=10, gamma=0.001, kernel=rbf ...................................\n",
      "[CV] .................... C=10, gamma=0.001, kernel=rbf, total=   0.1s\n",
      "[CV] C=10, gamma=0.001, kernel=rbf ...................................\n",
      "[CV] .................... C=10, gamma=0.001, kernel=rbf, total=   0.1s\n",
      "[CV] C=10, gamma=0.001, kernel=rbf ...................................\n",
      "[CV] .................... C=10, gamma=0.001, kernel=rbf, total=   0.1s\n",
      "[CV] C=100, gamma=1, kernel=rbf ......................................\n"
     ]
    },
    {
     "name": "stdout",
     "output_type": "stream",
     "text": [
      "[CV] ....................... C=100, gamma=1, kernel=rbf, total=   0.1s\n",
      "[CV] C=100, gamma=1, kernel=rbf ......................................\n",
      "[CV] ....................... C=100, gamma=1, kernel=rbf, total=   0.1s\n",
      "[CV] C=100, gamma=1, kernel=rbf ......................................\n",
      "[CV] ....................... C=100, gamma=1, kernel=rbf, total=   0.2s\n",
      "[CV] C=100, gamma=1, kernel=rbf ......................................\n",
      "[CV] ....................... C=100, gamma=1, kernel=rbf, total=   0.1s\n",
      "[CV] C=100, gamma=1, kernel=rbf ......................................\n",
      "[CV] ....................... C=100, gamma=1, kernel=rbf, total=   0.1s\n",
      "[CV] C=100, gamma=0.1, kernel=rbf ....................................\n",
      "[CV] ..................... C=100, gamma=0.1, kernel=rbf, total=   0.2s\n",
      "[CV] C=100, gamma=0.1, kernel=rbf ....................................\n",
      "[CV] ..................... C=100, gamma=0.1, kernel=rbf, total=   0.2s\n",
      "[CV] C=100, gamma=0.1, kernel=rbf ....................................\n",
      "[CV] ..................... C=100, gamma=0.1, kernel=rbf, total=   0.2s\n",
      "[CV] C=100, gamma=0.1, kernel=rbf ....................................\n",
      "[CV] ..................... C=100, gamma=0.1, kernel=rbf, total=   0.2s\n",
      "[CV] C=100, gamma=0.1, kernel=rbf ....................................\n",
      "[CV] ..................... C=100, gamma=0.1, kernel=rbf, total=   0.2s\n",
      "[CV] C=100, gamma=0.01, kernel=rbf ...................................\n",
      "[CV] .................... C=100, gamma=0.01, kernel=rbf, total=   0.6s\n",
      "[CV] C=100, gamma=0.01, kernel=rbf ...................................\n",
      "[CV] .................... C=100, gamma=0.01, kernel=rbf, total=   0.6s\n",
      "[CV] C=100, gamma=0.01, kernel=rbf ...................................\n",
      "[CV] .................... C=100, gamma=0.01, kernel=rbf, total=   0.6s\n",
      "[CV] C=100, gamma=0.01, kernel=rbf ...................................\n",
      "[CV] .................... C=100, gamma=0.01, kernel=rbf, total=   0.6s\n",
      "[CV] C=100, gamma=0.01, kernel=rbf ...................................\n",
      "[CV] .................... C=100, gamma=0.01, kernel=rbf, total=   0.6s\n",
      "[CV] C=100, gamma=0.001, kernel=rbf ..................................\n",
      "[CV] ................... C=100, gamma=0.001, kernel=rbf, total=   0.2s\n",
      "[CV] C=100, gamma=0.001, kernel=rbf ..................................\n",
      "[CV] ................... C=100, gamma=0.001, kernel=rbf, total=   0.2s\n",
      "[CV] C=100, gamma=0.001, kernel=rbf ..................................\n",
      "[CV] ................... C=100, gamma=0.001, kernel=rbf, total=   0.2s\n",
      "[CV] C=100, gamma=0.001, kernel=rbf ..................................\n",
      "[CV] ................... C=100, gamma=0.001, kernel=rbf, total=   0.1s\n",
      "[CV] C=100, gamma=0.001, kernel=rbf ..................................\n",
      "[CV] ................... C=100, gamma=0.001, kernel=rbf, total=   0.1s\n"
     ]
    },
    {
     "name": "stderr",
     "output_type": "stream",
     "text": [
      "[Parallel(n_jobs=1)]: Done  80 out of  80 | elapsed:   10.7s finished\n"
     ]
    },
    {
     "data": {
      "text/plain": [
       "GridSearchCV(cv=5, estimator=SVC(),\n",
       "             param_grid={'C': [0.1, 1, 10, 100], 'gamma': [1, 0.1, 0.01, 0.001],\n",
       "                         'kernel': ['rbf']},\n",
       "             verbose=2)"
      ]
     },
     "execution_count": 40,
     "metadata": {},
     "output_type": "execute_result"
    }
   ],
   "source": [
    "# SVN\n",
    "param_grid = {'C': [0.1,1,10,100], 'gamma': [1,0.1,0.01,0.001],'kernel': ['rbf']}\n",
    "grid = GridSearchCV(SVC(),param_grid,refit=True,verbose=2,cv=5)\n",
    "grid.fit(X_train,y_train)"
   ]
  },
  {
   "cell_type": "code",
   "execution_count": 41,
   "metadata": {},
   "outputs": [
    {
     "name": "stdout",
     "output_type": "stream",
     "text": [
      "SVC(C=100, gamma=0.01)\n"
     ]
    }
   ],
   "source": [
    "print(grid.best_estimator_)"
   ]
  },
  {
   "cell_type": "code",
   "execution_count": 45,
   "metadata": {},
   "outputs": [
    {
     "data": {
      "text/plain": [
       "array([[527,  45],\n",
       "       [ 57,  38]], dtype=int64)"
      ]
     },
     "execution_count": 45,
     "metadata": {},
     "output_type": "execute_result"
    }
   ],
   "source": [
    "classifier_SVN = SVC(kernel='rbf',C = 100,gamma = 0.1,probability=True).fit(X_train, y_train)\n",
    "y_pred_SVN = classifier_SVN.predict(X_test)\n",
    "confusion_matrix(y_test, y_pred_SVN)"
   ]
  },
  {
   "cell_type": "code",
   "execution_count": 46,
   "metadata": {},
   "outputs": [
    {
     "name": "stdout",
     "output_type": "stream",
     "text": [
      "Confusion matrix, without normalization\n",
      "[[527  45]\n",
      " [ 57  38]]\n",
      "Normalized confusion matrix\n",
      "[[0.92132867 0.07867133]\n",
      " [0.6        0.4       ]]\n"
     ]
    },
    {
     "data": {
      "image/png": "[encoded data removed]",
      "text/plain": [
       "<Figure size 432x288 with 2 Axes>"
      ]
     },
     "metadata": {
      "needs_background": "light"
     },
     "output_type": "display_data"
    },
    {
     "data": {
      "image/png": "[encoded data removed]",
      "text/plain": [
       "<Figure size 432x288 with 2 Axes>"
      ]
     },
     "metadata": {
      "needs_background": "light"
     },
     "output_type": "display_data"
    }
   ],
   "source": [
    "# Plot non-normalized confusion matrix\n",
    "titles_options = [(\"Confusion matrix, without normalization\", None),\n",
    "                  (\"Normalized confusion matrix\", 'true')]\n",
    "for title, normalize in titles_options:\n",
    "    disp = plot_confusion_matrix(classifier, X_test, y_test,\n",
    "                                 #display_labels=y_test,\n",
    "                                 cmap=plt.cm.Blues,\n",
    "                                 normalize=normalize)\n",
    "    disp.ax_.set_title(title)\n",
    "\n",
    "    print(title)\n",
    "    print(disp.confusion_matrix)\n",
    "\n",
    "plt.show()"
   ]
  },
  {
   "cell_type": "code",
   "execution_count": 47,
   "metadata": {},
   "outputs": [
    {
     "data": {
      "text/plain": [
       "0.7162863452337136"
      ]
     },
     "execution_count": 47,
     "metadata": {},
     "output_type": "execute_result"
    }
   ],
   "source": [
    "y_pred_prob_SVN = classifier.predict_proba(X_test)\n",
    "false_positive_rate_SVN, true_positive_rate_SVN, thresholds = roc_curve(y_test, y_pred_prob_SVN[:,1])\n",
    "roc_auc_SVN = auc(false_positive_rate_SVN, true_positive_rate_SVN)\n",
    "roc_auc_SVN"
   ]
  },
  {
   "cell_type": "code",
   "execution_count": 49,
   "metadata": {},
   "outputs": [
    {
     "data": {
      "image/png": "[encoded data removed]",
      "text/plain": [
       "<Figure size 432x288 with 1 Axes>"
      ]
     },
     "metadata": {
      "needs_background": "light"
     },
     "output_type": "display_data"
    }
   ],
   "source": [
    "plt.title('Receiver Operating Characteristic')\n",
    "plt.plot(false_positive_rate_SVN,true_positive_rate_SVN, color='red',label = 'AUC = %0.2f' % roc_auc_SVN)\n",
    "plt.legend(loc = 'lower right')\n",
    "plt.plot([0, 1], [0, 1],linestyle='--')\n",
    "plt.axis('tight')\n",
    "plt.ylabel('True Positive Rate')\n",
    "plt.xlabel('False Positive Rate')\n",
    "plt.show()"
   ]
  },
  {
   "cell_type": "code",
   "execution_count": 51,
   "metadata": {},
   "outputs": [
    {
     "name": "stdout",
     "output_type": "stream",
     "text": [
      "Fitting 5 folds for each of 54 candidates, totalling 270 fits\n",
      "[CV] max_depth=2, max_features=auto, n_estimators=200 ................\n"
     ]
    },
    {
     "name": "stderr",
     "output_type": "stream",
     "text": [
      "[Parallel(n_jobs=1)]: Using backend SequentialBackend with 1 concurrent workers.\n"
     ]
    },
    {
     "name": "stdout",
     "output_type": "stream",
     "text": [
      "[CV] . max_depth=2, max_features=auto, n_estimators=200, total=   0.3s\n",
      "[CV] max_depth=2, max_features=auto, n_estimators=200 ................\n"
     ]
    },
    {
     "name": "stderr",
     "output_type": "stream",
     "text": [
      "[Parallel(n_jobs=1)]: Done   1 out of   1 | elapsed:    0.2s remaining:    0.0s\n"
     ]
    },
    {
     "name": "stdout",
     "output_type": "stream",
     "text": [
      "[CV] . max_depth=2, max_features=auto, n_estimators=200, total=   0.3s\n",
      "[CV] max_depth=2, max_features=auto, n_estimators=200 ................\n",
      "[CV] . max_depth=2, max_features=auto, n_estimators=200, total=   0.3s\n",
      "[CV] max_depth=2, max_features=auto, n_estimators=200 ................\n",
      "[CV] . max_depth=2, max_features=auto, n_estimators=200, total=   0.3s\n",
      "[CV] max_depth=2, max_features=auto, n_estimators=200 ................\n",
      "[CV] . max_depth=2, max_features=auto, n_estimators=200, total=   0.3s\n",
      "[CV] max_depth=2, max_features=auto, n_estimators=700 ................\n",
      "[CV] . max_depth=2, max_features=auto, n_estimators=700, total=   1.1s\n",
      "[CV] max_depth=2, max_features=auto, n_estimators=700 ................\n",
      "[CV] . max_depth=2, max_features=auto, n_estimators=700, total=   1.1s\n",
      "[CV] max_depth=2, max_features=auto, n_estimators=700 ................\n",
      "[CV] . max_depth=2, max_features=auto, n_estimators=700, total=   1.1s\n",
      "[CV] max_depth=2, max_features=auto, n_estimators=700 ................\n",
      "[CV] . max_depth=2, max_features=auto, n_estimators=700, total=   1.1s\n",
      "[CV] max_depth=2, max_features=auto, n_estimators=700 ................\n",
      "[CV] . max_depth=2, max_features=auto, n_estimators=700, total=   1.1s\n",
      "[CV] max_depth=2, max_features=sqrt, n_estimators=200 ................\n",
      "[CV] . max_depth=2, max_features=sqrt, n_estimators=200, total=   0.3s\n",
      "[CV] max_depth=2, max_features=sqrt, n_estimators=200 ................\n",
      "[CV] . max_depth=2, max_features=sqrt, n_estimators=200, total=   0.3s\n",
      "[CV] max_depth=2, max_features=sqrt, n_estimators=200 ................\n",
      "[CV] . max_depth=2, max_features=sqrt, n_estimators=200, total=   0.3s\n",
      "[CV] max_depth=2, max_features=sqrt, n_estimators=200 ................\n",
      "[CV] . max_depth=2, max_features=sqrt, n_estimators=200, total=   0.3s\n",
      "[CV] max_depth=2, max_features=sqrt, n_estimators=200 ................\n",
      "[CV] . max_depth=2, max_features=sqrt, n_estimators=200, total=   0.3s\n",
      "[CV] max_depth=2, max_features=sqrt, n_estimators=700 ................\n",
      "[CV] . max_depth=2, max_features=sqrt, n_estimators=700, total=   1.1s\n",
      "[CV] max_depth=2, max_features=sqrt, n_estimators=700 ................\n",
      "[CV] . max_depth=2, max_features=sqrt, n_estimators=700, total=   1.1s\n",
      "[CV] max_depth=2, max_features=sqrt, n_estimators=700 ................\n",
      "[CV] . max_depth=2, max_features=sqrt, n_estimators=700, total=   1.1s\n",
      "[CV] max_depth=2, max_features=sqrt, n_estimators=700 ................\n",
      "[CV] . max_depth=2, max_features=sqrt, n_estimators=700, total=   1.1s\n",
      "[CV] max_depth=2, max_features=sqrt, n_estimators=700 ................\n",
      "[CV] . max_depth=2, max_features=sqrt, n_estimators=700, total=   1.2s\n",
      "[CV] max_depth=2, max_features=log2, n_estimators=200 ................\n",
      "[CV] . max_depth=2, max_features=log2, n_estimators=200, total=   0.3s\n",
      "[CV] max_depth=2, max_features=log2, n_estimators=200 ................\n",
      "[CV] . max_depth=2, max_features=log2, n_estimators=200, total=   0.3s\n",
      "[CV] max_depth=2, max_features=log2, n_estimators=200 ................\n",
      "[CV] . max_depth=2, max_features=log2, n_estimators=200, total=   0.3s\n",
      "[CV] max_depth=2, max_features=log2, n_estimators=200 ................\n",
      "[CV] . max_depth=2, max_features=log2, n_estimators=200, total=   0.3s\n",
      "[CV] max_depth=2, max_features=log2, n_estimators=200 ................\n",
      "[CV] . max_depth=2, max_features=log2, n_estimators=200, total=   0.3s\n",
      "[CV] max_depth=2, max_features=log2, n_estimators=700 ................\n",
      "[CV] . max_depth=2, max_features=log2, n_estimators=700, total=   1.1s\n",
      "[CV] max_depth=2, max_features=log2, n_estimators=700 ................\n",
      "[CV] . max_depth=2, max_features=log2, n_estimators=700, total=   1.1s\n",
      "[CV] max_depth=2, max_features=log2, n_estimators=700 ................\n",
      "[CV] . max_depth=2, max_features=log2, n_estimators=700, total=   1.1s\n",
      "[CV] max_depth=2, max_features=log2, n_estimators=700 ................\n",
      "[CV] . max_depth=2, max_features=log2, n_estimators=700, total=   1.1s\n",
      "[CV] max_depth=2, max_features=log2, n_estimators=700 ................\n",
      "[CV] . max_depth=2, max_features=log2, n_estimators=700, total=   1.1s\n",
      "[CV] max_depth=3, max_features=auto, n_estimators=200 ................\n",
      "[CV] . max_depth=3, max_features=auto, n_estimators=200, total=   0.3s\n",
      "[CV] max_depth=3, max_features=auto, n_estimators=200 ................\n",
      "[CV] . max_depth=3, max_features=auto, n_estimators=200, total=   0.3s\n",
      "[CV] max_depth=3, max_features=auto, n_estimators=200 ................\n",
      "[CV] . max_depth=3, max_features=auto, n_estimators=200, total=   0.3s\n",
      "[CV] max_depth=3, max_features=auto, n_estimators=200 ................\n",
      "[CV] . max_depth=3, max_features=auto, n_estimators=200, total=   0.3s\n",
      "[CV] max_depth=3, max_features=auto, n_estimators=200 ................\n",
      "[CV] . max_depth=3, max_features=auto, n_estimators=200, total=   0.3s\n",
      "[CV] max_depth=3, max_features=auto, n_estimators=700 ................\n",
      "[CV] . max_depth=3, max_features=auto, n_estimators=700, total=   1.2s\n",
      "[CV] max_depth=3, max_features=auto, n_estimators=700 ................\n",
      "[CV] . max_depth=3, max_features=auto, n_estimators=700, total=   1.2s\n",
      "[CV] max_depth=3, max_features=auto, n_estimators=700 ................\n",
      "[CV] . max_depth=3, max_features=auto, n_estimators=700, total=   1.2s\n",
      "[CV] max_depth=3, max_features=auto, n_estimators=700 ................\n",
      "[CV] . max_depth=3, max_features=auto, n_estimators=700, total=   1.2s\n",
      "[CV] max_depth=3, max_features=auto, n_estimators=700 ................\n",
      "[CV] . max_depth=3, max_features=auto, n_estimators=700, total=   1.2s\n",
      "[CV] max_depth=3, max_features=sqrt, n_estimators=200 ................\n",
      "[CV] . max_depth=3, max_features=sqrt, n_estimators=200, total=   0.3s\n",
      "[CV] max_depth=3, max_features=sqrt, n_estimators=200 ................\n",
      "[CV] . max_depth=3, max_features=sqrt, n_estimators=200, total=   0.3s\n",
      "[CV] max_depth=3, max_features=sqrt, n_estimators=200 ................\n",
      "[CV] . max_depth=3, max_features=sqrt, n_estimators=200, total=   0.3s\n",
      "[CV] max_depth=3, max_features=sqrt, n_estimators=200 ................\n",
      "[CV] . max_depth=3, max_features=sqrt, n_estimators=200, total=   0.3s\n",
      "[CV] max_depth=3, max_features=sqrt, n_estimators=200 ................\n",
      "[CV] . max_depth=3, max_features=sqrt, n_estimators=200, total=   0.3s\n",
      "[CV] max_depth=3, max_features=sqrt, n_estimators=700 ................\n",
      "[CV] . max_depth=3, max_features=sqrt, n_estimators=700, total=   1.2s\n",
      "[CV] max_depth=3, max_features=sqrt, n_estimators=700 ................\n",
      "[CV] . max_depth=3, max_features=sqrt, n_estimators=700, total=   1.2s\n",
      "[CV] max_depth=3, max_features=sqrt, n_estimators=700 ................\n",
      "[CV] . max_depth=3, max_features=sqrt, n_estimators=700, total=   1.2s\n",
      "[CV] max_depth=3, max_features=sqrt, n_estimators=700 ................\n",
      "[CV] . max_depth=3, max_features=sqrt, n_estimators=700, total=   1.2s\n",
      "[CV] max_depth=3, max_features=sqrt, n_estimators=700 ................\n",
      "[CV] . max_depth=3, max_features=sqrt, n_estimators=700, total=   1.2s\n",
      "[CV] max_depth=3, max_features=log2, n_estimators=200 ................\n",
      "[CV] . max_depth=3, max_features=log2, n_estimators=200, total=   0.3s\n",
      "[CV] max_depth=3, max_features=log2, n_estimators=200 ................\n",
      "[CV] . max_depth=3, max_features=log2, n_estimators=200, total=   0.3s\n",
      "[CV] max_depth=3, max_features=log2, n_estimators=200 ................\n",
      "[CV] . max_depth=3, max_features=log2, n_estimators=200, total=   0.3s\n",
      "[CV] max_depth=3, max_features=log2, n_estimators=200 ................\n",
      "[CV] . max_depth=3, max_features=log2, n_estimators=200, total=   0.3s\n",
      "[CV] max_depth=3, max_features=log2, n_estimators=200 ................\n",
      "[CV] . max_depth=3, max_features=log2, n_estimators=200, total=   0.3s\n",
      "[CV] max_depth=3, max_features=log2, n_estimators=700 ................\n",
      "[CV] . max_depth=3, max_features=log2, n_estimators=700, total=   1.2s\n",
      "[CV] max_depth=3, max_features=log2, n_estimators=700 ................\n",
      "[CV] . max_depth=3, max_features=log2, n_estimators=700, total=   1.2s\n",
      "[CV] max_depth=3, max_features=log2, n_estimators=700 ................\n",
      "[CV] . max_depth=3, max_features=log2, n_estimators=700, total=   1.2s\n",
      "[CV] max_depth=3, max_features=log2, n_estimators=700 ................\n",
      "[CV] . max_depth=3, max_features=log2, n_estimators=700, total=   1.2s\n",
      "[CV] max_depth=3, max_features=log2, n_estimators=700 ................\n"
     ]
    },
    {
     "name": "stdout",
     "output_type": "stream",
     "text": [
      "[CV] . max_depth=3, max_features=log2, n_estimators=700, total=   1.2s\n",
      "[CV] max_depth=4, max_features=auto, n_estimators=200 ................\n",
      "[CV] . max_depth=4, max_features=auto, n_estimators=200, total=   0.4s\n",
      "[CV] max_depth=4, max_features=auto, n_estimators=200 ................\n",
      "[CV] . max_depth=4, max_features=auto, n_estimators=200, total=   0.4s\n",
      "[CV] max_depth=4, max_features=auto, n_estimators=200 ................\n",
      "[CV] . max_depth=4, max_features=auto, n_estimators=200, total=   0.4s\n",
      "[CV] max_depth=4, max_features=auto, n_estimators=200 ................\n",
      "[CV] . max_depth=4, max_features=auto, n_estimators=200, total=   0.4s\n",
      "[CV] max_depth=4, max_features=auto, n_estimators=200 ................\n",
      "[CV] . max_depth=4, max_features=auto, n_estimators=200, total=   0.4s\n",
      "[CV] max_depth=4, max_features=auto, n_estimators=700 ................\n",
      "[CV] . max_depth=4, max_features=auto, n_estimators=700, total=   1.3s\n",
      "[CV] max_depth=4, max_features=auto, n_estimators=700 ................\n",
      "[CV] . max_depth=4, max_features=auto, n_estimators=700, total=   1.3s\n",
      "[CV] max_depth=4, max_features=auto, n_estimators=700 ................\n",
      "[CV] . max_depth=4, max_features=auto, n_estimators=700, total=   1.3s\n",
      "[CV] max_depth=4, max_features=auto, n_estimators=700 ................\n",
      "[CV] . max_depth=4, max_features=auto, n_estimators=700, total=   1.3s\n",
      "[CV] max_depth=4, max_features=auto, n_estimators=700 ................\n",
      "[CV] . max_depth=4, max_features=auto, n_estimators=700, total=   1.3s\n",
      "[CV] max_depth=4, max_features=sqrt, n_estimators=200 ................\n",
      "[CV] . max_depth=4, max_features=sqrt, n_estimators=200, total=   0.4s\n",
      "[CV] max_depth=4, max_features=sqrt, n_estimators=200 ................\n",
      "[CV] . max_depth=4, max_features=sqrt, n_estimators=200, total=   0.4s\n",
      "[CV] max_depth=4, max_features=sqrt, n_estimators=200 ................\n",
      "[CV] . max_depth=4, max_features=sqrt, n_estimators=200, total=   0.4s\n",
      "[CV] max_depth=4, max_features=sqrt, n_estimators=200 ................\n",
      "[CV] . max_depth=4, max_features=sqrt, n_estimators=200, total=   0.4s\n",
      "[CV] max_depth=4, max_features=sqrt, n_estimators=200 ................\n",
      "[CV] . max_depth=4, max_features=sqrt, n_estimators=200, total=   0.4s\n",
      "[CV] max_depth=4, max_features=sqrt, n_estimators=700 ................\n",
      "[CV] . max_depth=4, max_features=sqrt, n_estimators=700, total=   1.3s\n",
      "[CV] max_depth=4, max_features=sqrt, n_estimators=700 ................\n",
      "[CV] . max_depth=4, max_features=sqrt, n_estimators=700, total=   1.3s\n",
      "[CV] max_depth=4, max_features=sqrt, n_estimators=700 ................\n",
      "[CV] . max_depth=4, max_features=sqrt, n_estimators=700, total=   1.3s\n",
      "[CV] max_depth=4, max_features=sqrt, n_estimators=700 ................\n",
      "[CV] . max_depth=4, max_features=sqrt, n_estimators=700, total=   1.4s\n",
      "[CV] max_depth=4, max_features=sqrt, n_estimators=700 ................\n",
      "[CV] . max_depth=4, max_features=sqrt, n_estimators=700, total=   1.3s\n",
      "[CV] max_depth=4, max_features=log2, n_estimators=200 ................\n",
      "[CV] . max_depth=4, max_features=log2, n_estimators=200, total=   0.4s\n",
      "[CV] max_depth=4, max_features=log2, n_estimators=200 ................\n",
      "[CV] . max_depth=4, max_features=log2, n_estimators=200, total=   0.4s\n",
      "[CV] max_depth=4, max_features=log2, n_estimators=200 ................\n",
      "[CV] . max_depth=4, max_features=log2, n_estimators=200, total=   0.4s\n",
      "[CV] max_depth=4, max_features=log2, n_estimators=200 ................\n",
      "[CV] . max_depth=4, max_features=log2, n_estimators=200, total=   0.4s\n",
      "[CV] max_depth=4, max_features=log2, n_estimators=200 ................\n",
      "[CV] . max_depth=4, max_features=log2, n_estimators=200, total=   0.4s\n",
      "[CV] max_depth=4, max_features=log2, n_estimators=700 ................\n",
      "[CV] . max_depth=4, max_features=log2, n_estimators=700, total=   1.4s\n",
      "[CV] max_depth=4, max_features=log2, n_estimators=700 ................\n",
      "[CV] . max_depth=4, max_features=log2, n_estimators=700, total=   1.3s\n",
      "[CV] max_depth=4, max_features=log2, n_estimators=700 ................\n",
      "[CV] . max_depth=4, max_features=log2, n_estimators=700, total=   1.3s\n",
      "[CV] max_depth=4, max_features=log2, n_estimators=700 ................\n",
      "[CV] . max_depth=4, max_features=log2, n_estimators=700, total=   1.3s\n",
      "[CV] max_depth=4, max_features=log2, n_estimators=700 ................\n",
      "[CV] . max_depth=4, max_features=log2, n_estimators=700, total=   1.3s\n",
      "[CV] max_depth=5, max_features=auto, n_estimators=200 ................\n",
      "[CV] . max_depth=5, max_features=auto, n_estimators=200, total=   0.4s\n",
      "[CV] max_depth=5, max_features=auto, n_estimators=200 ................\n",
      "[CV] . max_depth=5, max_features=auto, n_estimators=200, total=   0.4s\n",
      "[CV] max_depth=5, max_features=auto, n_estimators=200 ................\n",
      "[CV] . max_depth=5, max_features=auto, n_estimators=200, total=   0.4s\n",
      "[CV] max_depth=5, max_features=auto, n_estimators=200 ................\n",
      "[CV] . max_depth=5, max_features=auto, n_estimators=200, total=   0.4s\n",
      "[CV] max_depth=5, max_features=auto, n_estimators=200 ................\n",
      "[CV] . max_depth=5, max_features=auto, n_estimators=200, total=   0.4s\n",
      "[CV] max_depth=5, max_features=auto, n_estimators=700 ................\n",
      "[CV] . max_depth=5, max_features=auto, n_estimators=700, total=   1.4s\n",
      "[CV] max_depth=5, max_features=auto, n_estimators=700 ................\n",
      "[CV] . max_depth=5, max_features=auto, n_estimators=700, total=   1.4s\n",
      "[CV] max_depth=5, max_features=auto, n_estimators=700 ................\n",
      "[CV] . max_depth=5, max_features=auto, n_estimators=700, total=   1.4s\n",
      "[CV] max_depth=5, max_features=auto, n_estimators=700 ................\n",
      "[CV] . max_depth=5, max_features=auto, n_estimators=700, total=   1.4s\n",
      "[CV] max_depth=5, max_features=auto, n_estimators=700 ................\n",
      "[CV] . max_depth=5, max_features=auto, n_estimators=700, total=   1.4s\n",
      "[CV] max_depth=5, max_features=sqrt, n_estimators=200 ................\n",
      "[CV] . max_depth=5, max_features=sqrt, n_estimators=200, total=   0.4s\n",
      "[CV] max_depth=5, max_features=sqrt, n_estimators=200 ................\n",
      "[CV] . max_depth=5, max_features=sqrt, n_estimators=200, total=   0.4s\n",
      "[CV] max_depth=5, max_features=sqrt, n_estimators=200 ................\n",
      "[CV] . max_depth=5, max_features=sqrt, n_estimators=200, total=   0.4s\n",
      "[CV] max_depth=5, max_features=sqrt, n_estimators=200 ................\n",
      "[CV] . max_depth=5, max_features=sqrt, n_estimators=200, total=   0.4s\n",
      "[CV] max_depth=5, max_features=sqrt, n_estimators=200 ................\n",
      "[CV] . max_depth=5, max_features=sqrt, n_estimators=200, total=   0.4s\n",
      "[CV] max_depth=5, max_features=sqrt, n_estimators=700 ................\n",
      "[CV] . max_depth=5, max_features=sqrt, n_estimators=700, total=   1.5s\n",
      "[CV] max_depth=5, max_features=sqrt, n_estimators=700 ................\n",
      "[CV] . max_depth=5, max_features=sqrt, n_estimators=700, total=   1.5s\n",
      "[CV] max_depth=5, max_features=sqrt, n_estimators=700 ................\n",
      "[CV] . max_depth=5, max_features=sqrt, n_estimators=700, total=   1.4s\n",
      "[CV] max_depth=5, max_features=sqrt, n_estimators=700 ................\n",
      "[CV] . max_depth=5, max_features=sqrt, n_estimators=700, total=   1.4s\n",
      "[CV] max_depth=5, max_features=sqrt, n_estimators=700 ................\n",
      "[CV] . max_depth=5, max_features=sqrt, n_estimators=700, total=   1.4s\n",
      "[CV] max_depth=5, max_features=log2, n_estimators=200 ................\n",
      "[CV] . max_depth=5, max_features=log2, n_estimators=200, total=   0.4s\n",
      "[CV] max_depth=5, max_features=log2, n_estimators=200 ................\n",
      "[CV] . max_depth=5, max_features=log2, n_estimators=200, total=   0.4s\n",
      "[CV] max_depth=5, max_features=log2, n_estimators=200 ................\n",
      "[CV] . max_depth=5, max_features=log2, n_estimators=200, total=   0.4s\n",
      "[CV] max_depth=5, max_features=log2, n_estimators=200 ................\n",
      "[CV] . max_depth=5, max_features=log2, n_estimators=200, total=   0.4s\n",
      "[CV] max_depth=5, max_features=log2, n_estimators=200 ................\n",
      "[CV] . max_depth=5, max_features=log2, n_estimators=200, total=   0.4s\n",
      "[CV] max_depth=5, max_features=log2, n_estimators=700 ................\n",
      "[CV] . max_depth=5, max_features=log2, n_estimators=700, total=   1.4s\n",
      "[CV] max_depth=5, max_features=log2, n_estimators=700 ................\n",
      "[CV] . max_depth=5, max_features=log2, n_estimators=700, total=   1.4s\n",
      "[CV] max_depth=5, max_features=log2, n_estimators=700 ................\n"
     ]
    },
    {
     "name": "stdout",
     "output_type": "stream",
     "text": [
      "[CV] . max_depth=5, max_features=log2, n_estimators=700, total=   1.4s\n",
      "[CV] max_depth=5, max_features=log2, n_estimators=700 ................\n",
      "[CV] . max_depth=5, max_features=log2, n_estimators=700, total=   1.4s\n",
      "[CV] max_depth=5, max_features=log2, n_estimators=700 ................\n",
      "[CV] . max_depth=5, max_features=log2, n_estimators=700, total=   1.4s\n",
      "[CV] max_depth=6, max_features=auto, n_estimators=200 ................\n",
      "[CV] . max_depth=6, max_features=auto, n_estimators=200, total=   0.4s\n",
      "[CV] max_depth=6, max_features=auto, n_estimators=200 ................\n",
      "[CV] . max_depth=6, max_features=auto, n_estimators=200, total=   0.4s\n",
      "[CV] max_depth=6, max_features=auto, n_estimators=200 ................\n",
      "[CV] . max_depth=6, max_features=auto, n_estimators=200, total=   0.4s\n",
      "[CV] max_depth=6, max_features=auto, n_estimators=200 ................\n",
      "[CV] . max_depth=6, max_features=auto, n_estimators=200, total=   0.4s\n",
      "[CV] max_depth=6, max_features=auto, n_estimators=200 ................\n",
      "[CV] . max_depth=6, max_features=auto, n_estimators=200, total=   0.4s\n",
      "[CV] max_depth=6, max_features=auto, n_estimators=700 ................\n",
      "[CV] . max_depth=6, max_features=auto, n_estimators=700, total=   1.6s\n",
      "[CV] max_depth=6, max_features=auto, n_estimators=700 ................\n",
      "[CV] . max_depth=6, max_features=auto, n_estimators=700, total=   1.6s\n",
      "[CV] max_depth=6, max_features=auto, n_estimators=700 ................\n",
      "[CV] . max_depth=6, max_features=auto, n_estimators=700, total=   1.6s\n",
      "[CV] max_depth=6, max_features=auto, n_estimators=700 ................\n",
      "[CV] . max_depth=6, max_features=auto, n_estimators=700, total=   1.5s\n",
      "[CV] max_depth=6, max_features=auto, n_estimators=700 ................\n",
      "[CV] . max_depth=6, max_features=auto, n_estimators=700, total=   1.6s\n",
      "[CV] max_depth=6, max_features=sqrt, n_estimators=200 ................\n",
      "[CV] . max_depth=6, max_features=sqrt, n_estimators=200, total=   0.4s\n",
      "[CV] max_depth=6, max_features=sqrt, n_estimators=200 ................\n",
      "[CV] . max_depth=6, max_features=sqrt, n_estimators=200, total=   0.4s\n",
      "[CV] max_depth=6, max_features=sqrt, n_estimators=200 ................\n",
      "[CV] . max_depth=6, max_features=sqrt, n_estimators=200, total=   0.4s\n",
      "[CV] max_depth=6, max_features=sqrt, n_estimators=200 ................\n",
      "[CV] . max_depth=6, max_features=sqrt, n_estimators=200, total=   0.4s\n",
      "[CV] max_depth=6, max_features=sqrt, n_estimators=200 ................\n",
      "[CV] . max_depth=6, max_features=sqrt, n_estimators=200, total=   0.4s\n",
      "[CV] max_depth=6, max_features=sqrt, n_estimators=700 ................\n",
      "[CV] . max_depth=6, max_features=sqrt, n_estimators=700, total=   1.6s\n",
      "[CV] max_depth=6, max_features=sqrt, n_estimators=700 ................\n",
      "[CV] . max_depth=6, max_features=sqrt, n_estimators=700, total=   1.6s\n",
      "[CV] max_depth=6, max_features=sqrt, n_estimators=700 ................\n",
      "[CV] . max_depth=6, max_features=sqrt, n_estimators=700, total=   1.6s\n",
      "[CV] max_depth=6, max_features=sqrt, n_estimators=700 ................\n",
      "[CV] . max_depth=6, max_features=sqrt, n_estimators=700, total=   1.5s\n",
      "[CV] max_depth=6, max_features=sqrt, n_estimators=700 ................\n",
      "[CV] . max_depth=6, max_features=sqrt, n_estimators=700, total=   1.5s\n",
      "[CV] max_depth=6, max_features=log2, n_estimators=200 ................\n",
      "[CV] . max_depth=6, max_features=log2, n_estimators=200, total=   0.4s\n",
      "[CV] max_depth=6, max_features=log2, n_estimators=200 ................\n",
      "[CV] . max_depth=6, max_features=log2, n_estimators=200, total=   0.4s\n",
      "[CV] max_depth=6, max_features=log2, n_estimators=200 ................\n",
      "[CV] . max_depth=6, max_features=log2, n_estimators=200, total=   0.4s\n",
      "[CV] max_depth=6, max_features=log2, n_estimators=200 ................\n",
      "[CV] . max_depth=6, max_features=log2, n_estimators=200, total=   0.4s\n",
      "[CV] max_depth=6, max_features=log2, n_estimators=200 ................\n",
      "[CV] . max_depth=6, max_features=log2, n_estimators=200, total=   0.4s\n",
      "[CV] max_depth=6, max_features=log2, n_estimators=700 ................\n",
      "[CV] . max_depth=6, max_features=log2, n_estimators=700, total=   1.6s\n",
      "[CV] max_depth=6, max_features=log2, n_estimators=700 ................\n",
      "[CV] . max_depth=6, max_features=log2, n_estimators=700, total=   1.6s\n",
      "[CV] max_depth=6, max_features=log2, n_estimators=700 ................\n",
      "[CV] . max_depth=6, max_features=log2, n_estimators=700, total=   1.5s\n",
      "[CV] max_depth=6, max_features=log2, n_estimators=700 ................\n",
      "[CV] . max_depth=6, max_features=log2, n_estimators=700, total=   1.5s\n",
      "[CV] max_depth=6, max_features=log2, n_estimators=700 ................\n",
      "[CV] . max_depth=6, max_features=log2, n_estimators=700, total=   1.5s\n",
      "[CV] max_depth=7, max_features=auto, n_estimators=200 ................\n",
      "[CV] . max_depth=7, max_features=auto, n_estimators=200, total=   0.5s\n",
      "[CV] max_depth=7, max_features=auto, n_estimators=200 ................\n",
      "[CV] . max_depth=7, max_features=auto, n_estimators=200, total=   0.5s\n",
      "[CV] max_depth=7, max_features=auto, n_estimators=200 ................\n",
      "[CV] . max_depth=7, max_features=auto, n_estimators=200, total=   0.5s\n",
      "[CV] max_depth=7, max_features=auto, n_estimators=200 ................\n",
      "[CV] . max_depth=7, max_features=auto, n_estimators=200, total=   0.5s\n",
      "[CV] max_depth=7, max_features=auto, n_estimators=200 ................\n",
      "[CV] . max_depth=7, max_features=auto, n_estimators=200, total=   0.5s\n",
      "[CV] max_depth=7, max_features=auto, n_estimators=700 ................\n",
      "[CV] . max_depth=7, max_features=auto, n_estimators=700, total=   1.7s\n",
      "[CV] max_depth=7, max_features=auto, n_estimators=700 ................\n",
      "[CV] . max_depth=7, max_features=auto, n_estimators=700, total=   1.7s\n",
      "[CV] max_depth=7, max_features=auto, n_estimators=700 ................\n",
      "[CV] . max_depth=7, max_features=auto, n_estimators=700, total=   1.6s\n",
      "[CV] max_depth=7, max_features=auto, n_estimators=700 ................\n",
      "[CV] . max_depth=7, max_features=auto, n_estimators=700, total=   1.7s\n",
      "[CV] max_depth=7, max_features=auto, n_estimators=700 ................\n",
      "[CV] . max_depth=7, max_features=auto, n_estimators=700, total=   1.7s\n",
      "[CV] max_depth=7, max_features=sqrt, n_estimators=200 ................\n",
      "[CV] . max_depth=7, max_features=sqrt, n_estimators=200, total=   0.5s\n",
      "[CV] max_depth=7, max_features=sqrt, n_estimators=200 ................\n",
      "[CV] . max_depth=7, max_features=sqrt, n_estimators=200, total=   0.5s\n",
      "[CV] max_depth=7, max_features=sqrt, n_estimators=200 ................\n",
      "[CV] . max_depth=7, max_features=sqrt, n_estimators=200, total=   0.5s\n",
      "[CV] max_depth=7, max_features=sqrt, n_estimators=200 ................\n",
      "[CV] . max_depth=7, max_features=sqrt, n_estimators=200, total=   0.5s\n",
      "[CV] max_depth=7, max_features=sqrt, n_estimators=200 ................\n",
      "[CV] . max_depth=7, max_features=sqrt, n_estimators=200, total=   0.5s\n",
      "[CV] max_depth=7, max_features=sqrt, n_estimators=700 ................\n",
      "[CV] . max_depth=7, max_features=sqrt, n_estimators=700, total=   1.7s\n",
      "[CV] max_depth=7, max_features=sqrt, n_estimators=700 ................\n",
      "[CV] . max_depth=7, max_features=sqrt, n_estimators=700, total=   1.7s\n",
      "[CV] max_depth=7, max_features=sqrt, n_estimators=700 ................\n",
      "[CV] . max_depth=7, max_features=sqrt, n_estimators=700, total=   1.7s\n",
      "[CV] max_depth=7, max_features=sqrt, n_estimators=700 ................\n",
      "[CV] . max_depth=7, max_features=sqrt, n_estimators=700, total=   1.7s\n",
      "[CV] max_depth=7, max_features=sqrt, n_estimators=700 ................\n",
      "[CV] . max_depth=7, max_features=sqrt, n_estimators=700, total=   1.7s\n",
      "[CV] max_depth=7, max_features=log2, n_estimators=200 ................\n",
      "[CV] . max_depth=7, max_features=log2, n_estimators=200, total=   0.5s\n",
      "[CV] max_depth=7, max_features=log2, n_estimators=200 ................\n",
      "[CV] . max_depth=7, max_features=log2, n_estimators=200, total=   0.5s\n",
      "[CV] max_depth=7, max_features=log2, n_estimators=200 ................\n",
      "[CV] . max_depth=7, max_features=log2, n_estimators=200, total=   0.5s\n",
      "[CV] max_depth=7, max_features=log2, n_estimators=200 ................\n",
      "[CV] . max_depth=7, max_features=log2, n_estimators=200, total=   0.5s\n",
      "[CV] max_depth=7, max_features=log2, n_estimators=200 ................\n",
      "[CV] . max_depth=7, max_features=log2, n_estimators=200, total=   0.5s\n",
      "[CV] max_depth=7, max_features=log2, n_estimators=700 ................\n"
     ]
    },
    {
     "name": "stdout",
     "output_type": "stream",
     "text": [
      "[CV] . max_depth=7, max_features=log2, n_estimators=700, total=   1.7s\n",
      "[CV] max_depth=7, max_features=log2, n_estimators=700 ................\n",
      "[CV] . max_depth=7, max_features=log2, n_estimators=700, total=   1.7s\n",
      "[CV] max_depth=7, max_features=log2, n_estimators=700 ................\n",
      "[CV] . max_depth=7, max_features=log2, n_estimators=700, total=   1.7s\n",
      "[CV] max_depth=7, max_features=log2, n_estimators=700 ................\n",
      "[CV] . max_depth=7, max_features=log2, n_estimators=700, total=   1.7s\n",
      "[CV] max_depth=7, max_features=log2, n_estimators=700 ................\n",
      "[CV] . max_depth=7, max_features=log2, n_estimators=700, total=   1.7s\n",
      "[CV] max_depth=8, max_features=auto, n_estimators=200 ................\n",
      "[CV] . max_depth=8, max_features=auto, n_estimators=200, total=   0.5s\n",
      "[CV] max_depth=8, max_features=auto, n_estimators=200 ................\n",
      "[CV] . max_depth=8, max_features=auto, n_estimators=200, total=   0.5s\n",
      "[CV] max_depth=8, max_features=auto, n_estimators=200 ................\n",
      "[CV] . max_depth=8, max_features=auto, n_estimators=200, total=   0.5s\n",
      "[CV] max_depth=8, max_features=auto, n_estimators=200 ................\n",
      "[CV] . max_depth=8, max_features=auto, n_estimators=200, total=   0.5s\n",
      "[CV] max_depth=8, max_features=auto, n_estimators=200 ................\n",
      "[CV] . max_depth=8, max_features=auto, n_estimators=200, total=   0.5s\n",
      "[CV] max_depth=8, max_features=auto, n_estimators=700 ................\n",
      "[CV] . max_depth=8, max_features=auto, n_estimators=700, total=   1.8s\n",
      "[CV] max_depth=8, max_features=auto, n_estimators=700 ................\n",
      "[CV] . max_depth=8, max_features=auto, n_estimators=700, total=   1.8s\n",
      "[CV] max_depth=8, max_features=auto, n_estimators=700 ................\n",
      "[CV] . max_depth=8, max_features=auto, n_estimators=700, total=   1.8s\n",
      "[CV] max_depth=8, max_features=auto, n_estimators=700 ................\n",
      "[CV] . max_depth=8, max_features=auto, n_estimators=700, total=   1.8s\n",
      "[CV] max_depth=8, max_features=auto, n_estimators=700 ................\n",
      "[CV] . max_depth=8, max_features=auto, n_estimators=700, total=   1.8s\n",
      "[CV] max_depth=8, max_features=sqrt, n_estimators=200 ................\n",
      "[CV] . max_depth=8, max_features=sqrt, n_estimators=200, total=   0.5s\n",
      "[CV] max_depth=8, max_features=sqrt, n_estimators=200 ................\n",
      "[CV] . max_depth=8, max_features=sqrt, n_estimators=200, total=   0.5s\n",
      "[CV] max_depth=8, max_features=sqrt, n_estimators=200 ................\n",
      "[CV] . max_depth=8, max_features=sqrt, n_estimators=200, total=   0.5s\n",
      "[CV] max_depth=8, max_features=sqrt, n_estimators=200 ................\n",
      "[CV] . max_depth=8, max_features=sqrt, n_estimators=200, total=   0.5s\n",
      "[CV] max_depth=8, max_features=sqrt, n_estimators=200 ................\n",
      "[CV] . max_depth=8, max_features=sqrt, n_estimators=200, total=   0.5s\n",
      "[CV] max_depth=8, max_features=sqrt, n_estimators=700 ................\n",
      "[CV] . max_depth=8, max_features=sqrt, n_estimators=700, total=   1.8s\n",
      "[CV] max_depth=8, max_features=sqrt, n_estimators=700 ................\n",
      "[CV] . max_depth=8, max_features=sqrt, n_estimators=700, total=   1.8s\n",
      "[CV] max_depth=8, max_features=sqrt, n_estimators=700 ................\n",
      "[CV] . max_depth=8, max_features=sqrt, n_estimators=700, total=   1.8s\n",
      "[CV] max_depth=8, max_features=sqrt, n_estimators=700 ................\n",
      "[CV] . max_depth=8, max_features=sqrt, n_estimators=700, total=   1.8s\n",
      "[CV] max_depth=8, max_features=sqrt, n_estimators=700 ................\n",
      "[CV] . max_depth=8, max_features=sqrt, n_estimators=700, total=   1.8s\n",
      "[CV] max_depth=8, max_features=log2, n_estimators=200 ................\n",
      "[CV] . max_depth=8, max_features=log2, n_estimators=200, total=   0.5s\n",
      "[CV] max_depth=8, max_features=log2, n_estimators=200 ................\n",
      "[CV] . max_depth=8, max_features=log2, n_estimators=200, total=   0.5s\n",
      "[CV] max_depth=8, max_features=log2, n_estimators=200 ................\n",
      "[CV] . max_depth=8, max_features=log2, n_estimators=200, total=   0.5s\n",
      "[CV] max_depth=8, max_features=log2, n_estimators=200 ................\n",
      "[CV] . max_depth=8, max_features=log2, n_estimators=200, total=   0.5s\n",
      "[CV] max_depth=8, max_features=log2, n_estimators=200 ................\n",
      "[CV] . max_depth=8, max_features=log2, n_estimators=200, total=   0.5s\n",
      "[CV] max_depth=8, max_features=log2, n_estimators=700 ................\n",
      "[CV] . max_depth=8, max_features=log2, n_estimators=700, total=   1.8s\n",
      "[CV] max_depth=8, max_features=log2, n_estimators=700 ................\n",
      "[CV] . max_depth=8, max_features=log2, n_estimators=700, total=   1.8s\n",
      "[CV] max_depth=8, max_features=log2, n_estimators=700 ................\n",
      "[CV] . max_depth=8, max_features=log2, n_estimators=700, total=   1.8s\n",
      "[CV] max_depth=8, max_features=log2, n_estimators=700 ................\n",
      "[CV] . max_depth=8, max_features=log2, n_estimators=700, total=   1.8s\n",
      "[CV] max_depth=8, max_features=log2, n_estimators=700 ................\n",
      "[CV] . max_depth=8, max_features=log2, n_estimators=700, total=   1.8s\n",
      "[CV] max_depth=9, max_features=auto, n_estimators=200 ................\n",
      "[CV] . max_depth=9, max_features=auto, n_estimators=200, total=   0.5s\n",
      "[CV] max_depth=9, max_features=auto, n_estimators=200 ................\n",
      "[CV] . max_depth=9, max_features=auto, n_estimators=200, total=   0.5s\n",
      "[CV] max_depth=9, max_features=auto, n_estimators=200 ................\n",
      "[CV] . max_depth=9, max_features=auto, n_estimators=200, total=   0.5s\n",
      "[CV] max_depth=9, max_features=auto, n_estimators=200 ................\n",
      "[CV] . max_depth=9, max_features=auto, n_estimators=200, total=   0.5s\n",
      "[CV] max_depth=9, max_features=auto, n_estimators=200 ................\n",
      "[CV] . max_depth=9, max_features=auto, n_estimators=200, total=   0.5s\n",
      "[CV] max_depth=9, max_features=auto, n_estimators=700 ................\n",
      "[CV] . max_depth=9, max_features=auto, n_estimators=700, total=   1.9s\n",
      "[CV] max_depth=9, max_features=auto, n_estimators=700 ................\n",
      "[CV] . max_depth=9, max_features=auto, n_estimators=700, total=   1.9s\n",
      "[CV] max_depth=9, max_features=auto, n_estimators=700 ................\n",
      "[CV] . max_depth=9, max_features=auto, n_estimators=700, total=   1.9s\n",
      "[CV] max_depth=9, max_features=auto, n_estimators=700 ................\n",
      "[CV] . max_depth=9, max_features=auto, n_estimators=700, total=   1.9s\n",
      "[CV] max_depth=9, max_features=auto, n_estimators=700 ................\n",
      "[CV] . max_depth=9, max_features=auto, n_estimators=700, total=   1.9s\n",
      "[CV] max_depth=9, max_features=sqrt, n_estimators=200 ................\n",
      "[CV] . max_depth=9, max_features=sqrt, n_estimators=200, total=   0.5s\n",
      "[CV] max_depth=9, max_features=sqrt, n_estimators=200 ................\n",
      "[CV] . max_depth=9, max_features=sqrt, n_estimators=200, total=   0.5s\n",
      "[CV] max_depth=9, max_features=sqrt, n_estimators=200 ................\n",
      "[CV] . max_depth=9, max_features=sqrt, n_estimators=200, total=   0.5s\n",
      "[CV] max_depth=9, max_features=sqrt, n_estimators=200 ................\n",
      "[CV] . max_depth=9, max_features=sqrt, n_estimators=200, total=   0.5s\n",
      "[CV] max_depth=9, max_features=sqrt, n_estimators=200 ................\n",
      "[CV] . max_depth=9, max_features=sqrt, n_estimators=200, total=   0.5s\n",
      "[CV] max_depth=9, max_features=sqrt, n_estimators=700 ................\n",
      "[CV] . max_depth=9, max_features=sqrt, n_estimators=700, total=   1.9s\n",
      "[CV] max_depth=9, max_features=sqrt, n_estimators=700 ................\n",
      "[CV] . max_depth=9, max_features=sqrt, n_estimators=700, total=   2.2s\n",
      "[CV] max_depth=9, max_features=sqrt, n_estimators=700 ................\n",
      "[CV] . max_depth=9, max_features=sqrt, n_estimators=700, total=   2.1s\n",
      "[CV] max_depth=9, max_features=sqrt, n_estimators=700 ................\n",
      "[CV] . max_depth=9, max_features=sqrt, n_estimators=700, total=   2.0s\n",
      "[CV] max_depth=9, max_features=sqrt, n_estimators=700 ................\n",
      "[CV] . max_depth=9, max_features=sqrt, n_estimators=700, total=   1.9s\n",
      "[CV] max_depth=9, max_features=log2, n_estimators=200 ................\n",
      "[CV] . max_depth=9, max_features=log2, n_estimators=200, total=   0.5s\n",
      "[CV] max_depth=9, max_features=log2, n_estimators=200 ................\n",
      "[CV] . max_depth=9, max_features=log2, n_estimators=200, total=   0.5s\n",
      "[CV] max_depth=9, max_features=log2, n_estimators=200 ................\n",
      "[CV] . max_depth=9, max_features=log2, n_estimators=200, total=   0.5s\n",
      "[CV] max_depth=9, max_features=log2, n_estimators=200 ................\n"
     ]
    },
    {
     "name": "stdout",
     "output_type": "stream",
     "text": [
      "[CV] . max_depth=9, max_features=log2, n_estimators=200, total=   0.5s\n",
      "[CV] max_depth=9, max_features=log2, n_estimators=200 ................\n",
      "[CV] . max_depth=9, max_features=log2, n_estimators=200, total=   0.5s\n",
      "[CV] max_depth=9, max_features=log2, n_estimators=700 ................\n",
      "[CV] . max_depth=9, max_features=log2, n_estimators=700, total=   1.9s\n",
      "[CV] max_depth=9, max_features=log2, n_estimators=700 ................\n",
      "[CV] . max_depth=9, max_features=log2, n_estimators=700, total=   1.9s\n",
      "[CV] max_depth=9, max_features=log2, n_estimators=700 ................\n",
      "[CV] . max_depth=9, max_features=log2, n_estimators=700, total=   1.9s\n",
      "[CV] max_depth=9, max_features=log2, n_estimators=700 ................\n",
      "[CV] . max_depth=9, max_features=log2, n_estimators=700, total=   1.9s\n",
      "[CV] max_depth=9, max_features=log2, n_estimators=700 ................\n",
      "[CV] . max_depth=9, max_features=log2, n_estimators=700, total=   1.9s\n",
      "[CV] max_depth=10, max_features=auto, n_estimators=200 ...............\n",
      "[CV]  max_depth=10, max_features=auto, n_estimators=200, total=   0.6s\n",
      "[CV] max_depth=10, max_features=auto, n_estimators=200 ...............\n",
      "[CV]  max_depth=10, max_features=auto, n_estimators=200, total=   0.6s\n",
      "[CV] max_depth=10, max_features=auto, n_estimators=200 ...............\n",
      "[CV]  max_depth=10, max_features=auto, n_estimators=200, total=   0.6s\n",
      "[CV] max_depth=10, max_features=auto, n_estimators=200 ...............\n",
      "[CV]  max_depth=10, max_features=auto, n_estimators=200, total=   0.6s\n",
      "[CV] max_depth=10, max_features=auto, n_estimators=200 ...............\n",
      "[CV]  max_depth=10, max_features=auto, n_estimators=200, total=   0.6s\n",
      "[CV] max_depth=10, max_features=auto, n_estimators=700 ...............\n",
      "[CV]  max_depth=10, max_features=auto, n_estimators=700, total=   2.1s\n",
      "[CV] max_depth=10, max_features=auto, n_estimators=700 ...............\n",
      "[CV]  max_depth=10, max_features=auto, n_estimators=700, total=   2.1s\n",
      "[CV] max_depth=10, max_features=auto, n_estimators=700 ...............\n",
      "[CV]  max_depth=10, max_features=auto, n_estimators=700, total=   2.1s\n",
      "[CV] max_depth=10, max_features=auto, n_estimators=700 ...............\n",
      "[CV]  max_depth=10, max_features=auto, n_estimators=700, total=   2.0s\n",
      "[CV] max_depth=10, max_features=auto, n_estimators=700 ...............\n",
      "[CV]  max_depth=10, max_features=auto, n_estimators=700, total=   2.0s\n",
      "[CV] max_depth=10, max_features=sqrt, n_estimators=200 ...............\n",
      "[CV]  max_depth=10, max_features=sqrt, n_estimators=200, total=   0.6s\n",
      "[CV] max_depth=10, max_features=sqrt, n_estimators=200 ...............\n",
      "[CV]  max_depth=10, max_features=sqrt, n_estimators=200, total=   0.6s\n",
      "[CV] max_depth=10, max_features=sqrt, n_estimators=200 ...............\n",
      "[CV]  max_depth=10, max_features=sqrt, n_estimators=200, total=   0.6s\n",
      "[CV] max_depth=10, max_features=sqrt, n_estimators=200 ...............\n",
      "[CV]  max_depth=10, max_features=sqrt, n_estimators=200, total=   0.6s\n",
      "[CV] max_depth=10, max_features=sqrt, n_estimators=200 ...............\n",
      "[CV]  max_depth=10, max_features=sqrt, n_estimators=200, total=   0.6s\n",
      "[CV] max_depth=10, max_features=sqrt, n_estimators=700 ...............\n",
      "[CV]  max_depth=10, max_features=sqrt, n_estimators=700, total=   2.0s\n",
      "[CV] max_depth=10, max_features=sqrt, n_estimators=700 ...............\n",
      "[CV]  max_depth=10, max_features=sqrt, n_estimators=700, total=   2.1s\n",
      "[CV] max_depth=10, max_features=sqrt, n_estimators=700 ...............\n",
      "[CV]  max_depth=10, max_features=sqrt, n_estimators=700, total=   2.1s\n",
      "[CV] max_depth=10, max_features=sqrt, n_estimators=700 ...............\n",
      "[CV]  max_depth=10, max_features=sqrt, n_estimators=700, total=   2.0s\n",
      "[CV] max_depth=10, max_features=sqrt, n_estimators=700 ...............\n",
      "[CV]  max_depth=10, max_features=sqrt, n_estimators=700, total=   2.0s\n",
      "[CV] max_depth=10, max_features=log2, n_estimators=200 ...............\n",
      "[CV]  max_depth=10, max_features=log2, n_estimators=200, total=   0.6s\n",
      "[CV] max_depth=10, max_features=log2, n_estimators=200 ...............\n",
      "[CV]  max_depth=10, max_features=log2, n_estimators=200, total=   0.6s\n",
      "[CV] max_depth=10, max_features=log2, n_estimators=200 ...............\n",
      "[CV]  max_depth=10, max_features=log2, n_estimators=200, total=   0.6s\n",
      "[CV] max_depth=10, max_features=log2, n_estimators=200 ...............\n",
      "[CV]  max_depth=10, max_features=log2, n_estimators=200, total=   0.6s\n",
      "[CV] max_depth=10, max_features=log2, n_estimators=200 ...............\n",
      "[CV]  max_depth=10, max_features=log2, n_estimators=200, total=   0.6s\n",
      "[CV] max_depth=10, max_features=log2, n_estimators=700 ...............\n",
      "[CV]  max_depth=10, max_features=log2, n_estimators=700, total=   2.0s\n",
      "[CV] max_depth=10, max_features=log2, n_estimators=700 ...............\n",
      "[CV]  max_depth=10, max_features=log2, n_estimators=700, total=   2.0s\n",
      "[CV] max_depth=10, max_features=log2, n_estimators=700 ...............\n",
      "[CV]  max_depth=10, max_features=log2, n_estimators=700, total=   2.0s\n",
      "[CV] max_depth=10, max_features=log2, n_estimators=700 ...............\n",
      "[CV]  max_depth=10, max_features=log2, n_estimators=700, total=   2.0s\n",
      "[CV] max_depth=10, max_features=log2, n_estimators=700 ...............\n",
      "[CV]  max_depth=10, max_features=log2, n_estimators=700, total=   2.0s\n"
     ]
    },
    {
     "name": "stderr",
     "output_type": "stream",
     "text": [
      "[Parallel(n_jobs=1)]: Done 270 out of 270 | elapsed:  4.5min finished\n"
     ]
    },
    {
     "data": {
      "text/plain": [
       "GridSearchCV(cv=5, estimator=RandomForestClassifier(),\n",
       "             param_grid={'max_depth': [2, 3, 4, 5, 6, 7, 8, 9, 10],\n",
       "                         'max_features': ['auto', 'sqrt', 'log2'],\n",
       "                         'n_estimators': [200, 700]},\n",
       "             verbose=2)"
      ]
     },
     "execution_count": 51,
     "metadata": {},
     "output_type": "execute_result"
    }
   ],
   "source": [
    "# Random Forest\n",
    "\n",
    "cv_scores_RF = cross_val_score(RandomForestClassifier(),X_train,y_train,cv=5)\n",
    "param_grid_RF = {\n",
    "    'n_estimators': [200, 700],\n",
    "    'max_features': ['auto', 'sqrt', 'log2'],\n",
    "    'max_depth': [2, 3, 4, 5, 6, 7, 8, 9, 10]\n",
    "}\n",
    "grid = GridSearchCV(RandomForestClassifier(),param_grid_RF,refit=True,verbose=2,cv=5)\n",
    "grid.fit(X_train,y_train)"
   ]
  },
  {
   "cell_type": "code",
   "execution_count": 53,
   "metadata": {},
   "outputs": [
    {
     "name": "stdout",
     "output_type": "stream",
     "text": [
      "RandomForestClassifier(max_depth=9, n_estimators=700)\n"
     ]
    }
   ],
   "source": [
    "print(grid.best_estimator_)"
   ]
  },
  {
   "cell_type": "code",
   "execution_count": 56,
   "metadata": {},
   "outputs": [
    {
     "name": "stdout",
     "output_type": "stream",
     "text": [
      "Confusion matrix, without normalization\n",
      "[[555  17]\n",
      " [ 58  37]]\n",
      "Normalized confusion matrix\n",
      "[[0.97027972 0.02972028]\n",
      " [0.61052632 0.38947368]]\n"
     ]
    },
    {
     "data": {
      "image/png": "[encoded data removed]",
      "text/plain": [
       "<Figure size 432x288 with 2 Axes>"
      ]
     },
     "metadata": {
      "needs_background": "light"
     },
     "output_type": "display_data"
    },
    {
     "data": {
      "image/png": "[encoded data removed]",
      "text/plain": [
       "<Figure size 432x288 with 2 Axes>"
      ]
     },
     "metadata": {
      "needs_background": "light"
     },
     "output_type": "display_data"
    }
   ],
   "source": [
    "classifier_RF = RandomForestClassifier(max_depth=9, max_features='auto', n_estimators=700).fit(X_train, y_train)\n",
    "y_pred_RF = classifier_RF.predict(X_test)\n",
    "confusion_matrix(y_test, y_pred_RF)\n",
    "\n",
    "# Plot non-normalized confusion matrix\n",
    "titles_options = [(\"Confusion matrix, without normalization\", None),\n",
    "                  (\"Normalized confusion matrix\", 'true')]\n",
    "for title, normalize in titles_options:\n",
    "    disp = plot_confusion_matrix(classifier, X_test, y_test,\n",
    "                                 #display_labels=y_test,\n",
    "                                 cmap=plt.cm.Blues,\n",
    "                                 normalize=normalize)\n",
    "    disp.ax_.set_title(title)\n",
    "\n",
    "    print(title)\n",
    "    print(disp.confusion_matrix)\n",
    "\n",
    "plt.show()"
   ]
  },
  {
   "cell_type": "code",
   "execution_count": 57,
   "metadata": {},
   "outputs": [
    {
     "data": {
      "text/plain": [
       "0.7807876334192123"
      ]
     },
     "execution_count": 57,
     "metadata": {},
     "output_type": "execute_result"
    }
   ],
   "source": [
    "y_pred_prob_RF = classifier_RF.predict_proba(X_test)\n",
    "false_positive_rate_RF, true_positive_rate_RF, thresholds_RF = roc_curve(y_test, y_pred_prob_RF[:,1])\n",
    "roc_auc_RF = auc(false_positive_rate_RF, true_positive_rate_RF)\n",
    "roc_auc_RF"
   ]
  },
  {
   "cell_type": "code",
   "execution_count": 59,
   "metadata": {},
   "outputs": [
    {
     "data": {
      "image/png": "[encoded data removed]",
      "text/plain": [
       "<Figure size 432x288 with 1 Axes>"
      ]
     },
     "metadata": {
      "needs_background": "light"
     },
     "output_type": "display_data"
    }
   ],
   "source": [
    "plt.title('Receiver Operating Characteristic')\n",
    "plt.plot(false_positive_rate_RF,true_positive_rate_RF, color='red',label = 'AUC = %0.2f' % roc_auc_RF)\n",
    "plt.legend(loc = 'lower right')\n",
    "plt.plot([0, 1], [0, 1],linestyle='--')\n",
    "plt.axis('tight')\n",
    "plt.ylabel('True Positive Rate')\n",
    "plt.xlabel('False Positive Rate')\n",
    "plt.show()"
   ]
  },
  {
   "cell_type": "code",
   "execution_count": 60,
   "metadata": {},
   "outputs": [
    {
     "name": "stdout",
     "output_type": "stream",
     "text": [
      "Fitting 5 folds for each of 24 candidates, totalling 120 fits\n",
      "[CV] max_depth=2, max_features=auto, n_estimators=200 ................\n"
     ]
    },
    {
     "name": "stderr",
     "output_type": "stream",
     "text": [
      "[Parallel(n_jobs=1)]: Using backend SequentialBackend with 1 concurrent workers.\n"
     ]
    },
    {
     "name": "stdout",
     "output_type": "stream",
     "text": [
      "[CV] . max_depth=2, max_features=auto, n_estimators=200, total=   0.3s\n",
      "[CV] max_depth=2, max_features=auto, n_estimators=200 ................\n"
     ]
    },
    {
     "name": "stderr",
     "output_type": "stream",
     "text": [
      "[Parallel(n_jobs=1)]: Done   1 out of   1 | elapsed:    0.2s remaining:    0.0s\n"
     ]
    },
    {
     "name": "stdout",
     "output_type": "stream",
     "text": [
      "[CV] . max_depth=2, max_features=auto, n_estimators=200, total=   0.3s\n",
      "[CV] max_depth=2, max_features=auto, n_estimators=200 ................\n",
      "[CV] . max_depth=2, max_features=auto, n_estimators=200, total=   0.3s\n",
      "[CV] max_depth=2, max_features=auto, n_estimators=200 ................\n",
      "[CV] . max_depth=2, max_features=auto, n_estimators=200, total=   0.3s\n",
      "[CV] max_depth=2, max_features=auto, n_estimators=200 ................\n",
      "[CV] . max_depth=2, max_features=auto, n_estimators=200, total=   0.3s\n",
      "[CV] max_depth=2, max_features=auto, n_estimators=700 ................\n",
      "[CV] . max_depth=2, max_features=auto, n_estimators=700, total=   1.0s\n",
      "[CV] max_depth=2, max_features=auto, n_estimators=700 ................\n",
      "[CV] . max_depth=2, max_features=auto, n_estimators=700, total=   1.0s\n",
      "[CV] max_depth=2, max_features=auto, n_estimators=700 ................\n",
      "[CV] . max_depth=2, max_features=auto, n_estimators=700, total=   1.0s\n",
      "[CV] max_depth=2, max_features=auto, n_estimators=700 ................\n",
      "[CV] . max_depth=2, max_features=auto, n_estimators=700, total=   1.0s\n",
      "[CV] max_depth=2, max_features=auto, n_estimators=700 ................\n",
      "[CV] . max_depth=2, max_features=auto, n_estimators=700, total=   1.0s\n",
      "[CV] max_depth=2, max_features=sqrt, n_estimators=200 ................\n",
      "[CV] . max_depth=2, max_features=sqrt, n_estimators=200, total=   0.2s\n",
      "[CV] max_depth=2, max_features=sqrt, n_estimators=200 ................\n",
      "[CV] . max_depth=2, max_features=sqrt, n_estimators=200, total=   0.2s\n",
      "[CV] max_depth=2, max_features=sqrt, n_estimators=200 ................\n",
      "[CV] . max_depth=2, max_features=sqrt, n_estimators=200, total=   0.2s\n",
      "[CV] max_depth=2, max_features=sqrt, n_estimators=200 ................\n",
      "[CV] . max_depth=2, max_features=sqrt, n_estimators=200, total=   0.2s\n",
      "[CV] max_depth=2, max_features=sqrt, n_estimators=200 ................\n",
      "[CV] . max_depth=2, max_features=sqrt, n_estimators=200, total=   0.2s\n",
      "[CV] max_depth=2, max_features=sqrt, n_estimators=700 ................\n",
      "[CV] . max_depth=2, max_features=sqrt, n_estimators=700, total=   0.7s\n",
      "[CV] max_depth=2, max_features=sqrt, n_estimators=700 ................\n",
      "[CV] . max_depth=2, max_features=sqrt, n_estimators=700, total=   0.7s\n",
      "[CV] max_depth=2, max_features=sqrt, n_estimators=700 ................\n",
      "[CV] . max_depth=2, max_features=sqrt, n_estimators=700, total=   0.7s\n",
      "[CV] max_depth=2, max_features=sqrt, n_estimators=700 ................\n",
      "[CV] . max_depth=2, max_features=sqrt, n_estimators=700, total=   0.7s\n",
      "[CV] max_depth=2, max_features=sqrt, n_estimators=700 ................\n",
      "[CV] . max_depth=2, max_features=sqrt, n_estimators=700, total=   0.7s\n",
      "[CV] max_depth=2, max_features=log2, n_estimators=200 ................\n",
      "[CV] . max_depth=2, max_features=log2, n_estimators=200, total=   0.2s\n",
      "[CV] max_depth=2, max_features=log2, n_estimators=200 ................\n",
      "[CV] . max_depth=2, max_features=log2, n_estimators=200, total=   0.2s\n",
      "[CV] max_depth=2, max_features=log2, n_estimators=200 ................\n",
      "[CV] . max_depth=2, max_features=log2, n_estimators=200, total=   0.2s\n",
      "[CV] max_depth=2, max_features=log2, n_estimators=200 ................\n",
      "[CV] . max_depth=2, max_features=log2, n_estimators=200, total=   0.2s\n",
      "[CV] max_depth=2, max_features=log2, n_estimators=200 ................\n",
      "[CV] . max_depth=2, max_features=log2, n_estimators=200, total=   0.2s\n",
      "[CV] max_depth=2, max_features=log2, n_estimators=700 ................\n",
      "[CV] . max_depth=2, max_features=log2, n_estimators=700, total=   0.7s\n",
      "[CV] max_depth=2, max_features=log2, n_estimators=700 ................\n",
      "[CV] . max_depth=2, max_features=log2, n_estimators=700, total=   0.7s\n",
      "[CV] max_depth=2, max_features=log2, n_estimators=700 ................\n",
      "[CV] . max_depth=2, max_features=log2, n_estimators=700, total=   0.7s\n",
      "[CV] max_depth=2, max_features=log2, n_estimators=700 ................\n",
      "[CV] . max_depth=2, max_features=log2, n_estimators=700, total=   0.7s\n",
      "[CV] max_depth=2, max_features=log2, n_estimators=700 ................\n",
      "[CV] . max_depth=2, max_features=log2, n_estimators=700, total=   0.7s\n",
      "[CV] max_depth=3, max_features=auto, n_estimators=200 ................\n",
      "[CV] . max_depth=3, max_features=auto, n_estimators=200, total=   0.4s\n",
      "[CV] max_depth=3, max_features=auto, n_estimators=200 ................\n",
      "[CV] . max_depth=3, max_features=auto, n_estimators=200, total=   0.4s\n",
      "[CV] max_depth=3, max_features=auto, n_estimators=200 ................\n",
      "[CV] . max_depth=3, max_features=auto, n_estimators=200, total=   0.4s\n",
      "[CV] max_depth=3, max_features=auto, n_estimators=200 ................\n",
      "[CV] . max_depth=3, max_features=auto, n_estimators=200, total=   0.4s\n",
      "[CV] max_depth=3, max_features=auto, n_estimators=200 ................\n",
      "[CV] . max_depth=3, max_features=auto, n_estimators=200, total=   0.4s\n",
      "[CV] max_depth=3, max_features=auto, n_estimators=700 ................\n",
      "[CV] . max_depth=3, max_features=auto, n_estimators=700, total=   1.5s\n",
      "[CV] max_depth=3, max_features=auto, n_estimators=700 ................\n",
      "[CV] . max_depth=3, max_features=auto, n_estimators=700, total=   1.4s\n",
      "[CV] max_depth=3, max_features=auto, n_estimators=700 ................\n",
      "[CV] . max_depth=3, max_features=auto, n_estimators=700, total=   1.5s\n",
      "[CV] max_depth=3, max_features=auto, n_estimators=700 ................\n",
      "[CV] . max_depth=3, max_features=auto, n_estimators=700, total=   1.5s\n",
      "[CV] max_depth=3, max_features=auto, n_estimators=700 ................\n",
      "[CV] . max_depth=3, max_features=auto, n_estimators=700, total=   1.5s\n",
      "[CV] max_depth=3, max_features=sqrt, n_estimators=200 ................\n",
      "[CV] . max_depth=3, max_features=sqrt, n_estimators=200, total=   0.3s\n",
      "[CV] max_depth=3, max_features=sqrt, n_estimators=200 ................\n",
      "[CV] . max_depth=3, max_features=sqrt, n_estimators=200, total=   0.3s\n",
      "[CV] max_depth=3, max_features=sqrt, n_estimators=200 ................\n",
      "[CV] . max_depth=3, max_features=sqrt, n_estimators=200, total=   0.3s\n",
      "[CV] max_depth=3, max_features=sqrt, n_estimators=200 ................\n",
      "[CV] . max_depth=3, max_features=sqrt, n_estimators=200, total=   0.3s\n",
      "[CV] max_depth=3, max_features=sqrt, n_estimators=200 ................\n",
      "[CV] . max_depth=3, max_features=sqrt, n_estimators=200, total=   0.3s\n",
      "[CV] max_depth=3, max_features=sqrt, n_estimators=700 ................\n",
      "[CV] . max_depth=3, max_features=sqrt, n_estimators=700, total=   1.0s\n",
      "[CV] max_depth=3, max_features=sqrt, n_estimators=700 ................\n",
      "[CV] . max_depth=3, max_features=sqrt, n_estimators=700, total=   1.0s\n",
      "[CV] max_depth=3, max_features=sqrt, n_estimators=700 ................\n",
      "[CV] . max_depth=3, max_features=sqrt, n_estimators=700, total=   1.0s\n",
      "[CV] max_depth=3, max_features=sqrt, n_estimators=700 ................\n",
      "[CV] . max_depth=3, max_features=sqrt, n_estimators=700, total=   1.0s\n",
      "[CV] max_depth=3, max_features=sqrt, n_estimators=700 ................\n",
      "[CV] . max_depth=3, max_features=sqrt, n_estimators=700, total=   1.0s\n",
      "[CV] max_depth=3, max_features=log2, n_estimators=200 ................\n",
      "[CV] . max_depth=3, max_features=log2, n_estimators=200, total=   0.3s\n",
      "[CV] max_depth=3, max_features=log2, n_estimators=200 ................\n",
      "[CV] . max_depth=3, max_features=log2, n_estimators=200, total=   0.3s\n",
      "[CV] max_depth=3, max_features=log2, n_estimators=200 ................\n",
      "[CV] . max_depth=3, max_features=log2, n_estimators=200, total=   0.3s\n",
      "[CV] max_depth=3, max_features=log2, n_estimators=200 ................\n",
      "[CV] . max_depth=3, max_features=log2, n_estimators=200, total=   0.3s\n",
      "[CV] max_depth=3, max_features=log2, n_estimators=200 ................\n",
      "[CV] . max_depth=3, max_features=log2, n_estimators=200, total=   0.3s\n",
      "[CV] max_depth=3, max_features=log2, n_estimators=700 ................\n",
      "[CV] . max_depth=3, max_features=log2, n_estimators=700, total=   1.0s\n",
      "[CV] max_depth=3, max_features=log2, n_estimators=700 ................\n",
      "[CV] . max_depth=3, max_features=log2, n_estimators=700, total=   1.0s\n",
      "[CV] max_depth=3, max_features=log2, n_estimators=700 ................\n",
      "[CV] . max_depth=3, max_features=log2, n_estimators=700, total=   1.0s\n",
      "[CV] max_depth=3, max_features=log2, n_estimators=700 ................\n",
      "[CV] . max_depth=3, max_features=log2, n_estimators=700, total=   1.0s\n",
      "[CV] max_depth=3, max_features=log2, n_estimators=700 ................\n"
     ]
    },
    {
     "name": "stdout",
     "output_type": "stream",
     "text": [
      "[CV] . max_depth=3, max_features=log2, n_estimators=700, total=   1.0s\n",
      "[CV] max_depth=4, max_features=auto, n_estimators=200 ................\n",
      "[CV] . max_depth=4, max_features=auto, n_estimators=200, total=   0.5s\n",
      "[CV] max_depth=4, max_features=auto, n_estimators=200 ................\n",
      "[CV] . max_depth=4, max_features=auto, n_estimators=200, total=   0.5s\n",
      "[CV] max_depth=4, max_features=auto, n_estimators=200 ................\n",
      "[CV] . max_depth=4, max_features=auto, n_estimators=200, total=   0.5s\n",
      "[CV] max_depth=4, max_features=auto, n_estimators=200 ................\n",
      "[CV] . max_depth=4, max_features=auto, n_estimators=200, total=   0.6s\n",
      "[CV] max_depth=4, max_features=auto, n_estimators=200 ................\n",
      "[CV] . max_depth=4, max_features=auto, n_estimators=200, total=   0.6s\n",
      "[CV] max_depth=4, max_features=auto, n_estimators=700 ................\n",
      "[CV] . max_depth=4, max_features=auto, n_estimators=700, total=   2.0s\n",
      "[CV] max_depth=4, max_features=auto, n_estimators=700 ................\n",
      "[CV] . max_depth=4, max_features=auto, n_estimators=700, total=   2.0s\n",
      "[CV] max_depth=4, max_features=auto, n_estimators=700 ................\n",
      "[CV] . max_depth=4, max_features=auto, n_estimators=700, total=   1.9s\n",
      "[CV] max_depth=4, max_features=auto, n_estimators=700 ................\n",
      "[CV] . max_depth=4, max_features=auto, n_estimators=700, total=   1.9s\n",
      "[CV] max_depth=4, max_features=auto, n_estimators=700 ................\n",
      "[CV] . max_depth=4, max_features=auto, n_estimators=700, total=   1.9s\n",
      "[CV] max_depth=4, max_features=sqrt, n_estimators=200 ................\n",
      "[CV] . max_depth=4, max_features=sqrt, n_estimators=200, total=   0.4s\n",
      "[CV] max_depth=4, max_features=sqrt, n_estimators=200 ................\n",
      "[CV] . max_depth=4, max_features=sqrt, n_estimators=200, total=   0.4s\n",
      "[CV] max_depth=4, max_features=sqrt, n_estimators=200 ................\n",
      "[CV] . max_depth=4, max_features=sqrt, n_estimators=200, total=   0.4s\n",
      "[CV] max_depth=4, max_features=sqrt, n_estimators=200 ................\n",
      "[CV] . max_depth=4, max_features=sqrt, n_estimators=200, total=   0.4s\n",
      "[CV] max_depth=4, max_features=sqrt, n_estimators=200 ................\n",
      "[CV] . max_depth=4, max_features=sqrt, n_estimators=200, total=   0.4s\n",
      "[CV] max_depth=4, max_features=sqrt, n_estimators=700 ................\n",
      "[CV] . max_depth=4, max_features=sqrt, n_estimators=700, total=   1.2s\n",
      "[CV] max_depth=4, max_features=sqrt, n_estimators=700 ................\n",
      "[CV] . max_depth=4, max_features=sqrt, n_estimators=700, total=   1.3s\n",
      "[CV] max_depth=4, max_features=sqrt, n_estimators=700 ................\n",
      "[CV] . max_depth=4, max_features=sqrt, n_estimators=700, total=   1.3s\n",
      "[CV] max_depth=4, max_features=sqrt, n_estimators=700 ................\n",
      "[CV] . max_depth=4, max_features=sqrt, n_estimators=700, total=   1.2s\n",
      "[CV] max_depth=4, max_features=sqrt, n_estimators=700 ................\n",
      "[CV] . max_depth=4, max_features=sqrt, n_estimators=700, total=   1.2s\n",
      "[CV] max_depth=4, max_features=log2, n_estimators=200 ................\n",
      "[CV] . max_depth=4, max_features=log2, n_estimators=200, total=   0.4s\n",
      "[CV] max_depth=4, max_features=log2, n_estimators=200 ................\n",
      "[CV] . max_depth=4, max_features=log2, n_estimators=200, total=   0.4s\n",
      "[CV] max_depth=4, max_features=log2, n_estimators=200 ................\n",
      "[CV] . max_depth=4, max_features=log2, n_estimators=200, total=   0.4s\n",
      "[CV] max_depth=4, max_features=log2, n_estimators=200 ................\n",
      "[CV] . max_depth=4, max_features=log2, n_estimators=200, total=   0.4s\n",
      "[CV] max_depth=4, max_features=log2, n_estimators=200 ................\n",
      "[CV] . max_depth=4, max_features=log2, n_estimators=200, total=   0.4s\n",
      "[CV] max_depth=4, max_features=log2, n_estimators=700 ................\n",
      "[CV] . max_depth=4, max_features=log2, n_estimators=700, total=   1.3s\n",
      "[CV] max_depth=4, max_features=log2, n_estimators=700 ................\n",
      "[CV] . max_depth=4, max_features=log2, n_estimators=700, total=   1.2s\n",
      "[CV] max_depth=4, max_features=log2, n_estimators=700 ................\n",
      "[CV] . max_depth=4, max_features=log2, n_estimators=700, total=   1.3s\n",
      "[CV] max_depth=4, max_features=log2, n_estimators=700 ................\n",
      "[CV] . max_depth=4, max_features=log2, n_estimators=700, total=   1.3s\n",
      "[CV] max_depth=4, max_features=log2, n_estimators=700 ................\n",
      "[CV] . max_depth=4, max_features=log2, n_estimators=700, total=   1.2s\n",
      "[CV] max_depth=5, max_features=auto, n_estimators=200 ................\n",
      "[CV] . max_depth=5, max_features=auto, n_estimators=200, total=   0.7s\n",
      "[CV] max_depth=5, max_features=auto, n_estimators=200 ................\n",
      "[CV] . max_depth=5, max_features=auto, n_estimators=200, total=   0.7s\n",
      "[CV] max_depth=5, max_features=auto, n_estimators=200 ................\n",
      "[CV] . max_depth=5, max_features=auto, n_estimators=200, total=   0.7s\n",
      "[CV] max_depth=5, max_features=auto, n_estimators=200 ................\n",
      "[CV] . max_depth=5, max_features=auto, n_estimators=200, total=   0.7s\n",
      "[CV] max_depth=5, max_features=auto, n_estimators=200 ................\n",
      "[CV] . max_depth=5, max_features=auto, n_estimators=200, total=   0.7s\n",
      "[CV] max_depth=5, max_features=auto, n_estimators=700 ................\n",
      "[CV] . max_depth=5, max_features=auto, n_estimators=700, total=   2.4s\n",
      "[CV] max_depth=5, max_features=auto, n_estimators=700 ................\n",
      "[CV] . max_depth=5, max_features=auto, n_estimators=700, total=   2.4s\n",
      "[CV] max_depth=5, max_features=auto, n_estimators=700 ................\n",
      "[CV] . max_depth=5, max_features=auto, n_estimators=700, total=   2.4s\n",
      "[CV] max_depth=5, max_features=auto, n_estimators=700 ................\n",
      "[CV] . max_depth=5, max_features=auto, n_estimators=700, total=   2.4s\n",
      "[CV] max_depth=5, max_features=auto, n_estimators=700 ................\n",
      "[CV] . max_depth=5, max_features=auto, n_estimators=700, total=   2.4s\n",
      "[CV] max_depth=5, max_features=sqrt, n_estimators=200 ................\n",
      "[CV] . max_depth=5, max_features=sqrt, n_estimators=200, total=   0.5s\n",
      "[CV] max_depth=5, max_features=sqrt, n_estimators=200 ................\n",
      "[CV] . max_depth=5, max_features=sqrt, n_estimators=200, total=   0.5s\n",
      "[CV] max_depth=5, max_features=sqrt, n_estimators=200 ................\n",
      "[CV] . max_depth=5, max_features=sqrt, n_estimators=200, total=   0.5s\n",
      "[CV] max_depth=5, max_features=sqrt, n_estimators=200 ................\n",
      "[CV] . max_depth=5, max_features=sqrt, n_estimators=200, total=   0.5s\n",
      "[CV] max_depth=5, max_features=sqrt, n_estimators=200 ................\n",
      "[CV] . max_depth=5, max_features=sqrt, n_estimators=200, total=   0.5s\n",
      "[CV] max_depth=5, max_features=sqrt, n_estimators=700 ................\n",
      "[CV] . max_depth=5, max_features=sqrt, n_estimators=700, total=   1.6s\n",
      "[CV] max_depth=5, max_features=sqrt, n_estimators=700 ................\n",
      "[CV] . max_depth=5, max_features=sqrt, n_estimators=700, total=   1.6s\n",
      "[CV] max_depth=5, max_features=sqrt, n_estimators=700 ................\n",
      "[CV] . max_depth=5, max_features=sqrt, n_estimators=700, total=   1.6s\n",
      "[CV] max_depth=5, max_features=sqrt, n_estimators=700 ................\n",
      "[CV] . max_depth=5, max_features=sqrt, n_estimators=700, total=   1.6s\n",
      "[CV] max_depth=5, max_features=sqrt, n_estimators=700 ................\n",
      "[CV] . max_depth=5, max_features=sqrt, n_estimators=700, total=   1.6s\n",
      "[CV] max_depth=5, max_features=log2, n_estimators=200 ................\n",
      "[CV] . max_depth=5, max_features=log2, n_estimators=200, total=   0.5s\n",
      "[CV] max_depth=5, max_features=log2, n_estimators=200 ................\n",
      "[CV] . max_depth=5, max_features=log2, n_estimators=200, total=   0.5s\n",
      "[CV] max_depth=5, max_features=log2, n_estimators=200 ................\n",
      "[CV] . max_depth=5, max_features=log2, n_estimators=200, total=   0.5s\n",
      "[CV] max_depth=5, max_features=log2, n_estimators=200 ................\n",
      "[CV] . max_depth=5, max_features=log2, n_estimators=200, total=   0.5s\n",
      "[CV] max_depth=5, max_features=log2, n_estimators=200 ................\n",
      "[CV] . max_depth=5, max_features=log2, n_estimators=200, total=   0.5s\n",
      "[CV] max_depth=5, max_features=log2, n_estimators=700 ................\n",
      "[CV] . max_depth=5, max_features=log2, n_estimators=700, total=   1.6s\n",
      "[CV] max_depth=5, max_features=log2, n_estimators=700 ................\n",
      "[CV] . max_depth=5, max_features=log2, n_estimators=700, total=   1.6s\n",
      "[CV] max_depth=5, max_features=log2, n_estimators=700 ................\n"
     ]
    },
    {
     "name": "stdout",
     "output_type": "stream",
     "text": [
      "[CV] . max_depth=5, max_features=log2, n_estimators=700, total=   1.6s\n",
      "[CV] max_depth=5, max_features=log2, n_estimators=700 ................\n",
      "[CV] . max_depth=5, max_features=log2, n_estimators=700, total=   1.6s\n",
      "[CV] max_depth=5, max_features=log2, n_estimators=700 ................\n",
      "[CV] . max_depth=5, max_features=log2, n_estimators=700, total=   1.6s\n"
     ]
    },
    {
     "name": "stderr",
     "output_type": "stream",
     "text": [
      "[Parallel(n_jobs=1)]: Done 120 out of 120 | elapsed:  1.7min finished\n"
     ]
    },
    {
     "data": {
      "text/plain": [
       "GridSearchCV(cv=5, estimator=GradientBoostingClassifier(),\n",
       "             param_grid={'max_depth': [2, 3, 4, 5],\n",
       "                         'max_features': ['auto', 'sqrt', 'log2'],\n",
       "                         'n_estimators': [200, 700]},\n",
       "             verbose=2)"
      ]
     },
     "execution_count": 60,
     "metadata": {},
     "output_type": "execute_result"
    }
   ],
   "source": [
    "# BOOSTING\n",
    "\n",
    "cv_scores_BOO = cross_val_score(GradientBoostingClassifier(),X_train,y_train,cv=5)\n",
    "param_grid_BOO = {\n",
    "    'n_estimators': [200, 700],\n",
    "    'max_features': ['auto', 'sqrt', 'log2'],\n",
    "    'max_depth': [2, 3, 4, 5]\n",
    "}\n",
    "grid_BOO = GridSearchCV(GradientBoostingClassifier(),param_grid_BOO,refit=True,verbose=2,cv=5)\n",
    "grid_BOO.fit(X_train,y_train)"
   ]
  },
  {
   "cell_type": "code",
   "execution_count": 61,
   "metadata": {},
   "outputs": [
    {
     "name": "stdout",
     "output_type": "stream",
     "text": [
      "GradientBoostingClassifier(max_depth=5, max_features='log2', n_estimators=200)\n"
     ]
    }
   ],
   "source": [
    "print(grid_BOO.best_estimator_)"
   ]
  },
  {
   "cell_type": "code",
   "execution_count": 62,
   "metadata": {},
   "outputs": [
    {
     "name": "stdout",
     "output_type": "stream",
     "text": [
      "Confusion matrix, without normalization\n",
      "[[552  20]\n",
      " [ 57  38]]\n",
      "Normalized confusion matrix\n",
      "[[0.96503497 0.03496503]\n",
      " [0.6        0.4       ]]\n"
     ]
    },
    {
     "data": {
      "image/png": "[encoded data removed]",
      "text/plain": [
       "<Figure size 432x288 with 2 Axes>"
      ]
     },
     "metadata": {
      "needs_background": "light"
     },
     "output_type": "display_data"
    },
    {
     "data": {
      "image/png": "[encoded data removed]",
      "text/plain": [
       "<Figure size 432x288 with 2 Axes>"
      ]
     },
     "metadata": {
      "needs_background": "light"
     },
     "output_type": "display_data"
    }
   ],
   "source": [
    "classifier_BOO = GradientBoostingClassifier(max_depth=5, max_features='log2', n_estimators=200).fit(X_train, y_train)\n",
    "y_pred_BOO = classifier_BOO.predict(X_test)\n",
    "confusion_matrix(y_test, y_pred_BOO)\n",
    "\n",
    "titles_options = [(\"Confusion matrix, without normalization\", None),\n",
    "                  (\"Normalized confusion matrix\", 'true')]\n",
    "for title, normalize in titles_options:\n",
    "    disp = plot_confusion_matrix(classifier_BOO, X_test, y_test,\n",
    "                                 #display_labels=y_test,\n",
    "                                 cmap=plt.cm.Blues,\n",
    "                                 normalize=normalize)\n",
    "    disp.ax_.set_title(title)\n",
    "\n",
    "    print(title)\n",
    "    print(disp.confusion_matrix)\n",
    "\n",
    "plt.show()"
   ]
  },
  {
   "cell_type": "code",
   "execution_count": 64,
   "metadata": {},
   "outputs": [
    {
     "data": {
      "text/plain": [
       "0.7523003312476997"
      ]
     },
     "execution_count": 64,
     "metadata": {},
     "output_type": "execute_result"
    }
   ],
   "source": [
    "y_pred_prob_BOO = classifier_BOO.predict_proba(X_test)\n",
    "false_positive_rate_BOO, true_positive_rate_BOO, thresholds_BOO = roc_curve(y_test, y_pred_prob_BOO[:,1])\n",
    "roc_auc_BOO = auc(false_positive_rate_BOO, true_positive_rate_BOO)\n",
    "roc_auc_BOO"
   ]
  },
  {
   "cell_type": "code",
   "execution_count": 65,
   "metadata": {},
   "outputs": [
    {
     "data": {
      "image/png": "[encoded data removed]",
      "text/plain": [
       "<Figure size 432x288 with 1 Axes>"
      ]
     },
     "metadata": {
      "needs_background": "light"
     },
     "output_type": "display_data"
    }
   ],
   "source": [
    "plt.title('Receiver Operating Characteristic')\n",
    "plt.plot(false_positive_rate_BOO,true_positive_rate_BOO, color='red',label = 'AUC = %0.2f' % roc_auc_BOO)\n",
    "plt.legend(loc = 'lower right')\n",
    "plt.plot([0, 1], [0, 1],linestyle='--')\n",
    "plt.axis('tight')\n",
    "plt.ylabel('True Positive Rate')\n",
    "plt.xlabel('False Positive Rate')\n",
    "plt.show()"
   ]
  },
  {
   "cell_type": "code",
   "execution_count": null,
   "metadata": {},
   "outputs": [],
   "source": [
    "# RPTA:\n",
    "\n",
    "#      Entre los tres modelos el random forest y boosting obtienen el mejor desempeño, esto puede deberse al metodo que se\n",
    "#      utiliza para la predicción. Finalmente el modelo de Random Forest obtiene un mejor AUC de 0.78"
   ]
  },
  {
   "cell_type": "code",
   "execution_count": 71,
   "metadata": {},
   "outputs": [
    {
     "data": {
      "image/png": "[encoded data removed]",
      "text/plain": [
       "<Figure size 432x288 with 1 Axes>"
      ]
     },
     "metadata": {
      "needs_background": "light"
     },
     "output_type": "display_data"
    }
   ],
   "source": [
    "# 2b. Programar una función para presentar en una sola gráfica la curva ROC (Receiver Operating Characteristic)\n",
    "#     haciendo uso de los modelos de Machine Learning SVM, Random Forest y Boosting. Presentar sus conclusiones. (5 puntos)\n",
    "\n",
    "plt.title('Receiver Operating Characteristic')\n",
    "\n",
    "plt.plot(false_positive_rate_SVN,true_positive_rate_SVN, color='blue',label = 'AUC_SVN = %0.3f' % roc_auc_SVN)\n",
    "\n",
    "plt.plot(false_positive_rate_RF,true_positive_rate_RF, color='red',label = 'AUC_Random_Forest = %0.3f' % roc_auc_RF)\n",
    "\n",
    "plt.plot(false_positive_rate_BOO,true_positive_rate_BOO, color='orange',label = 'AUC_Boosting = %0.3f' % roc_auc_BOO)\n",
    "\n",
    "plt.legend(loc = 'lower right')\n",
    "\n",
    "plt.plot([0, 1], [0, 1],linestyle='--')\n",
    "\n",
    "plt.axis('tight')\n",
    "\n",
    "plt.ylabel('True Positive Rate')\n",
    "\n",
    "plt.xlabel('False Positive Rate')\n",
    "\n",
    "plt.show()"
   ]
  },
  {
   "cell_type": "code",
   "execution_count": 95,
   "metadata": {},
   "outputs": [],
   "source": [
    "# RPTA:\n",
    "#      Entre las tres curvas ROC podemos observar que el Random Forest se encuentra por encima del resto debido a que cuenta \n",
    "#      con un AUC de 0.781"
   ]
  }
 ],
 "metadata": {
  "kernelspec": {
   "display_name": "Python 3",
   "language": "python",
   "name": "python3"
  },
  "language_info": {
   "codemirror_mode": {
    "name": "ipython",
    "version": 3
   },
   "file_extension": ".py",
   "mimetype": "text/x-python",
   "name": "python",
   "nbconvert_exporter": "python",
   "pygments_lexer": "ipython3",
   "version": "3.8.5"
  }
 },
 "nbformat": 4,
 "nbformat_minor": 4
}
