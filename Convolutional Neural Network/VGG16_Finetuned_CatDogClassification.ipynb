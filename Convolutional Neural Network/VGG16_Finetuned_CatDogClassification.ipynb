{
 "cells": [
  {
   "cell_type": "code",
   "execution_count": 32,
   "metadata": {},
   "outputs": [],
   "source": [
    "from tensorflow.keras.applications import VGG16\n",
    "from tensorflow.keras.models import Sequential\n",
    "from tensorflow.keras.layers import Dense, Flatten\n",
    "h, w = 224, 224\n",
    "vgg16 = VGG16(weights='imagenet', include_top=False, input_shape=(h, w, 3))"
   ]
  },
  {
   "cell_type": "code",
   "execution_count": 33,
   "metadata": {},
   "outputs": [],
   "source": [
    "# Congelar las capas preentrenadas\n",
    "for layer in vgg16.layers:\n",
    "    layer.trainable = False\n",
    "\n",
    "# Crear un nuevo modelo secuencial\n",
    "model = Sequential()\n",
    "\n",
    "# Agregar las capas de VGG16 al nuevo modelo\n",
    "model.add(vgg16)\n",
    "\n",
    "# Añadir capas personalizadas\n",
    "model.add(Flatten())\n",
    "model.add(Dense(128, activation='relu'))\n",
    "model.add(Dense(1, activation='sigmoid'))\n",
    "\n",
    "# Compilar el modelo\n",
    "model.compile(optimizer=\"adam\", loss='binary_crossentropy', metrics=['accuracy'])"
   ]
  },
  {
   "cell_type": "code",
   "execution_count": 34,
   "metadata": {},
   "outputs": [
    {
     "name": "stdout",
     "output_type": "stream",
     "text": [
      "Found 2000 images belonging to 2 classes.\n",
      "Found 2000 images belonging to 2 classes.\n",
      "Epoch 1/15\n",
      "62/62 [==============================] - 1143s 19s/step - loss: 0.7010 - accuracy: 0.7561 - val_loss: 0.2606 - val_accuracy: 0.8775\n",
      "Epoch 2/15\n",
      "62/62 [==============================] - 1148s 19s/step - loss: 0.2391 - accuracy: 0.8948 - val_loss: 0.2177 - val_accuracy: 0.9078\n",
      "Epoch 3/15\n",
      "62/62 [==============================] - 1137s 18s/step - loss: 0.2077 - accuracy: 0.9121 - val_loss: 0.2789 - val_accuracy: 0.8841\n",
      "Epoch 4/15\n",
      "62/62 [==============================] - 1144s 19s/step - loss: 0.1610 - accuracy: 0.9385 - val_loss: 0.2586 - val_accuracy: 0.8982\n",
      "Epoch 5/15\n",
      "62/62 [==============================] - 1156s 19s/step - loss: 0.1501 - accuracy: 0.9380 - val_loss: 0.2557 - val_accuracy: 0.9002\n",
      "Epoch 6/15\n",
      "62/62 [==============================] - 1141s 19s/step - loss: 0.1487 - accuracy: 0.9390 - val_loss: 0.2538 - val_accuracy: 0.9037\n",
      "Epoch 7/15\n",
      "62/62 [==============================] - 1143s 19s/step - loss: 0.1009 - accuracy: 0.9614 - val_loss: 0.2121 - val_accuracy: 0.9194\n",
      "Epoch 8/15\n",
      "62/62 [==============================] - 1147s 19s/step - loss: 0.0914 - accuracy: 0.9624 - val_loss: 0.2309 - val_accuracy: 0.9189\n",
      "Epoch 9/15\n",
      "62/62 [==============================] - 1145s 19s/step - loss: 0.0697 - accuracy: 0.9726 - val_loss: 0.2141 - val_accuracy: 0.9209\n",
      "Epoch 10/15\n",
      "62/62 [==============================] - 1133s 18s/step - loss: 0.0574 - accuracy: 0.9807 - val_loss: 0.2457 - val_accuracy: 0.9153\n",
      "Epoch 11/15\n",
      "62/62 [==============================] - 1152s 19s/step - loss: 0.0457 - accuracy: 0.9832 - val_loss: 0.2414 - val_accuracy: 0.9163\n",
      "Epoch 12/15\n",
      "62/62 [==============================] - 1134s 18s/step - loss: 0.0414 - accuracy: 0.9868 - val_loss: 0.2470 - val_accuracy: 0.9173\n",
      "Epoch 13/15\n",
      "62/62 [==============================] - 1132s 18s/step - loss: 0.0422 - accuracy: 0.9858 - val_loss: 0.2297 - val_accuracy: 0.9229\n",
      "Epoch 14/15\n",
      "62/62 [==============================] - 1138s 18s/step - loss: 0.0224 - accuracy: 0.9975 - val_loss: 0.2438 - val_accuracy: 0.9178\n",
      "Epoch 15/15\n",
      "62/62 [==============================] - 1131s 18s/step - loss: 0.0300 - accuracy: 0.9909 - val_loss: 0.2541 - val_accuracy: 0.9189\n"
     ]
    },
    {
     "data": {
      "text/plain": [
       "<keras.callbacks.History at 0x1cacae54d50>"
      ]
     },
     "execution_count": 34,
     "metadata": {},
     "output_type": "execute_result"
    }
   ],
   "source": [
    "from keras.preprocessing.image import ImageDataGenerator\n",
    "train_datagen = ImageDataGenerator(\n",
    "        rescale=1./255,\n",
    "        shear_range=0.2,\n",
    "        zoom_range=0.2,\n",
    "        horizontal_flip=True)\n",
    "\n",
    "test_datagen = ImageDataGenerator(rescale=1./255)\n",
    "\n",
    "training_dataset = train_datagen.flow_from_directory('../Datasets/cats_dogs/training_set',\n",
    "                                                    target_size=(h, w),\n",
    "                                                    batch_size=32,\n",
    "                                                    class_mode='binary')\n",
    "\n",
    "testing_dataset = test_datagen.flow_from_directory('../Datasets/cats_dogs/test_set',\n",
    "                                                target_size=(h, w),\n",
    "                                                batch_size=32,\n",
    "                                                class_mode='binary')\n",
    "\n",
    "# Entrenar el modelo\n",
    "model.fit(training_dataset, steps_per_epoch=62, epochs=15, validation_data=testing_dataset, validation_steps=62)"
   ]
  },
  {
   "cell_type": "code",
   "execution_count": 42,
   "metadata": {},
   "outputs": [
    {
     "name": "stdout",
     "output_type": "stream",
     "text": [
      "1/1 [==============================] - 0s 444ms/step\n",
      "La imagen cat.4001.jpg es un/a Gato\n",
      "1/1 [==============================] - 1s 600ms/step\n",
      "La imagen cat.4002.jpg es un/a Perro\n",
      "1/1 [==============================] - 0s 391ms/step\n",
      "La imagen cat.4003.jpg es un/a Gato\n",
      "1/1 [==============================] - 0s 409ms/step\n",
      "La imagen cat.4004.jpg es un/a Gato\n",
      "1/1 [==============================] - 1s 549ms/step\n",
      "La imagen cat.4005.jpg es un/a Gato\n",
      "1/1 [==============================] - 0s 452ms/step\n",
      "La imagen cat.4006.jpg es un/a Gato\n",
      "1/1 [==============================] - 0s 365ms/step\n",
      "La imagen cat.4007.jpg es un/a Gato\n",
      "1/1 [==============================] - 0s 373ms/step\n",
      "La imagen cat.4008.jpg es un/a Perro\n",
      "1/1 [==============================] - 0s 355ms/step\n",
      "La imagen cat.4009.jpg es un/a Perro\n",
      "1/1 [==============================] - 0s 356ms/step\n",
      "La imagen cat.4010.jpg es un/a Perro\n",
      "1/1 [==============================] - 0s 370ms/step\n",
      "La imagen Hadelin_Dog.jpg es un/a Perro\n"
     ]
    }
   ],
   "source": [
    "import numpy as np\n",
    "import os\n",
    "from tensorflow.keras.preprocessing import image\n",
    "\n",
    "directory = '../Datasets/cats_dogs/test_image'\n",
    "\n",
    "# Iterar sobre los archivos en el directorio\n",
    "for filename in os.listdir(directory):\n",
    "    # Combinar el directorio y el nombre del archivo\n",
    "    filepath = os.path.join(directory, filename)\n",
    "    \n",
    "    # Cargar la imagen y ajustar su tamaño\n",
    "    test_image = image.load_img(filepath, target_size=(h, w))\n",
    "    test_image = image.img_to_array(test_image)\n",
    "    test_image = np.expand_dims(test_image, axis=0)\n",
    "    \n",
    "    # Realizar la predicción\n",
    "    result = model.predict(test_image)\n",
    "    \n",
    "    # Imprimir el resultado\n",
    "    if result[0][0] == 1:\n",
    "        prediction = 'Perro'\n",
    "    elif result[0][0] == 0:\n",
    "        prediction = 'Gato'\n",
    "    \n",
    "    print(f'La imagen {filename} es un/a {prediction}')"
   ]
  },
  {
   "cell_type": "code",
   "execution_count": 45,
   "metadata": {},
   "outputs": [],
   "source": [
    "from tensorflow.keras.models import load_model\n",
    "model.save('./models/vvg16_dog_cat.h5')"
   ]
  },
  {
   "cell_type": "code",
   "execution_count": 46,
   "metadata": {},
   "outputs": [],
   "source": [
    "model = load_model('./models/vvg16_dog_cat.h5')"
   ]
  }
 ],
 "metadata": {
  "kernelspec": {
   "display_name": "Python 3",
   "language": "python",
   "name": "python3"
  },
  "language_info": {
   "codemirror_mode": {
    "name": "ipython",
    "version": 3
   },
   "file_extension": ".py",
   "mimetype": "text/x-python",
   "name": "python",
   "nbconvert_exporter": "python",
   "pygments_lexer": "ipython3",
   "version": "3.11.4"
  }
 },
 "nbformat": 4,
 "nbformat_minor": 2
}
