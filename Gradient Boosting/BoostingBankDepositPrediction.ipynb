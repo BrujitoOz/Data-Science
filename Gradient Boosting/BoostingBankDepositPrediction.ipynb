{
 "cells": [
  {
   "cell_type": "markdown",
   "metadata": {},
   "source": [
    "# Boosting"
   ]
  },
  {
   "cell_type": "code",
   "execution_count": 1,
   "metadata": {},
   "outputs": [],
   "source": [
    "import pandas as pd\n",
    "import matplotlib.pyplot as plt\n",
    "import seaborn as sns\n",
    "import numpy as np\n",
    "from sklearn.ensemble import  GradientBoostingClassifier\n",
    "from sklearn.metrics import classification_report, confusion_matrix, ConfusionMatrixDisplay, roc_curve, auc\n",
    "from sklearn.preprocessing import StandardScaler, LabelEncoder\n",
    "from sklearn.model_selection import train_test_split, cross_val_score, GridSearchCV"
   ]
  },
  {
   "cell_type": "code",
   "execution_count": 2,
   "metadata": {},
   "outputs": [
    {
     "data": {
      "text/html": [
       "<div>\n",
       "<style scoped>\n",
       "    .dataframe tbody tr th:only-of-type {\n",
       "        vertical-align: middle;\n",
       "    }\n",
       "\n",
       "    .dataframe tbody tr th {\n",
       "        vertical-align: top;\n",
       "    }\n",
       "\n",
       "    .dataframe thead th {\n",
       "        text-align: right;\n",
       "    }\n",
       "</style>\n",
       "<table border=\"1\" class=\"dataframe\">\n",
       "  <thead>\n",
       "    <tr style=\"text-align: right;\">\n",
       "      <th></th>\n",
       "      <th>idcliente</th>\n",
       "      <th>duration</th>\n",
       "      <th>previous</th>\n",
       "      <th>housing</th>\n",
       "      <th>campaign</th>\n",
       "      <th>loan</th>\n",
       "      <th>default</th>\n",
       "      <th>target</th>\n",
       "      <th>muestra</th>\n",
       "    </tr>\n",
       "  </thead>\n",
       "  <tbody>\n",
       "    <tr>\n",
       "      <th>0</th>\n",
       "      <td>1</td>\n",
       "      <td>261</td>\n",
       "      <td>0</td>\n",
       "      <td>1</td>\n",
       "      <td>1</td>\n",
       "      <td>0</td>\n",
       "      <td>0</td>\n",
       "      <td>0</td>\n",
       "      <td>1</td>\n",
       "    </tr>\n",
       "    <tr>\n",
       "      <th>1</th>\n",
       "      <td>2</td>\n",
       "      <td>50</td>\n",
       "      <td>0</td>\n",
       "      <td>1</td>\n",
       "      <td>1</td>\n",
       "      <td>0</td>\n",
       "      <td>0</td>\n",
       "      <td>0</td>\n",
       "      <td>1</td>\n",
       "    </tr>\n",
       "    <tr>\n",
       "      <th>2</th>\n",
       "      <td>3</td>\n",
       "      <td>1492</td>\n",
       "      <td>0</td>\n",
       "      <td>1</td>\n",
       "      <td>1</td>\n",
       "      <td>0</td>\n",
       "      <td>0</td>\n",
       "      <td>0</td>\n",
       "      <td>1</td>\n",
       "    </tr>\n",
       "    <tr>\n",
       "      <th>3</th>\n",
       "      <td>4</td>\n",
       "      <td>104</td>\n",
       "      <td>0</td>\n",
       "      <td>1</td>\n",
       "      <td>1</td>\n",
       "      <td>0</td>\n",
       "      <td>0</td>\n",
       "      <td>0</td>\n",
       "      <td>1</td>\n",
       "    </tr>\n",
       "    <tr>\n",
       "      <th>4</th>\n",
       "      <td>5</td>\n",
       "      <td>13</td>\n",
       "      <td>0</td>\n",
       "      <td>1</td>\n",
       "      <td>1</td>\n",
       "      <td>0</td>\n",
       "      <td>0</td>\n",
       "      <td>0</td>\n",
       "      <td>1</td>\n",
       "    </tr>\n",
       "  </tbody>\n",
       "</table>\n",
       "</div>"
      ],
      "text/plain": [
       "   idcliente  duration  previous  housing  campaign  loan  default  target  \\\n",
       "0          1       261         0        1         1     0        0       0   \n",
       "1          2        50         0        1         1     0        0       0   \n",
       "2          3      1492         0        1         1     0        0       0   \n",
       "3          4       104         0        1         1     0        0       0   \n",
       "4          5        13         0        1         1     0        0       0   \n",
       "\n",
       "   muestra  \n",
       "0        1  \n",
       "1        1  \n",
       "2        1  \n",
       "3        1  \n",
       "4        1  "
      ]
     },
     "execution_count": 2,
     "metadata": {},
     "output_type": "execute_result"
    }
   ],
   "source": [
    "data = pd.read_csv('../Datasets/bank_deposit.csv')\n",
    "data.head(5)"
   ]
  },
  {
   "cell_type": "code",
   "execution_count": 3,
   "metadata": {},
   "outputs": [
    {
     "data": {
      "text/plain": [
       "idcliente    int64\n",
       "duration     int64\n",
       "previous     int64\n",
       "housing      int64\n",
       "campaign     int64\n",
       "loan         int64\n",
       "default      int64\n",
       "target       int64\n",
       "muestra      int64\n",
       "dtype: object"
      ]
     },
     "execution_count": 3,
     "metadata": {},
     "output_type": "execute_result"
    }
   ],
   "source": [
    "data.dtypes"
   ]
  },
  {
   "cell_type": "code",
   "execution_count": 4,
   "metadata": {},
   "outputs": [],
   "source": [
    "data['housing'] = data['housing'].astype(object)\n",
    "data['loan'] = data['loan'].astype(object)\n",
    "data['default'] = data['default'].astype(object)"
   ]
  },
  {
   "cell_type": "code",
   "execution_count": 6,
   "metadata": {
    "scrolled": true
   },
   "outputs": [],
   "source": [
    "data['c_housing'] = LabelEncoder().fit_transform(data.housing.values)\n",
    "data['c_loan'] = LabelEncoder().fit_transform(data.loan.values)\n",
    "data['c_default'] = LabelEncoder().fit_transform(data.default.values)"
   ]
  },
  {
   "cell_type": "code",
   "execution_count": 7,
   "metadata": {},
   "outputs": [
    {
     "data": {
      "text/html": [
       "<div>\n",
       "<style scoped>\n",
       "    .dataframe tbody tr th:only-of-type {\n",
       "        vertical-align: middle;\n",
       "    }\n",
       "\n",
       "    .dataframe tbody tr th {\n",
       "        vertical-align: top;\n",
       "    }\n",
       "\n",
       "    .dataframe thead th {\n",
       "        text-align: right;\n",
       "    }\n",
       "</style>\n",
       "<table border=\"1\" class=\"dataframe\">\n",
       "  <thead>\n",
       "    <tr style=\"text-align: right;\">\n",
       "      <th></th>\n",
       "      <th>idcliente</th>\n",
       "      <th>duration</th>\n",
       "      <th>previous</th>\n",
       "      <th>housing</th>\n",
       "      <th>campaign</th>\n",
       "      <th>loan</th>\n",
       "      <th>default</th>\n",
       "      <th>target</th>\n",
       "      <th>muestra</th>\n",
       "      <th>c_housing</th>\n",
       "      <th>c_loan</th>\n",
       "      <th>c_default</th>\n",
       "    </tr>\n",
       "  </thead>\n",
       "  <tbody>\n",
       "    <tr>\n",
       "      <th>0</th>\n",
       "      <td>1</td>\n",
       "      <td>261</td>\n",
       "      <td>0</td>\n",
       "      <td>1</td>\n",
       "      <td>1</td>\n",
       "      <td>0</td>\n",
       "      <td>0</td>\n",
       "      <td>0</td>\n",
       "      <td>1</td>\n",
       "      <td>1</td>\n",
       "      <td>0</td>\n",
       "      <td>0</td>\n",
       "    </tr>\n",
       "    <tr>\n",
       "      <th>1</th>\n",
       "      <td>2</td>\n",
       "      <td>50</td>\n",
       "      <td>0</td>\n",
       "      <td>1</td>\n",
       "      <td>1</td>\n",
       "      <td>0</td>\n",
       "      <td>0</td>\n",
       "      <td>0</td>\n",
       "      <td>1</td>\n",
       "      <td>1</td>\n",
       "      <td>0</td>\n",
       "      <td>0</td>\n",
       "    </tr>\n",
       "    <tr>\n",
       "      <th>2</th>\n",
       "      <td>3</td>\n",
       "      <td>1492</td>\n",
       "      <td>0</td>\n",
       "      <td>1</td>\n",
       "      <td>1</td>\n",
       "      <td>0</td>\n",
       "      <td>0</td>\n",
       "      <td>0</td>\n",
       "      <td>1</td>\n",
       "      <td>1</td>\n",
       "      <td>0</td>\n",
       "      <td>0</td>\n",
       "    </tr>\n",
       "    <tr>\n",
       "      <th>3</th>\n",
       "      <td>4</td>\n",
       "      <td>104</td>\n",
       "      <td>0</td>\n",
       "      <td>1</td>\n",
       "      <td>1</td>\n",
       "      <td>0</td>\n",
       "      <td>0</td>\n",
       "      <td>0</td>\n",
       "      <td>1</td>\n",
       "      <td>1</td>\n",
       "      <td>0</td>\n",
       "      <td>0</td>\n",
       "    </tr>\n",
       "    <tr>\n",
       "      <th>4</th>\n",
       "      <td>5</td>\n",
       "      <td>13</td>\n",
       "      <td>0</td>\n",
       "      <td>1</td>\n",
       "      <td>1</td>\n",
       "      <td>0</td>\n",
       "      <td>0</td>\n",
       "      <td>0</td>\n",
       "      <td>1</td>\n",
       "      <td>1</td>\n",
       "      <td>0</td>\n",
       "      <td>0</td>\n",
       "    </tr>\n",
       "  </tbody>\n",
       "</table>\n",
       "</div>"
      ],
      "text/plain": [
       "   idcliente  duration  previous housing  campaign loan default  target  \\\n",
       "0          1       261         0       1         1    0       0       0   \n",
       "1          2        50         0       1         1    0       0       0   \n",
       "2          3      1492         0       1         1    0       0       0   \n",
       "3          4       104         0       1         1    0       0       0   \n",
       "4          5        13         0       1         1    0       0       0   \n",
       "\n",
       "   muestra  c_housing  c_loan  c_default  \n",
       "0        1          1       0          0  \n",
       "1        1          1       0          0  \n",
       "2        1          1       0          0  \n",
       "3        1          1       0          0  \n",
       "4        1          1       0          0  "
      ]
     },
     "execution_count": 7,
     "metadata": {},
     "output_type": "execute_result"
    }
   ],
   "source": [
    "data.head(5)"
   ]
  },
  {
   "cell_type": "code",
   "execution_count": 8,
   "metadata": {
    "scrolled": true
   },
   "outputs": [
    {
     "data": {
      "image/png": "[encoded data removed]",
      "text/plain": [
       "<Figure size 640x480 with 2 Axes>"
      ]
     },
     "metadata": {},
     "output_type": "display_data"
    }
   ],
   "source": [
    "sns.heatmap(data.loc[:,['duration','previous','campaign']].corr(method = \"spearman\"))\n",
    "plt.show()"
   ]
  },
  {
   "cell_type": "markdown",
   "metadata": {},
   "source": [
    "Prueba de Correlación\n",
    "* Ho: no existe correlación entre las variables\n",
    "* Ha: existe correlación entre las variables"
   ]
  },
  {
   "cell_type": "code",
   "execution_count": 9,
   "metadata": {
    "scrolled": true
   },
   "outputs": [
    {
     "data": {
      "text/html": [
       "<div>\n",
       "<style scoped>\n",
       "    .dataframe tbody tr th:only-of-type {\n",
       "        vertical-align: middle;\n",
       "    }\n",
       "\n",
       "    .dataframe tbody tr th {\n",
       "        vertical-align: top;\n",
       "    }\n",
       "\n",
       "    .dataframe thead th {\n",
       "        text-align: right;\n",
       "    }\n",
       "</style>\n",
       "<table border=\"1\" class=\"dataframe\">\n",
       "  <thead>\n",
       "    <tr style=\"text-align: right;\">\n",
       "      <th></th>\n",
       "      <th>duration</th>\n",
       "      <th>previous</th>\n",
       "      <th>campaign</th>\n",
       "    </tr>\n",
       "  </thead>\n",
       "  <tbody>\n",
       "    <tr>\n",
       "      <th>duration</th>\n",
       "      <td>1.000000</td>\n",
       "      <td>0.007392</td>\n",
       "      <td>-0.045111</td>\n",
       "    </tr>\n",
       "    <tr>\n",
       "      <th>previous</th>\n",
       "      <td>0.007392</td>\n",
       "      <td>1.000000</td>\n",
       "      <td>-0.133380</td>\n",
       "    </tr>\n",
       "    <tr>\n",
       "      <th>campaign</th>\n",
       "      <td>-0.045111</td>\n",
       "      <td>-0.133380</td>\n",
       "      <td>1.000000</td>\n",
       "    </tr>\n",
       "  </tbody>\n",
       "</table>\n",
       "</div>"
      ],
      "text/plain": [
       "          duration  previous  campaign\n",
       "duration  1.000000  0.007392 -0.045111\n",
       "previous  0.007392  1.000000 -0.133380\n",
       "campaign -0.045111 -0.133380  1.000000"
      ]
     },
     "execution_count": 9,
     "metadata": {},
     "output_type": "execute_result"
    }
   ],
   "source": [
    "data.loc[:,['duration','previous','campaign']].corr(method = \"spearman\")"
   ]
  },
  {
   "cell_type": "code",
   "execution_count": 10,
   "metadata": {
    "scrolled": false
   },
   "outputs": [
    {
     "data": {
      "text/plain": [
       "target\n",
       "0    5289\n",
       "1    5289\n",
       "Name: count, dtype: int64"
      ]
     },
     "execution_count": 10,
     "metadata": {},
     "output_type": "execute_result"
    }
   ],
   "source": [
    "data.target.value_counts()"
   ]
  },
  {
   "cell_type": "code",
   "execution_count": 11,
   "metadata": {
    "scrolled": true
   },
   "outputs": [
    {
     "data": {
      "text/plain": [
       "target\n",
       "0    50.0\n",
       "1    50.0\n",
       "Name: proportion, dtype: float64"
      ]
     },
     "execution_count": 11,
     "metadata": {},
     "output_type": "execute_result"
    }
   ],
   "source": [
    "100*data['target'].value_counts(normalize=True)"
   ]
  },
  {
   "cell_type": "code",
   "execution_count": 12,
   "metadata": {
    "scrolled": true
   },
   "outputs": [
    {
     "data": {
      "image/png": "[encoded data removed]",
      "text/plain": [
       "<Figure size 640x480 with 1 Axes>"
      ]
     },
     "metadata": {},
     "output_type": "display_data"
    }
   ],
   "source": [
    "sns.countplot(data = data, x = 'target')\n",
    "plt.xlabel('target', fontsize = 15)\n",
    "plt.title('¿Cuántos usuarios han aceptado la campaña de depósito a plazo?', fontsize = 15)\n",
    "plt.show()"
   ]
  },
  {
   "cell_type": "code",
   "execution_count": 13,
   "metadata": {
    "scrolled": false
   },
   "outputs": [
    {
     "data": {
      "image/png": "[encoded data removed]",
      "text/plain": [
       "<Figure size 640x480 with 1 Axes>"
      ]
     },
     "metadata": {},
     "output_type": "display_data"
    }
   ],
   "source": [
    "sns.boxplot(x='target',y='duration',data=data)\n",
    "plt.show()"
   ]
  },
  {
   "cell_type": "code",
   "execution_count": 14,
   "metadata": {
    "scrolled": true
   },
   "outputs": [
    {
     "data": {
      "image/png": "[encoded data removed]",
      "text/plain": [
       "<Figure size 640x480 with 1 Axes>"
      ]
     },
     "metadata": {},
     "output_type": "display_data"
    }
   ],
   "source": [
    "sns.boxplot(x='target',y='previous',data=data)\n",
    "plt.show()"
   ]
  },
  {
   "cell_type": "code",
   "execution_count": 15,
   "metadata": {
    "scrolled": false
   },
   "outputs": [
    {
     "data": {
      "image/png": "[encoded data removed]",
      "text/plain": [
       "<Figure size 640x480 with 1 Axes>"
      ]
     },
     "metadata": {},
     "output_type": "display_data"
    }
   ],
   "source": [
    "sns.boxplot(x='target',y='campaign',data=data)\n",
    "plt.show()"
   ]
  },
  {
   "cell_type": "code",
   "execution_count": 16,
   "metadata": {
    "scrolled": true
   },
   "outputs": [
    {
     "name": "stdout",
     "output_type": "stream",
     "text": [
      "housing     0     1\n",
      "target             \n",
      "0        2176  3113\n",
      "1        3354  1935\n"
     ]
    },
    {
     "data": {
      "image/png": "[encoded data removed]",
      "text/plain": [
       "<Figure size 400x400 with 1 Axes>"
      ]
     },
     "metadata": {},
     "output_type": "display_data"
    }
   ],
   "source": [
    "print(pd.crosstab(data[\"target\"],data[\"housing\"]))\n",
    "t = pd.crosstab(data[\"target\"],data[\"housing\"])\n",
    "t.div(t.sum(1).astype(float),axis=0).plot(kind=\"bar\",stacked=True,figsize=(4,4))\n",
    "plt.xlabel(\"target\")\n",
    "plt.ylabel(\"Percentage\")\n",
    "plt.show()"
   ]
  },
  {
   "cell_type": "code",
   "execution_count": 17,
   "metadata": {
    "scrolled": true
   },
   "outputs": [
    {
     "name": "stdout",
     "output_type": "stream",
     "text": [
      "loan       0    1\n",
      "target           \n",
      "0       4359  930\n",
      "1       4805  484\n"
     ]
    },
    {
     "data": {
      "image/png": "[encoded data removed]",
      "text/plain": [
       "<Figure size 400x400 with 1 Axes>"
      ]
     },
     "metadata": {},
     "output_type": "display_data"
    }
   ],
   "source": [
    "print(pd.crosstab(data[\"target\"],data[\"loan\"]))\n",
    "t = pd.crosstab(data[\"target\"],data[\"loan\"])\n",
    "t.div(t.sum(1).astype(float),axis=0).plot(kind=\"bar\",stacked=True,figsize=(4,4))\n",
    "plt.xlabel(\"target\")\n",
    "plt.ylabel(\"Percentage\")\n",
    "plt.show()"
   ]
  },
  {
   "cell_type": "code",
   "execution_count": 18,
   "metadata": {},
   "outputs": [
    {
     "name": "stdout",
     "output_type": "stream",
     "text": [
      "default     0   1\n",
      "target           \n",
      "0        5202  87\n",
      "1        5237  52\n"
     ]
    },
    {
     "data": {
      "image/png": "[encoded data removed]",
      "text/plain": [
       "<Figure size 400x400 with 1 Axes>"
      ]
     },
     "metadata": {},
     "output_type": "display_data"
    }
   ],
   "source": [
    "print(pd.crosstab(data[\"target\"],data[\"default\"]))\n",
    "t = pd.crosstab(data[\"target\"],data[\"default\"])\n",
    "t.div(t.sum(1).astype(float),axis=0).plot(kind=\"bar\",stacked=True,figsize=(4,4))\n",
    "plt.xlabel(\"target\")\n",
    "plt.ylabel(\"Percentage\")\n",
    "plt.show()"
   ]
  },
  {
   "cell_type": "code",
   "execution_count": 19,
   "metadata": {},
   "outputs": [],
   "source": [
    "X = data[['c_housing','c_loan','c_default','duration','previous','campaign']]\n",
    "y = data['target']"
   ]
  },
  {
   "cell_type": "code",
   "execution_count": 20,
   "metadata": {},
   "outputs": [
    {
     "data": {
      "text/plain": [
       "array([[   1,    0,    0,  261,    0,    1],\n",
       "       [   1,    0,    0,   50,    0,    1],\n",
       "       [   1,    0,    0, 1492,    0,    1],\n",
       "       [   1,    0,    0,  104,    0,    1],\n",
       "       [   1,    0,    0,   13,    0,    1]], dtype=int64)"
      ]
     },
     "execution_count": 20,
     "metadata": {},
     "output_type": "execute_result"
    }
   ],
   "source": [
    "X = X.to_numpy()\n",
    "X[0:5]"
   ]
  },
  {
   "cell_type": "code",
   "execution_count": 21,
   "metadata": {},
   "outputs": [
    {
     "data": {
      "text/plain": [
       "array([0, 0, 0, 0, 0], dtype=int64)"
      ]
     },
     "execution_count": 21,
     "metadata": {},
     "output_type": "execute_result"
    }
   ],
   "source": [
    "y = y.to_numpy()\n",
    "y[0:5]"
   ]
  },
  {
   "cell_type": "code",
   "execution_count": 22,
   "metadata": {},
   "outputs": [],
   "source": [
    "X_train, X_test, y_train, y_test = train_test_split(X, y, test_size = 0.20, random_state = 0)"
   ]
  },
  {
   "cell_type": "code",
   "execution_count": 23,
   "metadata": {},
   "outputs": [],
   "source": [
    "transformer = StandardScaler()\n",
    "X_train = transformer.fit_transform(X_train)\n",
    "X_test = transformer.transform(X_test)"
   ]
  },
  {
   "cell_type": "code",
   "execution_count": 24,
   "metadata": {},
   "outputs": [
    {
     "data": {
      "text/plain": [
       "array([0.79444773, 0.80921441, 0.79787234, 0.81205674, 0.78132388])"
      ]
     },
     "execution_count": 24,
     "metadata": {},
     "output_type": "execute_result"
    }
   ],
   "source": [
    "cv_scores = cross_val_score(GradientBoostingClassifier(),X_train,y_train,cv=5)\n",
    "cv_scores"
   ]
  },
  {
   "cell_type": "code",
   "execution_count": 25,
   "metadata": {},
   "outputs": [
    {
     "name": "stdout",
     "output_type": "stream",
     "text": [
      "cv_scores mean:0.7989830186597853\n",
      "cv_scores std:0.011038580616948433\n"
     ]
    }
   ],
   "source": [
    "print(\"cv_scores mean:{}\".format(np.mean(cv_scores)))\n",
    "print(\"cv_scores std:{}\".format(np.std(cv_scores)))"
   ]
  },
  {
   "cell_type": "markdown",
   "metadata": {},
   "source": [
    "Tuning\n",
    "* n_estimators: Número de árboles\n",
    "* max_features: Cantidad de variables a considerar al buscar el mejor split\n",
    "* max_depth: Profundidad del árbol"
   ]
  },
  {
   "cell_type": "code",
   "execution_count": 26,
   "metadata": {},
   "outputs": [
    {
     "name": "stdout",
     "output_type": "stream",
     "text": [
      "Fitting 5 folds for each of 54 candidates, totalling 270 fits\n"
     ]
    },
    {
     "name": "stdout",
     "output_type": "stream",
     "text": [
      "[CV] END ....max_depth=2, max_features=1.0, n_estimators=200; total time=   4.5s\n",
      "[CV] END ....max_depth=2, max_features=1.0, n_estimators=200; total time=   3.0s\n",
      "[CV] END ....max_depth=2, max_features=1.0, n_estimators=200; total time=   3.7s\n",
      "[CV] END ....max_depth=2, max_features=1.0, n_estimators=200; total time=   3.4s\n",
      "[CV] END ....max_depth=2, max_features=1.0, n_estimators=200; total time=   4.8s\n",
      "[CV] END ....max_depth=2, max_features=1.0, n_estimators=700; total time=  13.8s\n",
      "[CV] END ....max_depth=2, max_features=1.0, n_estimators=700; total time=  14.7s\n",
      "[CV] END ....max_depth=2, max_features=1.0, n_estimators=700; total time=  16.1s\n",
      "[CV] END ....max_depth=2, max_features=1.0, n_estimators=700; total time=  18.0s\n",
      "[CV] END ....max_depth=2, max_features=1.0, n_estimators=700; total time=  16.6s\n",
      "[CV] END ...max_depth=2, max_features=sqrt, n_estimators=200; total time=   3.3s\n",
      "[CV] END ...max_depth=2, max_features=sqrt, n_estimators=200; total time=   4.0s\n",
      "[CV] END ...max_depth=2, max_features=sqrt, n_estimators=200; total time=   4.2s\n",
      "[CV] END ...max_depth=2, max_features=sqrt, n_estimators=200; total time=   3.0s\n",
      "[CV] END ...max_depth=2, max_features=sqrt, n_estimators=200; total time=   2.8s\n",
      "[CV] END ...max_depth=2, max_features=sqrt, n_estimators=700; total time=  12.4s\n",
      "[CV] END ...max_depth=2, max_features=sqrt, n_estimators=700; total time=  10.0s\n",
      "[CV] END ...max_depth=2, max_features=sqrt, n_estimators=700; total time=  11.5s\n",
      "[CV] END ...max_depth=2, max_features=sqrt, n_estimators=700; total time=  12.3s\n",
      "[CV] END ...max_depth=2, max_features=sqrt, n_estimators=700; total time=  13.0s\n",
      "[CV] END ...max_depth=2, max_features=log2, n_estimators=200; total time=   3.9s\n",
      "[CV] END ...max_depth=2, max_features=log2, n_estimators=200; total time=   3.5s\n",
      "[CV] END ...max_depth=2, max_features=log2, n_estimators=200; total time=   3.6s\n",
      "[CV] END ...max_depth=2, max_features=log2, n_estimators=200; total time=   4.4s\n",
      "[CV] END ...max_depth=2, max_features=log2, n_estimators=200; total time=   3.6s\n",
      "[CV] END ...max_depth=2, max_features=log2, n_estimators=700; total time=   8.3s\n",
      "[CV] END ...max_depth=2, max_features=log2, n_estimators=700; total time=  10.6s\n",
      "[CV] END ...max_depth=2, max_features=log2, n_estimators=700; total time=  10.4s\n",
      "[CV] END ...max_depth=2, max_features=log2, n_estimators=700; total time=   7.2s\n",
      "[CV] END ...max_depth=2, max_features=log2, n_estimators=700; total time=   6.7s\n",
      "[CV] END ....max_depth=3, max_features=1.0, n_estimators=200; total time=   4.6s\n",
      "[CV] END ....max_depth=3, max_features=1.0, n_estimators=200; total time=   5.1s\n",
      "[CV] END ....max_depth=3, max_features=1.0, n_estimators=200; total time=   3.6s\n",
      "[CV] END ....max_depth=3, max_features=1.0, n_estimators=200; total time=   4.4s\n",
      "[CV] END ....max_depth=3, max_features=1.0, n_estimators=200; total time=   5.4s\n",
      "[CV] END ....max_depth=3, max_features=1.0, n_estimators=700; total time=  17.1s\n",
      "[CV] END ....max_depth=3, max_features=1.0, n_estimators=700; total time=  16.4s\n",
      "[CV] END ....max_depth=3, max_features=1.0, n_estimators=700; total time=  17.9s\n",
      "[CV] END ....max_depth=3, max_features=1.0, n_estimators=700; total time=  18.8s\n",
      "[CV] END ....max_depth=3, max_features=1.0, n_estimators=700; total time=  14.9s\n",
      "[CV] END ...max_depth=3, max_features=sqrt, n_estimators=200; total time=   2.6s\n",
      "[CV] END ...max_depth=3, max_features=sqrt, n_estimators=200; total time=   2.6s\n",
      "[CV] END ...max_depth=3, max_features=sqrt, n_estimators=200; total time=   2.2s\n",
      "[CV] END ...max_depth=3, max_features=sqrt, n_estimators=200; total time=   4.8s\n",
      "[CV] END ...max_depth=3, max_features=sqrt, n_estimators=200; total time=   3.3s\n",
      "[CV] END ...max_depth=3, max_features=sqrt, n_estimators=700; total time=   9.9s\n",
      "[CV] END ...max_depth=3, max_features=sqrt, n_estimators=700; total time=  13.0s\n",
      "[CV] END ...max_depth=3, max_features=sqrt, n_estimators=700; total time=  10.6s\n",
      "[CV] END ...max_depth=3, max_features=sqrt, n_estimators=700; total time=  10.1s\n",
      "[CV] END ...max_depth=3, max_features=sqrt, n_estimators=700; total time=   9.3s\n",
      "[CV] END ...max_depth=3, max_features=log2, n_estimators=200; total time=   2.8s\n",
      "[CV] END ...max_depth=3, max_features=log2, n_estimators=200; total time=   2.9s\n",
      "[CV] END ...max_depth=3, max_features=log2, n_estimators=200; total time=   3.1s\n",
      "[CV] END ...max_depth=3, max_features=log2, n_estimators=200; total time=   2.3s\n",
      "[CV] END ...max_depth=3, max_features=log2, n_estimators=200; total time=   3.7s\n",
      "[CV] END ...max_depth=3, max_features=log2, n_estimators=700; total time=  11.1s\n",
      "[CV] END ...max_depth=3, max_features=log2, n_estimators=700; total time=  12.5s\n",
      "[CV] END ...max_depth=3, max_features=log2, n_estimators=700; total time=   9.6s\n",
      "[CV] END ...max_depth=3, max_features=log2, n_estimators=700; total time=  11.0s\n",
      "[CV] END ...max_depth=3, max_features=log2, n_estimators=700; total time=  10.5s\n",
      "[CV] END ....max_depth=4, max_features=1.0, n_estimators=200; total time=   8.6s\n",
      "[CV] END ....max_depth=4, max_features=1.0, n_estimators=200; total time=   9.3s\n",
      "[CV] END ....max_depth=4, max_features=1.0, n_estimators=200; total time=   7.0s\n",
      "[CV] END ....max_depth=4, max_features=1.0, n_estimators=200; total time=   5.6s\n",
      "[CV] END ....max_depth=4, max_features=1.0, n_estimators=200; total time=   6.7s\n",
      "[CV] END ....max_depth=4, max_features=1.0, n_estimators=700; total time=  31.1s\n",
      "[CV] END ....max_depth=4, max_features=1.0, n_estimators=700; total time=  25.5s\n",
      "[CV] END ....max_depth=4, max_features=1.0, n_estimators=700; total time=  27.6s\n",
      "[CV] END ....max_depth=4, max_features=1.0, n_estimators=700; total time=  21.6s\n",
      "[CV] END ....max_depth=4, max_features=1.0, n_estimators=700; total time=  24.6s\n",
      "[CV] END ...max_depth=4, max_features=sqrt, n_estimators=200; total time=   5.8s\n",
      "[CV] END ...max_depth=4, max_features=sqrt, n_estimators=200; total time=   4.5s\n",
      "[CV] END ...max_depth=4, max_features=sqrt, n_estimators=200; total time=   5.5s\n",
      "[CV] END ...max_depth=4, max_features=sqrt, n_estimators=200; total time=   3.1s\n",
      "[CV] END ...max_depth=4, max_features=sqrt, n_estimators=200; total time=   3.8s\n",
      "[CV] END ...max_depth=4, max_features=sqrt, n_estimators=700; total time=  19.1s\n",
      "[CV] END ...max_depth=4, max_features=sqrt, n_estimators=700; total time=  14.5s\n",
      "[CV] END ...max_depth=4, max_features=sqrt, n_estimators=700; total time=  14.3s\n",
      "[CV] END ...max_depth=4, max_features=sqrt, n_estimators=700; total time=  11.4s\n",
      "[CV] END ...max_depth=4, max_features=sqrt, n_estimators=700; total time=  10.3s\n",
      "[CV] END ...max_depth=4, max_features=log2, n_estimators=200; total time=   3.6s\n",
      "[CV] END ...max_depth=4, max_features=log2, n_estimators=200; total time=   3.8s\n",
      "[CV] END ...max_depth=4, max_features=log2, n_estimators=200; total time=   2.5s\n",
      "[CV] END ...max_depth=4, max_features=log2, n_estimators=200; total time=   3.4s\n",
      "[CV] END ...max_depth=4, max_features=log2, n_estimators=200; total time=   3.3s\n",
      "[CV] END ...max_depth=4, max_features=log2, n_estimators=700; total time=  11.7s\n",
      "[CV] END ...max_depth=4, max_features=log2, n_estimators=700; total time=  10.6s\n",
      "[CV] END ...max_depth=4, max_features=log2, n_estimators=700; total time=   9.3s\n",
      "[CV] END ...max_depth=4, max_features=log2, n_estimators=700; total time=  10.9s\n",
      "[CV] END ...max_depth=4, max_features=log2, n_estimators=700; total time=   9.1s\n",
      "[CV] END ....max_depth=5, max_features=1.0, n_estimators=200; total time=   5.6s\n",
      "[CV] END ....max_depth=5, max_features=1.0, n_estimators=200; total time=   5.7s\n",
      "[CV] END ....max_depth=5, max_features=1.0, n_estimators=200; total time=   7.1s\n",
      "[CV] END ....max_depth=5, max_features=1.0, n_estimators=200; total time=   5.8s\n",
      "[CV] END ....max_depth=5, max_features=1.0, n_estimators=200; total time=   5.9s\n",
      "[CV] END ....max_depth=5, max_features=1.0, n_estimators=700; total time=  20.6s\n",
      "[CV] END ....max_depth=5, max_features=1.0, n_estimators=700; total time=  24.2s\n",
      "[CV] END ....max_depth=5, max_features=1.0, n_estimators=700; total time=  22.2s\n",
      "[CV] END ....max_depth=5, max_features=1.0, n_estimators=700; total time=  21.9s\n",
      "[CV] END ....max_depth=5, max_features=1.0, n_estimators=700; total time=  24.1s\n",
      "[CV] END ...max_depth=5, max_features=sqrt, n_estimators=200; total time=   3.7s\n",
      "[CV] END ...max_depth=5, max_features=sqrt, n_estimators=200; total time=   4.0s\n",
      "[CV] END ...max_depth=5, max_features=sqrt, n_estimators=200; total time=   4.9s\n",
      "[CV] END ...max_depth=5, max_features=sqrt, n_estimators=200; total time=   4.0s\n",
      "[CV] END ...max_depth=5, max_features=sqrt, n_estimators=200; total time=   4.6s\n",
      "[CV] END ...max_depth=5, max_features=sqrt, n_estimators=700; total time=  16.5s\n",
      "[CV] END ...max_depth=5, max_features=sqrt, n_estimators=700; total time=  13.7s\n",
      "[CV] END ...max_depth=5, max_features=sqrt, n_estimators=700; total time=  15.2s\n",
      "[CV] END ...max_depth=5, max_features=sqrt, n_estimators=700; total time=  14.8s\n",
      "[CV] END ...max_depth=5, max_features=sqrt, n_estimators=700; total time=  14.8s\n",
      "[CV] END ...max_depth=5, max_features=log2, n_estimators=200; total time=   4.0s\n",
      "[CV] END ...max_depth=5, max_features=log2, n_estimators=200; total time=   3.7s\n",
      "[CV] END ...max_depth=5, max_features=log2, n_estimators=200; total time=   4.1s\n",
      "[CV] END ...max_depth=5, max_features=log2, n_estimators=200; total time=   3.7s\n",
      "[CV] END ...max_depth=5, max_features=log2, n_estimators=200; total time=   3.0s\n",
      "[CV] END ...max_depth=5, max_features=log2, n_estimators=700; total time=  13.3s\n",
      "[CV] END ...max_depth=5, max_features=log2, n_estimators=700; total time=  12.6s\n",
      "[CV] END ...max_depth=5, max_features=log2, n_estimators=700; total time=  12.6s\n",
      "[CV] END ...max_depth=5, max_features=log2, n_estimators=700; total time=  14.4s\n",
      "[CV] END ...max_depth=5, max_features=log2, n_estimators=700; total time=  11.9s\n",
      "[CV] END ....max_depth=6, max_features=1.0, n_estimators=200; total time=   8.5s\n",
      "[CV] END ....max_depth=6, max_features=1.0, n_estimators=200; total time=   8.0s\n",
      "[CV] END ....max_depth=6, max_features=1.0, n_estimators=200; total time=   7.3s\n",
      "[CV] END ....max_depth=6, max_features=1.0, n_estimators=200; total time=   6.8s\n",
      "[CV] END ....max_depth=6, max_features=1.0, n_estimators=200; total time=   8.0s\n",
      "[CV] END ....max_depth=6, max_features=1.0, n_estimators=700; total time=  23.9s\n",
      "[CV] END ....max_depth=6, max_features=1.0, n_estimators=700; total time=  27.3s\n",
      "[CV] END ....max_depth=6, max_features=1.0, n_estimators=700; total time=  26.6s\n",
      "[CV] END ....max_depth=6, max_features=1.0, n_estimators=700; total time=  25.4s\n",
      "[CV] END ....max_depth=6, max_features=1.0, n_estimators=700; total time=  25.2s\n",
      "[CV] END ...max_depth=6, max_features=sqrt, n_estimators=200; total time=   5.4s\n",
      "[CV] END ...max_depth=6, max_features=sqrt, n_estimators=200; total time=   5.7s\n",
      "[CV] END ...max_depth=6, max_features=sqrt, n_estimators=200; total time=   4.8s\n",
      "[CV] END ...max_depth=6, max_features=sqrt, n_estimators=200; total time=   5.2s\n",
      "[CV] END ...max_depth=6, max_features=sqrt, n_estimators=200; total time=   5.0s\n",
      "[CV] END ...max_depth=6, max_features=sqrt, n_estimators=700; total time=  18.7s\n",
      "[CV] END ...max_depth=6, max_features=sqrt, n_estimators=700; total time=  17.0s\n",
      "[CV] END ...max_depth=6, max_features=sqrt, n_estimators=700; total time=  16.1s\n",
      "[CV] END ...max_depth=6, max_features=sqrt, n_estimators=700; total time=  15.2s\n",
      "[CV] END ...max_depth=6, max_features=sqrt, n_estimators=700; total time=  15.3s\n",
      "[CV] END ...max_depth=6, max_features=log2, n_estimators=200; total time=   4.1s\n",
      "[CV] END ...max_depth=6, max_features=log2, n_estimators=200; total time=   4.6s\n",
      "[CV] END ...max_depth=6, max_features=log2, n_estimators=200; total time=   4.2s\n",
      "[CV] END ...max_depth=6, max_features=log2, n_estimators=200; total time=   4.1s\n",
      "[CV] END ...max_depth=6, max_features=log2, n_estimators=200; total time=   4.2s\n",
      "[CV] END ...max_depth=6, max_features=log2, n_estimators=700; total time=  14.9s\n",
      "[CV] END ...max_depth=6, max_features=log2, n_estimators=700; total time=  14.5s\n",
      "[CV] END ...max_depth=6, max_features=log2, n_estimators=700; total time=  15.1s\n",
      "[CV] END ...max_depth=6, max_features=log2, n_estimators=700; total time=  14.4s\n",
      "[CV] END ...max_depth=6, max_features=log2, n_estimators=700; total time=  14.5s\n",
      "[CV] END ....max_depth=7, max_features=1.0, n_estimators=200; total time=   7.8s\n",
      "[CV] END ....max_depth=7, max_features=1.0, n_estimators=200; total time=   8.0s\n",
      "[CV] END ....max_depth=7, max_features=1.0, n_estimators=200; total time=   7.7s\n",
      "[CV] END ....max_depth=7, max_features=1.0, n_estimators=200; total time=   7.8s\n",
      "[CV] END ....max_depth=7, max_features=1.0, n_estimators=200; total time=   8.0s\n",
      "[CV] END ....max_depth=7, max_features=1.0, n_estimators=700; total time=  27.1s\n",
      "[CV] END ....max_depth=7, max_features=1.0, n_estimators=700; total time=  27.1s\n",
      "[CV] END ....max_depth=7, max_features=1.0, n_estimators=700; total time=  26.9s\n",
      "[CV] END ....max_depth=7, max_features=1.0, n_estimators=700; total time=  27.3s\n",
      "[CV] END ....max_depth=7, max_features=1.0, n_estimators=700; total time=  27.4s\n",
      "[CV] END ...max_depth=7, max_features=sqrt, n_estimators=200; total time=   5.7s\n",
      "[CV] END ...max_depth=7, max_features=sqrt, n_estimators=200; total time=   5.5s\n",
      "[CV] END ...max_depth=7, max_features=sqrt, n_estimators=200; total time=   5.4s\n",
      "[CV] END ...max_depth=7, max_features=sqrt, n_estimators=200; total time=   5.4s\n",
      "[CV] END ...max_depth=7, max_features=sqrt, n_estimators=200; total time=   5.6s\n",
      "[CV] END ...max_depth=7, max_features=sqrt, n_estimators=700; total time=  20.0s\n",
      "[CV] END ...max_depth=7, max_features=sqrt, n_estimators=700; total time=  19.8s\n",
      "[CV] END ...max_depth=7, max_features=sqrt, n_estimators=700; total time=  19.7s\n",
      "[CV] END ...max_depth=7, max_features=sqrt, n_estimators=700; total time=  19.9s\n",
      "[CV] END ...max_depth=7, max_features=sqrt, n_estimators=700; total time=  20.4s\n",
      "[CV] END ...max_depth=7, max_features=log2, n_estimators=200; total time=   5.4s\n",
      "[CV] END ...max_depth=7, max_features=log2, n_estimators=200; total time=   5.3s\n",
      "[CV] END ...max_depth=7, max_features=log2, n_estimators=200; total time=   5.6s\n",
      "[CV] END ...max_depth=7, max_features=log2, n_estimators=200; total time=   5.6s\n",
      "[CV] END ...max_depth=7, max_features=log2, n_estimators=200; total time=   5.5s\n",
      "[CV] END ...max_depth=7, max_features=log2, n_estimators=700; total time=  19.7s\n",
      "[CV] END ...max_depth=7, max_features=log2, n_estimators=700; total time=  20.1s\n",
      "[CV] END ...max_depth=7, max_features=log2, n_estimators=700; total time=  20.6s\n",
      "[CV] END ...max_depth=7, max_features=log2, n_estimators=700; total time=  21.4s\n",
      "[CV] END ...max_depth=7, max_features=log2, n_estimators=700; total time=  19.8s\n",
      "[CV] END ....max_depth=8, max_features=1.0, n_estimators=200; total time=   9.8s\n",
      "[CV] END ....max_depth=8, max_features=1.0, n_estimators=200; total time=   9.6s\n",
      "[CV] END ....max_depth=8, max_features=1.0, n_estimators=200; total time=   9.9s\n",
      "[CV] END ....max_depth=8, max_features=1.0, n_estimators=200; total time=   9.9s\n",
      "[CV] END ....max_depth=8, max_features=1.0, n_estimators=200; total time=   9.9s\n",
      "[CV] END ....max_depth=8, max_features=1.0, n_estimators=700; total time=  33.6s\n",
      "[CV] END ....max_depth=8, max_features=1.0, n_estimators=700; total time=  33.6s\n",
      "[CV] END ....max_depth=8, max_features=1.0, n_estimators=700; total time=  34.0s\n",
      "[CV] END ....max_depth=8, max_features=1.0, n_estimators=700; total time=  33.7s\n",
      "[CV] END ....max_depth=8, max_features=1.0, n_estimators=700; total time=  33.7s\n",
      "[CV] END ...max_depth=8, max_features=sqrt, n_estimators=200; total time=   7.7s\n",
      "[CV] END ...max_depth=8, max_features=sqrt, n_estimators=200; total time=   7.6s\n",
      "[CV] END ...max_depth=8, max_features=sqrt, n_estimators=200; total time=   7.6s\n",
      "[CV] END ...max_depth=8, max_features=sqrt, n_estimators=200; total time=   7.8s\n",
      "[CV] END ...max_depth=8, max_features=sqrt, n_estimators=200; total time=   7.9s\n",
      "[CV] END ...max_depth=8, max_features=sqrt, n_estimators=700; total time=  27.6s\n",
      "[CV] END ...max_depth=8, max_features=sqrt, n_estimators=700; total time=  27.5s\n",
      "[CV] END ...max_depth=8, max_features=sqrt, n_estimators=700; total time=  27.2s\n",
      "[CV] END ...max_depth=8, max_features=sqrt, n_estimators=700; total time=  27.0s\n",
      "[CV] END ...max_depth=8, max_features=sqrt, n_estimators=700; total time=  27.1s\n",
      "[CV] END ...max_depth=8, max_features=log2, n_estimators=200; total time=   7.8s\n",
      "[CV] END ...max_depth=8, max_features=log2, n_estimators=200; total time=   8.1s\n",
      "[CV] END ...max_depth=8, max_features=log2, n_estimators=200; total time=   9.0s\n",
      "[CV] END ...max_depth=8, max_features=log2, n_estimators=200; total time=   8.0s\n",
      "[CV] END ...max_depth=8, max_features=log2, n_estimators=200; total time=   8.5s\n",
      "[CV] END ...max_depth=8, max_features=log2, n_estimators=700; total time=  28.6s\n",
      "[CV] END ...max_depth=8, max_features=log2, n_estimators=700; total time=  29.4s\n",
      "[CV] END ...max_depth=8, max_features=log2, n_estimators=700; total time=  27.8s\n",
      "[CV] END ...max_depth=8, max_features=log2, n_estimators=700; total time=  27.4s\n",
      "[CV] END ...max_depth=8, max_features=log2, n_estimators=700; total time=  27.1s\n",
      "[CV] END ....max_depth=9, max_features=1.0, n_estimators=200; total time=  12.1s\n",
      "[CV] END ....max_depth=9, max_features=1.0, n_estimators=200; total time=  11.7s\n",
      "[CV] END ....max_depth=9, max_features=1.0, n_estimators=200; total time=  12.1s\n",
      "[CV] END ....max_depth=9, max_features=1.0, n_estimators=200; total time=  12.1s\n",
      "[CV] END ....max_depth=9, max_features=1.0, n_estimators=200; total time=  12.3s\n",
      "[CV] END ....max_depth=9, max_features=1.0, n_estimators=700; total time=  41.2s\n",
      "[CV] END ....max_depth=9, max_features=1.0, n_estimators=700; total time=  40.6s\n",
      "[CV] END ....max_depth=9, max_features=1.0, n_estimators=700; total time=  40.3s\n",
      "[CV] END ....max_depth=9, max_features=1.0, n_estimators=700; total time=  40.2s\n",
      "[CV] END ....max_depth=9, max_features=1.0, n_estimators=700; total time=  41.0s\n",
      "[CV] END ...max_depth=9, max_features=sqrt, n_estimators=200; total time=  10.7s\n",
      "[CV] END ...max_depth=9, max_features=sqrt, n_estimators=200; total time=  10.9s\n",
      "[CV] END ...max_depth=9, max_features=sqrt, n_estimators=200; total time=  10.9s\n",
      "[CV] END ...max_depth=9, max_features=sqrt, n_estimators=200; total time=  11.3s\n",
      "[CV] END ...max_depth=9, max_features=sqrt, n_estimators=200; total time=  10.7s\n",
      "[CV] END ...max_depth=9, max_features=sqrt, n_estimators=700; total time=  35.6s\n",
      "[CV] END ...max_depth=9, max_features=sqrt, n_estimators=700; total time=  35.5s\n",
      "[CV] END ...max_depth=9, max_features=sqrt, n_estimators=700; total time=  36.5s\n",
      "[CV] END ...max_depth=9, max_features=sqrt, n_estimators=700; total time=  35.9s\n",
      "[CV] END ...max_depth=9, max_features=sqrt, n_estimators=700; total time=  36.0s\n",
      "[CV] END ...max_depth=9, max_features=log2, n_estimators=200; total time=  10.7s\n",
      "[CV] END ...max_depth=9, max_features=log2, n_estimators=200; total time=  10.3s\n",
      "[CV] END ...max_depth=9, max_features=log2, n_estimators=200; total time=  10.8s\n",
      "[CV] END ...max_depth=9, max_features=log2, n_estimators=200; total time=  10.6s\n",
      "[CV] END ...max_depth=9, max_features=log2, n_estimators=200; total time=  10.4s\n",
      "[CV] END ...max_depth=9, max_features=log2, n_estimators=700; total time=  35.9s\n",
      "[CV] END ...max_depth=9, max_features=log2, n_estimators=700; total time=  35.8s\n",
      "[CV] END ...max_depth=9, max_features=log2, n_estimators=700; total time=  33.0s\n",
      "[CV] END ...max_depth=9, max_features=log2, n_estimators=700; total time=  33.5s\n",
      "[CV] END ...max_depth=9, max_features=log2, n_estimators=700; total time=  33.5s\n",
      "[CV] END ...max_depth=10, max_features=1.0, n_estimators=200; total time=  13.4s\n",
      "[CV] END ...max_depth=10, max_features=1.0, n_estimators=200; total time=  13.7s\n",
      "[CV] END ...max_depth=10, max_features=1.0, n_estimators=200; total time=  13.8s\n",
      "[CV] END ...max_depth=10, max_features=1.0, n_estimators=200; total time=  13.6s\n",
      "[CV] END ...max_depth=10, max_features=1.0, n_estimators=200; total time=  13.8s\n",
      "[CV] END ...max_depth=10, max_features=1.0, n_estimators=700; total time=  43.9s\n",
      "[CV] END ...max_depth=10, max_features=1.0, n_estimators=700; total time=  43.5s\n",
      "[CV] END ...max_depth=10, max_features=1.0, n_estimators=700; total time=  44.5s\n",
      "[CV] END ...max_depth=10, max_features=1.0, n_estimators=700; total time=  44.5s\n",
      "[CV] END ...max_depth=10, max_features=1.0, n_estimators=700; total time=  44.5s\n",
      "[CV] END ..max_depth=10, max_features=sqrt, n_estimators=200; total time=  13.6s\n",
      "[CV] END ..max_depth=10, max_features=sqrt, n_estimators=200; total time=  13.2s\n",
      "[CV] END ..max_depth=10, max_features=sqrt, n_estimators=200; total time=  11.7s\n",
      "[CV] END ..max_depth=10, max_features=sqrt, n_estimators=200; total time=  12.0s\n",
      "[CV] END ..max_depth=10, max_features=sqrt, n_estimators=200; total time=  12.0s\n",
      "[CV] END ..max_depth=10, max_features=sqrt, n_estimators=700; total time=  39.4s\n",
      "[CV] END ..max_depth=10, max_features=sqrt, n_estimators=700; total time=  39.4s\n",
      "[CV] END ..max_depth=10, max_features=sqrt, n_estimators=700; total time=  39.1s\n",
      "[CV] END ..max_depth=10, max_features=sqrt, n_estimators=700; total time=  40.3s\n",
      "[CV] END ..max_depth=10, max_features=sqrt, n_estimators=700; total time=  39.5s\n",
      "[CV] END ..max_depth=10, max_features=log2, n_estimators=200; total time=  12.0s\n",
      "[CV] END ..max_depth=10, max_features=log2, n_estimators=200; total time=  12.2s\n",
      "[CV] END ..max_depth=10, max_features=log2, n_estimators=200; total time=  12.6s\n",
      "[CV] END ..max_depth=10, max_features=log2, n_estimators=200; total time=  12.0s\n",
      "[CV] END ..max_depth=10, max_features=log2, n_estimators=200; total time=  11.9s\n",
      "[CV] END ..max_depth=10, max_features=log2, n_estimators=700; total time=  39.1s\n",
      "[CV] END ..max_depth=10, max_features=log2, n_estimators=700; total time=  38.7s\n",
      "[CV] END ..max_depth=10, max_features=log2, n_estimators=700; total time=  39.3s\n",
      "[CV] END ..max_depth=10, max_features=log2, n_estimators=700; total time=  39.9s\n",
      "[CV] END ..max_depth=10, max_features=log2, n_estimators=700; total time=  39.8s\n"
     ]
    },
    {
     "data": {
      "text/html": [
       "<style>#sk-container-id-1 {color: black;background-color: white;}#sk-container-id-1 pre{padding: 0;}#sk-container-id-1 div.sk-toggleable {background-color: white;}#sk-container-id-1 label.sk-toggleable__label {cursor: pointer;display: block;width: 100%;margin-bottom: 0;padding: 0.3em;box-sizing: border-box;text-align: center;}#sk-container-id-1 label.sk-toggleable__label-arrow:before {content: \"▸\";float: left;margin-right: 0.25em;color: #696969;}#sk-container-id-1 label.sk-toggleable__label-arrow:hover:before {color: black;}#sk-container-id-1 div.sk-estimator:hover label.sk-toggleable__label-arrow:before {color: black;}#sk-container-id-1 div.sk-toggleable__content {max-height: 0;max-width: 0;overflow: hidden;text-align: left;background-color: #f0f8ff;}#sk-container-id-1 div.sk-toggleable__content pre {margin: 0.2em;color: black;border-radius: 0.25em;background-color: #f0f8ff;}#sk-container-id-1 input.sk-toggleable__control:checked~div.sk-toggleable__content {max-height: 200px;max-width: 100%;overflow: auto;}#sk-container-id-1 input.sk-toggleable__control:checked~label.sk-toggleable__label-arrow:before {content: \"▾\";}#sk-container-id-1 div.sk-estimator input.sk-toggleable__control:checked~label.sk-toggleable__label {background-color: #d4ebff;}#sk-container-id-1 div.sk-label input.sk-toggleable__control:checked~label.sk-toggleable__label {background-color: #d4ebff;}#sk-container-id-1 input.sk-hidden--visually {border: 0;clip: rect(1px 1px 1px 1px);clip: rect(1px, 1px, 1px, 1px);height: 1px;margin: -1px;overflow: hidden;padding: 0;position: absolute;width: 1px;}#sk-container-id-1 div.sk-estimator {font-family: monospace;background-color: #f0f8ff;border: 1px dotted black;border-radius: 0.25em;box-sizing: border-box;margin-bottom: 0.5em;}#sk-container-id-1 div.sk-estimator:hover {background-color: #d4ebff;}#sk-container-id-1 div.sk-parallel-item::after {content: \"\";width: 100%;border-bottom: 1px solid gray;flex-grow: 1;}#sk-container-id-1 div.sk-label:hover label.sk-toggleable__label {background-color: #d4ebff;}#sk-container-id-1 div.sk-serial::before {content: \"\";position: absolute;border-left: 1px solid gray;box-sizing: border-box;top: 0;bottom: 0;left: 50%;z-index: 0;}#sk-container-id-1 div.sk-serial {display: flex;flex-direction: column;align-items: center;background-color: white;padding-right: 0.2em;padding-left: 0.2em;position: relative;}#sk-container-id-1 div.sk-item {position: relative;z-index: 1;}#sk-container-id-1 div.sk-parallel {display: flex;align-items: stretch;justify-content: center;background-color: white;position: relative;}#sk-container-id-1 div.sk-item::before, #sk-container-id-1 div.sk-parallel-item::before {content: \"\";position: absolute;border-left: 1px solid gray;box-sizing: border-box;top: 0;bottom: 0;left: 50%;z-index: -1;}#sk-container-id-1 div.sk-parallel-item {display: flex;flex-direction: column;z-index: 1;position: relative;background-color: white;}#sk-container-id-1 div.sk-parallel-item:first-child::after {align-self: flex-end;width: 50%;}#sk-container-id-1 div.sk-parallel-item:last-child::after {align-self: flex-start;width: 50%;}#sk-container-id-1 div.sk-parallel-item:only-child::after {width: 0;}#sk-container-id-1 div.sk-dashed-wrapped {border: 1px dashed gray;margin: 0 0.4em 0.5em 0.4em;box-sizing: border-box;padding-bottom: 0.4em;background-color: white;}#sk-container-id-1 div.sk-label label {font-family: monospace;font-weight: bold;display: inline-block;line-height: 1.2em;}#sk-container-id-1 div.sk-label-container {text-align: center;}#sk-container-id-1 div.sk-container {/* jupyter's `normalize.less` sets `[hidden] { display: none; }` but bootstrap.min.css set `[hidden] { display: none !important; }` so we also need the `!important` here to be able to override the default hidden behavior on the sphinx rendered scikit-learn.org. See: https://github.com/scikit-learn/scikit-learn/issues/21755 */display: inline-block !important;position: relative;}#sk-container-id-1 div.sk-text-repr-fallback {display: none;}</style><div id=\"sk-container-id-1\" class=\"sk-top-container\"><div class=\"sk-text-repr-fallback\"><pre>GridSearchCV(cv=5, estimator=GradientBoostingClassifier(),\n",
       "             param_grid={&#x27;max_depth&#x27;: [2, 3, 4, 5, 6, 7, 8, 9, 10],\n",
       "                         &#x27;max_features&#x27;: [1.0, &#x27;sqrt&#x27;, &#x27;log2&#x27;],\n",
       "                         &#x27;n_estimators&#x27;: [200, 700]},\n",
       "             verbose=2)</pre><b>In a Jupyter environment, please rerun this cell to show the HTML representation or trust the notebook. <br />On GitHub, the HTML representation is unable to render, please try loading this page with nbviewer.org.</b></div><div class=\"sk-container\" hidden><div class=\"sk-item sk-dashed-wrapped\"><div class=\"sk-label-container\"><div class=\"sk-label sk-toggleable\"><input class=\"sk-toggleable__control sk-hidden--visually\" id=\"sk-estimator-id-1\" type=\"checkbox\" ><label for=\"sk-estimator-id-1\" class=\"sk-toggleable__label sk-toggleable__label-arrow\">GridSearchCV</label><div class=\"sk-toggleable__content\"><pre>GridSearchCV(cv=5, estimator=GradientBoostingClassifier(),\n",
       "             param_grid={&#x27;max_depth&#x27;: [2, 3, 4, 5, 6, 7, 8, 9, 10],\n",
       "                         &#x27;max_features&#x27;: [1.0, &#x27;sqrt&#x27;, &#x27;log2&#x27;],\n",
       "                         &#x27;n_estimators&#x27;: [200, 700]},\n",
       "             verbose=2)</pre></div></div></div><div class=\"sk-parallel\"><div class=\"sk-parallel-item\"><div class=\"sk-item\"><div class=\"sk-label-container\"><div class=\"sk-label sk-toggleable\"><input class=\"sk-toggleable__control sk-hidden--visually\" id=\"sk-estimator-id-2\" type=\"checkbox\" ><label for=\"sk-estimator-id-2\" class=\"sk-toggleable__label sk-toggleable__label-arrow\">estimator: GradientBoostingClassifier</label><div class=\"sk-toggleable__content\"><pre>GradientBoostingClassifier()</pre></div></div></div><div class=\"sk-serial\"><div class=\"sk-item\"><div class=\"sk-estimator sk-toggleable\"><input class=\"sk-toggleable__control sk-hidden--visually\" id=\"sk-estimator-id-3\" type=\"checkbox\" ><label for=\"sk-estimator-id-3\" class=\"sk-toggleable__label sk-toggleable__label-arrow\">GradientBoostingClassifier</label><div class=\"sk-toggleable__content\"><pre>GradientBoostingClassifier()</pre></div></div></div></div></div></div></div></div></div></div>"
      ],
      "text/plain": [
       "GridSearchCV(cv=5, estimator=GradientBoostingClassifier(),\n",
       "             param_grid={'max_depth': [2, 3, 4, 5, 6, 7, 8, 9, 10],\n",
       "                         'max_features': [1.0, 'sqrt', 'log2'],\n",
       "                         'n_estimators': [200, 700]},\n",
       "             verbose=2)"
      ]
     },
     "execution_count": 26,
     "metadata": {},
     "output_type": "execute_result"
    }
   ],
   "source": [
    "param_grid = {\n",
    "    'n_estimators': [200, 700],\n",
    "    'max_features': [1.0, 'sqrt', 'log2'],\n",
    "    'max_depth': [2, 3, 4, 5, 6, 7, 8, 9, 10]\n",
    "}\n",
    "grid = GridSearchCV(GradientBoostingClassifier(),param_grid,refit=True,verbose=2,cv=5)\n",
    "grid.fit(X_train,y_train)"
   ]
  },
  {
   "cell_type": "code",
   "execution_count": 27,
   "metadata": {},
   "outputs": [
    {
     "data": {
      "text/plain": [
       "{'max_depth': 3, 'max_features': 'sqrt', 'n_estimators': 200}"
      ]
     },
     "execution_count": 27,
     "metadata": {},
     "output_type": "execute_result"
    }
   ],
   "source": [
    "grid.best_params_"
   ]
  },
  {
   "cell_type": "code",
   "execution_count": 28,
   "metadata": {
    "scrolled": true
   },
   "outputs": [],
   "source": [
    "classifier = GradientBoostingClassifier(max_depth=2, max_features='log2', n_estimators=700).fit(X_train, y_train)\n",
    "y_pred = classifier.predict(X_test)"
   ]
  },
  {
   "cell_type": "code",
   "execution_count": 29,
   "metadata": {
    "scrolled": true
   },
   "outputs": [
    {
     "data": {
      "text/plain": [
       "duration    0.688544\n",
       "previous    0.137184\n",
       "housing     0.112456\n",
       "campaign    0.035151\n",
       "loan        0.023780\n",
       "default     0.002883\n",
       "dtype: float64"
      ]
     },
     "execution_count": 29,
     "metadata": {},
     "output_type": "execute_result"
    }
   ],
   "source": [
    "feature_scores = pd.Series(classifier.feature_importances_, index=['housing','loan','default','duration','previous','campaign']).sort_values(ascending=False)\n",
    "feature_scores"
   ]
  },
  {
   "cell_type": "code",
   "execution_count": 30,
   "metadata": {},
   "outputs": [
    {
     "data": {
      "image/png": "[encoded data removed]",
      "text/plain": [
       "<Figure size 640x480 with 1 Axes>"
      ]
     },
     "metadata": {},
     "output_type": "display_data"
    }
   ],
   "source": [
    "sns.barplot(x=feature_scores, y=feature_scores.index)\n",
    "plt.xlabel('Feature Importance Score')\n",
    "plt.ylabel('Features')\n",
    "plt.title(\"Visualizing Important Features\")\n",
    "plt.show()"
   ]
  },
  {
   "cell_type": "code",
   "execution_count": 31,
   "metadata": {},
   "outputs": [
    {
     "name": "stdout",
     "output_type": "stream",
     "text": [
      "Confusion matrix, without normalization\n",
      "[[800 229]\n",
      " [189 898]]\n",
      "Normalized confusion matrix\n",
      "[[0.77745384 0.22254616]\n",
      " [0.17387305 0.82612695]]\n"
     ]
    },
    {
     "data": {
      "image/png": "[encoded data removed]",
      "text/plain": [
       "<Figure size 640x480 with 2 Axes>"
      ]
     },
     "metadata": {},
     "output_type": "display_data"
    },
    {
     "data": {
      "image/png": "[encoded data removed]",
      "text/plain": [
       "<Figure size 640x480 with 2 Axes>"
      ]
     },
     "metadata": {},
     "output_type": "display_data"
    }
   ],
   "source": [
    "titles_options = [(\"Confusion matrix, without normalization\", None),\n",
    "                  (\"Normalized confusion matrix\", 'true')]\n",
    "cm = confusion_matrix(y_test, y_pred)\n",
    "\n",
    "for title, normalize in titles_options:\n",
    "    disp = ConfusionMatrixDisplay(confusion_matrix=cm, display_labels=classifier.classes_)\n",
    "    if normalize:\n",
    "        cm_normalized = cm.astype('float') / cm.sum(axis=1)[:, np.newaxis]\n",
    "        disp = ConfusionMatrixDisplay(confusion_matrix=cm_normalized, display_labels=classifier.classes_)\n",
    "        disp = disp.plot(cmap=plt.cm.Blues, values_format='.2f', xticks_rotation='vertical')\n",
    "    else:\n",
    "        disp = disp.plot(cmap=plt.cm.Blues, values_format='d', xticks_rotation='vertical')\n",
    "\n",
    "    disp.ax_.set_title(title)\n",
    "\n",
    "    print(title)\n",
    "    print(cm if not normalize else cm_normalized)\n",
    "\n",
    "plt.show()"
   ]
  },
  {
   "cell_type": "code",
   "execution_count": 32,
   "metadata": {},
   "outputs": [
    {
     "data": {
      "text/plain": [
       "array([[0.06763341, 0.93236659],\n",
       "       [0.17716975, 0.82283025],\n",
       "       [0.72227559, 0.27772441],\n",
       "       [0.07643045, 0.92356955],\n",
       "       [0.24118162, 0.75881838]])"
      ]
     },
     "execution_count": 32,
     "metadata": {},
     "output_type": "execute_result"
    }
   ],
   "source": [
    "y_pred_prob = classifier.predict_proba(X_test)\n",
    "y_pred_prob[0:5]"
   ]
  },
  {
   "cell_type": "code",
   "execution_count": 33,
   "metadata": {},
   "outputs": [
    {
     "data": {
      "text/plain": [
       "0.876120562563309"
      ]
     },
     "execution_count": 33,
     "metadata": {},
     "output_type": "execute_result"
    }
   ],
   "source": [
    "false_positive_rate, true_positive_rate, thresholds = roc_curve(y_test, y_pred_prob[:,1])\n",
    "roc_auc = auc(false_positive_rate, true_positive_rate)\n",
    "roc_auc"
   ]
  },
  {
   "cell_type": "code",
   "execution_count": 34,
   "metadata": {},
   "outputs": [
    {
     "data": {
      "image/png": "[encoded data removed]",
      "text/plain": [
       "<Figure size 640x480 with 1 Axes>"
      ]
     },
     "metadata": {},
     "output_type": "display_data"
    }
   ],
   "source": [
    "plt.title('Receiver Operating Characteristic')\n",
    "plt.plot(false_positive_rate,true_positive_rate, color='red',label = 'AUC = %0.2f' % roc_auc)\n",
    "plt.legend(loc = 'lower right')\n",
    "plt.plot([0, 1], [0, 1],linestyle='--')\n",
    "plt.axis('tight')\n",
    "plt.ylabel('True Positive Rate')\n",
    "plt.xlabel('False Positive Rate')\n",
    "plt.show()"
   ]
  },
  {
   "cell_type": "code",
   "execution_count": 35,
   "metadata": {},
   "outputs": [
    {
     "name": "stdout",
     "output_type": "stream",
     "text": [
      "              precision    recall  f1-score   support\n",
      "\n",
      "           0       0.81      0.78      0.79      1029\n",
      "           1       0.80      0.83      0.81      1087\n",
      "\n",
      "    accuracy                           0.80      2116\n",
      "   macro avg       0.80      0.80      0.80      2116\n",
      "weighted avg       0.80      0.80      0.80      2116\n",
      "\n"
     ]
    }
   ],
   "source": [
    "print(classification_report(y_test, y_pred))"
   ]
  },
  {
   "cell_type": "code",
   "execution_count": 38,
   "metadata": {},
   "outputs": [
    {
     "data": {
      "text/html": [
       "<div>\n",
       "<style scoped>\n",
       "    .dataframe tbody tr th:only-of-type {\n",
       "        vertical-align: middle;\n",
       "    }\n",
       "\n",
       "    .dataframe tbody tr th {\n",
       "        vertical-align: top;\n",
       "    }\n",
       "\n",
       "    .dataframe thead th {\n",
       "        text-align: right;\n",
       "    }\n",
       "</style>\n",
       "<table border=\"1\" class=\"dataframe\">\n",
       "  <thead>\n",
       "    <tr style=\"text-align: right;\">\n",
       "      <th></th>\n",
       "      <th>c_housing</th>\n",
       "      <th>c_loan</th>\n",
       "      <th>c_default</th>\n",
       "      <th>duration</th>\n",
       "      <th>previous</th>\n",
       "      <th>campaign</th>\n",
       "      <th>Target</th>\n",
       "      <th>Target_Pred</th>\n",
       "      <th>Target_Pred_Prob_0</th>\n",
       "      <th>Target_Pred_Prob_1</th>\n",
       "    </tr>\n",
       "  </thead>\n",
       "  <tbody>\n",
       "    <tr>\n",
       "      <th>0</th>\n",
       "      <td>-0.949512</td>\n",
       "      <td>-0.393381</td>\n",
       "      <td>-0.117893</td>\n",
       "      <td>-0.332574</td>\n",
       "      <td>0.062612</td>\n",
       "      <td>-0.564943</td>\n",
       "      <td>1</td>\n",
       "      <td>1</td>\n",
       "      <td>0.067633</td>\n",
       "      <td>0.932367</td>\n",
       "    </tr>\n",
       "    <tr>\n",
       "      <th>1</th>\n",
       "      <td>-0.949512</td>\n",
       "      <td>-0.393381</td>\n",
       "      <td>-0.117893</td>\n",
       "      <td>0.624597</td>\n",
       "      <td>-0.365356</td>\n",
       "      <td>-0.564943</td>\n",
       "      <td>1</td>\n",
       "      <td>1</td>\n",
       "      <td>0.177170</td>\n",
       "      <td>0.822830</td>\n",
       "    </tr>\n",
       "    <tr>\n",
       "      <th>2</th>\n",
       "      <td>-0.949512</td>\n",
       "      <td>-0.393381</td>\n",
       "      <td>-0.117893</td>\n",
       "      <td>-0.656407</td>\n",
       "      <td>-0.365356</td>\n",
       "      <td>-0.191987</td>\n",
       "      <td>0</td>\n",
       "      <td>0</td>\n",
       "      <td>0.722276</td>\n",
       "      <td>0.277724</td>\n",
       "    </tr>\n",
       "    <tr>\n",
       "      <th>3</th>\n",
       "      <td>-0.949512</td>\n",
       "      <td>-0.393381</td>\n",
       "      <td>-0.117893</td>\n",
       "      <td>1.541647</td>\n",
       "      <td>-0.365356</td>\n",
       "      <td>-0.564943</td>\n",
       "      <td>1</td>\n",
       "      <td>1</td>\n",
       "      <td>0.076430</td>\n",
       "      <td>0.923570</td>\n",
       "    </tr>\n",
       "    <tr>\n",
       "      <th>4</th>\n",
       "      <td>1.053173</td>\n",
       "      <td>-0.393381</td>\n",
       "      <td>-0.117893</td>\n",
       "      <td>0.071501</td>\n",
       "      <td>0.918548</td>\n",
       "      <td>-0.564943</td>\n",
       "      <td>1</td>\n",
       "      <td>1</td>\n",
       "      <td>0.241182</td>\n",
       "      <td>0.758818</td>\n",
       "    </tr>\n",
       "    <tr>\n",
       "      <th>5</th>\n",
       "      <td>1.053173</td>\n",
       "      <td>-0.393381</td>\n",
       "      <td>-0.117893</td>\n",
       "      <td>-1.014630</td>\n",
       "      <td>-0.365356</td>\n",
       "      <td>-0.564943</td>\n",
       "      <td>0</td>\n",
       "      <td>0</td>\n",
       "      <td>0.982302</td>\n",
       "      <td>0.017698</td>\n",
       "    </tr>\n",
       "    <tr>\n",
       "      <th>6</th>\n",
       "      <td>1.053173</td>\n",
       "      <td>-0.393381</td>\n",
       "      <td>-0.117893</td>\n",
       "      <td>1.607560</td>\n",
       "      <td>0.918548</td>\n",
       "      <td>-0.564943</td>\n",
       "      <td>1</td>\n",
       "      <td>1</td>\n",
       "      <td>0.044301</td>\n",
       "      <td>0.955699</td>\n",
       "    </tr>\n",
       "    <tr>\n",
       "      <th>7</th>\n",
       "      <td>-0.949512</td>\n",
       "      <td>-0.393381</td>\n",
       "      <td>-0.117893</td>\n",
       "      <td>-0.905730</td>\n",
       "      <td>-0.365356</td>\n",
       "      <td>-0.191987</td>\n",
       "      <td>0</td>\n",
       "      <td>0</td>\n",
       "      <td>0.892929</td>\n",
       "      <td>0.107071</td>\n",
       "    </tr>\n",
       "    <tr>\n",
       "      <th>8</th>\n",
       "      <td>-0.949512</td>\n",
       "      <td>-0.393381</td>\n",
       "      <td>-0.117893</td>\n",
       "      <td>0.590208</td>\n",
       "      <td>-0.365356</td>\n",
       "      <td>-0.191987</td>\n",
       "      <td>0</td>\n",
       "      <td>1</td>\n",
       "      <td>0.212136</td>\n",
       "      <td>0.787864</td>\n",
       "    </tr>\n",
       "    <tr>\n",
       "      <th>9</th>\n",
       "      <td>-0.949512</td>\n",
       "      <td>-0.393381</td>\n",
       "      <td>-0.117893</td>\n",
       "      <td>-0.478729</td>\n",
       "      <td>-0.365356</td>\n",
       "      <td>-0.564943</td>\n",
       "      <td>1</td>\n",
       "      <td>1</td>\n",
       "      <td>0.311701</td>\n",
       "      <td>0.688299</td>\n",
       "    </tr>\n",
       "  </tbody>\n",
       "</table>\n",
       "</div>"
      ],
      "text/plain": [
       "   c_housing    c_loan  c_default  duration  previous  campaign  Target  \\\n",
       "0  -0.949512 -0.393381  -0.117893 -0.332574  0.062612 -0.564943       1   \n",
       "1  -0.949512 -0.393381  -0.117893  0.624597 -0.365356 -0.564943       1   \n",
       "2  -0.949512 -0.393381  -0.117893 -0.656407 -0.365356 -0.191987       0   \n",
       "3  -0.949512 -0.393381  -0.117893  1.541647 -0.365356 -0.564943       1   \n",
       "4   1.053173 -0.393381  -0.117893  0.071501  0.918548 -0.564943       1   \n",
       "5   1.053173 -0.393381  -0.117893 -1.014630 -0.365356 -0.564943       0   \n",
       "6   1.053173 -0.393381  -0.117893  1.607560  0.918548 -0.564943       1   \n",
       "7  -0.949512 -0.393381  -0.117893 -0.905730 -0.365356 -0.191987       0   \n",
       "8  -0.949512 -0.393381  -0.117893  0.590208 -0.365356 -0.191987       0   \n",
       "9  -0.949512 -0.393381  -0.117893 -0.478729 -0.365356 -0.564943       1   \n",
       "\n",
       "   Target_Pred  Target_Pred_Prob_0  Target_Pred_Prob_1  \n",
       "0            1            0.067633            0.932367  \n",
       "1            1            0.177170            0.822830  \n",
       "2            0            0.722276            0.277724  \n",
       "3            1            0.076430            0.923570  \n",
       "4            1            0.241182            0.758818  \n",
       "5            0            0.982302            0.017698  \n",
       "6            1            0.044301            0.955699  \n",
       "7            0            0.892929            0.107071  \n",
       "8            1            0.212136            0.787864  \n",
       "9            1            0.311701            0.688299  "
      ]
     },
     "execution_count": 38,
     "metadata": {},
     "output_type": "execute_result"
    }
   ],
   "source": [
    "dataf_combined = pd.concat([pd.DataFrame(X_test),pd.DataFrame(y_test),pd.DataFrame(y_pred),pd.DataFrame(y_pred_prob)],axis=1)\n",
    "dataf_combined.columns = ['c_housing','c_loan','c_default','duration','previous','campaign','Target','Target_Pred','Target_Pred_Prob_0','Target_Pred_Prob_1']\n",
    "dataf_combined.head(10)"
   ]
  },
  {
   "cell_type": "code",
   "execution_count": 39,
   "metadata": {},
   "outputs": [
    {
     "data": {
      "text/html": [
       "<div>\n",
       "<style scoped>\n",
       "    .dataframe tbody tr th:only-of-type {\n",
       "        vertical-align: middle;\n",
       "    }\n",
       "\n",
       "    .dataframe tbody tr th {\n",
       "        vertical-align: top;\n",
       "    }\n",
       "\n",
       "    .dataframe thead th {\n",
       "        text-align: right;\n",
       "    }\n",
       "</style>\n",
       "<table border=\"1\" class=\"dataframe\">\n",
       "  <thead>\n",
       "    <tr style=\"text-align: right;\">\n",
       "      <th></th>\n",
       "      <th>c_housing</th>\n",
       "      <th>c_loan</th>\n",
       "      <th>c_default</th>\n",
       "      <th>duration</th>\n",
       "      <th>previous</th>\n",
       "      <th>campaign</th>\n",
       "      <th>Target</th>\n",
       "      <th>Target_Pred</th>\n",
       "      <th>Target_Pred_Prob_0</th>\n",
       "      <th>Target_Pred_Prob_1</th>\n",
       "    </tr>\n",
       "  </thead>\n",
       "  <tbody>\n",
       "    <tr>\n",
       "      <th>0</th>\n",
       "      <td>0.0</td>\n",
       "      <td>0.0</td>\n",
       "      <td>0.0</td>\n",
       "      <td>263.0</td>\n",
       "      <td>1.0</td>\n",
       "      <td>1.0</td>\n",
       "      <td>1</td>\n",
       "      <td>1</td>\n",
       "      <td>0.067633</td>\n",
       "      <td>0.932367</td>\n",
       "    </tr>\n",
       "    <tr>\n",
       "      <th>1</th>\n",
       "      <td>0.0</td>\n",
       "      <td>0.0</td>\n",
       "      <td>0.0</td>\n",
       "      <td>597.0</td>\n",
       "      <td>0.0</td>\n",
       "      <td>1.0</td>\n",
       "      <td>1</td>\n",
       "      <td>1</td>\n",
       "      <td>0.177170</td>\n",
       "      <td>0.822830</td>\n",
       "    </tr>\n",
       "    <tr>\n",
       "      <th>2</th>\n",
       "      <td>0.0</td>\n",
       "      <td>0.0</td>\n",
       "      <td>0.0</td>\n",
       "      <td>150.0</td>\n",
       "      <td>0.0</td>\n",
       "      <td>2.0</td>\n",
       "      <td>0</td>\n",
       "      <td>0</td>\n",
       "      <td>0.722276</td>\n",
       "      <td>0.277724</td>\n",
       "    </tr>\n",
       "    <tr>\n",
       "      <th>3</th>\n",
       "      <td>0.0</td>\n",
       "      <td>0.0</td>\n",
       "      <td>0.0</td>\n",
       "      <td>917.0</td>\n",
       "      <td>0.0</td>\n",
       "      <td>1.0</td>\n",
       "      <td>1</td>\n",
       "      <td>1</td>\n",
       "      <td>0.076430</td>\n",
       "      <td>0.923570</td>\n",
       "    </tr>\n",
       "    <tr>\n",
       "      <th>4</th>\n",
       "      <td>1.0</td>\n",
       "      <td>0.0</td>\n",
       "      <td>0.0</td>\n",
       "      <td>404.0</td>\n",
       "      <td>3.0</td>\n",
       "      <td>1.0</td>\n",
       "      <td>1</td>\n",
       "      <td>1</td>\n",
       "      <td>0.241182</td>\n",
       "      <td>0.758818</td>\n",
       "    </tr>\n",
       "    <tr>\n",
       "      <th>5</th>\n",
       "      <td>1.0</td>\n",
       "      <td>0.0</td>\n",
       "      <td>0.0</td>\n",
       "      <td>25.0</td>\n",
       "      <td>0.0</td>\n",
       "      <td>1.0</td>\n",
       "      <td>0</td>\n",
       "      <td>0</td>\n",
       "      <td>0.982302</td>\n",
       "      <td>0.017698</td>\n",
       "    </tr>\n",
       "    <tr>\n",
       "      <th>6</th>\n",
       "      <td>1.0</td>\n",
       "      <td>0.0</td>\n",
       "      <td>0.0</td>\n",
       "      <td>940.0</td>\n",
       "      <td>3.0</td>\n",
       "      <td>1.0</td>\n",
       "      <td>1</td>\n",
       "      <td>1</td>\n",
       "      <td>0.044301</td>\n",
       "      <td>0.955699</td>\n",
       "    </tr>\n",
       "    <tr>\n",
       "      <th>7</th>\n",
       "      <td>0.0</td>\n",
       "      <td>0.0</td>\n",
       "      <td>0.0</td>\n",
       "      <td>63.0</td>\n",
       "      <td>0.0</td>\n",
       "      <td>2.0</td>\n",
       "      <td>0</td>\n",
       "      <td>0</td>\n",
       "      <td>0.892929</td>\n",
       "      <td>0.107071</td>\n",
       "    </tr>\n",
       "    <tr>\n",
       "      <th>8</th>\n",
       "      <td>0.0</td>\n",
       "      <td>0.0</td>\n",
       "      <td>0.0</td>\n",
       "      <td>585.0</td>\n",
       "      <td>0.0</td>\n",
       "      <td>2.0</td>\n",
       "      <td>0</td>\n",
       "      <td>1</td>\n",
       "      <td>0.212136</td>\n",
       "      <td>0.787864</td>\n",
       "    </tr>\n",
       "    <tr>\n",
       "      <th>9</th>\n",
       "      <td>0.0</td>\n",
       "      <td>0.0</td>\n",
       "      <td>0.0</td>\n",
       "      <td>212.0</td>\n",
       "      <td>0.0</td>\n",
       "      <td>1.0</td>\n",
       "      <td>1</td>\n",
       "      <td>1</td>\n",
       "      <td>0.311701</td>\n",
       "      <td>0.688299</td>\n",
       "    </tr>\n",
       "  </tbody>\n",
       "</table>\n",
       "</div>"
      ],
      "text/plain": [
       "   c_housing  c_loan  c_default  duration  previous  campaign  Target  \\\n",
       "0        0.0     0.0        0.0     263.0       1.0       1.0       1   \n",
       "1        0.0     0.0        0.0     597.0       0.0       1.0       1   \n",
       "2        0.0     0.0        0.0     150.0       0.0       2.0       0   \n",
       "3        0.0     0.0        0.0     917.0       0.0       1.0       1   \n",
       "4        1.0     0.0        0.0     404.0       3.0       1.0       1   \n",
       "5        1.0     0.0        0.0      25.0       0.0       1.0       0   \n",
       "6        1.0     0.0        0.0     940.0       3.0       1.0       1   \n",
       "7        0.0     0.0        0.0      63.0       0.0       2.0       0   \n",
       "8        0.0     0.0        0.0     585.0       0.0       2.0       0   \n",
       "9        0.0     0.0        0.0     212.0       0.0       1.0       1   \n",
       "\n",
       "   Target_Pred  Target_Pred_Prob_0  Target_Pred_Prob_1  \n",
       "0            1            0.067633            0.932367  \n",
       "1            1            0.177170            0.822830  \n",
       "2            0            0.722276            0.277724  \n",
       "3            1            0.076430            0.923570  \n",
       "4            1            0.241182            0.758818  \n",
       "5            0            0.982302            0.017698  \n",
       "6            1            0.044301            0.955699  \n",
       "7            0            0.892929            0.107071  \n",
       "8            1            0.212136            0.787864  \n",
       "9            1            0.311701            0.688299  "
      ]
     },
     "execution_count": 39,
     "metadata": {},
     "output_type": "execute_result"
    }
   ],
   "source": [
    "df_original_features = pd.DataFrame(X_test, columns=['c_housing','c_loan','c_default','duration','previous','campaign'])\n",
    "df_original = pd.DataFrame(transformer.inverse_transform(df_original_features), columns=['c_housing','c_loan','c_default','duration','previous','campaign'])\n",
    "\n",
    "df_original[['Target','Target_Pred','Target_Pred_Prob_0','Target_Pred_Prob_1']] = dataf_combined[['Target','Target_Pred','Target_Pred_Prob_0','Target_Pred_Prob_1']]\n",
    "df_original.head(10)"
   ]
  },
  {
   "cell_type": "code",
   "execution_count": 41,
   "metadata": {},
   "outputs": [
    {
     "data": {
      "text/plain": [
       "0.2    0.115531\n",
       "0.4    0.370864\n",
       "0.6    0.680315\n",
       "0.8    0.866808\n",
       "Name: Target_Pred_Prob_1, dtype: float64"
      ]
     },
     "execution_count": 41,
     "metadata": {},
     "output_type": "execute_result"
    }
   ],
   "source": [
    "quantiles = df_original['Target_Pred_Prob_1'].quantile(q=[0.20,0.40,0.60,0.80])\n",
    "quantiles"
   ]
  },
  {
   "cell_type": "code",
   "execution_count": 42,
   "metadata": {},
   "outputs": [
    {
     "data": {
      "text/html": [
       "<div>\n",
       "<style scoped>\n",
       "    .dataframe tbody tr th:only-of-type {\n",
       "        vertical-align: middle;\n",
       "    }\n",
       "\n",
       "    .dataframe tbody tr th {\n",
       "        vertical-align: top;\n",
       "    }\n",
       "\n",
       "    .dataframe thead th {\n",
       "        text-align: right;\n",
       "    }\n",
       "</style>\n",
       "<table border=\"1\" class=\"dataframe\">\n",
       "  <thead>\n",
       "    <tr style=\"text-align: right;\">\n",
       "      <th></th>\n",
       "      <th>c_housing</th>\n",
       "      <th>c_loan</th>\n",
       "      <th>c_default</th>\n",
       "      <th>duration</th>\n",
       "      <th>previous</th>\n",
       "      <th>campaign</th>\n",
       "      <th>Target</th>\n",
       "      <th>Target_Pred</th>\n",
       "      <th>Target_Pred_Prob_0</th>\n",
       "      <th>Target_Pred_Prob_1</th>\n",
       "      <th>score</th>\n",
       "    </tr>\n",
       "  </thead>\n",
       "  <tbody>\n",
       "    <tr>\n",
       "      <th>0</th>\n",
       "      <td>0.0</td>\n",
       "      <td>0.0</td>\n",
       "      <td>0.0</td>\n",
       "      <td>263.0</td>\n",
       "      <td>1.0</td>\n",
       "      <td>1.0</td>\n",
       "      <td>1</td>\n",
       "      <td>1</td>\n",
       "      <td>0.067633</td>\n",
       "      <td>0.932367</td>\n",
       "      <td>Muy alto</td>\n",
       "    </tr>\n",
       "    <tr>\n",
       "      <th>1</th>\n",
       "      <td>0.0</td>\n",
       "      <td>0.0</td>\n",
       "      <td>0.0</td>\n",
       "      <td>597.0</td>\n",
       "      <td>0.0</td>\n",
       "      <td>1.0</td>\n",
       "      <td>1</td>\n",
       "      <td>1</td>\n",
       "      <td>0.177170</td>\n",
       "      <td>0.822830</td>\n",
       "      <td>Alto</td>\n",
       "    </tr>\n",
       "    <tr>\n",
       "      <th>2</th>\n",
       "      <td>0.0</td>\n",
       "      <td>0.0</td>\n",
       "      <td>0.0</td>\n",
       "      <td>150.0</td>\n",
       "      <td>0.0</td>\n",
       "      <td>2.0</td>\n",
       "      <td>0</td>\n",
       "      <td>0</td>\n",
       "      <td>0.722276</td>\n",
       "      <td>0.277724</td>\n",
       "      <td>Bajo</td>\n",
       "    </tr>\n",
       "    <tr>\n",
       "      <th>3</th>\n",
       "      <td>0.0</td>\n",
       "      <td>0.0</td>\n",
       "      <td>0.0</td>\n",
       "      <td>917.0</td>\n",
       "      <td>0.0</td>\n",
       "      <td>1.0</td>\n",
       "      <td>1</td>\n",
       "      <td>1</td>\n",
       "      <td>0.076430</td>\n",
       "      <td>0.923570</td>\n",
       "      <td>Muy alto</td>\n",
       "    </tr>\n",
       "    <tr>\n",
       "      <th>4</th>\n",
       "      <td>1.0</td>\n",
       "      <td>0.0</td>\n",
       "      <td>0.0</td>\n",
       "      <td>404.0</td>\n",
       "      <td>3.0</td>\n",
       "      <td>1.0</td>\n",
       "      <td>1</td>\n",
       "      <td>1</td>\n",
       "      <td>0.241182</td>\n",
       "      <td>0.758818</td>\n",
       "      <td>Alto</td>\n",
       "    </tr>\n",
       "    <tr>\n",
       "      <th>...</th>\n",
       "      <td>...</td>\n",
       "      <td>...</td>\n",
       "      <td>...</td>\n",
       "      <td>...</td>\n",
       "      <td>...</td>\n",
       "      <td>...</td>\n",
       "      <td>...</td>\n",
       "      <td>...</td>\n",
       "      <td>...</td>\n",
       "      <td>...</td>\n",
       "      <td>...</td>\n",
       "    </tr>\n",
       "    <tr>\n",
       "      <th>2111</th>\n",
       "      <td>1.0</td>\n",
       "      <td>0.0</td>\n",
       "      <td>0.0</td>\n",
       "      <td>144.0</td>\n",
       "      <td>0.0</td>\n",
       "      <td>5.0</td>\n",
       "      <td>0</td>\n",
       "      <td>0</td>\n",
       "      <td>0.959324</td>\n",
       "      <td>0.040676</td>\n",
       "      <td>Muy bajo</td>\n",
       "    </tr>\n",
       "    <tr>\n",
       "      <th>2112</th>\n",
       "      <td>1.0</td>\n",
       "      <td>0.0</td>\n",
       "      <td>0.0</td>\n",
       "      <td>56.0</td>\n",
       "      <td>0.0</td>\n",
       "      <td>3.0</td>\n",
       "      <td>0</td>\n",
       "      <td>0</td>\n",
       "      <td>0.995866</td>\n",
       "      <td>0.004134</td>\n",
       "      <td>Muy bajo</td>\n",
       "    </tr>\n",
       "    <tr>\n",
       "      <th>2113</th>\n",
       "      <td>0.0</td>\n",
       "      <td>0.0</td>\n",
       "      <td>0.0</td>\n",
       "      <td>327.0</td>\n",
       "      <td>0.0</td>\n",
       "      <td>1.0</td>\n",
       "      <td>1</td>\n",
       "      <td>1</td>\n",
       "      <td>0.268961</td>\n",
       "      <td>0.731039</td>\n",
       "      <td>Alto</td>\n",
       "    </tr>\n",
       "    <tr>\n",
       "      <th>2114</th>\n",
       "      <td>1.0</td>\n",
       "      <td>0.0</td>\n",
       "      <td>0.0</td>\n",
       "      <td>821.0</td>\n",
       "      <td>0.0</td>\n",
       "      <td>2.0</td>\n",
       "      <td>1</td>\n",
       "      <td>1</td>\n",
       "      <td>0.205092</td>\n",
       "      <td>0.794908</td>\n",
       "      <td>Alto</td>\n",
       "    </tr>\n",
       "    <tr>\n",
       "      <th>2115</th>\n",
       "      <td>0.0</td>\n",
       "      <td>0.0</td>\n",
       "      <td>0.0</td>\n",
       "      <td>421.0</td>\n",
       "      <td>1.0</td>\n",
       "      <td>2.0</td>\n",
       "      <td>0</td>\n",
       "      <td>1</td>\n",
       "      <td>0.095032</td>\n",
       "      <td>0.904968</td>\n",
       "      <td>Muy alto</td>\n",
       "    </tr>\n",
       "  </tbody>\n",
       "</table>\n",
       "<p>2116 rows × 11 columns</p>\n",
       "</div>"
      ],
      "text/plain": [
       "      c_housing  c_loan  c_default  duration  previous  campaign  Target  \\\n",
       "0           0.0     0.0        0.0     263.0       1.0       1.0       1   \n",
       "1           0.0     0.0        0.0     597.0       0.0       1.0       1   \n",
       "2           0.0     0.0        0.0     150.0       0.0       2.0       0   \n",
       "3           0.0     0.0        0.0     917.0       0.0       1.0       1   \n",
       "4           1.0     0.0        0.0     404.0       3.0       1.0       1   \n",
       "...         ...     ...        ...       ...       ...       ...     ...   \n",
       "2111        1.0     0.0        0.0     144.0       0.0       5.0       0   \n",
       "2112        1.0     0.0        0.0      56.0       0.0       3.0       0   \n",
       "2113        0.0     0.0        0.0     327.0       0.0       1.0       1   \n",
       "2114        1.0     0.0        0.0     821.0       0.0       2.0       1   \n",
       "2115        0.0     0.0        0.0     421.0       1.0       2.0       0   \n",
       "\n",
       "      Target_Pred  Target_Pred_Prob_0  Target_Pred_Prob_1     score  \n",
       "0               1            0.067633            0.932367  Muy alto  \n",
       "1               1            0.177170            0.822830      Alto  \n",
       "2               0            0.722276            0.277724      Bajo  \n",
       "3               1            0.076430            0.923570  Muy alto  \n",
       "4               1            0.241182            0.758818      Alto  \n",
       "...           ...                 ...                 ...       ...  \n",
       "2111            0            0.959324            0.040676  Muy bajo  \n",
       "2112            0            0.995866            0.004134  Muy bajo  \n",
       "2113            1            0.268961            0.731039      Alto  \n",
       "2114            1            0.205092            0.794908      Alto  \n",
       "2115            1            0.095032            0.904968  Muy alto  \n",
       "\n",
       "[2116 rows x 11 columns]"
      ]
     },
     "execution_count": 42,
     "metadata": {},
     "output_type": "execute_result"
    }
   ],
   "source": [
    "def asignar_categoria(valor):\n",
    "    if valor <= quantiles.iloc[0]:\n",
    "        return 'Muy bajo'\n",
    "    elif valor <= quantiles.iloc[1]:\n",
    "        return 'Bajo'\n",
    "    elif valor <= quantiles.iloc[2]:\n",
    "        return 'Medio'\n",
    "    elif valor <= quantiles.iloc[3]:\n",
    "        return 'Alto'\n",
    "    else:\n",
    "        return 'Muy alto'\n",
    "\n",
    "df_original['score'] = df_original['Target_Pred_Prob_1'].apply(asignar_categoria)\n",
    "df_original"
   ]
  }
 ],
 "metadata": {
  "kernelspec": {
   "display_name": "Python 3",
   "language": "python",
   "name": "python3"
  },
  "language_info": {
   "codemirror_mode": {
    "name": "ipython",
    "version": 3
   },
   "file_extension": ".py",
   "mimetype": "text/x-python",
   "name": "python",
   "nbconvert_exporter": "python",
   "pygments_lexer": "ipython3",
   "version": "3.11.4"
  }
 },
 "nbformat": 4,
 "nbformat_minor": 4
}
